{
 "cells": [
  {
   "cell_type": "code",
   "execution_count": 2,
   "metadata": {},
   "outputs": [
    {
     "ename": "NameError",
     "evalue": "name 'sys' is not defined",
     "output_type": "error",
     "traceback": [
      "\u001b[0;31m---------------------------------------------------------------------------\u001b[0m",
      "\u001b[0;31mNameError\u001b[0m                                 Traceback (most recent call last)",
      "\u001b[0;32m<ipython-input-2-67e84ed503a4>\u001b[0m in \u001b[0;36m<module>\u001b[0;34m()\u001b[0m\n\u001b[0;32m----> 1\u001b[0;31m \u001b[0msys\u001b[0m\u001b[0;34m.\u001b[0m\u001b[0mexecutable\u001b[0m\u001b[0;34m\u001b[0m\u001b[0m\n\u001b[0m",
      "\u001b[0;31mNameError\u001b[0m: name 'sys' is not defined"
     ]
    }
   ],
   "source": [
    "sys.executable"
   ]
  },
  {
   "cell_type": "code",
   "execution_count": 6,
   "metadata": {
    "scrolled": true
   },
   "outputs": [],
   "source": [
    "import os\n",
    "import json\n",
    "import pymongo\n",
    "#import musicbrainzngs\n",
    "import arrow\n",
    "import re\n",
    "from datetime import datetime\n",
    "from pymongo import MongoClient\n",
    "from collections import defaultdict, OrderedDict\n",
    "import csv\n",
    "\n",
    "from dateutil import parser\n",
    "from fuzzywuzzy import fuzz\n",
    "from fuzzywuzzy import process"
   ]
  },
  {
   "cell_type": "code",
   "execution_count": null,
   "metadata": {
    "scrolled": false
   },
   "outputs": [
    {
     "name": "stdout",
     "output_type": "stream",
     "text": [
      "  _____________________________\n",
      " |_couples_d'ARTISTES_de_dups__|\n",
      " |_NOM_|_SLUG_|nb_dates_|_mbid_|\n",
      "A|    Broken      | broken | 1 | None |\n",
      "B| BROKEN2 | broken2 | 1 | None |\n",
      "_______________________________\n",
      "A|    Broken      | broken | 2 | None |\n",
      "B| Broken | broken | 1 | 1189c81d-d276-45dd-9be0-1dc37e67e511 |\n",
      "_______________________________\n"
     ]
    }
   ],
   "source": [
    "###BEFORE RUNNING THIS ONE YOU SHOULD CLEAN YOUR MONGO DB OF artist strings starting with &, with + and such, or remove the JSon files first\"\n",
    "#example :db.getCollection('selectedArtists').find({\"_id\": /&.*/})\n",
    "#this needs to be done by hand\n",
    "\n",
    "##Variables\n",
    "DATETIME_FORMAT = '%Y-%m-%dT%H:%M:%S'\n",
    "# setup mongo\n",
    "client = MongoClient()\n",
    "db = client[\"bandstour\"]\n",
    "venues =  db[\"venues\"]\n",
    "artists =  db[\"selectedArtists\"]\n",
    "FUZZ_RATIO = 90 \n",
    "NB_remplacements = 0\n",
    "##input function\n",
    "##https://gist.github.com/hrouault/1358474\n",
    "def query_yes_no(question, default=\"yes\"):\n",
    "    \"\"\"Ask a yes/no question via raw_input() and return their answer.\n",
    "    \"question\" is a string that is presented to the user.\n",
    "    \"default\" is the presumed answer if the user just hits <Enter>.\n",
    "        It must be \"yes\" (the default), \"no\" or None (meaning\n",
    "        an answer is required of the user).\n",
    "    The \"answer\" return value is one of \"yes\" or \"no\".\n",
    "    \"\"\"\n",
    "    valid = {\"yes\":True,   \"y\":True,  \"ye\":True,\n",
    "             \"no\":False,     \"n\":False}\n",
    "    if default == None:\n",
    "        prompt = \" [y/n] \"\n",
    "    elif default == \"yes\":\n",
    "        prompt = \" [Y/n] \"\n",
    "    elif default == \"no\":\n",
    "        prompt = \" [y/N] \"\n",
    "    else:\n",
    "        raise ValueError(\"invalid default answer: '%s'\" % default)\n",
    "\n",
    "    while True:\n",
    "        sys.stdout.write(question + prompt)\n",
    "        choice = raw_input().lower()\n",
    "        if default is not None and choice == '':\n",
    "            return valid[default]\n",
    "        elif choice in valid:\n",
    "            return valid[choice]\n",
    "        else:\n",
    "            sys.stdout.write(\"Please respond with 'yes' or 'no' \"\\\n",
    "\"(or 'y' or 'n').\\n\")\n",
    "#Clean a string with regex\n",
    "def slugify(s):\n",
    "    \"\"\"\n",
    "    Simplifies ugly strings into something URL-friendly.\n",
    "    >>> print slugify(\"[Some] _ Article's Title--\")\n",
    "    some-articles-title\n",
    "    \"\"\"\n",
    "\n",
    "    s = re.sub('\\s+', ' ', s)\n",
    "    s = s.replace(' ', '-')\n",
    "\n",
    "    s = re.sub('\\W+', ' ', s)\n",
    "\n",
    "    s = s.strip()\n",
    "\n",
    "    s = s.lstrip()\n",
    "    s = re.sub('\\W+', '_', s)\n",
    "    return s\n",
    "\n",
    "#WE WANT TO LOOP OVER ARTISTS IN ORDER TO DEDUPLICATE THE RECORDS AND ASSIGN TOURS TO ONE ENTITY ONLY.\n",
    "#ex: \"   dede\" =add his dates to> \"dede\" who already has his.\n",
    "#in case there is an ambiguity, we will have to choose, at the end\n",
    "replacement_list =[]\n",
    "resultFile = open(\"outputartistdedup.csv\",'wb')\n",
    "wr = csv.writer(resultFile, dialect='excel')\n",
    "print \"  _____________________________\"\n",
    "print \" |_couples_d'ARTISTES_de_dups__|\"\n",
    "print \" |_NOM_|_SLUG_|nb_dates_|_mbid_|\"\n",
    "\n",
    "for artistA in artists.find({},no_cursor_timeout=True) :\n",
    "            #print \"AAAA  =>\", artistA[\"_id\"]\n",
    "            #print \"AAAA slug  =>\",slugify(artistA[\"_id\"]).lower()\n",
    "            \n",
    "            for artistB in artists.find({},no_cursor_timeout=True) :\n",
    "                if artistA[\"_id\"]==artistB[\"_id\"]:\n",
    "                    pass\n",
    "                elif (fuzz.ratio(\\\n",
    "                                        slugify(artistA[\"_id\"]).lower()\\\n",
    "                                        , slugify(artistB[\"_id\"]).lower()\\\n",
    "                                       ) > FUZZ_RATIO and len(artistA[\"gigs\"]) >= len(artistB[\"gigs\"])) :\n",
    "                    print \"A|\", artistA[\"_id\"],\"|\",slugify(artistA[\"_id\"]).lower(),\"|\",len(artistA[\"gigs\"]),\"|\",artistA[\"mbid\"],\"|\"\n",
    "                    print \"B|\", artistB[\"_id\"],\"|\",slugify(artistB[\"_id\"]).lower(),\"|\",len(artistB[\"gigs\"]),\"|\",artistB[\"mbid\"],\"|\"\n",
    "                    print \"_______________________________\"\n",
    "                    for gig in artistB[\"gigs\"]:\n",
    "                        artistA[\"gigs\"].append(gig)\n",
    "                        \n",
    "                    Aprime = artistA[\"gigs\"]\n",
    "                    #print Aprime\n",
    "                    Aprime2 = sorted(Aprime,key=lambda t: t[\"datetime\"].strftime(DATETIME_FORMAT))\n",
    "                    #print \"Aprime2\",Aprime2\n",
    "                    #BYPASS THE FOLLOWING LINE  WHEN THE SCRIPT IS MATURE\n",
    "                    #Answer_art= query_yes_no(\"MERGE \"+artistB[\"_id\"]+ \" WITH \"+ artistA[\"_id\"]+\" ?\" , default=\"no\")\n",
    "                    #print Answer_art\n",
    "                    Answer_art = True\n",
    "                    if Answer_art == True :\n",
    "                        artistA[\"gigs\"]=Aprime2\n",
    "                        #print artistA[\"gigs\"]\n",
    "                        replacement_list.append([artistA[\"_id\"],artistB[\"_id\"]])\n",
    "                        \n",
    "print \"DONE!\"\n",
    "for  replacement in replacement_list:\n",
    "    wr.writerow(replacement)\n",
    "resultFile.close()"
   ]
  },
  {
   "cell_type": "code",
   "execution_count": null,
   "metadata": {
    "collapsed": true
   },
   "outputs": [],
   "source": []
  }
 ],
 "metadata": {
  "kernelspec": {
   "display_name": "Python 2",
   "language": "python",
   "name": "python2"
  },
  "language_info": {
   "codemirror_mode": {
    "name": "ipython",
    "version": 2
   },
   "file_extension": ".py",
   "mimetype": "text/x-python",
   "name": "python",
   "nbconvert_exporter": "python",
   "pygments_lexer": "ipython2",
   "version": "2.7.13"
  }
 },
 "nbformat": 4,
 "nbformat_minor": 2
}
