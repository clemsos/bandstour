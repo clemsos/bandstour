{
 "cells": [
  {
   "cell_type": "code",
   "execution_count": 1,
   "metadata": {
    "collapsed": false
   },
   "outputs": [
    {
     "data": {
      "text/plain": [
       "'/home/goonieb/anaconda2/bin/python'"
      ]
     },
     "execution_count": 1,
     "metadata": {},
     "output_type": "execute_result"
    }
   ],
   "source": [
    "sys.executable"
   ]
  },
  {
   "cell_type": "code",
   "execution_count": 15,
   "metadata": {
    "collapsed": false,
    "scrolled": true
   },
   "outputs": [],
   "source": [
    "import os\n",
    "import json\n",
    "import pymongo\n",
    "import musicbrainzngs\n",
    "import arrow\n",
    "import re\n",
    "from datetime import datetime\n",
    "from pymongo import MongoClient\n",
    "from collections import defaultdict, OrderedDict\n",
    "\n",
    "from dateutil import parser\n",
    "from fuzzywuzzy import fuzz\n",
    "from fuzzywuzzy import process"
   ]
  },
  {
   "cell_type": "code",
   "execution_count": 17,
   "metadata": {
    "collapsed": false,
    "scrolled": false
   },
   "outputs": [
    {
     "ename": "SyntaxError",
     "evalue": "invalid syntax (<ipython-input-17-072143d4da6d>, line 63)",
     "output_type": "error",
     "traceback": [
      "\u001b[0;36m  File \u001b[0;32m\"<ipython-input-17-072143d4da6d>\"\u001b[0;36m, line \u001b[0;32m63\u001b[0m\n\u001b[0;31m    for venueB in venues.find({}{'id':1,'image_path':1,'_id':0},no_cursor_timeout=True) :\u001b[0m\n\u001b[0m                                ^\u001b[0m\n\u001b[0;31mSyntaxError\u001b[0m\u001b[0;31m:\u001b[0m invalid syntax\n"
     ]
    }
   ],
   "source": [
    "DATETIME_FORMAT = '%Y-%m-%dT%H:%M:%S'\n",
    "# setup mongo\n",
    "client = MongoClient()\n",
    "db = client[\"bandstour\"]\n",
    "venues =  db[\"selectedVenues\"]\n",
    "artists =  db[\"selectedArtists\"]\n",
    "\n",
    "def query_yes_no(question, default=\"yes\"):\n",
    "    \"\"\"Ask a yes/no question via raw_input() and return their answer.\n",
    "    \"question\" is a string that is presented to the user.\n",
    "    \"default\" is the presumed answer if the user just hits <Enter>.\n",
    "        It must be \"yes\" (the default), \"no\" or None (meaning\n",
    "        an answer is required of the user).\n",
    "    The \"answer\" return value is one of \"yes\" or \"no\".\n",
    "    \"\"\"\n",
    "    valid = {\"yes\":True,   \"y\":True,  \"ye\":True,\n",
    "             \"no\":False,     \"n\":False}\n",
    "    if default == None:\n",
    "        prompt = \" [y/n] \"\n",
    "    elif default == \"yes\":\n",
    "        prompt = \" [Y/n] \"\n",
    "    elif default == \"no\":\n",
    "        prompt = \" [y/N] \"\n",
    "    else:\n",
    "        raise ValueError(\"invalid default answer: '%s'\" % default)\n",
    "\n",
    "    while True:\n",
    "        sys.stdout.write(question + prompt)\n",
    "        choice = raw_input().lower()\n",
    "        if default is not None and choice == '':\n",
    "            return valid[default]\n",
    "        elif choice in valid:\n",
    "            return valid[choice]\n",
    "        else:\n",
    "            sys.stdout.write(\"Please respond with 'yes' or 'no' \"\\\n",
    "\"(or 'y' or 'n').\\n\")\n",
    "\n",
    "def slugify(s):\n",
    "    \"\"\"\n",
    "    Simplifies ugly strings into something URL-friendly.\n",
    "    >>> print slugify(\"[Some] _ Article's Title--\")\n",
    "    some-articles-title\n",
    "    \"\"\"\n",
    "\n",
    "    s = re.sub('\\s+', ' ', s)\n",
    "    s = s.replace(' ', '-')\n",
    "\n",
    "    s = re.sub('\\W+', ' ', s)\n",
    "\n",
    "    s = s.strip()\n",
    "\n",
    "    s = s.lstrip()\n",
    "    s = re.sub('\\W+', '_', s)\n",
    "    return s\n",
    "\n",
    "#WE WANT TO LOOP OVER ARTISTS IN ORDER TO DEDUPLICATE THE RECORDS AND ASSIGN TOURS TO ONE ENTITY ONLY.\n",
    "#ex: \"   dede\" =add his dates to> \"dede\" who already has his.\n",
    "#in case there is an ambiguity, we will have to choose\n",
    "for venueA in venues.find({},no_cursor_timeout=True) :\n",
    "    \n",
    "        \n",
    "            #print \"AAAA  =>\", venueA[\"_id\"]\n",
    "            #print \"AAAA slug  =>\",slugify(venueA[\"_id\"]).lower()\n",
    "            for venueB in venues.find({},no_cursor_timeout=True) :\n",
    "                if venueA[\"_id\"]==venueB[\"_id\"]:\n",
    "                    pass\n",
    "                elif (fuzz.ratio(\\\n",
    "                                        slugify(venueA[\"_id\"]).lower()\\\n",
    "                                        , slugify(venueB[\"_id\"]).lower()\\\n",
    "                                       ) > 95 and venueA[\"count\"] >= venueB[\"count\"]) :\n",
    "                    print \"AAAA  =>\", venueA[\"_id\"]\n",
    "                    print \"AAAA slug  =>\",slugify(venueA[\"_id\"]).lower()\n",
    "                    print \"AAAA gigs =>\", venueA[\"count\"]\n",
    "                    \n",
    "                    print \"BBBB  =>\",venueB[\"_id\"]\n",
    "                    print \"BBBB slug  =>\",slugify(venueB[\"_id\"]).lower()\n",
    "                    print \"BBBB gigs =>\", venueB[\"count\"]\n",
    "                    \n",
    "                    print \"_______________________________\"\n",
    "                    Answer_art= query_yes_no(\"MERGE \"+venueB[\"_id\"]+ \" WITH \"+ venueA[\"_id\"]+\" ?\" , default=\"no\")\n",
    "                    print Answer_art\n",
    "                    if Answer_art == True :\n",
    "                        for artist in artists.find():\n",
    "                            for gig   in artist[\"gigs\"]:\n",
    "                                if (gig[\"venue\"][\"name\"]==venueB[\"_id\"] and round(gig[\"venue\"][\"latitude\"],3)== round(venueB[\"latitude\"],3) and round(gig[\"venue\"][\"longitude\"],3)== round(venueB[\"longitude\"],3) ):\n",
    "                                    print artist , gig[\"venue\"][\"name\"]\n",
    "                                    #artists.update({\"_id\" :artistA[\"_id\"]}, artistA, upsert=True, multi=False)\n",
    "                                    #artists.remove({\"_id\" :artistB[\"_id\"]})\n",
    "                            \n",
    "                    "
   ]
  },
  {
   "cell_type": "code",
   "execution_count": null,
   "metadata": {
    "collapsed": true
   },
   "outputs": [],
   "source": []
  }
 ],
 "metadata": {
  "kernelspec": {
   "display_name": "Python 2",
   "language": "python",
   "name": "python2"
  },
  "language_info": {
   "codemirror_mode": {
    "name": "ipython",
    "version": 2
   },
   "file_extension": ".py",
   "mimetype": "text/x-python",
   "name": "python",
   "nbconvert_exporter": "python",
   "pygments_lexer": "ipython2",
   "version": "2.7.13"
  }
 },
 "nbformat": 4,
 "nbformat_minor": 2
}
