{
 "cells": [
  {
   "cell_type": "code",
   "execution_count": 1,
   "metadata": {
    "collapsed": false
   },
   "outputs": [
    {
     "data": {
      "text/plain": [
       "'/home/goonieb/anaconda2/bin/python'"
      ]
     },
     "execution_count": 1,
     "metadata": {},
     "output_type": "execute_result"
    }
   ],
   "source": [
    "sys.executable"
   ]
  },
  {
   "cell_type": "code",
   "execution_count": 8,
   "metadata": {
    "collapsed": false,
    "scrolled": true
   },
   "outputs": [],
   "source": [
    "import os\n",
    "import json\n",
    "import pymongo\n",
    "import musicbrainzngs\n",
    "import arrow\n",
    "import re\n",
    "from datetime import datetime\n",
    "from pymongo import MongoClient\n",
    "from collections import defaultdict, OrderedDict\n",
    "\n",
    "from dateutil import parser\n",
    "from fuzzywuzzy import fuzz\n",
    "from fuzzywuzzy import process"
   ]
  },
  {
   "cell_type": "code",
   "execution_count": 19,
   "metadata": {
    "collapsed": false,
    "scrolled": false
   },
   "outputs": [
    {
     "name": "stdout",
     "output_type": "stream",
     "text": [
      "AAAA  =>        Amy Kaiser, director\n",
      "AAAA slug  => amy_kaiser_director\n",
      "AAAA gigs => 2\n",
      "AAAA mbid => None\n",
      "BBBB  => Kaiserdisco\n",
      "BBBB slug  => kaiserdisco\n",
      "BBBB gigs => 2\n",
      "BBBB mbid => ac4840b8-dd65-48d1-9d4a-8db33b94c54a\n",
      "_______________________________\n",
      "Aprime2 [{u'venue': {u'city': u'Moissac', u'name': u'Trio Casadesus-Enhco', u'country': u'France', u'region': u'Occitanie', u'longitude': 1.08644, u'place': u'CHAPELLE DU SEMINAIRE', u'latitude': 44.10649}, u'datetime': datetime.datetime(2012, 6, 30, 18, 0)}, {u'venue': {u'city': u'Armentieres', u'name': u'Trio Casadesus-Enhco - Le Vivat - Armenti\\xe8res (59)', u'country': u'France', u'region': u'B4', u'longitude': 2.8833333, u'place': u'Trio Casadesus-Enhco - Le Vivat - Armenti\\xe8res (59)', u'latitude': 50.6833333}, u'datetime': datetime.datetime(2012, 10, 21, 17, 0)}, {u'venue': {u'city': u'Noumea', u'name': u'Auditorium - Conservatoire de Musique de la Nouvelle-Cal\\xe9donie', u'country': u'New Caledonia', u'region': u'Sud', u'longitude': 166.439079, u'place': u'Auditorium - Conservatoire de Musique de la Nouvelle-Cal\\xe9donie', u'latitude': -22.30296}, u'datetime': datetime.datetime(2012, 8, 9, 19, 0)}, {u'venue': {u'city': u'Capbreton', u'name': u'PARC DES SPORTS. SALLE N.PAILLOU', u'country': u'France', u'region': u'So1', u'longitude': -1.430501, u'place': u'PARC DES SPORTS. SALLE N.PAILLOU', u'latitude': 43.648746}, u'datetime': datetime.datetime(2012, 8, 18, 20, 0)}, {u'venue': {u'city': u'Noumea', u'name': u'Auditorium - Conservatoire de Musique de la Nouvelle-Cal\\xe9donie', u'country': u'New Caledonia', u'region': u'Sud', u'longitude': 166.439079, u'place': u'Auditorium - Conservatoire de Musique de la Nouvelle-Cal\\xe9donie', u'latitude': -22.30296}, u'datetime': datetime.datetime(2012, 8, 9, 19, 0)}, {u'venue': {u'city': u'Capbreton', u'name': u'PARC DES SPORTS. SALLE N.PAILLOU', u'country': u'France', u'region': u'So1', u'longitude': -1.430501, u'place': u'PARC DES SPORTS. SALLE N.PAILLOU', u'latitude': 43.648746}, u'datetime': datetime.datetime(2012, 8, 18, 20, 0)}, {u'venue': {u'city': u'Salt Lake City', u'name': u'The Shred Shed', u'country': u'United States', u'region': u'UT', u'longitude': -111.888946, u'place': u'The Shred Shed', u'latitude': 40.761398}, u'datetime': datetime.datetime(2014, 3, 9, 19, 0)}, {u'venue': {u'city': u'Mesa', u'name': u'LoFi', u'country': u'United States', u'region': u'AZ', u'longitude': -111.834517, u'place': u'LoFi', u'latitude': 33.414517}, u'datetime': datetime.datetime(2013, 12, 14, 17, 30)}, {u'venue': {u'city': u'Winsted', u'name': u'Winstock Country Music Festival', u'country': u'United States', u'region': u'MN', u'longitude': -94.0472222, u'place': u'Winstock Country Music Festival', u'latitude': 44.9638889}, u'datetime': datetime.datetime(2017, 6, 9, 16, 0)}, {u'venue': {u'city': u'London', u'name': u'The Lexington', u'country': u'United Kingdom', u'region': u'United Kingdom', u'longitude': -0.112082, u'place': u'The Lexington', u'latitude': 51.5316}, u'datetime': datetime.datetime(2017, 7, 2, 20, 0)}, {u'venue': {u'city': u'Nashville', u'name': u'Freakin Weekend VII', u'country': u'United States', u'region': u'TN', u'longitude': -86.804348, u'place': u'Ext/In', u'latitude': 36.151328}, u'datetime': datetime.datetime(2016, 3, 12, 19, 0)}]\n"
     ]
    },
    {
     "ename": "TypeError",
     "evalue": "append() takes exactly one argument (3 given)",
     "output_type": "error",
     "traceback": [
      "\u001b[0;31m---------------------------------------------------------------------------\u001b[0m",
      "\u001b[0;31mTypeError\u001b[0m                                 Traceback (most recent call last)",
      "\u001b[0;32m<ipython-input-19-ff168d2568e5>\u001b[0m in \u001b[0;36m<module>\u001b[0;34m()\u001b[0m\n\u001b[1;32m     87\u001b[0m                         \u001b[0martistA\u001b[0m\u001b[0;34m[\u001b[0m\u001b[0;34m\"gigs\"\u001b[0m\u001b[0;34m]\u001b[0m\u001b[0;34m=\u001b[0m\u001b[0mAprime2\u001b[0m\u001b[0;34m\u001b[0m\u001b[0m\n\u001b[1;32m     88\u001b[0m                         \u001b[0;31m#print artistA[\"gigs\"]\u001b[0m\u001b[0;34m\u001b[0m\u001b[0;34m\u001b[0m\u001b[0m\n\u001b[0;32m---> 89\u001b[0;31m                         \u001b[0mreplacement_list\u001b[0m\u001b[0;34m.\u001b[0m\u001b[0mappend\u001b[0m\u001b[0;34m(\u001b[0m\u001b[0martistA\u001b[0m\u001b[0;34m[\u001b[0m\u001b[0;34m\"_id\"\u001b[0m\u001b[0;34m]\u001b[0m\u001b[0;34m,\u001b[0m\u001b[0martistB\u001b[0m\u001b[0;34m[\u001b[0m\u001b[0;34m\"_id\"\u001b[0m\u001b[0;34m]\u001b[0m\u001b[0;34m,\u001b[0m\u001b[0martistA\u001b[0m\u001b[0;34m)\u001b[0m\u001b[0;34m\u001b[0m\u001b[0m\n\u001b[0m\u001b[1;32m     90\u001b[0m \u001b[0;34m\u001b[0m\u001b[0m\n\u001b[1;32m     91\u001b[0m \u001b[0;32mprint\u001b[0m \u001b[0;34m\"DONE!\"\u001b[0m\u001b[0;34m\u001b[0m\u001b[0m\n",
      "\u001b[0;31mTypeError\u001b[0m: append() takes exactly one argument (3 given)"
     ]
    }
   ],
   "source": [
    "DATETIME_FORMAT = '%Y-%m-%dT%H:%M:%S'\n",
    "# setup mongo\n",
    "client = MongoClient()\n",
    "db = client[\"bandstour\"]\n",
    "venues =  db[\"venues\"]\n",
    "artists =  db[\"selectedArtists\"]\n",
    "FUZZ_RATIO = 60\n",
    "\n",
    "def query_yes_no(question, default=\"yes\"):\n",
    "    \"\"\"Ask a yes/no question via raw_input() and return their answer.\n",
    "    \"question\" is a string that is presented to the user.\n",
    "    \"default\" is the presumed answer if the user just hits <Enter>.\n",
    "        It must be \"yes\" (the default), \"no\" or None (meaning\n",
    "        an answer is required of the user).\n",
    "    The \"answer\" return value is one of \"yes\" or \"no\".\n",
    "    \"\"\"\n",
    "    valid = {\"yes\":True,   \"y\":True,  \"ye\":True,\n",
    "             \"no\":False,     \"n\":False}\n",
    "    if default == None:\n",
    "        prompt = \" [y/n] \"\n",
    "    elif default == \"yes\":\n",
    "        prompt = \" [Y/n] \"\n",
    "    elif default == \"no\":\n",
    "        prompt = \" [y/N] \"\n",
    "    else:\n",
    "        raise ValueError(\"invalid default answer: '%s'\" % default)\n",
    "\n",
    "    while True:\n",
    "        sys.stdout.write(question + prompt)\n",
    "        choice = raw_input().lower()\n",
    "        if default is not None and choice == '':\n",
    "            return valid[default]\n",
    "        elif choice in valid:\n",
    "            return valid[choice]\n",
    "        else:\n",
    "            sys.stdout.write(\"Please respond with 'yes' or 'no' \"\\\n",
    "\"(or 'y' or 'n').\\n\")\n",
    "\n",
    "def slugify(s):\n",
    "    \"\"\"\n",
    "    Simplifies ugly strings into something URL-friendly.\n",
    "    >>> print slugify(\"[Some] _ Article's Title--\")\n",
    "    some-articles-title\n",
    "    \"\"\"\n",
    "\n",
    "    s = re.sub('\\s+', ' ', s)\n",
    "    s = s.replace(' ', '-')\n",
    "\n",
    "    s = re.sub('\\W+', ' ', s)\n",
    "\n",
    "    s = s.strip()\n",
    "\n",
    "    s = s.lstrip()\n",
    "    s = re.sub('\\W+', '_', s)\n",
    "    return s\n",
    "\n",
    "#WE WANT TO LOOP OVER ARTISTS IN ORDER TO DEDUPLICATE THE RECORDS AND ASSIGN TOURS TO ONE ENTITY ONLY.\n",
    "#ex: \"   dede\" =add his dates to> \"dede\" who already has his.\n",
    "#in case there is an ambiguity, we will have to choose\n",
    "replacement_list =[]\n",
    "\n",
    "for artistA in artists.find() :\n",
    "            #print \"AAAA  =>\", artistA[\"_id\"]\n",
    "            #print \"AAAA slug  =>\",slugify(artistA[\"_id\"]).lower()\n",
    "            for artistB in artists.find() :\n",
    "                if artistA[\"_id\"]==artistB[\"_id\"]:\n",
    "                    pass\n",
    "                elif (fuzz.ratio(\\\n",
    "                                        slugify(artistA[\"_id\"]).lower()\\\n",
    "                                        , slugify(artistB[\"_id\"]).lower()\\\n",
    "                                       ) > FUZZ_RATIO and len(artistA[\"gigs\"]) >= len(artistB[\"gigs\"])) :\n",
    "                    print \"AAAA  =>\", artistA[\"_id\"]\n",
    "                    print \"AAAA slug  =>\",slugify(artistA[\"_id\"]).lower()\n",
    "                    print \"AAAA gigs =>\", len(artistA[\"gigs\"])\n",
    "                    print \"AAAA mbid =>\", artistA[\"mbid\"]\n",
    "                    print \"BBBB  =>\",artistB[\"_id\"]\n",
    "                    print \"BBBB slug  =>\",slugify(artistB[\"_id\"]).lower()\n",
    "                    print \"BBBB gigs =>\", len(artistB[\"gigs\"])\n",
    "                    print \"BBBB mbid =>\", artistB[\"mbid\"]\n",
    "                    print \"_______________________________\"\n",
    "                    for gig in artistB[\"gigs\"]:\n",
    "                        artistA[\"gigs\"].append(gig)\n",
    "                    Aprime = artistA[\"gigs\"]\n",
    "                    #print Aprime\n",
    "                    #Aprime2 = sorted(Aprime,key=lambda t: t[\"datetime\"].strftime(DATETIME_FORMAT))\n",
    "                    print \"Aprime2\",Aprime2\n",
    "                    #Answer_art= query_yes_no(\"MERGE \"+artistB[\"_id\"]+ \" WITH \"+ artistA[\"_id\"]+\" ?\" , default=\"no\")\n",
    "                    #print Answer_art\n",
    "                    Answer_art = True\n",
    "                    if Answer_art == True :\n",
    "                        artistA[\"gigs\"]=Aprime2\n",
    "                        #print artistA[\"gigs\"]\n",
    "                        replacement_list.append([artistA[\"_id\"],artistB[\"_id\"],artistA])\n",
    "                        \n",
    "print \"DONE!\"\n",
    "for replacement in replacement_list:\n",
    "    print replacement\n",
    "    #artists.update({\"_id\" :replacement[0]}, replacement[2], upsert=True, multi=False)\n",
    "    #artists.remove({\"_id\" :replacement[1]})"
   ]
  },
  {
   "cell_type": "code",
   "execution_count": null,
   "metadata": {
    "collapsed": true
   },
   "outputs": [],
   "source": []
  }
 ],
 "metadata": {
  "kernelspec": {
   "display_name": "Python 2",
   "language": "python",
   "name": "python2"
  },
  "language_info": {
   "codemirror_mode": {
    "name": "ipython",
    "version": 2
   },
   "file_extension": ".py",
   "mimetype": "text/x-python",
   "name": "python",
   "nbconvert_exporter": "python",
   "pygments_lexer": "ipython2",
   "version": "2.7.13"
  }
 },
 "nbformat": 4,
 "nbformat_minor": 2
}
