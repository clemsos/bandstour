{
 "cells": [
  {
   "cell_type": "code",
   "execution_count": 1,
   "metadata": {
    "collapsed": false
   },
   "outputs": [
    {
     "data": {
      "text/plain": [
       "'/home/goonieb/anaconda2/bin/python'"
      ]
     },
     "execution_count": 1,
     "metadata": {},
     "output_type": "execute_result"
    }
   ],
   "source": [
    "sys.executable"
   ]
  },
  {
   "cell_type": "code",
   "execution_count": 8,
   "metadata": {
    "collapsed": false,
    "scrolled": true
   },
   "outputs": [],
   "source": [
    "import os\n",
    "import json\n",
    "import pymongo\n",
    "import musicbrainzngs\n",
    "import arrow\n",
    "import re\n",
    "from datetime import datetime\n",
    "from pymongo import MongoClient\n",
    "from collections import defaultdict, OrderedDict\n",
    "\n",
    "from dateutil import parser\n",
    "from fuzzywuzzy import fuzz\n",
    "from fuzzywuzzy import process"
   ]
  },
  {
   "cell_type": "code",
   "execution_count": 17,
   "metadata": {
    "collapsed": false,
    "scrolled": false
   },
   "outputs": [
    {
     "name": "stdout",
     "output_type": "stream",
     "text": [
      "NOT FOUND ONE\n"
     ]
    }
   ],
   "source": [
    "DATETIME_FORMAT = '%Y-%m-%dT%H:%M:%S'\n",
    "# setup mongo\n",
    "client = MongoClient()\n",
    "db = client[\"bandstour\"]\n",
    "venues =  db[\"venues\"]\n",
    "artists =  db[\"selectedArtists\"]\n",
    "\n",
    "def query_yes_no(question, default=\"yes\"):\n",
    "    \"\"\"Ask a yes/no question via raw_input() and return their answer.\n",
    "    \"question\" is a string that is presented to the user.\n",
    "    \"default\" is the presumed answer if the user just hits <Enter>.\n",
    "        It must be \"yes\" (the default), \"no\" or None (meaning\n",
    "        an answer is required of the user).\n",
    "    The \"answer\" return value is one of \"yes\" or \"no\".\n",
    "    \"\"\"\n",
    "    valid = {\"yes\":True,   \"y\":True,  \"ye\":True,\n",
    "             \"no\":False,     \"n\":False}\n",
    "    if default == None:\n",
    "        prompt = \" [y/n] \"\n",
    "    elif default == \"yes\":\n",
    "        prompt = \" [Y/n] \"\n",
    "    elif default == \"no\":\n",
    "        prompt = \" [y/N] \"\n",
    "    else:\n",
    "        raise ValueError(\"invalid default answer: '%s'\" % default)\n",
    "\n",
    "    while True:\n",
    "        sys.stdout.write(question + prompt)\n",
    "        choice = raw_input().lower()\n",
    "        if default is not None and choice == '':\n",
    "            return valid[default]\n",
    "        elif choice in valid:\n",
    "            return valid[choice]\n",
    "        else:\n",
    "            sys.stdout.write(\"Please respond with 'yes' or 'no' \"\\\n",
    "\"(or 'y' or 'n').\\n\")\n",
    "\n",
    "def slugify(s):\n",
    "    \"\"\"\n",
    "    Simplifies ugly strings into something URL-friendly.\n",
    "    >>> print slugify(\"[Some] _ Article's Title--\")\n",
    "    some-articles-title\n",
    "    \"\"\"\n",
    "\n",
    "    s = re.sub('\\s+', ' ', s)\n",
    "    s = s.replace(' ', '-')\n",
    "\n",
    "    s = re.sub('\\W+', ' ', s)\n",
    "\n",
    "    s = s.strip()\n",
    "\n",
    "    s = s.lstrip()\n",
    "    s = re.sub('\\W+', '_', s)\n",
    "    return s\n",
    "\n",
    "#WE WANT TO LOOP OVER ARTISTS IN ORDER TO DEDUPLICATE THE RECORDS AND ASSIGN TOURS TO ONE ENTITY ONLY.\n",
    "#ex: \"   dede\" =add his dates to> \"dede\" who already has his.\n",
    "#in case there is an ambiguity, we will have to choose\n",
    "try:\n",
    "    for artistA in artists.find() :\n",
    "\n",
    "\n",
    "                #print \"AAAA  =>\", artistA[\"_id\"]\n",
    "                #print \"AAAA slug  =>\",slugify(artistA[\"_id\"]).lower()\n",
    "                for artistB in artists.find() :\n",
    "                    if artistA[\"_id\"]==artistB[\"_id\"]:\n",
    "                        pass\n",
    "                    elif (fuzz.ratio(\\\n",
    "                                            slugify(artistA[\"_id\"]).lower()\\\n",
    "                                            , slugify(artistB[\"_id\"]).lower()\\\n",
    "                                           ) > 95 and len(artistA[\"gigs\"]) >= len(artistB[\"gigs\"])) :\n",
    "                        print \"AAAA  =>\", artistA[\"_id\"]\n",
    "                        print \"AAAA slug  =>\",slugify(artistA[\"_id\"]).lower()\n",
    "                        print \"AAAA gigs =>\", len(artistA[\"gigs\"])\n",
    "                        print \"AAAA mbid =>\", artistA[\"mbid\"]\n",
    "                        print \"BBBB  =>\",artistB[\"_id\"]\n",
    "                        print \"BBBB slug  =>\",slugify(artistB[\"_id\"]).lower()\n",
    "                        print \"BBBB gigs =>\", len(artistB[\"gigs\"])\n",
    "                        print \"BBBB mbid =>\", artistB[\"mbid\"]\n",
    "                        print \"_______________________________\"\n",
    "                        for gig in artistB[\"gigs\"]:\n",
    "                            artistA[\"gigs\"].append(gig)\n",
    "                        Aprime = artistA[\"gigs\"]\n",
    "                        #print Aprime\n",
    "\n",
    "                        #Aprime2 = sorted(Aprime,key=lambda t: t[\"datetime\"].strftime(DATETIME_FORMAT))\n",
    "\n",
    "\n",
    "                        print \"Aprime2\",Aprime2\n",
    "                        #Answer_art= query_yes_no(\"MERGE \"+artistB[\"_id\"]+ \" WITH \"+ artistA[\"_id\"]+\" ?\" , default=\"no\")\n",
    "                        #print Answer_art\n",
    "                        Answer_art = True\n",
    "                        if Answer_art == True :\n",
    "                            artistA[\"gigs\"]=Aprime2\n",
    "                            #print artistA[\"gigs\"]\n",
    "                            artists.update({\"_id\" :artistA[\"_id\"]}, artistA, upsert=True, multi=False)\n",
    "                            artists.remove({\"_id\" :artistB[\"_id\"]})\n",
    "\n",
    "    print \"DONE!\"\n",
    "except:\n",
    "    print \"NOT FOUND ONE\"\n",
    "    "
   ]
  },
  {
   "cell_type": "code",
   "execution_count": null,
   "metadata": {
    "collapsed": true
   },
   "outputs": [],
   "source": []
  }
 ],
 "metadata": {
  "kernelspec": {
   "display_name": "Python 2",
   "language": "python",
   "name": "python2"
  },
  "language_info": {
   "codemirror_mode": {
    "name": "ipython",
    "version": 2
   },
   "file_extension": ".py",
   "mimetype": "text/x-python",
   "name": "python",
   "nbconvert_exporter": "python",
   "pygments_lexer": "ipython2",
   "version": "2.7.13"
  }
 },
 "nbformat": 4,
 "nbformat_minor": 2
}
