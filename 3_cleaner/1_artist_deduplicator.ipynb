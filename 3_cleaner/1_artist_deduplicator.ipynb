{
 "cells": [
  {
   "cell_type": "code",
   "execution_count": 1,
   "metadata": {
    "collapsed": false
   },
   "outputs": [
    {
     "data": {
      "text/plain": [
       "'/home/goonieb/anaconda2/bin/python'"
      ]
     },
     "execution_count": 1,
     "metadata": {},
     "output_type": "execute_result"
    }
   ],
   "source": [
    "sys.executable"
   ]
  },
  {
   "cell_type": "code",
   "execution_count": 8,
   "metadata": {
    "collapsed": false,
    "scrolled": true
   },
   "outputs": [],
   "source": [
    "import os\n",
    "import json\n",
    "import pymongo\n",
    "import musicbrainzngs\n",
    "import arrow\n",
    "import re\n",
    "from datetime import datetime\n",
    "from pymongo import MongoClient\n",
    "from collections import defaultdict, OrderedDict\n",
    "\n",
    "from dateutil import parser\n",
    "from fuzzywuzzy import fuzz\n",
    "from fuzzywuzzy import process"
   ]
  },
  {
   "cell_type": "code",
   "execution_count": null,
   "metadata": {
    "collapsed": false,
    "scrolled": false
   },
   "outputs": [
    {
     "name": "stdout",
     "output_type": "stream",
     "text": [
      "AAAA  =>    Broken     \n",
      "AAAA slug  => broken\n",
      "AAAA gigs => 6\n",
      "AAAA mbid => None\n",
      "BBBB  => BROKEN2\n",
      "BBBB slug  => broken2\n",
      "BBBB gigs => 1\n",
      "BBBB mbid => None\n",
      "_______________________________\n",
      "Aprime2 [{u'venue': {u'city': u'Moissac', u'name': u'Trio Casadesus-Enhco', u'country': u'France', u'region': u'Occitanie', u'longitude': 1.08644, u'place': u'CHAPELLE DU SEMINAIRE', u'latitude': 44.10649}, u'datetime': datetime.datetime(2012, 6, 30, 18, 0)}, {u'venue': {u'city': u'Armentieres', u'name': u'Trio Casadesus-Enhco - Le Vivat - Armenti\\xe8res (59)', u'country': u'France', u'region': u'B4', u'longitude': 2.8833333, u'place': u'Trio Casadesus-Enhco - Le Vivat - Armenti\\xe8res (59)', u'latitude': 50.6833333}, u'datetime': datetime.datetime(2012, 10, 21, 17, 0)}, {u'venue': {u'city': u'Noumea', u'name': u'Auditorium - Conservatoire de Musique de la Nouvelle-Cal\\xe9donie', u'country': u'New Caledonia', u'region': u'Sud', u'longitude': 166.439079, u'place': u'Auditorium - Conservatoire de Musique de la Nouvelle-Cal\\xe9donie', u'latitude': -22.30296}, u'datetime': datetime.datetime(2012, 8, 9, 19, 0)}, {u'venue': {u'city': u'Capbreton', u'name': u'PARC DES SPORTS. SALLE N.PAILLOU', u'country': u'France', u'region': u'So1', u'longitude': -1.430501, u'place': u'PARC DES SPORTS. SALLE N.PAILLOU', u'latitude': 43.648746}, u'datetime': datetime.datetime(2012, 8, 18, 20, 0)}, {u'venue': {u'city': u'Noumea', u'name': u'Auditorium - Conservatoire de Musique de la Nouvelle-Cal\\xe9donie', u'country': u'New Caledonia', u'region': u'Sud', u'longitude': 166.439079, u'place': u'Auditorium - Conservatoire de Musique de la Nouvelle-Cal\\xe9donie', u'latitude': -22.30296}, u'datetime': datetime.datetime(2012, 8, 9, 19, 0)}, {u'venue': {u'city': u'Capbreton', u'name': u'PARC DES SPORTS. SALLE N.PAILLOU', u'country': u'France', u'region': u'So1', u'longitude': -1.430501, u'place': u'PARC DES SPORTS. SALLE N.PAILLOU', u'latitude': 43.648746}, u'datetime': datetime.datetime(2012, 8, 18, 20, 0)}, {u'venue': {u'city': u'Salt Lake City', u'name': u'The Shred Shed', u'country': u'United States', u'region': u'UT', u'longitude': -111.888946, u'place': u'The Shred Shed', u'latitude': 40.761398}, u'datetime': datetime.datetime(2014, 3, 9, 19, 0)}, {u'venue': {u'city': u'Mesa', u'name': u'LoFi', u'country': u'United States', u'region': u'AZ', u'longitude': -111.834517, u'place': u'LoFi', u'latitude': 33.414517}, u'datetime': datetime.datetime(2013, 12, 14, 17, 30)}, {u'venue': {u'city': u'Winsted', u'name': u'Winstock Country Music Festival', u'country': u'United States', u'region': u'MN', u'longitude': -94.0472222, u'place': u'Winstock Country Music Festival', u'latitude': 44.9638889}, u'datetime': datetime.datetime(2017, 6, 9, 16, 0)}, {u'venue': {u'city': u'London', u'name': u'The Lexington', u'country': u'United Kingdom', u'region': u'United Kingdom', u'longitude': -0.112082, u'place': u'The Lexington', u'latitude': 51.5316}, u'datetime': datetime.datetime(2017, 7, 2, 20, 0)}, {u'venue': {u'city': u'Nashville', u'name': u'Freakin Weekend VII', u'country': u'United States', u'region': u'TN', u'longitude': -86.804348, u'place': u'Ext/In', u'latitude': 36.151328}, u'datetime': datetime.datetime(2016, 3, 12, 19, 0)}, {u'venue': {u'city': u'Bulle', u'name': u'Ebullition', u'country': u'Switzerland', u'region': u'06', u'longitude': 7.0666667, u'place': u'Ebullition', u'latitude': 46.6166667}, u'datetime': datetime.datetime(2015, 2, 27, 21, 0)}, {u'venue': {u'city': u'Dallas', u'name': u'Curtain Club', u'country': u'United States', u'region': u'TX', u'longitude': -96.7831955, u'place': u'Curtain Club', u'latitude': 32.7837219}, u'datetime': datetime.datetime(2016, 4, 24, 19, 0)}, {u'venue': {u'city': u'Statesville', u'name': u'CHRISTmas ROCKS Tour', u'country': u'United States', u'region': u'NC', u'longitude': -80.889306, u'place': u'The Upper Room', u'latitude': 35.784186}, u'datetime': datetime.datetime(2014, 12, 13, 20, 0)}, {u'venue': {u'city': u'Union Grove', u'name': u'Union Chapel', u'country': u'United States', u'region': u'AL', u'longitude': -86.4858655, u'place': u'Union Chapel', u'latitude': 34.4003903}, u'datetime': datetime.datetime(2015, 8, 8, 19, 0)}, {u'venue': {u'city': u'Seattle', u'name': u'Club M', u'country': u'United States', u'region': u'WA', u'longitude': -122.3308333, u'place': u'Club M', u'latitude': 47.6063889}, u'datetime': datetime.datetime(2012, 4, 30, 19, 0)}, {u'venue': {u'city': u'Memphis', u'name': u'Java Cabana', u'country': u'United States', u'region': u'TN', u'longitude': -89.9898387, u'place': u'Java Cabana', u'latitude': 35.1197884}, u'datetime': datetime.datetime(2014, 6, 17, 19, 30)}, {u'venue': {u'city': u'Graz', u'name': u'Guest Room', u'country': u'Austria', u'region': u'Styria', u'longitude': 15.45134, u'place': u'Guest Room', u'latitude': 47.07501}, u'datetime': datetime.datetime(2017, 6, 1, 19, 0)}, {u'venue': {u'city': u'Pasadena', u'name': u'Old Towne Pub', u'country': u'United States', u'region': u'CA', u'longitude': -118.1500331, u'place': u'Old Towne Pub', u'latitude': 34.1476952}, u'datetime': datetime.datetime(2014, 12, 6, 21, 0)}, {u'venue': {u'city': u'Chicago', u'name': u'The Elbo Room', u'country': u'United States', u'region': u'IL', u'longitude': -87.660715, u'place': u'The Elbo Room', u'latitude': 41.934201}, u'datetime': datetime.datetime(2017, 6, 16, 19, 0)}, {u'venue': {u'city': u'Bulle', u'name': u'Ebullition', u'country': u'Switzerland', u'region': u'06', u'longitude': 7.0666667, u'place': u'Ebullition', u'latitude': 46.6166667}, u'datetime': datetime.datetime(2015, 2, 27, 21, 0)}, {u'venue': {u'city': u'Pataskala', u'name': u'Frontier Ranch', u'country': u'United States', u'region': u'OH', u'longitude': -82.6268997, u'place': u'Frontier Ranch', u'latitude': 39.9631004}, u'datetime': datetime.datetime(2015, 5, 7, 12, 0)}, {u'venue': {u'city': u'Franklin', u'name': u'Ohmstead Music Festival', u'country': u'United States', u'region': u'OH', u'longitude': -84.2695262, u'place': u'VFW campground', u'latitude': 39.5647287}, u'datetime': datetime.datetime(2015, 8, 21, 17, 0)}, {u'venue': {u'city': u'Franklin', u'name': u'Ohmstead Music Festival', u'country': u'United States', u'region': u'OH', u'longitude': -84.2695262, u'place': u'VFW CAMPGROUNDS', u'latitude': 39.5647287}, u'datetime': datetime.datetime(2015, 8, 22, 12, 0)}, {u'venue': {u'city': u'Spencer', u'name': u'Good Times Good People Music Festival', u'country': u'United States', u'region': u'IN', u'longitude': -86.905856, u'place': u'Stable Studios', u'latitude': 39.320631}, u'datetime': datetime.datetime(2016, 6, 11, 13, 0)}, {u'venue': {u'city': u'Guysville', u'name': u'Poston Lake Music Park', u'country': u'United States', u'region': u'OH', u'longitude': -81.907223, u'place': u'Poston Lake Music Park', u'latitude': 39.299975}, u'datetime': datetime.datetime(2016, 7, 29, 20, 0)}, {u'venue': {u'city': u'Garrettsville', u'name': u'Nelson Ledges Quarry Park', u'country': u'United States', u'region': u'OH', u'longitude': -81.035807, u'place': u'Nelson Ledges Quarry Park', u'latitude': 41.313682}, u'datetime': datetime.datetime(2016, 10, 21, 18, 0)}, {u'venue': {u'city': u'Covington', u'name': u'Madison Live', u'country': u'United States', u'region': u'KY', u'longitude': -84.509986, u'place': u'Madison Live', u'latitude': 39.083021}, u'datetime': datetime.datetime(2016, 12, 9, 21, 0)}, {u'venue': {u'city': u'Annapolis', u'name': u'Armadillos', u'country': u'United States', u'region': u'MD', u'longitude': -76.4861083, u'place': u'Armadillos', u'latitude': 38.9777092}, u'datetime': datetime.datetime(2016, 3, 11, 21, 30)}, {u'venue': {u'city': u'Holyoke', u'name': u'WATERFRONT TAVERN', u'country': u'United States', u'region': u'MA', u'longitude': -72.625412, u'place': u'WATERFRONT TAVERN', u'latitude': 42.1851654}, u'datetime': datetime.datetime(2015, 8, 16, 19, 0)}, {u'venue': {u'city': u'Iowa City', u'name': u'Public Space One', u'country': u'United States', u'region': u'IA', u'longitude': -91.532779, u'place': u'Public Space One', u'latitude': 41.663169}, u'datetime': datetime.datetime(2014, 8, 8, 19, 0)}, {u'venue': {u'city': u'Englewood', u'name': u'The Gothic Theatre', u'country': u'United States', u'region': u'CO', u'longitude': -104.987697, u'place': u'The Gothic Theatre', u'latitude': 39.657336}, u'datetime': datetime.datetime(2012, 8, 26, 20, 0)}, {u'venue': {u'city': u'Denver', u'name': u'The Church', u'country': u'United States', u'region': u'CO', u'longitude': -104.986086, u'place': u'The Church', u'latitude': 39.735063}, u'datetime': datetime.datetime(2012, 10, 4, 21, 30)}, {u'venue': {u'city': u'Denver', u'name': u\"Casselman's Bar and Venue\", u'country': u'United States', u'region': u'CO', u'longitude': -104.985663, u'place': u\"Casselman's Bar and Venue\", u'latitude': 39.759495}, u'datetime': datetime.datetime(2012, 10, 6, 18, 0)}, {u'venue': {u'city': u'Denver', u'name': u\"Herman's Hideaway\", u'country': u'United States', u'region': u'CO', u'longitude': -104.987351, u'place': u\"Herman's Hideaway\", u'latitude': 39.687973}, u'datetime': datetime.datetime(2013, 2, 28, 20, 0)}, {u'venue': {u'city': u'Denver', u'name': u'The Church', u'country': u'United States', u'region': u'CO', u'longitude': -104.986086, u'place': u'The Church', u'latitude': 39.735063}, u'datetime': datetime.datetime(2013, 5, 23, 21, 0)}, {u'venue': {u'city': u'Denver', u'name': u'Summit Music Hall', u'country': u'United States', u'region': u'CO', u'longitude': -104.995239, u'place': u'Summit Music Hall', u'latitude': 39.753367}, u'datetime': datetime.datetime(2016, 1, 29, 17, 0)}, {u'venue': {u'city': u'Denver', u'name': u'Pit Stop Tavern', u'country': u'United States', u'region': u'CO', u'longitude': -105.052475, u'place': u'Pit Stop Tavern', u'latitude': 39.7401047}, u'datetime': datetime.datetime(2016, 6, 24, 20, 0)}, {u'venue': {u'city': u'Denver', u'name': u'3 Kings Tavern', u'country': u'United States', u'region': u'CO', u'longitude': -104.98753, u'place': u'3 Kings Tavern', u'latitude': 39.715488}, u'datetime': datetime.datetime(2016, 7, 16, 22, 0)}, {u'venue': {u'city': u'Littleton', u'name': u'The Toad Tavern', u'country': u'United States', u'region': u'CO', u'longitude': -105.028173, u'place': u'The Toad Tavern', u'latitude': 39.619799}, u'datetime': datetime.datetime(2016, 7, 30, 20, 0)}, {u'venue': {u'city': u'Littleton', u'name': u'The Toad Tavern', u'country': u'United States', u'region': u'CO', u'longitude': -105.028173, u'place': u'The Toad Tavern', u'latitude': 39.619799}, u'datetime': datetime.datetime(2016, 8, 27, 20, 0)}, {u'venue': {u'city': u'Littleton', u'name': u'The Toad Tavern', u'country': u'United States', u'region': u'CO', u'longitude': -105.028173, u'place': u'The Toad Tavern', u'latitude': 39.619799}, u'datetime': datetime.datetime(2016, 9, 2, 20, 0)}, {u'venue': {u'city': u'Littleton', u'name': u'The Toad Tavern', u'country': u'United States', u'region': u'CO', u'longitude': -105.028173, u'place': u'The Toad Tavern', u'latitude': 39.619799}, u'datetime': datetime.datetime(2016, 10, 29, 19, 0)}, {u'venue': {u'city': u'Denver', u'name': u'Marquis Theater', u'country': u'United States', u'region': u'CO', u'longitude': -104.992523, u'place': u'Marquis Theater', u'latitude': 39.753207}, u'datetime': datetime.datetime(2017, 4, 22, 19, 0)}, {u'venue': {u'city': u'Denver', u'name': u'Black Sky Brewery', u'country': u'United States', u'region': u'CO', u'longitude': -104.998291, u'place': u'Black Sky Brewery', u'latitude': 39.7239304}, u'datetime': datetime.datetime(2017, 6, 11, 14, 0)}, {u'venue': {u'city': u'Brooklyn', u'name': u'Trash Bar', u'country': u'United States', u'region': u'NY', u'longitude': -73.958878, u'place': u'Trash Bar', u'latitude': 40.713242}, u'datetime': datetime.datetime(2013, 5, 20, 19, 0)}, {u'venue': {u'city': u'Denver', u'name': u'Bluebird Theater', u'country': u'United States', u'region': u'CO', u'longitude': -104.948382, u'place': u'Bluebird Theater', u'latitude': 39.7402806}, u'datetime': datetime.datetime(2017, 6, 24, 20, 0)}, {u'venue': {u'city': u'Chicago', u'name': u'Links Hall At Constellation', u'country': u'United States', u'region': u'IL', u'longitude': -87.687639, u'place': u'Links Hall At Constellation', u'latitude': 41.938101}, u'datetime': datetime.datetime(2013, 12, 13, 19, 0)}, {u'venue': {u'city': u'Chicago', u'name': u'Links Hall At Constellation', u'country': u'United States', u'region': u'IL', u'longitude': -87.687639, u'place': u'Links Hall At Constellation', u'latitude': 41.938101}, u'datetime': datetime.datetime(2013, 12, 14, 19, 0)}, {u'venue': {u'city': u'Chicago', u'name': u'Links Hall At Constellation', u'country': u'United States', u'region': u'IL', u'longitude': -87.687639, u'place': u'Links Hall At Constellation', u'latitude': 41.938101}, u'datetime': datetime.datetime(2013, 12, 15, 19, 0)}, {u'venue': {u'city': u'Austin', u'name': u'Come and Take It Live', u'country': u'United States', u'region': u'TX', u'longitude': -97.7281, u'place': u'Come and Take It Live', u'latitude': 30.240473}, u'datetime': datetime.datetime(2017, 7, 1, 20, 0)}, {u'venue': {u'city': u'Morrison', u'name': u'Red Rocks Ampitheatre', u'country': u'United States', u'region': u'CO', u'longitude': -105.205165, u'place': u'Red Rocks Ampitheatre', u'latitude': 39.665619}, u'datetime': datetime.datetime(2015, 5, 27, 19, 0)}, {u'venue': {u'city': u'Newcastle', u'name': u'Cluny 2', u'country': u'Australia', u'region': u'02', u'longitude': 151.75, u'place': u'Cluny 2', u'latitude': -32.9166667}, u'datetime': datetime.datetime(2014, 5, 6, 19, 0)}, {u'venue': {u'city': u'St Albans', u'name': u'The Horn', u'country': u'United Kingdom', u'region': None, u'longitude': -0.328994, u'place': u'The Horn', u'latitude': 51.750285}, u'datetime': datetime.datetime(2014, 5, 7, 20, 0)}, {u'venue': {u'city': u'Cambridge', u'name': u'The Portland Arms', u'country': u'United Kingdom', u'region': None, u'longitude': 0.124692, u'place': u'The Portland Arms', u'latitude': 52.214501}, u'datetime': datetime.datetime(2014, 5, 12, 19, 30)}, {u'venue': {u'city': u'Norwich', u'name': u'Waterfront Studio', u'country': u'United Kingdom', u'region': u'England', u'longitude': 1.244135, u'place': u'Waterfront Studio', u'latitude': 52.622145}, u'datetime': datetime.datetime(2014, 5, 13, 19, 30)}, {u'venue': {u'city': u'York', u'name': u'The Duchess', u'country': u'United Kingdom', u'region': None, u'longitude': -1.078081, u'place': u'The Duchess', u'latitude': 53.959253}, u'datetime': datetime.datetime(2014, 5, 14, 19, 30)}, {u'venue': {u'city': u'Hull', u'name': u'Adelphi', u'country': u'United Kingdom', u'region': None, u'longitude': -0.355601, u'place': u'Adelphi', u'latitude': 53.762318}, u'datetime': datetime.datetime(2014, 5, 15, 20, 0)}, {u'venue': {u'city': u'Sheffield', u'name': u'The Harley', u'country': u'United Kingdom', u'region': None, u'longitude': -1.48555, u'place': u'The Harley', u'latitude': 53.380373}, u'datetime': datetime.datetime(2014, 5, 17, 19, 30)}, {u'venue': {u'city': u'Birmingham', u'name': u'Hare and Hounds', u'country': u'United Kingdom', u'region': None, u'longitude': -1.89299, u'place': u'Hare and Hounds', u'latitude': 52.435848}, u'datetime': datetime.datetime(2014, 5, 18, 19, 30)}, {u'venue': {u'city': u'Leicester', u'name': u'The Musician', u'country': u'United Kingdom', u'region': None, u'longitude': -1.1261, u'place': u'The Musician', u'latitude': 52.6374}, u'datetime': datetime.datetime(2014, 5, 19, 20, 0)}, {u'venue': {u'city': u'Southampton', u'name': u'Joiners', u'country': u'United Kingdom', u'region': None, u'longitude': -1.39627, u'place': u'Joiners', u'latitude': 50.904364}, u'datetime': datetime.datetime(2014, 5, 20, 19, 30)}, {u'venue': {u'city': u'London', u'name': u'Islington Assembly Hall', u'country': u'United Kingdom', u'region': None, u'longitude': -0.10196, u'place': u'Islington Assembly Hall', u'latitude': 51.541642}, u'datetime': datetime.datetime(2014, 5, 29, 19, 0)}, {u'venue': {u'city': u'Houston', u'name': u'White Swan', u'country': u'United States', u'region': u'TX', u'longitude': -95.3264313, u'place': u'White Swan', u'latitude': 29.7520962}, u'datetime': datetime.datetime(2014, 6, 24, 19, 0)}, {u'venue': {u'city': u'Houston', u'name': u'White Swan', u'country': u'United States', u'region': u'TX', u'longitude': -95.3264313, u'place': u'White Swan', u'latitude': 29.7520962}, u'datetime': datetime.datetime(2014, 12, 29, 18, 0)}, {u'venue': {u'city': u'Atlanta', u'name': u'The House Party', u'country': u'United States', u'region': u'GA', u'longitude': -84.36509, u'place': u'The Hangar', u'latitude': 33.75826}, u'datetime': datetime.datetime(2015, 3, 21, 21, 0)}, {u'venue': {u'city': u'Myrtle Beach', u'name': u'Nerd bar', u'country': u'United States', u'region': u'SC', u'longitude': -78.8840637, u'place': u'Nerd bar', u'latitude': 33.6936378}, u'datetime': datetime.datetime(2015, 4, 3, 21, 0)}, {u'venue': {u'city': u'Southampton', u'name': u'Joiners', u'country': u'United Kingdom', u'region': None, u'longitude': -1.39627, u'place': u'Joiners', u'latitude': 50.904364}, u'datetime': datetime.datetime(2015, 1, 28, 19, 30, 29)}, {u'venue': {u'city': u'Manchester', u'name': u'Sound Control', u'country': u'United Kingdom', u'region': u'England', u'longitude': -2.240771, u'place': u'Sound Control', u'latitude': 53.473723}, u'datetime': datetime.datetime(2015, 1, 22, 19, 0)}, {u'venue': {u'city': u'Glasgow', u'name': u'Audio', u'country': u'United Kingdom', u'region': u'', u'longitude': -4.257834, u'place': u'Audio', u'latitude': 55.857482}, u'datetime': datetime.datetime(2015, 1, 23, 19, 0)}, {u'venue': {u'city': u'Leeds', u'name': u'Key Club', u'country': u'United Kingdom', u'region': u'H3', u'longitude': -1.5833333, u'place': u'Key Club', u'latitude': 53.8}, u'datetime': datetime.datetime(2015, 1, 24, 19, 0)}, {u'venue': {u'city': u'Birmingham', u'name': u'Asylym', u'country': u'United Kingdom', u'region': u'A7', u'longitude': -1.9166667, u'place': u'Asylym', u'latitude': 52.4666667}, u'datetime': datetime.datetime(2015, 1, 25, 19, 0)}, {u'venue': {u'city': u'Bristol', u'name': u'Exchange', u'country': u'United Kingdom', u'region': u'England', u'longitude': -2.591895, u'place': u'Exchange', u'latitude': 51.453686}, u'datetime': datetime.datetime(2015, 1, 26, 19, 0)}, {u'venue': {u'city': u'Nottingham', u'name': u'Rock City Basement', u'country': u'United Kingdom', u'region': u'England', u'longitude': -1.153665, u'place': u'Rock City Basement', u'latitude': 52.956332}, u'datetime': datetime.datetime(2015, 1, 27, 19, 0)}, {u'venue': {u'city': u'Southampton', u'name': u'Joiners', u'country': u'United Kingdom', u'region': None, u'longitude': -1.39627, u'place': u'Joiners', u'latitude': 50.904364}, u'datetime': datetime.datetime(2015, 1, 28, 19, 0)}, {u'venue': {u'city': u'London', u'name': u'Old Blue Last', u'country': u'United Kingdom', u'region': None, u'longitude': -0.080005, u'place': u'Old Blue Last', u'latitude': 51.524316}, u'datetime': datetime.datetime(2015, 1, 29, 19, 0)}, {u'venue': {u'city': u'Cardiff', u'name': u'CLWB Ifor Bach', u'country': u'United Kingdom', u'region': None, u'longitude': -3.181165, u'place': u'CLWB Ifor Bach', u'latitude': 51.480221}, u'datetime': datetime.datetime(2015, 1, 30, 19, 0)}, {u'venue': {u'city': u'Kristiansand', u'name': u'KICK Scene', u'country': u'Norway', u'region': u'Norway', u'longitude': 7.9953399, u'place': u'KICK Scene', u'latitude': 58.1438904}, u'datetime': datetime.datetime(2012, 10, 5, 19, 0)}]\n"
     ]
    }
   ],
   "source": [
    "DATETIME_FORMAT = '%Y-%m-%dT%H:%M:%S'\n",
    "# setup mongo\n",
    "client = MongoClient()\n",
    "db = client[\"bandstour\"]\n",
    "venues =  db[\"venues\"]\n",
    "artists =  db[\"selectedArtists\"]\n",
    "FUZZ_RATIO = 90\n",
    "\n",
    "def query_yes_no(question, default=\"yes\"):\n",
    "    \"\"\"Ask a yes/no question via raw_input() and return their answer.\n",
    "    \"question\" is a string that is presented to the user.\n",
    "    \"default\" is the presumed answer if the user just hits <Enter>.\n",
    "        It must be \"yes\" (the default), \"no\" or None (meaning\n",
    "        an answer is required of the user).\n",
    "    The \"answer\" return value is one of \"yes\" or \"no\".\n",
    "    \"\"\"\n",
    "    valid = {\"yes\":True,   \"y\":True,  \"ye\":True,\n",
    "             \"no\":False,     \"n\":False}\n",
    "    if default == None:\n",
    "        prompt = \" [y/n] \"\n",
    "    elif default == \"yes\":\n",
    "        prompt = \" [Y/n] \"\n",
    "    elif default == \"no\":\n",
    "        prompt = \" [y/N] \"\n",
    "    else:\n",
    "        raise ValueError(\"invalid default answer: '%s'\" % default)\n",
    "\n",
    "    while True:\n",
    "        sys.stdout.write(question + prompt)\n",
    "        choice = raw_input().lower()\n",
    "        if default is not None and choice == '':\n",
    "            return valid[default]\n",
    "        elif choice in valid:\n",
    "            return valid[choice]\n",
    "        else:\n",
    "            sys.stdout.write(\"Please respond with 'yes' or 'no' \"\\\n",
    "\"(or 'y' or 'n').\\n\")\n",
    "\n",
    "def slugify(s):\n",
    "    \"\"\"\n",
    "    Simplifies ugly strings into something URL-friendly.\n",
    "    >>> print slugify(\"[Some] _ Article's Title--\")\n",
    "    some-articles-title\n",
    "    \"\"\"\n",
    "\n",
    "    s = re.sub('\\s+', ' ', s)\n",
    "    s = s.replace(' ', '-')\n",
    "\n",
    "    s = re.sub('\\W+', ' ', s)\n",
    "\n",
    "    s = s.strip()\n",
    "\n",
    "    s = s.lstrip()\n",
    "    s = re.sub('\\W+', '_', s)\n",
    "    return s\n",
    "\n",
    "#WE WANT TO LOOP OVER ARTISTS IN ORDER TO DEDUPLICATE THE RECORDS AND ASSIGN TOURS TO ONE ENTITY ONLY.\n",
    "#ex: \"   dede\" =add his dates to> \"dede\" who already has his.\n",
    "#in case there is an ambiguity, we will have to choose\n",
    "replacement_list =[]\n",
    "\n",
    "for artistA in artists.find() :\n",
    "            #print \"AAAA  =>\", artistA[\"_id\"]\n",
    "            #print \"AAAA slug  =>\",slugify(artistA[\"_id\"]).lower()\n",
    "            for artistB in artists.find() :\n",
    "                if artistA[\"_id\"]==artistB[\"_id\"]:\n",
    "                    pass\n",
    "                elif (fuzz.ratio(\\\n",
    "                                        slugify(artistA[\"_id\"]).lower()\\\n",
    "                                        , slugify(artistB[\"_id\"]).lower()\\\n",
    "                                       ) > FUZZ_RATIO and len(artistA[\"gigs\"]) >= len(artistB[\"gigs\"])) :\n",
    "                    print \"AAAA  =>\", artistA[\"_id\"]\n",
    "                    print \"AAAA slug  =>\",slugify(artistA[\"_id\"]).lower()\n",
    "                    print \"AAAA gigs =>\", len(artistA[\"gigs\"])\n",
    "                    print \"AAAA mbid =>\", artistA[\"mbid\"]\n",
    "                    print \"BBBB  =>\",artistB[\"_id\"]\n",
    "                    print \"BBBB slug  =>\",slugify(artistB[\"_id\"]).lower()\n",
    "                    print \"BBBB gigs =>\", len(artistB[\"gigs\"])\n",
    "                    print \"BBBB mbid =>\", artistB[\"mbid\"]\n",
    "                    print \"_______________________________\"\n",
    "                    for gig in artistB[\"gigs\"]:\n",
    "                        artistA[\"gigs\"].append(gig)\n",
    "                    Aprime = artistA[\"gigs\"]\n",
    "                    #print Aprime\n",
    "                    #Aprime2 = sorted(Aprime,key=lambda t: t[\"datetime\"].strftime(DATETIME_FORMAT))\n",
    "                    print \"Aprime2\",Aprime2\n",
    "                    #Answer_art= query_yes_no(\"MERGE \"+artistB[\"_id\"]+ \" WITH \"+ artistA[\"_id\"]+\" ?\" , default=\"no\")\n",
    "                    #print Answer_art\n",
    "                    Answer_art = True\n",
    "                    if Answer_art == True :\n",
    "                        artistA[\"gigs\"]=Aprime2\n",
    "                        #print artistA[\"gigs\"]\n",
    "                        replacement_list.append([artistA[\"_id\"],artistB[\"_id\"],artistA])\n",
    "                        \n",
    "print \"DONE!\"\n",
    "for replacement in replacement_list:\n",
    "    print replacement\n",
    "    #artists.update({\"_id\" :replacement[0]}, replacement[2], upsert=True, multi=False)\n",
    "    #artists.remove({\"_id\" :replacement[1]})"
   ]
  },
  {
   "cell_type": "code",
   "execution_count": null,
   "metadata": {
    "collapsed": true
   },
   "outputs": [],
   "source": []
  }
 ],
 "metadata": {
  "kernelspec": {
   "display_name": "Python 2",
   "language": "python",
   "name": "python2"
  },
  "language_info": {
   "codemirror_mode": {
    "name": "ipython",
    "version": 2
   },
   "file_extension": ".py",
   "mimetype": "text/x-python",
   "name": "python",
   "nbconvert_exporter": "python",
   "pygments_lexer": "ipython2",
   "version": "2.7.13"
  }
 },
 "nbformat": 4,
 "nbformat_minor": 2
}
