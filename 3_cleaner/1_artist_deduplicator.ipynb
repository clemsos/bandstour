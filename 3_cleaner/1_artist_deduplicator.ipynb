{
 "cells": [
  {
   "cell_type": "code",
   "execution_count": 1,
   "metadata": {},
   "outputs": [
    {
     "data": {
      "text/plain": [
       "'/home/goonieb/anaconda2/bin/python'"
      ]
     },
     "execution_count": 1,
     "metadata": {},
     "output_type": "execute_result"
    }
   ],
   "source": [
    "sys.executable"
   ]
  },
  {
   "cell_type": "code",
   "execution_count": 23,
   "metadata": {
    "scrolled": true
   },
   "outputs": [],
   "source": [
    "import os\n",
    "import json\n",
    "import pymongo\n",
    "import musicbrainzngs\n",
    "import arrow\n",
    "import re\n",
    "from datetime import datetime\n",
    "from pymongo import MongoClient\n",
    "from collections import defaultdict, OrderedDict\n",
    "\n",
    "from dateutil import parser\n",
    "from fuzzywuzzy import fuzz\n",
    "from fuzzywuzzy import process"
   ]
  },
  {
   "cell_type": "code",
   "execution_count": 31,
   "metadata": {
    "scrolled": false
   },
   "outputs": [
    {
     "name": "stdout",
     "output_type": "stream",
     "text": [
      "  _____________________________\n",
      " |_couples_d'ARTISTES_de_dups__|\n",
      " |_NOM_|_SLUG_|nb_dates_|_mbid_|\n",
      "A|    Broken      | broken | 1 | None |\n",
      "B| BROKEN2 | broken2 | 1 | None |\n",
      "_______________________________\n",
      "A|    Broken      | broken | 2 | None |\n",
      "B| Broen | broen | 1 | None |\n",
      "_______________________________\n",
      "A|    Broken      | broken | 3 | None |\n",
      "B| Broken | broken | 1 | 1189c81d-d276-45dd-9be0-1dc37e67e511 |\n",
      "_______________________________\n",
      "A|  A Day to Remember | a_day_to_remember | 1 | None |\n",
      "B| A Day To Remeber | a_day_to_remeber | 1 | None |\n",
      "_______________________________\n",
      "A|  Adele Shraiman  | adele_shraiman | 1 | None |\n",
      "B| Adele Shraiman | adele_shraiman | 1 | None |\n",
      "_______________________________\n",
      "A|  Adestria, Erra | adestria_erra | 12 | None |\n",
      "B| Adestria, Erra | adestria_erra | 1 | None |\n",
      "_______________________________\n",
      "A|  Alabaster De Plume | alabaster_de_plume | 1 | None |\n",
      "B| Alabaster Deplume | alabaster_deplume | 1 | None |\n",
      "_______________________________\n",
      "A|  Alexis Raphael | alexis_raphael | 1 | None |\n",
      "B| Alexis Raphael | alexis_raphael | 1 | None |\n",
      "_______________________________\n",
      "A|  Betrayal | betrayal | 1 | None |\n",
      "B| Betrayl | betrayl | 1 | 1f2466d8-7202-4448-926c-e689f76cf0cc |\n",
      "_______________________________\n",
      "A|  Billy Woods | billy_woods | 1 | None |\n",
      "B| billy wood | billy_wood | 1 | None |\n",
      "_______________________________\n",
      "A|  Blackfoot Gypsies | blackfoot_gypsies | 2 | None |\n",
      "B| Blackfoot Gyspies | blackfoot_gyspies | 1 | None |\n",
      "_______________________________\n"
     ]
    },
    {
     "ename": "KeyboardInterrupt",
     "evalue": "",
     "output_type": "error",
     "traceback": [
      "\u001b[0;31m---------------------------------------------------------------------------\u001b[0m",
      "\u001b[0;31mKeyboardInterrupt\u001b[0m                         Traceback (most recent call last)",
      "\u001b[0;32m<ipython-input-31-d00e9ce5b209>\u001b[0m in \u001b[0;36m<module>\u001b[0;34m()\u001b[0m\n\u001b[1;32m     72\u001b[0m             \u001b[0;31m#print \"AAAA slug  =>\",slugify(artistA[\"_id\"]).lower()\u001b[0m\u001b[0;34m\u001b[0m\u001b[0;34m\u001b[0m\u001b[0m\n\u001b[1;32m     73\u001b[0m \u001b[0;34m\u001b[0m\u001b[0m\n\u001b[0;32m---> 74\u001b[0;31m             \u001b[0;32mfor\u001b[0m \u001b[0martistB\u001b[0m \u001b[0;32min\u001b[0m \u001b[0martists\u001b[0m\u001b[0;34m.\u001b[0m\u001b[0mfind\u001b[0m\u001b[0;34m(\u001b[0m\u001b[0;34m{\u001b[0m\u001b[0;34m}\u001b[0m\u001b[0;34m,\u001b[0m\u001b[0mno_cursor_timeout\u001b[0m\u001b[0;34m=\u001b[0m\u001b[0mTrue\u001b[0m\u001b[0;34m)\u001b[0m \u001b[0;34m:\u001b[0m\u001b[0;34m\u001b[0m\u001b[0m\n\u001b[0m\u001b[1;32m     75\u001b[0m                 \u001b[0;32mif\u001b[0m \u001b[0martistA\u001b[0m\u001b[0;34m[\u001b[0m\u001b[0;34m\"_id\"\u001b[0m\u001b[0;34m]\u001b[0m\u001b[0;34m==\u001b[0m\u001b[0martistB\u001b[0m\u001b[0;34m[\u001b[0m\u001b[0;34m\"_id\"\u001b[0m\u001b[0;34m]\u001b[0m\u001b[0;34m:\u001b[0m\u001b[0;34m\u001b[0m\u001b[0m\n\u001b[1;32m     76\u001b[0m                     \u001b[0;32mpass\u001b[0m\u001b[0;34m\u001b[0m\u001b[0m\n",
      "\u001b[0;32m/home/goonieb/anaconda2/lib/python2.7/site-packages/pymongo/cursor.pyc\u001b[0m in \u001b[0;36mnext\u001b[0;34m(self)\u001b[0m\n\u001b[1;32m   1112\u001b[0m             \u001b[0;32mraise\u001b[0m \u001b[0mStopIteration\u001b[0m\u001b[0;34m\u001b[0m\u001b[0m\n\u001b[1;32m   1113\u001b[0m         \u001b[0m_db\u001b[0m \u001b[0;34m=\u001b[0m \u001b[0mself\u001b[0m\u001b[0;34m.\u001b[0m\u001b[0m__collection\u001b[0m\u001b[0;34m.\u001b[0m\u001b[0mdatabase\u001b[0m\u001b[0;34m\u001b[0m\u001b[0m\n\u001b[0;32m-> 1114\u001b[0;31m         \u001b[0;32mif\u001b[0m \u001b[0mlen\u001b[0m\u001b[0;34m(\u001b[0m\u001b[0mself\u001b[0m\u001b[0;34m.\u001b[0m\u001b[0m__data\u001b[0m\u001b[0;34m)\u001b[0m \u001b[0;32mor\u001b[0m \u001b[0mself\u001b[0m\u001b[0;34m.\u001b[0m\u001b[0m_refresh\u001b[0m\u001b[0;34m(\u001b[0m\u001b[0;34m)\u001b[0m\u001b[0;34m:\u001b[0m\u001b[0;34m\u001b[0m\u001b[0m\n\u001b[0m\u001b[1;32m   1115\u001b[0m             \u001b[0;32mif\u001b[0m \u001b[0mself\u001b[0m\u001b[0;34m.\u001b[0m\u001b[0m__manipulate\u001b[0m\u001b[0;34m:\u001b[0m\u001b[0;34m\u001b[0m\u001b[0m\n\u001b[1;32m   1116\u001b[0m                 return _db._fix_outgoing(self.__data.popleft(),\n",
      "\u001b[0;32m/home/goonieb/anaconda2/lib/python2.7/site-packages/pymongo/cursor.pyc\u001b[0m in \u001b[0;36m_refresh\u001b[0;34m(self)\u001b[0m\n\u001b[1;32m   1054\u001b[0m                                              \u001b[0mself\u001b[0m\u001b[0;34m.\u001b[0m\u001b[0m__id\u001b[0m\u001b[0;34m,\u001b[0m\u001b[0;34m\u001b[0m\u001b[0m\n\u001b[1;32m   1055\u001b[0m                                              \u001b[0mself\u001b[0m\u001b[0;34m.\u001b[0m\u001b[0m__codec_options\u001b[0m\u001b[0;34m,\u001b[0m\u001b[0;34m\u001b[0m\u001b[0m\n\u001b[0;32m-> 1056\u001b[0;31m                                              self.__max_await_time_ms))\n\u001b[0m\u001b[1;32m   1057\u001b[0m \u001b[0;34m\u001b[0m\u001b[0m\n\u001b[1;32m   1058\u001b[0m         \u001b[0;32melse\u001b[0m\u001b[0;34m:\u001b[0m  \u001b[0;31m# Cursor id is zero nothing else to return\u001b[0m\u001b[0;34m\u001b[0m\u001b[0m\n",
      "\u001b[0;32m/home/goonieb/anaconda2/lib/python2.7/site-packages/pymongo/cursor.pyc\u001b[0m in \u001b[0;36m__send_message\u001b[0;34m(self, operation)\u001b[0m\n\u001b[1;32m    924\u001b[0m             doc = helpers._unpack_response(response=data,\n\u001b[1;32m    925\u001b[0m                                            \u001b[0mcursor_id\u001b[0m\u001b[0;34m=\u001b[0m\u001b[0mself\u001b[0m\u001b[0;34m.\u001b[0m\u001b[0m__id\u001b[0m\u001b[0;34m,\u001b[0m\u001b[0;34m\u001b[0m\u001b[0m\n\u001b[0;32m--> 926\u001b[0;31m                                            codec_options=self.__codec_options)\n\u001b[0m\u001b[1;32m    927\u001b[0m             \u001b[0;32mif\u001b[0m \u001b[0mfrom_command\u001b[0m\u001b[0;34m:\u001b[0m\u001b[0;34m\u001b[0m\u001b[0m\n\u001b[1;32m    928\u001b[0m                 \u001b[0mhelpers\u001b[0m\u001b[0;34m.\u001b[0m\u001b[0m_check_command_response\u001b[0m\u001b[0;34m(\u001b[0m\u001b[0mdoc\u001b[0m\u001b[0;34m[\u001b[0m\u001b[0;34m'data'\u001b[0m\u001b[0;34m]\u001b[0m\u001b[0;34m[\u001b[0m\u001b[0;36m0\u001b[0m\u001b[0;34m]\u001b[0m\u001b[0;34m)\u001b[0m\u001b[0;34m\u001b[0m\u001b[0m\n",
      "\u001b[0;32m/home/goonieb/anaconda2/lib/python2.7/site-packages/pymongo/helpers.pyc\u001b[0m in \u001b[0;36m_unpack_response\u001b[0;34m(response, cursor_id, codec_options)\u001b[0m\n\u001b[1;32m    140\u001b[0m               \u001b[0;34m\"starting_from\"\u001b[0m\u001b[0;34m:\u001b[0m \u001b[0mstruct\u001b[0m\u001b[0;34m.\u001b[0m\u001b[0munpack\u001b[0m\u001b[0;34m(\u001b[0m\u001b[0;34m\"<i\"\u001b[0m\u001b[0;34m,\u001b[0m \u001b[0mresponse\u001b[0m\u001b[0;34m[\u001b[0m\u001b[0;36m12\u001b[0m\u001b[0;34m:\u001b[0m\u001b[0;36m16\u001b[0m\u001b[0;34m]\u001b[0m\u001b[0;34m)\u001b[0m\u001b[0;34m[\u001b[0m\u001b[0;36m0\u001b[0m\u001b[0;34m]\u001b[0m\u001b[0;34m,\u001b[0m\u001b[0;34m\u001b[0m\u001b[0m\n\u001b[1;32m    141\u001b[0m               \u001b[0;34m\"number_returned\"\u001b[0m\u001b[0;34m:\u001b[0m \u001b[0mstruct\u001b[0m\u001b[0;34m.\u001b[0m\u001b[0munpack\u001b[0m\u001b[0;34m(\u001b[0m\u001b[0;34m\"<i\"\u001b[0m\u001b[0;34m,\u001b[0m \u001b[0mresponse\u001b[0m\u001b[0;34m[\u001b[0m\u001b[0;36m16\u001b[0m\u001b[0;34m:\u001b[0m\u001b[0;36m20\u001b[0m\u001b[0;34m]\u001b[0m\u001b[0;34m)\u001b[0m\u001b[0;34m[\u001b[0m\u001b[0;36m0\u001b[0m\u001b[0;34m]\u001b[0m\u001b[0;34m,\u001b[0m\u001b[0;34m\u001b[0m\u001b[0m\n\u001b[0;32m--> 142\u001b[0;31m               \"data\": bson.decode_all(response[20:], codec_options)}\n\u001b[0m\u001b[1;32m    143\u001b[0m \u001b[0;34m\u001b[0m\u001b[0m\n\u001b[1;32m    144\u001b[0m     \u001b[0;32massert\u001b[0m \u001b[0mlen\u001b[0m\u001b[0;34m(\u001b[0m\u001b[0mresult\u001b[0m\u001b[0;34m[\u001b[0m\u001b[0;34m\"data\"\u001b[0m\u001b[0;34m]\u001b[0m\u001b[0;34m)\u001b[0m \u001b[0;34m==\u001b[0m \u001b[0mresult\u001b[0m\u001b[0;34m[\u001b[0m\u001b[0;34m\"number_returned\"\u001b[0m\u001b[0;34m]\u001b[0m\u001b[0;34m\u001b[0m\u001b[0m\n",
      "\u001b[0;31mKeyboardInterrupt\u001b[0m: "
     ]
    }
   ],
   "source": [
    "###BEFORE RUNNING THIS ONE YOU SHOULD CLEAN YOUR MONGO DB OF artist strings starting with &, with + and such, or remove the JSon files first\"\n",
    "#example :db.getCollection('selectedArtists').find({\"_id\": /&.*/})\n",
    "#this needs to be done by hand\n",
    "\n",
    "##Variables\n",
    "DATETIME_FORMAT = '%Y-%m-%dT%H:%M:%S'\n",
    "# setup mongo\n",
    "client = MongoClient()\n",
    "db = client[\"bandstour\"]\n",
    "venues =  db[\"venues\"]\n",
    "artists =  db[\"selectedArtists\"]\n",
    "FUZZ_RATIO = 90 \n",
    "NB_remplacements = 0\n",
    "##input function\n",
    "##https://gist.github.com/hrouault/1358474\n",
    "def query_yes_no(question, default=\"yes\"):\n",
    "    \"\"\"Ask a yes/no question via raw_input() and return their answer.\n",
    "    \"question\" is a string that is presented to the user.\n",
    "    \"default\" is the presumed answer if the user just hits <Enter>.\n",
    "        It must be \"yes\" (the default), \"no\" or None (meaning\n",
    "        an answer is required of the user).\n",
    "    The \"answer\" return value is one of \"yes\" or \"no\".\n",
    "    \"\"\"\n",
    "    valid = {\"yes\":True,   \"y\":True,  \"ye\":True,\n",
    "             \"no\":False,     \"n\":False}\n",
    "    if default == None:\n",
    "        prompt = \" [y/n] \"\n",
    "    elif default == \"yes\":\n",
    "        prompt = \" [Y/n] \"\n",
    "    elif default == \"no\":\n",
    "        prompt = \" [y/N] \"\n",
    "    else:\n",
    "        raise ValueError(\"invalid default answer: '%s'\" % default)\n",
    "\n",
    "    while True:\n",
    "        sys.stdout.write(question + prompt)\n",
    "        choice = raw_input().lower()\n",
    "        if default is not None and choice == '':\n",
    "            return valid[default]\n",
    "        elif choice in valid:\n",
    "            return valid[choice]\n",
    "        else:\n",
    "            sys.stdout.write(\"Please respond with 'yes' or 'no' \"\\\n",
    "\"(or 'y' or 'n').\\n\")\n",
    "#Clean a string with regex\n",
    "def slugify(s):\n",
    "    \"\"\"\n",
    "    Simplifies ugly strings into something URL-friendly.\n",
    "    >>> print slugify(\"[Some] _ Article's Title--\")\n",
    "    some-articles-title\n",
    "    \"\"\"\n",
    "\n",
    "    s = re.sub('\\s+', ' ', s)\n",
    "    s = s.replace(' ', '-')\n",
    "\n",
    "    s = re.sub('\\W+', ' ', s)\n",
    "\n",
    "    s = s.strip()\n",
    "\n",
    "    s = s.lstrip()\n",
    "    s = re.sub('\\W+', '_', s)\n",
    "    return s\n",
    "\n",
    "#WE WANT TO LOOP OVER ARTISTS IN ORDER TO DEDUPLICATE THE RECORDS AND ASSIGN TOURS TO ONE ENTITY ONLY.\n",
    "#ex: \"   dede\" =add his dates to> \"dede\" who already has his.\n",
    "#in case there is an ambiguity, we will have to choose, at the end\n",
    "replacement_list =[]\n",
    "print \"  _____________________________\"\n",
    "print \" |_couples_d'ARTISTES_de_dups__|\"\n",
    "print \" |_NOM_|_SLUG_|nb_dates_|_mbid_|\"\n",
    "\n",
    "for artistA in artists.find({},no_cursor_timeout=True) :\n",
    "            #print \"AAAA  =>\", artistA[\"_id\"]\n",
    "            #print \"AAAA slug  =>\",slugify(artistA[\"_id\"]).lower()\n",
    "            \n",
    "            for artistB in artists.find({},no_cursor_timeout=True) :\n",
    "                if artistA[\"_id\"]==artistB[\"_id\"]:\n",
    "                    pass\n",
    "                elif (fuzz.ratio(\\\n",
    "                                        slugify(artistA[\"_id\"]).lower()\\\n",
    "                                        , slugify(artistB[\"_id\"]).lower()\\\n",
    "                                       ) > FUZZ_RATIO and len(artistA[\"gigs\"]) >= len(artistB[\"gigs\"])) :\n",
    "                    print \"A|\", artistA[\"_id\"],\"|\",slugify(artistA[\"_id\"]).lower(),\"|\",len(artistA[\"gigs\"]),\"|\",artistA[\"mbid\"],\"|\"\n",
    "                    print \"B|\", artistB[\"_id\"],\"|\",slugify(artistB[\"_id\"]).lower(),\"|\",len(artistB[\"gigs\"]),\"|\",artistB[\"mbid\"],\"|\"\n",
    "                    print \"_______________________________\"\n",
    "                    for gig in artistB[\"gigs\"]:\n",
    "                        artistA[\"gigs\"].append(gig)\n",
    "                        \n",
    "                    Aprime = artistA[\"gigs\"]\n",
    "                    #print Aprime\n",
    "                    Aprime2 = sorted(Aprime,key=lambda t: t[\"datetime\"].strftime(DATETIME_FORMAT))\n",
    "                    #print \"Aprime2\",Aprime2\n",
    "                    #BYPASS THE FOLLOWING LINE  WHEN THE SCRIPT IS MATURE\n",
    "                    #Answer_art= query_yes_no(\"MERGE \"+artistB[\"_id\"]+ \" WITH \"+ artistA[\"_id\"]+\" ?\" , default=\"no\")\n",
    "                    #print Answer_art\n",
    "                    Answer_art = True\n",
    "                    if Answer_art == True :\n",
    "                        artistA[\"gigs\"]=Aprime2\n",
    "                        #print artistA[\"gigs\"]\n",
    "                        replacement_list.append([artistA[\"_id\"],artistB[\"_id\"],artistA])\n",
    "                        \n",
    "print \"DONE!\"\n",
    "for  replacement in replacement_list:\n",
    "    print replacement\n",
    "    alias= replacement[1] \n",
    "    replacement[2][\"alias\"].append(alias)\n",
    "    artists.update({\"_id\" :replacement[0]}, replacement[2], upsert=True, multi=False)\n",
    "    artists.remove({\"_id\" :replacement[1]})"
   ]
  },
  {
   "cell_type": "code",
   "execution_count": null,
   "metadata": {
    "collapsed": true
   },
   "outputs": [],
   "source": []
  }
 ],
 "metadata": {
  "kernelspec": {
   "display_name": "Python 2",
   "language": "python",
   "name": "python2"
  },
  "language_info": {
   "codemirror_mode": {
    "name": "ipython",
    "version": 2
   },
   "file_extension": ".py",
   "mimetype": "text/x-python",
   "name": "python",
   "nbconvert_exporter": "python",
   "pygments_lexer": "ipython2",
   "version": "2.7.13"
  }
 },
 "nbformat": 4,
 "nbformat_minor": 2
}
