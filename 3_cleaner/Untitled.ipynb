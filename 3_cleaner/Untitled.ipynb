{
 "cells": [
  {
   "cell_type": "code",
   "execution_count": 2,
   "metadata": {},
   "outputs": [
    {
     "data": {
      "text/plain": [
       "'/home/goonieb/gitrep/bandstour/venv/bin/python'"
      ]
     },
     "execution_count": 2,
     "metadata": {},
     "output_type": "execute_result"
    }
   ],
   "source": [
    "import sys\n",
    "sys.executable"
   ]
  },
  {
   "cell_type": "code",
   "execution_count": 46,
   "metadata": {},
   "outputs": [],
   "source": [
    "import os\n",
    "import json\n",
    "import csv\n",
    "import pymongo\n",
    "import musicbrainzngs\n",
    "import arrow\n",
    "import re\n",
    "from datetime import datetime\n",
    "from pymongo import MongoClient\n",
    "from collections import defaultdict, OrderedDict\n",
    "from operator import getitem \n",
    "\n",
    "from dateutil import parser\n",
    "from fuzzywuzzy import fuzz\n",
    "from fuzzywuzzy import process"
   ]
  },
  {
   "cell_type": "code",
   "execution_count": 47,
   "metadata": {},
   "outputs": [],
   "source": [
    "DATETIME_FORMAT = '%Y-%m-%dT%H:%M:%S'\n",
    "# setup mongo\n",
    "client = MongoClient()\n",
    "db = client[\"bandstour\"]\n",
    "venues =  db[\"selectedVenues\"]\n",
    "artists =  db[\"selectedArtists\"]"
   ]
  },
  {
   "cell_type": "code",
   "execution_count": 69,
   "metadata": {},
   "outputs": [
    {
     "name": "stdout",
     "output_type": "stream",
     "text": [
      " Mammoth Grinder\n",
      "ERROR\n",
      "5\n",
      "4\n",
      "____________\n",
      "1\n",
      "---------\n"
     ]
    },
    {
     "ename": "NameError",
     "evalue": "name 'gig0' is not defined",
     "output_type": "error",
     "traceback": [
      "\u001b[0;31m---------------------------------------------------------------------------\u001b[0m",
      "\u001b[0;31mNameError\u001b[0m                                 Traceback (most recent call last)",
      "\u001b[0;32m<ipython-input-69-2b45bd0ab9fb>\u001b[0m in \u001b[0;36m<module>\u001b[0;34m()\u001b[0m\n\u001b[1;32m     28\u001b[0m         \u001b[0;32mprint\u001b[0m \u001b[0;34m\"---------\"\u001b[0m\u001b[0;34m\u001b[0m\u001b[0m\n\u001b[1;32m     29\u001b[0m         \u001b[0;32mfor\u001b[0m \u001b[0mgigO\u001b[0m \u001b[0;32min\u001b[0m \u001b[0mORDERED_DICT_OF_GIGS\u001b[0m\u001b[0;34m:\u001b[0m\u001b[0;34m\u001b[0m\u001b[0m\n\u001b[0;32m---> 30\u001b[0;31m                \u001b[0mARRAY_GIGS_DEDUPED\u001b[0m\u001b[0;34m.\u001b[0m\u001b[0mappend\u001b[0m\u001b[0;34m(\u001b[0m\u001b[0mORDERED_DICT_OF_GIGS\u001b[0m\u001b[0;34m[\u001b[0m\u001b[0mgig0\u001b[0m\u001b[0;34m]\u001b[0m\u001b[0;34m)\u001b[0m\u001b[0;34m\u001b[0m\u001b[0m\n\u001b[0m\u001b[1;32m     31\u001b[0m         \u001b[0;32mprint\u001b[0m \u001b[0mlen\u001b[0m\u001b[0;34m(\u001b[0m\u001b[0mARRAY_GIGS_DEDUPED\u001b[0m\u001b[0;34m)\u001b[0m\u001b[0;34m\u001b[0m\u001b[0m\n\u001b[1;32m     32\u001b[0m \u001b[0;34m\u001b[0m\u001b[0m\n",
      "\u001b[0;31mNameError\u001b[0m: name 'gig0' is not defined"
     ]
    }
   ],
   "source": [
    "for artist in artists.find():\n",
    "    \n",
    "   \n",
    "    DICT_GIGS={}\n",
    "    ARRAY_GIGS_DATETIME=[]\n",
    "    \n",
    "    #print artist[\"gigs\"]\n",
    "    for gig   in artist[\"gigs\"]:\n",
    "        DICT_GIGS[gig[\"datetime\"]] = gig\n",
    "        ARRAY_GIGS_DATETIME.append(gig[\"datetime\"])\n",
    "    #print \"________\"\n",
    "    #print ARRAY_GIGS\n",
    "    \n",
    "    ORDERED_DICT_OF_GIGS = OrderedDict(sorted(DICT_GIGS.items(), \n",
    "       key = lambda x: getitem(x[1], 'datetime'))) \n",
    "    #print artist[\"_id\"]\n",
    "    #print ORDERED_ARRAY_OF_GIGS \n",
    "    \n",
    "    if len(set(ARRAY_GIGS_DATETIME))!= len(artist[\"gigs\"]):\n",
    "        \n",
    "        ARRAY_GIGS_DEDUPED=[]\n",
    "        print artist[\"_id\"]\n",
    "        print \"ERROR\"\n",
    "        print len(ARRAY_GIGS_DATETIME)\n",
    "        print len(ORDERED_DICT_OF_GIGS)\n",
    "        print \"____________\"\n",
    "        print len(artist[\"gigs\"])-len(set(ARRAY_GIGS_DATETIME)) \n",
    "        print \"---------\"\n",
    "        for gigO in ORDERED_DICT_OF_GIGS:\n",
    "               ARRAY_GIGS_DEDUPED.append(ORDERED_DICT_OF_GIGS[gig0])\n",
    "        print len(ARRAY_GIGS_DEDUPED)\n",
    "    "
   ]
  },
  {
   "cell_type": "code",
   "execution_count": null,
   "metadata": {},
   "outputs": [],
   "source": []
  }
 ],
 "metadata": {
  "kernelspec": {
   "display_name": "Python 2",
   "language": "python",
   "name": "python2"
  },
  "language_info": {
   "codemirror_mode": {
    "name": "ipython",
    "version": 2
   },
   "file_extension": ".py",
   "mimetype": "text/x-python",
   "name": "python",
   "nbconvert_exporter": "python",
   "pygments_lexer": "ipython2",
   "version": "2.7.16+"
  }
 },
 "nbformat": 4,
 "nbformat_minor": 2
}
