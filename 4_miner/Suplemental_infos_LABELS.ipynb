{
 "cells": [
  {
   "cell_type": "code",
   "execution_count": 1,
   "metadata": {},
   "outputs": [
    {
     "data": {
      "text/plain": [
       "'/home/goonieb/anaconda2/bin/python'"
      ]
     },
     "execution_count": 1,
     "metadata": {},
     "output_type": "execute_result"
    }
   ],
   "source": [
    "sys.executable"
   ]
  },
  {
   "cell_type": "code",
   "execution_count": 2,
   "metadata": {
    "scrolled": true
   },
   "outputs": [],
   "source": [
    "import os\n",
    "import json\n",
    "import pymongo\n",
    "import musicbrainzngs\n",
    "import arrow\n",
    "from datetime import datetime\n",
    "from pymongo import MongoClient\n",
    "from collections import defaultdict\n",
    "from dateutil import parser"
   ]
  },
  {
   "cell_type": "code",
   "execution_count": 3,
   "metadata": {
    "scrolled": false
   },
   "outputs": [
    {
     "name": "stdout",
     "output_type": "stream",
     "text": [
      "조수미\n",
      "aartist_mbid dd21a142-cf44-4e22-add6-a50eea696854\n",
      "pppppppppppppp\n",
      "pppppppppppppp\n",
      "pppppppppppppp\n",
      "pppppppppppppp\n",
      "pppppppppppppp\n",
      "pppppppppppppp\n",
      "pppppppppppppp\n",
      "조수미 \n",
      "\n",
      "Лили Иванова\n",
      "aartist_mbid ab634a19-20e3-4801-975e-a230f899af8a\n"
     ]
    },
    {
     "name": "stderr",
     "output_type": "stream",
     "text": [
      "/home/goonieb/anaconda2/lib/python2.7/site-packages/ipykernel_launcher.py:94: DeprecationWarning: update is deprecated. Use replace_one, update_one or update_many instead.\n"
     ]
    },
    {
     "name": "stdout",
     "output_type": "stream",
     "text": [
      "Лили Иванова \n",
      "\n",
      "ᵀᴴᴱ ᴼᴿᴵᴳᴵᴻᴬᴸ Funky Monkey\n",
      "('NOMBID for', u'\\u1d40\\u1d34\\u1d31 \\u1d3c\\u1d3f\\u1d35\\u1d33\\u1d35\\u1d3b\\u1d2c\\u1d38 Funky Monkey')\n",
      "Калевала\n",
      "('NOMBID for', u'\\u041a\\u0430\\u043b\\u0435\\u0432\\u0430\\u043b\\u0430')\n",
      "Кристина Орбакайте\n",
      "aartist_mbid e71738bd-39d4-4699-b6c2-688f95b31732\n",
      "pppppppppppppp\n",
      "pppppppppppppp\n",
      "Кристина Орбакайте \n",
      "\n",
      "Дмитрий Дмитриевич Шостакович\n",
      "aartist_mbid 519dd32e-8f30-4380-8826-7aa99169e1bb\n",
      "Дмитрий Дмитриевич Шостакович \n",
      "\n",
      "Валерия\n",
      "aartist_mbid b4313680-2f57-4ec6-87a7-24873133ba4c\n",
      "pppppppppppppp\n",
      "pppppppppppppp\n",
      "pppppppppppppp\n",
      "pppppppppppppp\n",
      "pppppppppppppp\n",
      "pppppppppppppp\n",
      "pppppppppppppp\n",
      "pppppppppppppp\n",
      "pppppppppppppp\n",
      "pppppppppppppp\n",
      "pppppppppppppp\n",
      "Валерия \n",
      "\n",
      "Евгений Игоревич Кисин\n",
      "aartist_mbid 5761282a-0965-4ff6-9796-7b9ba0ed70e2\n"
     ]
    },
    {
     "ename": "KeyboardInterrupt",
     "evalue": "",
     "output_type": "error",
     "traceback": [
      "\u001b[0;31m---------------------------------------------------------------------------\u001b[0m",
      "\u001b[0;31mKeyboardInterrupt\u001b[0m                         Traceback (most recent call last)",
      "\u001b[0;32m<ipython-input-3-391911d78a7d>\u001b[0m in \u001b[0;36m<module>\u001b[0;34m()\u001b[0m\n\u001b[1;32m     70\u001b[0m \u001b[0;31m#WE Build the label aliases tables here so that all labels have their relationships##\u001b[0m\u001b[0;34m\u001b[0m\u001b[0;34m\u001b[0m\u001b[0m\n\u001b[1;32m     71\u001b[0m                                         \u001b[0;32mif\u001b[0m \u001b[0mlabel\u001b[0m\u001b[0;34m[\u001b[0m\u001b[0;34m\"label\"\u001b[0m\u001b[0;34m]\u001b[0m\u001b[0;34m[\u001b[0m\u001b[0;34m\"id\"\u001b[0m\u001b[0;34m]\u001b[0m \u001b[0;32mnot\u001b[0m \u001b[0;32min\u001b[0m \u001b[0mlabels_aliases\u001b[0m\u001b[0;34m:\u001b[0m\u001b[0;34m\u001b[0m\u001b[0m\n\u001b[0;32m---> 72\u001b[0;31m                                             \u001b[0mlabels_aliases\u001b[0m\u001b[0;34m[\u001b[0m\u001b[0mlabel\u001b[0m\u001b[0;34m[\u001b[0m\u001b[0;34m\"label\"\u001b[0m\u001b[0;34m]\u001b[0m\u001b[0;34m[\u001b[0m\u001b[0;34m\"id\"\u001b[0m\u001b[0;34m]\u001b[0m\u001b[0;34m]\u001b[0m \u001b[0;34m=\u001b[0m \u001b[0mmusicbrainzngs\u001b[0m\u001b[0;34m.\u001b[0m\u001b[0mget_label_by_id\u001b[0m\u001b[0;34m(\u001b[0m\u001b[0mlabel\u001b[0m\u001b[0;34m[\u001b[0m\u001b[0;34m\"label\"\u001b[0m\u001b[0;34m]\u001b[0m\u001b[0;34m[\u001b[0m\u001b[0;34m\"id\"\u001b[0m\u001b[0;34m]\u001b[0m\u001b[0;34m,\u001b[0m \u001b[0mincludes\u001b[0m\u001b[0;34m=\u001b[0m\u001b[0;34m[\u001b[0m\u001b[0;34m\"aliases\"\u001b[0m\u001b[0;34m,\u001b[0m \u001b[0;34m\"annotation\"\u001b[0m\u001b[0;34m,\u001b[0m \u001b[0;34m\"area-rels\"\u001b[0m\u001b[0;34m,\u001b[0m \u001b[0;34m\"label-rels\"\u001b[0m\u001b[0;34m,\u001b[0m \u001b[0;34m\"place-rels\"\u001b[0m\u001b[0;34m]\u001b[0m\u001b[0;34m)\u001b[0m\u001b[0;34m\u001b[0m\u001b[0m\n\u001b[0m\u001b[1;32m     73\u001b[0m                                         \u001b[0;31m#print \"labels_aliases\",labels_aliases\u001b[0m\u001b[0;34m\u001b[0m\u001b[0;34m\u001b[0m\u001b[0m\n\u001b[1;32m     74\u001b[0m                                      \u001b[0mlabels_dict\u001b[0m\u001b[0;34m[\u001b[0m\u001b[0mlabel\u001b[0m\u001b[0;34m[\u001b[0m\u001b[0;34m\"label\"\u001b[0m\u001b[0;34m]\u001b[0m\u001b[0;34m[\u001b[0m\u001b[0;34m\"id\"\u001b[0m\u001b[0;34m]\u001b[0m\u001b[0;34m]\u001b[0m\u001b[0;34m[\u001b[0m\u001b[0mstr\u001b[0m\u001b[0;34m(\u001b[0m\u001b[0mkey\u001b[0m\u001b[0;34m)\u001b[0m\u001b[0;34m]\u001b[0m\u001b[0;34m=\u001b[0m\u001b[0;34m{\u001b[0m\u001b[0;34m}\u001b[0m\u001b[0;34m\u001b[0m\u001b[0m\n",
      "\u001b[0;32m/home/goonieb/anaconda2/lib/python2.7/site-packages/musicbrainzngs/musicbrainz.pyc\u001b[0m in \u001b[0;36mget_label_by_id\u001b[0;34m(id, includes, release_status, release_type)\u001b[0m\n\u001b[1;32m    824\u001b[0m     params = _check_filter_and_make_params(\"label\", includes,\n\u001b[1;32m    825\u001b[0m                                            release_status, release_type)\n\u001b[0;32m--> 826\u001b[0;31m     \u001b[0;32mreturn\u001b[0m \u001b[0m_do_mb_query\u001b[0m\u001b[0;34m(\u001b[0m\u001b[0;34m\"label\"\u001b[0m\u001b[0;34m,\u001b[0m \u001b[0mid\u001b[0m\u001b[0;34m,\u001b[0m \u001b[0mincludes\u001b[0m\u001b[0;34m,\u001b[0m \u001b[0mparams\u001b[0m\u001b[0;34m)\u001b[0m\u001b[0;34m\u001b[0m\u001b[0m\n\u001b[0m\u001b[1;32m    827\u001b[0m \u001b[0;34m\u001b[0m\u001b[0m\n\u001b[1;32m    828\u001b[0m \u001b[0;34m@\u001b[0m\u001b[0m_docstring_get\u001b[0m\u001b[0;34m(\u001b[0m\u001b[0;34m\"place\"\u001b[0m\u001b[0;34m)\u001b[0m\u001b[0;34m\u001b[0m\u001b[0m\n",
      "\u001b[0;32m/home/goonieb/anaconda2/lib/python2.7/site-packages/musicbrainzngs/musicbrainz.pyc\u001b[0m in \u001b[0;36m_do_mb_query\u001b[0;34m(entity, id, includes, params)\u001b[0m\n\u001b[1;32m    709\u001b[0m         \u001b[0;31m# Build the endpoint components.\u001b[0m\u001b[0;34m\u001b[0m\u001b[0;34m\u001b[0m\u001b[0m\n\u001b[1;32m    710\u001b[0m         \u001b[0mpath\u001b[0m \u001b[0;34m=\u001b[0m \u001b[0;34m'%s/%s'\u001b[0m \u001b[0;34m%\u001b[0m \u001b[0;34m(\u001b[0m\u001b[0mentity\u001b[0m\u001b[0;34m,\u001b[0m \u001b[0mid\u001b[0m\u001b[0;34m)\u001b[0m\u001b[0;34m\u001b[0m\u001b[0m\n\u001b[0;32m--> 711\u001b[0;31m         \u001b[0;32mreturn\u001b[0m \u001b[0m_mb_request\u001b[0m\u001b[0;34m(\u001b[0m\u001b[0mpath\u001b[0m\u001b[0;34m,\u001b[0m \u001b[0;34m'GET'\u001b[0m\u001b[0;34m,\u001b[0m \u001b[0mauth_required\u001b[0m\u001b[0;34m,\u001b[0m \u001b[0margs\u001b[0m\u001b[0;34m=\u001b[0m\u001b[0margs\u001b[0m\u001b[0;34m)\u001b[0m\u001b[0;34m\u001b[0m\u001b[0m\n\u001b[0m\u001b[1;32m    712\u001b[0m \u001b[0;34m\u001b[0m\u001b[0m\n\u001b[1;32m    713\u001b[0m def _do_mb_search(entity, query='', fields={},\n",
      "\u001b[0;32m/home/goonieb/anaconda2/lib/python2.7/site-packages/musicbrainzngs/musicbrainz.pyc\u001b[0m in \u001b[0;36m__call__\u001b[0;34m(self, *args, **kwargs)\u001b[0m\n\u001b[1;32m    393\u001b[0m                 \u001b[0;32mwhile\u001b[0m \u001b[0mself\u001b[0m\u001b[0;34m.\u001b[0m\u001b[0mremaining_requests\u001b[0m \u001b[0;34m<\u001b[0m \u001b[0;36m0.999\u001b[0m\u001b[0;34m:\u001b[0m\u001b[0;34m\u001b[0m\u001b[0m\n\u001b[1;32m    394\u001b[0m                     time.sleep((1.0 - self.remaining_requests) *\n\u001b[0;32m--> 395\u001b[0;31m                                (limit_requests / limit_interval))\n\u001b[0m\u001b[1;32m    396\u001b[0m                     \u001b[0mself\u001b[0m\u001b[0;34m.\u001b[0m\u001b[0m_update_remaining\u001b[0m\u001b[0;34m(\u001b[0m\u001b[0;34m)\u001b[0m\u001b[0;34m\u001b[0m\u001b[0m\n\u001b[1;32m    397\u001b[0m \u001b[0;34m\u001b[0m\u001b[0m\n",
      "\u001b[0;31mKeyboardInterrupt\u001b[0m: "
     ]
    }
   ],
   "source": [
    "# setup mongo\n",
    "client = MongoClient()\n",
    "db = client[\"bandstour\"]\n",
    "bandsintown =  db[\"bandsintown\"]\n",
    "\n",
    "\n",
    "#setup mbrainz client\n",
    "musicbrainzngs.set_useragent(\"Example music app\", \"0.1\", \"http://example.com/music\")\n",
    "\n",
    "# source data\n",
    "DATA_FOLDER = \"data/labels\"\n",
    "countMBID = 0\n",
    "countNAME = 0\n",
    "count = 0\n",
    "# date parsing\n",
    "DATETIME_FORMAT = '%Y-%m-%dT%H:%M:%S'\n",
    "DATETIME_FORMAT_FOR_MSBNZ ='%Y-%m-%d'\n",
    "# init label_db_retrieval\n",
    "labels_aliases ={}\n",
    "#retrieve label for each artist before a tour starts\n",
    "#i.e what is the album previously to the first year\n",
    "for artist in db.minedArtists.find() :\n",
    "                    print artist[\"name\"]\n",
    "    \n",
    "                    #print db.minedArtists[artist]\n",
    "                    #print artist\n",
    "                    labels_dict= defaultdict(list)\n",
    "                    labels_dict[\"id\"]=[]\n",
    "\n",
    "                    if  artist[\"mbid\"] is ( None ) :\n",
    "                        print (\"NOMBID for\",artist[\"name\"])\n",
    "\n",
    "                    else:\n",
    "                     if  bool(artist[\"mbid\"]) is ( False ) :\n",
    "                      print (\"NOMBID2 for\",artist[\"name\"])\n",
    "\n",
    "                     else:\n",
    "                      print \"aartist_mbid\", artist[\"mbid\"]\n",
    "                      try:\n",
    "                        artist[\"releases\"]=(musicbrainzngs.browse_releases( artist[\"mbid\"], release_type=[\"album\"], includes=[\"labels\"] ))\n",
    "                            \n",
    "                                  \n",
    "                        #print \"....\"\n",
    "                        #print artist[\"release_groups\"]\n",
    "                        key= 0\n",
    "                        for release in  artist[\"releases\"][\"release-list\"]:\n",
    "                            #print release\n",
    "                            if  release.has_key(\"release-event-list\"):\n",
    "                                #print \"artist_name:\",artist[\"name\"]\n",
    "                                #print \"albumtitle:\",release[\"title\"]\n",
    "                                #print \"albumid:\",release[\"id\"]\n",
    "                                #print \"label-list\",release[\"label-info-list\"]\n",
    "                                #print \"releaseLBL\",release[\"label-info-list\"]\n",
    "                                if not release[\"label-info-list\"]:\n",
    "                                    print \"pppppppppppppp\"\n",
    "                                \n",
    "                                else:\n",
    "                                 if release[\"label-info-list\"][0].has_key('label'):\n",
    "                                  for label in release[\"label-info-list\"]:\n",
    "                                    #WE NEED TO TEST HERE\n",
    "                                    #print \"label:\",label[\"label\"][\"sort-name\"]\n",
    "                                    #print \"labelid:\",label\n",
    "                                    \n",
    "#WE CREATE A DICTIONNARY WITH OUR FIELDS, WITH FORMAT\n",
    "                                    if label.has_key('label'):\n",
    "                                     if label[\"label\"][\"id\"] not in labels_dict[\"labids\"]:\n",
    "                                        labels_dict[\"labids\"].append(label[\"label\"][\"id\"])\n",
    "                                        labels_dict[label[\"label\"][\"id\"]]={}\n",
    "\n",
    "                                        labels_dict[label[\"label\"][\"id\"]][\"label_name\"]=label[\"label\"][\"sort-name\"]\n",
    "                                        labels_dict[label[\"label\"][\"id\"]][\"label_id\" ]=label[\"label\"][\"id\"]\n",
    "#WE Build the label aliases tables here so that all labels have their relationships##\n",
    "                                        if label[\"label\"][\"id\"] not in labels_aliases:\n",
    "                                            labels_aliases[label[\"label\"][\"id\"]] = musicbrainzngs.get_label_by_id(label[\"label\"][\"id\"], includes=[\"aliases\", \"annotation\", \"area-rels\", \"label-rels\", \"place-rels\"])\n",
    "                                        #print \"labels_aliases\",labels_aliases\n",
    "                                     labels_dict[label[\"label\"][\"id\"]][str(key)]={}\n",
    "                                    #print key\n",
    "                                     labels_dict[label[\"label\"][\"id\"]][str(key)][\"album_id\"]=release[\"id\"]\n",
    "                                     labels_dict[label[\"label\"][\"id\"]][str(key)][\"album_title\"]=release[\"title\"]\n",
    "                                     releDate=release[\"release-event-list\"][0]\n",
    "                                #print \"releDate\", release[\"release-event-list\"][0]\n",
    "                                     if  releDate.has_key(\"date\"):\n",
    "                                        dateRel=arrow.get(releDate[\"date\"])\n",
    "                                        #print \"date:\", dateRel.strftime('%Y-%m-%d')\n",
    "                                        labels_dict[label[\"label\"][\"id\"]][str(key)][\"album_date\"]=dateRel.strftime('%Y-%m-%d')\n",
    "                                     key = key +1\n",
    "                                 else:\n",
    "                                    print \"NORELEASEDATE2\"\n",
    "                                    #key = key +1\n",
    "                            #else:\n",
    "                                #key = key +1\n",
    "                                #print \"NORELEASEDATE\"\n",
    "#NOW we make a nice lightweight object to push to mongo\n",
    "                        labels_dict[\"name\"]=artist[\"name\"]\n",
    "                        print labels_dict[\"name\"],'\\r\\n'\n",
    "                        db.labels_dict_per_artist.update({'myid': artist[\"name\"] } ,labels_dict, upsert=True, multi=False)\n",
    "                      except  musicbrainzngs.ResponseError:\n",
    "                        print \"oups\",artist[\"name\"]\n",
    "\n",
    "                #with open(os.path.join(DATA_FOLDER,artist[\"name\"],\".json\"), 'w') as outfile:\n",
    "                             #   json.dump(labels_dict, outfile)\n",
    "                            #db.minedArtists.artist.insert_one(labels_dict)\n",
    "#with open(os.path.join(DATA_FOLDER,\"label_equiv_table.json\"), 'w') as outfile:\n",
    " #                               json.dump(labels_aliases, outfile)\n",
    "#print labels_aliases,'\\r\\n\\r\\n\\r\\n'\n",
    "import pickle\n",
    "\n",
    "\n",
    "\n",
    "with open('labels_aliases', 'wb') as handle:\n",
    "    pickle.dump(labels_aliases, handle, protocol=pickle.HIGHEST_PROTOCOL)\n",
    "\n"
   ]
  },
  {
   "cell_type": "code",
   "execution_count": null,
   "metadata": {
    "collapsed": true
   },
   "outputs": [],
   "source": []
  }
 ],
 "metadata": {
  "kernelspec": {
   "display_name": "Python 2",
   "language": "python",
   "name": "python2"
  },
  "language_info": {
   "codemirror_mode": {
    "name": "ipython",
    "version": 2
   },
   "file_extension": ".py",
   "mimetype": "text/x-python",
   "name": "python",
   "nbconvert_exporter": "python",
   "pygments_lexer": "ipython2",
   "version": "2.7.13"
  }
 },
 "nbformat": 4,
 "nbformat_minor": 2
}
