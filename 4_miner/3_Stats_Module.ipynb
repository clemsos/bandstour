{
 "cells": [
  {
   "cell_type": "code",
   "execution_count": 3,
   "metadata": {},
   "outputs": [],
   "source": [
    "#!/usr/bin/env python\n",
    "# -*- coding: utf-8 -*-\n",
    "\n",
    "%matplotlib inline\n",
    "import seaborn as sns\n",
    "\n",
    "import os\n",
    "import csv\n",
    "import json\n",
    "import networkx as nx\n",
    "from collections import Counter\n",
    "import dateutil.parser as parser\n",
    "from slugify import slugify\n",
    "\n",
    "from IPython.display import display, Markdown, Latex\n",
    "from matplotlib.pyplot import pie, axis, show\n",
    "\n",
    "def show_table( title, array):\n",
    "    md_table = \"\"\n",
    "    display(Markdown(title))\n",
    "    md_table += \"| | Nom | Quantité |\\n\"\n",
    "    md_table += \"| --- | --- | --- |\\n\"\n",
    "    for i,c in enumerate(Counter(array).most_common()):\n",
    "        md_table +=\"| %s | %s | %s | \\n\"%(i,c[0], c[1])\n",
    "    display(Markdown(md_table))\n",
    "\n",
    "def moyenne(tableau):\n",
    "    \"\"\"Calculer une moyenne d'après un tableau\"\"\"\n",
    "    return sum(tableau, 0.0) / len(tableau)\n",
    "\n",
    "def count_plot(list_to_count, title=None, xlabel=None, ylabel=\"Count\", order=None):\n",
    "    \n",
    "    g = sns.countplot(list_to_count, palette=\"Set2\", order=order)\n",
    "\n",
    "    # remove the top and right line in graph\n",
    "    sns.despine()\n",
    "\n",
    "    # size\n",
    "    g.figure.set_size_inches(7, 6)\n",
    "\n",
    "    # axes \n",
    "    g.set_xlabel(xlabel.decode('utf-8'),size = 16,  alpha=0.5)\n",
    "    g.set_ylabel(ylabel.decode('utf-8'),size = 16,  alpha=0.5)\n",
    "\n",
    "    # title\n",
    "    g.axes.set_title(title.decode('utf-8'), \n",
    "        fontsize=18, color=\"b\",alpha=0.3, x=0.5, y=1.1)\n",
    "    \n",
    "    # show\n",
    "    sns.plt.show()\n",
    "    \n",
    "    return g"
   ]
  },
  {
   "cell_type": "code",
   "execution_count": 4,
   "metadata": {},
   "outputs": [
    {
     "ename": "SyntaxError",
     "evalue": "invalid syntax (<ipython-input-4-7c64ec8f6773>, line 1)",
     "output_type": "error",
     "traceback": [
      "\u001b[0;36m  File \u001b[0;32m\"<ipython-input-4-7c64ec8f6773>\"\u001b[0;36m, line \u001b[0;32m1\u001b[0m\n\u001b[0;31m    def create_graph_results(file)\u001b[0m\n\u001b[0m                                  ^\u001b[0m\n\u001b[0;31mSyntaxError\u001b[0m\u001b[0;31m:\u001b[0m invalid syntax\n"
     ]
    }
   ],
   "source": [
    "def create_graph_results(file)"
   ]
  },
  {
   "cell_type": "code",
   "execution_count": null,
   "metadata": {},
   "outputs": [],
   "source": [
    "import os\n",
    "for filename in os.listdir('dirname'):\n",
    "     callthecommandhere(blablahbla, filename, foo)"
   ]
  }
 ],
 "metadata": {
  "kernelspec": {
   "display_name": "Python 2",
   "language": "python",
   "name": "python2"
  },
  "language_info": {
   "codemirror_mode": {
    "name": "ipython",
    "version": 2
   },
   "file_extension": ".py",
   "mimetype": "text/x-python",
   "name": "python",
   "nbconvert_exporter": "python",
   "pygments_lexer": "ipython2",
   "version": "2.7.16+"
  }
 },
 "nbformat": 4,
 "nbformat_minor": 2
}
