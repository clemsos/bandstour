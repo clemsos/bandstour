{
 "cells": [
  {
   "cell_type": "code",
   "execution_count": 13,
   "metadata": {
    "collapsed": true
   },
   "outputs": [],
   "source": [
    "##THIS I FOR ACCESSING THE CONCORDE TSP SOLVER\n",
    "from subprocess import Popen\n",
    "import os\n",
    "class tsp:\n",
    "    def __init__(self, points=None):\n",
    "        self.points = points if points else []\n",
    "    def solve(self, filename='_tmp_'):\n",
    "        with open('%s.dat' % filename, 'w') as fp:\n",
    "            fp.write('TYPE : TSP\\nDIMENSION : %d\\n' % len(self.points))\n",
    "            fp.write('EDGE_WEIGHT_TYPE : EUC_2D\\nNODE_COORD_SECTION\\n')\n",
    "            for i, (x, y) in enumerate(self.points):\n",
    "                fp.write('%d %g %g\\n' % (i, x, y))\n",
    "            fp.write('EOF\\n')\n",
    "        prc = Popen('./concorde -m  %s.dat' % filename, shell=True)\n",
    "        prc.wait()\n",
    "        with open('%s.sol' % filename) as fp:\n",
    "            ll = (''.join(fp)).split()\n",
    "        self.result = [int(s) for s in ll[1:]]\n",
    "        for s in ('%s.dat', '%s.sol'): os.remove(s % filename)"
   ]
  },
  {
   "cell_type": "code",
   "execution_count": 14,
   "metadata": {
    "collapsed": true
   },
   "outputs": [],
   "source": [
    "import geopy\n",
    "\n",
    "import json\n",
    "import pymongo\n",
    "from geopy.distance import vincenty\n",
    "#import musicbrainzngs\n",
    "import arrow\n",
    "from datetime import datetime\n",
    "from pymongo import MongoClient\n",
    "from collections import defaultdict\n",
    "from dateutil import parser\n",
    "# setup mongo\n",
    "client = MongoClient()\n",
    "db = client[\"bandstour\"]\n",
    "bandsintown =  db[\"bandsintown\"]\n",
    "\n",
    "# date parsing\n",
    "DATETIME_FORMAT = '%Y-%m-%dT%H:%M:%S'\n",
    "DATETIME_FORMAT_FOR_MSBNZ ='%Y-%m-%d'\n",
    "\n",
    "#retrieve trip coords for each artist\n",
    "dict_coords={}\n",
    "\n",
    "import numpy as np\n",
    "from matplotlib import pyplot as plt\n"
   ]
  },
  {
   "cell_type": "code",
   "execution_count": 15,
   "metadata": {},
   "outputs": [
    {
     "name": "stdout",
     "output_type": "stream",
     "text": [
      "8\n"
     ]
    },
    {
     "ename": "IOError",
     "evalue": "[Errno 2] No such file or directory: '_tmp_.sol'",
     "output_type": "error",
     "traceback": [
      "\u001b[0;31m---------------------------------------------------------------------------\u001b[0m",
      "\u001b[0;31mIOError\u001b[0m                                   Traceback (most recent call last)",
      "\u001b[0;32m<ipython-input-15-634b16aa117a>\u001b[0m in \u001b[0;36m<module>\u001b[0;34m()\u001b[0m\n\u001b[1;32m     11\u001b[0m             \u001b[0;31m#print tourCoords\u001b[0m\u001b[0;34m\u001b[0m\u001b[0;34m\u001b[0m\u001b[0m\n\u001b[1;32m     12\u001b[0m             \u001b[0mt\u001b[0m\u001b[0;34m=\u001b[0m\u001b[0mtsp\u001b[0m\u001b[0;34m(\u001b[0m\u001b[0mtourCoords\u001b[0m\u001b[0;34m)\u001b[0m\u001b[0;34m\u001b[0m\u001b[0m\n\u001b[0;32m---> 13\u001b[0;31m             \u001b[0mt\u001b[0m\u001b[0;34m.\u001b[0m\u001b[0msolve\u001b[0m\u001b[0;34m(\u001b[0m\u001b[0;34m)\u001b[0m\u001b[0;34m\u001b[0m\u001b[0m\n\u001b[0m\u001b[1;32m     14\u001b[0m             \u001b[0;32mprint\u001b[0m \u001b[0mt\u001b[0m\u001b[0;34m.\u001b[0m\u001b[0mresult\u001b[0m\u001b[0;34m\u001b[0m\u001b[0m\n\u001b[1;32m     15\u001b[0m             \u001b[0;32mprint\u001b[0m \u001b[0mt\u001b[0m\u001b[0;34m.\u001b[0m\u001b[0mpoints\u001b[0m\u001b[0;34m\u001b[0m\u001b[0m\n",
      "\u001b[0;32m<ipython-input-13-deff01747ef9>\u001b[0m in \u001b[0;36msolve\u001b[0;34m(self, filename)\u001b[0m\n\u001b[1;32m     14\u001b[0m         \u001b[0mprc\u001b[0m \u001b[0;34m=\u001b[0m \u001b[0mPopen\u001b[0m\u001b[0;34m(\u001b[0m\u001b[0;34m'./concorde -m -N 6 %s.dat'\u001b[0m \u001b[0;34m%\u001b[0m \u001b[0mfilename\u001b[0m\u001b[0;34m,\u001b[0m \u001b[0mshell\u001b[0m\u001b[0;34m=\u001b[0m\u001b[0mTrue\u001b[0m\u001b[0;34m)\u001b[0m\u001b[0;34m\u001b[0m\u001b[0m\n\u001b[1;32m     15\u001b[0m         \u001b[0mprc\u001b[0m\u001b[0;34m.\u001b[0m\u001b[0mwait\u001b[0m\u001b[0;34m(\u001b[0m\u001b[0;34m)\u001b[0m\u001b[0;34m\u001b[0m\u001b[0m\n\u001b[0;32m---> 16\u001b[0;31m         \u001b[0;32mwith\u001b[0m \u001b[0mopen\u001b[0m\u001b[0;34m(\u001b[0m\u001b[0;34m'%s.sol'\u001b[0m \u001b[0;34m%\u001b[0m \u001b[0mfilename\u001b[0m\u001b[0;34m)\u001b[0m \u001b[0;32mas\u001b[0m \u001b[0mfp\u001b[0m\u001b[0;34m:\u001b[0m\u001b[0;34m\u001b[0m\u001b[0m\n\u001b[0m\u001b[1;32m     17\u001b[0m             \u001b[0mll\u001b[0m \u001b[0;34m=\u001b[0m \u001b[0;34m(\u001b[0m\u001b[0;34m''\u001b[0m\u001b[0;34m.\u001b[0m\u001b[0mjoin\u001b[0m\u001b[0;34m(\u001b[0m\u001b[0mfp\u001b[0m\u001b[0;34m)\u001b[0m\u001b[0;34m)\u001b[0m\u001b[0;34m.\u001b[0m\u001b[0msplit\u001b[0m\u001b[0;34m(\u001b[0m\u001b[0;34m)\u001b[0m\u001b[0;34m\u001b[0m\u001b[0m\n\u001b[1;32m     18\u001b[0m         \u001b[0mself\u001b[0m\u001b[0;34m.\u001b[0m\u001b[0mresult\u001b[0m \u001b[0;34m=\u001b[0m \u001b[0;34m[\u001b[0m\u001b[0mint\u001b[0m\u001b[0;34m(\u001b[0m\u001b[0ms\u001b[0m\u001b[0;34m)\u001b[0m \u001b[0;32mfor\u001b[0m \u001b[0ms\u001b[0m \u001b[0;32min\u001b[0m \u001b[0mll\u001b[0m\u001b[0;34m[\u001b[0m\u001b[0;36m1\u001b[0m\u001b[0;34m:\u001b[0m\u001b[0;34m]\u001b[0m\u001b[0;34m]\u001b[0m\u001b[0;34m\u001b[0m\u001b[0m\n",
      "\u001b[0;31mIOError\u001b[0m: [Errno 2] No such file or directory: '_tmp_.sol'"
     ]
    }
   ],
   "source": [
    "final_embeddings=[]\n",
    "\n",
    "for artist in db.minedArtists.find({ 'name' : 'Deerhoof' }) :\n",
    "    for tour in artist[\"tours\"]:\n",
    "        tourCoords= []\n",
    "        tourdist=0\n",
    "        tourdistOpt=0\n",
    "        print len(tour[\"tourCoords\"])\n",
    "        if len(tour[\"tourCoords\"])>2:\n",
    "            tourCoords=[tuple(tourCoord) for tourCoord in tour[\"tourCoords\"]]\n",
    "            #print tourCoords\n",
    "            t=tsp(tourCoords)\n",
    "            t.solve()\n",
    "            print t.result\n",
    "            print t.points\n",
    "            print \"long\",len (t.result)\n",
    "            i = 0\n",
    "            while i < len (t.result)-1:\n",
    "                res=t.result[i]\n",
    "                res2=t.result[i+1]\n",
    "                #print vincenty(t.points[res],t.points[res2]).kilometers\n",
    "                tourdistOpt= tourdistOpt + vincenty(t.points[res],t.points[res2]).kilometers\n",
    "                i+=1\n",
    "            j = 0\n",
    "            while j < len (tourCoords)-1:\n",
    "                \n",
    "                #print vincenty(t.points[res],t.points[res2]).kilometers\n",
    "                tourdist= tourdist + vincenty(tourCoords[j],tourCoords[j+1]).kilometers\n",
    "                j+=1\n",
    "            \n",
    "            print \"DEFAULT TOUR DIST\",tourdist\n",
    "            print \"TOURDISTOPTIMIZED\",tourdistOpt\n",
    "            \n"
   ]
  }
 ],
 "metadata": {
  "kernelspec": {
   "display_name": "Python 2",
   "language": "python",
   "name": "python2"
  },
  "language_info": {
   "codemirror_mode": {
    "name": "ipython",
    "version": 2
   },
   "file_extension": ".py",
   "mimetype": "text/x-python",
   "name": "python",
   "nbconvert_exporter": "python",
   "pygments_lexer": "ipython2",
   "version": "2.7.13"
  }
 },
 "nbformat": 4,
 "nbformat_minor": 2
}
