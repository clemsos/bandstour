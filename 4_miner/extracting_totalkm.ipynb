{
 "cells": [
  {
   "cell_type": "code",
   "execution_count": 13,
   "metadata": {
    "scrolled": false
   },
   "outputs": [],
   "source": [
    "import os\n",
    "import json\n",
    "import pymongo\n",
    "#import musicbrainzngs\n",
    "import arrow\n",
    "from datetime import datetime\n",
    "from pymongo import MongoClient\n",
    "from collections import defaultdict\n",
    "from dateutil import parser\n",
    "from collections import OrderedDict\n",
    "from operator import itemgetter\n",
    "# setup mongo\n",
    "client = MongoClient()\n",
    "db = client[\"bandstour\"]\n",
    "bandsintown =  db[\"minedArtists\"]\n",
    "totalkmAll={}\n",
    "# date parsing\n",
    "DATETIME_FORMAT = '%Y-%m-%dT%H:%M:%S'\n",
    "DATETIME_FORMAT_FOR_MSBNZ ='%Y-%m-%d'\n",
    "\n",
    "#retrieve trip coords for each artist\n",
    "dict_coords={}\n",
    "totalkmSum =0\n",
    "file = open(\"./totalkmfile.txt\",\"w\")\n",
    "\n",
    "for artist in db.minedArtists.find() :\n",
    "#for artist in db.minedArtists.find({slug : /.*Chic.*/}) :\n",
    "    #print artist[\"name\"]\n",
    "    #print artist\n",
    "    \n",
    "    totalkm = \"\"\n",
    "    \n",
    "    totalkm = artist.get(\"totalKm\")   \n",
    "    totalkmSum += totalkm\n",
    "    \n",
    "    #print artist[\"name\"],\" \",totalkm\n",
    "    totalkmAll[artist[\"name\"]]=totalkm\n",
    "\n",
    "totalkmAll2=OrderedDict( sorted(totalkmAll.items(), key=lambda x:x[1],reverse=True) )\n",
    "\n",
    "file.write(\" Somme des distances parcourues par les \"+str(len(totalkmAll))+\" artistes pris en compte : \"+ str(totalkmSum)+\"\\n\")\n",
    "file.write( \" | \"+\"nom de l'artiste\"+\" | \"+ \"km parcourus\"+\" | \"+\"\\n\")\n",
    "for artistt in totalkmAll2:\n",
    "    \n",
    "    file.write( \" | \"+artistt.encode('utf-8')+\" | \"+ str(totalkmAll2[artistt])+\" | \"+\"\\n\")\n",
    "file.close()"
   ]
  },
  {
   "cell_type": "code",
   "execution_count": null,
   "metadata": {
    "collapsed": true
   },
   "outputs": [],
   "source": []
  }
 ],
 "metadata": {
  "kernelspec": {
   "display_name": "Python 2",
   "language": "python",
   "name": "python2"
  },
  "language_info": {
   "codemirror_mode": {
    "name": "ipython",
    "version": 2
   },
   "file_extension": ".py",
   "mimetype": "text/x-python",
   "name": "python",
   "nbconvert_exporter": "python",
   "pygments_lexer": "ipython2",
   "version": "2.7.13"
  }
 },
 "nbformat": 4,
 "nbformat_minor": 2
}
