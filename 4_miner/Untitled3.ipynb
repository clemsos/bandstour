{
 "cells": [
  {
   "cell_type": "code",
   "execution_count": null,
   "metadata": {
    "collapsed": true
   },
   "outputs": [],
   "source": []
  },
  {
   "cell_type": "code",
   "execution_count": 17,
   "metadata": {},
   "outputs": [
    {
     "name": "stdout",
     "output_type": "stream",
     "text": [
      "8\n",
      "3\n",
      "2\n",
      "2\n",
      "22\n",
      "5\n",
      "6\n",
      "6\n",
      "7\n",
      "3\n",
      "14\n",
      "8\n",
      "4\n",
      "6\n",
      "2\n",
      "7\n",
      "7\n",
      "23\n",
      "8\n",
      "3\n",
      "4\n",
      "9\n",
      "4\n",
      "9\n",
      "11\n",
      "9\n",
      "5\n",
      "6\n",
      "6\n",
      "8\n",
      "10\n",
      "7\n",
      "3\n",
      "SAME  VENUE (40.709992, -73.963529) (40.709992, -73.963529)\n",
      "14\n",
      "2\n",
      "10\n",
      "7\n",
      "2\n",
      "4\n",
      "13\n",
      "5\n",
      "3\n",
      "2\n",
      "10\n",
      "SAME  VENUE (40.6970556, -73.9345632) (40.6970556, -73.9345632)\n",
      "2\n",
      "12\n",
      "11\n",
      "2\n",
      "3\n",
      "SAME  VENUE (35.9641434, -83.9175982) (35.9641434, -83.9175982)\n",
      "9\n",
      "SAME  VENUE (41.85, -87.65) (41.85, -87.65)\n",
      "2\n"
     ]
    }
   ],
   "source": [
    "\n",
    "import geopy\n",
    "\n",
    "import json\n",
    "import pymongo\n",
    "from geopy.distance import vincenty\n",
    "#import musicbrainzngs\n",
    "import arrow\n",
    "from datetime import datetime\n",
    "from pymongo import MongoClient\n",
    "from collections import defaultdict\n",
    "from dateutil import parser\n",
    "# setup mongo\n",
    "client = MongoClient()\n",
    "db = client[\"bandstour\"]\n",
    "bandsintown =  db[\"bandsintown\"]\n",
    "\n",
    "# date parsing\n",
    "DATETIME_FORMAT = '%Y-%m-%dT%H:%M:%S'\n",
    "DATETIME_FORMAT_FOR_MSBNZ ='%Y-%m-%d'\n",
    "for artist in db.minedArtists.find({ 'name' : 'Deerhoof' }) :\n",
    "    for tour in artist[\"tours\"]:\n",
    "        tourCoords= []\n",
    "        tourdist=0\n",
    "        tourdistOpt=0\n",
    "        print len(tour[\"tourCoords\"])\n",
    "        if len(tour[\"tourCoords\"])>2:\n",
    "            tourCoords=[tuple(tourCoord) for tourCoord in tour[\"tourCoords\"]]\n",
    "\n",
    "\n",
    "            # get distances between all pairs\n",
    "            \n",
    "            distances = {}\n",
    "            for i in range(len(tourCoords)-1):\n",
    "                a = tourCoords[i]\n",
    "                distances[a] = {}\n",
    "                for j in range(len(tourCoords)-1):\n",
    "                    b = tourCoords[j]\n",
    "                    if j == i:\n",
    "                        distances[a][b] = 0.\n",
    "                    elif j > i:\n",
    "                        distances[a][b] = vincenty(tourCoords[i],tourCoords[j]).kilometers\n",
    "                        #print distances\n",
    "                    else:\n",
    "                        try:\n",
    "                            distances[a][b] = distances[b][a]\n",
    "                        except KeyError:\n",
    "                            print \"SAME  VENUE\",a,b\n",
    "                            distances[a][b] = 0\n",
    "            distances = pd.DataFrame(distances)\n",
    "            # create input file for Concorde TSP solver\n",
    "            sc_id = 0\n",
    "            output = ''\n",
    "                        \n",
    "                fp.write('%d %g %g\\n' % (i, x, y))\n",
    "            for i, (x, y) in enumerate(tourCoords):\n",
    "                output += '%d %f %f\\n' % (i,x,y)\n",
    "                sc_id += 1\n",
    "\n",
    "            header = \"\"\"NAME : TTS\n",
    "            COMMENT : Traveling Tesla Salesman\n",
    "            TYPE : TSP\n",
    "            DIMENSION : %d\n",
    "            EDGE_WEIGHT_TYPE : GEOM\n",
    "            NODE_COORD_SECTION\n",
    "            \"\"\" % sc_id\n",
    "\n",
    "            with open('sc.tsp', 'w') as output_file:\n",
    "                output_file.write(header)\n",
    "                output_file.write(output)\n"
   ]
  },
  {
   "cell_type": "code",
   "execution_count": 18,
   "metadata": {},
   "outputs": [
    {
     "data": {
      "text/plain": [
       "<matplotlib.text.Text at 0x7fa1a5492190>"
      ]
     },
     "execution_count": 18,
     "metadata": {},
     "output_type": "execute_result"
    }
   ],
   "source": [
    "closest_distances = distances[distances > 0].min()\n",
    "ax = closest_distances.hist(bins=25)\n",
    "ax.set_title('histogram of distances to closest superchargers')\n",
    "ax.set_ylabel('number of superchargers')\n",
    "ax.set_xlabel('miles')\n",
    "\n"
   ]
  },
  {
   "cell_type": "code",
   "execution_count": 19,
   "metadata": {},
   "outputs": [
    {
     "data": {
      "text/plain": [
       "count      7.000000\n",
       "mean     283.192522\n",
       "std       92.439452\n",
       "min      197.031432\n",
       "25%      216.459982\n",
       "50%      235.888532\n",
       "75%      344.820777\n",
       "max      426.866172\n",
       "dtype: float64"
      ]
     },
     "execution_count": 19,
     "metadata": {},
     "output_type": "execute_result"
    }
   ],
   "source": [
    "closest_distances.describe()"
   ]
  }
 ],
 "metadata": {
  "kernelspec": {
   "display_name": "Python 2",
   "language": "python",
   "name": "python2"
  },
  "language_info": {
   "codemirror_mode": {
    "name": "ipython",
    "version": 2
   },
   "file_extension": ".py",
   "mimetype": "text/x-python",
   "name": "python",
   "nbconvert_exporter": "python",
   "pygments_lexer": "ipython2",
   "version": "2.7.13"
  }
 },
 "nbformat": 4,
 "nbformat_minor": 2
}
