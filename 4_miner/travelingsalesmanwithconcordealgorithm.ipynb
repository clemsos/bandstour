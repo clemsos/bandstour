{
 "cells": [
  {
   "cell_type": "code",
   "execution_count": 43,
   "metadata": {},
   "outputs": [],
   "source": [
    "from subprocess import Popen\n",
    "import os\n",
    "class tsp:\n",
    "    def __init__(self, points=None):\n",
    "        self.points = points if points else []\n",
    "    def solve(self, filename='_tmp_'):\n",
    "        with open('%s.dat' % filename, 'w') as fp:\n",
    "            fp.write('TYPE : TSP\\nDIMENSION : %d\\n' % len(self.points))\n",
    "            fp.write('EDGE_WEIGHT_TYPE : EUC_2D\\nNODE_COORD_SECTION\\n')\n",
    "            for i, (x, y) in enumerate(self.points):\n",
    "                fp.write('%d %g %g\\n' % (i, x, y))\n",
    "            fp.write('EOF\\n')\n",
    "        prc = Popen('/usr/bin/concorde %s.dat' % filename, shell=True)\n",
    "        prc.wait()\n",
    "        with open('%s.sol' % filename) as fp:\n",
    "            ll = (''.join(fp)).split()\n",
    "        self.result = [int(s) for s in ll[1:]]\n",
    "        for s in ('%s.dat', '%s.sol'): os.remove(s % filename)"
   ]
  },
  {
   "cell_type": "code",
   "execution_count": 44,
   "metadata": {},
   "outputs": [
    {
     "name": "stdout",
     "output_type": "stream",
     "text": [
      "[0, 1, 3, 2]\n"
     ]
    }
   ],
   "source": [
    "t = tsp([(0,0), (0,1), (1,0), (1,1)])\n",
    "t.solve()\n",
    "print(t.result)"
   ]
  }
 ],
 "metadata": {
  "kernelspec": {
   "display_name": "Python 2",
   "language": "python",
   "name": "python2"
  },
  "language_info": {
   "codemirror_mode": {
    "name": "ipython",
    "version": 2
   },
   "file_extension": ".py",
   "mimetype": "text/x-python",
   "name": "python",
   "nbconvert_exporter": "python",
   "pygments_lexer": "ipython2",
   "version": "2.7.13"
  }
 },
 "nbformat": 4,
 "nbformat_minor": 2
}
