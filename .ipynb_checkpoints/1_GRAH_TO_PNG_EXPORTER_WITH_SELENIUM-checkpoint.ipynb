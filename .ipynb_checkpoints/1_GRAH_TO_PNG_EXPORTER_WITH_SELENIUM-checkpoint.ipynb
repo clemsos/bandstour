{
 "cells": [
  {
   "cell_type": "code",
   "execution_count": 2,
   "metadata": {
    "collapsed": true
   },
   "outputs": [],
   "source": [
    "import time\n",
    "import sys\n",
    "import selenium\n",
    "import os\n",
    "import json\n",
    "import pymongo\n",
    "#import arrow\n",
    "from pymongo import MongoClient\n",
    "from selenium import webdriver\n",
    "from selenium.webdriver.firefox.options import Options\n",
    "from selenium.webdriver.common.by import By\n",
    "from selenium.webdriver.support.ui import WebDriverWait # available since 2.4.0\n",
    "from selenium.webdriver.support import expected_conditions as EC # available since 2.26.0\n",
    "\n",
    "options = Options()\n",
    "options.add_argument( \"--headless\" )\n",
    "\n",
    "\n",
    "def save_screenshot( path,name,id):\n",
    " for GRAPH in [\"map\",\"network\"]:\n",
    "  if os.path.exists(\"./OUTPUTPICS/\"+name+\"_\"+GRAPH+'.png')==False:\n",
    "  #if \"./OUTPUTPICS/\"+name+\"_\"+GRAPH+'.png' not in folder:\n",
    "    driver = webdriver.Firefox( firefox_options=options )\n",
    "    driver.implicitly_wait(30)\n",
    "    driver.get(path+id+\"/\"+GRAPH)\n",
    "    driver.set_window_size(1920, 1080)\n",
    "    if GRAPH == \"map\":\n",
    "        time.sleep(10)\n",
    "    else:\n",
    "        time.sleep(10)\n",
    "    driver.save_screenshot(\"./OUTPUTPICS/\"+name+\"_\"+GRAPH+'.png')\n",
    "    print driver.title\n",
    "    print driver.current_url\n",
    "    driver.quit()\n",
    "\n",
    "  else:\n",
    "    print 'DEJA LA'\n",
    "    pass\n",
    "    "
   ]
  },
  {
   "cell_type": "code",
   "execution_count": 3,
   "metadata": {},
   "outputs": [
    {
     "name": "stdout",
     "output_type": "stream",
     "text": [
      "39iqjDJHzmZmkWR2Q\n",
      "The Real McKenzies\n",
      "180910.931868\n",
      "False\n",
      "oGFhe45pfSKAqETJ7\n",
      "Killer Queen\n",
      "66035.1567652\n",
      "False\n",
      "GocyrWfozmCfa4yd3\n",
      "D.O.D\n",
      "338811.013485\n",
      "True\n"
     ]
    },
    {
     "name": "stderr",
     "output_type": "stream",
     "text": [
      "/home/goonieb/.local/lib/python2.7/site-packages/ipykernel_launcher.py:23: DeprecationWarning: use options instead of firefox_options\n"
     ]
    },
    {
     "name": "stdout",
     "output_type": "stream",
     "text": [
      "BandsTour - Geonetworks to study music in the digital age\n",
      "http://localhost:3000/topograms/GocyrWfozmCfa4yd3/map\n",
      "BandsTour - Geonetworks to study music in the digital age\n",
      "http://localhost:3000/topograms/GocyrWfozmCfa4yd3/network\n",
      "QcXbcG4ci8x5ayEyF\n",
      "Elijah\n",
      "171545.644143\n",
      "False\n",
      "DiixyMLKSB4Ltgfhu\n",
      "Blackout\n",
      "178016.041059\n",
      "False\n",
      "PN4EJkxFv4efzMr7T\n",
      "Dirty Heads\n",
      "501928.119508\n",
      "True\n"
     ]
    },
    {
     "ename": "KeyboardInterrupt",
     "evalue": "",
     "output_type": "error",
     "traceback": [
      "\u001b[0;31m---------------------------------------------------------------------------\u001b[0m",
      "\u001b[0;31mKeyboardInterrupt\u001b[0m                         Traceback (most recent call last)",
      "\u001b[0;32m<ipython-input-3-613c9b234380>\u001b[0m in \u001b[0;36m<module>\u001b[0;34m()\u001b[0m\n\u001b[1;32m     22\u001b[0m       \u001b[0;32mprint\u001b[0m \u001b[0;34m\"True\"\u001b[0m\u001b[0;34m\u001b[0m\u001b[0m\n\u001b[1;32m     23\u001b[0m       \u001b[0;31m#if \"./OUTPUTPICS/\"+name+\"_\"+GRAPH+'.png' not in folder: FOR RESUME\u001b[0m\u001b[0;34m\u001b[0m\u001b[0;34m\u001b[0m\u001b[0m\n\u001b[0;32m---> 24\u001b[0;31m       \u001b[0msave_screenshot\u001b[0m\u001b[0;34m(\u001b[0m \u001b[0mpath\u001b[0m\u001b[0;34m,\u001b[0m\u001b[0mname\u001b[0m\u001b[0;34m,\u001b[0m\u001b[0mid\u001b[0m\u001b[0;34m)\u001b[0m\u001b[0;34m\u001b[0m\u001b[0m\n\u001b[0m\u001b[1;32m     25\u001b[0m   \u001b[0;32melse\u001b[0m\u001b[0;34m:\u001b[0m\u001b[0;34m\u001b[0m\u001b[0m\n\u001b[1;32m     26\u001b[0m       \u001b[0;32mprint\u001b[0m \u001b[0;34m\"False\"\u001b[0m\u001b[0;34m\u001b[0m\u001b[0m\n",
      "\u001b[0;32m<ipython-input-2-b4abb577a289>\u001b[0m in \u001b[0;36msave_screenshot\u001b[0;34m(path, name, id)\u001b[0m\n\u001b[1;32m     26\u001b[0m     \u001b[0mdriver\u001b[0m\u001b[0;34m.\u001b[0m\u001b[0mset_window_size\u001b[0m\u001b[0;34m(\u001b[0m\u001b[0;36m1920\u001b[0m\u001b[0;34m,\u001b[0m \u001b[0;36m1080\u001b[0m\u001b[0;34m)\u001b[0m\u001b[0;34m\u001b[0m\u001b[0m\n\u001b[1;32m     27\u001b[0m     \u001b[0;32mif\u001b[0m \u001b[0mGRAPH\u001b[0m \u001b[0;34m==\u001b[0m \u001b[0;34m\"map\"\u001b[0m\u001b[0;34m:\u001b[0m\u001b[0;34m\u001b[0m\u001b[0m\n\u001b[0;32m---> 28\u001b[0;31m         \u001b[0mtime\u001b[0m\u001b[0;34m.\u001b[0m\u001b[0msleep\u001b[0m\u001b[0;34m(\u001b[0m\u001b[0;36m10\u001b[0m\u001b[0;34m)\u001b[0m\u001b[0;34m\u001b[0m\u001b[0m\n\u001b[0m\u001b[1;32m     29\u001b[0m     \u001b[0;32melse\u001b[0m\u001b[0;34m:\u001b[0m\u001b[0;34m\u001b[0m\u001b[0m\n\u001b[1;32m     30\u001b[0m         \u001b[0mtime\u001b[0m\u001b[0;34m.\u001b[0m\u001b[0msleep\u001b[0m\u001b[0;34m(\u001b[0m\u001b[0;36m10\u001b[0m\u001b[0;34m)\u001b[0m\u001b[0;34m\u001b[0m\u001b[0m\n",
      "\u001b[0;31mKeyboardInterrupt\u001b[0m: "
     ]
    }
   ],
   "source": [
    "   \n",
    "\n",
    "## setup mongo\n",
    "client = MongoClient()\n",
    "db = client[\"Bandstour_results_meteor\"]\n",
    "col=db['topograms']\n",
    "\n",
    "# credentials\n",
    "TOPOGRAM_URL = \"http://localhost:3000\"\n",
    "USER = \"gregory.bahde@laposte.net\"\n",
    "PASSWORD = \"matrix\"\n",
    "path='http://localhost:3000/topograms/'\n",
    "\n",
    "#\n",
    "for topo in col.find({}):\n",
    "     print topo['_id']\n",
    "     print topo['title'].split('/BETA')[0]\n",
    "     name=topo['title'].split('/BETA')[0]\n",
    "     id=topo['_id']\n",
    "     print topo['title'].split('/BETA')[1].split(\"Distance totale parcourue par l'artiste: \")[1].split(' km')[0]\n",
    "     if float(topo['title'].split('/BETA')[1].split(\"Distance totale parcourue par l'artiste: \")[1].split(' km')[0]) > 200000:\n",
    "         print \"True\"\n",
    "         #if \"./OUTPUTPICS/\"+name+\"_\"+GRAPH+'.png' not in folder: FOR RESUME\n",
    "         save_screenshot( path,name,id)\n",
    "     else:\n",
    "         print \"False\"\n",
    "     #save_screenshot( path,name,id)\n",
    "\n",
    "\n",
    "sys.exit()"
   ]
  },
  {
   "cell_type": "code",
   "execution_count": null,
   "metadata": {
    "collapsed": true
   },
   "outputs": [],
   "source": [
    "##COPY FILES TO JPG FORMAT"
   ]
  },
  {
   "cell_type": "code",
   "execution_count": null,
   "metadata": {
    "collapsed": true
   },
   "outputs": [],
   "source": [
    "import glob, os\n",
    "from PIL import Image\n",
    "#from PIL.Image import ANTIALIAS\n",
    "os.chdir(\"./OUTPUTNET\")\n",
    "size= 800,600\n",
    "for file in glob.glob(\"*.png\"):\n",
    "    print(file)\n",
    "    im = Image.open(file)\n",
    "    im.thumbnail(size,Image.ANTIALIAS)\n",
    "    rgb_im = im.convert('RGB')\n",
    "    rgb_im.save(file.split(\".png\")[0]+'.jpg')\n"
   ]
  },
  {
   "cell_type": "code",
   "execution_count": 10,
   "metadata": {},
   "outputs": [
    {
     "ename": "IndentationError",
     "evalue": "unindent does not match any outer indentation level (<ipython-input-10-9f7544ff640e>, line 26)",
     "output_type": "error",
     "traceback": [
      "\u001b[0;36m  File \u001b[0;32m\"<ipython-input-10-9f7544ff640e>\"\u001b[0;36m, line \u001b[0;32m26\u001b[0m\n\u001b[0;31m    print m\u001b[0m\n\u001b[0m           ^\u001b[0m\n\u001b[0;31mIndentationError\u001b[0m\u001b[0;31m:\u001b[0m unindent does not match any outer indentation level\n"
     ]
    }
   ],
   "source": [
    "-"
   ]
  },
  {
   "cell_type": "code",
   "execution_count": null,
   "metadata": {
    "collapsed": true
   },
   "outputs": [],
   "source": []
  }
 ],
 "metadata": {
  "kernelspec": {
   "display_name": "Python 2",
   "language": "python",
   "name": "python2"
  },
  "language_info": {
   "codemirror_mode": {
    "name": "ipython",
    "version": 2
   },
   "file_extension": ".py",
   "mimetype": "text/x-python",
   "name": "python",
   "nbconvert_exporter": "python",
   "pygments_lexer": "ipython2",
   "version": "2.7.16+"
  }
 },
 "nbformat": 4,
 "nbformat_minor": 2
}
