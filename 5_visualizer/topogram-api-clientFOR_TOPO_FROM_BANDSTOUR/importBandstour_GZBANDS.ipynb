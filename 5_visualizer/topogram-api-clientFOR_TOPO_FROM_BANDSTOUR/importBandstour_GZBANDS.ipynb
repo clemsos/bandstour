{
 "cells": [
  {
   "cell_type": "code",
   "execution_count": 40,
   "metadata": {
    "collapsed": true
   },
   "outputs": [],
   "source": [
    "#!/usr/bin/env python\n",
    "# -*- coding: utf-8 -*-\n",
    "\n",
    "from topogram_client import TopogramAPIClient\n",
    "\n",
    "from csv import DictReader\n",
    "import os\n",
    "import json\n",
    "import pymongo\n",
    "#import musicbrainzngs\n",
    "import arrow\n",
    "from datetime import datetime\n",
    "from pymongo import MongoClient\n",
    "from collections import defaultdict\n",
    "from dateutil import parser\n",
    "from datetime import timedelta\n",
    "import pickle\n",
    "import time\n",
    "from slugify import slugify\n",
    "from fuzzywuzzy import fuzz\n",
    "import urllib\n",
    "import math\n",
    "\n",
    "##SET PATH TO SAVE FILES:\n",
    "savpath=\"./bands_dicts_GZ/\"\n"
   ]
  },
  {
   "cell_type": "code",
   "execution_count": 41,
   "metadata": {
    "collapsed": true
   },
   "outputs": [],
   "source": [
    "#a function to have a range of colors for nodes/edges \n",
    "import colorsys\n",
    "def get_N_HexCol(N=20):\n",
    "\n",
    "    HSV_tuples = [(x*1.0/N, 0.5, 0.5) for x in xrange(N)]\n",
    "    hex_out = []\n",
    "    for rgb in HSV_tuples:\n",
    "        rgb = map(lambda x: int(x*255),colorsys.hsv_to_rgb(*rgb))\n",
    "        hex_out.append(\"\".join(map(lambda x: chr(x).encode('hex'),rgb)))\n",
    "    return hex_out"
   ]
  },
  {
   "cell_type": "code",
   "execution_count": 42,
   "metadata": {
    "collapsed": true
   },
   "outputs": [],
   "source": [
    "def create_topogram(title, nodes, edges):\n",
    "\n",
    "    print \"Creating topogram '%s'\"%title\n",
    "\n",
    "    try :\n",
    "        r = topogram.create_topogram(title)\n",
    "    except ValueError:\n",
    "        print '> Topogram already exists'\n",
    "        r = topogram.get_topogram_by_name(title)\n",
    "    print r\n",
    "    topogram_ID = r[\"data\"][\"_id\"]\n",
    "    print \"topogram ID : %s\"%topogram_ID\n",
    "\n",
    "    # get and backup existing nodes and edges\n",
    "    existing_nodes = topogram.get_nodes(topogram_ID)[\"data\"]\n",
    "    existing_edges = topogram.get_edges(topogram_ID)[\"data\"]\n",
    "\n",
    "    # clear existing graph\n",
    "    if len(existing_nodes):\n",
    "        topogram.delete_nodes([n[\"_id\"] for n in existing_nodes])\n",
    "        print \"%s nodes deleted\"%len(existing_nodes)\n",
    "    if len(existing_edges):\n",
    "        topogram.delete_edges([n[\"_id\"] for n in existing_edges])\n",
    "        print \"%s edges deleted\"%len(existing_edges)\n",
    "\n",
    "    r = topogram.create_nodes(topogram_ID, nodes)\n",
    "    #print r\n",
    "    print \"%s nodes created.\"%len(r[\"data\"])\n",
    "    r = topogram.create_edges(topogram_ID, edges)\n",
    "    print \"%s edges created.\"%len(r[\"data\"])\n",
    "\n",
    "    print \"done. Topogram has been updated. Check it at %s/topograms/%s\"%(TOPOGRAM_URL, topogram_ID)\n",
    "\n"
   ]
  },
  {
   "cell_type": "code",
   "execution_count": 7,
   "metadata": {
    "scrolled": true
   },
   "outputs": [
    {
     "name": "stdout",
     "output_type": "stream",
     "text": [
      "{1: {'tourLength': 9, 'tourdist': 8537.241216520675, 'tourYear': 2008, 'tourdistOpt': 9340.712656690901}, 2: {'tourLength': 3, 'tourdist': 3897.598127259958, 'tourYear': 2008, 'tourdistOpt': 3897.598127259958}, 3: {'tourLength': 291, 'tourdist': 925631.7134221339, 'tourYear': 2009, 'tourdistOpt': 89218.14117402385}, 4: {'tourLength': 131, 'tourdist': 356680.719377711, 'tourYear': 2011, 'tourdistOpt': 69151.9293533915}, 'name': u'Steve Aoki', 6: {'tourLength': 355, 'tourdist': 914263.7746566971, 'tourYear': 2012, 'tourdistOpt': 100187.90882039357}, 7: {'tourLength': 188, 'tourdist': 546725.6589293461, 'tourYear': 2014, 'tourdistOpt': 78159.49849836492}, 8: {'tourLength': 102, 'tourdist': 278360.29618725023, 'tourYear': 2015, 'tourdistOpt': 65007.757952787164}, 9: {'tourLength': 235, 'tourdist': 769053.0295231593, 'tourYear': 2016, 'tourdistOpt': 86929.62433792242}, 'totalArtistOptTourDist': 515747.87721413205, 'OptArtistPercent': 86.55463586381427, 'totalArtistTourDist': 3835878.835189679, 'resultsYears': {2016: {'stattoursLength': 0.24338624338624337, 'toursLength': 235, 'toursDistOpt': 86929.62433792242, 'stattoursDist': 0.4034257696765633, 'toursDist': 769053.0295231593, 'stattoursDistOpt': 0.17985433823281124, 'toursCount': 1, 'stattoursCount': 0.0}, 'statMeanYeartoursLength': 189, 'statMeanYeartoursCount': 1, 'statMeanYearDistOpt': 73678.26817344743, 'statNbYear': 7, 2008: {'stattoursLength': -0.9365079365079365, 'toursLength': 12, 'toursDistOpt': 13238.31078395086, 'stattoursDist': -0.9773079705730172, 'toursDist': 12434.839343780633, 'stattoursDistOpt': -0.8203227204962759, 'toursCount': 2, 'stattoursCount': 1.0}, 2009: {'stattoursLength': 0.5396825396825397, 'toursLength': 291, 'toursDistOpt': 89218.14117402385, 'stattoursDist': 0.6891623203824524, 'toursDist': 925631.7134221339, 'stattoursDistOpt': 0.21091528595641945, 'toursCount': 1, 'stattoursCount': 0.0}, 'statMeanYearDist': 547982.6907413828, 2011: {'stattoursLength': -0.2275132275132275, 'toursLength': 146, 'toursDistOpt': 83006.63564668923, 'stattoursDist': -0.2893762344929777, 'toursDist': 389409.5231273115, 'stattoursDistOpt': 0.12660948342707662, 'toursCount': 2, 'stattoursCount': 1.0}, 2012: {'stattoursLength': 0.8783068783068783, 'toursLength': 355, 'toursDistOpt': 100187.90882039357, 'stattoursDist': 0.6684172513182145, 'toursDist': 914263.7746566971, 'stattoursDistOpt': 0.359802711221975, 'toursCount': 1, 'stattoursCount': 0.0}, 2014: {'stattoursLength': -0.005291005291005291, 'toursLength': 188, 'toursDistOpt': 78159.49849836492, 'stattoursDist': -0.0022939261280971587, 'toursDist': 546725.6589293461, 'stattoursDistOpt': 0.06082160229890497, 'toursCount': 1, 'stattoursCount': 0.0}, 2015: {'stattoursLength': -0.4603174603174603, 'toursLength': 102, 'toursDistOpt': 65007.757952787164, 'stattoursDist': -0.4920272101831393, 'toursDist': 278360.29618725023, 'stattoursDistOpt': -0.11768070064091155, 'toursCount': 1, 'stattoursCount': 0.0}}, 5: {'tourLength': 15, 'tourdist': 32728.803749600458, 'tourYear': 2011, 'tourdistOpt': 13854.706293297728}}\n"
     ]
    }
   ],
   "source": [
    "artist={}\n",
    "artist[\"name\"]=\"steve-aoki\"\n",
    "artist[\"mbid\"]=\"a39acc4a-985e-4173-a9ed-f325f2d3bc1c\"\n",
    "\n",
    "with open(\"../../4_miner/tour_miner/\"+slugify(artist[\"name\"]+artist[\"mbid\"])+\".obj\", 'rb') as handle:\n",
    "          tempL= pickle.load( handle)\n",
    "print tempL"
   ]
  },
  {
   "cell_type": "code",
   "execution_count": 34,
   "metadata": {
    "scrolled": true
   },
   "outputs": [
    {
     "ename": "EOFError",
     "evalue": "",
     "output_type": "error",
     "traceback": [
      "\u001b[0;31m---------------------------------------------------------------------------\u001b[0m",
      "\u001b[0;31mEOFError\u001b[0m                                  Traceback (most recent call last)",
      "\u001b[0;32m<ipython-input-34-c623dc4f0336>\u001b[0m in \u001b[0;36m<module>\u001b[0;34m()\u001b[0m\n\u001b[1;32m      1\u001b[0m \u001b[0;31m###HERE WE BUILD A LABEL OWNERSHIP CRUSHER FACTORIZED\u001b[0m\u001b[0;34m\u001b[0m\u001b[0;34m\u001b[0m\u001b[0m\n\u001b[1;32m      2\u001b[0m \u001b[0;32mwith\u001b[0m \u001b[0mopen\u001b[0m\u001b[0;34m(\u001b[0m\u001b[0;34m\"../../4_miner/labels_aliases_TOTAL.obj\"\u001b[0m\u001b[0;34m,\u001b[0m \u001b[0;34m'rb'\u001b[0m\u001b[0;34m)\u001b[0m \u001b[0;32mas\u001b[0m \u001b[0mhandle\u001b[0m\u001b[0;34m:\u001b[0m\u001b[0;34m\u001b[0m\u001b[0m\n\u001b[0;32m----> 3\u001b[0;31m           \u001b[0mtempRelAll\u001b[0m\u001b[0;34m=\u001b[0m \u001b[0mpickle\u001b[0m\u001b[0;34m.\u001b[0m\u001b[0mload\u001b[0m\u001b[0;34m(\u001b[0m \u001b[0mhandle\u001b[0m\u001b[0;34m)\u001b[0m\u001b[0;34m\u001b[0m\u001b[0m\n\u001b[0m\u001b[1;32m      4\u001b[0m \u001b[0;32mdef\u001b[0m \u001b[0mfind_owning_label\u001b[0m\u001b[0;34m(\u001b[0m\u001b[0mlabel\u001b[0m\u001b[0;34m)\u001b[0m\u001b[0;34m:\u001b[0m\u001b[0;34m\u001b[0m\u001b[0m\n\u001b[1;32m      5\u001b[0m \u001b[0;34m\u001b[0m\u001b[0m\n",
      "\u001b[0;32m/home/goonieb/anaconda2/lib/python2.7/pickle.pyc\u001b[0m in \u001b[0;36mload\u001b[0;34m(file)\u001b[0m\n\u001b[1;32m   1382\u001b[0m \u001b[0;34m\u001b[0m\u001b[0m\n\u001b[1;32m   1383\u001b[0m \u001b[0;32mdef\u001b[0m \u001b[0mload\u001b[0m\u001b[0;34m(\u001b[0m\u001b[0mfile\u001b[0m\u001b[0;34m)\u001b[0m\u001b[0;34m:\u001b[0m\u001b[0;34m\u001b[0m\u001b[0m\n\u001b[0;32m-> 1384\u001b[0;31m     \u001b[0;32mreturn\u001b[0m \u001b[0mUnpickler\u001b[0m\u001b[0;34m(\u001b[0m\u001b[0mfile\u001b[0m\u001b[0;34m)\u001b[0m\u001b[0;34m.\u001b[0m\u001b[0mload\u001b[0m\u001b[0;34m(\u001b[0m\u001b[0;34m)\u001b[0m\u001b[0;34m\u001b[0m\u001b[0m\n\u001b[0m\u001b[1;32m   1385\u001b[0m \u001b[0;34m\u001b[0m\u001b[0m\n\u001b[1;32m   1386\u001b[0m \u001b[0;32mdef\u001b[0m \u001b[0mloads\u001b[0m\u001b[0;34m(\u001b[0m\u001b[0mstr\u001b[0m\u001b[0;34m)\u001b[0m\u001b[0;34m:\u001b[0m\u001b[0;34m\u001b[0m\u001b[0m\n",
      "\u001b[0;32m/home/goonieb/anaconda2/lib/python2.7/pickle.pyc\u001b[0m in \u001b[0;36mload\u001b[0;34m(self)\u001b[0m\n\u001b[1;32m    862\u001b[0m             \u001b[0;32mwhile\u001b[0m \u001b[0;36m1\u001b[0m\u001b[0;34m:\u001b[0m\u001b[0;34m\u001b[0m\u001b[0m\n\u001b[1;32m    863\u001b[0m                 \u001b[0mkey\u001b[0m \u001b[0;34m=\u001b[0m \u001b[0mread\u001b[0m\u001b[0;34m(\u001b[0m\u001b[0;36m1\u001b[0m\u001b[0;34m)\u001b[0m\u001b[0;34m\u001b[0m\u001b[0m\n\u001b[0;32m--> 864\u001b[0;31m                 \u001b[0mdispatch\u001b[0m\u001b[0;34m[\u001b[0m\u001b[0mkey\u001b[0m\u001b[0;34m]\u001b[0m\u001b[0;34m(\u001b[0m\u001b[0mself\u001b[0m\u001b[0;34m)\u001b[0m\u001b[0;34m\u001b[0m\u001b[0m\n\u001b[0m\u001b[1;32m    865\u001b[0m         \u001b[0;32mexcept\u001b[0m \u001b[0m_Stop\u001b[0m\u001b[0;34m,\u001b[0m \u001b[0mstopinst\u001b[0m\u001b[0;34m:\u001b[0m\u001b[0;34m\u001b[0m\u001b[0m\n\u001b[1;32m    866\u001b[0m             \u001b[0;32mreturn\u001b[0m \u001b[0mstopinst\u001b[0m\u001b[0;34m.\u001b[0m\u001b[0mvalue\u001b[0m\u001b[0;34m\u001b[0m\u001b[0m\n",
      "\u001b[0;32m/home/goonieb/anaconda2/lib/python2.7/pickle.pyc\u001b[0m in \u001b[0;36mload_eof\u001b[0;34m(self)\u001b[0m\n\u001b[1;32m    884\u001b[0m \u001b[0;34m\u001b[0m\u001b[0m\n\u001b[1;32m    885\u001b[0m     \u001b[0;32mdef\u001b[0m \u001b[0mload_eof\u001b[0m\u001b[0;34m(\u001b[0m\u001b[0mself\u001b[0m\u001b[0;34m)\u001b[0m\u001b[0;34m:\u001b[0m\u001b[0;34m\u001b[0m\u001b[0m\n\u001b[0;32m--> 886\u001b[0;31m         \u001b[0;32mraise\u001b[0m \u001b[0mEOFError\u001b[0m\u001b[0;34m\u001b[0m\u001b[0m\n\u001b[0m\u001b[1;32m    887\u001b[0m     \u001b[0mdispatch\u001b[0m\u001b[0;34m[\u001b[0m\u001b[0;34m''\u001b[0m\u001b[0;34m]\u001b[0m \u001b[0;34m=\u001b[0m \u001b[0mload_eof\u001b[0m\u001b[0;34m\u001b[0m\u001b[0m\n\u001b[1;32m    888\u001b[0m \u001b[0;34m\u001b[0m\u001b[0m\n",
      "\u001b[0;31mEOFError\u001b[0m: "
     ]
    }
   ],
   "source": [
    "###HERE WE BUILD A LABEL OWNERSHIP CRUSHER FACTORIZED\n",
    "with open(\"../../4_miner/labels_aliases_TOTAL.obj\", 'rb') as handle:\n",
    "          tempRelAll= pickle.load( handle)\n",
    "def find_owning_label(label):\n",
    "    \n",
    "    labrels=[]\n",
    "    if \"label-relation-list\" in tempRelAll[label][\"label\"] :\n",
    "\n",
    "        for relat in tempRelAll[label][\"label\"][\"label-relation-list\"]:\n",
    "            if \"direction\" in relat and relat[\"direction\"] == \"backward\":\n",
    "                print tempRelAll[label][\"label\"][\"name\"],\"OWNED BY\",relat[\"target\"],\" \",tempRelAll[relat[\"target\"]][\"label\"][\"name\"]\n",
    "                labrels.append(relat[\"target\"])\n",
    "                rum_and_whisky=\"\"\n",
    "                while rum_and_whisky != \"SELF\": \n",
    "                    rum_and_whisky=find_owning_label(relat[\"target\"])\n",
    "                print \"ENDED LOOP\"\n",
    "                labrels.remove(relat[\"target\"])\n",
    "                print \"LABRELS\",labrels\n",
    "                #if labrels[0]==relat[\"target\"]:\n",
    "                 #   break\n",
    "                \n",
    "            else:\n",
    "                pass\n",
    "            \n",
    "        \n",
    "        if not labrels :\n",
    "            print \"TOP OF THE TREE FOR \",tempRelAll[label][\"label\"][\"name\"]\n",
    "            return \"SELF\"\n",
    "        else:\n",
    "            return labrels\n",
    "                \n",
    "\n",
    "\n",
    "artist={}\n",
    "artist[\"name\"]=\"Steve Aoki\"\n",
    "artist[\"mbid\"]=\"a39acc4a-985e-4173-a9ed-f325f2d3bc1c\"\n",
    "\n",
    "with open(\"../../4_miner/release_mbnz/\"+artist[\"name\"]+artist[\"mbid\"]+\".obj\", 'rb') as handle:\n",
    "          tempRelz= pickle.load( handle)\n",
    "#print tempRel[\"release-list\"][0]['label-info-list'][0]['label']['id']\n",
    "#print tempRel[\"release-list\"][0]['release-event-list'][0][\"date\"]\n",
    "\n",
    "\n",
    "\n",
    "\n",
    "for release in tempRelz[\"release-list\"]:\n",
    "    print\"---------------------------\"\n",
    "    print release['label-info-list'][0]['label']['id']\n",
    "    print release['label-info-list'][0]['label']['name']\n",
    "    print release['release-event-list'][0][\"date\"]\n",
    "    \n",
    "    #print tempRelAll[release['label-info-list'][0]['label']['id']][\"label\"]\n",
    "    try:\n",
    "        result_lab=find_owning_label(release['label-info-list'][0]['label']['id'])\n",
    "        print \"REZLAB\",result_lab \n",
    "        print\"XXXXXXXXXXXXXXXXXXXXXXXXXXXXXXXXX\"\n",
    "    except KeyError as e:\n",
    "        #print e\n",
    "        pass"
   ]
  },
  {
   "cell_type": "code",
   "execution_count": 43,
   "metadata": {},
   "outputs": [
    {
     "name": "stdout",
     "output_type": "stream",
     "text": [
      "\n",
      "wolves-in-the-throne-room\n",
      "woods\n",
      "regal\n",
      "hot-tears\n",
      "melt-banana\n",
      "dan-sartain\n",
      "shining\n",
      "scout-niblett\n",
      "dalek\n",
      "black-cobra\n",
      "the-eye-of-time\n",
      "salsa\n",
      "ovo\n",
      "geneva-jacuzzi\n",
      "expo\n",
      "lotus-fucker\n",
      "jeffrey-lewis-los-bolts\n",
      "wavves\n",
      "sages-comme-des-sauvages\n",
      "dj\n",
      "trophy-wife\n",
      "mike-watt-the-missingmen\n",
      "sleepy-sun\n",
      "chris-cohen\n",
      "gable\n",
      "damily\n",
      "dysrhythmia\n",
      "deerhoof\n",
      "id\n",
      "stuntman\n",
      "monarch\n",
      "tacocat\n",
      "lithics\n",
      "the-arson-project\n",
      "musique\n",
      "sourdure\n",
      "acid-mother-temple\n",
      "year-of-no-light\n",
      "surrender\n",
      "the-ex\n",
      "tacos\n",
      "institute\n",
      "yonatan-gat\n",
      "gun-outfit\n",
      "france\n",
      "robot-orchestra\n",
      "frankie-cosmos\n",
      "sun-araw\n",
      "baseck\n",
      "dirty-beaches\n",
      "kurt\n",
      "ducktails\n",
      "unsane\n",
      "container\n",
      "cough\n",
      "kylesa\n",
      "ar-ker\n",
      "the-space-lady\n",
      "reverie\n",
      "monochrome\n",
      "salo\n",
      "bob-log-iii\n",
      "guerilla-toss\n",
      "ghold\n",
      "cobra\n",
      "red-alert\n",
      "part-chimp\n",
      "guantanamo-baywatch\n",
      "requin-chagrin\n",
      "shopping\n",
      "cancelled\n",
      "bermuda\n",
      "marisa-anderson\n",
      "dan-friel\n",
      "mdou-moctar\n",
      "low\n",
      "sete-star-sept\n",
      "terry-malts\n",
      "stagger-lee\n",
      "maserati\n",
      "marissa-nadler\n",
      "dead-horses\n",
      "helen-money\n",
      "ed-schrader-s-music-beat\n",
      "purling-hiss\n",
      "cowtown\n",
      "health\n",
      "tune-yards\n",
      "matchess\n",
      "weasel-walter\n",
      "your-old-droog\n",
      "kumisolo\n",
      "goat\n",
      "fm\n",
      "hdbeendope\n",
      "after-party\n",
      "nosferatu\n",
      "francois-virot\n",
      "divorce\n",
      "pierre-bastien\n",
      "russian-circles\n",
      "femme\n",
      "weedeater\n",
      "child-abuse\n",
      "local-heroes\n",
      "des-ark\n",
      "big-eyes\n",
      "warfuck\n",
      "thee-oh-sees\n",
      "usa-nails\n",
      "tonstartssbandht\n",
      "prince-rama\n",
      "palm\n",
      "somaticae\n",
      "burning-heads\n",
      "jeanne-added\n",
      "usa\n",
      "white-magic\n",
      "sneaks\n",
      "game-over\n",
      "the-bats\n",
      "winter-family\n",
      "ut\n",
      "deerhunter\n",
      "street-eaters\n",
      "zola-jesus\n",
      "eric-copeland\n",
      "orval-carlos-sibelius\n",
      "mirah\n",
      "zu\n",
      "pinback\n",
      "futuroscope\n",
      "twins\n",
      "richard-dawson\n",
      "michelle-blades\n",
      "arrows-of-love\n",
      "oozing-wound\n",
      "ahleuchatistas\n",
      "colin-stetson\n",
      "saviours\n",
      "charalambides\n",
      "pc-worship\n",
      "dan-deacon\n",
      "embryo\n",
      "xarah-dion\n",
      "bill-orcutt\n",
      "dustin-wong\n",
      "tom\n",
      "ralph-white\n",
      "noir\n",
      "satan\n",
      "boris\n",
      "circuit-des-yeux\n",
      "jason-urick\n",
      "horse-lords\n",
      "josephine-foster\n",
      "shitstorm\n",
      "omerta\n",
      "paranormal\n",
      "table\n",
      "don-t-dj\n",
      "xiu-xiu\n",
      "phosphorescent\n",
      "dj-s\n",
      "jonwayne\n",
      "omni\n",
      "dillon-cooper\n",
      "moonwalker\n",
      "scott-kelly\n",
      "future-punx\n",
      "dope-body\n",
      "jan-jelinek\n",
      "terry\n",
      "tearful-moon\n",
      "chocolat\n",
      "patsy\n",
      "chris-forsyth\n",
      "japanther\n"
     ]
    }
   ],
   "source": [
    "with open(\"../LiSTGZ.obj\", 'rb') as handle:\n",
    "          LISTGZ= pickle.load( handle)\n",
    "for ART in LISTGZ:\n",
    "    print ART"
   ]
  },
  {
   "cell_type": "code",
   "execution_count": 24,
   "metadata": {
    "scrolled": false
   },
   "outputs": [
    {
     "name": "stdout",
     "output_type": "stream",
     "text": [
      "!!!\n",
      "Wolves in the Throne Room\n",
      "Woods\n",
      "Regal\n",
      "Hot Tears\n",
      "Melt-Banana\n",
      "Dan Sartain\n",
      "Shining\n",
      "Scout Niblett\n",
      "Dälek\n",
      "Black Cobra\n",
      "The eye of time\n",
      "salsa\n",
      "OVO\n",
      "Geneva Jacuzzi\n",
      "Expo\n",
      "Lotus Fucker\n",
      "Jeffrey Lewis & Los Bolts\n",
      "Wavves\n",
      "Sages Comme Des Sauvages\n",
      "Dj\n",
      "Trophy Wife\n",
      "mike watt + the missingmen\n",
      "Sleepy Sun\n",
      "Chris Cohen\n",
      "Gablé\n",
      "Damily\n",
      "Dysrhythmia\n",
      "Deerhoof\n",
      "ID\n",
      "Stuntman\n",
      "Monarch\n",
      "Tacocat\n",
      "Lithics\n",
      "The Arson Project\n",
      "Musique\n",
      "Sourdure\n",
      "Acid Mother Temple\n",
      "Year of No Light\n",
      "Surrender\n",
      "The Ex\n",
      "Tacos\n",
      "Institute\n",
      "Yonatan Gat\n",
      "Gun Outfit\n",
      "France\n",
      "Robot Orchestra\n",
      "Frankie Cosmos\n",
      "Sun Araw\n",
      "Baseck\n",
      "Dirty Beaches\n",
      "Kurt\n",
      "Ducktails\n",
      "Unsane\n",
      "Container\n",
      "Cough\n",
      "Kylesa\n",
      "Ar Ker\n",
      "The Space Lady\n",
      "Reverie\n",
      "Monochrome\n",
      "Salo\n",
      "Bob Log III\n",
      "Guerilla Toss\n",
      "Ghold\n",
      "Cobra\n",
      "Red Alert\n",
      "Part Chimp\n",
      "Guantanamo Baywatch\n",
      "Requin Chagrin\n",
      "Shopping\n",
      "Cancelled\n",
      "Bermuda\n",
      "Marisa Anderson\n",
      "Dan Friel\n",
      "Mdou Moctar\n",
      "Low\n",
      "Sete Star Sept\n",
      "Terry Malts\n",
      "Stagger Lee\n",
      "Maserati\n",
      "Marissa Nadler\n",
      "Dead Horses\n",
      "Helen Money\n",
      "Ed Schrader's Music Beat\n",
      "Purling Hiss\n",
      "Cowtown\n",
      "Health\n",
      "tUnE-YaRdS\n",
      "Matchess\n",
      "Weasel Walter\n",
      "Your Old Droog\n",
      "Kumisolo\n",
      "Goat\n",
      "FM\n",
      "HDBeenDope\n",
      "After Party\n",
      "Nosferatu\n",
      "François Virot\n",
      "Divorce\n",
      "Pierre Bastien\n",
      "Russian Circles\n",
      "Femme\n",
      "Weedeater\n",
      "Child Abuse\n",
      "Local Heroes\n",
      "Des Ark\n",
      "Big Eyes\n",
      "WARFUCK\n",
      "Thee Oh Sees\n",
      "USA Nails\n",
      "Tonstartssbandht\n",
      "Prince Rama\n",
      "Palm\n",
      "Somaticae\n",
      "Burning Heads\n",
      "Jeanne Added\n",
      "USA\n",
      "White Magic\n",
      "SNEAKS\n",
      "Game Over\n",
      "The Bats\n",
      "Winter Family\n",
      "Ut\n",
      "Deerhunter\n",
      "Street Eaters\n",
      "Zola Jesus\n",
      "Eric Copeland\n",
      "Orval Carlos Sibelius\n",
      "Mirah\n",
      "Zu\n",
      "Pinback\n",
      "Futuroscope\n",
      "Twins\n",
      "RICHARD DAWSON\n",
      "Michelle Blades\n",
      "Arrows of Love\n",
      "Oozing Wound\n",
      "Ahleuchatistas\n",
      "Colin Stetson\n",
      "Saviours\n",
      "Charalambides\n",
      "PC Worship\n",
      "Dan Deacon\n",
      "Embryo\n",
      "Xarah Dion\n",
      "Bill Orcutt\n",
      "Dustin Wong\n",
      "TOM\n",
      "Ralph White\n",
      "Noir\n",
      "Satan\n",
      "Boris\n",
      "Circuit des yeux\n",
      "Jason Urick\n",
      "Horse Lords\n",
      "Josephine Foster\n",
      "Shitstorm\n",
      "OMERTA\n",
      "Paranormal\n",
      "Table\n",
      "Don't DJ\n",
      "Xiu Xiu\n",
      "Phosphorescent\n",
      "DJ S\n",
      "JonWayne\n",
      "Omni\n",
      "Dillon Cooper\n",
      "Moonwalker\n",
      "Scott Kelly\n",
      "Future Punx\n",
      "Dope Body\n",
      "Jan Jelinek\n",
      "Terry\n",
      "Tearful Moon\n",
      "Chocolat\n",
      "Patsy\n",
      "Chris Forsyth\n",
      "Japanther\n"
     ]
    }
   ],
   "source": [
    "## setup mongo\n",
    "client = MongoClient()\n",
    "db = client[\"bandstour\"]\n",
    "bandsintown =  db[\"minedArtists\"]\n",
    "\n",
    "# credentials\n",
    "TOPOGRAM_URL = \"https://app.topogram.io\"\n",
    "USER = \"gregory.bahde@laposte.net\"\n",
    "PASSWORD = \"matrix\"\n",
    "\n",
    "# data\n",
    "#title = \"Foo Fighters bandstour 0.1\"\n",
    "my_nodesdict = {}\n",
    "my_nodes= []\n",
    "my_edges = []\n",
    "my_edgesdict = {}\n",
    "my_nodesdictGLOBAL={}\n",
    "\n",
    "#LIVENATION CATALOGUE\n",
    "liste_salles_LN = json.load(open('./JSON_LIVENATION_VENUE.json'))\n",
    "\n",
    "liste_salle_parsee_LN={}\n",
    "for salle in liste_salles_LN:\n",
    "    if liste_salles_LN[salle][\"type\"]==\"venue\":\n",
    " \n",
    "            liste_salle_parsee_LN[slugify(liste_salles_LN[salle][\"title\"])]={\"lat\":liste_salles_LN[salle][\"position\"][\"lat\"],\"lng\":liste_salles_LN[salle][\"position\"][\"lng\"]}\n",
    "#print liste_salle_parsee_LN\n",
    "\n",
    "\n",
    "# date parsing\n",
    "DATETIME_FORMAT = '%Y-%m-%dT%H:%M:%S'\n",
    "DATETIME_FORMAT_FOR_MSBNZ ='%Y-%m-%d'\n",
    "\n",
    "#retrieve trip coords for each artist\n",
    "dict_coords={}\n",
    "colors_for_nodes_and_edges = get_N_HexCol()\n",
    "\n",
    "#for artist in db.minedArtists.find({\"totalKm\": {\"$gte\": 250000}}) :\n",
    "for ART in LISTGZ:\n",
    " for artist in db.minedArtists.find({\"slug\" : ART}) :\n",
    "  title = artist[\"name\"]   \n",
    "  if os.path.exists(savpath+slugify(artist[\"name\"]+str(artist[\"mbid\"]))+\".obj\")==True:\n",
    "        my_nodesdict = {}\n",
    "        my_nodesdictList=[]\n",
    "        print \"SKIPPED PROCESSING BUT TAKING INTO ACCOUNT \",artist[\"name\"]\n",
    "        with open(savpath+slugify(artist[\"name\"]+str(artist[\"mbid\"]))+\".obj\", 'rb') as handle:\n",
    "          tempL= pickle.load( handle)\n",
    "    #print \n",
    "        tit=tempL[0].encode(\"utf-8\")\n",
    "        #edgestop=temp[2]\n",
    "        my_nodesdictList=tempL[1]\n",
    "        for node in my_nodesdictList:\n",
    "            my_nodesdict[node[\"data\"][\"id\"]]=node\n",
    "\n",
    "        #print my_nodes\n",
    "        #pass\n",
    " else:\n",
    "    my_nodesdict = {}\n",
    "    my_nodes= []\n",
    "    my_edges = []\n",
    "    my_nodesdictList=[]\n",
    "    my_edgesdict = {}\n",
    "    #colors_for_nodes_and_edges = get_N_HexCol()\n",
    "    \n",
    "    print artist[\"name\"]\n",
    "    #print artist\n",
    "    dates_coords = []\n",
    "    dates = artist.get(\"gigs\")\n",
    "    tours = artist.get(\"tours\")    \n",
    "    singlegigs = artist.get(\"singleGigs\")\n",
    "    dateini=0\n",
    "    touring=0\n",
    "    tour_indice=0\n",
    "    tour_counter_for_CO2=1\n",
    "    tour_counter_for_CO2_lock=0\n",
    "    tmpOLDgig ={}\n",
    "    with open(\"../../4_miner/tour_miner/\"+slugify(artist[\"name\"]+str(artist[\"mbid\"]))+\".obj\", 'rb') as handle:\n",
    "                    tempCO2= pickle.load( handle)\n",
    "    #print tempCO2\n",
    "    #print tours\n",
    "    for tour in tours:\n",
    "        \n",
    "        ##WE NEED TO MATCH TOUR INDICES OF CO2 SPECS FILES...\n",
    "     if tour_counter_for_CO2_lock == 1:\n",
    "        tour_counter_for_CO2+=1\n",
    "     tour_counter_for_CO2_lock=0\n",
    "     tour_color = \"#\"+colors_for_nodes_and_edges[tour_indice % 20]\n",
    "     #print tour_color\n",
    "     #print tour\n",
    "     gig_indice =0\n",
    "     dates = tour.get(\"gigs\")\n",
    "     for date in dates:\n",
    "        #print date.get(\"datetime\")\n",
    "        venue = date.get(\"venue\")\n",
    "        latitude = venue.get(\"latitude\")\n",
    "        longitude = venue.get(\"longitude\")\n",
    "        #print venue\n",
    "        ###concat key\n",
    "        idd= slugify(venue[\"name\"])+str(int(venue[\"latitude\"]))+str(int(venue[\"longitude\"]))\n",
    "        \n",
    "        if idd not in my_nodesdict:\n",
    "            \n",
    "            node = {\n",
    "                    \"id\" : idd,\n",
    "                    \"name\" : slugify(venue[\"name\"]),\n",
    "                    \"lat\" : float(venue[\"latitude\"]),\n",
    "                    \"lng\" : float(venue[\"longitude\"]),\n",
    "                    \"weight\" : float(1),\n",
    "                    \"start\" : date.get(\"datetime\").isoformat(),\n",
    "                    \"end\" : (date.get(\"datetime\")+timedelta(days=1)).isoformat(),\n",
    "                    \"color\" : tour_color,\n",
    "                    \"notes\" : \"name : \"+slugify(venue[\"name\"])+\"  \\nlat : \"+str(float(venue[\"latitude\"]))+\"  \\nlng :\"+str(float(venue[\"longitude\"]))+\"  \\n weight :\"+str(1)+\"  \\nstart : \"+str(date.get(\"datetime\").isoformat())+\"  \\nend : \"+str((date.get(\"datetime\")+timedelta(days=1)).isoformat())+\"  \\ncolor :\"+str(tour_color)+\"  \\n  <a href=\\\"https://google.com/search?q=\"+slugify(venue[\"name\"])+\"\\\" target=\\\"_blank\\\">\"+slugify(venue[\"name\"])+\"</a>\"\n",
    "                #+\"  \\n[search venue named \"+slugify(venue[\"name\"])+\" on google](https://google.com/search?q=\"+slugify(venue[\"name\"])+\")\"\n",
    "                    }\n",
    "        else:\n",
    "                \n",
    "                node = {\n",
    "                    \"id\" : idd,\n",
    "                    \"name\" : slugify(venue[\"name\"]),\n",
    "                    \"lat\" : float(venue[\"latitude\"]),\n",
    "                    \"lng\" : float(venue[\"longitude\"]),\n",
    "                    \"weight\" : math.sqrt(float(int(float(my_nodesdict[idd][\"data\"].get(\"weight\"))**2)+1)) ,\n",
    "                    \"start\" : my_nodesdict[idd][\"data\"].get(\"start\"),\n",
    "                    \"end\" : (date.get(\"datetime\")+timedelta(days=1)).isoformat(),\n",
    "                    \"color\" : tour_color,\n",
    "                    \"notes\" : \"name : \"+slugify(venue[\"name\"])+\"  \\nlat : \"+str(float(venue[\"latitude\"]))+\"  \\nlng :\"+str(float(venue[\"longitude\"]))+\"  \\n weight :\"+str((float(my_nodesdict[idd][\"data\"].get(\"weight\")))**2+1)+\"  \\nstart : \"+str(my_nodesdict[idd][\"data\"].get(\"start\"))+\"  \\nend : \"+(date.get(\"datetime\")+timedelta(days=1)).isoformat()+\"  \\ncolor :\"+tour_color+\"  \\n  <a href=\\\"https://google.com/search?q=\"+slugify(venue[\"name\"])+\"\\\" target=\\\"_blank\\\"> \"+slugify(venue[\"name\"])+\" </a>\"                    #+\"  \\n[search venue named \"+slugify(venue[\"name\"])+\" on google](https://google.com/search?q=\"+slugify(venue[\"name\"])+\")\"\n",
    "                    \n",
    "                    }\n",
    "        if dateini == 0:\n",
    "                dateini =1\n",
    "        else:\n",
    "                #print my_nodes[-1][\"data\"][\"id\"]\n",
    "                #print dates[gig_indice-1][\"distanceToNextGig\"]\n",
    "                \n",
    "                \n",
    "                \n",
    "                notesE=\"\"\n",
    "                notesE+=\"distance : \"\n",
    "                try: \n",
    "                    notesE+=str(dates[gig_indice][\"distanceToNextGig\"])\n",
    "                except KeyError:\n",
    "                    notesE+=\"dates[gig_indice][distanceToNextGig] NOT AVAILABLE\"\n",
    "                notesE+=\" km  \\n\"\n",
    "                notesE+=\"source : \"\n",
    "                notesE+=str(my_nodes[-1][\"data\"][\"id\"])\n",
    "                notesE+=\"  target : \"\n",
    "                notesE+=str(node[\"id\"])\n",
    "                notesE+=\"  \\ndatesource : \"\n",
    "                notesE+=dates[gig_indice -1][\"datetime\"].isoformat()\n",
    "                notesE+=\"  \\ndatetarget : \"\n",
    "                notesE+=dates[gig_indice][\"datetime\"].isoformat()\n",
    "                notesE+=\"  \\ngroup: \"\n",
    "                notesE+=str(int(tour_indice)+1)\n",
    "                #notesE+=\n",
    "                \n",
    "                \n",
    "                #print gig_indice\n",
    "                edge = {\n",
    "                    \"source\" : my_nodes[-1][\"data\"][\"id\"],\n",
    "                    \"target\" : node[\"id\"],\n",
    "                    \"color\" :  tour_color,\n",
    "                    \"notes\" : notesE,\n",
    "                    #\"weight\" : float(e[\"weight\"]),\n",
    "                    \"start\" : dates[gig_indice -1][\"datetime\"].isoformat(),\n",
    "                    \"end\" : dates[gig_indice][\"datetime\"].isoformat(),\n",
    "                    \"group\" : str(tour_counter_for_CO2)\n",
    "                    \n",
    "                }\n",
    "                #print edge\n",
    "                #ADDING EDGES GROUPS/CO2 HERE\n",
    "                \n",
    "                if tour[\"nbGigs\"] > 2:\n",
    "                    try:\n",
    "                        if tempCO2[tour_counter_for_CO2]['tourdist'] > 1.25*tempCO2[tour_counter_for_CO2]['tourdistOpt']:\n",
    "                            \n",
    "                            edge[\"group\"]+=\" DASHED2\"\n",
    "                            edge[\"notes\"]+=\"  \\n tournée grandement optimisable  \\nDistance parcourue pendant le tour: \"+str(tempCO2[tour_counter_for_CO2]['tourdist'])+\" km  \\n\"\n",
    "                            edge[\"notes\"]+=\"Distance recalculée: \"+str(tempCO2[tour_counter_for_CO2]['tourdistOpt'])+\" km  \\n\"\n",
    "                            try:\n",
    "                                edge[\"notes\"]+=\"Taux d'optimisation \"+str((tempCO2[tour_counter_for_CO2]['tourdist']-tempCO2[tour_counter_for_CO2]['tourdistOpt'])/tempCO2[tour_counter_for_CO2]['tourdist'])+\" %\"\n",
    "                            except:\n",
    "                                print \"OUPS 2\"\n",
    "                        elif (tempCO2[tour_counter_for_CO2]['tourdist'] < 1.25*tempCO2[tour_counter_for_CO2]['tourdistOpt']) and (tempCO2[tour_counter_for_CO2]['tourdist'] > 1.1*tempCO2[tour_counter_for_CO2]['tourdistOpt']):\n",
    "                            \n",
    "                            edge[\"group\"]+=\" DASHED1\"\n",
    "                            edge[\"notes\"]+=\"  \\n  tournée optimisable  \\nDistance parcourue pendant le tour: \"+str(tempCO2[tour_counter_for_CO2]['tourdist'])+\" km  \\n\"\n",
    "                            edge[\"notes\"]+=\"Distance recalculée: \"+str(tempCO2[tour_counter_for_CO2]['tourdistOpt'])+\" km  \\n\"\n",
    "                            try:\n",
    "                                edge[\"notes\"]+=\"Taux d'optimisation \"+str((tempCO2[tour_counter_for_CO2]['tourdist']-tempCO2[tour_counter_for_CO2]['tourdistOpt'])/tempCO2[tour_counter_for_CO2]['tourdist'])+\" %\"\n",
    "                            except:\n",
    "                                print \"OUPS 1\"\n",
    "                        elif tempCO2[tour_counter_for_CO2]['tourdistOpt'] > 1.25*tempCO2[tour_counter_for_CO2]['tourdist']:\n",
    "                            \n",
    "                            edge[\"group\"]+=\" DASHED-2\"\n",
    "                            edge[\"notes\"]+=\"  \\n tournée déjà grandement optimisée  \\nDistance parcourue pendant le tour: \"+str(tempCO2[tour_counter_for_CO2]['tourdist'])+\" km  \\n\"\n",
    "                            edge[\"notes\"]+=\"Distance recalculée: \"+str(tempCO2[tour_counter_for_CO2]['tourdistOpt'])+\" km  \\n\"\n",
    "                            try:\n",
    "                                edge[\"notes\"]+=\"Taux d'optimisation \"+str((tempCO2[tour_counter_for_CO2]['tourdist']-tempCO2[tour_counter_for_CO2]['tourdistOpt'])/tempCO2[tour_counter_for_CO2]['tourdist'])+\" %\"\n",
    "                            except:\n",
    "                                print \"OUPS -2\"\n",
    "                        elif tempCO2[tour_counter_for_CO2]['tourdistOpt'] < 1.25*tempCO2[tour_counter_for_CO2]['tourdist'] and tempCO2[tour_counter_for_CO2]['tourdistOpt'] > 1.1*tempCO2[tour_counter_for_CO2]['tourdist']:\n",
    "                            \n",
    "                            edge[\"group\"]+=\" DASHED-1\"\n",
    "                            edge[\"notes\"]+=\"  \\n  tournée déjà optimisée  \\nDistance parcourue pendant le tour: \"+str(tempCO2[tour_counter_for_CO2]['tourdist'])+\" km  \\n\"\n",
    "                            edge[\"notes\"]+=\"Distance recalculée: \"+str(tempCO2[tour_counter_for_CO2]['tourdistOpt'])+\" km  \\n\"\n",
    "                            try:\n",
    "                                edge[\"notes\"]+=\"Taux d'optimisation \"+str((tempCO2[tour_counter_for_CO2]['tourdist']-tempCO2[tour_counter_for_CO2]['tourdistOpt'])/tempCO2[tour_counter_for_CO2]['tourdist'])+\" %\"\n",
    "                            except:\n",
    "                                print \"OUPS -1\"\n",
    "                        \n",
    "                        else:\n",
    "\n",
    "                            edge[\"notes\"]+=\"  \\nDistance parcourue pendant le tour: \"+str(tempCO2[tour_counter_for_CO2]['tourdist'])+\" km  \\n\"\n",
    "                        tour_counter_for_CO2_lock=1\n",
    "                    except KeyError as e:\n",
    "                        print e\n",
    "                else:\n",
    "                    #print \"TOUR NON COMPTE \", tour_indice, \"//\",tour_counter_for_CO2\n",
    "                    continue\n",
    "                    \n",
    "                    \n",
    "                    \n",
    "                my_edges.append({ \"data\" : edge })\n",
    "        my_nodes.append({ \"data\" : node })   \n",
    "        my_nodesdict[node[\"id\"]]= { \"data\" : node }\n",
    "        gig_indice+=1\n",
    "    #print my_nodes\n",
    "    #print \"<=============================================>\"\n",
    "    #print my_nodesdict\n",
    "    #print \"<=============================================>\"\n",
    "    #print my_edges\n",
    "     tour_indice +=1\n",
    "        #print \"coords\",latitude,\"/\",longitude\n",
    "    for key, value in my_nodesdict.iteritems():\n",
    "            my_nodesdictList.append(value)\n",
    "    \n",
    "    #ADDING LIVENATION DETECTOR\n",
    "\n",
    "    for node in my_nodesdictList:\n",
    "        for salle in liste_salle_parsee_LN:\n",
    "            if fuzz.partial_ratio( node['data']['name'], salle)>=80:\n",
    "                #print \"ONE HEERE\"\n",
    "                if round(node['data']['lat'],2)==round(liste_salle_parsee_LN[salle][\"lat\"],2) and round(node['data']['lng'],2)==round(liste_salle_parsee_LN[salle][\"lng\"],2) :\n",
    "                    #print \"CONFIRMED LIVENATION!\"\n",
    "                    node['data']['color']=\"#ff0000\"\n",
    "                    node['data'][\"notes\"]+=\"  \\nLivenation venue\"\n",
    "        #if liste_salle_parsee_LN\n",
    "        \n",
    "        \n",
    "    #ADDING EDGES WEIGHT\n",
    "    terp= map(lambda x : str(sorted([x[\"data\"][\"source\"],x[\"data\"][\"target\"]])),my_edges)\n",
    "    \n",
    "    #print terp\n",
    "    from collections import Counter\n",
    "    c= Counter()\n",
    "    for ter in terp:\n",
    "        c[ter]+=1\n",
    "    #print c\n",
    "    for edge in my_edges:\n",
    "        if str(sorted([edge[\"data\"][\"source\"],edge[\"data\"][\"target\"]])) not in terp:\n",
    "            print \"BUG!!!!\"\n",
    "        else:\n",
    "            if edge[\"data\"][\"source\"] == edge[\"data\"][\"target\"]:\n",
    "                #print c[str(sorted([edge[\"data\"][\"source\"],edge[\"data\"][\"target\"]]))]\n",
    "                edge[\"data\"][\"notes\"]+=\"  \\ncounted \"+str(c[str(sorted([edge[\"data\"][\"source\"],edge[\"data\"][\"target\"]]))])+\"  times\"\n",
    "                edge[\"data\"][\"weight\"]= float(1)\n",
    "                #print \"a\"\n",
    "            else:\n",
    "                edge[\"data\"][\"notes\"]+=\"  \\ncounted \"+str(c[str(sorted([edge[\"data\"][\"source\"],edge[\"data\"][\"target\"]]))])+\"  times\"\n",
    "                edge[\"data\"][\"weight\"]= float(c[str(sorted([edge[\"data\"][\"source\"],edge[\"data\"][\"target\"]]))])\n",
    "                #print \"b\"\n",
    "    #print my_edges\n",
    "\n",
    "    \n",
    "    \n",
    "    \n",
    "    \n",
    "\n",
    "    titredugraphe =artist[\"name\"]+\"/BETA_0.9\"+\"  \\nDistance totale parcourue par l'artiste: \"+str(tempCO2[\"totalArtistTourDist\"])+\" km\"\n",
    "    titredugraphe += \"  \\nDistance calculee par Concorde: \"+str(tempCO2[\"totalArtistOptTourDist\"])+\" km\"\n",
    "    if  \"OptArtistPercent\" in tempCO2 :\n",
    "         rateOpt=0\n",
    "         rateOpt=float(tempCO2[\"OptArtistPercent\"])\n",
    "         titredugraphe+=\"  \\nPourcentage d'optimisation global calcule:\"+str(rateOpt)+\" %\"\n",
    "         if rateOpt > 10: \n",
    "             titredugraphe+=\"  \\nMARGE D'OPTIMISATION IMPORTANTE\"\n",
    "         elif rateOpt < -10:\n",
    "              titredugraphe+=\"  \\nTOURNEE DEJA OPTIMISEE\"\n",
    "         else: \n",
    "             titredugraphe+=\"  \\nGLOBALEMENT IDENTIQUE\"\n",
    "    \n",
    "    titredugraphe +=\"  \\nPLAYED AT GZ\"     \n",
    "         \n",
    "    with open(savpath+slugify(artist[\"name\"]+str(artist[\"mbid\"]))+\".obj\", 'wb') as handle:\n",
    "                            pickle.dump([titredugraphe,my_nodesdictList,my_edges], handle, protocol=pickle.HIGHEST_PROTOCOL)    \n",
    "            \n",
    "    ###CREATE NODE GLOBAL DICT\n"
   ]
  },
  {
   "cell_type": "code",
   "execution_count": null,
   "metadata": {
    "collapsed": true
   },
   "outputs": [],
   "source": [
    "     with open(\"./my_nodesdictGLOBAL.obj\", 'rb') as handle:\n",
    "          my_nodesdictGLOBAL= pickle.load( handle)"
   ]
  },
  {
   "cell_type": "code",
   "execution_count": 6,
   "metadata": {},
   "outputs": [
    {
     "name": "stdout",
     "output_type": "stream",
     "text": [
      "[('ohio-university39-83', {'data': {'count': 1, 'start': '2016-06-10T18:30:00', 'end': '2016-06-11T18:30:00', 'name': 'ohio-university', 'weight': 1.0, 'lat': 39.3268329, 'lng': -83.0063841, 'notes': '  \\n List of the bands that played in this venue:  \\nled-zepagain  \\n TOTAL: 1 Bands', 'id': 'ohio-university39-83', 'color': '#7f3f3f'}}), ('ohio-university39-82', {'data': {'count': 9, 'start': '2008-04-09T19:00:00', 'end': '2015-11-15T19:00:00', 'name': 'ohio-university', 'weight': 3.3784927944829333, 'lat': 39.324921, 'lng': -82.099709, 'notes': '  \\n List of the bands that played in this venue:  \\nben-folds  \\njosh-ritter  \\nmachine-gun-kelly  \\nray-wylie-hubbard  \\nrayland-baxter  \\nthe-blind-boys-of-alabama  \\ntyler-farr  \\nwiz-khalifa  \\nzo  \\n TOTAL: 9 Bands', 'id': 'ohio-university39-82', 'color': '#5f7f3f'}}), ('tucson-music-hall32-110', {'data': {'count': 35, 'start': '2007-12-17T00:00:00', 'end': '2017-09-15T19:00:00', 'name': 'tucson-music-hall', 'weight': 6.9258925443875565, 'lat': 32.2216667, 'lng': -110.9258333, 'notes': '  \\n List of the bands that played in this venue:  \\nann-hampton-callaway  \\nbellamy-brothers-band  \\nbill-maher  \\nbrian-regan  \\ncarmina-burana  \\nceltic-woman  \\ncherish-the-ladies  \\ndeath-cab-for-cutie  \\ndon-giovanni  \\ngeorge-lopez  \\nitzhak-perlman  \\njackson-browne  \\njames-taylor  \\njane-s-addiction  \\njerry-seinfeld  \\njoe-bonamassa  \\njohn-legend  \\njohn-pizzarelli  \\njudy-collins  \\nkt-tunstall  \\nlewis-black  \\nlindsey-stirling  \\nmichael-feinstein  \\npink-martini  \\nr5  \\nrain  \\nrob-thomas  \\nsuper-diamond  \\nthe-1975  \\nthe-lettermen  \\nthe-midtown-men  \\nthe-ten-tenors  \\nwilco  \\nsinger-china-forbes  \\npiotr-ilich-chaikovskii  \\n TOTAL: 35 Bands', 'id': 'tucson-music-hall32-110', 'color': '#7f793f'}}), ('bluegrass-festival37-107', {'data': {'count': 1, 'start': '2008-04-11T19:00:00', 'end': '2008-04-14T19:00:00', 'name': 'bluegrass-festival', 'weight': 1.5537739740300374, 'lat': 37.2752778, 'lng': -107.8794444, 'notes': '  \\n List of the bands that played in this venue:  \\nthe-infamous-stringdusters  \\n TOTAL: 1 Bands', 'id': 'bluegrass-festival37-107', 'color': '#7f793f'}}), ('tink-s-entertianment-complex41-75', {'data': {'count': 15, 'start': '2007-08-22T00:00:00', 'end': '2009-05-01T18:00:00', 'name': 'tink-s-entertianment-complex', 'weight': 4.000000000000001, 'lat': 41.408691, 'lng': -75.661707, 'notes': '  \\n List of the bands that played in this venue:  \\nall-time-low  \\nemmure  \\nfour-year-strong  \\nhalestorm  \\nless-than-jake  \\nmayday-parade  \\nmotionless-in-white  \\nmxpx  \\nred  \\nreel-big-fish  \\nstreetlight-manifesto  \\nthe-ataris  \\nthe-maine  \\ntrapt  \\nvalencia  \\n TOTAL: 15 Bands', 'id': 'tink-s-entertianment-complex41-75', 'color': '#3f7f59'}})]\n"
     ]
    }
   ],
   "source": [
    "from itertools import islice\n",
    "\n",
    "def take(n, iterable):\n",
    "    \"Return first n items of the iterable as a list\"\n",
    "    return list(islice(iterable, n))\n",
    "\n",
    "print take(5,my_nodesdictGLOBAL.iteritems())"
   ]
  },
  {
   "cell_type": "code",
   "execution_count": 57,
   "metadata": {
    "collapsed": true
   },
   "outputs": [],
   "source": [
    "# credentials\n",
    "TOPOGRAM_URL = \"http://localhost:3000\"\n",
    "USER = \"gregory.bahde@laposte.net\"\n",
    "PASSWORD = \"matrix\""
   ]
  },
  {
   "cell_type": "code",
   "execution_count": 44,
   "metadata": {
    "collapsed": true
   },
   "outputs": [],
   "source": [
    "# credentials\n",
    "TOPOGRAM_URL = \"https://bandstour.topogram.io\"\n",
    "USER = \"gregory.bahde@laposte.net\"\n",
    "PASSWORD = \"matrix\""
   ]
  },
  {
   "cell_type": "code",
   "execution_count": 5,
   "metadata": {},
   "outputs": [
    {
     "ename": "NameError",
     "evalue": "name 'my_nodesdictGLOBAL' is not defined",
     "output_type": "error",
     "traceback": [
      "\u001b[0;31m---------------------------------------------------------------------------\u001b[0m",
      "\u001b[0;31mNameError\u001b[0m                                 Traceback (most recent call last)",
      "\u001b[0;32m<ipython-input-5-a18a55af1565>\u001b[0m in \u001b[0;36m<module>\u001b[0;34m()\u001b[0m\n\u001b[0;32m----> 1\u001b[0;31m \u001b[0;32mprint\u001b[0m \u001b[0mlen\u001b[0m\u001b[0;34m(\u001b[0m\u001b[0mmy_nodesdictGLOBAL\u001b[0m\u001b[0;34m)\u001b[0m\u001b[0;34m\u001b[0m\u001b[0m\n\u001b[0m",
      "\u001b[0;31mNameError\u001b[0m: name 'my_nodesdictGLOBAL' is not defined"
     ]
    }
   ],
   "source": [
    "print len(my_nodesdictGLOBAL)"
   ]
  },
  {
   "cell_type": "code",
   "execution_count": 61,
   "metadata": {
    "scrolled": true
   },
   "outputs": [
    {
     "ename": "ConnectionError",
     "evalue": "HTTPConnectionPool(host='localhost', port=3000): Max retries exceeded with url: /api/%20 (Caused by NewConnectionError('<urllib3.connection.HTTPConnection object at 0x7fc0b5389310>: Failed to establish a new connection: [Errno 111] Connection refused',))",
     "output_type": "error",
     "traceback": [
      "\u001b[0;31m---------------------------------------------------------------------------\u001b[0m",
      "\u001b[0;31mConnectionError\u001b[0m                           Traceback (most recent call last)",
      "\u001b[0;32m<ipython-input-61-1ac8996b74f3>\u001b[0m in \u001b[0;36m<module>\u001b[0;34m()\u001b[0m\n\u001b[1;32m      1\u001b[0m \u001b[0;31m# connect to the topogram instance (pass debug=True params for more info )\u001b[0m\u001b[0;34m\u001b[0m\u001b[0;34m\u001b[0m\u001b[0m\n\u001b[0;32m----> 2\u001b[0;31m \u001b[0mtopogram\u001b[0m \u001b[0;34m=\u001b[0m \u001b[0mTopogramAPIClient\u001b[0m\u001b[0;34m(\u001b[0m\u001b[0mTOPOGRAM_URL\u001b[0m\u001b[0;34m)\u001b[0m \u001b[0;31m#, debug=True)\u001b[0m\u001b[0;34m\u001b[0m\u001b[0m\n\u001b[0m\u001b[1;32m      3\u001b[0m \u001b[0;34m\u001b[0m\u001b[0m\n\u001b[1;32m      4\u001b[0m \u001b[0;31m# create a new user\u001b[0m\u001b[0;34m\u001b[0m\u001b[0;34m\u001b[0m\u001b[0m\n\u001b[1;32m      5\u001b[0m \u001b[0;32mtry\u001b[0m \u001b[0;34m:\u001b[0m\u001b[0;34m\u001b[0m\u001b[0m\n",
      "\u001b[0;32m/home/goonieb/gitrep/bandstour/venv/lib/python2.7/site-packages/topogram_api_client-1.0.1-py2.7.egg/topogram_client/__init__.pyc\u001b[0m in \u001b[0;36m__init__\u001b[0;34m(self, base_url, debug)\u001b[0m\n\u001b[1;32m     25\u001b[0m \u001b[0;34m\u001b[0m\u001b[0m\n\u001b[1;32m     26\u001b[0m         \u001b[0mlog\u001b[0m\u001b[0;34m.\u001b[0m\u001b[0mdebug\u001b[0m\u001b[0;34m(\u001b[0m\u001b[0;34m\"Init Topogram API at %s\"\u001b[0m\u001b[0;34m,\u001b[0m \u001b[0mbase_url\u001b[0m\u001b[0;34m)\u001b[0m\u001b[0;34m\u001b[0m\u001b[0m\n\u001b[0;32m---> 27\u001b[0;31m         \u001b[0mself\u001b[0m\u001b[0;34m.\u001b[0m\u001b[0mcheck_active_connection\u001b[0m\u001b[0;34m(\u001b[0m\u001b[0;34m)\u001b[0m \u001b[0;31m# check if the connection is ready\u001b[0m\u001b[0;34m\u001b[0m\u001b[0m\n\u001b[0m\u001b[1;32m     28\u001b[0m \u001b[0;34m\u001b[0m\u001b[0m\n\u001b[1;32m     29\u001b[0m     \u001b[0;32mdef\u001b[0m \u001b[0mmake_url\u001b[0m\u001b[0;34m(\u001b[0m\u001b[0mself\u001b[0m\u001b[0;34m,\u001b[0m \u001b[0mpath\u001b[0m\u001b[0;34m)\u001b[0m\u001b[0;34m:\u001b[0m\u001b[0;34m\u001b[0m\u001b[0m\n",
      "\u001b[0;32m/home/goonieb/gitrep/bandstour/venv/lib/python2.7/site-packages/topogram_api_client-1.0.1-py2.7.egg/topogram_client/__init__.pyc\u001b[0m in \u001b[0;36mcheck_active_connection\u001b[0;34m(self)\u001b[0m\n\u001b[1;32m     71\u001b[0m \u001b[0;34m\u001b[0m\u001b[0m\n\u001b[1;32m     72\u001b[0m     \u001b[0;32mdef\u001b[0m \u001b[0mcheck_active_connection\u001b[0m\u001b[0;34m(\u001b[0m\u001b[0mself\u001b[0m\u001b[0;34m)\u001b[0m\u001b[0;34m:\u001b[0m\u001b[0;34m\u001b[0m\u001b[0m\n\u001b[0;32m---> 73\u001b[0;31m         \u001b[0mr\u001b[0m \u001b[0;34m=\u001b[0m \u001b[0mself\u001b[0m\u001b[0;34m.\u001b[0m\u001b[0mmake_request\u001b[0m\u001b[0;34m(\u001b[0m\u001b[0;34m\"GET\"\u001b[0m\u001b[0;34m,\u001b[0m \u001b[0;34m\" \"\u001b[0m\u001b[0;34m,\u001b[0m \u001b[0;34m{\u001b[0m\u001b[0;34m}\u001b[0m\u001b[0;34m)\u001b[0m\u001b[0;34m\u001b[0m\u001b[0m\n\u001b[0m\u001b[1;32m     74\u001b[0m         \u001b[0;32massert\u001b[0m \u001b[0mr\u001b[0m\u001b[0;34m[\u001b[0m\u001b[0;34m\"status_code\"\u001b[0m\u001b[0;34m]\u001b[0m \u001b[0;34m==\u001b[0m \u001b[0;36m200\u001b[0m\u001b[0;34m\u001b[0m\u001b[0m\n\u001b[1;32m     75\u001b[0m \u001b[0;34m\u001b[0m\u001b[0m\n",
      "\u001b[0;32m/home/goonieb/gitrep/bandstour/venv/lib/python2.7/site-packages/topogram_api_client-1.0.1-py2.7.egg/topogram_client/__init__.pyc\u001b[0m in \u001b[0;36mmake_request\u001b[0;34m(self, method, path, data)\u001b[0m\n\u001b[1;32m     46\u001b[0m             \u001b[0mr\u001b[0m \u001b[0;34m=\u001b[0m \u001b[0mself\u001b[0m\u001b[0;34m.\u001b[0m\u001b[0msession\u001b[0m\u001b[0;34m.\u001b[0m\u001b[0mdelete\u001b[0m\u001b[0;34m(\u001b[0m\u001b[0mreq_url\u001b[0m\u001b[0;34m,\u001b[0m \u001b[0mjson\u001b[0m\u001b[0;34m=\u001b[0m\u001b[0mdata\u001b[0m\u001b[0;34m)\u001b[0m\u001b[0;34m\u001b[0m\u001b[0m\n\u001b[1;32m     47\u001b[0m         \u001b[0;32melif\u001b[0m \u001b[0mmethod\u001b[0m \u001b[0;34m==\u001b[0m \u001b[0;34m\"GET\"\u001b[0m\u001b[0;34m:\u001b[0m\u001b[0;34m\u001b[0m\u001b[0m\n\u001b[0;32m---> 48\u001b[0;31m             \u001b[0mr\u001b[0m \u001b[0;34m=\u001b[0m \u001b[0mself\u001b[0m\u001b[0;34m.\u001b[0m\u001b[0msession\u001b[0m\u001b[0;34m.\u001b[0m\u001b[0mget\u001b[0m\u001b[0;34m(\u001b[0m\u001b[0mreq_url\u001b[0m\u001b[0;34m,\u001b[0m \u001b[0mjson\u001b[0m\u001b[0;34m=\u001b[0m\u001b[0mdata\u001b[0m\u001b[0;34m)\u001b[0m\u001b[0;34m\u001b[0m\u001b[0m\n\u001b[0m\u001b[1;32m     49\u001b[0m         \u001b[0;32melif\u001b[0m \u001b[0mmethod\u001b[0m \u001b[0;34m==\u001b[0m \u001b[0;34m\"PUT\"\u001b[0m\u001b[0;34m:\u001b[0m\u001b[0;34m\u001b[0m\u001b[0m\n\u001b[1;32m     50\u001b[0m             \u001b[0mr\u001b[0m \u001b[0;34m=\u001b[0m \u001b[0mself\u001b[0m\u001b[0;34m.\u001b[0m\u001b[0msession\u001b[0m\u001b[0;34m.\u001b[0m\u001b[0mput\u001b[0m\u001b[0;34m(\u001b[0m\u001b[0mreq_url\u001b[0m\u001b[0;34m,\u001b[0m \u001b[0mjson\u001b[0m\u001b[0;34m=\u001b[0m\u001b[0mdata\u001b[0m\u001b[0;34m)\u001b[0m\u001b[0;34m\u001b[0m\u001b[0m\n",
      "\u001b[0;32m/home/goonieb/gitrep/bandstour/venv/lib/python2.7/site-packages/requests/sessions.pyc\u001b[0m in \u001b[0;36mget\u001b[0;34m(self, url, **kwargs)\u001b[0m\n\u001b[1;32m    544\u001b[0m \u001b[0;34m\u001b[0m\u001b[0m\n\u001b[1;32m    545\u001b[0m         \u001b[0mkwargs\u001b[0m\u001b[0;34m.\u001b[0m\u001b[0msetdefault\u001b[0m\u001b[0;34m(\u001b[0m\u001b[0;34m'allow_redirects'\u001b[0m\u001b[0;34m,\u001b[0m \u001b[0mTrue\u001b[0m\u001b[0;34m)\u001b[0m\u001b[0;34m\u001b[0m\u001b[0m\n\u001b[0;32m--> 546\u001b[0;31m         \u001b[0;32mreturn\u001b[0m \u001b[0mself\u001b[0m\u001b[0;34m.\u001b[0m\u001b[0mrequest\u001b[0m\u001b[0;34m(\u001b[0m\u001b[0;34m'GET'\u001b[0m\u001b[0;34m,\u001b[0m \u001b[0murl\u001b[0m\u001b[0;34m,\u001b[0m \u001b[0;34m**\u001b[0m\u001b[0mkwargs\u001b[0m\u001b[0;34m)\u001b[0m\u001b[0;34m\u001b[0m\u001b[0m\n\u001b[0m\u001b[1;32m    547\u001b[0m \u001b[0;34m\u001b[0m\u001b[0m\n\u001b[1;32m    548\u001b[0m     \u001b[0;32mdef\u001b[0m \u001b[0moptions\u001b[0m\u001b[0;34m(\u001b[0m\u001b[0mself\u001b[0m\u001b[0;34m,\u001b[0m \u001b[0murl\u001b[0m\u001b[0;34m,\u001b[0m \u001b[0;34m**\u001b[0m\u001b[0mkwargs\u001b[0m\u001b[0;34m)\u001b[0m\u001b[0;34m:\u001b[0m\u001b[0;34m\u001b[0m\u001b[0m\n",
      "\u001b[0;32m/home/goonieb/gitrep/bandstour/venv/lib/python2.7/site-packages/requests/sessions.pyc\u001b[0m in \u001b[0;36mrequest\u001b[0;34m(self, method, url, params, data, headers, cookies, files, auth, timeout, allow_redirects, proxies, hooks, stream, verify, cert, json)\u001b[0m\n\u001b[1;32m    531\u001b[0m         }\n\u001b[1;32m    532\u001b[0m         \u001b[0msend_kwargs\u001b[0m\u001b[0;34m.\u001b[0m\u001b[0mupdate\u001b[0m\u001b[0;34m(\u001b[0m\u001b[0msettings\u001b[0m\u001b[0;34m)\u001b[0m\u001b[0;34m\u001b[0m\u001b[0m\n\u001b[0;32m--> 533\u001b[0;31m         \u001b[0mresp\u001b[0m \u001b[0;34m=\u001b[0m \u001b[0mself\u001b[0m\u001b[0;34m.\u001b[0m\u001b[0msend\u001b[0m\u001b[0;34m(\u001b[0m\u001b[0mprep\u001b[0m\u001b[0;34m,\u001b[0m \u001b[0;34m**\u001b[0m\u001b[0msend_kwargs\u001b[0m\u001b[0;34m)\u001b[0m\u001b[0;34m\u001b[0m\u001b[0m\n\u001b[0m\u001b[1;32m    534\u001b[0m \u001b[0;34m\u001b[0m\u001b[0m\n\u001b[1;32m    535\u001b[0m         \u001b[0;32mreturn\u001b[0m \u001b[0mresp\u001b[0m\u001b[0;34m\u001b[0m\u001b[0m\n",
      "\u001b[0;32m/home/goonieb/gitrep/bandstour/venv/lib/python2.7/site-packages/requests/sessions.pyc\u001b[0m in \u001b[0;36msend\u001b[0;34m(self, request, **kwargs)\u001b[0m\n\u001b[1;32m    644\u001b[0m \u001b[0;34m\u001b[0m\u001b[0m\n\u001b[1;32m    645\u001b[0m         \u001b[0;31m# Send the request\u001b[0m\u001b[0;34m\u001b[0m\u001b[0;34m\u001b[0m\u001b[0m\n\u001b[0;32m--> 646\u001b[0;31m         \u001b[0mr\u001b[0m \u001b[0;34m=\u001b[0m \u001b[0madapter\u001b[0m\u001b[0;34m.\u001b[0m\u001b[0msend\u001b[0m\u001b[0;34m(\u001b[0m\u001b[0mrequest\u001b[0m\u001b[0;34m,\u001b[0m \u001b[0;34m**\u001b[0m\u001b[0mkwargs\u001b[0m\u001b[0;34m)\u001b[0m\u001b[0;34m\u001b[0m\u001b[0m\n\u001b[0m\u001b[1;32m    647\u001b[0m \u001b[0;34m\u001b[0m\u001b[0m\n\u001b[1;32m    648\u001b[0m         \u001b[0;31m# Total elapsed time of the request (approximately)\u001b[0m\u001b[0;34m\u001b[0m\u001b[0;34m\u001b[0m\u001b[0m\n",
      "\u001b[0;32m/home/goonieb/gitrep/bandstour/venv/lib/python2.7/site-packages/requests/adapters.pyc\u001b[0m in \u001b[0;36msend\u001b[0;34m(self, request, stream, timeout, verify, cert, proxies)\u001b[0m\n\u001b[1;32m    514\u001b[0m                 \u001b[0;32mraise\u001b[0m \u001b[0mSSLError\u001b[0m\u001b[0;34m(\u001b[0m\u001b[0me\u001b[0m\u001b[0;34m,\u001b[0m \u001b[0mrequest\u001b[0m\u001b[0;34m=\u001b[0m\u001b[0mrequest\u001b[0m\u001b[0;34m)\u001b[0m\u001b[0;34m\u001b[0m\u001b[0m\n\u001b[1;32m    515\u001b[0m \u001b[0;34m\u001b[0m\u001b[0m\n\u001b[0;32m--> 516\u001b[0;31m             \u001b[0;32mraise\u001b[0m \u001b[0mConnectionError\u001b[0m\u001b[0;34m(\u001b[0m\u001b[0me\u001b[0m\u001b[0;34m,\u001b[0m \u001b[0mrequest\u001b[0m\u001b[0;34m=\u001b[0m\u001b[0mrequest\u001b[0m\u001b[0;34m)\u001b[0m\u001b[0;34m\u001b[0m\u001b[0m\n\u001b[0m\u001b[1;32m    517\u001b[0m \u001b[0;34m\u001b[0m\u001b[0m\n\u001b[1;32m    518\u001b[0m         \u001b[0;32mexcept\u001b[0m \u001b[0mClosedPoolError\u001b[0m \u001b[0;32mas\u001b[0m \u001b[0me\u001b[0m\u001b[0;34m:\u001b[0m\u001b[0;34m\u001b[0m\u001b[0m\n",
      "\u001b[0;31mConnectionError\u001b[0m: HTTPConnectionPool(host='localhost', port=3000): Max retries exceeded with url: /api/%20 (Caused by NewConnectionError('<urllib3.connection.HTTPConnection object at 0x7fc0b5389310>: Failed to establish a new connection: [Errno 111] Connection refused',))"
     ]
    }
   ],
   "source": [
    "# connect to the topogram instance (pass debug=True params for more info )\n",
    "topogram = TopogramAPIClient(TOPOGRAM_URL) #, debug=True)\n",
    "\n",
    "# create a new user\n",
    "try :\n",
    "    topogram.create_user(USER, PASSWORD)\n",
    "except ValueError:\n",
    "    print \"> User has already been created.\"\n",
    "\n",
    "# login a new user if needed\n",
    "resp_user_login = topogram.user_login(USER, PASSWORD)\n",
    "print resp_user_login\n",
    "\n",
    "assert(resp_user_login[\"status\"] == \"success\")\n",
    "assert(resp_user_login[\"status_code\"] == 200)\n"
   ]
  },
  {
   "cell_type": "code",
   "execution_count": 60,
   "metadata": {},
   "outputs": [
    {
     "name": "stderr",
     "output_type": "stream",
     "text": [
      "ERROR:topogram-client:500 - Error : A topogram with the same name already exists\n"
     ]
    },
    {
     "name": "stdout",
     "output_type": "stream",
     "text": [
      "/home/goonieb/gitrep/bandstour/5_visualizer/topogram-api-clientFOR_TOPO_FROM_BANDSTOUR\n",
      "123 130\n",
      "Creating topogram 'Chris Cohen/BETA_0.9  \n",
      "Distance totale parcourue par l'artiste: 92407.5483559 km  \n",
      "Distance calculee par Concorde: 74292.8211586 km  \n",
      "Pourcentage d'optimisation global calcule:19.6030816959 %  \n",
      "MARGE D'OPTIMISATION IMPORTANTE  \n",
      "PLAYED AT GZ'\n",
      "> Topogram already exists\n",
      "{u'status': u'success', 'status_code': 200, u'data': {u'sharedPublic': False, u'title': u\"Chris Cohen/BETA_0.9  \\nDistance totale parcourue par l'artiste: 92407.5483559 km  \\nDistance calculee par Concorde: 74292.8211586 km  \\nPourcentage d'optimisation global calcule:19.6030816959 %  \\nMARGE D'OPTIMISATION IMPORTANTE  \\nPLAYED AT GZ\", u'userId': u'Bf5svhLniEkkcvts2', u'_id': u'aB67ygv2w4z6MucNF', u'slug': u'chris-cohenbeta_09-distance-totale-parcourue-par-lartiste-924075483559-km-distance-calculee-par-concorde-742928211586-km-pourcentage-doptimisation-global-calcule196030816959-marge-doptimisation-importante-played-at-gz', u'createdAt': u'2019-09-30T15:56:55.666Z'}, u'statusCode': 200}\n",
      "topogram ID : aB67ygv2w4z6MucNF\n",
      "123 nodes deleted\n",
      "130 edges deleted\n"
     ]
    },
    {
     "name": "stderr",
     "output_type": "stream",
     "text": [
      "ERROR:topogram-client:500 - Error : A topogram with the same name already exists\n"
     ]
    },
    {
     "name": "stdout",
     "output_type": "stream",
     "text": [
      "123 nodes created.\n",
      "130 edges created.\n",
      "done. Topogram has been updated. Check it at http://localhost:3000/topograms/aB67ygv2w4z6MucNF\n",
      "357 442\n",
      "Creating topogram 'Bob Log III/BETA_0.9  \n",
      "Distance totale parcourue par l'artiste: 348975.202372 km  \n",
      "Distance calculee par Concorde: 369088.323832 km  \n",
      "Pourcentage d'optimisation global calcule:-5.76348156642 %  \n",
      "GLOBALEMENT IDENTIQUE  \n",
      "PLAYED AT GZ'\n",
      "> Topogram already exists\n",
      "{u'status': u'success', 'status_code': 200, u'data': {u'sharedPublic': False, u'title': u\"Bob Log III/BETA_0.9  \\nDistance totale parcourue par l'artiste: 348975.202372 km  \\nDistance calculee par Concorde: 369088.323832 km  \\nPourcentage d'optimisation global calcule:-5.76348156642 %  \\nGLOBALEMENT IDENTIQUE  \\nPLAYED AT GZ\", u'userId': u'Bf5svhLniEkkcvts2', u'_id': u'AsYMyyCqNsTTzWqsW', u'slug': u'bob-log-iiibeta_09-distance-totale-parcourue-par-lartiste-348975202372-km-distance-calculee-par-concorde-369088323832-km-pourcentage-doptimisation-global-calcule-576348156642-globalement-identique-played-at-gz', u'createdAt': u'2019-09-30T15:58:06.904Z'}, u'statusCode': 200}\n",
      "topogram ID : AsYMyyCqNsTTzWqsW\n",
      "357 nodes deleted\n",
      "442 edges deleted\n",
      "357 nodes created.\n",
      "442 edges created.\n",
      "done. Topogram has been updated. Check it at http://localhost:3000/topograms/AsYMyyCqNsTTzWqsW\n",
      "89 95\n",
      "Creating topogram 'Zu/BETA_0.9  \n",
      "Distance totale parcourue par l'artiste: 31387.8361394 km  \n",
      "Distance calculee par Concorde: 27474.8247027 km  \n",
      "Pourcentage d'optimisation global calcule:12.4666492438 %  \n",
      "MARGE D'OPTIMISATION IMPORTANTE  \n",
      "PLAYED AT GZ'\n"
     ]
    },
    {
     "name": "stderr",
     "output_type": "stream",
     "text": [
      "ERROR:topogram-client:500 - Error : A topogram with the same name already exists\n"
     ]
    },
    {
     "name": "stdout",
     "output_type": "stream",
     "text": [
      "> Topogram already exists\n",
      "{u'status': u'success', 'status_code': 200, u'data': {u'sharedPublic': False, u'title': u\"Zu/BETA_0.9  \\nDistance totale parcourue par l'artiste: 31387.8361394 km  \\nDistance calculee par Concorde: 27474.8247027 km  \\nPourcentage d'optimisation global calcule:12.4666492438 %  \\nMARGE D'OPTIMISATION IMPORTANTE  \\nPLAYED AT GZ\", u'userId': u'Bf5svhLniEkkcvts2', u'_id': u'9ZcmZevqYFma5pgLv', u'slug': u'zubeta_09-distance-totale-parcourue-par-lartiste-313878361394-km-distance-calculee-par-concorde-274748247027-km-pourcentage-doptimisation-global-calcule124666492438-marge-doptimisation-importante-played-at-gz', u'createdAt': u'2019-09-30T15:58:09.698Z'}, u'statusCode': 200}\n",
      "topogram ID : 9ZcmZevqYFma5pgLv\n",
      "89 nodes deleted\n",
      "95 edges deleted\n"
     ]
    },
    {
     "name": "stderr",
     "output_type": "stream",
     "text": [
      "ERROR:topogram-client:500 - Error : A topogram with the same name already exists\n"
     ]
    },
    {
     "name": "stdout",
     "output_type": "stream",
     "text": [
      "89 nodes created.\n",
      "95 edges created.\n",
      "done. Topogram has been updated. Check it at http://localhost:3000/topograms/9ZcmZevqYFma5pgLv\n",
      "90 92\n",
      "Creating topogram 'Shopping/BETA_0.9  \n",
      "Distance totale parcourue par l'artiste: 101498.08873 km  \n",
      "Distance calculee par Concorde: 76720.932242 km  \n",
      "Pourcentage d'optimisation global calcule:24.4114512874 %  \n",
      "MARGE D'OPTIMISATION IMPORTANTE  \n",
      "PLAYED AT GZ'\n",
      "> Topogram already exists\n",
      "{u'status': u'success', 'status_code': 200, u'data': {u'sharedPublic': False, u'title': u\"Shopping/BETA_0.9  \\nDistance totale parcourue par l'artiste: 101498.08873 km  \\nDistance calculee par Concorde: 76720.932242 km  \\nPourcentage d'optimisation global calcule:24.4114512874 %  \\nMARGE D'OPTIMISATION IMPORTANTE  \\nPLAYED AT GZ\", u'userId': u'Bf5svhLniEkkcvts2', u'_id': u'HH2DBDguxCPT9xRyZ', u'slug': u'shoppingbeta_09-distance-totale-parcourue-par-lartiste-10149808873-km-distance-calculee-par-concorde-76720932242-km-pourcentage-doptimisation-global-calcule244114512874-marge-doptimisation-importante-played-at-gz', u'createdAt': u'2019-09-30T15:58:10.193Z'}, u'statusCode': 200}\n",
      "topogram ID : HH2DBDguxCPT9xRyZ\n",
      "90 nodes deleted\n",
      "92 edges deleted\n"
     ]
    },
    {
     "name": "stderr",
     "output_type": "stream",
     "text": [
      "ERROR:topogram-client:500 - Error : A topogram with the same name already exists\n"
     ]
    },
    {
     "name": "stdout",
     "output_type": "stream",
     "text": [
      "90 nodes created.\n",
      "92 edges created.\n",
      "done. Topogram has been updated. Check it at http://localhost:3000/topograms/HH2DBDguxCPT9xRyZ\n",
      "190 219\n",
      "Creating topogram 'Marissa Nadler/BETA_0.9  \n",
      "Distance totale parcourue par l'artiste: 136315.285677 km  \n",
      "Distance calculee par Concorde: 133794.854575 km  \n",
      "Pourcentage d'optimisation global calcule:1.84897173482 %  \n",
      "GLOBALEMENT IDENTIQUE  \n",
      "PLAYED AT GZ'\n",
      "> Topogram already exists\n",
      "{u'status': u'success', 'status_code': 200, u'data': {u'sharedPublic': False, u'title': u\"Marissa Nadler/BETA_0.9  \\nDistance totale parcourue par l'artiste: 136315.285677 km  \\nDistance calculee par Concorde: 133794.854575 km  \\nPourcentage d'optimisation global calcule:1.84897173482 %  \\nGLOBALEMENT IDENTIQUE  \\nPLAYED AT GZ\", u'userId': u'Bf5svhLniEkkcvts2', u'_id': u'B4tSDJ522zEt6wsRn', u'slug': u'marissa-nadlerbeta_09-distance-totale-parcourue-par-lartiste-136315285677-km-distance-calculee-par-concorde-133794854575-km-pourcentage-doptimisation-global-calcule184897173482-globalement-identique-played-at-gz', u'createdAt': u'2019-09-30T15:58:10.668Z'}, u'statusCode': 200}\n",
      "topogram ID : B4tSDJ522zEt6wsRn\n",
      "190 nodes deleted\n",
      "219 edges deleted\n"
     ]
    },
    {
     "name": "stderr",
     "output_type": "stream",
     "text": [
      "ERROR:topogram-client:500 - Error : A topogram with the same name already exists\n"
     ]
    },
    {
     "name": "stdout",
     "output_type": "stream",
     "text": [
      "190 nodes created.\n",
      "219 edges created.\n",
      "done. Topogram has been updated. Check it at http://localhost:3000/topograms/B4tSDJ522zEt6wsRn\n",
      "54 58\n",
      "Creating topogram 'Embryo/BETA_0.9  \n",
      "Distance totale parcourue par l'artiste: 19767.7782534 km  \n",
      "Distance calculee par Concorde: 18905.309948 km  \n",
      "Pourcentage d'optimisation global calcule:4.36300070906 %  \n",
      "GLOBALEMENT IDENTIQUE  \n",
      "PLAYED AT GZ'\n",
      "> Topogram already exists\n",
      "{u'status': u'success', 'status_code': 200, u'data': {u'sharedPublic': False, u'title': u\"Embryo/BETA_0.9  \\nDistance totale parcourue par l'artiste: 19767.7782534 km  \\nDistance calculee par Concorde: 18905.309948 km  \\nPourcentage d'optimisation global calcule:4.36300070906 %  \\nGLOBALEMENT IDENTIQUE  \\nPLAYED AT GZ\", u'userId': u'Bf5svhLniEkkcvts2', u'_id': u'2u4boQc6229MeXmSs', u'slug': u'embryobeta_09-distance-totale-parcourue-par-lartiste-197677782534-km-distance-calculee-par-concorde-18905309948-km-pourcentage-doptimisation-global-calcule436300070906-globalement-identique-played-at-gz', u'createdAt': u'2019-09-30T15:58:12.796Z'}, u'statusCode': 200}\n",
      "topogram ID : 2u4boQc6229MeXmSs\n",
      "54 nodes deleted\n",
      "58 edges deleted\n",
      "54 nodes created.\n"
     ]
    },
    {
     "name": "stderr",
     "output_type": "stream",
     "text": [
      "ERROR:topogram-client:500 - Error : A topogram with the same name already exists\n"
     ]
    },
    {
     "name": "stdout",
     "output_type": "stream",
     "text": [
      "58 edges created.\n",
      "done. Topogram has been updated. Check it at http://localhost:3000/topograms/2u4boQc6229MeXmSs\n",
      "107 117\n",
      "Creating topogram 'FM/BETA_0.9  \n",
      "Distance totale parcourue par l'artiste: 35871.3839361 km  \n",
      "Distance calculee par Concorde: 31542.9173215 km  \n",
      "Pourcentage d'optimisation global calcule:12.0666284364 %  \n",
      "MARGE D'OPTIMISATION IMPORTANTE  \n",
      "PLAYED AT GZ'\n",
      "> Topogram already exists\n",
      "{u'status': u'success', 'status_code': 200, u'data': {u'sharedPublic': False, u'title': u\"FM/BETA_0.9  \\nDistance totale parcourue par l'artiste: 35871.3839361 km  \\nDistance calculee par Concorde: 31542.9173215 km  \\nPourcentage d'optimisation global calcule:12.0666284364 %  \\nMARGE D'OPTIMISATION IMPORTANTE  \\nPLAYED AT GZ\", u'userId': u'Bf5svhLniEkkcvts2', u'_id': u'QrMx9AxDyviiLfWiC', u'slug': u'fmbeta_09-distance-totale-parcourue-par-lartiste-358713839361-km-distance-calculee-par-concorde-315429173215-km-pourcentage-doptimisation-global-calcule120666284364-marge-doptimisation-importante-played-at-gz', u'createdAt': u'2019-09-30T15:58:13.613Z'}, u'statusCode': 200}\n",
      "topogram ID : QrMx9AxDyviiLfWiC\n",
      "107 nodes deleted\n",
      "117 edges deleted\n"
     ]
    },
    {
     "name": "stderr",
     "output_type": "stream",
     "text": [
      "ERROR:topogram-client:500 - Error : A topogram with the same name already exists\n"
     ]
    },
    {
     "name": "stdout",
     "output_type": "stream",
     "text": [
      "107 nodes created.\n",
      "117 edges created.\n",
      "done. Topogram has been updated. Check it at http://localhost:3000/topograms/QrMx9AxDyviiLfWiC\n",
      "283 352\n",
      "Creating topogram 'Deerhoof/BETA_0.9  \n",
      "Distance totale parcourue par l'artiste: 286044.074054 km  \n",
      "Distance calculee par Concorde: 321546.029859 km  \n",
      "Pourcentage d'optimisation global calcule:-12.411358607 %  \n",
      "TOURNEE DEJA OPTIMISEE  \n",
      "PLAYED AT GZ'\n",
      "> Topogram already exists\n",
      "{u'status': u'success', 'status_code': 200, u'data': {u'sharedPublic': False, u'title': u\"Deerhoof/BETA_0.9  \\nDistance totale parcourue par l'artiste: 286044.074054 km  \\nDistance calculee par Concorde: 321546.029859 km  \\nPourcentage d'optimisation global calcule:-12.411358607 %  \\nTOURNEE DEJA OPTIMISEE  \\nPLAYED AT GZ\", u'userId': u'Bf5svhLniEkkcvts2', u'_id': u'v4m4N3uG2bDu4uz5z', u'slug': u'deerhoofbeta_09-distance-totale-parcourue-par-lartiste-286044074054-km-distance-calculee-par-concorde-321546029859-km-pourcentage-doptimisation-global-calcule-12411358607-tournee-deja-optimisee-played-at-gz', u'createdAt': u'2019-09-30T15:58:15.154Z'}, u'statusCode': 200}\n",
      "topogram ID : v4m4N3uG2bDu4uz5z\n",
      "283 nodes deleted\n",
      "352 edges deleted\n"
     ]
    },
    {
     "name": "stderr",
     "output_type": "stream",
     "text": [
      "ERROR:topogram-client:500 - Error : A topogram with the same name already exists\n"
     ]
    },
    {
     "name": "stdout",
     "output_type": "stream",
     "text": [
      "283 nodes created.\n",
      "352 edges created.\n",
      "done. Topogram has been updated. Check it at http://localhost:3000/topograms/v4m4N3uG2bDu4uz5z\n",
      "78 85\n",
      "Creating topogram 'Gablé/BETA_0.9  \n",
      "Distance totale parcourue par l'artiste: 33635.2154758 km  \n",
      "Distance calculee par Concorde: 26214.8571821 km  \n",
      "Pourcentage d'optimisation global calcule:22.0612777077 %  \n",
      "MARGE D'OPTIMISATION IMPORTANTE  \n",
      "PLAYED AT GZ'\n",
      "> Topogram already exists\n",
      "{u'status': u'success', 'status_code': 200, u'data': {u'sharedPublic': False, u'title': u\"Gabl\\xe9/BETA_0.9  \\nDistance totale parcourue par l'artiste: 33635.2154758 km  \\nDistance calculee par Concorde: 26214.8571821 km  \\nPourcentage d'optimisation global calcule:22.0612777077 %  \\nMARGE D'OPTIMISATION IMPORTANTE  \\nPLAYED AT GZ\", u'userId': u'Bf5svhLniEkkcvts2', u'_id': u'AxKbFadyDWMCNLgti', u'slug': u'gablbeta_09-distance-totale-parcourue-par-lartiste-336352154758-km-distance-calculee-par-concorde-262148571821-km-pourcentage-doptimisation-global-calcule220612777077-marge-doptimisation-importante-played-at-gz', u'createdAt': u'2019-09-30T15:58:16.377Z'}, u'statusCode': 200}\n",
      "topogram ID : AxKbFadyDWMCNLgti\n",
      "78 nodes deleted\n",
      "85 edges deleted\n"
     ]
    },
    {
     "name": "stderr",
     "output_type": "stream",
     "text": [
      "ERROR:topogram-client:500 - Error : A topogram with the same name already exists\n"
     ]
    },
    {
     "name": "stdout",
     "output_type": "stream",
     "text": [
      "78 nodes created.\n",
      "85 edges created.\n",
      "done. Topogram has been updated. Check it at http://localhost:3000/topograms/AxKbFadyDWMCNLgti\n",
      "51 56\n",
      "Creating topogram 'Marisa Anderson/BETA_0.9  \n",
      "Distance totale parcourue par l'artiste: 27337.7764747 km  \n",
      "Distance calculee par Concorde: 27322.8467614 km  \n",
      "Pourcentage d'optimisation global calcule:0.0546120248837 %  \n",
      "GLOBALEMENT IDENTIQUE  \n",
      "PLAYED AT GZ'\n",
      "> Topogram already exists\n",
      "{u'status': u'success', 'status_code': 200, u'data': {u'sharedPublic': False, u'title': u\"Marisa Anderson/BETA_0.9  \\nDistance totale parcourue par l'artiste: 27337.7764747 km  \\nDistance calculee par Concorde: 27322.8467614 km  \\nPourcentage d'optimisation global calcule:0.0546120248837 %  \\nGLOBALEMENT IDENTIQUE  \\nPLAYED AT GZ\", u'userId': u'Bf5svhLniEkkcvts2', u'_id': u'RDLHnYEgm8v4JqFsR', u'slug': u'marisa-andersonbeta_09-distance-totale-parcourue-par-lartiste-273377764747-km-distance-calculee-par-concorde-273228467614-km-pourcentage-doptimisation-global-calcule00546120248837-globalement-identique-played-at-gz', u'createdAt': u'2019-09-30T15:58:21.863Z'}, u'statusCode': 200}\n",
      "topogram ID : RDLHnYEgm8v4JqFsR\n",
      "51 nodes deleted\n",
      "56 edges deleted\n",
      "51 nodes created.\n"
     ]
    },
    {
     "name": "stderr",
     "output_type": "stream",
     "text": [
      "ERROR:topogram-client:500 - Error : A topogram with the same name already exists\n"
     ]
    },
    {
     "name": "stdout",
     "output_type": "stream",
     "text": [
      "56 edges created.\n",
      "done. Topogram has been updated. Check it at http://localhost:3000/topograms/RDLHnYEgm8v4JqFsR\n",
      "128 129\n",
      "Creating topogram 'Dälek/BETA_0.9  \n",
      "Distance totale parcourue par l'artiste: 104987.552496 km  \n",
      "Distance calculee par Concorde: 78684.8003896 km  \n",
      "Pourcentage d'optimisation global calcule:25.053210101 %  \n",
      "MARGE D'OPTIMISATION IMPORTANTE  \n",
      "PLAYED AT GZ'\n",
      "> Topogram already exists\n",
      "{u'status': u'success', 'status_code': 200, u'data': {u'sharedPublic': False, u'title': u\"D\\xe4lek/BETA_0.9  \\nDistance totale parcourue par l'artiste: 104987.552496 km  \\nDistance calculee par Concorde: 78684.8003896 km  \\nPourcentage d'optimisation global calcule:25.053210101 %  \\nMARGE D'OPTIMISATION IMPORTANTE  \\nPLAYED AT GZ\", u'userId': u'Bf5svhLniEkkcvts2', u'_id': u'Z7sdYHKeKhw4niPB9', u'slug': u'dlekbeta_09-distance-totale-parcourue-par-lartiste-104987552496-km-distance-calculee-par-concorde-786848003896-km-pourcentage-doptimisation-global-calcule25053210101-marge-doptimisation-importante-played-at-gz', u'createdAt': u'2019-09-30T15:58:22.308Z'}, u'statusCode': 200}\n",
      "topogram ID : Z7sdYHKeKhw4niPB9\n",
      "128 nodes deleted\n",
      "129 edges deleted\n"
     ]
    },
    {
     "name": "stderr",
     "output_type": "stream",
     "text": [
      "ERROR:topogram-client:500 - Error : A topogram with the same name already exists\n"
     ]
    },
    {
     "name": "stdout",
     "output_type": "stream",
     "text": [
      "128 nodes created.\n",
      "129 edges created.\n",
      "done. Topogram has been updated. Check it at http://localhost:3000/topograms/Z7sdYHKeKhw4niPB9\n",
      "185 278\n",
      "Creating topogram 'Pinback/BETA_0.9  \n",
      "Distance totale parcourue par l'artiste: 165908.635972 km  \n",
      "Distance calculee par Concorde: 148248.067007 km  \n",
      "Pourcentage d'optimisation global calcule:10.6447556881 %  \n",
      "MARGE D'OPTIMISATION IMPORTANTE  \n",
      "PLAYED AT GZ'\n",
      "> Topogram already exists\n",
      "{u'status': u'success', 'status_code': 200, u'data': {u'sharedPublic': False, u'title': u\"Pinback/BETA_0.9  \\nDistance totale parcourue par l'artiste: 165908.635972 km  \\nDistance calculee par Concorde: 148248.067007 km  \\nPourcentage d'optimisation global calcule:10.6447556881 %  \\nMARGE D'OPTIMISATION IMPORTANTE  \\nPLAYED AT GZ\", u'userId': u'Bf5svhLniEkkcvts2', u'_id': u'W7nJ2xnBnuhuBh9bG', u'slug': u'pinbackbeta_09-distance-totale-parcourue-par-lartiste-165908635972-km-distance-calculee-par-concorde-148248067007-km-pourcentage-doptimisation-global-calcule106447556881-marge-doptimisation-importante-played-at-gz', u'createdAt': u'2019-09-30T15:58:23.991Z'}, u'statusCode': 200}\n",
      "topogram ID : W7nJ2xnBnuhuBh9bG\n",
      "185 nodes deleted\n",
      "278 edges deleted\n"
     ]
    },
    {
     "name": "stderr",
     "output_type": "stream",
     "text": [
      "ERROR:topogram-client:500 - Error : A topogram with the same name already exists\n"
     ]
    },
    {
     "name": "stdout",
     "output_type": "stream",
     "text": [
      "185 nodes created.\n",
      "278 edges created.\n",
      "done. Topogram has been updated. Check it at http://localhost:3000/topograms/W7nJ2xnBnuhuBh9bG\n",
      "67 105\n",
      "Creating topogram 'Twins/BETA_0.9  \n",
      "Distance totale parcourue par l'artiste: 103820.796828 km  \n",
      "Distance calculee par Concorde: 75664.8857105 km  \n",
      "Pourcentage d'optimisation global calcule:27.119721653 %  \n",
      "MARGE D'OPTIMISATION IMPORTANTE  \n",
      "PLAYED AT GZ'\n",
      "> Topogram already exists\n",
      "{u'status': u'success', 'status_code': 200, u'data': {u'sharedPublic': False, u'title': u\"Twins/BETA_0.9  \\nDistance totale parcourue par l'artiste: 103820.796828 km  \\nDistance calculee par Concorde: 75664.8857105 km  \\nPourcentage d'optimisation global calcule:27.119721653 %  \\nMARGE D'OPTIMISATION IMPORTANTE  \\nPLAYED AT GZ\", u'userId': u'Bf5svhLniEkkcvts2', u'_id': u'fruXcTsoY5AEFBbQe', u'slug': u'twinsbeta_09-distance-totale-parcourue-par-lartiste-103820796828-km-distance-calculee-par-concorde-756648857105-km-pourcentage-doptimisation-global-calcule27119721653-marge-doptimisation-importante-played-at-gz', u'createdAt': u'2019-09-30T15:58:24.669Z'}, u'statusCode': 200}\n",
      "topogram ID : fruXcTsoY5AEFBbQe\n",
      "67 nodes deleted\n",
      "105 edges deleted\n"
     ]
    },
    {
     "name": "stderr",
     "output_type": "stream",
     "text": [
      "ERROR:topogram-client:500 - Error : A topogram with the same name already exists\n"
     ]
    },
    {
     "name": "stdout",
     "output_type": "stream",
     "text": [
      "67 nodes created.\n",
      "105 edges created.\n",
      "done. Topogram has been updated. Check it at http://localhost:3000/topograms/fruXcTsoY5AEFBbQe\n",
      "110 129\n",
      "Creating topogram 'Circuit des yeux/BETA_0.9  \n",
      "Distance totale parcourue par l'artiste: 96185.6477634 km  \n",
      "Distance calculee par Concorde: 88729.8683659 km  \n",
      "Pourcentage d'optimisation global calcule:7.7514468851 %  \n",
      "GLOBALEMENT IDENTIQUE  \n",
      "PLAYED AT GZ'\n",
      "> Topogram already exists\n",
      "{u'status': u'success', 'status_code': 200, u'data': {u'sharedPublic': False, u'title': u\"Circuit des yeux/BETA_0.9  \\nDistance totale parcourue par l'artiste: 96185.6477634 km  \\nDistance calculee par Concorde: 88729.8683659 km  \\nPourcentage d'optimisation global calcule:7.7514468851 %  \\nGLOBALEMENT IDENTIQUE  \\nPLAYED AT GZ\", u'userId': u'Bf5svhLniEkkcvts2', u'_id': u'wQtEpeuQ5Y4mayurX', u'slug': u'circuit-des-yeuxbeta_09-distance-totale-parcourue-par-lartiste-961856477634-km-distance-calculee-par-concorde-887298683659-km-pourcentage-doptimisation-global-calcule77514468851-globalement-identique-played-at-gz', u'createdAt': u'2019-09-30T15:58:25.144Z'}, u'statusCode': 200}\n",
      "topogram ID : wQtEpeuQ5Y4mayurX\n",
      "110 nodes deleted\n",
      "129 edges deleted\n"
     ]
    },
    {
     "name": "stderr",
     "output_type": "stream",
     "text": [
      "ERROR:topogram-client:500 - Error : A topogram with the same name already exists\n"
     ]
    },
    {
     "name": "stdout",
     "output_type": "stream",
     "text": [
      "110 nodes created.\n",
      "129 edges created.\n",
      "done. Topogram has been updated. Check it at http://localhost:3000/topograms/wQtEpeuQ5Y4mayurX\n",
      "310 439\n",
      "Creating topogram 'Boris/BETA_0.9  \n",
      "Distance totale parcourue par l'artiste: 767990.185812 km  \n",
      "Distance calculee par Concorde: 363776.640372 km  \n",
      "Pourcentage d'optimisation global calcule:52.6326446493 %  \n",
      "MARGE D'OPTIMISATION IMPORTANTE  \n",
      "PLAYED AT GZ'\n",
      "> Topogram already exists\n",
      "{u'status': u'success', 'status_code': 200, u'data': {u'sharedPublic': False, u'title': u\"Boris/BETA_0.9  \\nDistance totale parcourue par l'artiste: 767990.185812 km  \\nDistance calculee par Concorde: 363776.640372 km  \\nPourcentage d'optimisation global calcule:52.6326446493 %  \\nMARGE D'OPTIMISATION IMPORTANTE  \\nPLAYED AT GZ\", u'userId': u'Bf5svhLniEkkcvts2', u'_id': u'w5cg33dWtLJyfWFc5', u'slug': u'borisbeta_09-distance-totale-parcourue-par-lartiste-767990185812-km-distance-calculee-par-concorde-363776640372-km-pourcentage-doptimisation-global-calcule526326446493-marge-doptimisation-importante-played-at-gz', u'createdAt': u'2019-09-30T15:58:26.011Z'}, u'statusCode': 200}\n",
      "topogram ID : w5cg33dWtLJyfWFc5\n",
      "310 nodes deleted\n",
      "439 edges deleted\n"
     ]
    },
    {
     "name": "stderr",
     "output_type": "stream",
     "text": [
      "ERROR:topogram-client:500 - Error : A topogram with the same name already exists\n"
     ]
    },
    {
     "name": "stdout",
     "output_type": "stream",
     "text": [
      "310 nodes created.\n",
      "439 edges created.\n",
      "done. Topogram has been updated. Check it at http://localhost:3000/topograms/w5cg33dWtLJyfWFc5\n",
      "59 62\n",
      "Creating topogram 'Goat/BETA_0.9  \n",
      "Distance totale parcourue par l'artiste: 30398.5563219 km  \n",
      "Distance calculee par Concorde: 29618.5346616 km  \n",
      "Pourcentage d'optimisation global calcule:2.56598258171 %  \n",
      "GLOBALEMENT IDENTIQUE  \n",
      "PLAYED AT GZ'\n",
      "> Topogram already exists\n",
      "{u'status': u'success', 'status_code': 200, u'data': {u'sharedPublic': False, u'title': u\"Goat/BETA_0.9  \\nDistance totale parcourue par l'artiste: 30398.5563219 km  \\nDistance calculee par Concorde: 29618.5346616 km  \\nPourcentage d'optimisation global calcule:2.56598258171 %  \\nGLOBALEMENT IDENTIQUE  \\nPLAYED AT GZ\", u'userId': u'Bf5svhLniEkkcvts2', u'_id': u'WotkFexaLiweBXihB', u'slug': u'goatbeta_09-distance-totale-parcourue-par-lartiste-303985563219-km-distance-calculee-par-concorde-296185346616-km-pourcentage-doptimisation-global-calcule256598258171-globalement-identique-played-at-gz', u'createdAt': u'2019-09-30T15:58:27.599Z'}, u'statusCode': 200}\n",
      "topogram ID : WotkFexaLiweBXihB\n",
      "59 nodes deleted\n",
      "62 edges deleted\n",
      "59 nodes created.\n"
     ]
    },
    {
     "name": "stderr",
     "output_type": "stream",
     "text": [
      "ERROR:topogram-client:500 - Error : A topogram with the same name already exists\n"
     ]
    },
    {
     "name": "stdout",
     "output_type": "stream",
     "text": [
      "62 edges created.\n",
      "done. Topogram has been updated. Check it at http://localhost:3000/topograms/WotkFexaLiweBXihB\n",
      "225 320\n",
      "Creating topogram 'Thee Oh Sees/BETA_0.9  \n",
      "Distance totale parcourue par l'artiste: 254931.545993 km  \n",
      "Distance calculee par Concorde: 260459.29957 km  \n",
      "Pourcentage d'optimisation global calcule:-2.16832858244 %  \n",
      "GLOBALEMENT IDENTIQUE  \n",
      "PLAYED AT GZ'\n",
      "> Topogram already exists\n",
      "{u'status': u'success', 'status_code': 200, u'data': {u'sharedPublic': False, u'title': u\"Thee Oh Sees/BETA_0.9  \\nDistance totale parcourue par l'artiste: 254931.545993 km  \\nDistance calculee par Concorde: 260459.29957 km  \\nPourcentage d'optimisation global calcule:-2.16832858244 %  \\nGLOBALEMENT IDENTIQUE  \\nPLAYED AT GZ\", u'userId': u'Bf5svhLniEkkcvts2', u'_id': u'v6BQctpCQYcsptDhJ', u'slug': u'thee-oh-seesbeta_09-distance-totale-parcourue-par-lartiste-254931545993-km-distance-calculee-par-concorde-26045929957-km-pourcentage-doptimisation-global-calcule-216832858244-globalement-identique-played-at-gz', u'createdAt': u'2019-09-30T15:58:29.046Z'}, u'statusCode': 200}\n",
      "topogram ID : v6BQctpCQYcsptDhJ\n",
      "225 nodes deleted\n",
      "320 edges deleted\n"
     ]
    },
    {
     "name": "stderr",
     "output_type": "stream",
     "text": [
      "ERROR:topogram-client:500 - Error : A topogram with the same name already exists\n"
     ]
    },
    {
     "name": "stdout",
     "output_type": "stream",
     "text": [
      "225 nodes created.\n",
      "320 edges created.\n",
      "done. Topogram has been updated. Check it at http://localhost:3000/topograms/v6BQctpCQYcsptDhJ\n",
      "63 68\n",
      "Creating topogram 'Omni/BETA_0.9  \n",
      "Distance totale parcourue par l'artiste: 46771.4841074 km  \n",
      "Distance calculee par Concorde: 38266.6441894 km  \n",
      "Pourcentage d'optimisation global calcule:18.1838145193 %  \n",
      "MARGE D'OPTIMISATION IMPORTANTE  \n",
      "PLAYED AT GZ'\n",
      "> Topogram already exists\n",
      "{u'status': u'success', 'status_code': 200, u'data': {u'sharedPublic': False, u'title': u\"Omni/BETA_0.9  \\nDistance totale parcourue par l'artiste: 46771.4841074 km  \\nDistance calculee par Concorde: 38266.6441894 km  \\nPourcentage d'optimisation global calcule:18.1838145193 %  \\nMARGE D'OPTIMISATION IMPORTANTE  \\nPLAYED AT GZ\", u'userId': u'Bf5svhLniEkkcvts2', u'_id': u'zzzLpd6YqMEqZZ6sQ', u'slug': u'omnibeta_09-distance-totale-parcourue-par-lartiste-467714841074-km-distance-calculee-par-concorde-382666441894-km-pourcentage-doptimisation-global-calcule181838145193-marge-doptimisation-importante-played-at-gz', u'createdAt': u'2019-09-30T15:58:30.932Z'}, u'statusCode': 200}\n",
      "topogram ID : zzzLpd6YqMEqZZ6sQ\n",
      "63 nodes deleted\n",
      "68 edges deleted\n"
     ]
    },
    {
     "name": "stderr",
     "output_type": "stream",
     "text": [
      "ERROR:topogram-client:500 - Error : A topogram with the same name already exists\n"
     ]
    },
    {
     "name": "stdout",
     "output_type": "stream",
     "text": [
      "63 nodes created.\n",
      "68 edges created.\n",
      "done. Topogram has been updated. Check it at http://localhost:3000/topograms/zzzLpd6YqMEqZZ6sQ\n",
      "263 318\n",
      "Creating topogram 'Woods/BETA_0.9  \n",
      "Distance totale parcourue par l'artiste: 431504.119981 km  \n",
      "Distance calculee par Concorde: 319075.428183 km  \n",
      "Pourcentage d'optimisation global calcule:26.0550679802 %  \n",
      "MARGE D'OPTIMISATION IMPORTANTE  \n",
      "PLAYED AT GZ'\n",
      "> Topogram already exists\n",
      "{u'status': u'success', 'status_code': 200, u'data': {u'sharedPublic': False, u'title': u\"Woods/BETA_0.9  \\nDistance totale parcourue par l'artiste: 431504.119981 km  \\nDistance calculee par Concorde: 319075.428183 km  \\nPourcentage d'optimisation global calcule:26.0550679802 %  \\nMARGE D'OPTIMISATION IMPORTANTE  \\nPLAYED AT GZ\", u'userId': u'Bf5svhLniEkkcvts2', u'_id': u'ZdFg4PHs6vhqp4wpm', u'slug': u'woodsbeta_09-distance-totale-parcourue-par-lartiste-431504119981-km-distance-calculee-par-concorde-319075428183-km-pourcentage-doptimisation-global-calcule260550679802-marge-doptimisation-importante-played-at-gz', u'createdAt': u'2019-09-30T15:58:32.362Z'}, u'statusCode': 200}\n",
      "topogram ID : ZdFg4PHs6vhqp4wpm\n",
      "263 nodes deleted\n",
      "318 edges deleted\n"
     ]
    },
    {
     "name": "stderr",
     "output_type": "stream",
     "text": [
      "ERROR:topogram-client:500 - Error : A topogram with the same name already exists\n"
     ]
    },
    {
     "name": "stdout",
     "output_type": "stream",
     "text": [
      "263 nodes created.\n",
      "318 edges created.\n",
      "done. Topogram has been updated. Check it at http://localhost:3000/topograms/ZdFg4PHs6vhqp4wpm\n",
      "176 206\n",
      "Creating topogram 'Mirah/BETA_0.9  \n",
      "Distance totale parcourue par l'artiste: 92635.5259972 km  \n",
      "Distance calculee par Concorde: 92344.7455086 km  \n",
      "Pourcentage d'optimisation global calcule:0.313897379561 %  \n",
      "GLOBALEMENT IDENTIQUE  \n",
      "PLAYED AT GZ'\n",
      "> Topogram already exists\n",
      "{u'status': u'success', 'status_code': 200, u'data': {u'sharedPublic': False, u'title': u\"Mirah/BETA_0.9  \\nDistance totale parcourue par l'artiste: 92635.5259972 km  \\nDistance calculee par Concorde: 92344.7455086 km  \\nPourcentage d'optimisation global calcule:0.313897379561 %  \\nGLOBALEMENT IDENTIQUE  \\nPLAYED AT GZ\", u'userId': u'Bf5svhLniEkkcvts2', u'_id': u'KSzyuCD9MrZNTK39m', u'slug': u'mirahbeta_09-distance-totale-parcourue-par-lartiste-926355259972-km-distance-calculee-par-concorde-923447455086-km-pourcentage-doptimisation-global-calcule0313897379561-globalement-identique-played-at-gz', u'createdAt': u'2019-09-30T15:58:33.549Z'}, u'statusCode': 200}\n",
      "topogram ID : KSzyuCD9MrZNTK39m\n",
      "176 nodes deleted\n",
      "206 edges deleted\n"
     ]
    },
    {
     "name": "stderr",
     "output_type": "stream",
     "text": [
      "ERROR:topogram-client:500 - Error : A topogram with the same name already exists\n"
     ]
    },
    {
     "name": "stdout",
     "output_type": "stream",
     "text": [
      "176 nodes created.\n",
      "206 edges created.\n",
      "done. Topogram has been updated. Check it at http://localhost:3000/topograms/KSzyuCD9MrZNTK39m\n",
      "153 166\n",
      "Creating topogram 'Wolves in the Throne Room/BETA_0.9  \n",
      "Distance totale parcourue par l'artiste: 115864.678911 km  \n",
      "Distance calculee par Concorde: 107034.824613 km  \n",
      "Pourcentage d'optimisation global calcule:7.6208335281 %  \n",
      "GLOBALEMENT IDENTIQUE  \n",
      "PLAYED AT GZ'\n",
      "> Topogram already exists\n",
      "{u'status': u'success', 'status_code': 200, u'data': {u'sharedPublic': False, u'title': u\"Wolves in the Throne Room/BETA_0.9  \\nDistance totale parcourue par l'artiste: 115864.678911 km  \\nDistance calculee par Concorde: 107034.824613 km  \\nPourcentage d'optimisation global calcule:7.6208335281 %  \\nGLOBALEMENT IDENTIQUE  \\nPLAYED AT GZ\", u'userId': u'Bf5svhLniEkkcvts2', u'_id': u'HK9JBTed8Mu3ezMzt', u'slug': u'wolves-in-the-throne-roombeta_09-distance-totale-parcourue-par-lartiste-115864678911-km-distance-calculee-par-concorde-107034824613-km-pourcentage-doptimisation-global-calcule76208335281-globalement-identique-played-at-gz', u'createdAt': u'2019-09-30T15:58:34.442Z'}, u'statusCode': 200}\n",
      "topogram ID : HK9JBTed8Mu3ezMzt\n",
      "153 nodes deleted\n",
      "166 edges deleted\n"
     ]
    },
    {
     "name": "stderr",
     "output_type": "stream",
     "text": [
      "ERROR:topogram-client:500 - Error : A topogram with the same name already exists\n"
     ]
    },
    {
     "name": "stdout",
     "output_type": "stream",
     "text": [
      "153 nodes created.\n",
      "166 edges created.\n",
      "done. Topogram has been updated. Check it at http://localhost:3000/topograms/HK9JBTed8Mu3ezMzt\n",
      "128 147\n",
      "Creating topogram 'The Ex/BETA_0.9  \n",
      "Distance totale parcourue par l'artiste: 85663.017841 km  \n",
      "Distance calculee par Concorde: 89045.989911 km  \n",
      "Pourcentage d'optimisation global calcule:-3.94916284212 %  \n",
      "GLOBALEMENT IDENTIQUE  \n",
      "PLAYED AT GZ'\n",
      "> Topogram already exists\n",
      "{u'status': u'success', 'status_code': 200, u'data': {u'sharedPublic': False, u'title': u\"The Ex/BETA_0.9  \\nDistance totale parcourue par l'artiste: 85663.017841 km  \\nDistance calculee par Concorde: 89045.989911 km  \\nPourcentage d'optimisation global calcule:-3.94916284212 %  \\nGLOBALEMENT IDENTIQUE  \\nPLAYED AT GZ\", u'userId': u'Bf5svhLniEkkcvts2', u'_id': u'R5FgPxNMgFAqAWve5', u'slug': u'the-exbeta_09-distance-totale-parcourue-par-lartiste-85663017841-km-distance-calculee-par-concorde-89045989911-km-pourcentage-doptimisation-global-calcule-394916284212-globalement-identique-played-at-gz', u'createdAt': u'2019-09-30T15:58:35.017Z'}, u'statusCode': 200}\n",
      "topogram ID : R5FgPxNMgFAqAWve5\n",
      "128 nodes deleted\n",
      "147 edges deleted\n"
     ]
    },
    {
     "name": "stderr",
     "output_type": "stream",
     "text": [
      "ERROR:topogram-client:500 - Error : A topogram with the same name already exists\n"
     ]
    },
    {
     "name": "stdout",
     "output_type": "stream",
     "text": [
      "128 nodes created.\n",
      "147 edges created.\n",
      "done. Topogram has been updated. Check it at http://localhost:3000/topograms/R5FgPxNMgFAqAWve5\n",
      "267 310\n",
      "Creating topogram 'Low/BETA_0.9  \n",
      "Distance totale parcourue par l'artiste: 263348.278784 km  \n",
      "Distance calculee par Concorde: 273300.342665 km  \n",
      "Pourcentage d'optimisation global calcule:-3.77905028528 %  \n",
      "GLOBALEMENT IDENTIQUE  \n",
      "PLAYED AT GZ'\n",
      "> Topogram already exists\n",
      "{u'status': u'success', 'status_code': 200, u'data': {u'sharedPublic': False, u'title': u\"Low/BETA_0.9  \\nDistance totale parcourue par l'artiste: 263348.278784 km  \\nDistance calculee par Concorde: 273300.342665 km  \\nPourcentage d'optimisation global calcule:-3.77905028528 %  \\nGLOBALEMENT IDENTIQUE  \\nPLAYED AT GZ\", u'userId': u'Bf5svhLniEkkcvts2', u'_id': u'NBETFkj5poQiwbJQG', u'slug': u'lowbeta_09-distance-totale-parcourue-par-lartiste-263348278784-km-distance-calculee-par-concorde-273300342665-km-pourcentage-doptimisation-global-calcule-377905028528-globalement-identique-played-at-gz', u'createdAt': u'2019-09-30T15:58:36.861Z'}, u'statusCode': 200}\n",
      "topogram ID : NBETFkj5poQiwbJQG\n",
      "267 nodes deleted\n",
      "310 edges deleted\n"
     ]
    },
    {
     "name": "stderr",
     "output_type": "stream",
     "text": [
      "ERROR:topogram-client:500 - Error : A topogram with the same name already exists\n"
     ]
    },
    {
     "name": "stdout",
     "output_type": "stream",
     "text": [
      "267 nodes created.\n",
      "310 edges created.\n",
      "done. Topogram has been updated. Check it at http://localhost:3000/topograms/NBETFkj5poQiwbJQG\n",
      "93 106\n",
      "Creating topogram 'Ducktails/BETA_0.9  \n",
      "Distance totale parcourue par l'artiste: 62744.2332299 km  \n",
      "Distance calculee par Concorde: 62602.2546377 km  \n",
      "Pourcentage d'optimisation global calcule:0.226281500189 %  \n",
      "GLOBALEMENT IDENTIQUE  \n",
      "PLAYED AT GZ'\n",
      "> Topogram already exists\n",
      "{u'status': u'success', 'status_code': 200, u'data': {u'sharedPublic': False, u'title': u\"Ducktails/BETA_0.9  \\nDistance totale parcourue par l'artiste: 62744.2332299 km  \\nDistance calculee par Concorde: 62602.2546377 km  \\nPourcentage d'optimisation global calcule:0.226281500189 %  \\nGLOBALEMENT IDENTIQUE  \\nPLAYED AT GZ\", u'userId': u'Bf5svhLniEkkcvts2', u'_id': u'KLCyuwKp4pmHheSnf', u'slug': u'ducktailsbeta_09-distance-totale-parcourue-par-lartiste-627442332299-km-distance-calculee-par-concorde-626022546377-km-pourcentage-doptimisation-global-calcule0226281500189-globalement-identique-played-at-gz', u'createdAt': u'2019-09-30T15:58:38.023Z'}, u'statusCode': 200}\n",
      "topogram ID : KLCyuwKp4pmHheSnf\n",
      "93 nodes deleted\n",
      "106 edges deleted\n",
      "93 nodes created.\n"
     ]
    },
    {
     "name": "stderr",
     "output_type": "stream",
     "text": [
      "ERROR:topogram-client:500 - Error : A topogram with the same name already exists\n"
     ]
    },
    {
     "name": "stdout",
     "output_type": "stream",
     "text": [
      "106 edges created.\n",
      "done. Topogram has been updated. Check it at http://localhost:3000/topograms/KLCyuwKp4pmHheSnf\n",
      "187 219\n",
      "Creating topogram 'Sete Star Sept/BETA_0.9  \n",
      "Distance totale parcourue par l'artiste: 233451.129325 km  \n",
      "Distance calculee par Concorde: 213984.533569 km  \n",
      "Pourcentage d'optimisation global calcule:8.33861708551 %  \n",
      "GLOBALEMENT IDENTIQUE  \n",
      "PLAYED AT GZ'\n",
      "> Topogram already exists\n",
      "{u'status': u'success', 'status_code': 200, u'data': {u'sharedPublic': False, u'title': u\"Sete Star Sept/BETA_0.9  \\nDistance totale parcourue par l'artiste: 233451.129325 km  \\nDistance calculee par Concorde: 213984.533569 km  \\nPourcentage d'optimisation global calcule:8.33861708551 %  \\nGLOBALEMENT IDENTIQUE  \\nPLAYED AT GZ\", u'userId': u'Bf5svhLniEkkcvts2', u'_id': u'X4pdqbbct467urDc3', u'slug': u'sete-star-septbeta_09-distance-totale-parcourue-par-lartiste-233451129325-km-distance-calculee-par-concorde-213984533569-km-pourcentage-doptimisation-global-calcule833861708551-globalement-identique-played-at-gz', u'createdAt': u'2019-09-30T15:58:39.141Z'}, u'statusCode': 200}\n",
      "topogram ID : X4pdqbbct467urDc3\n",
      "187 nodes deleted\n",
      "219 edges deleted\n"
     ]
    },
    {
     "name": "stderr",
     "output_type": "stream",
     "text": [
      "ERROR:topogram-client:500 - Error : A topogram with the same name already exists\n"
     ]
    },
    {
     "name": "stdout",
     "output_type": "stream",
     "text": [
      "187 nodes created.\n",
      "219 edges created.\n",
      "done. Topogram has been updated. Check it at http://localhost:3000/topograms/X4pdqbbct467urDc3\n",
      "134 156\n",
      "Creating topogram 'Frankie Cosmos/BETA_0.9  \n",
      "Distance totale parcourue par l'artiste: 82200.7997483 km  \n",
      "Distance calculee par Concorde: 83819.7758663 km  \n",
      "Pourcentage d'optimisation global calcule:-1.96953815889 %  \n",
      "GLOBALEMENT IDENTIQUE  \n",
      "PLAYED AT GZ'\n",
      "> Topogram already exists\n",
      "{u'status': u'success', 'status_code': 200, u'data': {u'sharedPublic': False, u'title': u\"Frankie Cosmos/BETA_0.9  \\nDistance totale parcourue par l'artiste: 82200.7997483 km  \\nDistance calculee par Concorde: 83819.7758663 km  \\nPourcentage d'optimisation global calcule:-1.96953815889 %  \\nGLOBALEMENT IDENTIQUE  \\nPLAYED AT GZ\", u'userId': u'Bf5svhLniEkkcvts2', u'_id': u'KprYToPrdwDnkTYku', u'slug': u'frankie-cosmosbeta_09-distance-totale-parcourue-par-lartiste-822007997483-km-distance-calculee-par-concorde-838197758663-km-pourcentage-doptimisation-global-calcule-196953815889-globalement-identique-played-at-gz', u'createdAt': u'2019-09-30T15:58:42.118Z'}, u'statusCode': 200}\n",
      "topogram ID : KprYToPrdwDnkTYku\n",
      "134 nodes deleted\n",
      "156 edges deleted\n"
     ]
    },
    {
     "name": "stderr",
     "output_type": "stream",
     "text": [
      "ERROR:topogram-client:500 - Error : A topogram with the same name already exists\n"
     ]
    },
    {
     "name": "stdout",
     "output_type": "stream",
     "text": [
      "134 nodes created.\n",
      "156 edges created.\n",
      "done. Topogram has been updated. Check it at http://localhost:3000/topograms/KprYToPrdwDnkTYku\n",
      "288 327\n",
      "Creating topogram 'Phosphorescent/BETA_0.9  \n",
      "Distance totale parcourue par l'artiste: 238027.394581 km  \n",
      "Distance calculee par Concorde: 230856.84989 km  \n",
      "Pourcentage d'optimisation global calcule:3.01248715654 %  \n",
      "GLOBALEMENT IDENTIQUE  \n",
      "PLAYED AT GZ'\n",
      "> Topogram already exists\n",
      "{u'status': u'success', 'status_code': 200, u'data': {u'sharedPublic': False, u'title': u\"Phosphorescent/BETA_0.9  \\nDistance totale parcourue par l'artiste: 238027.394581 km  \\nDistance calculee par Concorde: 230856.84989 km  \\nPourcentage d'optimisation global calcule:3.01248715654 %  \\nGLOBALEMENT IDENTIQUE  \\nPLAYED AT GZ\", u'userId': u'Bf5svhLniEkkcvts2', u'_id': u'iLeZ99ZzZeJm8ekN7', u'slug': u'phosphorescentbeta_09-distance-totale-parcourue-par-lartiste-238027394581-km-distance-calculee-par-concorde-23085684989-km-pourcentage-doptimisation-global-calcule301248715654-globalement-identique-played-at-gz', u'createdAt': u'2019-09-30T15:58:44.031Z'}, u'statusCode': 200}\n",
      "topogram ID : iLeZ99ZzZeJm8ekN7\n",
      "288 nodes deleted\n",
      "327 edges deleted\n"
     ]
    },
    {
     "name": "stderr",
     "output_type": "stream",
     "text": [
      "ERROR:topogram-client:500 - Error : A topogram with the same name already exists\n"
     ]
    },
    {
     "name": "stdout",
     "output_type": "stream",
     "text": [
      "288 nodes created.\n",
      "327 edges created.\n",
      "done. Topogram has been updated. Check it at http://localhost:3000/topograms/iLeZ99ZzZeJm8ekN7\n",
      "357 491\n",
      "Creating topogram 'Weedeater/BETA_0.9  \n",
      "Distance totale parcourue par l'artiste: 298910.078963 km  \n",
      "Distance calculee par Concorde: 271067.78743 km  \n",
      "Pourcentage d'optimisation global calcule:9.31460445558 %  \n",
      "GLOBALEMENT IDENTIQUE  \n",
      "PLAYED AT GZ'\n",
      "> Topogram already exists\n",
      "{u'status': u'success', 'status_code': 200, u'data': {u'sharedPublic': False, u'title': u\"Weedeater/BETA_0.9  \\nDistance totale parcourue par l'artiste: 298910.078963 km  \\nDistance calculee par Concorde: 271067.78743 km  \\nPourcentage d'optimisation global calcule:9.31460445558 %  \\nGLOBALEMENT IDENTIQUE  \\nPLAYED AT GZ\", u'userId': u'Bf5svhLniEkkcvts2', u'_id': u'oXg4AEcQwRYd8o8BW', u'slug': u'weedeaterbeta_09-distance-totale-parcourue-par-lartiste-298910078963-km-distance-calculee-par-concorde-27106778743-km-pourcentage-doptimisation-global-calcule931460445558-globalement-identique-played-at-gz', u'createdAt': u'2019-09-30T15:58:45.585Z'}, u'statusCode': 200}\n",
      "topogram ID : oXg4AEcQwRYd8o8BW\n",
      "357 nodes deleted\n",
      "491 edges deleted\n",
      "357 nodes created.\n",
      "491 edges created.\n",
      "done. Topogram has been updated. Check it at http://localhost:3000/topograms/oXg4AEcQwRYd8o8BW\n",
      "283 348\n",
      "Creating topogram '!!!/BETA_0.9  \n",
      "Distance totale parcourue par l'artiste: 341224.842392 km  \n",
      "Distance calculee par Concorde: 325731.555963 km  \n",
      "Pourcentage d'optimisation global calcule:4.54049192928 %  \n",
      "GLOBALEMENT IDENTIQUE  \n",
      "PLAYED AT GZ'\n"
     ]
    },
    {
     "name": "stderr",
     "output_type": "stream",
     "text": [
      "ERROR:topogram-client:500 - Error : A topogram with the same name already exists\n"
     ]
    },
    {
     "name": "stdout",
     "output_type": "stream",
     "text": [
      "> Topogram already exists\n",
      "{u'status': u'success', 'status_code': 200, u'data': {u'sharedPublic': False, u'title': u\"!!!/BETA_0.9  \\nDistance totale parcourue par l'artiste: 341224.842392 km  \\nDistance calculee par Concorde: 325731.555963 km  \\nPourcentage d'optimisation global calcule:4.54049192928 %  \\nGLOBALEMENT IDENTIQUE  \\nPLAYED AT GZ\", u'userId': u'Bf5svhLniEkkcvts2', u'_id': u'RqwktoxvTPNFHq5jP', u'slug': u'beta_09-distance-totale-parcourue-par-lartiste-341224842392-km-distance-calculee-par-concorde-325731555963-km-pourcentage-doptimisation-global-calcule454049192928-globalement-identique-played-at-gz', u'createdAt': u'2019-09-30T15:58:46.876Z'}, u'statusCode': 200}\n",
      "topogram ID : RqwktoxvTPNFHq5jP\n",
      "283 nodes deleted\n",
      "348 edges deleted\n"
     ]
    },
    {
     "name": "stderr",
     "output_type": "stream",
     "text": [
      "ERROR:topogram-client:500 - Error : A topogram with the same name already exists\n"
     ]
    },
    {
     "name": "stdout",
     "output_type": "stream",
     "text": [
      "283 nodes created.\n",
      "348 edges created.\n",
      "done. Topogram has been updated. Check it at http://localhost:3000/topograms/RqwktoxvTPNFHq5jP\n",
      "69 70\n",
      "Creating topogram 'Scott Kelly/BETA_0.9  \n",
      "Distance totale parcourue par l'artiste: 39384.9626069 km  \n",
      "Distance calculee par Concorde: 37922.0156906 km  \n",
      "Pourcentage d'optimisation global calcule:3.71448090708 %  \n",
      "GLOBALEMENT IDENTIQUE  \n",
      "PLAYED AT GZ'\n",
      "> Topogram already exists\n",
      "{u'status': u'success', 'status_code': 200, u'data': {u'sharedPublic': False, u'title': u\"Scott Kelly/BETA_0.9  \\nDistance totale parcourue par l'artiste: 39384.9626069 km  \\nDistance calculee par Concorde: 37922.0156906 km  \\nPourcentage d'optimisation global calcule:3.71448090708 %  \\nGLOBALEMENT IDENTIQUE  \\nPLAYED AT GZ\", u'userId': u'Bf5svhLniEkkcvts2', u'_id': u'dhGds6svYrsbK3xYK', u'slug': u'scott-kellybeta_09-distance-totale-parcourue-par-lartiste-393849626069-km-distance-calculee-par-concorde-379220156906-km-pourcentage-doptimisation-global-calcule371448090708-globalement-identique-played-at-gz', u'createdAt': u'2019-09-30T15:58:48.607Z'}, u'statusCode': 200}\n",
      "topogram ID : dhGds6svYrsbK3xYK\n",
      "69 nodes deleted\n",
      "70 edges deleted\n",
      "69 nodes created.\n"
     ]
    },
    {
     "name": "stderr",
     "output_type": "stream",
     "text": [
      "ERROR:topogram-client:500 - Error : A topogram with the same name already exists\n"
     ]
    },
    {
     "name": "stdout",
     "output_type": "stream",
     "text": [
      "70 edges created.\n",
      "done. Topogram has been updated. Check it at http://localhost:3000/topograms/dhGds6svYrsbK3xYK\n",
      "142 154\n",
      "Creating topogram 'Scout Niblett/BETA_0.9  \n",
      "Distance totale parcourue par l'artiste: 91021.9941525 km  \n",
      "Distance calculee par Concorde: 84182.2774645 km  \n",
      "Pourcentage d'optimisation global calcule:7.5143560099 %  \n",
      "GLOBALEMENT IDENTIQUE  \n",
      "PLAYED AT GZ'\n",
      "> Topogram already exists\n",
      "{u'status': u'success', 'status_code': 200, u'data': {u'sharedPublic': False, u'title': u\"Scout Niblett/BETA_0.9  \\nDistance totale parcourue par l'artiste: 91021.9941525 km  \\nDistance calculee par Concorde: 84182.2774645 km  \\nPourcentage d'optimisation global calcule:7.5143560099 %  \\nGLOBALEMENT IDENTIQUE  \\nPLAYED AT GZ\", u'userId': u'Bf5svhLniEkkcvts2', u'_id': u'cn4Sm9AadZoQgGqkX', u'slug': u'scout-niblettbeta_09-distance-totale-parcourue-par-lartiste-910219941525-km-distance-calculee-par-concorde-841822774645-km-pourcentage-doptimisation-global-calcule75143560099-globalement-identique-played-at-gz', u'createdAt': u'2019-09-30T15:58:51.789Z'}, u'statusCode': 200}\n",
      "topogram ID : cn4Sm9AadZoQgGqkX\n",
      "142 nodes deleted\n",
      "154 edges deleted\n"
     ]
    },
    {
     "name": "stderr",
     "output_type": "stream",
     "text": [
      "ERROR:topogram-client:500 - Error : A topogram with the same name already exists\n"
     ]
    },
    {
     "name": "stdout",
     "output_type": "stream",
     "text": [
      "142 nodes created.\n",
      "154 edges created.\n",
      "done. Topogram has been updated. Check it at http://localhost:3000/topograms/cn4Sm9AadZoQgGqkX\n",
      "58 67\n",
      "Creating topogram 'Colin Stetson/BETA_0.9  \n",
      "Distance totale parcourue par l'artiste: 55223.9559684 km  \n",
      "Distance calculee par Concorde: 74666.2428098 km  \n",
      "Pourcentage d'optimisation global calcule:-35.2062551486 %  \n",
      "TOURNEE DEJA OPTIMISEE  \n",
      "PLAYED AT GZ'\n",
      "> Topogram already exists\n",
      "{u'status': u'success', 'status_code': 200, u'data': {u'sharedPublic': False, u'title': u\"Colin Stetson/BETA_0.9  \\nDistance totale parcourue par l'artiste: 55223.9559684 km  \\nDistance calculee par Concorde: 74666.2428098 km  \\nPourcentage d'optimisation global calcule:-35.2062551486 %  \\nTOURNEE DEJA OPTIMISEE  \\nPLAYED AT GZ\", u'userId': u'Bf5svhLniEkkcvts2', u'_id': u'LTdL8MoHys9DeaDdS', u'slug': u'colin-stetsonbeta_09-distance-totale-parcourue-par-lartiste-552239559684-km-distance-calculee-par-concorde-746662428098-km-pourcentage-doptimisation-global-calcule-352062551486-tournee-deja-optimisee-played-at-gz', u'createdAt': u'2019-09-30T15:58:53.395Z'}, u'statusCode': 200}\n",
      "topogram ID : LTdL8MoHys9DeaDdS\n",
      "58 nodes deleted\n",
      "67 edges deleted\n",
      "58 nodes created.\n"
     ]
    },
    {
     "name": "stderr",
     "output_type": "stream",
     "text": [
      "ERROR:topogram-client:500 - Error : A topogram with the same name already exists\n"
     ]
    },
    {
     "name": "stdout",
     "output_type": "stream",
     "text": [
      "67 edges created.\n",
      "done. Topogram has been updated. Check it at http://localhost:3000/topograms/LTdL8MoHys9DeaDdS\n",
      "264 323\n",
      "Creating topogram 'Wavves/BETA_0.9  \n",
      "Distance totale parcourue par l'artiste: 198752.458621 km  \n",
      "Distance calculee par Concorde: 197522.323577 km  \n",
      "Pourcentage d'optimisation global calcule:0.618928214767 %  \n",
      "GLOBALEMENT IDENTIQUE  \n",
      "PLAYED AT GZ'\n",
      "> Topogram already exists\n",
      "{u'status': u'success', 'status_code': 200, u'data': {u'sharedPublic': False, u'title': u\"Wavves/BETA_0.9  \\nDistance totale parcourue par l'artiste: 198752.458621 km  \\nDistance calculee par Concorde: 197522.323577 km  \\nPourcentage d'optimisation global calcule:0.618928214767 %  \\nGLOBALEMENT IDENTIQUE  \\nPLAYED AT GZ\", u'userId': u'Bf5svhLniEkkcvts2', u'_id': u'LxJNr2LSZ9aowS9Pd', u'slug': u'wavvesbeta_09-distance-totale-parcourue-par-lartiste-198752458621-km-distance-calculee-par-concorde-197522323577-km-pourcentage-doptimisation-global-calcule0618928214767-globalement-identique-played-at-gz', u'createdAt': u'2019-09-30T15:58:54.121Z'}, u'statusCode': 200}\n",
      "topogram ID : LxJNr2LSZ9aowS9Pd\n",
      "264 nodes deleted\n",
      "323 edges deleted\n",
      "264 nodes created.\n",
      "323 edges created.\n",
      "done. Topogram has been updated. Check it at http://localhost:3000/topograms/LxJNr2LSZ9aowS9Pd\n",
      "419 507\n",
      "Creating topogram 'Dan Deacon/BETA_0.9  \n",
      "Distance totale parcourue par l'artiste: 545737.660263 km  \n",
      "Distance calculee par Concorde: 430329.172597 km  \n",
      "Pourcentage d'optimisation global calcule:21.1472463914 %  \n",
      "MARGE D'OPTIMISATION IMPORTANTE  \n",
      "PLAYED AT GZ'\n"
     ]
    },
    {
     "name": "stderr",
     "output_type": "stream",
     "text": [
      "ERROR:topogram-client:500 - Error : A topogram with the same name already exists\n"
     ]
    },
    {
     "name": "stdout",
     "output_type": "stream",
     "text": [
      "> Topogram already exists\n",
      "{u'status': u'success', 'status_code': 200, u'data': {u'sharedPublic': False, u'title': u\"Dan Deacon/BETA_0.9  \\nDistance totale parcourue par l'artiste: 545737.660263 km  \\nDistance calculee par Concorde: 430329.172597 km  \\nPourcentage d'optimisation global calcule:21.1472463914 %  \\nMARGE D'OPTIMISATION IMPORTANTE  \\nPLAYED AT GZ\", u'userId': u'Bf5svhLniEkkcvts2', u'_id': u'8nAFfWfth26rJxQmf', u'slug': u'dan-deaconbeta_09-distance-totale-parcourue-par-lartiste-545737660263-km-distance-calculee-par-concorde-430329172597-km-pourcentage-doptimisation-global-calcule211472463914-marge-doptimisation-importante-played-at-gz', u'createdAt': u'2019-09-30T15:58:57.646Z'}, u'statusCode': 200}\n",
      "topogram ID : 8nAFfWfth26rJxQmf\n",
      "419 nodes deleted\n",
      "507 edges deleted\n",
      "419 nodes created.\n",
      "507 edges created.\n",
      "done. Topogram has been updated. Check it at http://localhost:3000/topograms/8nAFfWfth26rJxQmf\n",
      "303 339\n",
      "Creating topogram 'tUnE-YaRdS/BETA_0.9  \n",
      "Distance totale parcourue par l'artiste: 352013.412229 km  \n",
      "Distance calculee par Concorde: 264024.790089 km  \n",
      "Pourcentage d'optimisation global calcule:24.9958152398 %  \n",
      "MARGE D'OPTIMISATION IMPORTANTE  \n",
      "PLAYED AT GZ'\n"
     ]
    },
    {
     "name": "stderr",
     "output_type": "stream",
     "text": [
      "ERROR:topogram-client:500 - Error : A topogram with the same name already exists\n"
     ]
    },
    {
     "name": "stdout",
     "output_type": "stream",
     "text": [
      "> Topogram already exists\n",
      "{u'status': u'success', 'status_code': 200, u'data': {u'sharedPublic': False, u'title': u\"tUnE-YaRdS/BETA_0.9  \\nDistance totale parcourue par l'artiste: 352013.412229 km  \\nDistance calculee par Concorde: 264024.790089 km  \\nPourcentage d'optimisation global calcule:24.9958152398 %  \\nMARGE D'OPTIMISATION IMPORTANTE  \\nPLAYED AT GZ\", u'userId': u'Bf5svhLniEkkcvts2', u'_id': u'7Nj7WouB5a2JMS22a', u'slug': u'tune-yardsbeta_09-distance-totale-parcourue-par-lartiste-352013412229-km-distance-calculee-par-concorde-264024790089-km-pourcentage-doptimisation-global-calcule249958152398-marge-doptimisation-importante-played-at-gz', u'createdAt': u'2019-09-30T15:58:58.812Z'}, u'statusCode': 200}\n",
      "topogram ID : 7Nj7WouB5a2JMS22a\n",
      "303 nodes deleted\n",
      "339 edges deleted\n"
     ]
    },
    {
     "name": "stderr",
     "output_type": "stream",
     "text": [
      "ERROR:topogram-client:500 - Error : A topogram with the same name already exists\n"
     ]
    },
    {
     "name": "stdout",
     "output_type": "stream",
     "text": [
      "303 nodes created.\n",
      "339 edges created.\n",
      "done. Topogram has been updated. Check it at http://localhost:3000/topograms/7Nj7WouB5a2JMS22a\n",
      "57 58\n",
      "Creating topogram 'Gun Outfit/BETA_0.9  \n",
      "Distance totale parcourue par l'artiste: 28992.9783284 km  \n",
      "Distance calculee par Concorde: 27985.1670277 km  \n",
      "Pourcentage d'optimisation global calcule:3.47605302668 %  \n",
      "GLOBALEMENT IDENTIQUE  \n",
      "PLAYED AT GZ'\n",
      "> Topogram already exists\n",
      "{u'status': u'success', 'status_code': 200, u'data': {u'sharedPublic': False, u'title': u\"Gun Outfit/BETA_0.9  \\nDistance totale parcourue par l'artiste: 28992.9783284 km  \\nDistance calculee par Concorde: 27985.1670277 km  \\nPourcentage d'optimisation global calcule:3.47605302668 %  \\nGLOBALEMENT IDENTIQUE  \\nPLAYED AT GZ\", u'userId': u'Bf5svhLniEkkcvts2', u'_id': u'uCaZdrHsk8dMZkSbn', u'slug': u'gun-outfitbeta_09-distance-totale-parcourue-par-lartiste-289929783284-km-distance-calculee-par-concorde-279851670277-km-pourcentage-doptimisation-global-calcule347605302668-globalement-identique-played-at-gz', u'createdAt': u'2019-09-30T15:59:00.631Z'}, u'statusCode': 200}\n",
      "topogram ID : uCaZdrHsk8dMZkSbn\n",
      "57 nodes deleted\n",
      "58 edges deleted\n"
     ]
    },
    {
     "name": "stderr",
     "output_type": "stream",
     "text": [
      "ERROR:topogram-client:500 - Error : A topogram with the same name already exists\n"
     ]
    },
    {
     "name": "stdout",
     "output_type": "stream",
     "text": [
      "57 nodes created.\n",
      "58 edges created.\n",
      "done. Topogram has been updated. Check it at http://localhost:3000/topograms/uCaZdrHsk8dMZkSbn\n",
      "96 114\n",
      "Creating topogram 'Palm/BETA_0.9  \n",
      "Distance totale parcourue par l'artiste: 70398.8630806 km  \n",
      "Distance calculee par Concorde: 61158.0324501 km  \n",
      "Pourcentage d'optimisation global calcule:13.1263918566 %  \n",
      "MARGE D'OPTIMISATION IMPORTANTE  \n",
      "PLAYED AT GZ'\n",
      "> Topogram already exists\n",
      "{u'status': u'success', 'status_code': 200, u'data': {u'sharedPublic': False, u'title': u\"Palm/BETA_0.9  \\nDistance totale parcourue par l'artiste: 70398.8630806 km  \\nDistance calculee par Concorde: 61158.0324501 km  \\nPourcentage d'optimisation global calcule:13.1263918566 %  \\nMARGE D'OPTIMISATION IMPORTANTE  \\nPLAYED AT GZ\", u'userId': u'Bf5svhLniEkkcvts2', u'_id': u'mNYkJWsXfCzgwHrAi', u'slug': u'palmbeta_09-distance-totale-parcourue-par-lartiste-703988630806-km-distance-calculee-par-concorde-611580324501-km-pourcentage-doptimisation-global-calcule131263918566-marge-doptimisation-importante-played-at-gz', u'createdAt': u'2019-09-30T15:59:03.254Z'}, u'statusCode': 200}\n",
      "topogram ID : mNYkJWsXfCzgwHrAi\n",
      "96 nodes deleted\n",
      "114 edges deleted\n"
     ]
    },
    {
     "name": "stderr",
     "output_type": "stream",
     "text": [
      "ERROR:topogram-client:500 - Error : A topogram with the same name already exists\n"
     ]
    },
    {
     "name": "stdout",
     "output_type": "stream",
     "text": [
      "96 nodes created.\n",
      "114 edges created.\n",
      "done. Topogram has been updated. Check it at http://localhost:3000/topograms/mNYkJWsXfCzgwHrAi\n",
      "250 311\n",
      "Creating topogram 'Melt-Banana/BETA_0.9  \n",
      "Distance totale parcourue par l'artiste: 137192.994819 km  \n",
      "Distance calculee par Concorde: 132050.329771 km  \n",
      "Pourcentage d'optimisation global calcule:3.74848953032 %  \n",
      "GLOBALEMENT IDENTIQUE  \n",
      "PLAYED AT GZ'\n",
      "> Topogram already exists\n",
      "{u'status': u'success', 'status_code': 200, u'data': {u'sharedPublic': False, u'title': u\"Melt-Banana/BETA_0.9  \\nDistance totale parcourue par l'artiste: 137192.994819 km  \\nDistance calculee par Concorde: 132050.329771 km  \\nPourcentage d'optimisation global calcule:3.74848953032 %  \\nGLOBALEMENT IDENTIQUE  \\nPLAYED AT GZ\", u'userId': u'Bf5svhLniEkkcvts2', u'_id': u'YeWY7oYNftt3SiinX', u'slug': u'melt-bananabeta_09-distance-totale-parcourue-par-lartiste-137192994819-km-distance-calculee-par-concorde-132050329771-km-pourcentage-doptimisation-global-calcule374848953032-globalement-identique-played-at-gz', u'createdAt': u'2019-09-30T15:59:03.761Z'}, u'statusCode': 200}\n",
      "topogram ID : YeWY7oYNftt3SiinX\n",
      "250 nodes deleted\n",
      "311 edges deleted\n"
     ]
    },
    {
     "name": "stderr",
     "output_type": "stream",
     "text": [
      "ERROR:topogram-client:500 - Error : A topogram with the same name already exists\n"
     ]
    },
    {
     "name": "stdout",
     "output_type": "stream",
     "text": [
      "250 nodes created.\n",
      "311 edges created.\n",
      "done. Topogram has been updated. Check it at http://localhost:3000/topograms/YeWY7oYNftt3SiinX\n",
      "84 90\n",
      "Creating topogram 'Unsane/BETA_0.9  \n",
      "Distance totale parcourue par l'artiste: 62471.2722034 km  \n",
      "Distance calculee par Concorde: 54537.4029477 km  \n",
      "Pourcentage d'optimisation global calcule:12.7000283103 %  \n",
      "MARGE D'OPTIMISATION IMPORTANTE  \n",
      "PLAYED AT GZ'\n",
      "> Topogram already exists\n",
      "{u'status': u'success', 'status_code': 200, u'data': {u'sharedPublic': False, u'title': u\"Unsane/BETA_0.9  \\nDistance totale parcourue par l'artiste: 62471.2722034 km  \\nDistance calculee par Concorde: 54537.4029477 km  \\nPourcentage d'optimisation global calcule:12.7000283103 %  \\nMARGE D'OPTIMISATION IMPORTANTE  \\nPLAYED AT GZ\", u'userId': u'Bf5svhLniEkkcvts2', u'_id': u'ZC87erCh3Z9f9aZTq', u'slug': u'unsanebeta_09-distance-totale-parcourue-par-lartiste-624712722034-km-distance-calculee-par-concorde-545374029477-km-pourcentage-doptimisation-global-calcule127000283103-marge-doptimisation-importante-played-at-gz', u'createdAt': u'2019-09-30T15:59:04.555Z'}, u'statusCode': 200}\n",
      "topogram ID : ZC87erCh3Z9f9aZTq\n",
      "84 nodes deleted\n",
      "90 edges deleted\n"
     ]
    },
    {
     "name": "stderr",
     "output_type": "stream",
     "text": [
      "ERROR:topogram-client:500 - Error : A topogram with the same name already exists\n"
     ]
    },
    {
     "name": "stdout",
     "output_type": "stream",
     "text": [
      "84 nodes created.\n",
      "90 edges created.\n",
      "done. Topogram has been updated. Check it at http://localhost:3000/topograms/ZC87erCh3Z9f9aZTq\n",
      "142 182\n",
      "Creating topogram 'Yonatan Gat/BETA_0.9  \n",
      "Distance totale parcourue par l'artiste: 97722.9069168 km  \n",
      "Distance calculee par Concorde: 100870.778743 km  \n",
      "Pourcentage d'optimisation global calcule:-3.22122205102 %  \n",
      "GLOBALEMENT IDENTIQUE  \n",
      "PLAYED AT GZ'\n",
      "> Topogram already exists\n",
      "{u'status': u'success', 'status_code': 200, u'data': {u'sharedPublic': False, u'title': u\"Yonatan Gat/BETA_0.9  \\nDistance totale parcourue par l'artiste: 97722.9069168 km  \\nDistance calculee par Concorde: 100870.778743 km  \\nPourcentage d'optimisation global calcule:-3.22122205102 %  \\nGLOBALEMENT IDENTIQUE  \\nPLAYED AT GZ\", u'userId': u'Bf5svhLniEkkcvts2', u'_id': u'jjbuJrs4sBTKtS7e5', u'slug': u'yonatan-gatbeta_09-distance-totale-parcourue-par-lartiste-977229069168-km-distance-calculee-par-concorde-100870778743-km-pourcentage-doptimisation-global-calcule-322122205102-globalement-identique-played-at-gz', u'createdAt': u'2019-09-30T15:59:07.630Z'}, u'statusCode': 200}\n",
      "topogram ID : jjbuJrs4sBTKtS7e5\n",
      "142 nodes deleted\n",
      "182 edges deleted\n"
     ]
    },
    {
     "name": "stderr",
     "output_type": "stream",
     "text": [
      "ERROR:topogram-client:500 - Error : A topogram with the same name already exists\n"
     ]
    },
    {
     "name": "stdout",
     "output_type": "stream",
     "text": [
      "142 nodes created.\n",
      "182 edges created.\n",
      "done. Topogram has been updated. Check it at http://localhost:3000/topograms/jjbuJrs4sBTKtS7e5\n",
      "484 648\n",
      "Creating topogram 'Russian Circles/BETA_0.9  \n",
      "Distance totale parcourue par l'artiste: 358860.191252 km  \n",
      "Distance calculee par Concorde: 357096.795976 km  \n",
      "Pourcentage d'optimisation global calcule:0.491387821529 %  \n",
      "GLOBALEMENT IDENTIQUE  \n",
      "PLAYED AT GZ'\n",
      "> Topogram already exists\n",
      "{u'status': u'success', 'status_code': 200, u'data': {u'sharedPublic': False, u'title': u\"Russian Circles/BETA_0.9  \\nDistance totale parcourue par l'artiste: 358860.191252 km  \\nDistance calculee par Concorde: 357096.795976 km  \\nPourcentage d'optimisation global calcule:0.491387821529 %  \\nGLOBALEMENT IDENTIQUE  \\nPLAYED AT GZ\", u'userId': u'Bf5svhLniEkkcvts2', u'_id': u'mJTt876n9BfcZGRL4', u'slug': u'russian-circlesbeta_09-distance-totale-parcourue-par-lartiste-358860191252-km-distance-calculee-par-concorde-357096795976-km-pourcentage-doptimisation-global-calcule0491387821529-globalement-identique-played-at-gz', u'createdAt': u'2019-09-30T15:59:08.613Z'}, u'statusCode': 200}\n",
      "topogram ID : mJTt876n9BfcZGRL4\n",
      "484 nodes deleted\n",
      "648 edges deleted\n",
      "484 nodes created.\n",
      "648 edges created.\n",
      "done. Topogram has been updated. Check it at http://localhost:3000/topograms/mJTt876n9BfcZGRL4\n",
      "214 238\n",
      "Creating topogram 'Shining/BETA_0.9  \n",
      "Distance totale parcourue par l'artiste: 181507.60308 km  \n",
      "Distance calculee par Concorde: 192406.671042 km  \n",
      "Pourcentage d'optimisation global calcule:-6.00474458206 %  \n",
      "GLOBALEMENT IDENTIQUE  \n",
      "PLAYED AT GZ'\n"
     ]
    },
    {
     "name": "stderr",
     "output_type": "stream",
     "text": [
      "ERROR:topogram-client:500 - Error : A topogram with the same name already exists\n"
     ]
    },
    {
     "name": "stdout",
     "output_type": "stream",
     "text": [
      "> Topogram already exists\n",
      "{u'status': u'success', 'status_code': 200, u'data': {u'sharedPublic': False, u'title': u\"Shining/BETA_0.9  \\nDistance totale parcourue par l'artiste: 181507.60308 km  \\nDistance calculee par Concorde: 192406.671042 km  \\nPourcentage d'optimisation global calcule:-6.00474458206 %  \\nGLOBALEMENT IDENTIQUE  \\nPLAYED AT GZ\", u'userId': u'Bf5svhLniEkkcvts2', u'_id': u'mv95zLqxiqqvPMcHu', u'slug': u'shiningbeta_09-distance-totale-parcourue-par-lartiste-18150760308-km-distance-calculee-par-concorde-192406671042-km-pourcentage-doptimisation-global-calcule-600474458206-globalement-identique-played-at-gz', u'createdAt': u'2019-09-30T15:59:10.251Z'}, u'statusCode': 200}\n",
      "topogram ID : mv95zLqxiqqvPMcHu\n",
      "214 nodes deleted\n",
      "238 edges deleted\n"
     ]
    },
    {
     "name": "stderr",
     "output_type": "stream",
     "text": [
      "ERROR:topogram-client:500 - Error : A topogram with the same name already exists\n"
     ]
    },
    {
     "name": "stdout",
     "output_type": "stream",
     "text": [
      "214 nodes created.\n",
      "238 edges created.\n",
      "done. Topogram has been updated. Check it at http://localhost:3000/topograms/mv95zLqxiqqvPMcHu\n",
      "113 234\n",
      "Creating topogram 'Dj/BETA_0.9  \n",
      "Distance totale parcourue par l'artiste: 870532.072266 km  \n",
      "Distance calculee par Concorde: 234217.341692 km  \n",
      "Pourcentage d'optimisation global calcule:73.0949210082 %  \n",
      "MARGE D'OPTIMISATION IMPORTANTE  \n",
      "PLAYED AT GZ'\n",
      "> Topogram already exists\n",
      "{u'status': u'success', 'status_code': 200, u'data': {u'sharedPublic': False, u'title': u\"Dj/BETA_0.9  \\nDistance totale parcourue par l'artiste: 870532.072266 km  \\nDistance calculee par Concorde: 234217.341692 km  \\nPourcentage d'optimisation global calcule:73.0949210082 %  \\nMARGE D'OPTIMISATION IMPORTANTE  \\nPLAYED AT GZ\", u'userId': u'Bf5svhLniEkkcvts2', u'_id': u'Aqvzdd3udQmdr5p3Q', u'slug': u'djbeta_09-distance-totale-parcourue-par-lartiste-870532072266-km-distance-calculee-par-concorde-234217341692-km-pourcentage-doptimisation-global-calcule730949210082-marge-doptimisation-importante-played-at-gz', u'createdAt': u'2019-09-30T15:59:11.351Z'}, u'statusCode': 200}\n",
      "topogram ID : Aqvzdd3udQmdr5p3Q\n",
      "113 nodes deleted\n",
      "234 edges deleted\n"
     ]
    },
    {
     "name": "stderr",
     "output_type": "stream",
     "text": [
      "ERROR:topogram-client:500 - Error : A topogram with the same name already exists\n"
     ]
    },
    {
     "name": "stdout",
     "output_type": "stream",
     "text": [
      "113 nodes created.\n",
      "234 edges created.\n",
      "done. Topogram has been updated. Check it at http://localhost:3000/topograms/Aqvzdd3udQmdr5p3Q\n",
      "121 128\n",
      "Creating topogram 'Tacocat/BETA_0.9  \n",
      "Distance totale parcourue par l'artiste: 74050.0168671 km  \n",
      "Distance calculee par Concorde: 64634.0643923 km  \n",
      "Pourcentage d'optimisation global calcule:12.7156655368 %  \n",
      "MARGE D'OPTIMISATION IMPORTANTE  \n",
      "PLAYED AT GZ'\n",
      "> Topogram already exists\n",
      "{u'status': u'success', 'status_code': 200, u'data': {u'sharedPublic': False, u'title': u\"Tacocat/BETA_0.9  \\nDistance totale parcourue par l'artiste: 74050.0168671 km  \\nDistance calculee par Concorde: 64634.0643923 km  \\nPourcentage d'optimisation global calcule:12.7156655368 %  \\nMARGE D'OPTIMISATION IMPORTANTE  \\nPLAYED AT GZ\", u'userId': u'Bf5svhLniEkkcvts2', u'_id': u'9r2svPPHki8Nw63oj', u'slug': u'tacocatbeta_09-distance-totale-parcourue-par-lartiste-740500168671-km-distance-calculee-par-concorde-646340643923-km-pourcentage-doptimisation-global-calcule127156655368-marge-doptimisation-importante-played-at-gz', u'createdAt': u'2019-09-30T15:59:11.896Z'}, u'statusCode': 200}\n",
      "topogram ID : 9r2svPPHki8Nw63oj\n",
      "121 nodes deleted\n",
      "128 edges deleted\n"
     ]
    },
    {
     "name": "stderr",
     "output_type": "stream",
     "text": [
      "ERROR:topogram-client:500 - Error : A topogram with the same name already exists\n"
     ]
    },
    {
     "name": "stdout",
     "output_type": "stream",
     "text": [
      "121 nodes created.\n",
      "128 edges created.\n",
      "done. Topogram has been updated. Check it at http://localhost:3000/topograms/9r2svPPHki8Nw63oj\n",
      "304 376\n",
      "Creating topogram 'Deerhunter/BETA_0.9  \n",
      "Distance totale parcourue par l'artiste: 324688.08802 km  \n",
      "Distance calculee par Concorde: 298569.993158 km  \n",
      "Pourcentage d'optimisation global calcule:8.04405699686 %  \n",
      "GLOBALEMENT IDENTIQUE  \n",
      "PLAYED AT GZ'\n",
      "> Topogram already exists\n",
      "{u'status': u'success', 'status_code': 200, u'data': {u'sharedPublic': False, u'title': u\"Deerhunter/BETA_0.9  \\nDistance totale parcourue par l'artiste: 324688.08802 km  \\nDistance calculee par Concorde: 298569.993158 km  \\nPourcentage d'optimisation global calcule:8.04405699686 %  \\nGLOBALEMENT IDENTIQUE  \\nPLAYED AT GZ\", u'userId': u'Bf5svhLniEkkcvts2', u'_id': u'AbHnnkx9JoBHhw2bR', u'slug': u'deerhunterbeta_09-distance-totale-parcourue-par-lartiste-32468808802-km-distance-calculee-par-concorde-298569993158-km-pourcentage-doptimisation-global-calcule804405699686-globalement-identique-played-at-gz', u'createdAt': u'2019-09-30T15:59:13.128Z'}, u'statusCode': 200}\n",
      "topogram ID : AbHnnkx9JoBHhw2bR\n",
      "304 nodes deleted\n",
      "376 edges deleted\n",
      "304 nodes created.\n",
      "376 edges created.\n",
      "done. Topogram has been updated. Check it at http://localhost:3000/topograms/AbHnnkx9JoBHhw2bR\n",
      "268 355\n",
      "Creating topogram 'Bermuda/BETA_0.9  \n",
      "Distance totale parcourue par l'artiste: 249298.191315 km  \n",
      "Distance calculee par Concorde: 176379.804995 km  \n",
      "Pourcentage d'optimisation global calcule:29.2494646411 %  \n",
      "MARGE D'OPTIMISATION IMPORTANTE  \n",
      "PLAYED AT GZ'\n"
     ]
    },
    {
     "name": "stderr",
     "output_type": "stream",
     "text": [
      "ERROR:topogram-client:500 - Error : A topogram with the same name already exists\n"
     ]
    },
    {
     "name": "stdout",
     "output_type": "stream",
     "text": [
      "> Topogram already exists\n",
      "{u'status': u'success', 'status_code': 200, u'data': {u'sharedPublic': False, u'title': u\"Bermuda/BETA_0.9  \\nDistance totale parcourue par l'artiste: 249298.191315 km  \\nDistance calculee par Concorde: 176379.804995 km  \\nPourcentage d'optimisation global calcule:29.2494646411 %  \\nMARGE D'OPTIMISATION IMPORTANTE  \\nPLAYED AT GZ\", u'userId': u'Bf5svhLniEkkcvts2', u'_id': u'KGaeboJ2ixhquHr8q', u'slug': u'bermudabeta_09-distance-totale-parcourue-par-lartiste-249298191315-km-distance-calculee-par-concorde-176379804995-km-pourcentage-doptimisation-global-calcule292494646411-marge-doptimisation-importante-played-at-gz', u'createdAt': u'2019-09-30T15:59:15.814Z'}, u'statusCode': 200}\n",
      "topogram ID : KGaeboJ2ixhquHr8q\n",
      "268 nodes deleted\n",
      "355 edges deleted\n"
     ]
    },
    {
     "name": "stderr",
     "output_type": "stream",
     "text": [
      "ERROR:topogram-client:500 - Error : A topogram with the same name already exists\n"
     ]
    },
    {
     "name": "stdout",
     "output_type": "stream",
     "text": [
      "268 nodes created.\n",
      "355 edges created.\n",
      "done. Topogram has been updated. Check it at http://localhost:3000/topograms/KGaeboJ2ixhquHr8q\n",
      "155 181\n",
      "Creating topogram 'Noir/BETA_0.9  \n",
      "Distance totale parcourue par l'artiste: 435807.601458 km  \n",
      "Distance calculee par Concorde: 319675.814625 km  \n",
      "Pourcentage d'optimisation global calcule:26.6474899577 %  \n",
      "MARGE D'OPTIMISATION IMPORTANTE  \n",
      "PLAYED AT GZ'\n",
      "> Topogram already exists\n",
      "{u'status': u'success', 'status_code': 200, u'data': {u'sharedPublic': False, u'title': u\"Noir/BETA_0.9  \\nDistance totale parcourue par l'artiste: 435807.601458 km  \\nDistance calculee par Concorde: 319675.814625 km  \\nPourcentage d'optimisation global calcule:26.6474899577 %  \\nMARGE D'OPTIMISATION IMPORTANTE  \\nPLAYED AT GZ\", u'userId': u'Bf5svhLniEkkcvts2', u'_id': u'NbapwdRRStxAeqmNa', u'slug': u'noirbeta_09-distance-totale-parcourue-par-lartiste-435807601458-km-distance-calculee-par-concorde-319675814625-km-pourcentage-doptimisation-global-calcule266474899577-marge-doptimisation-importante-played-at-gz', u'createdAt': u'2019-09-30T15:59:16.723Z'}, u'statusCode': 200}\n",
      "topogram ID : NbapwdRRStxAeqmNa\n",
      "155 nodes deleted\n",
      "181 edges deleted\n"
     ]
    },
    {
     "name": "stderr",
     "output_type": "stream",
     "text": [
      "ERROR:topogram-client:500 - Error : A topogram with the same name already exists\n"
     ]
    },
    {
     "name": "stdout",
     "output_type": "stream",
     "text": [
      "155 nodes created.\n",
      "181 edges created.\n",
      "done. Topogram has been updated. Check it at http://localhost:3000/topograms/NbapwdRRStxAeqmNa\n",
      "122 140\n",
      "Creating topogram 'Purling Hiss/BETA_0.9  \n",
      "Distance totale parcourue par l'artiste: 109018.240854 km  \n",
      "Distance calculee par Concorde: 99309.5425766 km  \n",
      "Pourcentage d'optimisation global calcule:8.90557231629 %  \n",
      "GLOBALEMENT IDENTIQUE  \n",
      "PLAYED AT GZ'\n",
      "> Topogram already exists\n",
      "{u'status': u'success', 'status_code': 200, u'data': {u'sharedPublic': False, u'title': u\"Purling Hiss/BETA_0.9  \\nDistance totale parcourue par l'artiste: 109018.240854 km  \\nDistance calculee par Concorde: 99309.5425766 km  \\nPourcentage d'optimisation global calcule:8.90557231629 %  \\nGLOBALEMENT IDENTIQUE  \\nPLAYED AT GZ\", u'userId': u'Bf5svhLniEkkcvts2', u'_id': u'KcErs37EWrhCheKRC', u'slug': u'purling-hissbeta_09-distance-totale-parcourue-par-lartiste-109018240854-km-distance-calculee-par-concorde-993095425766-km-pourcentage-doptimisation-global-calcule890557231629-globalement-identique-played-at-gz', u'createdAt': u'2019-09-30T15:59:17.677Z'}, u'statusCode': 200}\n",
      "topogram ID : KcErs37EWrhCheKRC\n",
      "122 nodes deleted\n",
      "140 edges deleted\n"
     ]
    },
    {
     "name": "stderr",
     "output_type": "stream",
     "text": [
      "ERROR:topogram-client:500 - Error : A topogram with the same name already exists\n"
     ]
    },
    {
     "name": "stdout",
     "output_type": "stream",
     "text": [
      "122 nodes created.\n",
      "140 edges created.\n",
      "done. Topogram has been updated. Check it at http://localhost:3000/topograms/KcErs37EWrhCheKRC\n",
      "155 162\n",
      "Creating topogram 'Cough/BETA_0.9  \n",
      "Distance totale parcourue par l'artiste: 118658.833525 km  \n",
      "Distance calculee par Concorde: 138448.818642 km  \n",
      "Pourcentage d'optimisation global calcule:-16.6780546622 %  \n",
      "TOURNEE DEJA OPTIMISEE  \n",
      "PLAYED AT GZ'\n",
      "> Topogram already exists\n",
      "{u'status': u'success', 'status_code': 200, u'data': {u'sharedPublic': False, u'title': u\"Cough/BETA_0.9  \\nDistance totale parcourue par l'artiste: 118658.833525 km  \\nDistance calculee par Concorde: 138448.818642 km  \\nPourcentage d'optimisation global calcule:-16.6780546622 %  \\nTOURNEE DEJA OPTIMISEE  \\nPLAYED AT GZ\", u'userId': u'Bf5svhLniEkkcvts2', u'_id': u'TNizzRrqksG2xkYh9', u'slug': u'coughbeta_09-distance-totale-parcourue-par-lartiste-118658833525-km-distance-calculee-par-concorde-138448818642-km-pourcentage-doptimisation-global-calcule-166780546622-tournee-deja-optimisee-played-at-gz', u'createdAt': u'2019-09-30T15:59:19.399Z'}, u'statusCode': 200}\n",
      "topogram ID : TNizzRrqksG2xkYh9\n",
      "155 nodes deleted\n",
      "162 edges deleted\n"
     ]
    },
    {
     "name": "stderr",
     "output_type": "stream",
     "text": [
      "ERROR:topogram-client:500 - Error : A topogram with the same name already exists\n"
     ]
    },
    {
     "name": "stdout",
     "output_type": "stream",
     "text": [
      "155 nodes created.\n",
      "162 edges created.\n",
      "done. Topogram has been updated. Check it at http://localhost:3000/topograms/TNizzRrqksG2xkYh9\n",
      "60 78\n",
      "Creating topogram 'Maserati/BETA_0.9  \n",
      "Distance totale parcourue par l'artiste: 61467.9250693 km  \n",
      "Distance calculee par Concorde: 61233.7441138 km  \n",
      "Pourcentage d'optimisation global calcule:0.380980739547 %  \n",
      "GLOBALEMENT IDENTIQUE  \n",
      "PLAYED AT GZ'\n",
      "> Topogram already exists\n",
      "{u'status': u'success', 'status_code': 200, u'data': {u'sharedPublic': False, u'title': u\"Maserati/BETA_0.9  \\nDistance totale parcourue par l'artiste: 61467.9250693 km  \\nDistance calculee par Concorde: 61233.7441138 km  \\nPourcentage d'optimisation global calcule:0.380980739547 %  \\nGLOBALEMENT IDENTIQUE  \\nPLAYED AT GZ\", u'userId': u'Bf5svhLniEkkcvts2', u'_id': u'ZvPyziv7CwRoNBxe8', u'slug': u'maseratibeta_09-distance-totale-parcourue-par-lartiste-614679250693-km-distance-calculee-par-concorde-612337441138-km-pourcentage-doptimisation-global-calcule0380980739547-globalement-identique-played-at-gz', u'createdAt': u'2019-09-30T15:59:19.988Z'}, u'statusCode': 200}\n",
      "topogram ID : ZvPyziv7CwRoNBxe8\n",
      "60 nodes deleted\n",
      "78 edges deleted\n"
     ]
    },
    {
     "name": "stderr",
     "output_type": "stream",
     "text": [
      "ERROR:topogram-client:500 - Error : A topogram with the same name already exists\n"
     ]
    },
    {
     "name": "stdout",
     "output_type": "stream",
     "text": [
      "60 nodes created.\n",
      "78 edges created.\n",
      "done. Topogram has been updated. Check it at http://localhost:3000/topograms/ZvPyziv7CwRoNBxe8\n",
      "182 285\n",
      "Creating topogram 'Cancelled/BETA_0.9  \n",
      "Distance totale parcourue par l'artiste: 940138.242309 km  \n",
      "Distance calculee par Concorde: 383717.259003 km  \n",
      "Pourcentage d'optimisation global calcule:59.1850175076 %  \n",
      "MARGE D'OPTIMISATION IMPORTANTE  \n",
      "PLAYED AT GZ'\n",
      "> Topogram already exists\n",
      "{u'status': u'success', 'status_code': 200, u'data': {u'sharedPublic': False, u'title': u\"Cancelled/BETA_0.9  \\nDistance totale parcourue par l'artiste: 940138.242309 km  \\nDistance calculee par Concorde: 383717.259003 km  \\nPourcentage d'optimisation global calcule:59.1850175076 %  \\nMARGE D'OPTIMISATION IMPORTANTE  \\nPLAYED AT GZ\", u'userId': u'Bf5svhLniEkkcvts2', u'_id': u'BppS9f8B2djKmxffw', u'slug': u'cancelledbeta_09-distance-totale-parcourue-par-lartiste-940138242309-km-distance-calculee-par-concorde-383717259003-km-pourcentage-doptimisation-global-calcule591850175076-marge-doptimisation-importante-played-at-gz', u'createdAt': u'2019-09-30T15:59:20.843Z'}, u'statusCode': 200}\n",
      "topogram ID : BppS9f8B2djKmxffw\n",
      "182 nodes deleted\n",
      "285 edges deleted\n"
     ]
    },
    {
     "name": "stderr",
     "output_type": "stream",
     "text": [
      "ERROR:topogram-client:500 - Error : A topogram with the same name already exists\n"
     ]
    },
    {
     "name": "stdout",
     "output_type": "stream",
     "text": [
      "182 nodes created.\n",
      "285 edges created.\n",
      "done. Topogram has been updated. Check it at http://localhost:3000/topograms/BppS9f8B2djKmxffw\n",
      "302 359\n",
      "Creating topogram 'Sleepy Sun/BETA_0.9  \n",
      "Distance totale parcourue par l'artiste: 205185.037481 km  \n",
      "Distance calculee par Concorde: 168812.623853 km  \n",
      "Pourcentage d'optimisation global calcule:17.7266403412 %  \n",
      "MARGE D'OPTIMISATION IMPORTANTE  \n",
      "PLAYED AT GZ'\n",
      "> Topogram already exists\n",
      "{u'status': u'success', 'status_code': 200, u'data': {u'sharedPublic': False, u'title': u\"Sleepy Sun/BETA_0.9  \\nDistance totale parcourue par l'artiste: 205185.037481 km  \\nDistance calculee par Concorde: 168812.623853 km  \\nPourcentage d'optimisation global calcule:17.7266403412 %  \\nMARGE D'OPTIMISATION IMPORTANTE  \\nPLAYED AT GZ\", u'userId': u'Bf5svhLniEkkcvts2', u'_id': u'xSQBvwgm34ov677LP', u'slug': u'sleepy-sunbeta_09-distance-totale-parcourue-par-lartiste-205185037481-km-distance-calculee-par-concorde-168812623853-km-pourcentage-doptimisation-global-calcule177266403412-marge-doptimisation-importante-played-at-gz', u'createdAt': u'2019-09-30T15:59:21.904Z'}, u'statusCode': 200}\n",
      "topogram ID : xSQBvwgm34ov677LP\n",
      "302 nodes deleted\n",
      "359 edges deleted\n",
      "302 nodes created.\n",
      "359 edges created.\n",
      "done. Topogram has been updated. Check it at http://localhost:3000/topograms/xSQBvwgm34ov677LP\n",
      "DONE\n"
     ]
    }
   ],
   "source": [
    "###IMPORT ALL THE BANDS GRAPHS\n",
    "\n",
    "nodestop=[]\n",
    "edgestop=[]\n",
    "tit=[]\n",
    "import glob, os\n",
    "\n",
    "print os.getcwd()\n",
    "\n",
    "for subdir, dirs, files in os.walk(savpath): \n",
    " for file in files:\n",
    "  if file.endswith('.obj') == True:\n",
    "    #print file\n",
    "    with open(os.path.join(subdir, file), 'rb') as handle:\n",
    "          temp= pickle.load( handle)\n",
    "    #print temp \n",
    "    tit=temp[0].encode(\"utf-8\")\n",
    "    edgestop=temp[2]\n",
    "    nodestop=temp[1]\n",
    "    if (len(nodestop)>50):\n",
    "\n",
    "      print len(nodestop),len(edgestop) \n",
    "      while True:\n",
    "        try:\n",
    "    #        print tit\n",
    "    \n",
    "            create_topogram(tit, nodestop, edgestop)\n",
    "            \n",
    "        except TypeError:\n",
    "            continue\n",
    "        \n",
    "        \n",
    "        break\n",
    "print 'DONE'"
   ]
  },
  {
   "cell_type": "code",
   "execution_count": 39,
   "metadata": {
    "scrolled": true
   },
   "outputs": [
    {
     "name": "stdout",
     "output_type": "stream",
     "text": [
      "/home/goonieb/gitrep/bandstour/5_visualizer/topogram-api-clientFOR_TOPO_FROM_BANDSTOUR\n",
      "Creating topogram 'Chris Cohen/BETA_0.9  \n",
      "Distance totale parcourue par l'artiste: 92407.5483559 km  \n",
      "Distance calculee par Concorde: 74292.8211586 km  \n",
      "Pourcentage d'optimisation global calcule:19.6030816959 %  \n",
      "MARGE D'OPTIMISATION IMPORTANTE  \n",
      "PLAYED AT GZ'\n"
     ]
    },
    {
     "name": "stderr",
     "output_type": "stream",
     "text": [
      "ERROR:topogram-client:500 - Error : A topogram with the same name already exists\n"
     ]
    },
    {
     "name": "stdout",
     "output_type": "stream",
     "text": [
      "> Topogram already exists\n",
      "{u'status': u'success', 'status_code': 200, u'data': {u'sharedPublic': False, u'title': u\"Chris Cohen/BETA_0.9  \\nDistance totale parcourue par l'artiste: 92407.5483559 km  \\nDistance calculee par Concorde: 74292.8211586 km  \\nPourcentage d'optimisation global calcule:19.6030816959 %  \\nMARGE D'OPTIMISATION IMPORTANTE  \\nPLAYED AT GZ\", u'userId': u'BgWEdXXGnvEq2Hodg', u'_id': u'LH8wceHDvSPSFLPYv', u'slug': u'chris-cohenbeta_09-distance-totale-parcourue-par-lartiste-924075483559-km-distance-calculee-par-concorde-742928211586-km-pourcentage-doptimisation-global-calcule196030816959-marge-doptimisation-importante-played-at-gz', u'createdAt': u'2019-09-30T17:59:33.150Z'}, u'statusCode': 200}\n",
      "topogram ID : LH8wceHDvSPSFLPYv\n",
      "123 nodes deleted\n",
      "130 edges deleted\n",
      "Creating topogram 'Ar Ker/BETA_0.9  \n",
      "Distance totale parcourue par l'artiste: 0 km  \n",
      "Distance calculee par Concorde: 0 km  \n",
      "PLAYED AT GZ'\n"
     ]
    },
    {
     "name": "stderr",
     "output_type": "stream",
     "text": [
      "ERROR:topogram-client:500 - Error : A topogram with the same name already exists\n"
     ]
    },
    {
     "name": "stdout",
     "output_type": "stream",
     "text": [
      "> Topogram already exists\n",
      "{u'status': u'success', 'status_code': 200, u'data': {u'sharedPublic': False, u'title': u\"Ar Ker/BETA_0.9  \\nDistance totale parcourue par l'artiste: 0 km  \\nDistance calculee par Concorde: 0 km  \\nPLAYED AT GZ\", u'userId': u'BgWEdXXGnvEq2Hodg', u'_id': u'skNcYcTJBpFNG45sL', u'slug': u'ar-kerbeta_09-distance-totale-parcourue-par-lartiste-0-km-distance-calculee-par-concorde-0-km-played-at-gz', u'createdAt': u'2019-09-30T18:00:09.448Z'}, u'statusCode': 200}\n",
      "topogram ID : skNcYcTJBpFNG45sL\n",
      "1 nodes deleted\n",
      "1 nodes created.\n",
      "Creating topogram 'François Virot/BETA_0.9  \n",
      "Distance totale parcourue par l'artiste: 543.878136546 km  \n",
      "Distance calculee par Concorde: 543.878136546 km  \n",
      "Pourcentage d'optimisation global calcule:0.0 %  \n",
      "GLOBALEMENT IDENTIQUE  \n",
      "PLAYED AT GZ'\n"
     ]
    },
    {
     "name": "stderr",
     "output_type": "stream",
     "text": [
      "ERROR:topogram-client:500 - Error : A topogram with the same name already exists\n"
     ]
    },
    {
     "name": "stdout",
     "output_type": "stream",
     "text": [
      "> Topogram already exists\n",
      "{u'status': u'success', 'status_code': 200, u'data': {u'sharedPublic': False, u'title': u\"Fran\\xe7ois Virot/BETA_0.9  \\nDistance totale parcourue par l'artiste: 543.878136546 km  \\nDistance calculee par Concorde: 543.878136546 km  \\nPourcentage d'optimisation global calcule:0.0 %  \\nGLOBALEMENT IDENTIQUE  \\nPLAYED AT GZ\", u'userId': u'BgWEdXXGnvEq2Hodg', u'_id': u'Xwxfzokwk8pre4yPY', u'slug': u'franois-virotbeta_09-distance-totale-parcourue-par-lartiste-543878136546-km-distance-calculee-par-concorde-543878136546-km-pourcentage-doptimisation-global-calcule00-globalement-identique-played-at-gz', u'createdAt': u'2019-09-30T18:00:16.832Z'}, u'statusCode': 200}\n",
      "topogram ID : Xwxfzokwk8pre4yPY\n",
      "3 nodes deleted\n",
      "2 edges deleted\n",
      "3 nodes created.\n",
      "2 edges created.\n",
      "done. Topogram has been updated. Check it at https://bandstour.topogram.io/topograms/Xwxfzokwk8pre4yPY\n",
      "Creating topogram 'Bob Log III/BETA_0.9  \n",
      "Distance totale parcourue par l'artiste: 348975.202372 km  \n",
      "Distance calculee par Concorde: 369088.323832 km  \n",
      "Pourcentage d'optimisation global calcule:-5.76348156642 %  \n",
      "GLOBALEMENT IDENTIQUE  \n",
      "PLAYED AT GZ'\n"
     ]
    },
    {
     "name": "stderr",
     "output_type": "stream",
     "text": [
      "ERROR:topogram-client:500 - Error : A topogram with the same name already exists\n"
     ]
    },
    {
     "name": "stdout",
     "output_type": "stream",
     "text": [
      "> Topogram already exists\n",
      "{u'status': u'success', 'status_code': 200, u'data': {u'sharedPublic': False, u'title': u\"Bob Log III/BETA_0.9  \\nDistance totale parcourue par l'artiste: 348975.202372 km  \\nDistance calculee par Concorde: 369088.323832 km  \\nPourcentage d'optimisation global calcule:-5.76348156642 %  \\nGLOBALEMENT IDENTIQUE  \\nPLAYED AT GZ\", u'userId': u'BgWEdXXGnvEq2Hodg', u'_id': u'iQbxhAMwwSNNyutwg', u'slug': u'bob-log-iiibeta_09-distance-totale-parcourue-par-lartiste-348975202372-km-distance-calculee-par-concorde-369088323832-km-pourcentage-doptimisation-global-calcule-576348156642-globalement-identique-played-at-gz', u'createdAt': u'2019-09-30T18:00:21.482Z'}, u'statusCode': 200}\n",
      "topogram ID : iQbxhAMwwSNNyutwg\n",
      "357 nodes deleted\n",
      "442 edges deleted\n",
      "Creating topogram 'Table/BETA_0.9  \n",
      "Distance totale parcourue par l'artiste: 0 km  \n",
      "Distance calculee par Concorde: 0 km  \n",
      "PLAYED AT GZ'\n"
     ]
    },
    {
     "name": "stderr",
     "output_type": "stream",
     "text": [
      "ERROR:topogram-client:500 - Error : A topogram with the same name already exists\n"
     ]
    },
    {
     "name": "stdout",
     "output_type": "stream",
     "text": [
      "> Topogram already exists\n",
      "{u'status': u'success', 'status_code': 200, u'data': {u'sharedPublic': False, u'title': u\"Table/BETA_0.9  \\nDistance totale parcourue par l'artiste: 0 km  \\nDistance calculee par Concorde: 0 km  \\nPLAYED AT GZ\", u'userId': u'BgWEdXXGnvEq2Hodg', u'_id': u'NjEGTmPiQGpqZ4YF3', u'slug': u'tablebeta_09-distance-totale-parcourue-par-lartiste-0-km-distance-calculee-par-concorde-0-km-played-at-gz', u'createdAt': u'2019-09-30T18:02:21.531Z'}, u'statusCode': 200}\n",
      "topogram ID : NjEGTmPiQGpqZ4YF3\n",
      "Creating topogram 'Ut/BETA_0.9  \n",
      "Distance totale parcourue par l'artiste: 713.351200577 km  \n",
      "Distance calculee par Concorde: 713.351200577 km  \n",
      "Pourcentage d'optimisation global calcule:0.0 %  \n",
      "GLOBALEMENT IDENTIQUE  \n",
      "PLAYED AT GZ'\n"
     ]
    },
    {
     "name": "stderr",
     "output_type": "stream",
     "text": [
      "ERROR:topogram-client:500 - Error : A topogram with the same name already exists\n"
     ]
    },
    {
     "name": "stdout",
     "output_type": "stream",
     "text": [
      "> Topogram already exists\n",
      "{u'status': u'success', 'status_code': 200, u'data': {u'sharedPublic': False, u'title': u\"Ut/BETA_0.9  \\nDistance totale parcourue par l'artiste: 713.351200577 km  \\nDistance calculee par Concorde: 713.351200577 km  \\nPourcentage d'optimisation global calcule:0.0 %  \\nGLOBALEMENT IDENTIQUE  \\nPLAYED AT GZ\", u'userId': u'BgWEdXXGnvEq2Hodg', u'_id': u'DEXPchmLWqFFhAoJQ', u'slug': u'utbeta_09-distance-totale-parcourue-par-lartiste-713351200577-km-distance-calculee-par-concorde-713351200577-km-pourcentage-doptimisation-global-calcule00-globalement-identique-played-at-gz', u'createdAt': u'2019-09-30T18:02:25.724Z'}, u'statusCode': 200}\n",
      "topogram ID : DEXPchmLWqFFhAoJQ\n",
      "7 nodes deleted\n",
      "7 edges deleted\n",
      "7 nodes created.\n",
      "7 edges created.\n",
      "done. Topogram has been updated. Check it at https://bandstour.topogram.io/topograms/DEXPchmLWqFFhAoJQ\n",
      "Creating topogram 'The Bats/BETA_0.9  \n",
      "Distance totale parcourue par l'artiste: 30515.6657712 km  \n",
      "Distance calculee par Concorde: 46731.3619169 km  \n",
      "Pourcentage d'optimisation global calcule:-53.138923028 %  \n",
      "TOURNEE DEJA OPTIMISEE  \n",
      "PLAYED AT GZ'\n"
     ]
    },
    {
     "name": "stderr",
     "output_type": "stream",
     "text": [
      "ERROR:topogram-client:500 - Error : A topogram with the same name already exists\n"
     ]
    },
    {
     "name": "stdout",
     "output_type": "stream",
     "text": [
      "> Topogram already exists\n",
      "{u'status': u'success', 'status_code': 200, u'data': {u'sharedPublic': False, u'title': u\"The Bats/BETA_0.9  \\nDistance totale parcourue par l'artiste: 30515.6657712 km  \\nDistance calculee par Concorde: 46731.3619169 km  \\nPourcentage d'optimisation global calcule:-53.138923028 %  \\nTOURNEE DEJA OPTIMISEE  \\nPLAYED AT GZ\", u'userId': u'BgWEdXXGnvEq2Hodg', u'_id': u'zEPyb2ZWnX5oLaAPs', u'slug': u'the-batsbeta_09-distance-totale-parcourue-par-lartiste-305156657712-km-distance-calculee-par-concorde-467313619169-km-pourcentage-doptimisation-global-calcule-53138923028-tournee-deja-optimisee-played-at-gz', u'createdAt': u'2019-09-30T18:02:33.342Z'}, u'statusCode': 200}\n",
      "topogram ID : zEPyb2ZWnX5oLaAPs\n",
      "20 nodes deleted\n",
      "19 edges deleted\n",
      "20 nodes created.\n",
      "19 edges created.\n",
      "done. Topogram has been updated. Check it at https://bandstour.topogram.io/topograms/zEPyb2ZWnX5oLaAPs\n",
      "Creating topogram 'Black Cobra/BETA_0.9  \n",
      "Distance totale parcourue par l'artiste: 8591.60363052 km  \n",
      "Distance calculee par Concorde: 7920.93123139 km  \n",
      "Pourcentage d'optimisation global calcule:7.80613757309 %  \n",
      "GLOBALEMENT IDENTIQUE  \n",
      "PLAYED AT GZ'\n"
     ]
    },
    {
     "name": "stderr",
     "output_type": "stream",
     "text": [
      "ERROR:topogram-client:500 - Error : A topogram with the same name already exists\n"
     ]
    },
    {
     "name": "stdout",
     "output_type": "stream",
     "text": [
      "> Topogram already exists\n",
      "{u'status': u'success', 'status_code': 200, u'data': {u'sharedPublic': False, u'title': u\"Black Cobra/BETA_0.9  \\nDistance totale parcourue par l'artiste: 8591.60363052 km  \\nDistance calculee par Concorde: 7920.93123139 km  \\nPourcentage d'optimisation global calcule:7.80613757309 %  \\nGLOBALEMENT IDENTIQUE  \\nPLAYED AT GZ\", u'userId': u'BgWEdXXGnvEq2Hodg', u'_id': u'AQFPNdBbHiaReRapB', u'slug': u'black-cobrabeta_09-distance-totale-parcourue-par-lartiste-859160363052-km-distance-calculee-par-concorde-792093123139-km-pourcentage-doptimisation-global-calcule780613757309-globalement-identique-played-at-gz', u'createdAt': u'2019-09-30T18:02:43.617Z'}, u'statusCode': 200}\n",
      "topogram ID : AQFPNdBbHiaReRapB\n",
      "16 nodes deleted\n",
      "15 edges deleted\n",
      "16 nodes created.\n",
      "15 edges created.\n",
      "done. Topogram has been updated. Check it at https://bandstour.topogram.io/topograms/AQFPNdBbHiaReRapB\n",
      "Creating topogram 'SNEAKS/BETA_0.9  \n",
      "Distance totale parcourue par l'artiste: 9893.91610639 km  \n",
      "Distance calculee par Concorde: 7535.02061277 km  \n",
      "Pourcentage d'optimisation global calcule:23.8418788704 %  \n",
      "MARGE D'OPTIMISATION IMPORTANTE  \n",
      "PLAYED AT GZ'\n"
     ]
    },
    {
     "name": "stderr",
     "output_type": "stream",
     "text": [
      "ERROR:topogram-client:500 - Error : A topogram with the same name already exists\n"
     ]
    },
    {
     "name": "stdout",
     "output_type": "stream",
     "text": [
      "> Topogram already exists\n",
      "{u'status': u'success', 'status_code': 200, u'data': {u'sharedPublic': False, u'title': u\"SNEAKS/BETA_0.9  \\nDistance totale parcourue par l'artiste: 9893.91610639 km  \\nDistance calculee par Concorde: 7535.02061277 km  \\nPourcentage d'optimisation global calcule:23.8418788704 %  \\nMARGE D'OPTIMISATION IMPORTANTE  \\nPLAYED AT GZ\", u'userId': u'BgWEdXXGnvEq2Hodg', u'_id': u'Zv82LgSBZjtCwJSHE', u'slug': u'sneaksbeta_09-distance-totale-parcourue-par-lartiste-989391610639-km-distance-calculee-par-concorde-753502061277-km-pourcentage-doptimisation-global-calcule238418788704-marge-doptimisation-importante-played-at-gz', u'createdAt': u'2019-09-30T18:02:52.507Z'}, u'statusCode': 200}\n",
      "topogram ID : Zv82LgSBZjtCwJSHE\n",
      "21 nodes deleted\n",
      "20 edges deleted\n",
      "21 nodes created.\n",
      "20 edges created.\n",
      "done. Topogram has been updated. Check it at https://bandstour.topogram.io/topograms/Zv82LgSBZjtCwJSHE\n",
      "Creating topogram 'Zu/BETA_0.9  \n",
      "Distance totale parcourue par l'artiste: 31387.8361394 km  \n",
      "Distance calculee par Concorde: 27474.8247027 km  \n",
      "Pourcentage d'optimisation global calcule:12.4666492438 %  \n",
      "MARGE D'OPTIMISATION IMPORTANTE  \n",
      "PLAYED AT GZ'\n"
     ]
    },
    {
     "name": "stderr",
     "output_type": "stream",
     "text": [
      "ERROR:topogram-client:500 - Error : A topogram with the same name already exists\n"
     ]
    },
    {
     "name": "stdout",
     "output_type": "stream",
     "text": [
      "> Topogram already exists\n",
      "{u'status': u'success', 'status_code': 200, u'data': {u'sharedPublic': False, u'title': u\"Zu/BETA_0.9  \\nDistance totale parcourue par l'artiste: 31387.8361394 km  \\nDistance calculee par Concorde: 27474.8247027 km  \\nPourcentage d'optimisation global calcule:12.4666492438 %  \\nMARGE D'OPTIMISATION IMPORTANTE  \\nPLAYED AT GZ\", u'userId': u'BgWEdXXGnvEq2Hodg', u'_id': u'by73XN8AsePHEGqkB', u'slug': u'zubeta_09-distance-totale-parcourue-par-lartiste-313878361394-km-distance-calculee-par-concorde-274748247027-km-pourcentage-doptimisation-global-calcule124666492438-marge-doptimisation-importante-played-at-gz', u'createdAt': u'2019-09-30T18:03:05.231Z'}, u'statusCode': 200}\n",
      "topogram ID : by73XN8AsePHEGqkB\n",
      "89 nodes deleted\n",
      "95 edges deleted\n"
     ]
    },
    {
     "ename": "ConnectionError",
     "evalue": "('Connection aborted.', BadStatusLine('No status line received - the server has closed the connection',))",
     "output_type": "error",
     "traceback": [
      "\u001b[0;31m---------------------------------------------------------------------------\u001b[0m",
      "\u001b[0;31mConnectionError\u001b[0m                           Traceback (most recent call last)",
      "\u001b[0;32m<ipython-input-39-a80911bcd4dc>\u001b[0m in \u001b[0;36m<module>\u001b[0;34m()\u001b[0m\n\u001b[1;32m     25\u001b[0m     \u001b[0;31m#        print tit\u001b[0m\u001b[0;34m\u001b[0m\u001b[0;34m\u001b[0m\u001b[0m\n\u001b[1;32m     26\u001b[0m \u001b[0;34m\u001b[0m\u001b[0m\n\u001b[0;32m---> 27\u001b[0;31m             \u001b[0mcreate_topogram\u001b[0m\u001b[0;34m(\u001b[0m\u001b[0mtit\u001b[0m\u001b[0;34m,\u001b[0m \u001b[0mnodestop\u001b[0m\u001b[0;34m,\u001b[0m \u001b[0medgestop\u001b[0m\u001b[0;34m)\u001b[0m\u001b[0;34m\u001b[0m\u001b[0m\n\u001b[0m\u001b[1;32m     28\u001b[0m \u001b[0;34m\u001b[0m\u001b[0m\n\u001b[1;32m     29\u001b[0m         \u001b[0;32mexcept\u001b[0m \u001b[0mTypeError\u001b[0m\u001b[0;34m:\u001b[0m\u001b[0;34m\u001b[0m\u001b[0m\n",
      "\u001b[0;32m<ipython-input-33-09bf76edf12d>\u001b[0m in \u001b[0;36mcreate_topogram\u001b[0;34m(title, nodes, edges)\u001b[0m\n\u001b[1;32m     24\u001b[0m         \u001b[0;32mprint\u001b[0m \u001b[0;34m\"%s edges deleted\"\u001b[0m\u001b[0;34m%\u001b[0m\u001b[0mlen\u001b[0m\u001b[0;34m(\u001b[0m\u001b[0mexisting_edges\u001b[0m\u001b[0;34m)\u001b[0m\u001b[0;34m\u001b[0m\u001b[0m\n\u001b[1;32m     25\u001b[0m \u001b[0;34m\u001b[0m\u001b[0m\n\u001b[0;32m---> 26\u001b[0;31m     \u001b[0mr\u001b[0m \u001b[0;34m=\u001b[0m \u001b[0mtopogram\u001b[0m\u001b[0;34m.\u001b[0m\u001b[0mcreate_nodes\u001b[0m\u001b[0;34m(\u001b[0m\u001b[0mtopogram_ID\u001b[0m\u001b[0;34m,\u001b[0m \u001b[0mnodes\u001b[0m\u001b[0;34m)\u001b[0m\u001b[0;34m\u001b[0m\u001b[0m\n\u001b[0m\u001b[1;32m     27\u001b[0m     \u001b[0;31m#print r\u001b[0m\u001b[0;34m\u001b[0m\u001b[0;34m\u001b[0m\u001b[0m\n\u001b[1;32m     28\u001b[0m     \u001b[0;32mprint\u001b[0m \u001b[0;34m\"%s nodes created.\"\u001b[0m\u001b[0;34m%\u001b[0m\u001b[0mlen\u001b[0m\u001b[0;34m(\u001b[0m\u001b[0mr\u001b[0m\u001b[0;34m[\u001b[0m\u001b[0;34m\"data\"\u001b[0m\u001b[0;34m]\u001b[0m\u001b[0;34m)\u001b[0m\u001b[0;34m\u001b[0m\u001b[0m\n",
      "\u001b[0;32m/home/goonieb/gitrep/bandstour/venv/lib/python2.7/site-packages/topogram_api_client-1.0.1-py2.7.egg/topogram_client/__init__.pyc\u001b[0m in \u001b[0;36mcreate_nodes\u001b[0;34m(self, topogramId, nodes)\u001b[0m\n\u001b[1;32m    146\u001b[0m         \u001b[0;34m\"\"\"POST Create a bunch of nodes. Returns the created nodes\"\"\"\u001b[0m\u001b[0;34m\u001b[0m\u001b[0m\n\u001b[1;32m    147\u001b[0m         \u001b[0;32massert\u001b[0m \u001b[0mtype\u001b[0m\u001b[0;34m(\u001b[0m\u001b[0mnodes\u001b[0m\u001b[0;34m)\u001b[0m \u001b[0;32mis\u001b[0m \u001b[0mlist\u001b[0m\u001b[0;34m\u001b[0m\u001b[0m\n\u001b[0;32m--> 148\u001b[0;31m         \u001b[0;32mreturn\u001b[0m \u001b[0mself\u001b[0m\u001b[0;34m.\u001b[0m\u001b[0mmake_request\u001b[0m\u001b[0;34m(\u001b[0m\u001b[0;34m\"POST\"\u001b[0m\u001b[0;34m,\u001b[0m \u001b[0;34m\"nodes\"\u001b[0m\u001b[0;34m,\u001b[0m \u001b[0;34m{\u001b[0m \u001b[0;34m\"topogramId\"\u001b[0m \u001b[0;34m:\u001b[0m \u001b[0mtopogramId\u001b[0m\u001b[0;34m,\u001b[0m \u001b[0;34m\"nodes\"\u001b[0m \u001b[0;34m:\u001b[0m \u001b[0mnodes\u001b[0m\u001b[0;34m}\u001b[0m\u001b[0;34m)\u001b[0m\u001b[0;34m\u001b[0m\u001b[0m\n\u001b[0m\u001b[1;32m    149\u001b[0m \u001b[0;34m\u001b[0m\u001b[0m\n\u001b[1;32m    150\u001b[0m     \u001b[0;32mdef\u001b[0m \u001b[0mget_node\u001b[0m\u001b[0;34m(\u001b[0m\u001b[0mself\u001b[0m\u001b[0;34m,\u001b[0m \u001b[0m_id\u001b[0m\u001b[0;34m)\u001b[0m\u001b[0;34m:\u001b[0m\u001b[0;34m\u001b[0m\u001b[0m\n",
      "\u001b[0;32m/home/goonieb/gitrep/bandstour/venv/lib/python2.7/site-packages/topogram_api_client-1.0.1-py2.7.egg/topogram_client/__init__.pyc\u001b[0m in \u001b[0;36mmake_request\u001b[0;34m(self, method, path, data)\u001b[0m\n\u001b[1;32m     42\u001b[0m \u001b[0;34m\u001b[0m\u001b[0m\n\u001b[1;32m     43\u001b[0m         \u001b[0;32mif\u001b[0m \u001b[0mmethod\u001b[0m \u001b[0;34m==\u001b[0m \u001b[0;34m\"POST\"\u001b[0m\u001b[0;34m:\u001b[0m\u001b[0;34m\u001b[0m\u001b[0m\n\u001b[0;32m---> 44\u001b[0;31m             \u001b[0mr\u001b[0m \u001b[0;34m=\u001b[0m \u001b[0mself\u001b[0m\u001b[0;34m.\u001b[0m\u001b[0msession\u001b[0m\u001b[0;34m.\u001b[0m\u001b[0mpost\u001b[0m\u001b[0;34m(\u001b[0m\u001b[0mreq_url\u001b[0m\u001b[0;34m,\u001b[0m \u001b[0mjson\u001b[0m\u001b[0;34m=\u001b[0m\u001b[0mdata\u001b[0m\u001b[0;34m)\u001b[0m\u001b[0;34m\u001b[0m\u001b[0m\n\u001b[0m\u001b[1;32m     45\u001b[0m         \u001b[0;32melif\u001b[0m \u001b[0mmethod\u001b[0m \u001b[0;34m==\u001b[0m \u001b[0;34m\"DELETE\"\u001b[0m\u001b[0;34m:\u001b[0m\u001b[0;34m\u001b[0m\u001b[0m\n\u001b[1;32m     46\u001b[0m             \u001b[0mr\u001b[0m \u001b[0;34m=\u001b[0m \u001b[0mself\u001b[0m\u001b[0;34m.\u001b[0m\u001b[0msession\u001b[0m\u001b[0;34m.\u001b[0m\u001b[0mdelete\u001b[0m\u001b[0;34m(\u001b[0m\u001b[0mreq_url\u001b[0m\u001b[0;34m,\u001b[0m \u001b[0mjson\u001b[0m\u001b[0;34m=\u001b[0m\u001b[0mdata\u001b[0m\u001b[0;34m)\u001b[0m\u001b[0;34m\u001b[0m\u001b[0m\n",
      "\u001b[0;32m/home/goonieb/gitrep/bandstour/venv/lib/python2.7/site-packages/requests/sessions.pyc\u001b[0m in \u001b[0;36mpost\u001b[0;34m(self, url, data, json, **kwargs)\u001b[0m\n\u001b[1;32m    579\u001b[0m         \"\"\"\n\u001b[1;32m    580\u001b[0m \u001b[0;34m\u001b[0m\u001b[0m\n\u001b[0;32m--> 581\u001b[0;31m         \u001b[0;32mreturn\u001b[0m \u001b[0mself\u001b[0m\u001b[0;34m.\u001b[0m\u001b[0mrequest\u001b[0m\u001b[0;34m(\u001b[0m\u001b[0;34m'POST'\u001b[0m\u001b[0;34m,\u001b[0m \u001b[0murl\u001b[0m\u001b[0;34m,\u001b[0m \u001b[0mdata\u001b[0m\u001b[0;34m=\u001b[0m\u001b[0mdata\u001b[0m\u001b[0;34m,\u001b[0m \u001b[0mjson\u001b[0m\u001b[0;34m=\u001b[0m\u001b[0mjson\u001b[0m\u001b[0;34m,\u001b[0m \u001b[0;34m**\u001b[0m\u001b[0mkwargs\u001b[0m\u001b[0;34m)\u001b[0m\u001b[0;34m\u001b[0m\u001b[0m\n\u001b[0m\u001b[1;32m    582\u001b[0m \u001b[0;34m\u001b[0m\u001b[0m\n\u001b[1;32m    583\u001b[0m     \u001b[0;32mdef\u001b[0m \u001b[0mput\u001b[0m\u001b[0;34m(\u001b[0m\u001b[0mself\u001b[0m\u001b[0;34m,\u001b[0m \u001b[0murl\u001b[0m\u001b[0;34m,\u001b[0m \u001b[0mdata\u001b[0m\u001b[0;34m=\u001b[0m\u001b[0mNone\u001b[0m\u001b[0;34m,\u001b[0m \u001b[0;34m**\u001b[0m\u001b[0mkwargs\u001b[0m\u001b[0;34m)\u001b[0m\u001b[0;34m:\u001b[0m\u001b[0;34m\u001b[0m\u001b[0m\n",
      "\u001b[0;32m/home/goonieb/gitrep/bandstour/venv/lib/python2.7/site-packages/requests/sessions.pyc\u001b[0m in \u001b[0;36mrequest\u001b[0;34m(self, method, url, params, data, headers, cookies, files, auth, timeout, allow_redirects, proxies, hooks, stream, verify, cert, json)\u001b[0m\n\u001b[1;32m    531\u001b[0m         }\n\u001b[1;32m    532\u001b[0m         \u001b[0msend_kwargs\u001b[0m\u001b[0;34m.\u001b[0m\u001b[0mupdate\u001b[0m\u001b[0;34m(\u001b[0m\u001b[0msettings\u001b[0m\u001b[0;34m)\u001b[0m\u001b[0;34m\u001b[0m\u001b[0m\n\u001b[0;32m--> 533\u001b[0;31m         \u001b[0mresp\u001b[0m \u001b[0;34m=\u001b[0m \u001b[0mself\u001b[0m\u001b[0;34m.\u001b[0m\u001b[0msend\u001b[0m\u001b[0;34m(\u001b[0m\u001b[0mprep\u001b[0m\u001b[0;34m,\u001b[0m \u001b[0;34m**\u001b[0m\u001b[0msend_kwargs\u001b[0m\u001b[0;34m)\u001b[0m\u001b[0;34m\u001b[0m\u001b[0m\n\u001b[0m\u001b[1;32m    534\u001b[0m \u001b[0;34m\u001b[0m\u001b[0m\n\u001b[1;32m    535\u001b[0m         \u001b[0;32mreturn\u001b[0m \u001b[0mresp\u001b[0m\u001b[0;34m\u001b[0m\u001b[0m\n",
      "\u001b[0;32m/home/goonieb/gitrep/bandstour/venv/lib/python2.7/site-packages/requests/sessions.pyc\u001b[0m in \u001b[0;36msend\u001b[0;34m(self, request, **kwargs)\u001b[0m\n\u001b[1;32m    644\u001b[0m \u001b[0;34m\u001b[0m\u001b[0m\n\u001b[1;32m    645\u001b[0m         \u001b[0;31m# Send the request\u001b[0m\u001b[0;34m\u001b[0m\u001b[0;34m\u001b[0m\u001b[0m\n\u001b[0;32m--> 646\u001b[0;31m         \u001b[0mr\u001b[0m \u001b[0;34m=\u001b[0m \u001b[0madapter\u001b[0m\u001b[0;34m.\u001b[0m\u001b[0msend\u001b[0m\u001b[0;34m(\u001b[0m\u001b[0mrequest\u001b[0m\u001b[0;34m,\u001b[0m \u001b[0;34m**\u001b[0m\u001b[0mkwargs\u001b[0m\u001b[0;34m)\u001b[0m\u001b[0;34m\u001b[0m\u001b[0m\n\u001b[0m\u001b[1;32m    647\u001b[0m \u001b[0;34m\u001b[0m\u001b[0m\n\u001b[1;32m    648\u001b[0m         \u001b[0;31m# Total elapsed time of the request (approximately)\u001b[0m\u001b[0;34m\u001b[0m\u001b[0;34m\u001b[0m\u001b[0m\n",
      "\u001b[0;32m/home/goonieb/gitrep/bandstour/venv/lib/python2.7/site-packages/requests/adapters.pyc\u001b[0m in \u001b[0;36msend\u001b[0;34m(self, request, stream, timeout, verify, cert, proxies)\u001b[0m\n\u001b[1;32m    496\u001b[0m \u001b[0;34m\u001b[0m\u001b[0m\n\u001b[1;32m    497\u001b[0m         \u001b[0;32mexcept\u001b[0m \u001b[0;34m(\u001b[0m\u001b[0mProtocolError\u001b[0m\u001b[0;34m,\u001b[0m \u001b[0msocket\u001b[0m\u001b[0;34m.\u001b[0m\u001b[0merror\u001b[0m\u001b[0;34m)\u001b[0m \u001b[0;32mas\u001b[0m \u001b[0merr\u001b[0m\u001b[0;34m:\u001b[0m\u001b[0;34m\u001b[0m\u001b[0m\n\u001b[0;32m--> 498\u001b[0;31m             \u001b[0;32mraise\u001b[0m \u001b[0mConnectionError\u001b[0m\u001b[0;34m(\u001b[0m\u001b[0merr\u001b[0m\u001b[0;34m,\u001b[0m \u001b[0mrequest\u001b[0m\u001b[0;34m=\u001b[0m\u001b[0mrequest\u001b[0m\u001b[0;34m)\u001b[0m\u001b[0;34m\u001b[0m\u001b[0m\n\u001b[0m\u001b[1;32m    499\u001b[0m \u001b[0;34m\u001b[0m\u001b[0m\n\u001b[1;32m    500\u001b[0m         \u001b[0;32mexcept\u001b[0m \u001b[0mMaxRetryError\u001b[0m \u001b[0;32mas\u001b[0m \u001b[0me\u001b[0m\u001b[0;34m:\u001b[0m\u001b[0;34m\u001b[0m\u001b[0m\n",
      "\u001b[0;31mConnectionError\u001b[0m: ('Connection aborted.', BadStatusLine('No status line received - the server has closed the connection',))"
     ]
    }
   ],
   "source": [
    "###IMPORT ALL THE BANDS GRAPHS\n",
    "\n",
    "nodestop=[]\n",
    "edgestop=[]\n",
    "tit=[]\n",
    "import glob, os\n",
    "\n",
    "print os.getcwd()\n",
    "\n",
    "for subdir, dirs, files in os.walk(savpath): \n",
    " for file in files:\n",
    "  if file.endswith('.obj') == True:\n",
    "    #print file\n",
    "    with open(os.path.join(subdir, file), 'rb') as handle:\n",
    "          temp= pickle.load( handle)\n",
    "    #print temp \n",
    "    tit=temp[0].encode(\"utf-8\")\n",
    "    edgestop=temp[2]\n",
    "    nodestop=temp[1]\n",
    "    #print edgestop\n",
    "    #for edge in edgestop:\n",
    "    #    assert edge[\"data\n",
    "    while True:\n",
    "        try:\n",
    "    #        print tit\n",
    "    \n",
    "            create_topogram(tit, nodestop, edgestop)\n",
    "            \n",
    "        except TypeError:\n",
    "            continue\n",
    "        except ValueError:\n",
    "            pass\n",
    "        \n",
    "        break\n",
    "print 'DONE'\n",
    "        "
   ]
  },
  {
   "cell_type": "code",
   "execution_count": 50,
   "metadata": {
    "scrolled": true
   },
   "outputs": [
    {
     "name": "stderr",
     "output_type": "stream",
     "text": [
      "ERROR:topogram-client:500 - Error : A topogram with the same name already exists\n",
      "IOPub data rate exceeded.\n",
      "The notebook server will temporarily stop sending output\n",
      "to the client in order to avoid crashing it.\n",
      "To change this limit, set the config variable\n",
      "`--NotebookApp.iopub_data_rate_limit`.\n"
     ]
    },
    {
     "name": "stdout",
     "output_type": "stream",
     "text": [
      "5000 nodes deleted\n",
      "5000 nodes created.\n"
     ]
    },
    {
     "ename": "ValueError",
     "evalue": "No JSON object could be decoded",
     "output_type": "error",
     "traceback": [
      "\u001b[0;31m---------------------------------------------------------------------------\u001b[0m",
      "\u001b[0;31mValueError\u001b[0m                                Traceback (most recent call last)",
      "\u001b[0;32m<ipython-input-50-19a8f878a201>\u001b[0m in \u001b[0;36m<module>\u001b[0;34m()\u001b[0m\n\u001b[1;32m     22\u001b[0m         \u001b[0;32mtry\u001b[0m\u001b[0;34m:\u001b[0m\u001b[0;34m\u001b[0m\u001b[0m\n\u001b[1;32m     23\u001b[0m             \u001b[0;32mprint\u001b[0m \u001b[0mnodestopo\u001b[0m\u001b[0;34m\u001b[0m\u001b[0m\n\u001b[0;32m---> 24\u001b[0;31m             \u001b[0mcreate_topogram\u001b[0m\u001b[0;34m(\u001b[0m\u001b[0mtitle\u001b[0m\u001b[0;34m,\u001b[0m \u001b[0mnodestopo\u001b[0m\u001b[0;34m,\u001b[0m \u001b[0medgestopo\u001b[0m\u001b[0;34m)\u001b[0m\u001b[0;34m\u001b[0m\u001b[0m\n\u001b[0m\u001b[1;32m     25\u001b[0m \u001b[0;34m\u001b[0m\u001b[0m\n\u001b[1;32m     26\u001b[0m         \u001b[0;32mexcept\u001b[0m \u001b[0mTypeError\u001b[0m\u001b[0;34m:\u001b[0m\u001b[0;34m\u001b[0m\u001b[0m\n",
      "\u001b[0;32m<ipython-input-3-2d6e9028f27d>\u001b[0m in \u001b[0;36mcreate_topogram\u001b[0;34m(title, nodes, edges)\u001b[0m\n\u001b[1;32m     27\u001b[0m     \u001b[0;31m#print r\u001b[0m\u001b[0;34m\u001b[0m\u001b[0;34m\u001b[0m\u001b[0m\n\u001b[1;32m     28\u001b[0m     \u001b[0;32mprint\u001b[0m \u001b[0;34m\"%s nodes created.\"\u001b[0m\u001b[0;34m%\u001b[0m\u001b[0mlen\u001b[0m\u001b[0;34m(\u001b[0m\u001b[0mr\u001b[0m\u001b[0;34m[\u001b[0m\u001b[0;34m\"data\"\u001b[0m\u001b[0;34m]\u001b[0m\u001b[0;34m)\u001b[0m\u001b[0;34m\u001b[0m\u001b[0m\n\u001b[0;32m---> 29\u001b[0;31m     \u001b[0mr\u001b[0m \u001b[0;34m=\u001b[0m \u001b[0mtopogram\u001b[0m\u001b[0;34m.\u001b[0m\u001b[0mcreate_edges\u001b[0m\u001b[0;34m(\u001b[0m\u001b[0mtopogram_ID\u001b[0m\u001b[0;34m,\u001b[0m \u001b[0medges\u001b[0m\u001b[0;34m)\u001b[0m\u001b[0;34m\u001b[0m\u001b[0m\n\u001b[0m\u001b[1;32m     30\u001b[0m     \u001b[0;32mprint\u001b[0m \u001b[0;34m\"%s edges created.\"\u001b[0m\u001b[0;34m%\u001b[0m\u001b[0mlen\u001b[0m\u001b[0;34m(\u001b[0m\u001b[0mr\u001b[0m\u001b[0;34m[\u001b[0m\u001b[0;34m\"data\"\u001b[0m\u001b[0;34m]\u001b[0m\u001b[0;34m)\u001b[0m\u001b[0;34m\u001b[0m\u001b[0m\n\u001b[1;32m     31\u001b[0m \u001b[0;34m\u001b[0m\u001b[0m\n",
      "\u001b[0;32m/home/goonieb/anaconda2/lib/python2.7/site-packages/topogram_client/__init__.pyc\u001b[0m in \u001b[0;36mcreate_edges\u001b[0;34m(self, topogramId, edges)\u001b[0m\n\u001b[1;32m    184\u001b[0m         \u001b[0;34m\"\"\"POST Create a bunch of edges. Returns the created edges\"\"\"\u001b[0m\u001b[0;34m\u001b[0m\u001b[0m\n\u001b[1;32m    185\u001b[0m         \u001b[0;32massert\u001b[0m \u001b[0mtype\u001b[0m\u001b[0;34m(\u001b[0m\u001b[0medges\u001b[0m\u001b[0;34m)\u001b[0m \u001b[0;32mis\u001b[0m \u001b[0mlist\u001b[0m\u001b[0;34m\u001b[0m\u001b[0m\n\u001b[0;32m--> 186\u001b[0;31m         \u001b[0;32mreturn\u001b[0m \u001b[0mself\u001b[0m\u001b[0;34m.\u001b[0m\u001b[0mmake_request\u001b[0m\u001b[0;34m(\u001b[0m\u001b[0;34m\"POST\"\u001b[0m\u001b[0;34m,\u001b[0m \u001b[0;34m\"edges\"\u001b[0m\u001b[0;34m,\u001b[0m \u001b[0;34m{\u001b[0m \u001b[0;34m\"topogramId\"\u001b[0m \u001b[0;34m:\u001b[0m \u001b[0mtopogramId\u001b[0m\u001b[0;34m,\u001b[0m \u001b[0;34m\"edges\"\u001b[0m \u001b[0;34m:\u001b[0m \u001b[0medges\u001b[0m\u001b[0;34m}\u001b[0m\u001b[0;34m)\u001b[0m\u001b[0;34m\u001b[0m\u001b[0m\n\u001b[0m\u001b[1;32m    187\u001b[0m \u001b[0;34m\u001b[0m\u001b[0m\n\u001b[1;32m    188\u001b[0m \u001b[0;34m\u001b[0m\u001b[0m\n",
      "\u001b[0;32m/home/goonieb/anaconda2/lib/python2.7/site-packages/topogram_client/__init__.pyc\u001b[0m in \u001b[0;36mmake_request\u001b[0;34m(self, method, path, data)\u001b[0m\n\u001b[1;32m     55\u001b[0m \u001b[0;34m\u001b[0m\u001b[0m\n\u001b[1;32m     56\u001b[0m         \u001b[0;32mif\u001b[0m \u001b[0mr\u001b[0m\u001b[0;34m.\u001b[0m\u001b[0mstatus_code\u001b[0m \u001b[0;34m>=\u001b[0m \u001b[0;36m500\u001b[0m \u001b[0;34m:\u001b[0m \u001b[0;31m# handle 403 error\u001b[0m\u001b[0;34m\u001b[0m\u001b[0m\n\u001b[0;32m---> 57\u001b[0;31m             \u001b[0merr\u001b[0m \u001b[0;34m=\u001b[0m \u001b[0;34m\"%s - Error : %s\"\u001b[0m\u001b[0;34m%\u001b[0m\u001b[0;34m(\u001b[0m\u001b[0mr\u001b[0m\u001b[0;34m.\u001b[0m\u001b[0mstatus_code\u001b[0m\u001b[0;34m,\u001b[0m \u001b[0mr\u001b[0m\u001b[0;34m.\u001b[0m\u001b[0mjson\u001b[0m\u001b[0;34m(\u001b[0m\u001b[0;34m)\u001b[0m\u001b[0;34m[\u001b[0m\u001b[0;34m\"message\"\u001b[0m\u001b[0;34m]\u001b[0m\u001b[0;34m)\u001b[0m\u001b[0;34m\u001b[0m\u001b[0m\n\u001b[0m\u001b[1;32m     58\u001b[0m             \u001b[0mlog\u001b[0m\u001b[0;34m.\u001b[0m\u001b[0merror\u001b[0m\u001b[0;34m(\u001b[0m\u001b[0merr\u001b[0m\u001b[0;34m)\u001b[0m\u001b[0;34m\u001b[0m\u001b[0m\n\u001b[1;32m     59\u001b[0m             \u001b[0;32mraise\u001b[0m \u001b[0mValueError\u001b[0m\u001b[0;34m(\u001b[0m\u001b[0merr\u001b[0m\u001b[0;34m)\u001b[0m\u001b[0;34m\u001b[0m\u001b[0m\n",
      "\u001b[0;32m/home/goonieb/anaconda2/lib/python2.7/site-packages/requests/models.pyc\u001b[0m in \u001b[0;36mjson\u001b[0;34m(self, **kwargs)\u001b[0m\n\u001b[1;32m    890\u001b[0m                     \u001b[0;31m# used.\u001b[0m\u001b[0;34m\u001b[0m\u001b[0;34m\u001b[0m\u001b[0m\n\u001b[1;32m    891\u001b[0m                     \u001b[0;32mpass\u001b[0m\u001b[0;34m\u001b[0m\u001b[0m\n\u001b[0;32m--> 892\u001b[0;31m         \u001b[0;32mreturn\u001b[0m \u001b[0mcomplexjson\u001b[0m\u001b[0;34m.\u001b[0m\u001b[0mloads\u001b[0m\u001b[0;34m(\u001b[0m\u001b[0mself\u001b[0m\u001b[0;34m.\u001b[0m\u001b[0mtext\u001b[0m\u001b[0;34m,\u001b[0m \u001b[0;34m**\u001b[0m\u001b[0mkwargs\u001b[0m\u001b[0;34m)\u001b[0m\u001b[0;34m\u001b[0m\u001b[0m\n\u001b[0m\u001b[1;32m    893\u001b[0m \u001b[0;34m\u001b[0m\u001b[0m\n\u001b[1;32m    894\u001b[0m     \u001b[0;34m@\u001b[0m\u001b[0mproperty\u001b[0m\u001b[0;34m\u001b[0m\u001b[0m\n",
      "\u001b[0;32m/home/goonieb/anaconda2/lib/python2.7/json/__init__.pyc\u001b[0m in \u001b[0;36mloads\u001b[0;34m(s, encoding, cls, object_hook, parse_float, parse_int, parse_constant, object_pairs_hook, **kw)\u001b[0m\n\u001b[1;32m    337\u001b[0m             \u001b[0mparse_int\u001b[0m \u001b[0;32mis\u001b[0m \u001b[0mNone\u001b[0m \u001b[0;32mand\u001b[0m \u001b[0mparse_float\u001b[0m \u001b[0;32mis\u001b[0m \u001b[0mNone\u001b[0m \u001b[0;32mand\u001b[0m\u001b[0;34m\u001b[0m\u001b[0m\n\u001b[1;32m    338\u001b[0m             parse_constant is None and object_pairs_hook is None and not kw):\n\u001b[0;32m--> 339\u001b[0;31m         \u001b[0;32mreturn\u001b[0m \u001b[0m_default_decoder\u001b[0m\u001b[0;34m.\u001b[0m\u001b[0mdecode\u001b[0m\u001b[0;34m(\u001b[0m\u001b[0ms\u001b[0m\u001b[0;34m)\u001b[0m\u001b[0;34m\u001b[0m\u001b[0m\n\u001b[0m\u001b[1;32m    340\u001b[0m     \u001b[0;32mif\u001b[0m \u001b[0mcls\u001b[0m \u001b[0;32mis\u001b[0m \u001b[0mNone\u001b[0m\u001b[0;34m:\u001b[0m\u001b[0;34m\u001b[0m\u001b[0m\n\u001b[1;32m    341\u001b[0m         \u001b[0mcls\u001b[0m \u001b[0;34m=\u001b[0m \u001b[0mJSONDecoder\u001b[0m\u001b[0;34m\u001b[0m\u001b[0m\n",
      "\u001b[0;32m/home/goonieb/anaconda2/lib/python2.7/json/decoder.pyc\u001b[0m in \u001b[0;36mdecode\u001b[0;34m(self, s, _w)\u001b[0m\n\u001b[1;32m    362\u001b[0m \u001b[0;34m\u001b[0m\u001b[0m\n\u001b[1;32m    363\u001b[0m         \"\"\"\n\u001b[0;32m--> 364\u001b[0;31m         \u001b[0mobj\u001b[0m\u001b[0;34m,\u001b[0m \u001b[0mend\u001b[0m \u001b[0;34m=\u001b[0m \u001b[0mself\u001b[0m\u001b[0;34m.\u001b[0m\u001b[0mraw_decode\u001b[0m\u001b[0;34m(\u001b[0m\u001b[0ms\u001b[0m\u001b[0;34m,\u001b[0m \u001b[0midx\u001b[0m\u001b[0;34m=\u001b[0m\u001b[0m_w\u001b[0m\u001b[0;34m(\u001b[0m\u001b[0ms\u001b[0m\u001b[0;34m,\u001b[0m \u001b[0;36m0\u001b[0m\u001b[0;34m)\u001b[0m\u001b[0;34m.\u001b[0m\u001b[0mend\u001b[0m\u001b[0;34m(\u001b[0m\u001b[0;34m)\u001b[0m\u001b[0;34m)\u001b[0m\u001b[0;34m\u001b[0m\u001b[0m\n\u001b[0m\u001b[1;32m    365\u001b[0m         \u001b[0mend\u001b[0m \u001b[0;34m=\u001b[0m \u001b[0m_w\u001b[0m\u001b[0;34m(\u001b[0m\u001b[0ms\u001b[0m\u001b[0;34m,\u001b[0m \u001b[0mend\u001b[0m\u001b[0;34m)\u001b[0m\u001b[0;34m.\u001b[0m\u001b[0mend\u001b[0m\u001b[0;34m(\u001b[0m\u001b[0;34m)\u001b[0m\u001b[0;34m\u001b[0m\u001b[0m\n\u001b[1;32m    366\u001b[0m         \u001b[0;32mif\u001b[0m \u001b[0mend\u001b[0m \u001b[0;34m!=\u001b[0m \u001b[0mlen\u001b[0m\u001b[0;34m(\u001b[0m\u001b[0ms\u001b[0m\u001b[0;34m)\u001b[0m\u001b[0;34m:\u001b[0m\u001b[0;34m\u001b[0m\u001b[0m\n",
      "\u001b[0;32m/home/goonieb/anaconda2/lib/python2.7/json/decoder.pyc\u001b[0m in \u001b[0;36mraw_decode\u001b[0;34m(self, s, idx)\u001b[0m\n\u001b[1;32m    380\u001b[0m             \u001b[0mobj\u001b[0m\u001b[0;34m,\u001b[0m \u001b[0mend\u001b[0m \u001b[0;34m=\u001b[0m \u001b[0mself\u001b[0m\u001b[0;34m.\u001b[0m\u001b[0mscan_once\u001b[0m\u001b[0;34m(\u001b[0m\u001b[0ms\u001b[0m\u001b[0;34m,\u001b[0m \u001b[0midx\u001b[0m\u001b[0;34m)\u001b[0m\u001b[0;34m\u001b[0m\u001b[0m\n\u001b[1;32m    381\u001b[0m         \u001b[0;32mexcept\u001b[0m \u001b[0mStopIteration\u001b[0m\u001b[0;34m:\u001b[0m\u001b[0;34m\u001b[0m\u001b[0m\n\u001b[0;32m--> 382\u001b[0;31m             \u001b[0;32mraise\u001b[0m \u001b[0mValueError\u001b[0m\u001b[0;34m(\u001b[0m\u001b[0;34m\"No JSON object could be decoded\"\u001b[0m\u001b[0;34m)\u001b[0m\u001b[0;34m\u001b[0m\u001b[0m\n\u001b[0m\u001b[1;32m    383\u001b[0m         \u001b[0;32mreturn\u001b[0m \u001b[0mobj\u001b[0m\u001b[0;34m,\u001b[0m \u001b[0mend\u001b[0m\u001b[0;34m\u001b[0m\u001b[0m\n",
      "\u001b[0;31mValueError\u001b[0m: No JSON object could be decoded"
     ]
    }
   ],
   "source": [
    "###IMPORT THE GLOBAL VENUE  GRAPH\n",
    "my_nodesdictList=[]\n",
    "nodestopo=[]\n",
    "edgestopo=[]\n",
    "with open(\"./my_nodesdictGLOBAL.obj\", 'rb') as handle:\n",
    "          my_nodesdictGLOBAL= pickle.load( handle)\n",
    "        \n",
    "for key, value in my_nodesdictGLOBAL.iteritems():\n",
    "            my_nodesdictGLOBAL[key][\"data\"].pop('count')\n",
    "        \n",
    "for key, value in my_nodesdictGLOBAL.iteritems():\n",
    "            my_nodesdictList.append(value)\n",
    "        \n",
    "nodestopo=sorted(my_nodesdictList, key= lambda (v) : v['data']['weight'], reverse=True)[:5000]\n",
    "print len(nodestopo)\n",
    "\n",
    "\n",
    "\n",
    "title=\"global venue graph /BETA 0.3\"\n",
    "\n",
    "while True:\n",
    "        try:\n",
    "            print nodestopo\n",
    "            create_topogram(title, nodestopo, edgestopo)\n",
    "        \n",
    "        except TypeError:\n",
    "            continue\n",
    "        break\n",
    "        "
   ]
  },
  {
   "cell_type": "code",
   "execution_count": 14,
   "metadata": {
    "collapsed": true
   },
   "outputs": [],
   "source": [
    "with open(\"./bands_dicts/the-real-mckenzies01612542-01ec-4fc4-a9ad-b6a6e33f11d7.obj\", 'rb') as handle:\n",
    "          DEBUG= pickle.load( handle)\n"
   ]
  },
  {
   "cell_type": "code",
   "execution_count": 18,
   "metadata": {},
   "outputs": [
    {
     "name": "stdout",
     "output_type": "stream",
     "text": [
      "[u\"The Real McKenzies/BETA_0.8  \\nDistance totale parcourue par l'artiste: 180691.650535 km  \\nDistance calculee par Concorde: 156448.795249 km  \\nPourcentage d'optimisation global calculee:13.4166992303 %  \\nMARGE D'OPTIMISATION IMPORTANTE\", [{'data': {'end': '2015-03-27T20:30:00', 'name': 'the-horseshoe-tavern', 'weight': 1.0, 'color': '#7f663f', 'notes': 'name : the-horseshoe-tavern  \\nlat : 43.6490438  \\nlng :-79.395913  \\n weight :1  \\nstart : 2015-03-26T20:30:00  \\nend : 2015-03-27T20:30:00  \\ncolor :#7f663f  \\n  <a href=\"https://google.com/search?q=the-horseshoe-tavern\" target=\"_blank\">the-horseshoe-tavern</a>', 'start': '2015-03-26T20:30:00', 'lat': 43.6490438, 'lng': -79.395913, 'id': 'the-horseshoe-tavern43-79'}}, {'data': {'end': '2012-05-09T20:00:00', 'name': 'the-pyramid-cabaret', 'weight': 1.0, 'color': '#723f7f', 'notes': 'name : the-pyramid-cabaret  \\nlat : 49.890735  \\nlng :-97.137711  \\n weight :1  \\nstart : 2012-05-08T20:00:00  \\nend : 2012-05-09T20:00:00  \\ncolor :#723f7f  \\n  <a href=\"https://google.com/search?q=the-pyramid-cabaret\" target=\"_blank\">the-pyramid-cabaret</a>', 'start': '2012-05-08T20:00:00', 'lat': 49.890735, 'lng': -97.137711, 'id': 'the-pyramid-cabaret49-97'}}, {'data': {'end': '2015-06-19T21:00:00', 'name': 'the-pyramid-scheme', 'weight': 1.0, 'color': '#7f793f', 'notes': 'name : the-pyramid-scheme  \\nlat : 42.961573  \\nlng :-85.668974  \\n weight :1  \\nstart : 2015-06-18T21:00:00  \\nend : 2015-06-19T21:00:00  \\ncolor :#7f793f  \\n  <a href=\"https://google.com/search?q=the-pyramid-scheme\" target=\"_blank\">the-pyramid-scheme</a>', 'start': '2015-06-18T21:00:00', 'lat': 42.961573, 'lng': -85.668974, 'id': 'the-pyramid-scheme42-85'}}, {'data': {'end': '2009-04-05T21:00:00', 'name': 'pop-levi-horseshoe-tavern', 'weight': 1.0, 'color': '#4c7f3f', 'notes': 'name : pop-levi-horseshoe-tavern  \\nlat : 43.6666667  \\nlng :-79.4166667  \\n weight :1  \\nstart : 2009-04-04T21:00:00  \\nend : 2009-04-05T21:00:00  \\ncolor :#4c7f3f  \\n  <a href=\"https://google.com/search?q=pop-levi-horseshoe-tavern\" target=\"_blank\">pop-levi-horseshoe-tavern</a>', 'start': '2009-04-04T21:00:00', 'lat': 43.6666667, 'lng': -79.4166667, 'id': 'pop-levi-horseshoe-tavern43-79'}}, {'data': {'end': '2015-05-16T19:00:00', 'name': 'skaters-palace', 'weight': 1.0, 'color': '#7f793f', 'notes': 'name : skaters-palace  \\nlat : 51.9666667  \\nlng :7.6333333  \\n weight :1  \\nstart : 2015-05-15T19:00:00  \\nend : 2015-05-16T19:00:00  \\ncolor :#7f793f  \\n  <a href=\"https://google.com/search?q=skaters-palace\" target=\"_blank\">skaters-palace</a>', 'start': '2015-05-15T19:00:00', 'lat': 51.9666667, 'lng': 7.6333333, 'id': 'skaters-palace517'}}, {'data': {'end': '2017-06-23T19:00:00', 'name': 'velbloud', 'weight': 1.0, 'color': '#3f7f59', 'notes': 'name : velbloud  \\nlat : 48.97107  \\nlng :14.47945  \\n weight :1  \\nstart : 2017-06-22T19:00:00  \\nend : 2017-06-23T19:00:00  \\ncolor :#3f7f59  \\n  <a href=\"https://google.com/search?q=velbloud\" target=\"_blank\">velbloud</a>', 'start': '2017-06-22T19:00:00', 'lat': 48.97107, 'lng': 14.47945, 'id': 'velbloud4814'}}, {'data': {'end': '2012-05-08T19:00:00', 'name': 'crocks', 'weight': 1.0, 'color': '#723f7f', 'notes': 'name : crocks  \\nlat : 48.434355  \\nlng :-89.219886  \\n weight :1  \\nstart : 2012-05-07T19:00:00  \\nend : 2012-05-08T19:00:00  \\ncolor :#723f7f  \\n  <a href=\"https://google.com/search?q=crocks\" target=\"_blank\">crocks</a>', 'start': '2012-05-07T19:00:00', 'lat': 48.434355, 'lng': -89.219886, 'id': 'crocks48-89'}}, {'data': {'end': '2012-02-02T19:00:00', 'name': 'kassablanca-gleis-1', 'weight': 1.0, 'color': '#5f3f7f', 'notes': 'name : kassablanca-gleis-1  \\nlat : 50.919861  \\nlng :11.577858  \\n weight :1  \\nstart : 2012-02-01T19:00:00  \\nend : 2012-02-02T19:00:00  \\ncolor :#5f3f7f  \\n  <a href=\"https://google.com/search?q=kassablanca-gleis-1\" target=\"_blank\">kassablanca-gleis-1</a>', 'start': '2012-02-01T19:00:00', 'lat': 50.919861, 'lng': 11.577858, 'id': 'kassablanca-gleis-15011'}}, {'data': {'end': '2017-06-15T19:00:00', 'name': 'k3', 'weight': 1.0, 'color': '#3f7f59', 'notes': 'name : k3  \\nlat : 52.106341  \\nlng :9.356504  \\n weight :1  \\nstart : 2017-06-14T19:00:00  \\nend : 2017-06-15T19:00:00  \\ncolor :#3f7f59  \\n  <a href=\"https://google.com/search?q=k3\" target=\"_blank\">k3</a>', 'start': '2017-06-14T19:00:00', 'lat': 52.106341, 'lng': 9.356504, 'id': 'k3529'}}, {'data': {'end': '2015-04-10T20:00:00', 'name': 'the-big-dipper', 'weight': 1.0, 'color': '#7f663f', 'notes': 'name : the-big-dipper  \\nlat : 47.654724  \\nlng :-117.417732  \\n weight :1  \\nstart : 2015-04-09T20:00:00  \\nend : 2015-04-10T20:00:00  \\ncolor :#7f663f  \\n  <a href=\"https://google.com/search?q=the-big-dipper\" target=\"_blank\">the-big-dipper</a>', 'start': '2015-04-09T20:00:00', 'lat': 47.654724, 'lng': -117.417732, 'id': 'the-big-dipper47-117'}}, {'data': {'end': '2015-05-15T21:00:00', 'name': 'strom', 'weight': 1.0, 'color': '#7f793f', 'notes': 'name : strom  \\nlat : 51.6166667  \\nlng :13.3166667  \\n weight :1  \\nstart : 2015-05-14T21:00:00  \\nend : 2015-05-15T21:00:00  \\ncolor :#7f793f  \\n  <a href=\"https://google.com/search?q=strom\" target=\"_blank\">strom</a>', 'start': '2015-05-14T21:00:00', 'lat': 51.6166667, 'lng': 13.3166667, 'id': 'strom5113'}}, {'data': {'end': '2017-04-21T00:00:00', 'name': 'so36', 'weight': 1.5537739740300374, 'color': '#3f7f59', 'notes': 'name : so36  \\nlat : 52.500373  \\nlng :13.422031  \\n weight :5.82842712475  \\nstart : 2012-02-04T19:00:00  \\nend : 2017-04-21T00:00:00  \\ncolor :#3f7f59  \\n  <a href=\"https://google.com/search?q=so36\" target=\"_blank\">so36</a>', 'start': '2012-02-04T19:00:00', 'lat': 52.500373, 'lng': 13.422031, 'id': 'so365213'}}, {'data': {'end': '2010-02-04T21:00:00', 'name': 'klubi-turku', 'weight': 1.0, 'color': '#3f7f6c', 'notes': 'name : klubi-turku  \\nlat : 60.45062  \\nlng :22.258976  \\n weight :1  \\nstart : 2010-02-03T21:00:00  \\nend : 2010-02-04T21:00:00  \\ncolor :#3f7f6c  \\n  <a href=\"https://google.com/search?q=klubi-turku\" target=\"_blank\">klubi-turku</a>', 'start': '2010-02-03T21:00:00', 'lat': 60.45062, 'lng': 22.258976, 'id': 'klubi-turku6022'}}, {'data': {'end': '2011-01-20T19:00:00', 'name': 'borderline', 'weight': 1.0, 'color': '#3f467f', 'notes': 'name : borderline  \\nlat : 51.51486  \\nlng :-0.130419  \\n weight :1  \\nstart : 2011-01-19T19:00:00  \\nend : 2011-01-20T19:00:00  \\ncolor :#3f467f  \\n  <a href=\"https://google.com/search?q=borderline\" target=\"_blank\">borderline</a>', 'start': '2011-01-19T19:00:00', 'lat': 51.51486, 'lng': -0.130419, 'id': 'borderline510'}}, {'data': {'end': '2017-05-18T19:00:00', 'name': 'the-casbah', 'weight': 1.0, 'color': '#3f7f59', 'notes': 'name : the-casbah  \\nlat : 43.259401  \\nlng :-79.878521  \\n weight :1  \\nstart : 2017-05-17T19:00:00  \\nend : 2017-05-18T19:00:00  \\ncolor :#3f7f59  \\n  <a href=\"https://google.com/search?q=the-casbah\" target=\"_blank\">the-casbah</a>', 'start': '2017-05-17T19:00:00', 'lat': 43.259401, 'lng': -79.878521, 'id': 'the-casbah43-79'}}, {'data': {'end': '2017-06-17T19:00:00', 'name': 'bastard-club', 'weight': 1.0, 'color': '#3f7f59', 'notes': 'name : bastard-club  \\nlat : 52.2666667  \\nlng :8.05  \\n weight :1  \\nstart : 2017-06-16T19:00:00  \\nend : 2017-06-17T19:00:00  \\ncolor :#3f7f59  \\n  <a href=\"https://google.com/search?q=bastard-club\" target=\"_blank\">bastard-club</a>', 'start': '2017-06-16T19:00:00', 'lat': 52.2666667, 'lng': 8.05, 'id': 'bastard-club528'}}, {'data': {'end': '2017-03-24T21:00:00', 'name': 'the-windsor-hotel', 'weight': 1.0, 'color': '#3f7f46', 'notes': 'name : the-windsor-hotel  \\nlat : 49.890911  \\nlng :-97.138871  \\n weight :1  \\nstart : 2017-03-23T21:00:00  \\nend : 2017-03-24T21:00:00  \\ncolor :#3f7f46  \\n  <a href=\"https://google.com/search?q=the-windsor-hotel\" target=\"_blank\">the-windsor-hotel</a>', 'start': '2017-03-23T21:00:00', 'lat': 49.890911, 'lng': -97.138871, 'id': 'the-windsor-hotel49-97'}}, {'data': {'end': '2017-03-17T20:30:00', 'name': 'average-joe-s-sports-bar', 'weight': 1.0, 'color': '#3f7f46', 'notes': 'name : average-joe-s-sports-bar  \\nlat : 49.6934  \\nlng :-112.838362  \\n weight :1  \\nstart : 2017-03-16T20:30:00  \\nend : 2017-03-17T20:30:00  \\ncolor :#3f7f46  \\n  <a href=\"https://google.com/search?q=average-joe-s-sports-bar\" target=\"_blank\">average-joe-s-sports-bar</a>', 'start': '2017-03-16T20:30:00', 'lat': 49.6934, 'lng': -112.838362, 'id': 'average-joe-s-sports-bar49-112'}}, {'data': {'end': '2017-05-28T00:00:00', 'name': 'viper-room', 'weight': 1.4142135623730951, 'color': '#3f7f59', 'notes': 'name : viper-room  \\nlat : 34.09066  \\nlng :-118.38468  \\n weight :4.0  \\nstart : 2014-09-23T20:00:00  \\nend : 2017-05-28T00:00:00  \\ncolor :#3f7f59  \\n  <a href=\"https://google.com/search?q=viper-room\" target=\"_blank\">viper-room</a>', 'start': '2014-09-23T20:00:00', 'lat': 34.09066, 'lng': -118.38468, 'id': 'viper-room34-118'}}, {'data': {'end': '2009-01-29T19:00:00', 'name': 'la-fourmi', 'weight': 1.0, 'color': '#5f7f3f', 'notes': 'name : la-fourmi  \\nlat : 45.823859  \\nlng :1.2671198  \\n weight :1  \\nstart : 2009-01-28T19:00:00  \\nend : 2009-01-29T19:00:00  \\ncolor :#5f7f3f  \\n  <a href=\"https://google.com/search?q=la-fourmi\" target=\"_blank\">la-fourmi</a>', 'start': '2009-01-28T19:00:00', 'lat': 45.823859, 'lng': 1.2671198, 'id': 'la-fourmi451'}}, {'data': {'end': '2015-03-26T20:00:00', 'name': 'rum-runners', 'weight': 1.0, 'color': '#7f663f', 'notes': 'name : rum-runners  \\nlat : 42.9840012  \\nlng :-81.2491989  \\n weight :1  \\nstart : 2015-03-25T20:00:00  \\nend : 2015-03-26T20:00:00  \\ncolor :#7f663f  \\n  <a href=\"https://google.com/search?q=rum-runners\" target=\"_blank\">rum-runners</a>', 'start': '2015-03-25T20:00:00', 'lat': 42.9840012, 'lng': -81.2491989, 'id': 'rum-runners42-81'}}, {'data': {'end': '2017-03-25T22:30:00', 'name': 'amigos', 'weight': 1.4142135623730951, 'color': '#3f7f46', 'notes': 'name : amigos  \\nlat : 52.117627  \\nlng :-106.654089  \\n weight :4.0  \\nstart : 2016-03-25T22:30:00  \\nend : 2017-03-25T22:30:00  \\ncolor :#3f7f46  \\n  <a href=\"https://google.com/search?q=amigos\" target=\"_blank\">amigos</a>', 'start': '2016-03-25T22:30:00', 'lat': 52.117627, 'lng': -106.654089, 'id': 'amigos52-106'}}, {'data': {'end': '2017-03-05T20:00:00', 'name': 'rickshaw-theatre', 'weight': 1.5537739740300374, 'color': '#3f7f46', 'notes': 'name : rickshaw-theatre  \\nlat : 49.281183  \\nlng :-123.098194  \\n weight :5.82842712475  \\nstart : 2015-04-11T20:00:00  \\nend : 2017-03-05T20:00:00  \\ncolor :#3f7f46  \\n  <a href=\"https://google.com/search?q=rickshaw-theatre\" target=\"_blank\">rickshaw-theatre</a>', 'start': '2015-04-11T20:00:00', 'lat': 49.281183, 'lng': -123.098194, 'id': 'rickshaw-theatre49-123'}}, {'data': {'end': '2012-07-25T20:00:00', 'name': 'grammatikoff', 'weight': 1.0, 'color': '#7f3f79', 'notes': 'name : grammatikoff  \\nlat : 51.430598  \\nlng :6.761312  \\n weight :1  \\nstart : 2012-07-24T20:00:00  \\nend : 2012-07-25T20:00:00  \\ncolor :#7f3f79  \\n  <a href=\"https://google.com/search?q=grammatikoff\" target=\"_blank\">grammatikoff</a>', 'start': '2012-07-24T20:00:00', 'lat': 51.430598, 'lng': 6.761312, 'id': 'grammatikoff516'}}, {'data': {'end': '2015-04-09T20:00:00', 'name': 'the-pub-station', 'weight': 1.0, 'color': '#7f663f', 'notes': 'name : the-pub-station  \\nlat : 45.783363  \\nlng :-108.50193  \\n weight :1  \\nstart : 2015-04-08T20:00:00  \\nend : 2015-04-09T20:00:00  \\ncolor :#7f663f  \\n  <a href=\"https://google.com/search?q=the-pub-station\" target=\"_blank\">the-pub-station</a>', 'start': '2015-04-08T20:00:00', 'lat': 45.783363, 'lng': -108.50193, 'id': 'the-pub-station45-108'}}, {'data': {'end': '2012-06-02T21:00:00', 'name': 'turf-club', 'weight': 1.0, 'color': '#723f7f', 'notes': 'name : turf-club  \\nlat : 44.955935  \\nlng :-93.167933  \\n weight :1  \\nstart : 2012-06-01T21:00:00  \\nend : 2012-06-02T21:00:00  \\ncolor :#723f7f  \\n  <a href=\"https://google.com/search?q=turf-club\" target=\"_blank\">turf-club</a>', 'start': '2012-06-01T21:00:00', 'lat': 44.955935, 'lng': -93.167933, 'id': 'turf-club44-93'}}, {'data': {'end': '2010-05-28T20:30:00', 'name': 'popcentrum-013', 'weight': 1.0, 'color': '#3f6c7f', 'notes': 'name : popcentrum-013  \\nlat : 51.55  \\nlng :5.1166667  \\n weight :1  \\nstart : 2010-05-27T20:30:00  \\nend : 2010-05-28T20:30:00  \\ncolor :#3f6c7f  \\n  <a href=\"https://google.com/search?q=popcentrum-013\" target=\"_blank\">popcentrum-013</a>', 'start': '2010-05-27T20:30:00', 'lat': 51.55, 'lng': 5.1166667, 'id': 'popcentrum-013515'}}, {'data': {'end': '2017-03-04T20:00:00', 'name': 'the-waverley', 'weight': 1.4142135623730951, 'color': '#3f7f46', 'notes': 'name : the-waverley  \\nlat : 49.619019  \\nlng :-125.030143  \\n weight :4.0  \\nstart : 2013-03-09T20:00:00  \\nend : 2017-03-04T20:00:00  \\ncolor :#3f7f46  \\n  <a href=\"https://google.com/search?q=the-waverley\" target=\"_blank\">the-waverley</a>', 'start': '2013-03-09T20:00:00', 'lat': 49.619019, 'lng': -125.030143, 'id': 'the-waverley49-125'}}, {'data': {'end': '2012-02-04T19:00:00', 'name': 'cafe-nord', 'weight': 1.0, 'color': '#5f3f7f', 'notes': 'name : cafe-nord  \\nlat : 51.45  \\nlng :7.0166667  \\n weight :1  \\nstart : 2012-02-03T19:00:00  \\nend : 2012-02-04T19:00:00  \\ncolor :#5f3f7f  \\n  <a href=\"https://google.com/search?q=cafe-nord\" target=\"_blank\">cafe-nord</a>', 'start': '2012-02-03T19:00:00', 'lat': 51.45, 'lng': 7.0166667, 'id': 'cafe-nord517'}}, {'data': {'end': '2012-01-26T19:00:00', 'name': 'captains-rest', 'weight': 1.0, 'color': '#5f3f7f', 'notes': 'name : captains-rest  \\nlat : 55.872361  \\nlng :-4.272853  \\n weight :1  \\nstart : 2012-01-25T19:00:00  \\nend : 2012-01-26T19:00:00  \\ncolor :#5f3f7f  \\n  <a href=\"https://google.com/search?q=captains-rest\" target=\"_blank\">captains-rest</a>', 'start': '2012-01-25T19:00:00', 'lat': 55.872361, 'lng': -4.272853, 'id': 'captains-rest55-4'}}, {'data': {'end': '2017-03-23T20:00:00', 'name': 'the-exchange', 'weight': 1.4142135623730951, 'color': '#3f7f46', 'notes': 'name : the-exchange  \\nlat : 50.456539  \\nlng :-104.615494  \\n weight :4.0  \\nstart : 2007-07-20T00:00:00  \\nend : 2017-03-23T20:00:00  \\ncolor :#3f7f46  \\n  <a href=\"https://google.com/search?q=the-exchange\" target=\"_blank\">the-exchange</a>', 'start': '2007-07-20T00:00:00', 'lat': 50.456539, 'lng': -104.615494, 'id': 'the-exchange50-104'}}, {'data': {'end': '2012-05-25T19:00:00', 'name': 'ace-of-spades', 'weight': 1.0, 'color': '#723f7f', 'notes': 'name : ace-of-spades  \\nlat : 38.569897  \\nlng :-121.491362  \\n weight :1  \\nstart : 2012-05-24T19:00:00  \\nend : 2012-05-25T19:00:00  \\ncolor :#723f7f  \\n  <a href=\"https://google.com/search?q=ace-of-spades\" target=\"_blank\">ace-of-spades</a>', 'start': '2012-05-24T19:00:00', 'lat': 38.569897, 'lng': -121.491362, 'id': 'ace-of-spades38-121'}}, {'data': {'end': '2012-06-11T21:00:00', 'name': 'maxwell-s', 'weight': 1.0, 'color': '#723f7f', 'notes': 'name : maxwell-s  \\nlat : 40.749694  \\nlng :-74.026922  \\n weight :1  \\nstart : 2012-06-10T21:00:00  \\nend : 2012-06-11T21:00:00  \\ncolor :#723f7f  \\n  <a href=\"https://google.com/search?q=maxwell-s\" target=\"_blank\">maxwell-s</a>', 'start': '2012-06-10T21:00:00', 'lat': 40.749694, 'lng': -74.026922, 'id': 'maxwell-s40-74'}}, {'data': {'end': '2014-07-17T21:30:00', 'name': 'hafenklang', 'weight': 1.4142135623730951, 'color': '#7f3f3f', 'notes': 'name : hafenklang  \\nlat : 53.55  \\nlng :10.0  \\n weight :4.0  \\nstart : 2012-01-31T19:00:00  \\nend : 2014-07-17T21:30:00  \\ncolor :#7f3f3f  \\n  <a href=\"https://google.com/search?q=hafenklang\" target=\"_blank\">hafenklang</a>', 'start': '2012-01-31T19:00:00', 'lat': 53.55, 'lng': 10.0, 'id': 'hafenklang5310'}}, {'data': {'end': '2008-11-29T19:00:00', 'name': 'regenbogen', 'weight': 1.0, 'color': '#727f3f', 'notes': 'name : regenbogen  \\nlat : 52.1  \\nlng :9.35  \\n weight :1  \\nstart : 2008-11-28T19:00:00  \\nend : 2008-11-29T19:00:00  \\ncolor :#727f3f  \\n  <a href=\"https://google.com/search?q=regenbogen\" target=\"_blank\">regenbogen</a>', 'start': '2008-11-28T19:00:00', 'lat': 52.1, 'lng': 9.35, 'id': 'regenbogen529'}}, {'data': {'end': '2012-01-17T19:00:00', 'name': 'united-club', 'weight': 1.0, 'color': '#5f3f7f', 'notes': 'name : united-club  \\nlat : 45.05  \\nlng :7.6666667  \\n weight :1  \\nstart : 2012-01-16T19:00:00  \\nend : 2012-01-17T19:00:00  \\ncolor :#5f3f7f  \\n  <a href=\"https://google.com/search?q=united-club\" target=\"_blank\">united-club</a>', 'start': '2012-01-16T19:00:00', 'lat': 45.05, 'lng': 7.6666667, 'id': 'united-club457'}}, {'data': {'end': '2008-11-08T19:00:00', 'name': 'schlachthof', 'weight': 1.0, 'color': '#727f3f', 'notes': 'name : schlachthof  \\nlat : 47.764801  \\nlng :13.0602  \\n weight :1  \\nstart : 2008-11-07T19:00:00  \\nend : 2008-11-08T19:00:00  \\ncolor :#727f3f  \\n  <a href=\"https://google.com/search?q=schlachthof\" target=\"_blank\">schlachthof</a>', 'start': '2008-11-07T19:00:00', 'lat': 47.764801, 'lng': 13.0602, 'id': 'schlachthof4713'}}, {'data': {'end': '2017-05-20T19:00:00', 'name': 'phoenix-concert-theatre', 'weight': 1.4142135623730951, 'color': '#3f7f59', 'notes': 'name : phoenix-concert-theatre  \\nlat : 43.6647186  \\nlng :-79.3741608  \\n weight :4.0  \\nstart : 2007-07-25T00:00:00  \\nend : 2017-05-20T19:00:00  \\ncolor :#3f7f59  \\n  <a href=\"https://google.com/search?q=phoenix-concert-theatre\" target=\"_blank\">phoenix-concert-theatre</a>', 'start': '2007-07-25T00:00:00', 'lat': 43.6647186, 'lng': -79.3741608, 'id': 'phoenix-concert-theatre43-79'}}, {'data': {'end': '2017-05-19T19:00:00', 'name': 'call-the-office', 'weight': 1.4142135623730951, 'color': '#3f7f59', 'notes': 'name : call-the-office  \\nlat : 42.981812  \\nlng :-81.246644  \\n weight :4.0  \\nstart : 2007-07-26T00:00:00  \\nend : 2017-05-19T19:00:00  \\ncolor :#3f7f59  \\n  <a href=\"https://google.com/search?q=call-the-office\" target=\"_blank\">call-the-office</a>', 'start': '2007-07-26T00:00:00', 'lat': 42.981812, 'lng': -81.246644, 'id': 'call-the-office42-81'}}, {'data': {'end': '2017-08-04T12:00:00', 'name': 'rebellion-festival', 'weight': 1.4142135623730951, 'color': '#3f7f6c', 'notes': 'name : rebellion-festival  \\nlat : 53.817949  \\nlng :-3.048585  \\n weight :4.0  \\nstart : 2012-08-04T19:00:00  \\nend : 2017-08-04T12:00:00  \\ncolor :#3f7f6c  \\n  <a href=\"https://google.com/search?q=rebellion-festival\" target=\"_blank\">rebellion-festival</a>', 'start': '2012-08-04T19:00:00', 'lat': 53.817949, 'lng': -3.048585, 'id': 'rebellion-festival53-3'}}, {'data': {'end': '2016-07-21T20:30:00', 'name': 'kuz-sagewerk', 'weight': 1.0, 'color': '#4c7f3f', 'notes': 'name : kuz-sagewerk  \\nlat : 51.3170536  \\nlng :9.4924552  \\n weight :1  \\nstart : 2016-07-20T20:30:00  \\nend : 2016-07-21T20:30:00  \\ncolor :#4c7f3f  \\n  <a href=\"https://google.com/search?q=kuz-sagewerk\" target=\"_blank\">kuz-sagewerk</a>', 'start': '2016-07-20T20:30:00', 'lat': 51.3170536, 'lng': 9.4924552, 'id': 'kuz-sagewerk519'}}, {'data': {'end': '2017-04-28T19:00:00', 'name': 'das-bett', 'weight': 1.0, 'color': '#3f7f59', 'notes': 'name : das-bett  \\nlat : 50.103413  \\nlng :8.618523  \\n weight :1  \\nstart : 2017-04-27T19:00:00  \\nend : 2017-04-28T19:00:00  \\ncolor :#3f7f59  \\n  <a href=\"https://google.com/search?q=das-bett\" target=\"_blank\">das-bett</a>', 'start': '2017-04-27T19:00:00', 'lat': 50.103413, 'lng': 8.618523, 'id': 'das-bett508'}}, {'data': {'end': '2008-07-26T19:00:00', 'name': 'festival-grounds', 'weight': 1.0, 'color': '#7f663f', 'notes': 'name : festival-grounds  \\nlat : 46.8833333  \\nlng :17.6833333  \\n weight :1  \\nstart : 2008-07-25T19:00:00  \\nend : 2008-07-26T19:00:00  \\ncolor :#7f663f  \\n  <a href=\"https://google.com/search?q=festival-grounds\" target=\"_blank\">festival-grounds</a>', 'start': '2008-07-25T19:00:00', 'lat': 46.8833333, 'lng': 17.6833333, 'id': 'festival-grounds4617'}}, {'data': {'end': '2010-06-03T20:30:00', 'name': 'paradox', 'weight': 1.0, 'color': '#3f6c7f', 'notes': 'name : paradox  \\nlat : 48.769847  \\nlng :11.380851  \\n weight :1  \\nstart : 2010-06-02T20:30:00  \\nend : 2010-06-03T20:30:00  \\ncolor :#3f6c7f  \\n  <a href=\"https://google.com/search?q=paradox\" target=\"_blank\">paradox</a>', 'start': '2010-06-02T20:30:00', 'lat': 48.769847, 'lng': 11.380851, 'id': 'paradox4811'}}, {'data': {'end': '2017-05-11T00:00:00', 'name': 'z-bau', 'weight': 1.0, 'color': '#3f7f59', 'notes': 'name : z-bau  \\nlat : 49.430887  \\nlng :11.095165  \\n weight :1  \\nstart : 2017-05-10T00:00:00  \\nend : 2017-05-11T00:00:00  \\ncolor :#3f7f59  \\n  <a href=\"https://google.com/search?q=z-bau\" target=\"_blank\">z-bau</a>', 'start': '2017-05-10T00:00:00', 'lat': 49.430887, 'lng': 11.095165, 'id': 'z-bau4911'}}, {'data': {'end': '2008-07-10T19:00:00', 'name': 'mondo-bizarro', 'weight': 1.0, 'color': '#7f663f', 'notes': 'name : mondo-bizarro  \\nlat : 48.128886  \\nlng :-1.664021  \\n weight :1  \\nstart : 2008-07-09T19:00:00  \\nend : 2008-07-10T19:00:00  \\ncolor :#7f663f  \\n  <a href=\"https://google.com/search?q=mondo-bizarro\" target=\"_blank\">mondo-bizarro</a>', 'start': '2008-07-09T19:00:00', 'lat': 48.128886, 'lng': -1.664021, 'id': 'mondo-bizarro48-1'}}, {'data': {'end': '2012-01-15T19:00:00', 'name': 'swamp-club', 'weight': 1.0, 'color': '#5f3f7f', 'notes': 'name : swamp-club  \\nlat : 44.02849  \\nlng :10.11003  \\n weight :1  \\nstart : 2012-01-14T19:00:00  \\nend : 2012-01-15T19:00:00  \\ncolor :#5f3f7f  \\n  <a href=\"https://google.com/search?q=swamp-club\" target=\"_blank\">swamp-club</a>', 'start': '2012-01-14T19:00:00', 'lat': 44.02849, 'lng': 10.11003, 'id': 'swamp-club4410'}}, {'data': {'end': '2015-03-30T20:00:00', 'name': 'katacombes', 'weight': 1.0, 'color': '#7f663f', 'notes': 'name : katacombes  \\nlat : 45.5036878  \\nlng :-73.5290386  \\n weight :1  \\nstart : 2015-03-29T20:00:00  \\nend : 2015-03-30T20:00:00  \\ncolor :#7f663f  \\n  <a href=\"https://google.com/search?q=katacombes\" target=\"_blank\">katacombes</a>', 'start': '2015-03-29T20:00:00', 'lat': 45.5036878, 'lng': -73.5290386, 'id': 'katacombes45-73'}}, {'data': {'end': '2017-09-14T19:00:00', 'name': 'underworld', 'weight': 1.0, 'color': '#3f7f6c', 'notes': 'name : underworld  \\nlat : 51.538893  \\nlng :-0.14246  \\n weight :1  \\nstart : 2017-09-13T19:00:00  \\nend : 2017-09-14T19:00:00  \\ncolor :#3f7f6c  \\n  <a href=\"https://google.com/search?q=underworld\" target=\"_blank\">underworld</a>', 'start': '2017-09-13T19:00:00', 'lat': 51.538893, 'lng': -0.14246, 'id': 'underworld510'}}, {'data': {'end': '2010-05-11T19:00:00', 'name': 'warm-audio', 'weight': 1.0, 'color': '#3f7f7f', 'notes': 'name : warm-audio  \\nlat : 45.76682  \\nlng :4.94375  \\n weight :1  \\nstart : 2010-05-10T19:00:00  \\nend : 2010-05-11T19:00:00  \\ncolor :#3f7f7f  \\n  <a href=\"https://google.com/search?q=warm-audio\" target=\"_blank\">warm-audio</a>', 'start': '2010-05-10T19:00:00', 'lat': 45.76682, 'lng': 4.94375, 'id': 'warm-audio454'}}, {'data': {'end': '2012-05-24T19:00:00', 'name': 'slims', 'weight': 1.0, 'color': '#723f7f', 'notes': 'name : slims  \\nlat : 37.771482  \\nlng :-122.413333  \\n weight :1  \\nstart : 2012-05-23T19:00:00  \\nend : 2012-05-24T19:00:00  \\ncolor :#723f7f  \\n  <a href=\"https://google.com/search?q=slims\" target=\"_blank\">slims</a>', 'start': '2012-05-23T19:00:00', 'lat': 37.771482, 'lng': -122.413333, 'id': 'slims37-122'}}, {'data': {'end': '2013-03-18T20:00:00', 'name': 'the-pawn-shop', 'weight': 1.0, 'color': '#7f3f65', 'notes': 'name : the-pawn-shop  \\nlat : 53.517966  \\nlng :-113.502001  \\n weight :1  \\nstart : 2013-03-17T20:00:00  \\nend : 2013-03-18T20:00:00  \\ncolor :#7f3f65  \\n  <a href=\"https://google.com/search?q=the-pawn-shop\" target=\"_blank\">the-pawn-shop</a>', 'start': '2013-03-17T20:00:00', 'lat': 53.517966, 'lng': -113.502001, 'id': 'the-pawn-shop53-113'}}, {'data': {'end': '2017-05-06T00:00:00', 'name': 'arena', 'weight': 1.0, 'color': '#3f7f59', 'notes': 'name : arena  \\nlat : 48.141466  \\nlng :16.293385  \\n weight :1  \\nstart : 2017-05-05T00:00:00  \\nend : 2017-05-06T00:00:00  \\ncolor :#3f7f59  \\n  <a href=\"https://google.com/search?q=arena\" target=\"_blank\">arena</a>', 'start': '2017-05-05T00:00:00', 'lat': 48.141466, 'lng': 16.293385, 'id': 'arena4816'}}, {'data': {'end': '2017-04-30T19:00:00', 'name': 'musikbunker', 'weight': 1.0, 'color': '#3f7f59', 'notes': 'name : musikbunker  \\nlat : 50.767  \\nlng :6.10415  \\n weight :1  \\nstart : 2017-04-29T19:00:00  \\nend : 2017-04-30T19:00:00  \\ncolor :#3f7f59  \\n  <a href=\"https://google.com/search?q=musikbunker\" target=\"_blank\">musikbunker</a>', 'start': '2017-04-29T19:00:00', 'lat': 50.767, 'lng': 6.10415, 'id': 'musikbunker506'}}, {'data': {'end': '2012-01-22T20:00:00', 'name': 'klub-muzyczny-ucho', 'weight': 1.0, 'color': '#5f3f7f', 'notes': 'name : klub-muzyczny-ucho  \\nlat : 54.52487  \\nlng :18.54563  \\n weight :1  \\nstart : 2012-01-21T20:00:00  \\nend : 2012-01-22T20:00:00  \\ncolor :#5f3f7f  \\n  <a href=\"https://google.com/search?q=klub-muzyczny-ucho\" target=\"_blank\">klub-muzyczny-ucho</a>', 'start': '2012-01-21T20:00:00', 'lat': 54.52487, 'lng': 18.54563, 'id': 'klub-muzyczny-ucho5418'}}, {'data': {'end': '2017-09-11T19:00:00', 'name': 'hairy-dog', 'weight': 1.0, 'color': '#3f7f6c', 'notes': 'name : hairy-dog  \\nlat : 52.921717  \\nlng :-1.480966  \\n weight :1  \\nstart : 2017-09-10T19:00:00  \\nend : 2017-09-11T19:00:00  \\ncolor :#3f7f6c  \\n  <a href=\"https://google.com/search?q=hairy-dog\" target=\"_blank\">hairy-dog</a>', 'start': '2017-09-10T19:00:00', 'lat': 52.921717, 'lng': -1.480966, 'id': 'hairy-dog52-1'}}, {'data': {'end': '2012-07-29T19:00:00', 'name': 'u-d-festival', 'weight': 1.0, 'color': '#7f3f79', 'notes': 'name : u-d-festival  \\nlat : 47.557401  \\nlng :9.707209  \\n weight :1  \\nstart : 2012-07-28T19:00:00  \\nend : 2012-07-29T19:00:00  \\ncolor :#7f3f79  \\n  <a href=\"https://google.com/search?q=u-d-festival\" target=\"_blank\">u-d-festival</a>', 'start': '2012-07-28T19:00:00', 'lat': 47.557401, 'lng': 9.707209, 'id': 'u-d-festival479'}}, {'data': {'end': '2014-03-13T22:00:00', 'name': 'hume-hotel', 'weight': 1.0, 'color': '#7f3f52', 'notes': 'name : hume-hotel  \\nlat : 49.4922612  \\nlng :-117.2956057  \\n weight :1  \\nstart : 2014-03-12T22:00:00  \\nend : 2014-03-13T22:00:00  \\ncolor :#7f3f52  \\n  <a href=\"https://google.com/search?q=hume-hotel\" target=\"_blank\">hume-hotel</a>', 'start': '2014-03-12T22:00:00', 'lat': 49.4922612, 'lng': -117.2956057, 'id': 'hume-hotel49-117'}}, {'data': {'end': '2015-11-05T21:00:00', 'name': 'the-ritz', 'weight': 1.0, 'color': '#727f3f', 'notes': 'name : the-ritz  \\nlat : 37.330047  \\nlng :-121.885513  \\n weight :1  \\nstart : 2015-11-04T21:00:00  \\nend : 2015-11-05T21:00:00  \\ncolor :#727f3f  \\n  <a href=\"https://google.com/search?q=the-ritz\" target=\"_blank\">the-ritz</a>', 'start': '2015-11-04T21:00:00', 'lat': 37.330047, 'lng': -121.885513, 'id': 'the-ritz37-121'}}, {'data': {'end': '2015-06-17T20:30:00', 'name': 'beachland-ballroom', 'weight': 1.0, 'color': '#7f793f', 'notes': 'name : beachland-ballroom  \\nlat : 41.571503  \\nlng :-81.570351  \\n weight :1  \\nstart : 2015-06-16T20:30:00  \\nend : 2015-06-17T20:30:00  \\ncolor :#7f793f  \\n  <a href=\"https://google.com/search?q=beachland-ballroom\" target=\"_blank\">beachland-ballroom</a>', 'start': '2015-06-16T20:30:00', 'lat': 41.571503, 'lng': -81.570351, 'id': 'beachland-ballroom41-81'}}, {'data': {'end': '2010-05-27T20:00:00', 'name': 'windston', 'weight': 1.0, 'color': '#3f6c7f', 'notes': 'name : windston  \\nlat : 52.35  \\nlng :4.9166667  \\n weight :1  \\nstart : 2010-05-26T20:00:00  \\nend : 2010-05-27T20:00:00  \\ncolor :#3f6c7f  \\n  <a href=\"https://google.com/search?q=windston\" target=\"_blank\">windston</a>', 'start': '2010-05-26T20:00:00', 'lat': 52.35, 'lng': 4.9166667, 'id': 'windston524'}}, {'data': {'end': '2011-01-15T19:00:00', 'name': 'tavastia', 'weight': 1.4142135623730951, 'color': '#3f467f', 'notes': 'name : tavastia  \\nlat : 60.168571  \\nlng :24.933397  \\n weight :4.0  \\nstart : 2010-02-02T21:00:00  \\nend : 2011-01-15T19:00:00  \\ncolor :#3f467f  \\n  <a href=\"https://google.com/search?q=tavastia\" target=\"_blank\">tavastia</a>', 'start': '2010-02-02T21:00:00', 'lat': 60.168571, 'lng': 24.933397, 'id': 'tavastia6024'}}, {'data': {'end': '2008-07-13T19:00:00', 'name': 'zeltpalast-merzig', 'weight': 1.0, 'color': '#7f663f', 'notes': 'name : zeltpalast-merzig  \\nlat : 49.444707  \\nlng :6.624652  \\n weight :1  \\nstart : 2008-07-12T19:00:00  \\nend : 2008-07-13T19:00:00  \\ncolor :#7f663f  \\n  <a href=\"https://google.com/search?q=zeltpalast-merzig\" target=\"_blank\">zeltpalast-merzig</a>', 'start': '2008-07-12T19:00:00', 'lat': 49.444707, 'lng': 6.624652, 'id': 'zeltpalast-merzig496'}}, {'data': {'end': '2012-01-05T19:00:00', 'name': 'sala-lopez', 'weight': 1.0, 'color': '#5f3f7f', 'notes': 'name : sala-lopez  \\nlat : 41.658556  \\nlng :-0.874644  \\n weight :1  \\nstart : 2012-01-04T19:00:00  \\nend : 2012-01-05T19:00:00  \\ncolor :#5f3f7f  \\n  <a href=\"https://google.com/search?q=sala-lopez\" target=\"_blank\">sala-lopez</a>', 'start': '2012-01-04T19:00:00', 'lat': 41.658556, 'lng': -0.874644, 'id': 'sala-lopez410'}}, {'data': {'end': '2011-01-16T19:00:00', 'name': 'lutakko', 'weight': 1.4142135623730951, 'color': '#3f467f', 'notes': 'name : lutakko  \\nlat : 62.24341  \\nlng :25.7622399  \\n weight :4.0  \\nstart : 2010-02-05T19:00:00  \\nend : 2011-01-16T19:00:00  \\ncolor :#3f467f  \\n  <a href=\"https://google.com/search?q=lutakko\" target=\"_blank\">lutakko</a>', 'start': '2010-02-05T19:00:00', 'lat': 62.24341, 'lng': 25.7622399, 'id': 'lutakko6225'}}, {'data': {'end': '2012-01-23T14:42:27', 'name': 'prince-albert', 'weight': 1.5537739740300374, 'color': '#5f3f7f', 'notes': 'name : prince-albert  \\nlat : 50.828439  \\nlng :-0.140564  \\n weight :5.82842712475  \\nstart : 2010-01-18T19:00:00  \\nend : 2012-01-23T14:42:27  \\ncolor :#5f3f7f  \\n  <a href=\"https://google.com/search?q=prince-albert\" target=\"_blank\">prince-albert</a>', 'start': '2010-01-18T19:00:00', 'lat': 50.828439, 'lng': -0.140564, 'id': 'prince-albert500'}}, {'data': {'end': '2012-04-28T20:00:00', 'name': 'the-opera-house', 'weight': 1.0, 'color': '#723f7f', 'notes': 'name : the-opera-house  \\nlat : 43.658966  \\nlng :-79.348791  \\n weight :1  \\nstart : 2012-04-27T20:00:00  \\nend : 2012-04-28T20:00:00  \\ncolor :#723f7f  \\n  <a href=\"https://google.com/search?q=the-opera-house\" target=\"_blank\">the-opera-house</a>', 'start': '2012-04-27T20:00:00', 'lat': 43.658966, 'lng': -79.348791, 'id': 'the-opera-house43-79'}}, {'data': {'end': '2017-08-28T19:00:00', 'name': 'auerhahn', 'weight': 1.0, 'color': '#3f7f6c', 'notes': 'name : auerhahn  \\nlat : 48.32632  \\nlng :14.30281  \\n weight :1  \\nstart : 2017-08-27T19:00:00  \\nend : 2017-08-28T19:00:00  \\ncolor :#3f7f6c  \\n  <a href=\"https://google.com/search?q=auerhahn\" target=\"_blank\">auerhahn</a>', 'start': '2017-08-27T19:00:00', 'lat': 48.32632, 'lng': 14.30281, 'id': 'auerhahn4814'}}, {'data': {'end': '2015-04-03T20:00:00', 'name': 'rumba-cafe', 'weight': 1.0, 'color': '#7f663f', 'notes': 'name : rumba-cafe  \\nlat : 40.014632  \\nlng :-83.000298  \\n weight :1  \\nstart : 2015-04-02T20:00:00  \\nend : 2015-04-03T20:00:00  \\ncolor :#7f663f  \\n  <a href=\"https://google.com/search?q=rumba-cafe\" target=\"_blank\">rumba-cafe</a>', 'start': '2015-04-02T20:00:00', 'lat': 40.014632, 'lng': -83.000298, 'id': 'rumba-cafe40-83'}}, {'data': {'end': '2012-07-17T19:00:00', 'name': 'schaubude', 'weight': 1.0, 'color': '#7f3f79', 'notes': 'name : schaubude  \\nlat : 54.32365  \\nlng :10.13354  \\n weight :1  \\nstart : 2012-07-16T19:00:00  \\nend : 2012-07-17T19:00:00  \\ncolor :#7f3f79  \\n  <a href=\"https://google.com/search?q=schaubude\" target=\"_blank\">schaubude</a>', 'start': '2012-07-16T19:00:00', 'lat': 54.32365, 'lng': 10.13354, 'id': 'schaubude5410'}}, {'data': {'end': '2015-05-22T20:00:00', 'name': 'barrak-music-club', 'weight': 1.4142135623730951, 'color': '#7f793f', 'notes': 'name : barrak-music-club  \\nlat : 49.8365  \\nlng :18.29595  \\n weight :4.0  \\nstart : 2012-01-19T19:00:00  \\nend : 2015-05-22T20:00:00  \\ncolor :#7f793f  \\n  <a href=\"https://google.com/search?q=barrak-music-club\" target=\"_blank\">barrak-music-club</a>', 'start': '2012-01-19T19:00:00', 'lat': 49.8365, 'lng': 18.29595, 'id': 'barrak-music-club4918'}}, {'data': {'end': '2017-06-09T00:00:00', 'name': 'kalvingrad', 'weight': 1.0, 'color': '#3f7f59', 'notes': 'name : kalvingrad  \\nlat : 44.9161301  \\nlng :4.8255901  \\n weight :1  \\nstart : 2017-06-08T00:00:00  \\nend : 2017-06-09T00:00:00  \\ncolor :#3f7f59  \\n  <a href=\"https://google.com/search?q=kalvingrad\" target=\"_blank\">kalvingrad</a>', 'start': '2017-06-08T00:00:00', 'lat': 44.9161301, 'lng': 4.8255901, 'id': 'kalvingrad444'}}, {'data': {'end': '2015-04-05T20:30:00', 'name': 'lyric-room-keggers', 'weight': 1.0, 'color': '#7f663f', 'notes': 'name : lyric-room-keggers  \\nlat : 44.5189972  \\nlng :-88.0205078  \\n weight :1  \\nstart : 2015-04-04T20:30:00  \\nend : 2015-04-05T20:30:00  \\ncolor :#7f663f  \\n  <a href=\"https://google.com/search?q=lyric-room-keggers\" target=\"_blank\">lyric-room-keggers</a>', 'start': '2015-04-04T20:30:00', 'lat': 44.5189972, 'lng': -88.0205078, 'id': 'lyric-room-keggers44-88'}}, {'data': {'end': '2012-05-05T19:00:00', 'name': 'this-aint-hollywood', 'weight': 1.0, 'color': '#723f7f', 'notes': 'name : this-aint-hollywood  \\nlat : 43.264868  \\nlng :-79.865493  \\n weight :1  \\nstart : 2012-05-04T19:00:00  \\nend : 2012-05-05T19:00:00  \\ncolor :#723f7f  \\n  <a href=\"https://google.com/search?q=this-aint-hollywood\" target=\"_blank\">this-aint-hollywood</a>', 'start': '2012-05-04T19:00:00', 'lat': 43.264868, 'lng': -79.865493, 'id': 'this-aint-hollywood43-79'}}, {'data': {'end': '2008-11-22T19:00:00', 'name': 'conne-island', 'weight': 1.0, 'color': '#727f3f', 'notes': 'name : conne-island  \\nlat : 51.3  \\nlng :12.3333333  \\n weight :1  \\nstart : 2008-11-21T19:00:00  \\nend : 2008-11-22T19:00:00  \\ncolor :#727f3f  \\n  <a href=\"https://google.com/search?q=conne-island\" target=\"_blank\">conne-island</a>', 'start': '2008-11-21T19:00:00', 'lat': 51.3, 'lng': 12.3333333, 'id': 'conne-island5112'}}, {'data': {'end': '2012-01-18T19:00:00', 'name': 'juz', 'weight': 1.0, 'color': '#5f3f7f', 'notes': 'name : juz  \\nlat : 49.2055556  \\nlng :12.0413889  \\n weight :1  \\nstart : 2012-01-17T19:00:00  \\nend : 2012-01-18T19:00:00  \\ncolor :#5f3f7f  \\n  <a href=\"https://google.com/search?q=juz\" target=\"_blank\">juz</a>', 'start': '2012-01-17T19:00:00', 'lat': 49.2055556, 'lng': 12.0413889, 'id': 'juz4912'}}, {'data': {'end': '2014-09-19T20:00:00', 'name': 'slo-brew', 'weight': 1.0, 'color': '#7f523f', 'notes': 'name : slo-brew  \\nlat : 35.279185  \\nlng :-120.663549  \\n weight :1  \\nstart : 2014-09-18T20:00:00  \\nend : 2014-09-19T20:00:00  \\ncolor :#7f523f  \\n  <a href=\"https://google.com/search?q=slo-brew\" target=\"_blank\">slo-brew</a>', 'start': '2014-09-18T20:00:00', 'lat': 35.279185, 'lng': -120.663549, 'id': 'slo-brew35-120'}}, {'data': {'end': '2012-06-19T19:00:00', 'name': 'young-avenue-deli', 'weight': 1.0, 'color': '#723f7f', 'notes': 'name : young-avenue-deli  \\nlat : 35.119492  \\nlng :-89.991808  \\n weight :1  \\nstart : 2012-06-18T19:00:00  \\nend : 2012-06-19T19:00:00  \\ncolor :#723f7f  \\n  <a href=\"https://google.com/search?q=young-avenue-deli\" target=\"_blank\">young-avenue-deli</a>', 'start': '2012-06-18T19:00:00', 'lat': 35.119492, 'lng': -89.991808, 'id': 'young-avenue-deli35-89'}}, {'data': {'end': '2008-11-10T19:00:00', 'name': 'tba', 'weight': 1.0, 'color': '#727f3f', 'notes': 'name : tba  \\nlat : 48.2  \\nlng :16.3666667  \\n weight :1  \\nstart : 2008-11-09T19:00:00  \\nend : 2008-11-10T19:00:00  \\ncolor :#727f3f  \\n  <a href=\"https://google.com/search?q=tba\" target=\"_blank\">tba</a>', 'start': '2008-11-09T19:00:00', 'lat': 48.2, 'lng': 16.3666667, 'id': 'tba4816'}}, {'data': {'end': '2016-03-25T19:00:00', 'name': 'windsor-hotel', 'weight': 1.0, 'color': '#5f7f3f', 'notes': 'name : windsor-hotel  \\nlat : 49.89077  \\nlng :-97.138946  \\n weight :1  \\nstart : 2016-03-24T19:00:00  \\nend : 2016-03-25T19:00:00  \\ncolor :#5f7f3f  \\n  <a href=\"https://google.com/search?q=windsor-hotel\" target=\"_blank\">windsor-hotel</a>', 'start': '2016-03-24T19:00:00', 'lat': 49.89077, 'lng': -97.138946, 'id': 'windsor-hotel49-97'}}, {'data': {'end': '2017-04-22T00:00:00', 'name': 'underground', 'weight': 1.0, 'color': '#3f7f59', 'notes': 'name : underground  \\nlat : 50.9333333  \\nlng :6.95  \\n weight :1  \\nstart : 2017-04-21T00:00:00  \\nend : 2017-04-22T00:00:00  \\ncolor :#3f7f59  \\n  <a href=\"https://google.com/search?q=underground\" target=\"_blank\">underground</a>', 'start': '2017-04-21T00:00:00', 'lat': 50.9333333, 'lng': 6.95, 'id': 'underground506'}}, {'data': {'end': '2017-04-26T00:00:00', 'name': 'universum', 'weight': 1.0, 'color': '#3f7f59', 'notes': 'name : universum  \\nlat : 48.775709  \\nlng :9.18348  \\n weight :1  \\nstart : 2017-04-25T00:00:00  \\nend : 2017-04-26T00:00:00  \\ncolor :#3f7f59  \\n  <a href=\"https://google.com/search?q=universum\" target=\"_blank\">universum</a>', 'start': '2017-04-25T00:00:00', 'lat': 48.775709, 'lng': 9.18348, 'id': 'universum489'}}, {'data': {'end': '2012-06-01T19:00:00', 'name': 'the-waiting-room', 'weight': 1.0, 'color': '#723f7f', 'notes': 'name : the-waiting-room  \\nlat : 41.285104  \\nlng :-96.008519  \\n weight :1  \\nstart : 2012-05-31T19:00:00  \\nend : 2012-06-01T19:00:00  \\ncolor :#723f7f  \\n  <a href=\"https://google.com/search?q=the-waiting-room\" target=\"_blank\">the-waiting-room</a>', 'start': '2012-05-31T19:00:00', 'lat': 41.285104, 'lng': -96.008519, 'id': 'the-waiting-room41-96'}}, {'data': {'end': '2007-07-29T00:00:00', 'name': 'granada-theatre', 'weight': 1.0, 'color': '#7f3f3f', 'notes': 'name : granada-theatre  \\nlat : 45.4022919  \\nlng :-71.8910328  \\n weight :1  \\nstart : 2007-07-28T00:00:00  \\nend : 2007-07-29T00:00:00  \\ncolor :#7f3f3f  \\n  <a href=\"https://google.com/search?q=granada-theatre\" target=\"_blank\">granada-theatre</a>', 'start': '2007-07-28T00:00:00', 'lat': 45.4022919, 'lng': -71.8910328, 'id': 'granada-theatre45-71'}}, {'data': {'end': '2008-07-31T19:00:00', 'name': 'paradiso', 'weight': 1.0, 'color': '#7f663f', 'notes': 'name : paradiso  \\nlat : 52.3622704  \\nlng :4.8839402  \\n weight :1  \\nstart : 2008-07-30T19:00:00  \\nend : 2008-07-31T19:00:00  \\ncolor :#7f663f  \\n  <a href=\"https://google.com/search?q=paradiso\" target=\"_blank\">paradiso</a>', 'start': '2008-07-30T19:00:00', 'lat': 52.3622704, 'lng': 4.8839402, 'id': 'paradiso524'}}, {'data': {'end': '2012-06-06T19:30:00', 'name': 'the-altar-bar', 'weight': 1.0, 'color': '#723f7f', 'notes': 'name : the-altar-bar  \\nlat : 40.448943  \\nlng :-79.987005  \\n weight :1  \\nstart : 2012-06-05T19:30:00  \\nend : 2012-06-06T19:30:00  \\ncolor :#723f7f  \\n  <a href=\"https://google.com/search?q=the-altar-bar\" target=\"_blank\">the-altar-bar</a>', 'start': '2012-06-05T19:30:00', 'lat': 40.448943, 'lng': -79.987005, 'id': 'the-altar-bar40-79'}}, {'data': {'end': '2017-06-02T19:00:00', 'name': 'club-vaudeville', 'weight': 1.0, 'color': '#3f7f59', 'notes': 'name : club-vaudeville  \\nlat : 47.55  \\nlng :9.6833333  \\n weight :1  \\nstart : 2017-06-01T19:00:00  \\nend : 2017-06-02T19:00:00  \\ncolor :#3f7f59  \\n  <a href=\"https://google.com/search?q=club-vaudeville\" target=\"_blank\">club-vaudeville</a>', 'start': '2017-06-01T19:00:00', 'lat': 47.55, 'lng': 9.6833333, 'id': 'club-vaudeville479'}}, {'data': {'end': '2007-07-15T00:00:00', 'name': 'victoria-curling-club', 'weight': 1.0, 'color': '#7f3f3f', 'notes': 'name : victoria-curling-club  \\nlat : 48.431148  \\nlng :-123.358724  \\n weight :1  \\nstart : 2007-07-14T00:00:00  \\nend : 2007-07-15T00:00:00  \\ncolor :#7f3f3f  \\n  <a href=\"https://google.com/search?q=victoria-curling-club\" target=\"_blank\">victoria-curling-club</a>', 'start': '2007-07-14T00:00:00', 'lat': 48.431148, 'lng': -123.358724, 'id': 'victoria-curling-club48-123'}}, {'data': {'end': '2007-08-28T20:30:00', 'name': 'velvet-jones', 'weight': 1.0, 'color': '#7f523f', 'notes': 'name : velvet-jones  \\nlat : 34.4208333  \\nlng :-119.6972222  \\n weight :1  \\nstart : 2007-08-27T20:30:00  \\nend : 2007-08-28T20:30:00  \\ncolor :#7f523f  \\n  <a href=\"https://google.com/search?q=velvet-jones\" target=\"_blank\">velvet-jones</a>', 'start': '2007-08-27T20:30:00', 'lat': 34.4208333, 'lng': -119.6972222, 'id': 'velvet-jones34-119'}}, {'data': {'end': '2014-07-30T19:00:00', 'name': 'petit-bain', 'weight': 1.0, 'color': '#7f3f3f', 'notes': 'name : petit-bain  \\nlat : 48.8329289  \\nlng :2.3793696  \\n weight :1  \\nstart : 2014-07-29T19:00:00  \\nend : 2014-07-30T19:00:00  \\ncolor :#7f3f3f  \\n  <a href=\"https://google.com/search?q=petit-bain\" target=\"_blank\">petit-bain</a>', 'start': '2014-07-29T19:00:00', 'lat': 48.8329289, 'lng': 2.3793696, 'id': 'petit-bain482'}}, {'data': {'end': '2012-01-14T19:00:00', 'name': 'live-club', 'weight': 1.0, 'color': '#5f3f7f', 'notes': 'name : live-club  \\nlat : 45.603409  \\nlng :9.518333  \\n weight :1  \\nstart : 2012-01-13T19:00:00  \\nend : 2012-01-14T19:00:00  \\ncolor :#5f3f7f  \\n  <a href=\"https://google.com/search?q=live-club\" target=\"_blank\">live-club</a>', 'start': '2012-01-13T19:00:00', 'lat': 45.603409, 'lng': 9.518333, 'id': 'live-club459'}}, {'data': {'end': '2017-09-03T19:00:00', 'name': 'westfest', 'weight': 1.0, 'color': '#3f7f6c', 'notes': 'name : westfest  \\nlat : 48.4333333  \\nlng :-4.4  \\n weight :1  \\nstart : 2017-09-02T19:00:00  \\nend : 2017-09-03T19:00:00  \\ncolor :#3f7f6c  \\n  <a href=\"https://google.com/search?q=westfest\" target=\"_blank\">westfest</a>', 'start': '2017-09-02T19:00:00', 'lat': 48.4333333, 'lng': -4.4, 'id': 'westfest48-4'}}, {'data': {'end': '2012-06-14T19:00:00', 'name': 'masquerade', 'weight': 1.0, 'color': '#723f7f', 'notes': 'name : masquerade  \\nlat : 33.75099  \\nlng :-84.390272  \\n weight :1  \\nstart : 2012-06-13T19:00:00  \\nend : 2012-06-14T19:00:00  \\ncolor :#723f7f  \\n  <a href=\"https://google.com/search?q=masquerade\" target=\"_blank\">masquerade</a>', 'start': '2012-06-13T19:00:00', 'lat': 33.75099, 'lng': -84.390272, 'id': 'masquerade33-84'}}, {'data': {'end': '2017-03-19T20:00:00', 'name': 'the-starlite-room', 'weight': 1.5537739740300374, 'color': '#3f7f46', 'notes': 'name : the-starlite-room  \\nlat : 53.539799  \\nlng :-113.495779  \\n weight :5.82842712475  \\nstart : 2007-07-19T00:00:00  \\nend : 2017-03-19T20:00:00  \\ncolor :#3f7f46  \\n  <a href=\"https://google.com/search?q=the-starlite-room\" target=\"_blank\">the-starlite-room</a>', 'start': '2007-07-19T00:00:00', 'lat': 53.539799, 'lng': -113.495779, 'id': 'the-starlite-room53-113'}}, {'data': {'end': '2017-06-08T00:00:00', 'name': 'ferrailleur', 'weight': 1.0, 'color': '#3f7f59', 'notes': 'name : ferrailleur  \\nlat : 47.2166667  \\nlng :-1.55  \\n weight :1  \\nstart : 2017-06-07T00:00:00  \\nend : 2017-06-08T00:00:00  \\ncolor :#3f7f59  \\n  <a href=\"https://google.com/search?q=ferrailleur\" target=\"_blank\">ferrailleur</a>', 'start': '2017-06-07T00:00:00', 'lat': 47.2166667, 'lng': -1.55, 'id': 'ferrailleur47-1'}}, {'data': {'end': '2017-08-14T19:00:00', 'name': 'le-local', 'weight': 1.0, 'color': '#3f7f6c', 'notes': 'name : le-local  \\nlat : 50.2421989  \\nlng :3.4458699  \\n weight :1  \\nstart : 2017-08-13T19:00:00  \\nend : 2017-08-14T19:00:00  \\ncolor :#3f7f6c  \\n  <a href=\"https://google.com/search?q=le-local\" target=\"_blank\">le-local</a>', 'start': '2017-08-13T19:00:00', 'lat': 50.2421989, 'lng': 3.4458699, 'id': 'le-local503'}}, {'data': {'end': '2016-07-02T19:00:00', 'name': 'fallig-open-air', 'weight': 1.0, 'color': '#4c7f3f', 'notes': 'name : fallig-open-air  \\nlat : 50.4255799  \\nlng :7.58907  \\n weight :1  \\nstart : 2016-07-01T19:00:00  \\nend : 2016-07-02T19:00:00  \\ncolor :#4c7f3f  \\n  <a href=\"https://google.com/search?q=fallig-open-air\" target=\"_blank\">fallig-open-air</a>', 'start': '2016-07-01T19:00:00', 'lat': 50.4255799, 'lng': 7.58907, 'id': 'fallig-open-air507'}}, {'data': {'end': '2012-06-22T20:00:00', 'name': 'the-old-rock-house', 'weight': 1.0, 'color': '#723f7f', 'notes': 'name : the-old-rock-house  \\nlat : 38.615358  \\nlng :-90.196526  \\n weight :1  \\nstart : 2012-06-21T20:00:00  \\nend : 2012-06-22T20:00:00  \\ncolor :#723f7f  \\n  <a href=\"https://google.com/search?q=the-old-rock-house\" target=\"_blank\">the-old-rock-house</a>', 'start': '2012-06-21T20:00:00', 'lat': 38.615358, 'lng': -90.196526, 'id': 'the-old-rock-house38-90'}}, {'data': {'end': '2010-04-11T19:30:00', 'name': 'backstage', 'weight': 1.0, 'color': '#3f7f7f', 'notes': 'name : backstage  \\nlat : 48.15  \\nlng :11.5833333  \\n weight :1  \\nstart : 2010-04-10T19:30:00  \\nend : 2010-04-11T19:30:00  \\ncolor :#3f7f7f  \\n  <a href=\"https://google.com/search?q=backstage\" target=\"_blank\">backstage</a>', 'start': '2010-04-10T19:30:00', 'lat': 48.15, 'lng': 11.5833333, 'id': 'backstage4811'}}, {'data': {'end': '2017-05-05T00:00:00', 'name': 'rock-cafe', 'weight': 1.5537739740300374, 'color': '#3f7f59', 'notes': 'name : rock-cafe  \\nlat : 50.0818481  \\nlng :14.4186401  \\n weight :5.82842712475  \\nstart : 2008-11-04T19:00:00  \\nend : 2017-05-05T00:00:00  \\ncolor :#3f7f59  \\n  <a href=\"https://google.com/search?q=rock-cafe\" target=\"_blank\">rock-cafe</a>', 'start': '2008-11-04T19:00:00', 'lat': 50.0818481, 'lng': 14.4186401, 'id': 'rock-cafe5014'}}, {'data': {'end': '2008-07-18T19:00:00', 'name': 'kulturzentrum-schlachthof', 'weight': 1.0, 'color': '#7f663f', 'notes': 'name : kulturzentrum-schlachthof  \\nlat : 50.0654009  \\nlng :8.2490056  \\n weight :1  \\nstart : 2008-07-17T19:00:00  \\nend : 2008-07-18T19:00:00  \\ncolor :#7f663f  \\n  <a href=\"https://google.com/search?q=kulturzentrum-schlachthof\" target=\"_blank\">kulturzentrum-schlachthof</a>', 'start': '2008-07-17T19:00:00', 'lat': 50.0654009, 'lng': 8.2490056, 'id': 'kulturzentrum-schlachthof508'}}, {'data': {'end': '2012-05-23T20:00:00', 'name': 'blank-club', 'weight': 1.0, 'color': '#723f7f', 'notes': 'name : blank-club  \\nlat : 37.29343  \\nlng :-121.80854  \\n weight :1  \\nstart : 2012-05-22T20:00:00  \\nend : 2012-05-23T20:00:00  \\ncolor :#723f7f  \\n  <a href=\"https://google.com/search?q=blank-club\" target=\"_blank\">blank-club</a>', 'start': '2012-05-22T20:00:00', 'lat': 37.29343, 'lng': -121.80854, 'id': 'blank-club37-121'}}, {'data': {'end': '2014-03-14T20:00:00', 'name': 'eagles-hall', 'weight': 1.0, 'color': '#7f3f52', 'notes': 'name : eagles-hall  \\nlat : 49.5190392  \\nlng :-115.758812  \\n weight :1  \\nstart : 2014-03-13T20:00:00  \\nend : 2014-03-14T20:00:00  \\ncolor :#7f3f52  \\n  <a href=\"https://google.com/search?q=eagles-hall\" target=\"_blank\">eagles-hall</a>', 'start': '2014-03-13T20:00:00', 'lat': 49.5190392, 'lng': -115.758812, 'id': 'eagles-hall49-115'}}, {'data': {'end': '2007-07-28T00:00:00', 'name': 'babylon', 'weight': 1.0, 'color': '#7f3f3f', 'notes': 'name : babylon  \\nlat : 45.414657  \\nlng :-75.695567  \\n weight :1  \\nstart : 2007-07-27T00:00:00  \\nend : 2007-07-28T00:00:00  \\ncolor :#7f3f3f  \\n  <a href=\"https://google.com/search?q=babylon\" target=\"_blank\">babylon</a>', 'start': '2007-07-27T00:00:00', 'lat': 45.414657, 'lng': -75.695567, 'id': 'babylon45-75'}}, {'data': {'end': '2008-11-28T19:00:00', 'name': 'fzw-freizeitzentrum-west', 'weight': 1.0, 'color': '#727f3f', 'notes': 'name : fzw-freizeitzentrum-west  \\nlat : 51.5150099  \\nlng :7.4504  \\n weight :1  \\nstart : 2008-11-27T19:00:00  \\nend : 2008-11-28T19:00:00  \\ncolor :#727f3f  \\n  <a href=\"https://google.com/search?q=fzw-freizeitzentrum-west\" target=\"_blank\">fzw-freizeitzentrum-west</a>', 'start': '2008-11-27T19:00:00', 'lat': 51.5150099, 'lng': 7.4504, 'id': 'fzw-freizeitzentrum-west517'}}, {'data': {'end': '2012-01-12T19:00:00', 'name': 'les-combustibles', 'weight': 1.0, 'color': '#5f3f7f', 'notes': 'name : les-combustibles  \\nlat : 48.847397  \\nlng :2.375368  \\n weight :1  \\nstart : 2012-01-11T19:00:00  \\nend : 2012-01-12T19:00:00  \\ncolor :#5f3f7f  \\n  <a href=\"https://google.com/search?q=les-combustibles\" target=\"_blank\">les-combustibles</a>', 'start': '2012-01-11T19:00:00', 'lat': 48.847397, 'lng': 2.375368, 'id': 'les-combustibles482'}}, {'data': {'end': '2012-06-04T19:00:00', 'name': 'smalls', 'weight': 1.0, 'color': '#723f7f', 'notes': 'name : smalls  \\nlat : 42.40197  \\nlng :-83.052552  \\n weight :1  \\nstart : 2012-06-03T19:00:00  \\nend : 2012-06-04T19:00:00  \\ncolor :#723f7f  \\n  <a href=\"https://google.com/search?q=smalls\" target=\"_blank\">smalls</a>', 'start': '2012-06-03T19:00:00', 'lat': 42.40197, 'lng': -83.052552, 'id': 'smalls42-83'}}, {'data': {'end': '2014-08-18T19:00:00', 'name': 'kubana-festival', 'weight': 1.0, 'color': '#7f3f3f', 'notes': 'name : kubana-festival  \\nlat : 59.6833  \\nlng :59.983299  \\n weight :1  \\nstart : 2014-08-17T19:00:00  \\nend : 2014-08-18T19:00:00  \\ncolor :#7f3f3f  \\n  <a href=\"https://google.com/search?q=kubana-festival\" target=\"_blank\">kubana-festival</a>', 'start': '2014-08-17T19:00:00', 'lat': 59.6833, 'lng': 59.983299, 'id': 'kubana-festival5959'}}, {'data': {'end': '2012-01-28T19:00:00', 'name': 'windsor', 'weight': 1.0, 'color': '#5f3f7f', 'notes': 'name : windsor  \\nlat : 56.1166667  \\nlng :-3.1666667  \\n weight :1  \\nstart : 2012-01-27T19:00:00  \\nend : 2012-01-28T19:00:00  \\ncolor :#5f3f7f  \\n  <a href=\"https://google.com/search?q=windsor\" target=\"_blank\">windsor</a>', 'start': '2012-01-27T19:00:00', 'lat': 56.1166667, 'lng': -3.1666667, 'id': 'windsor56-3'}}, {'data': {'end': '2016-03-21T19:00:00', 'name': 'wild-bills', 'weight': 1.0, 'color': '#5f7f3f', 'notes': 'name : wild-bills  \\nlat : 51.176783  \\nlng :-115.571033  \\n weight :1  \\nstart : 2016-03-20T19:00:00  \\nend : 2016-03-21T19:00:00  \\ncolor :#5f7f3f  \\n  <a href=\"https://google.com/search?q=wild-bills\" target=\"_blank\">wild-bills</a>', 'start': '2016-03-20T19:00:00', 'lat': 51.176783, 'lng': -115.571033, 'id': 'wild-bills51-115'}}, {'data': {'end': '2017-05-04T00:00:00', 'name': 'chemiefabrik', 'weight': 1.4142135623730951, 'color': '#3f7f59', 'notes': 'name : chemiefabrik  \\nlat : 51.05  \\nlng :13.75  \\n weight :4.0  \\nstart : 2009-02-06T19:00:00  \\nend : 2017-05-04T00:00:00  \\ncolor :#3f7f59  \\n  <a href=\"https://google.com/search?q=chemiefabrik\" target=\"_blank\">chemiefabrik</a>', 'start': '2009-02-06T19:00:00', 'lat': 51.05, 'lng': 13.75, 'id': 'chemiefabrik5113'}}, {'data': {'end': '2008-12-01T19:00:00', 'name': 'lvc', 'weight': 1.0, 'color': '#727f3f', 'notes': 'name : lvc  \\nlat : 52.159325  \\nlng :4.489103  \\n weight :1  \\nstart : 2008-11-30T19:00:00  \\nend : 2008-12-01T19:00:00  \\ncolor :#727f3f  \\n  <a href=\"https://google.com/search?q=lvc\" target=\"_blank\">lvc</a>', 'start': '2008-11-30T19:00:00', 'lat': 52.159325, 'lng': 4.489103, 'id': 'lvc524'}}, {'data': {'end': '2012-06-05T19:00:00', 'name': 'grog-shop', 'weight': 1.0, 'color': '#723f7f', 'notes': 'name : grog-shop  \\nlat : 41.5084603  \\nlng :-81.5770514  \\n weight :1  \\nstart : 2012-06-04T19:00:00  \\nend : 2012-06-05T19:00:00  \\ncolor :#723f7f  \\n  <a href=\"https://google.com/search?q=grog-shop\" target=\"_blank\">grog-shop</a>', 'start': '2012-06-04T19:00:00', 'lat': 41.5084603, 'lng': -81.5770514, 'id': 'grog-shop41-81'}}, {'data': {'end': '2016-07-05T20:30:00', 'name': 'elfer-music-club', 'weight': 1.0, 'color': '#4c7f3f', 'notes': 'name : elfer-music-club  \\nlat : 50.10514  \\nlng :8.69128  \\n weight :1  \\nstart : 2016-07-04T20:30:00  \\nend : 2016-07-05T20:30:00  \\ncolor :#4c7f3f  \\n  <a href=\"https://google.com/search?q=elfer-music-club\" target=\"_blank\">elfer-music-club</a>', 'start': '2016-07-04T20:30:00', 'lat': 50.10514, 'lng': 8.69128, 'id': 'elfer-music-club508'}}, {'data': {'end': '2017-08-24T19:00:00', 'name': 'pitcher', 'weight': 1.5537739740300374, 'color': '#3f7f6c', 'notes': 'name : pitcher  \\nlat : 51.21096  \\nlng :6.78545  \\n weight :5.82842712475  \\nstart : 2017-08-21T19:00:00  \\nend : 2017-08-24T19:00:00  \\ncolor :#3f7f6c  \\n  <a href=\"https://google.com/search?q=pitcher\" target=\"_blank\">pitcher</a>', 'start': '2017-08-21T19:00:00', 'lat': 51.21096, 'lng': 6.78545, 'id': 'pitcher516'}}, {'data': {'end': '2008-07-12T19:00:00', 'name': 'the-goods-waterfront', 'weight': 1.0, 'color': '#7f663f', 'notes': 'name : the-goods-waterfront  \\nlat : 51.9166667  \\nlng :4.5  \\n weight :1  \\nstart : 2008-07-11T19:00:00  \\nend : 2008-07-12T19:00:00  \\ncolor :#7f663f  \\n  <a href=\"https://google.com/search?q=the-goods-waterfront\" target=\"_blank\">the-goods-waterfront</a>', 'start': '2008-07-11T19:00:00', 'lat': 51.9166667, 'lng': 4.5, 'id': 'the-goods-waterfront514'}}, {'data': {'end': '2016-07-30T17:00:00', 'name': 'maison-de-la-musique', 'weight': 1.0, 'color': '#4c7f3f', 'notes': 'name : maison-de-la-musique  \\nlat : 44.010863  \\nlng :2.166889  \\n weight :1  \\nstart : 2016-07-29T17:00:00  \\nend : 2016-07-30T17:00:00  \\ncolor :#4c7f3f  \\n  <a href=\"https://google.com/search?q=maison-de-la-musique\" target=\"_blank\">maison-de-la-musique</a>', 'start': '2016-07-29T17:00:00', 'lat': 44.010863, 'lng': 2.166889, 'id': 'maison-de-la-musique442'}}, {'data': {'end': '2017-08-20T19:00:00', 'name': 'pod-parou', 'weight': 1.0, 'color': '#3f7f6c', 'notes': 'name : pod-parou  \\nlat : 49.2762985  \\nlng :16.9857998  \\n weight :1  \\nstart : 2017-08-19T19:00:00  \\nend : 2017-08-20T19:00:00  \\ncolor :#3f7f6c  \\n  <a href=\"https://google.com/search?q=pod-parou\" target=\"_blank\">pod-parou</a>', 'start': '2017-08-19T19:00:00', 'lat': 49.2762985, 'lng': 16.9857998, 'id': 'pod-parou4916'}}, {'data': {'end': '2012-01-30T19:00:00', 'name': 'boston-arms', 'weight': 1.0, 'color': '#5f3f7f', 'notes': 'name : boston-arms  \\nlat : 51.557057  \\nlng :-0.13832  \\n weight :1  \\nstart : 2012-01-29T19:00:00  \\nend : 2012-01-30T19:00:00  \\ncolor :#5f3f7f  \\n  <a href=\"https://google.com/search?q=boston-arms\" target=\"_blank\">boston-arms</a>', 'start': '2012-01-29T19:00:00', 'lat': 51.557057, 'lng': -0.13832, 'id': 'boston-arms510'}}, {'data': {'end': '2011-12-30T19:00:00', 'name': 'gruta-77', 'weight': 1.0, 'color': '#5f3f7f', 'notes': 'name : gruta-77  \\nlat : 40.39094  \\nlng :-3.731357  \\n weight :1  \\nstart : 2011-12-29T19:00:00  \\nend : 2011-12-30T19:00:00  \\ncolor :#5f3f7f  \\n  <a href=\"https://google.com/search?q=gruta-77\" target=\"_blank\">gruta-77</a>', 'start': '2011-12-29T19:00:00', 'lat': 40.39094, 'lng': -3.731357, 'id': 'gruta-7740-3'}}, {'data': {'end': '2008-11-26T20:30:00', 'name': 'melkweg', 'weight': 1.0, 'color': '#727f3f', 'notes': 'name : melkweg  \\nlat : 52.35  \\nlng :4.9166667  \\n weight :1  \\nstart : 2008-11-25T20:30:00  \\nend : 2008-11-26T20:30:00  \\ncolor :#727f3f  \\n  <a href=\"https://google.com/search?q=melkweg\" target=\"_blank\">melkweg</a>', 'start': '2008-11-25T20:30:00', 'lat': 52.35, 'lng': 4.9166667, 'id': 'melkweg524'}}, {'data': {'end': '2017-09-02T19:00:00', 'name': 'festival-tonnay-bon', 'weight': 1.0, 'color': '#3f7f6c', 'notes': 'name : festival-tonnay-bon  \\nlat : 45.97695  \\nlng :-0.7608  \\n weight :1  \\nstart : 2017-09-01T19:00:00  \\nend : 2017-09-02T19:00:00  \\ncolor :#3f7f6c  \\n  <a href=\"https://google.com/search?q=festival-tonnay-bon\" target=\"_blank\">festival-tonnay-bon</a>', 'start': '2017-09-01T19:00:00', 'lat': 45.97695, 'lng': -0.7608, 'id': 'festival-tonnay-bon450'}}, {'data': {'end': '2008-07-14T19:00:00', 'name': 'poeyelhei', 'weight': 1.0, 'color': '#7f663f', 'notes': 'name : poeyelhei  \\nlat : 51.2666667  \\nlng :4.85  \\n weight :1  \\nstart : 2008-07-13T19:00:00  \\nend : 2008-07-14T19:00:00  \\ncolor :#7f663f  \\n  <a href=\"https://google.com/search?q=poeyelhei\" target=\"_blank\">poeyelhei</a>', 'start': '2008-07-13T19:00:00', 'lat': 51.2666667, 'lng': 4.85, 'id': 'poeyelhei514'}}, {'data': {'end': '2015-06-14T19:00:00', 'name': 'the-brighton-bar', 'weight': 1.0, 'color': '#7f793f', 'notes': 'name : the-brighton-bar  \\nlat : 40.3041667  \\nlng :-73.9927778  \\n weight :1  \\nstart : 2015-06-13T19:00:00  \\nend : 2015-06-14T19:00:00  \\ncolor :#7f793f  \\n  <a href=\"https://google.com/search?q=the-brighton-bar\" target=\"_blank\">the-brighton-bar</a>', 'start': '2015-06-13T19:00:00', 'lat': 40.3041667, 'lng': -73.9927778, 'id': 'the-brighton-bar40-73'}}, {'data': {'end': '2015-05-21T19:00:00', 'name': 'fabryka', 'weight': 1.0, 'color': '#7f793f', 'notes': 'name : fabryka  \\nlat : 50.050434  \\nlng :19.960041  \\n weight :1  \\nstart : 2015-05-20T19:00:00  \\nend : 2015-05-21T19:00:00  \\ncolor :#7f793f  \\n  <a href=\"https://google.com/search?q=fabryka\" target=\"_blank\">fabryka</a>', 'start': '2015-05-20T19:00:00', 'lat': 50.050434, 'lng': 19.960041, 'id': 'fabryka5019'}}, {'data': {'end': '2017-03-16T20:00:00', 'name': 'the-well', 'weight': 1.0, 'color': '#3f7f46', 'notes': 'name : the-well  \\nlat : 49.89677  \\nlng :-119.485138  \\n weight :1  \\nstart : 2017-03-15T20:00:00  \\nend : 2017-03-16T20:00:00  \\ncolor :#3f7f46  \\n  <a href=\"https://google.com/search?q=the-well\" target=\"_blank\">the-well</a>', 'start': '2017-03-15T20:00:00', 'lat': 49.89677, 'lng': -119.485138, 'id': 'the-well49-119'}}, {'data': {'end': '2008-11-13T21:00:00', 'name': 'circolo-degli-artisti', 'weight': 1.0, 'color': '#727f3f', 'notes': 'name : circolo-degli-artisti  \\nlat : 41.887172  \\nlng :12.524101  \\n weight :1  \\nstart : 2008-11-12T21:00:00  \\nend : 2008-11-13T21:00:00  \\ncolor :#727f3f  \\n  <a href=\"https://google.com/search?q=circolo-degli-artisti\" target=\"_blank\">circolo-degli-artisti</a>', 'start': '2008-11-12T21:00:00', 'lat': 41.887172, 'lng': 12.524101, 'id': 'circolo-degli-artisti4112'}}, {'data': {'end': '2015-03-09T20:00:00', 'name': 'jasper-royal-canadian-legion', 'weight': 1.0, 'color': '#7f663f', 'notes': 'name : jasper-royal-canadian-legion  \\nlat : 52.87909  \\nlng :-118.081875  \\n weight :1  \\nstart : 2015-03-08T20:00:00  \\nend : 2015-03-09T20:00:00  \\ncolor :#7f663f  \\n  <a href=\"https://google.com/search?q=jasper-royal-canadian-legion\" target=\"_blank\">jasper-royal-canadian-legion</a>', 'start': '2015-03-08T20:00:00', 'lat': 52.87909, 'lng': -118.081875, 'id': 'jasper-royal-canadian-legion52-118'}}, {'data': {'end': '2017-08-25T19:00:00', 'name': 'alte-weberei', 'weight': 1.0, 'color': '#3f7f6c', 'notes': 'name : alte-weberei  \\nlat : 51.902161  \\nlng :8.3771565  \\n weight :1  \\nstart : 2017-08-24T19:00:00  \\nend : 2017-08-25T19:00:00  \\ncolor :#3f7f6c  \\n  <a href=\"https://google.com/search?q=alte-weberei\" target=\"_blank\">alte-weberei</a>', 'start': '2017-08-24T19:00:00', 'lat': 51.902161, 'lng': 8.3771565, 'id': 'alte-weberei518'}}, {'data': {'end': '2009-03-18T20:00:00', 'name': 'whiskey', 'weight': 1.0, 'color': '#4c7f3f', 'notes': 'name : whiskey  \\nlat : 51.043332  \\nlng :-114.068989  \\n weight :1  \\nstart : 2009-03-17T20:00:00  \\nend : 2009-03-18T20:00:00  \\ncolor :#4c7f3f  \\n  <a href=\"https://google.com/search?q=whiskey\" target=\"_blank\">whiskey</a>', 'start': '2009-03-17T20:00:00', 'lat': 51.043332, 'lng': -114.068989, 'id': 'whiskey51-114'}}, {'data': {'end': '2017-08-15T19:00:00', 'name': 'l-entrepot', 'weight': 1.0, 'color': '#3f7f6c', 'notes': 'name : l-entrepot  \\nlat : 49.681217  \\nlng :5.805781  \\n weight :1  \\nstart : 2017-08-14T19:00:00  \\nend : 2017-08-15T19:00:00  \\ncolor :#3f7f6c  \\n  <a href=\"https://google.com/search?q=l-entrepot\" target=\"_blank\">l-entrepot</a>', 'start': '2017-08-14T19:00:00', 'lat': 49.681217, 'lng': 5.805781, 'id': 'l-entrepot495'}}, {'data': {'end': '2013-03-13T19:00:00', 'name': 'bailey-s-pub', 'weight': 1.0, 'color': '#7f3f65', 'notes': 'name : bailey-s-pub  \\nlat : 50.7054482  \\nlng :-120.3636932  \\n weight :1  \\nstart : 2013-03-12T19:00:00  \\nend : 2013-03-13T19:00:00  \\ncolor :#7f3f65  \\n  <a href=\"https://google.com/search?q=bailey-s-pub\" target=\"_blank\">bailey-s-pub</a>', 'start': '2013-03-12T19:00:00', 'lat': 50.7054482, 'lng': -120.3636932, 'id': 'bailey-s-pub50-120'}}, {'data': {'end': '2017-04-25T00:00:00', 'name': 'walfisch', 'weight': 1.5537739740300374, 'color': '#3f7f59', 'notes': 'name : walfisch  \\nlat : 47.988467  \\nlng :7.862211  \\n weight :5.82842712475  \\nstart : 2012-08-01T19:00:00  \\nend : 2017-04-25T00:00:00  \\ncolor :#3f7f59  \\n  <a href=\"https://google.com/search?q=walfisch\" target=\"_blank\">walfisch</a>', 'start': '2012-08-01T19:00:00', 'lat': 47.988467, 'lng': 7.862211, 'id': 'walfisch477'}}, {'data': {'end': '2012-06-16T20:00:00', 'name': 'emo-s-east', 'weight': 1.0, 'color': '#723f7f', 'notes': 'name : emo-s-east  \\nlat : 30.2669444  \\nlng :-97.7427778  \\n weight :1  \\nstart : 2012-06-15T20:00:00  \\nend : 2012-06-16T20:00:00  \\ncolor :#723f7f  \\n  <a href=\"https://google.com/search?q=emo-s-east\" target=\"_blank\">emo-s-east</a>', 'start': '2012-06-15T20:00:00', 'lat': 30.2669444, 'lng': -97.7427778, 'id': 'emo-s-east30-97'}}, {'data': {'end': '2008-07-11T19:00:00', 'name': 'le-baron', 'weight': 1.0, 'color': '#7f663f', 'notes': 'name : le-baron  \\nlat : 50.1333333  \\nlng :3.4166667  \\n weight :1  \\nstart : 2008-07-10T19:00:00  \\nend : 2008-07-11T19:00:00  \\ncolor :#7f663f  \\n  <a href=\"https://google.com/search?q=le-baron\" target=\"_blank\">le-baron</a>', 'start': '2008-07-10T19:00:00', 'lat': 50.1333333, 'lng': 3.4166667, 'id': 'le-baron503'}}, {'data': {'end': '2017-06-01T00:00:00', 'name': 'strom', 'weight': 1.0, 'color': '#3f7f59', 'notes': 'name : strom  \\nlat : 51.5767212  \\nlng :11.8301401  \\n weight :1  \\nstart : 2017-05-31T00:00:00  \\nend : 2017-06-01T00:00:00  \\ncolor :#3f7f59  \\n  <a href=\"https://google.com/search?q=strom\" target=\"_blank\">strom</a>', 'start': '2017-05-31T00:00:00', 'lat': 51.5767212, 'lng': 11.8301401, 'id': 'strom5111'}}, {'data': {'end': '2017-03-21T20:00:00', 'name': 'wild-bill-s', 'weight': 1.4142135623730951, 'color': '#3f7f46', 'notes': 'name : wild-bill-s  \\nlat : 51.176783  \\nlng :-115.571033  \\n weight :4.0  \\nstart : 2007-07-17T00:00:00  \\nend : 2017-03-21T20:00:00  \\ncolor :#3f7f46  \\n  <a href=\"https://google.com/search?q=wild-bill-s\" target=\"_blank\">wild-bill-s</a>', 'start': '2007-07-17T00:00:00', 'lat': 51.176783, 'lng': -115.571033, 'id': 'wild-bill-s51-115'}}, {'data': {'end': '2012-07-19T19:00:00', 'name': 'john-dee-oslo', 'weight': 1.0, 'color': '#7f3f79', 'notes': 'name : john-dee-oslo  \\nlat : 59.91584  \\nlng :10.75025  \\n weight :1  \\nstart : 2012-07-18T19:00:00  \\nend : 2012-07-19T19:00:00  \\ncolor :#7f3f79  \\n  <a href=\"https://google.com/search?q=john-dee-oslo\" target=\"_blank\">john-dee-oslo</a>', 'start': '2012-07-18T19:00:00', 'lat': 59.91584, 'lng': 10.75025, 'id': 'john-dee-oslo5910'}}, {'data': {'end': '2012-07-30T19:00:00', 'name': 'folk-festival', 'weight': 1.0, 'color': '#7f3f79', 'notes': 'name : folk-festival  \\nlat : 45.6486692  \\nlng :9.2820753  \\n weight :1  \\nstart : 2012-07-29T19:00:00  \\nend : 2012-07-30T19:00:00  \\ncolor :#7f3f79  \\n  <a href=\"https://google.com/search?q=folk-festival\" target=\"_blank\">folk-festival</a>', 'start': '2012-07-29T19:00:00', 'lat': 45.6486692, 'lng': 9.2820753, 'id': 'folk-festival459'}}, {'data': {'end': '2008-07-30T19:00:00', 'name': 'lagerhaus', 'weight': 1.0, 'color': '#7f663f', 'notes': 'name : lagerhaus  \\nlat : 53.07194  \\nlng :8.82243  \\n weight :1  \\nstart : 2008-07-29T19:00:00  \\nend : 2008-07-30T19:00:00  \\ncolor :#7f663f  \\n  <a href=\"https://google.com/search?q=lagerhaus\" target=\"_blank\">lagerhaus</a>', 'start': '2008-07-29T19:00:00', 'lat': 53.07194, 'lng': 8.82243, 'id': 'lagerhaus538'}}, {'data': {'end': '2017-05-22T19:00:00', 'name': 'pouzza-fest', 'weight': 1.0, 'color': '#3f7f59', 'notes': 'name : pouzza-fest  \\nlat : 45.5  \\nlng :-73.5833333  \\n weight :1  \\nstart : 2017-05-21T19:00:00  \\nend : 2017-05-22T19:00:00  \\ncolor :#3f7f59  \\n  <a href=\"https://google.com/search?q=pouzza-fest\" target=\"_blank\">pouzza-fest</a>', 'start': '2017-05-21T19:00:00', 'lat': 45.5, 'lng': -73.5833333, 'id': 'pouzza-fest45-73'}}, {'data': {'end': '2012-02-11T20:00:00', 'name': 'bibelot', 'weight': 1.0, 'color': '#5f3f7f', 'notes': 'name : bibelot  \\nlat : 51.815577  \\nlng :4.679853  \\n weight :1  \\nstart : 2012-02-10T20:00:00  \\nend : 2012-02-11T20:00:00  \\ncolor :#5f3f7f  \\n  <a href=\"https://google.com/search?q=bibelot\" target=\"_blank\">bibelot</a>', 'start': '2012-02-10T20:00:00', 'lat': 51.815577, 'lng': 4.679853, 'id': 'bibelot514'}}, {'data': {'end': '2017-03-26T20:00:00', 'name': 'better-than-fried-s', 'weight': 1.4142135623730951, 'color': '#3f7f46', 'notes': 'name : better-than-fried-s  \\nlat : 55.1700516  \\nlng :-118.7974319  \\n weight :4.0  \\nstart : 2016-03-26T19:00:00  \\nend : 2017-03-26T20:00:00  \\ncolor :#3f7f46  \\n  <a href=\"https://google.com/search?q=better-than-fried-s\" target=\"_blank\">better-than-fried-s</a>', 'start': '2016-03-26T19:00:00', 'lat': 55.1700516, 'lng': -118.7974319, 'id': 'better-than-fried-s55-118'}}, {'data': {'end': '2017-03-11T00:00:00', 'name': 'churchill-s-pub', 'weight': 1.0, 'color': '#3f7f46', 'notes': 'name : churchill-s-pub  \\nlat : 25.826249  \\nlng :-80.191757  \\n weight :1  \\nstart : 2017-03-10T00:00:00  \\nend : 2017-03-11T00:00:00  \\ncolor :#3f7f46  \\n  <a href=\"https://google.com/search?q=churchill-s-pub\" target=\"_blank\">churchill-s-pub</a>', 'start': '2017-03-10T00:00:00', 'lat': 25.826249, 'lng': -80.191757, 'id': 'churchill-s-pub25-80'}}, {'data': {'end': '2017-05-29T19:00:00', 'name': 'punk-rock-bowling', 'weight': 1.5537739740300374, 'color': '#3f7f59', 'notes': 'name : punk-rock-bowling  \\nlat : 36.1710625  \\nlng :-115.1401215  \\n weight :5.82842712475  \\nstart : 2012-05-26T19:00:00  \\nend : 2017-05-29T19:00:00  \\ncolor :#3f7f59  \\n  <a href=\"https://google.com/search?q=punk-rock-bowling\" target=\"_blank\">punk-rock-bowling</a>', 'start': '2012-05-26T19:00:00', 'lat': 36.1710625, 'lng': -115.1401215, 'id': 'punk-rock-bowling36-115'}}, {'data': {'end': '2009-02-09T19:00:00', 'name': 'clash', 'weight': 1.0, 'color': '#5f7f3f', 'notes': 'name : clash  \\nlat : 52.492094  \\nlng :13.388102  \\n weight :1  \\nstart : 2009-02-08T19:00:00  \\nend : 2009-02-09T19:00:00  \\ncolor :#5f7f3f  \\n  <a href=\"https://google.com/search?q=clash\" target=\"_blank\">clash</a>', 'start': '2009-02-08T19:00:00', 'lat': 52.492094, 'lng': 13.388102, 'id': 'clash5213'}}, {'data': {'end': '2008-11-27T19:00:00', 'name': 'willemmen', 'weight': 1.0, 'color': '#727f3f', 'notes': 'name : willemmen  \\nlat : 51.98333  \\nlng :5.90374  \\n weight :1  \\nstart : 2008-11-26T19:00:00  \\nend : 2008-11-27T19:00:00  \\ncolor :#727f3f  \\n  <a href=\"https://google.com/search?q=willemmen\" target=\"_blank\">willemmen</a>', 'start': '2008-11-26T19:00:00', 'lat': 51.98333, 'lng': 5.90374, 'id': 'willemmen515'}}, {'data': {'end': '2009-01-26T14:00:00', 'name': 'stereo-glasgow', 'weight': 1.0, 'color': '#5f7f3f', 'notes': 'name : stereo-glasgow  \\nlat : 55.8611258  \\nlng :-4.2579503  \\n weight :1  \\nstart : 2009-01-25T14:00:00  \\nend : 2009-01-26T14:00:00  \\ncolor :#5f7f3f  \\n  <a href=\"https://google.com/search?q=stereo-glasgow\" target=\"_blank\">stereo-glasgow</a>', 'start': '2009-01-25T14:00:00', 'lat': 55.8611258, 'lng': -4.2579503, 'id': 'stereo-glasgow55-4'}}, {'data': {'end': '2017-05-12T00:00:00', 'name': 'willemen', 'weight': 1.0, 'color': '#3f7f59', 'notes': 'name : willemen  \\nlat : 51.9833333  \\nlng :5.9166667  \\n weight :1  \\nstart : 2017-05-11T00:00:00  \\nend : 2017-05-12T00:00:00  \\ncolor :#3f7f59  \\n  <a href=\"https://google.com/search?q=willemen\" target=\"_blank\">willemen</a>', 'start': '2017-05-11T00:00:00', 'lat': 51.9833333, 'lng': 5.9166667, 'id': 'willemen515'}}, {'data': {'end': '2016-07-08T20:30:00', 'name': 'poppodium-q-factory', 'weight': 1.0, 'color': '#4c7f3f', 'notes': 'name : poppodium-q-factory  \\nlat : 52.3576  \\nlng :4.9305  \\n weight :1  \\nstart : 2016-07-07T20:30:00  \\nend : 2016-07-08T20:30:00  \\ncolor :#4c7f3f  \\n  <a href=\"https://google.com/search?q=poppodium-q-factory\" target=\"_blank\">poppodium-q-factory</a>', 'start': '2016-07-07T20:30:00', 'lat': 52.3576, 'lng': 4.9305, 'id': 'poppodium-q-factory524'}}, {'data': {'end': '2014-03-07T19:00:00', 'name': 'the-wise-hall', 'weight': 1.4142135623730951, 'color': '#7f3f52', 'notes': 'name : the-wise-hall  \\nlat : 49.2772408  \\nlng :-123.0660934  \\n weight :4.0  \\nstart : 2013-03-07T20:00:00  \\nend : 2014-03-07T19:00:00  \\ncolor :#7f3f52  \\n  <a href=\"https://google.com/search?q=the-wise-hall\" target=\"_blank\">the-wise-hall</a>', 'start': '2013-03-07T20:00:00', 'lat': 49.2772408, 'lng': -123.0660934, 'id': 'the-wise-hall49-123'}}, {'data': {'end': '2017-08-06T00:00:00', 'name': 'brakrock', 'weight': 1.0, 'color': '#3f7f6c', 'notes': 'name : brakrock  \\nlat : 51.0908012  \\nlng :4.49754  \\n weight :1  \\nstart : 2017-08-05T00:00:00  \\nend : 2017-08-06T00:00:00  \\ncolor :#3f7f6c  \\n  <a href=\"https://google.com/search?q=brakrock\" target=\"_blank\">brakrock</a>', 'start': '2017-08-05T00:00:00', 'lat': 51.0908012, 'lng': 4.49754, 'id': 'brakrock514'}}, {'data': {'end': '2012-05-04T22:00:00', 'name': 'starlight', 'weight': 1.0, 'color': '#723f7f', 'notes': 'name : starlight  \\nlat : 43.46649  \\nlng :-80.52306  \\n weight :1  \\nstart : 2012-05-03T22:00:00  \\nend : 2012-05-04T22:00:00  \\ncolor :#723f7f  \\n  <a href=\"https://google.com/search?q=starlight\" target=\"_blank\">starlight</a>', 'start': '2012-05-03T22:00:00', 'lat': 43.46649, 'lng': -80.52306, 'id': 'starlight43-80'}}, {'data': {'end': '2007-07-19T00:00:00', 'name': 'the-warehouse-calgary', 'weight': 1.0, 'color': '#7f3f3f', 'notes': 'name : the-warehouse-calgary  \\nlat : 51.04522  \\nlng :-114.063014  \\n weight :1  \\nstart : 2007-07-18T00:00:00  \\nend : 2007-07-19T00:00:00  \\ncolor :#7f3f3f  \\n  <a href=\"https://google.com/search?q=the-warehouse-calgary\" target=\"_blank\">the-warehouse-calgary</a>', 'start': '2007-07-18T00:00:00', 'lat': 51.04522, 'lng': -114.063014, 'id': 'the-warehouse-calgary51-114'}}, {'data': {'end': '2012-06-08T20:00:00', 'name': 'middle-east', 'weight': 1.0, 'color': '#723f7f', 'notes': 'name : middle-east  \\nlat : 42.363648  \\nlng :-71.101038  \\n weight :1  \\nstart : 2012-06-07T20:00:00  \\nend : 2012-06-08T20:00:00  \\ncolor :#723f7f  \\n  <a href=\"https://google.com/search?q=middle-east\" target=\"_blank\">middle-east</a>', 'start': '2012-06-07T20:00:00', 'lat': 42.363648, 'lng': -71.101038, 'id': 'middle-east42-71'}}, {'data': {'end': '2017-08-19T12:00:00', 'name': 'site-de-kerboulard', 'weight': 1.0, 'color': '#3f7f6c', 'notes': 'name : site-de-kerboulard  \\nlat : 47.6957196  \\nlng :-2.6384536  \\n weight :1  \\nstart : 2017-08-18T12:00:00  \\nend : 2017-08-19T12:00:00  \\ncolor :#3f7f6c  \\n  <a href=\"https://google.com/search?q=site-de-kerboulard\" target=\"_blank\">site-de-kerboulard</a>', 'start': '2017-08-18T12:00:00', 'lat': 47.6957196, 'lng': -2.6384536, 'id': 'site-de-kerboulard47-2'}}, {'data': {'end': '2008-07-21T19:00:00', 'name': 'musikkantine', 'weight': 1.0, 'color': '#7f663f', 'notes': 'name : musikkantine  \\nlat : 48.414024  \\nlng :10.869528  \\n weight :1  \\nstart : 2008-07-20T19:00:00  \\nend : 2008-07-21T19:00:00  \\ncolor :#7f663f  \\n  <a href=\"https://google.com/search?q=musikkantine\" target=\"_blank\">musikkantine</a>', 'start': '2008-07-20T19:00:00', 'lat': 48.414024, 'lng': 10.869528, 'id': 'musikkantine4810'}}, {'data': {'end': '2012-05-31T19:30:00', 'name': 'black-sheep', 'weight': 1.0, 'color': '#723f7f', 'notes': 'name : black-sheep  \\nlat : 38.837115  \\nlng :-104.789914  \\n weight :1  \\nstart : 2012-05-30T19:30:00  \\nend : 2012-05-31T19:30:00  \\ncolor :#723f7f  \\n  <a href=\"https://google.com/search?q=black-sheep\" target=\"_blank\">black-sheep</a>', 'start': '2012-05-30T19:30:00', 'lat': 38.837115, 'lng': -104.789914, 'id': 'black-sheep38-104'}}, {'data': {'end': '2012-02-03T19:00:00', 'name': 'landespavillon', 'weight': 1.4142135623730951, 'color': '#5f3f7f', 'notes': 'name : landespavillon  \\nlat : 48.781904  \\nlng :9.185876  \\n weight :4.0  \\nstart : 2008-11-19T19:00:00  \\nend : 2012-02-03T19:00:00  \\ncolor :#5f3f7f  \\n  <a href=\"https://google.com/search?q=landespavillon\" target=\"_blank\">landespavillon</a>', 'start': '2008-11-19T19:00:00', 'lat': 48.781904, 'lng': 9.185876, 'id': 'landespavillon489'}}, {'data': {'end': '2007-08-27T19:00:00', 'name': 'el-rey', 'weight': 1.0, 'color': '#7f523f', 'notes': 'name : el-rey  \\nlat : 34.101555  \\nlng :-118.337209  \\n weight :1  \\nstart : 2007-08-26T19:00:00  \\nend : 2007-08-27T19:00:00  \\ncolor :#7f523f  \\n  <a href=\"https://google.com/search?q=el-rey\" target=\"_blank\">el-rey</a>', 'start': '2007-08-26T19:00:00', 'lat': 34.101555, 'lng': -118.337209, 'id': 'el-rey34-118'}}, {'data': {'end': '2008-07-17T19:00:00', 'name': 'druckluft', 'weight': 1.0, 'color': '#7f663f', 'notes': 'name : druckluft  \\nlat : 51.4666667  \\nlng :6.85  \\n weight :1  \\nstart : 2008-07-16T19:00:00  \\nend : 2008-07-17T19:00:00  \\ncolor :#7f663f  \\n  <a href=\"https://google.com/search?q=druckluft\" target=\"_blank\">druckluft</a>', 'start': '2008-07-16T19:00:00', 'lat': 51.4666667, 'lng': 6.85, 'id': 'druckluft516'}}, {'data': {'end': '2015-06-16T20:00:00', 'name': 'sellersville-theater-1894', 'weight': 1.0, 'color': '#7f793f', 'notes': 'name : sellersville-theater-1894  \\nlat : 40.359346  \\nlng :-75.31163  \\n weight :1  \\nstart : 2015-06-15T20:00:00  \\nend : 2015-06-16T20:00:00  \\ncolor :#7f793f  \\n  <a href=\"https://google.com/search?q=sellersville-theater-1894\" target=\"_blank\">sellersville-theater-1894</a>', 'start': '2015-06-15T20:00:00', 'lat': 40.359346, 'lng': -75.31163, 'id': 'sellersville-theater-189440-75'}}, {'data': {'end': '2015-05-05T19:00:00', 'name': 'le-batofar', 'weight': 1.0, 'color': '#7f793f', 'notes': 'name : le-batofar  \\nlat : 48.8339806  \\nlng :2.3774982  \\n weight :1  \\nstart : 2015-05-04T19:00:00  \\nend : 2015-05-05T19:00:00  \\ncolor :#7f793f  \\n  <a href=\"https://google.com/search?q=le-batofar\" target=\"_blank\">le-batofar</a>', 'start': '2015-05-04T19:00:00', 'lat': 48.8339806, 'lng': 2.3774982, 'id': 'le-batofar482'}}, {'data': {'end': '2017-05-02T20:30:00', 'name': 'speicher-husum', 'weight': 1.0, 'color': '#3f7f59', 'notes': 'name : speicher-husum  \\nlat : 54.47519  \\nlng :9.047471  \\n weight :1  \\nstart : 2017-05-01T20:30:00  \\nend : 2017-05-02T20:30:00  \\ncolor :#3f7f59  \\n  <a href=\"https://google.com/search?q=speicher-husum\" target=\"_blank\">speicher-husum</a>', 'start': '2017-05-01T20:30:00', 'lat': 54.47519, 'lng': 9.047471, 'id': 'speicher-husum549'}}, {'data': {'end': '2012-01-11T20:00:00', 'name': 'la-scene-michelet', 'weight': 1.0, 'color': '#5f3f7f', 'notes': 'name : la-scene-michelet  \\nlat : 47.2185047  \\nlng :-1.5446583  \\n weight :1  \\nstart : 2012-01-10T20:00:00  \\nend : 2012-01-11T20:00:00  \\ncolor :#5f3f7f  \\n  <a href=\"https://google.com/search?q=la-scene-michelet\" target=\"_blank\">la-scene-michelet</a>', 'start': '2012-01-10T20:00:00', 'lat': 47.2185047, 'lng': -1.5446583, 'id': 'la-scene-michelet47-1'}}, {'data': {'end': '2017-09-09T19:00:00', 'name': 'bannermans', 'weight': 1.0, 'color': '#3f7f6c', 'notes': 'name : bannermans  \\nlat : 55.9489109  \\nlng :-3.1863718  \\n weight :1  \\nstart : 2017-09-08T19:00:00  \\nend : 2017-09-09T19:00:00  \\ncolor :#3f7f6c  \\n  <a href=\"https://google.com/search?q=bannermans\" target=\"_blank\">bannermans</a>', 'start': '2017-09-08T19:00:00', 'lat': 55.9489109, 'lng': -3.1863718, 'id': 'bannermans55-3'}}, {'data': {'end': '2012-02-09T20:00:00', 'name': 'paradiso-kleine-zaal', 'weight': 1.0, 'color': '#5f3f7f', 'notes': 'name : paradiso-kleine-zaal  \\nlat : 52.3622818  \\nlng :4.8839502  \\n weight :1  \\nstart : 2012-02-08T20:00:00  \\nend : 2012-02-09T20:00:00  \\ncolor :#5f3f7f  \\n  <a href=\"https://google.com/search?q=paradiso-kleine-zaal\" target=\"_blank\">paradiso-kleine-zaal</a>', 'start': '2012-02-08T20:00:00', 'lat': 52.3622818, 'lng': 4.8839502, 'id': 'paradiso-kleine-zaal524'}}, {'data': {'end': '2009-04-13T22:00:00', 'name': 'sugar-nightclub', 'weight': 1.0, 'color': '#4c7f3f', 'notes': 'name : sugar-nightclub  \\nlat : 48.425953  \\nlng :-123.360418  \\n weight :1  \\nstart : 2009-04-12T22:00:00  \\nend : 2009-04-13T22:00:00  \\ncolor :#4c7f3f  \\n  <a href=\"https://google.com/search?q=sugar-nightclub\" target=\"_blank\">sugar-nightclub</a>', 'start': '2009-04-12T22:00:00', 'lat': 48.425953, 'lng': -123.360418, 'id': 'sugar-nightclub48-123'}}, {'data': {'end': '2015-06-11T20:00:00', 'name': 'the-bowery-electric', 'weight': 1.0, 'color': '#7f793f', 'notes': 'name : the-bowery-electric  \\nlat : 40.7257  \\nlng :-73.991676  \\n weight :1  \\nstart : 2015-06-10T20:00:00  \\nend : 2015-06-11T20:00:00  \\ncolor :#7f793f  \\n  <a href=\"https://google.com/search?q=the-bowery-electric\" target=\"_blank\">the-bowery-electric</a>', 'start': '2015-06-10T20:00:00', 'lat': 40.7257, 'lng': -73.991676, 'id': 'the-bowery-electric40-73'}}, {'data': {'end': '2012-01-31T19:00:00', 'name': 'bei-chez-heinz', 'weight': 1.5537739740300374, 'color': '#5f3f7f', 'notes': 'name : bei-chez-heinz  \\nlat : 52.372008  \\nlng :9.697041  \\n weight :5.82842712475  \\nstart : 2009-02-02T19:00:00  \\nend : 2012-01-31T19:00:00  \\ncolor :#5f3f7f  \\n  <a href=\"https://google.com/search?q=bei-chez-heinz\" target=\"_blank\">bei-chez-heinz</a>', 'start': '2009-02-02T19:00:00', 'lat': 52.372008, 'lng': 9.697041, 'id': 'bei-chez-heinz529'}}, {'data': {'end': '2012-06-13T19:00:00', 'name': 'cat-s-cradle', 'weight': 1.0, 'color': '#723f7f', 'notes': 'name : cat-s-cradle  \\nlat : 35.910615  \\nlng :-79.068873  \\n weight :1  \\nstart : 2012-06-12T19:00:00  \\nend : 2012-06-13T19:00:00  \\ncolor :#723f7f  \\n  <a href=\"https://google.com/search?q=cat-s-cradle\" target=\"_blank\">cat-s-cradle</a>', 'start': '2012-06-12T19:00:00', 'lat': 35.910615, 'lng': -79.068873, 'id': 'cat-s-cradle35-79'}}, {'data': {'end': '2010-01-28T18:00:00', 'name': 'the-good-ship', 'weight': 1.0, 'color': '#3f7f6c', 'notes': 'name : the-good-ship  \\nlat : 51.543482  \\nlng :-0.199934  \\n weight :1  \\nstart : 2010-01-27T18:00:00  \\nend : 2010-01-28T18:00:00  \\ncolor :#3f7f6c  \\n  <a href=\"https://google.com/search?q=the-good-ship\" target=\"_blank\">the-good-ship</a>', 'start': '2010-01-27T18:00:00', 'lat': 51.543482, 'lng': -0.199934, 'id': 'the-good-ship510'}}, {'data': {'end': '2017-03-03T20:00:00', 'name': 'upstairs-cabaret', 'weight': 1.4142135623730951, 'color': '#3f7f46', 'notes': 'name : upstairs-cabaret  \\nlat : 48.4257202  \\nlng :-123.3694687  \\n weight :4.0  \\nstart : 2016-03-11T19:00:00  \\nend : 2017-03-03T20:00:00  \\ncolor :#3f7f46  \\n  <a href=\"https://google.com/search?q=upstairs-cabaret\" target=\"_blank\">upstairs-cabaret</a>', 'start': '2016-03-11T19:00:00', 'lat': 48.4257202, 'lng': -123.3694687, 'id': 'upstairs-cabaret48-123'}}, {'data': {'end': '2009-01-31T19:00:00', 'name': 'ninkasi-ale-house', 'weight': 1.0, 'color': '#5f7f3f', 'notes': 'name : ninkasi-ale-house  \\nlat : 45.75  \\nlng :4.85  \\n weight :1  \\nstart : 2009-01-30T19:00:00  \\nend : 2009-01-31T19:00:00  \\ncolor :#5f7f3f  \\n  <a href=\"https://google.com/search?q=ninkasi-ale-house\" target=\"_blank\">ninkasi-ale-house</a>', 'start': '2009-01-30T19:00:00', 'lat': 45.75, 'lng': 4.85, 'id': 'ninkasi-ale-house454'}}, {'data': {'end': '2017-08-03T19:00:00', 'name': 'silo-1', 'weight': 1.0, 'color': '#3f7f6c', 'notes': 'name : silo-1  \\nlat : 48.250963  \\nlng :12.588911  \\n weight :1  \\nstart : 2017-08-02T19:00:00  \\nend : 2017-08-03T19:00:00  \\ncolor :#3f7f6c  \\n  <a href=\"https://google.com/search?q=silo-1\" target=\"_blank\">silo-1</a>', 'start': '2017-08-02T19:00:00', 'lat': 48.250963, 'lng': 12.588911, 'id': 'silo-14812'}}, {'data': {'end': '2017-04-27T00:00:00', 'name': 'db-s', 'weight': 1.0, 'color': '#3f7f59', 'notes': 'name : db-s  \\nlat : 52.102243  \\nlng :5.088609  \\n weight :1  \\nstart : 2017-04-26T00:00:00  \\nend : 2017-04-27T00:00:00  \\ncolor :#3f7f59  \\n  <a href=\"https://google.com/search?q=db-s\" target=\"_blank\">db-s</a>', 'start': '2017-04-26T00:00:00', 'lat': 52.102243, 'lng': 5.088609, 'id': 'db-s525'}}, {'data': {'end': '2008-07-19T19:00:00', 'name': 'hangar', 'weight': 1.0, 'color': '#7f663f', 'notes': 'name : hangar  \\nlat : 51.8333333  \\nlng :12.25  \\n weight :1  \\nstart : 2008-07-18T19:00:00  \\nend : 2008-07-19T19:00:00  \\ncolor :#7f663f  \\n  <a href=\"https://google.com/search?q=hangar\" target=\"_blank\">hangar</a>', 'start': '2008-07-18T19:00:00', 'lat': 51.8333333, 'lng': 12.25, 'id': 'hangar5112'}}, {'data': {'end': '2012-08-04T19:00:00', 'name': 'la-miroiterie', 'weight': 1.0, 'color': '#7f3f79', 'notes': 'name : la-miroiterie  \\nlat : 48.8690455  \\nlng :2.3914513  \\n weight :1  \\nstart : 2012-08-03T19:00:00  \\nend : 2012-08-04T19:00:00  \\ncolor :#7f3f79  \\n  <a href=\"https://google.com/search?q=la-miroiterie\" target=\"_blank\">la-miroiterie</a>', 'start': '2012-08-03T19:00:00', 'lat': 48.8690455, 'lng': 2.3914513, 'id': 'la-miroiterie482'}}, {'data': {'end': '2017-03-18T21:00:00', 'name': 'dickens', 'weight': 1.6118477541252516, 'color': '#3f7f46', 'notes': 'name : dickens  \\nlat : 51.04519  \\nlng :-114.083961  \\n weight :6.74988033899  \\nstart : 2013-03-16T20:00:00  \\nend : 2017-03-18T21:00:00  \\ncolor :#3f7f46  \\n  <a href=\"https://google.com/search?q=dickens\" target=\"_blank\">dickens</a>', 'start': '2013-03-16T20:00:00', 'lat': 51.04519, 'lng': -114.083961, 'id': 'dickens51-114'}}, {'data': {'end': '2017-06-20T19:00:00', 'name': 'wild-at-heart', 'weight': 1.0, 'color': '#3f7f59', 'notes': 'name : wild-at-heart  \\nlat : 52.497548  \\nlng :13.431082  \\n weight :1  \\nstart : 2017-06-19T19:00:00  \\nend : 2017-06-20T19:00:00  \\ncolor :#3f7f59  \\n  <a href=\"https://google.com/search?q=wild-at-heart\" target=\"_blank\">wild-at-heart</a>', 'start': '2017-06-19T19:00:00', 'lat': 52.497548, 'lng': 13.431082, 'id': 'wild-at-heart5213'}}, {'data': {'end': '2012-01-24T19:00:00', 'name': 'the-croft', 'weight': 1.0, 'color': '#5f3f7f', 'notes': 'name : the-croft  \\nlat : 51.463623  \\nlng :-2.590027  \\n weight :1  \\nstart : 2012-01-23T19:00:00  \\nend : 2012-01-24T19:00:00  \\ncolor :#5f3f7f  \\n  <a href=\"https://google.com/search?q=the-croft\" target=\"_blank\">the-croft</a>', 'start': '2012-01-23T19:00:00', 'lat': 51.463623, 'lng': -2.590027, 'id': 'the-croft51-2'}}, {'data': {'end': '2012-01-29T19:00:00', 'name': 'the-riverside', 'weight': 1.0, 'color': '#5f3f7f', 'notes': 'name : the-riverside  \\nlat : 52.4333333  \\nlng :-3.1166667  \\n weight :1  \\nstart : 2012-01-28T19:00:00  \\nend : 2012-01-29T19:00:00  \\ncolor :#5f3f7f  \\n  <a href=\"https://google.com/search?q=the-riverside\" target=\"_blank\">the-riverside</a>', 'start': '2012-01-28T19:00:00', 'lat': 52.4333333, 'lng': -3.1166667, 'id': 'the-riverside52-3'}}, {'data': {'end': '2009-02-21T19:00:00', 'name': 'tba', 'weight': 1.0, 'color': '#5f7f3f', 'notes': 'name : tba  \\nlat : 59.9493753  \\nlng :30.2522702  \\n weight :1  \\nstart : 2009-02-20T19:00:00  \\nend : 2009-02-21T19:00:00  \\ncolor :#5f7f3f  \\n  <a href=\"https://google.com/search?q=tba\" target=\"_blank\">tba</a>', 'start': '2009-02-20T19:00:00', 'lat': 59.9493753, 'lng': 30.2522702, 'id': 'tba5930'}}, {'data': {'end': '2016-03-11T19:00:00', 'name': 'venue-nightclub', 'weight': 1.0, 'color': '#5f7f3f', 'notes': 'name : venue-nightclub  \\nlat : 49.28068  \\nlng :-123.121163  \\n weight :1  \\nstart : 2016-03-10T19:00:00  \\nend : 2016-03-11T19:00:00  \\ncolor :#5f7f3f  \\n  <a href=\"https://google.com/search?q=venue-nightclub\" target=\"_blank\">venue-nightclub</a>', 'start': '2016-03-10T19:00:00', 'lat': 49.28068, 'lng': -123.121163, 'id': 'venue-nightclub49-123'}}, {'data': {'end': '2014-09-20T20:00:00', 'name': 'strummer-s', 'weight': 1.0, 'color': '#7f523f', 'notes': 'name : strummer-s  \\nlat : 36.7587458  \\nlng :-119.8005123  \\n weight :1  \\nstart : 2014-09-19T20:00:00  \\nend : 2014-09-20T20:00:00  \\ncolor :#7f523f  \\n  <a href=\"https://google.com/search?q=strummer-s\" target=\"_blank\">strummer-s</a>', 'start': '2014-09-19T20:00:00', 'lat': 36.7587458, 'lng': -119.8005123, 'id': 'strummer-s36-119'}}, {'data': {'end': '2013-03-15T20:00:00', 'name': 'the-royal', 'weight': 1.0, 'color': '#7f3f65', 'notes': 'name : the-royal  \\nlat : 49.490939  \\nlng :-117.296495  \\n weight :1  \\nstart : 2013-03-14T20:00:00  \\nend : 2013-03-15T20:00:00  \\ncolor :#7f3f65  \\n  <a href=\"https://google.com/search?q=the-royal\" target=\"_blank\">the-royal</a>', 'start': '2013-03-14T20:00:00', 'lat': 49.490939, 'lng': -117.296495, 'id': 'the-royal49-117'}}, {'data': {'end': '2009-02-02T19:00:00', 'name': 'la-pena-festare', 'weight': 1.0, 'color': '#5f7f3f', 'notes': 'name : la-pena-festare  \\nlat : 48.8666667  \\nlng :2.3333333  \\n weight :1  \\nstart : 2009-02-01T19:00:00  \\nend : 2009-02-02T19:00:00  \\ncolor :#5f7f3f  \\n  <a href=\"https://google.com/search?q=la-pena-festare\" target=\"_blank\">la-pena-festare</a>', 'start': '2009-02-01T19:00:00', 'lat': 48.8666667, 'lng': 2.3333333, 'id': 'la-pena-festare482'}}, {'data': {'end': '2015-11-06T21:00:00', 'name': 'the-casbah', 'weight': 1.0, 'color': '#727f3f', 'notes': 'name : the-casbah  \\nlat : 32.730206  \\nlng :-117.171871  \\n weight :1  \\nstart : 2015-11-05T21:00:00  \\nend : 2015-11-06T21:00:00  \\ncolor :#727f3f  \\n  <a href=\"https://google.com/search?q=the-casbah\" target=\"_blank\">the-casbah</a>', 'start': '2015-11-05T21:00:00', 'lat': 32.730206, 'lng': -117.171871, 'id': 'the-casbah32-117'}}, {'data': {'end': '2017-08-26T00:00:00', 'name': 'spirit-festival', 'weight': 1.0, 'color': '#3f7f6c', 'notes': 'name : spirit-festival  \\nlat : 51.9796392  \\nlng :12.9858242  \\n weight :1  \\nstart : 2017-08-25T00:00:00  \\nend : 2017-08-26T00:00:00  \\ncolor :#3f7f6c  \\n  <a href=\"https://google.com/search?q=spirit-festival\" target=\"_blank\">spirit-festival</a>', 'start': '2017-08-25T00:00:00', 'lat': 51.9796392, 'lng': 12.9858242, 'id': 'spirit-festival5112'}}, {'data': {'end': '2017-07-30T19:00:00', 'name': 'b90', 'weight': 1.0, 'color': '#3f7f6c', 'notes': 'name : b90  \\nlat : 54.35  \\nlng :18.6666667  \\n weight :1  \\nstart : 2017-07-29T19:00:00  \\nend : 2017-07-30T19:00:00  \\ncolor :#3f7f6c  \\n  <a href=\"https://google.com/search?q=b90\" target=\"_blank\">b90</a>', 'start': '2017-07-29T19:00:00', 'lat': 54.35, 'lng': 18.6666667, 'id': 'b905418'}}, {'data': {'end': '2008-11-30T20:00:00', 'name': 'speedfest', 'weight': 1.0, 'color': '#727f3f', 'notes': 'name : speedfest  \\nlat : 51.4495  \\nlng :5.45752  \\n weight :1  \\nstart : 2008-11-29T20:00:00  \\nend : 2008-11-30T20:00:00  \\ncolor :#727f3f  \\n  <a href=\"https://google.com/search?q=speedfest\" target=\"_blank\">speedfest</a>', 'start': '2008-11-29T20:00:00', 'lat': 51.4495, 'lng': 5.45752, 'id': 'speedfest515'}}, {'data': {'end': '2014-03-08T22:30:00', 'name': 'lucky-bar', 'weight': 1.4142135623730951, 'color': '#7f3f52', 'notes': 'name : lucky-bar  \\nlat : 48.4267387  \\nlng :-123.3698349  \\n weight :4.0  \\nstart : 2013-03-08T20:00:00  \\nend : 2014-03-08T22:30:00  \\ncolor :#7f3f52  \\n  <a href=\"https://google.com/search?q=lucky-bar\" target=\"_blank\">lucky-bar</a>', 'start': '2013-03-08T20:00:00', 'lat': 48.4267387, 'lng': -123.3698349, 'id': 'lucky-bar48-123'}}, {'data': {'end': '2008-08-03T19:00:00', 'name': 'festival-grounds', 'weight': 1.0, 'color': '#7f663f', 'notes': 'name : festival-grounds  \\nlat : 48.2666667  \\nlng :7.45  \\n weight :1  \\nstart : 2008-08-02T19:00:00  \\nend : 2008-08-03T19:00:00  \\ncolor :#7f663f  \\n  <a href=\"https://google.com/search?q=festival-grounds\" target=\"_blank\">festival-grounds</a>', 'start': '2008-08-02T19:00:00', 'lat': 48.2666667, 'lng': 7.45, 'id': 'festival-grounds487'}}, {'data': {'end': '2012-05-30T19:00:00', 'name': 'larimer-lounge', 'weight': 1.0, 'color': '#723f7f', 'notes': 'name : larimer-lounge  \\nlat : 39.7598  \\nlng :-104.983749  \\n weight :1  \\nstart : 2012-05-29T19:00:00  \\nend : 2012-05-30T19:00:00  \\ncolor :#723f7f  \\n  <a href=\"https://google.com/search?q=larimer-lounge\" target=\"_blank\">larimer-lounge</a>', 'start': '2012-05-29T19:00:00', 'lat': 39.7598, 'lng': -104.983749, 'id': 'larimer-lounge39-104'}}, {'data': {'end': '2009-01-23T19:00:00', 'name': 'underworld-camden', 'weight': 1.0, 'color': '#5f7f3f', 'notes': 'name : underworld-camden  \\nlat : 51.538624  \\nlng :-0.142582  \\n weight :1  \\nstart : 2009-01-22T19:00:00  \\nend : 2009-01-23T19:00:00  \\ncolor :#5f7f3f  \\n  <a href=\"https://google.com/search?q=underworld-camden\" target=\"_blank\">underworld-camden</a>', 'start': '2009-01-22T19:00:00', 'lat': 51.538624, 'lng': -0.142582, 'id': 'underworld-camden510'}}, {'data': {'end': '2017-09-05T19:00:00', 'name': 'the-fleece-bristol', 'weight': 1.0, 'color': '#3f7f6c', 'notes': 'name : the-fleece-bristol  \\nlat : 51.449363  \\nlng :-2.588487  \\n weight :1  \\nstart : 2017-09-04T19:00:00  \\nend : 2017-09-05T19:00:00  \\ncolor :#3f7f6c  \\n  <a href=\"https://google.com/search?q=the-fleece-bristol\" target=\"_blank\">the-fleece-bristol</a>', 'start': '2017-09-04T19:00:00', 'lat': 51.449363, 'lng': -2.588487, 'id': 'the-fleece-bristol51-2'}}, {'data': {'end': '2012-07-28T19:00:00', 'name': 'greenville-festival', 'weight': 1.0, 'color': '#7f3f79', 'notes': 'name : greenville-festival  \\nlat : 52.5166667  \\nlng :13.4  \\n weight :1  \\nstart : 2012-07-27T19:00:00  \\nend : 2012-07-28T19:00:00  \\ncolor :#7f3f79  \\n  <a href=\"https://google.com/search?q=greenville-festival\" target=\"_blank\">greenville-festival</a>', 'start': '2012-07-27T19:00:00', 'lat': 52.5166667, 'lng': 13.4, 'id': 'greenville-festival5213'}}, {'data': {'end': '2007-07-16T00:00:00', 'name': 'richards', 'weight': 1.0, 'color': '#7f3f3f', 'notes': 'name : richards  \\nlat : 49.283348  \\nlng :-123.114574  \\n weight :1  \\nstart : 2007-07-15T00:00:00  \\nend : 2007-07-16T00:00:00  \\ncolor :#7f3f3f  \\n  <a href=\"https://google.com/search?q=richards\" target=\"_blank\">richards</a>', 'start': '2007-07-15T00:00:00', 'lat': 49.283348, 'lng': -123.114574, 'id': 'richards49-123'}}, {'data': {'end': '2012-06-23T20:00:00', 'name': 'bourbon-theatre', 'weight': 1.0, 'color': '#723f7f', 'notes': 'name : bourbon-theatre  \\nlat : 40.813592  \\nlng :-96.700783  \\n weight :1  \\nstart : 2012-06-22T20:00:00  \\nend : 2012-06-23T20:00:00  \\ncolor :#723f7f  \\n  <a href=\"https://google.com/search?q=bourbon-theatre\" target=\"_blank\">bourbon-theatre</a>', 'start': '2012-06-22T20:00:00', 'lat': 40.813592, 'lng': -96.700783, 'id': 'bourbon-theatre40-96'}}, {'data': {'end': '2009-01-28T19:00:00', 'name': 'la-chimere', 'weight': 1.0, 'color': '#5f7f3f', 'notes': 'name : la-chimere  \\nlat : 50.637185  \\nlng :3.06281  \\n weight :1  \\nstart : 2009-01-27T19:00:00  \\nend : 2009-01-28T19:00:00  \\ncolor :#5f7f3f  \\n  <a href=\"https://google.com/search?q=la-chimere\" target=\"_blank\">la-chimere</a>', 'start': '2009-01-27T19:00:00', 'lat': 50.637185, 'lng': 3.06281, 'id': 'la-chimere503'}}, {'data': {'end': '2012-01-21T19:00:00', 'name': 'radio-luxembourg', 'weight': 1.0, 'color': '#5f3f7f', 'notes': 'name : radio-luxembourg  \\nlat : 52.2373113  \\nlng :20.954622  \\n weight :1  \\nstart : 2012-01-20T19:00:00  \\nend : 2012-01-21T19:00:00  \\ncolor :#5f3f7f  \\n  <a href=\"https://google.com/search?q=radio-luxembourg\" target=\"_blank\">radio-luxembourg</a>', 'start': '2012-01-20T19:00:00', 'lat': 52.2373113, 'lng': 20.954622, 'id': 'radio-luxembourg5220'}}, {'data': {'end': '2014-07-28T12:00:00', 'name': 'zwarte-cross', 'weight': 1.0, 'color': '#7f3f3f', 'notes': 'name : zwarte-cross  \\nlat : 51.986715  \\nlng :6.55307  \\n weight :1  \\nstart : 2014-07-27T12:00:00  \\nend : 2014-07-28T12:00:00  \\ncolor :#7f3f3f  \\n  <a href=\"https://google.com/search?q=zwarte-cross\" target=\"_blank\">zwarte-cross</a>', 'start': '2014-07-27T12:00:00', 'lat': 51.986715, 'lng': 6.55307, 'id': 'zwarte-cross516'}}, {'data': {'end': '2009-02-15T19:00:00', 'name': 'magazzino-47', 'weight': 1.0, 'color': '#5f7f3f', 'notes': 'name : magazzino-47  \\nlat : 45.5434242  \\nlng :10.2007463  \\n weight :1  \\nstart : 2009-02-14T19:00:00  \\nend : 2009-02-15T19:00:00  \\ncolor :#5f7f3f  \\n  <a href=\"https://google.com/search?q=magazzino-47\" target=\"_blank\">magazzino-47</a>', 'start': '2009-02-14T19:00:00', 'lat': 45.5434242, 'lng': 10.2007463, 'id': 'magazzino-474510'}}, {'data': {'end': '2010-04-30T21:00:00', 'name': 'rock-star-live', 'weight': 1.0, 'color': '#3f7f7f', 'notes': 'name : rock-star-live  \\nlat : 43.29731  \\nlng :-2.985839  \\n weight :1  \\nstart : 2010-04-29T21:00:00  \\nend : 2010-04-30T21:00:00  \\ncolor :#3f7f7f  \\n  <a href=\"https://google.com/search?q=rock-star-live\" target=\"_blank\">rock-star-live</a>', 'start': '2010-04-29T21:00:00', 'lat': 43.29731, 'lng': -2.985839, 'id': 'rock-star-live43-2'}}, {'data': {'end': '2008-11-18T19:00:00', 'name': 'palazzo', 'weight': 1.0, 'color': '#727f3f', 'notes': 'name : palazzo  \\nlat : 46.8472821  \\nlng :9.527126  \\n weight :1  \\nstart : 2008-11-17T19:00:00  \\nend : 2008-11-18T19:00:00  \\ncolor :#727f3f  \\n  <a href=\"https://google.com/search?q=palazzo\" target=\"_blank\">palazzo</a>', 'start': '2008-11-17T19:00:00', 'lat': 46.8472821, 'lng': 9.527126, 'id': 'palazzo469'}}, {'data': {'end': '2017-05-13T19:00:00', 'name': 'bolwerk', 'weight': 1.4142135623730951, 'color': '#3f7f59', 'notes': 'name : bolwerk  \\nlat : 53.0333333  \\nlng :5.6666667  \\n weight :4.0  \\nstart : 2017-05-12T00:00:00  \\nend : 2017-05-13T19:00:00  \\ncolor :#3f7f59  \\n  <a href=\"https://google.com/search?q=bolwerk\" target=\"_blank\">bolwerk</a>', 'start': '2017-05-12T00:00:00', 'lat': 53.0333333, 'lng': 5.6666667, 'id': 'bolwerk535'}}, {'data': {'end': '2011-01-28T19:30:00', 'name': 'manchester-night-and-day-cafe', 'weight': 1.0, 'color': '#3f467f', 'notes': 'name : manchester-night-and-day-cafe  \\nlat : 53.482701  \\nlng :-2.23523  \\n weight :1  \\nstart : 2011-01-27T19:30:00  \\nend : 2011-01-28T19:30:00  \\ncolor :#3f467f  \\n  <a href=\"https://google.com/search?q=manchester-night-and-day-cafe\" target=\"_blank\">manchester-night-and-day-cafe</a>', 'start': '2011-01-27T19:30:00', 'lat': 53.482701, 'lng': -2.23523, 'id': 'manchester-night-and-day-cafe53-2'}}, {'data': {'end': '2017-09-07T19:00:00', 'name': 'trillians', 'weight': 1.0, 'color': '#3f7f6c', 'notes': 'name : trillians  \\nlat : 52.4333333  \\nlng :-3.1166667  \\n weight :1  \\nstart : 2017-09-06T19:00:00  \\nend : 2017-09-07T19:00:00  \\ncolor :#3f7f6c  \\n  <a href=\"https://google.com/search?q=trillians\" target=\"_blank\">trillians</a>', 'start': '2017-09-06T19:00:00', 'lat': 52.4333333, 'lng': -3.1166667, 'id': 'trillians52-3'}}, {'data': {'end': '2008-11-21T19:00:00', 'name': 'exhaus', 'weight': 1.0, 'color': '#727f3f', 'notes': 'name : exhaus  \\nlat : 49.769655  \\nlng :6.647966  \\n weight :1  \\nstart : 2008-11-20T19:00:00  \\nend : 2008-11-21T19:00:00  \\ncolor :#727f3f  \\n  <a href=\"https://google.com/search?q=exhaus\" target=\"_blank\">exhaus</a>', 'start': '2008-11-20T19:00:00', 'lat': 49.769655, 'lng': 6.647966, 'id': 'exhaus496'}}, {'data': {'end': '2012-06-07T19:00:00', 'name': 'tralf', 'weight': 1.0, 'color': '#723f7f', 'notes': 'name : tralf  \\nlat : 42.8910709  \\nlng :-78.873229  \\n weight :1  \\nstart : 2012-06-06T19:00:00  \\nend : 2012-06-07T19:00:00  \\ncolor :#723f7f  \\n  <a href=\"https://google.com/search?q=tralf\" target=\"_blank\">tralf</a>', 'start': '2012-06-06T19:00:00', 'lat': 42.8910709, 'lng': -78.873229, 'id': 'tralf42-78'}}, {'data': {'end': '2014-08-08T20:30:00', 'name': 'altes-hallenbad-feldkirch', 'weight': 1.0, 'color': '#7f3f3f', 'notes': 'name : altes-hallenbad-feldkirch  \\nlat : 47.2356162  \\nlng :9.5925665  \\n weight :1  \\nstart : 2014-08-07T20:30:00  \\nend : 2014-08-08T20:30:00  \\ncolor :#7f3f3f  \\n  <a href=\"https://google.com/search?q=altes-hallenbad-feldkirch\" target=\"_blank\">altes-hallenbad-feldkirch</a>', 'start': '2014-08-07T20:30:00', 'lat': 47.2356162, 'lng': 9.5925665, 'id': 'altes-hallenbad-feldkirch479'}}, {'data': {'end': '2012-07-31T20:15:00', 'name': 'hafenkneipe', 'weight': 1.0, 'color': '#7f3f79', 'notes': 'name : hafenkneipe  \\nlat : 47.3666667  \\nlng :8.55  \\n weight :1  \\nstart : 2012-07-30T20:15:00  \\nend : 2012-07-31T20:15:00  \\ncolor :#7f3f79  \\n  <a href=\"https://google.com/search?q=hafenkneipe\" target=\"_blank\">hafenkneipe</a>', 'start': '2012-07-30T20:15:00', 'lat': 47.3666667, 'lng': 8.55, 'id': 'hafenkneipe478'}}, {'data': {'end': '2017-05-28T20:00:00', 'name': 'the-viper-room', 'weight': 1.0, 'color': '#3f7f59', 'notes': 'name : the-viper-room  \\nlat : 34.090461  \\nlng :-118.384678  \\n weight :1  \\nstart : 2017-05-27T20:00:00  \\nend : 2017-05-28T20:00:00  \\ncolor :#3f7f59  \\n  <a href=\"https://google.com/search?q=the-viper-room\" target=\"_blank\">the-viper-room</a>', 'start': '2017-05-27T20:00:00', 'lat': 34.090461, 'lng': -118.384678, 'id': 'the-viper-room34-118'}}, {'data': {'end': '2007-07-30T00:00:00', 'name': 'le-national', 'weight': 1.0, 'color': '#7f3f3f', 'notes': 'name : le-national  \\nlat : 45.518493  \\nlng :-73.555875  \\n weight :1  \\nstart : 2007-07-29T00:00:00  \\nend : 2007-07-30T00:00:00  \\ncolor :#7f3f3f  \\n  <a href=\"https://google.com/search?q=le-national\" target=\"_blank\">le-national</a>', 'start': '2007-07-29T00:00:00', 'lat': 45.518493, 'lng': -73.555875, 'id': 'le-national45-73'}}, {'data': {'end': '2010-12-31T20:00:00', 'name': 'so-36', 'weight': 1.4142135623730951, 'color': '#3f467f', 'notes': 'name : so-36  \\nlat : 52.500373  \\nlng :13.422031  \\n weight :4.0  \\nstart : 2008-07-03T19:00:00  \\nend : 2010-12-31T20:00:00  \\ncolor :#3f467f  \\n  <a href=\"https://google.com/search?q=so-36\" target=\"_blank\">so-36</a>', 'start': '2008-07-03T19:00:00', 'lat': 52.500373, 'lng': 13.422031, 'id': 'so-365213'}}, {'data': {'end': '2007-08-22T20:00:00', 'name': 'thee-parkside', 'weight': 1.0, 'color': '#7f523f', 'notes': 'name : thee-parkside  \\nlat : 37.765171  \\nlng :-122.39989  \\n weight :1  \\nstart : 2007-08-21T20:00:00  \\nend : 2007-08-22T20:00:00  \\ncolor :#7f523f  \\n  <a href=\"https://google.com/search?q=thee-parkside\" target=\"_blank\">thee-parkside</a>', 'start': '2007-08-21T20:00:00', 'lat': 37.765171, 'lng': -122.39989, 'id': 'thee-parkside37-122'}}, {'data': {'end': '2015-03-12T19:00:00', 'name': 'abbey-pub', 'weight': 1.0, 'color': '#7f663f', 'notes': 'name : abbey-pub  \\nlat : 41.9503007  \\nlng :-87.7138068  \\n weight :1  \\nstart : 2015-03-11T19:00:00  \\nend : 2015-03-12T19:00:00  \\ncolor :#7f663f  \\n  <a href=\"https://google.com/search?q=abbey-pub\" target=\"_blank\">abbey-pub</a>', 'start': '2015-03-11T19:00:00', 'lat': 41.9503007, 'lng': -87.7138068, 'id': 'abbey-pub41-87'}}, {'data': {'end': '2015-04-04T21:00:00', 'name': 'vogue-theatre', 'weight': 1.0, 'color': '#7f663f', 'notes': 'name : vogue-theatre  \\nlat : 39.867298  \\nlng :-86.108002  \\n weight :1  \\nstart : 2015-04-03T21:00:00  \\nend : 2015-04-04T21:00:00  \\ncolor :#7f663f  \\n  <a href=\"https://google.com/search?q=vogue-theatre\" target=\"_blank\">vogue-theatre</a>', 'start': '2015-04-03T21:00:00', 'lat': 39.867298, 'lng': -86.108002, 'id': 'vogue-theatre39-86'}}, {'data': {'end': '2017-08-01T19:00:00', 'name': 'pub-pamela', 'weight': 1.0, 'color': '#3f7f6c', 'notes': 'name : pub-pamela  \\nlat : 51.5997009  \\nlng :18.9568195  \\n weight :1  \\nstart : 2017-07-31T19:00:00  \\nend : 2017-08-01T19:00:00  \\ncolor :#3f7f6c  \\n  <a href=\"https://google.com/search?q=pub-pamela\" target=\"_blank\">pub-pamela</a>', 'start': '2017-07-31T19:00:00', 'lat': 51.5997009, 'lng': 18.9568195, 'id': 'pub-pamela5118'}}, {'data': {'end': '2014-09-22T21:00:00', 'name': 'the-dive-bar', 'weight': 1.0, 'color': '#7f523f', 'notes': 'name : the-dive-bar  \\nlat : 36.113857  \\nlng :-115.137038  \\n weight :1  \\nstart : 2014-09-21T21:00:00  \\nend : 2014-09-22T21:00:00  \\ncolor :#7f523f  \\n  <a href=\"https://google.com/search?q=the-dive-bar\" target=\"_blank\">the-dive-bar</a>', 'start': '2014-09-21T21:00:00', 'lat': 36.113857, 'lng': -115.137038, 'id': 'the-dive-bar36-115'}}, {'data': {'end': '2012-06-03T20:30:00', 'name': 'mckracken-s-live', 'weight': 1.0, 'color': '#723f7f', 'notes': 'name : mckracken-s-live  \\nlat : 41.690294  \\nlng :-87.783879  \\n weight :1  \\nstart : 2012-06-02T20:30:00  \\nend : 2012-06-03T20:30:00  \\ncolor :#723f7f  \\n  <a href=\"https://google.com/search?q=mckracken-s-live\" target=\"_blank\">mckracken-s-live</a>', 'start': '2012-06-02T20:30:00', 'lat': 41.690294, 'lng': -87.783879, 'id': 'mckracken-s-live41-87'}}, {'data': {'end': '2017-05-27T19:00:00', 'name': 'tiki-bar', 'weight': 1.4142135623730951, 'color': '#3f7f59', 'notes': 'name : tiki-bar  \\nlat : 33.63618  \\nlng :-117.931825  \\n weight :4.0  \\nstart : 2015-11-06T20:00:00  \\nend : 2017-05-27T19:00:00  \\ncolor :#3f7f59  \\n  <a href=\"https://google.com/search?q=tiki-bar\" target=\"_blank\">tiki-bar</a>', 'start': '2015-11-06T20:00:00', 'lat': 33.63618, 'lng': -117.931825, 'id': 'tiki-bar33-117'}}, {'data': {'end': '2017-06-19T19:00:00', 'name': 'lindenpark', 'weight': 1.4142135623730951, 'color': '#3f7f59', 'notes': 'name : lindenpark  \\nlat : 52.391602  \\nlng :13.116557  \\n weight :4.0  \\nstart : 2008-11-22T19:00:00  \\nend : 2017-06-19T19:00:00  \\ncolor :#3f7f59  \\n  <a href=\"https://google.com/search?q=lindenpark\" target=\"_blank\">lindenpark</a>', 'start': '2008-11-22T19:00:00', 'lat': 52.391602, 'lng': 13.116557, 'id': 'lindenpark5213'}}, {'data': {'end': '2016-03-17T20:00:00', 'name': 'studio-nightclub', 'weight': 1.0, 'color': '#5f7f3f', 'notes': 'name : studio-nightclub  \\nlat : 49.696618  \\nlng :-112.8406126  \\n weight :1  \\nstart : 2016-03-16T20:00:00  \\nend : 2016-03-17T20:00:00  \\ncolor :#5f7f3f  \\n  <a href=\"https://google.com/search?q=studio-nightclub\" target=\"_blank\">studio-nightclub</a>', 'start': '2016-03-16T20:00:00', 'lat': 49.696618, 'lng': -112.8406126, 'id': 'studio-nightclub49-112'}}, {'data': {'end': '2017-05-21T20:00:00', 'name': 'the-john-st-pub', 'weight': 1.0, 'color': '#3f7f59', 'notes': 'name : the-john-st-pub  \\nlat : 45.433891  \\nlng :-76.353854  \\n weight :1  \\nstart : 2017-05-20T20:00:00  \\nend : 2017-05-21T20:00:00  \\ncolor :#3f7f59  \\n  <a href=\"https://google.com/search?q=the-john-st-pub\" target=\"_blank\">the-john-st-pub</a>', 'start': '2017-05-20T20:00:00', 'lat': 45.433891, 'lng': -76.353854, 'id': 'the-john-st-pub45-76'}}, {'data': {'end': '2016-03-24T19:00:00', 'name': 'bobby-s-place', 'weight': 1.0, 'color': '#5f7f3f', 'notes': 'name : bobby-s-place  \\nlat : 50.391663  \\nlng :-105.533282  \\n weight :1  \\nstart : 2016-03-23T19:00:00  \\nend : 2016-03-24T19:00:00  \\ncolor :#5f7f3f  \\n  <a href=\"https://google.com/search?q=bobby-s-place\" target=\"_blank\">bobby-s-place</a>', 'start': '2016-03-23T19:00:00', 'lat': 50.391663, 'lng': -105.533282, 'id': 'bobby-s-place50-105'}}, {'data': {'end': '2010-04-16T21:00:00', 'name': 'substage', 'weight': 1.0, 'color': '#3f7f7f', 'notes': 'name : substage  \\nlat : 49.01076  \\nlng :8.408695  \\n weight :1  \\nstart : 2010-04-15T21:00:00  \\nend : 2010-04-16T21:00:00  \\ncolor :#3f7f7f  \\n  <a href=\"https://google.com/search?q=substage\" target=\"_blank\">substage</a>', 'start': '2010-04-15T21:00:00', 'lat': 49.01076, 'lng': 8.408695, 'id': 'substage498'}}, {'data': {'end': '2012-08-11T19:00:00', 'name': 'donkey-rock-festival', 'weight': 1.0, 'color': '#7f3f79', 'notes': 'name : donkey-rock-festival  \\nlat : 49.609227  \\nlng :5.850519  \\n weight :1  \\nstart : 2012-08-10T19:00:00  \\nend : 2012-08-11T19:00:00  \\ncolor :#7f3f79  \\n  <a href=\"https://google.com/search?q=donkey-rock-festival\" target=\"_blank\">donkey-rock-festival</a>', 'start': '2012-08-10T19:00:00', 'lat': 49.609227, 'lng': 5.850519, 'id': 'donkey-rock-festival495'}}, {'data': {'end': '2008-07-16T19:00:00', 'name': 'molotow', 'weight': 1.0, 'color': '#7f663f', 'notes': 'name : molotow  \\nlat : 53.549456  \\nlng :9.966523  \\n weight :1  \\nstart : 2008-07-15T19:00:00  \\nend : 2008-07-16T19:00:00  \\ncolor :#7f663f  \\n  <a href=\"https://google.com/search?q=molotow\" target=\"_blank\">molotow</a>', 'start': '2008-07-15T19:00:00', 'lat': 53.549456, 'lng': 9.966523, 'id': 'molotow539'}}, {'data': {'end': '2012-06-21T19:00:00', 'name': 'outland-ballroom', 'weight': 1.0, 'color': '#723f7f', 'notes': 'name : outland-ballroom  \\nlat : 37.207839  \\nlng :-93.29213  \\n weight :1  \\nstart : 2012-06-20T19:00:00  \\nend : 2012-06-21T19:00:00  \\ncolor :#723f7f  \\n  <a href=\"https://google.com/search?q=outland-ballroom\" target=\"_blank\">outland-ballroom</a>', 'start': '2012-06-20T19:00:00', 'lat': 37.207839, 'lng': -93.29213, 'id': 'outland-ballroom37-93'}}, {'data': {'end': '2011-01-14T19:00:00', 'name': 'klubi-tampere', 'weight': 1.4142135623730951, 'color': '#3f467f', 'notes': 'name : klubi-tampere  \\nlat : 61.49849  \\nlng :23.776693  \\n weight :4.0  \\nstart : 2010-02-04T21:00:00  \\nend : 2011-01-14T19:00:00  \\ncolor :#3f467f  \\n  <a href=\"https://google.com/search?q=klubi-tampere\" target=\"_blank\">klubi-tampere</a>', 'start': '2010-02-04T21:00:00', 'lat': 61.49849, 'lng': 23.776693, 'id': 'klubi-tampere6123'}}, {'data': {'end': '2015-06-15T19:30:00', 'name': 'black-cat', 'weight': 1.0, 'color': '#7f793f', 'notes': 'name : black-cat  \\nlat : 38.891312  \\nlng :-77.033653  \\n weight :1  \\nstart : 2015-06-14T19:30:00  \\nend : 2015-06-15T19:30:00  \\ncolor :#7f793f  \\n  <a href=\"https://google.com/search?q=black-cat\" target=\"_blank\">black-cat</a>', 'start': '2015-06-14T19:30:00', 'lat': 38.891312, 'lng': -77.033653, 'id': 'black-cat38-77'}}, {'data': {'end': '2008-11-17T19:00:00', 'name': 'arcadia', 'weight': 1.0, 'color': '#727f3f', 'notes': 'name : arcadia  \\nlat : 45.55  \\nlng :11.55  \\n weight :1  \\nstart : 2008-11-16T19:00:00  \\nend : 2008-11-17T19:00:00  \\ncolor :#727f3f  \\n  <a href=\"https://google.com/search?q=arcadia\" target=\"_blank\">arcadia</a>', 'start': '2008-11-16T19:00:00', 'lat': 45.55, 'lng': 11.55, 'id': 'arcadia4511'}}, {'data': {'end': '2012-01-13T19:00:00', 'name': 'le-tigre', 'weight': 1.0, 'color': '#5f3f7f', 'notes': 'name : le-tigre  \\nlat : 48.2568588  \\nlng :7.4528036  \\n weight :1  \\nstart : 2012-01-12T19:00:00  \\nend : 2012-01-13T19:00:00  \\ncolor :#5f3f7f  \\n  <a href=\"https://google.com/search?q=le-tigre\" target=\"_blank\">le-tigre</a>', 'start': '2012-01-12T19:00:00', 'lat': 48.2568588, 'lng': 7.4528036, 'id': 'le-tigre487'}}, {'data': {'end': '2010-06-04T20:00:00', 'name': 'spring-storm-tour', 'weight': 1.0, 'color': '#3f6c7f', 'notes': 'name : spring-storm-tour  \\nlat : 48.97107  \\nlng :14.47945  \\n weight :1  \\nstart : 2010-06-03T20:00:00  \\nend : 2010-06-04T20:00:00  \\ncolor :#3f6c7f  \\n  <a href=\"https://google.com/search?q=spring-storm-tour\" target=\"_blank\">spring-storm-tour</a>', 'start': '2010-06-03T20:00:00', 'lat': 48.97107, 'lng': 14.47945, 'id': 'spring-storm-tour4814'}}, {'data': {'end': '2011-12-23T19:00:00', 'name': 'the-albert', 'weight': 1.0, 'color': '#5f3f7f', 'notes': 'name : the-albert  \\nlat : 50.82829  \\nlng :-0.139434  \\n weight :1  \\nstart : 2011-12-22T19:00:00  \\nend : 2011-12-23T19:00:00  \\ncolor :#5f3f7f  \\n  <a href=\"https://google.com/search?q=the-albert\" target=\"_blank\">the-albert</a>', 'start': '2011-12-22T19:00:00', 'lat': 50.82829, 'lng': -0.139434, 'id': 'the-albert500'}}, {'data': {'end': '2008-11-16T19:00:00', 'name': 'flog', 'weight': 1.0, 'color': '#727f3f', 'notes': 'name : flog  \\nlat : 43.828309  \\nlng :11.287416  \\n weight :1  \\nstart : 2008-11-15T19:00:00  \\nend : 2008-11-16T19:00:00  \\ncolor :#727f3f  \\n  <a href=\"https://google.com/search?q=flog\" target=\"_blank\">flog</a>', 'start': '2008-11-15T19:00:00', 'lat': 43.828309, 'lng': 11.287416, 'id': 'flog4311'}}, {'data': {'end': '2017-09-13T19:00:00', 'name': 'owl-sanctuary', 'weight': 1.0, 'color': '#3f7f6c', 'notes': 'name : owl-sanctuary  \\nlat : 52.6275177  \\nlng :1.2980658  \\n weight :1  \\nstart : 2017-09-12T19:00:00  \\nend : 2017-09-13T19:00:00  \\ncolor :#3f7f6c  \\n  <a href=\"https://google.com/search?q=owl-sanctuary\" target=\"_blank\">owl-sanctuary</a>', 'start': '2017-09-12T19:00:00', 'lat': 52.6275177, 'lng': 1.2980658, 'id': 'owl-sanctuary521'}}, {'data': {'end': '2016-07-30T12:00:00', 'name': 'xtreme-fest', 'weight': 1.0, 'color': '#4c7f3f', 'notes': 'name : xtreme-fest  \\nlat : 43.9333333  \\nlng :2.15  \\n weight :1  \\nstart : 2016-07-29T12:00:00  \\nend : 2016-07-30T12:00:00  \\ncolor :#4c7f3f  \\n  <a href=\"https://google.com/search?q=xtreme-fest\" target=\"_blank\">xtreme-fest</a>', 'start': '2016-07-29T12:00:00', 'lat': 43.9333333, 'lng': 2.15, 'id': 'xtreme-fest432'}}, {'data': {'end': '2012-06-09T21:00:00', 'name': 'the-bell-house', 'weight': 1.0, 'color': '#723f7f', 'notes': 'name : the-bell-house  \\nlat : 40.673161  \\nlng :-73.990726  \\n weight :1  \\nstart : 2012-06-08T21:00:00  \\nend : 2012-06-09T21:00:00  \\ncolor :#723f7f  \\n  <a href=\"https://google.com/search?q=the-bell-house\" target=\"_blank\">the-bell-house</a>', 'start': '2012-06-08T21:00:00', 'lat': 40.673161, 'lng': -73.990726, 'id': 'the-bell-house40-73'}}, {'data': {'end': '2012-05-26T20:00:00', 'name': 'house-of-blues-sunset-strip', 'weight': 1.0, 'color': '#723f7f', 'notes': 'name : house-of-blues-sunset-strip  \\nlat : 34.0949114  \\nlng :-118.3736012  \\n weight :1  \\nstart : 2012-05-25T20:00:00  \\nend : 2012-05-26T20:00:00  \\ncolor :#723f7f  \\n  <a href=\"https://google.com/search?q=house-of-blues-sunset-strip\" target=\"_blank\">house-of-blues-sunset-strip</a>', 'start': '2012-05-25T20:00:00', 'lat': 34.0949114, 'lng': -118.3736012, 'id': 'house-of-blues-sunset-strip34-118'}}, {'data': {'end': '2015-06-18T20:00:00', 'name': 'hard-rock-cafe-pittsburgh', 'weight': 1.0, 'color': '#7f793f', 'notes': 'name : hard-rock-cafe-pittsburgh  \\nlat : 40.433884  \\nlng :-80.005004  \\n weight :1  \\nstart : 2015-06-17T20:00:00  \\nend : 2015-06-18T20:00:00  \\ncolor :#7f793f  \\n  <a href=\"https://google.com/search?q=hard-rock-cafe-pittsburgh\" target=\"_blank\">hard-rock-cafe-pittsburgh</a>', 'start': '2015-06-17T20:00:00', 'lat': 40.433884, 'lng': -80.005004, 'id': 'hard-rock-cafe-pittsburgh40-80'}}, {'data': {'end': '2017-05-17T19:00:00', 'name': 'red-dog-tavern', 'weight': 1.0, 'color': '#3f7f59', 'notes': 'name : red-dog-tavern  \\nlat : 44.30559  \\nlng :-78.32162  \\n weight :1  \\nstart : 2017-05-16T19:00:00  \\nend : 2017-05-17T19:00:00  \\ncolor :#3f7f59  \\n  <a href=\"https://google.com/search?q=red-dog-tavern\" target=\"_blank\">red-dog-tavern</a>', 'start': '2017-05-16T19:00:00', 'lat': 44.30559, 'lng': -78.32162, 'id': 'red-dog-tavern44-78'}}, {'data': {'end': '2008-11-25T19:00:00', 'name': 'perron-55', 'weight': 1.0, 'color': '#727f3f', 'notes': 'name : perron-55  \\nlat : 51.372421  \\nlng :6.17286  \\n weight :1  \\nstart : 2008-11-24T19:00:00  \\nend : 2008-11-25T19:00:00  \\ncolor :#727f3f  \\n  <a href=\"https://google.com/search?q=perron-55\" target=\"_blank\">perron-55</a>', 'start': '2008-11-24T19:00:00', 'lat': 51.372421, 'lng': 6.17286, 'id': 'perron-55516'}}, {'data': {'end': '2010-04-23T21:00:00', 'name': 'musikbunker-aachen-e-v', 'weight': 1.0, 'color': '#3f7f7f', 'notes': 'name : musikbunker-aachen-e-v  \\nlat : 50.767401  \\nlng :6.103966  \\n weight :1  \\nstart : 2010-04-22T21:00:00  \\nend : 2010-04-23T21:00:00  \\ncolor :#3f7f7f  \\n  <a href=\"https://google.com/search?q=musikbunker-aachen-e-v\" target=\"_blank\">musikbunker-aachen-e-v</a>', 'start': '2010-04-22T21:00:00', 'lat': 50.767401, 'lng': 6.103966, 'id': 'musikbunker-aachen-e-v506'}}, {'data': {'end': '2015-06-21T19:00:00', 'name': 'amnesia-rock-fest-2015', 'weight': 1.0, 'color': '#7f793f', 'notes': 'name : amnesia-rock-fest-2015  \\nlat : 45.65  \\nlng :-74.9333333  \\n weight :1  \\nstart : 2015-06-20T19:00:00  \\nend : 2015-06-21T19:00:00  \\ncolor :#7f793f  \\n  <a href=\"https://google.com/search?q=amnesia-rock-fest-2015\" target=\"_blank\">amnesia-rock-fest-2015</a>', 'start': '2015-06-20T19:00:00', 'lat': 45.65, 'lng': -74.9333333, 'id': 'amnesia-rock-fest-201545-74'}}, {'data': {'end': '2016-03-23T19:00:00', 'name': 'mcnally-s-tavern', 'weight': 1.0, 'color': '#5f7f3f', 'notes': 'name : mcnally-s-tavern  \\nlat : 50.455321  \\nlng :-104.612737  \\n weight :1  \\nstart : 2016-03-22T19:00:00  \\nend : 2016-03-23T19:00:00  \\ncolor :#5f7f3f  \\n  <a href=\"https://google.com/search?q=mcnally-s-tavern\" target=\"_blank\">mcnally-s-tavern</a>', 'start': '2016-03-22T19:00:00', 'lat': 50.455321, 'lng': -104.612737, 'id': 'mcnally-s-tavern50-104'}}, {'data': {'end': '2012-06-17T19:00:00', 'name': 'la-grange', 'weight': 1.0, 'color': '#723f7f', 'notes': 'name : la-grange  \\nlat : 32.784563  \\nlng :-96.784175  \\n weight :1  \\nstart : 2012-06-16T19:00:00  \\nend : 2012-06-17T19:00:00  \\ncolor :#723f7f  \\n  <a href=\"https://google.com/search?q=la-grange\" target=\"_blank\">la-grange</a>', 'start': '2012-06-16T19:00:00', 'lat': 32.784563, 'lng': -96.784175, 'id': 'la-grange32-96'}}, {'data': {'end': '2015-05-07T20:30:00', 'name': 'le-ferrailleur', 'weight': 1.0, 'color': '#7f793f', 'notes': 'name : le-ferrailleur  \\nlat : 47.2014677  \\nlng :-1.5411258  \\n weight :1  \\nstart : 2015-05-06T20:30:00  \\nend : 2015-05-07T20:30:00  \\ncolor :#7f793f  \\n  <a href=\"https://google.com/search?q=le-ferrailleur\" target=\"_blank\">le-ferrailleur</a>', 'start': '2015-05-06T20:30:00', 'lat': 47.2014677, 'lng': -1.5411258, 'id': 'le-ferrailleur47-1'}}, {'data': {'end': '2008-11-24T19:00:00', 'name': 'nachtleben', 'weight': 1.0, 'color': '#727f3f', 'notes': 'name : nachtleben  \\nlat : 50.114069  \\nlng :8.687616  \\n weight :1  \\nstart : 2008-11-23T19:00:00  \\nend : 2008-11-24T19:00:00  \\ncolor :#727f3f  \\n  <a href=\"https://google.com/search?q=nachtleben\" target=\"_blank\">nachtleben</a>', 'start': '2008-11-23T19:00:00', 'lat': 50.114069, 'lng': 8.687616, 'id': 'nachtleben508'}}, {'data': {'end': '2009-02-04T19:00:00', 'name': 'gleis-22', 'weight': 1.0, 'color': '#5f7f3f', 'notes': 'name : gleis-22  \\nlat : 51.9535777  \\nlng :7.6312305  \\n weight :1  \\nstart : 2009-02-03T19:00:00  \\nend : 2009-02-04T19:00:00  \\ncolor :#5f7f3f  \\n  <a href=\"https://google.com/search?q=gleis-22\" target=\"_blank\">gleis-22</a>', 'start': '2009-02-03T19:00:00', 'lat': 51.9535777, 'lng': 7.6312305, 'id': 'gleis-22517'}}, {'data': {'end': '2015-11-01T21:00:00', 'name': 'doug-fir-lounge', 'weight': 1.4142135623730951, 'color': '#727f3f', 'notes': 'name : doug-fir-lounge  \\nlat : 45.522789  \\nlng :-122.657333  \\n weight :4.0  \\nstart : 2012-05-19T21:00:00  \\nend : 2015-11-01T21:00:00  \\ncolor :#727f3f  \\n  <a href=\"https://google.com/search?q=doug-fir-lounge\" target=\"_blank\">doug-fir-lounge</a>', 'start': '2012-05-19T21:00:00', 'lat': 45.522789, 'lng': -122.657333, 'id': 'doug-fir-lounge45-122'}}, {'data': {'end': '2012-05-02T19:00:00', 'name': 'the-music-hall', 'weight': 1.0, 'color': '#723f7f', 'notes': 'name : the-music-hall  \\nlat : 42.984018  \\nlng :-81.249121  \\n weight :1  \\nstart : 2012-05-01T19:00:00  \\nend : 2012-05-02T19:00:00  \\ncolor :#723f7f  \\n  <a href=\"https://google.com/search?q=the-music-hall\" target=\"_blank\">the-music-hall</a>', 'start': '2012-05-01T19:00:00', 'lat': 42.984018, 'lng': -81.249121, 'id': 'the-music-hall42-81'}}, {'data': {'end': '2008-07-23T19:00:00', 'name': 'dynamo-werk-21', 'weight': 1.0, 'color': '#7f663f', 'notes': 'name : dynamo-werk-21  \\nlat : 47.3833038  \\nlng :8.5393044  \\n weight :1  \\nstart : 2008-07-22T19:00:00  \\nend : 2008-07-23T19:00:00  \\ncolor :#7f663f  \\n  <a href=\"https://google.com/search?q=dynamo-werk-21\" target=\"_blank\">dynamo-werk-21</a>', 'start': '2008-07-22T19:00:00', 'lat': 47.3833038, 'lng': 8.5393044, 'id': 'dynamo-werk-21478'}}, {'data': {'end': '2014-09-14T21:00:00', 'name': 'dante-s', 'weight': 1.4142135623730951, 'color': '#7f523f', 'notes': 'name : dante-s  \\nlat : 45.522898  \\nlng :-122.673877  \\n weight :4.0  \\nstart : 2007-09-01T00:00:00  \\nend : 2014-09-14T21:00:00  \\ncolor :#7f523f  \\n  <a href=\"https://google.com/search?q=dante-s\" target=\"_blank\">dante-s</a>', 'start': '2007-09-01T00:00:00', 'lat': 45.522898, 'lng': -122.673877, 'id': 'dante-s45-122'}}, {'data': {'end': '2012-01-01T19:00:00', 'name': 'estraperlo-club', 'weight': 1.0, 'color': '#5f3f7f', 'notes': 'name : estraperlo-club  \\nlat : 41.458854  \\nlng :2.261201  \\n weight :1  \\nstart : 2011-12-31T19:00:00  \\nend : 2012-01-01T19:00:00  \\ncolor :#5f3f7f  \\n  <a href=\"https://google.com/search?q=estraperlo-club\" target=\"_blank\">estraperlo-club</a>', 'start': '2011-12-31T19:00:00', 'lat': 41.458854, 'lng': 2.261201, 'id': 'estraperlo-club412'}}, {'data': {'end': '2017-03-10T00:00:00', 'name': 'will-s-pub', 'weight': 1.0, 'color': '#3f7f46', 'notes': 'name : will-s-pub  \\nlat : 28.5380556  \\nlng :-81.3794444  \\n weight :1  \\nstart : 2017-03-09T00:00:00  \\nend : 2017-03-10T00:00:00  \\ncolor :#3f7f46  \\n  <a href=\"https://google.com/search?q=will-s-pub\" target=\"_blank\">will-s-pub</a>', 'start': '2017-03-09T00:00:00', 'lat': 28.5380556, 'lng': -81.3794444, 'id': 'will-s-pub28-81'}}, {'data': {'end': '2017-09-08T19:00:00', 'name': 'beat-generator-live', 'weight': 1.0, 'color': '#3f7f6c', 'notes': 'name : beat-generator-live  \\nlat : 56.461023  \\nlng :-2.976708  \\n weight :1  \\nstart : 2017-09-07T19:00:00  \\nend : 2017-09-08T19:00:00  \\ncolor :#3f7f6c  \\n  <a href=\"https://google.com/search?q=beat-generator-live\" target=\"_blank\">beat-generator-live</a>', 'start': '2017-09-07T19:00:00', 'lat': 56.461023, 'lng': -2.976708, 'id': 'beat-generator-live56-2'}}, {'data': {'end': '2017-08-05T00:00:00', 'name': 'rebellion', 'weight': 1.0, 'color': '#3f7f6c', 'notes': 'name : rebellion  \\nlat : 53.825069  \\nlng :-3.02075  \\n weight :1  \\nstart : 2017-08-04T00:00:00  \\nend : 2017-08-05T00:00:00  \\ncolor :#3f7f6c  \\n  <a href=\"https://google.com/search?q=rebellion\" target=\"_blank\">rebellion</a>', 'start': '2017-08-04T00:00:00', 'lat': 53.825069, 'lng': -3.02075, 'id': 'rebellion53-3'}}, {'data': {'end': '2007-07-22T00:00:00', 'name': 'the-garrick-centre', 'weight': 1.0, 'color': '#7f3f3f', 'notes': 'name : the-garrick-centre  \\nlat : 49.894901  \\nlng :-97.141373  \\n weight :1  \\nstart : 2007-07-21T00:00:00  \\nend : 2007-07-22T00:00:00  \\ncolor :#7f3f3f  \\n  <a href=\"https://google.com/search?q=the-garrick-centre\" target=\"_blank\">the-garrick-centre</a>', 'start': '2007-07-21T00:00:00', 'lat': 49.894901, 'lng': -97.141373, 'id': 'the-garrick-centre49-97'}}, {'data': {'end': '2016-03-20T19:00:00', 'name': 'fratters-speakeasy', 'weight': 1.0, 'color': '#5f7f3f', 'notes': 'name : fratters-speakeasy  \\nlat : 52.267287  \\nlng :-113.817281  \\n weight :1  \\nstart : 2016-03-19T19:00:00  \\nend : 2016-03-20T19:00:00  \\ncolor :#5f7f3f  \\n  <a href=\"https://google.com/search?q=fratters-speakeasy\" target=\"_blank\">fratters-speakeasy</a>', 'start': '2016-03-19T19:00:00', 'lat': 52.267287, 'lng': -113.817281, 'id': 'fratters-speakeasy52-113'}}, {'data': {'end': '2008-07-07T19:00:00', 'name': 'patronaat', 'weight': 1.0, 'color': '#7f663f', 'notes': 'name : patronaat  \\nlat : 52.3666667  \\nlng :4.65  \\n weight :1  \\nstart : 2008-07-06T19:00:00  \\nend : 2008-07-07T19:00:00  \\ncolor :#7f663f  \\n  <a href=\"https://google.com/search?q=patronaat\" target=\"_blank\">patronaat</a>', 'start': '2008-07-06T19:00:00', 'lat': 52.3666667, 'lng': 4.65, 'id': 'patronaat524'}}, {'data': {'end': '2017-03-13T00:00:00', 'name': 'francis-field', 'weight': 1.4142135623730951, 'color': '#3f7f46', 'notes': 'name : francis-field  \\nlat : 29.8992425  \\nlng :-81.3168659  \\n weight :4.0  \\nstart : 2017-03-11T00:00:00  \\nend : 2017-03-13T00:00:00  \\ncolor :#3f7f46  \\n  <a href=\"https://google.com/search?q=francis-field\" target=\"_blank\">francis-field</a>', 'start': '2017-03-11T00:00:00', 'lat': 29.8992425, 'lng': -81.3168659, 'id': 'francis-field29-81'}}, {'data': {'end': '2010-05-29T21:00:00', 'name': 'knust', 'weight': 1.0, 'color': '#3f6c7f', 'notes': 'name : knust  \\nlat : 53.55  \\nlng :10.0  \\n weight :1  \\nstart : 2010-05-28T21:00:00  \\nend : 2010-05-29T21:00:00  \\ncolor :#3f6c7f  \\n  <a href=\"https://google.com/search?q=knust\" target=\"_blank\">knust</a>', 'start': '2010-05-28T21:00:00', 'lat': 53.55, 'lng': 10.0, 'id': 'knust5310'}}, {'data': {'end': '2015-05-30T16:00:00', 'name': 'full-tension-festival', 'weight': 1.0, 'color': '#7f793f', 'notes': 'name : full-tension-festival  \\nlat : 46.483659  \\nlng :11.339374  \\n weight :1  \\nstart : 2015-05-29T16:00:00  \\nend : 2015-05-30T16:00:00  \\ncolor :#7f793f  \\n  <a href=\"https://google.com/search?q=full-tension-festival\" target=\"_blank\">full-tension-festival</a>', 'start': '2015-05-29T16:00:00', 'lat': 46.483659, 'lng': 11.339374, 'id': 'full-tension-festival4611'}}, {'data': {'end': '2017-03-20T19:00:00', 'name': 'international-beer-haus-stage', 'weight': 1.0, 'color': '#3f7f46', 'notes': 'name : international-beer-haus-stage  \\nlat : 52.26711  \\nlng :-113.815864  \\n weight :1  \\nstart : 2017-03-19T19:00:00  \\nend : 2017-03-20T19:00:00  \\ncolor :#3f7f46  \\n  <a href=\"https://google.com/search?q=international-beer-haus-stage\" target=\"_blank\">international-beer-haus-stage</a>', 'start': '2017-03-19T19:00:00', 'lat': 52.26711, 'lng': -113.815864, 'id': 'international-beer-haus-stage52-113'}}, {'data': {'end': '2017-09-10T19:00:00', 'name': 'nice-n-sleazy', 'weight': 1.0, 'color': '#3f7f6c', 'notes': 'name : nice-n-sleazy  \\nlat : 55.865923  \\nlng :-4.269046  \\n weight :1  \\nstart : 2017-09-09T19:00:00  \\nend : 2017-09-10T19:00:00  \\ncolor :#3f7f6c  \\n  <a href=\"https://google.com/search?q=nice-n-sleazy\" target=\"_blank\">nice-n-sleazy</a>', 'start': '2017-09-09T19:00:00', 'lat': 55.865923, 'lng': -4.269046, 'id': 'nice-n-sleazy55-4'}}, {'data': {'end': '2017-06-12T19:00:00', 'name': 'alte-hackerei', 'weight': 1.0, 'color': '#3f7f59', 'notes': 'name : alte-hackerei  \\nlat : 49.006365  \\nlng :8.430593  \\n weight :1  \\nstart : 2017-06-11T19:00:00  \\nend : 2017-06-12T19:00:00  \\ncolor :#3f7f59  \\n  <a href=\"https://google.com/search?q=alte-hackerei\" target=\"_blank\">alte-hackerei</a>', 'start': '2017-06-11T19:00:00', 'lat': 49.006365, 'lng': 8.430593, 'id': 'alte-hackerei498'}}, {'data': {'end': '2015-10-31T21:00:00', 'name': 'el-corazon', 'weight': 1.5537739740300374, 'color': '#727f3f', 'notes': 'name : el-corazon  \\nlat : 47.618743  \\nlng :-122.32939  \\n weight :5.82842712475  \\nstart : 2012-05-18T21:00:00  \\nend : 2015-10-31T21:00:00  \\ncolor :#727f3f  \\n  <a href=\"https://google.com/search?q=el-corazon\" target=\"_blank\">el-corazon</a>', 'start': '2012-05-18T21:00:00', 'lat': 47.618743, 'lng': -122.32939, 'id': 'el-corazon47-122'}}, {'data': {'end': '2008-07-15T19:00:00', 'name': 'sonic-ballroom', 'weight': 1.0, 'color': '#7f663f', 'notes': 'name : sonic-ballroom  \\nlat : 50.949107  \\nlng :6.907389  \\n weight :1  \\nstart : 2008-07-14T19:00:00  \\nend : 2008-07-15T19:00:00  \\ncolor :#7f663f  \\n  <a href=\"https://google.com/search?q=sonic-ballroom\" target=\"_blank\">sonic-ballroom</a>', 'start': '2008-07-14T19:00:00', 'lat': 50.949107, 'lng': 6.907389, 'id': 'sonic-ballroom506'}}, {'data': {'end': '2013-03-14T20:00:00', 'name': 'habitat', 'weight': 1.0, 'color': '#7f3f65', 'notes': 'name : habitat  \\nlat : 49.886815  \\nlng :-119.496599  \\n weight :1  \\nstart : 2013-03-13T20:00:00  \\nend : 2013-03-14T20:00:00  \\ncolor :#7f3f65  \\n  <a href=\"https://google.com/search?q=habitat\" target=\"_blank\">habitat</a>', 'start': '2013-03-13T20:00:00', 'lat': 49.886815, 'lng': -119.496599, 'id': 'habitat49-119'}}, {'data': {'end': '2015-06-13T19:00:00', 'name': 'kungfu-necktie', 'weight': 1.4142135623730951, 'color': '#7f793f', 'notes': 'name : kungfu-necktie  \\nlat : 39.969624  \\nlng :-75.136173  \\n weight :4.0  \\nstart : 2012-06-09T18:00:00  \\nend : 2015-06-13T19:00:00  \\ncolor :#7f793f  \\n  <a href=\"https://google.com/search?q=kungfu-necktie\" target=\"_blank\">kungfu-necktie</a>', 'start': '2012-06-09T18:00:00', 'lat': 39.969624, 'lng': -75.136173, 'id': 'kungfu-necktie39-75'}}, {'data': {'end': '2009-03-25T19:30:00', 'name': 'brighton-concorde-2', 'weight': 1.0, 'color': '#4c7f3f', 'notes': 'name : brighton-concorde-2  \\nlat : 50.817255  \\nlng :-0.122522  \\n weight :1  \\nstart : 2009-03-24T19:30:00  \\nend : 2009-03-25T19:30:00  \\ncolor :#4c7f3f  \\n  <a href=\"https://google.com/search?q=brighton-concorde-2\" target=\"_blank\">brighton-concorde-2</a>', 'start': '2009-03-24T19:30:00', 'lat': 50.817255, 'lng': -0.122522, 'id': 'brighton-concorde-2500'}}]]\n"
     ]
    }
   ],
   "source": [
    "print DEBUG[:2]\n"
   ]
  },
  {
   "cell_type": "code",
   "execution_count": null,
   "metadata": {
    "collapsed": true
   },
   "outputs": [],
   "source": []
  }
 ],
 "metadata": {
  "kernelspec": {
   "display_name": "Python 2",
   "language": "python",
   "name": "python2"
  },
  "language_info": {
   "codemirror_mode": {
    "name": "ipython",
    "version": 2
   },
   "file_extension": ".py",
   "mimetype": "text/x-python",
   "name": "python",
   "nbconvert_exporter": "python",
   "pygments_lexer": "ipython2",
   "version": "2.7.16+"
  }
 },
 "nbformat": 4,
 "nbformat_minor": 2
}
