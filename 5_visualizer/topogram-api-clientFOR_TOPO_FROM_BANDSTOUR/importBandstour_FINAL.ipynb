{
 "cells": [
  {
   "cell_type": "code",
   "execution_count": 2,
   "metadata": {},
   "outputs": [],
   "source": [
    "#!/usr/bin/env python\n",
    "# -*- coding: utf-8 -*-\n",
    "\n",
    "from topogram_client import TopogramAPIClient\n",
    "\n",
    "from csv import DictReader\n",
    "import os\n",
    "import json\n",
    "import pymongo\n",
    "#import musicbrainzngs\n",
    "import arrow\n",
    "from datetime import datetime\n",
    "from pymongo import MongoClient\n",
    "from collections import defaultdict\n",
    "from dateutil import parser\n",
    "from datetime import timedelta\n",
    "import pickle\n",
    "import time\n",
    "from slugify import slugify\n",
    "from fuzzywuzzy import fuzz\n",
    "import urllib\n",
    "import math\n",
    "\n",
    "##SET PATH TO SAVE FILES:\n",
    "savpath=\"./bands_dicts/\"\n"
   ]
  },
  {
   "cell_type": "code",
   "execution_count": 3,
   "metadata": {},
   "outputs": [],
   "source": [
    "#a function to have a range of colors for nodes/edges \n",
    "import colorsys\n",
    "def get_N_HexCol(N=20):\n",
    "\n",
    "    HSV_tuples = [(x*1.0/N, 0.5, 0.5) for x in xrange(N)]\n",
    "    hex_out = []\n",
    "    for rgb in HSV_tuples:\n",
    "        rgb = map(lambda x: int(x*255),colorsys.hsv_to_rgb(*rgb))\n",
    "        hex_out.append(\"\".join(map(lambda x: chr(x).encode('hex'),rgb)))\n",
    "    return hex_out"
   ]
  },
  {
   "cell_type": "code",
   "execution_count": 4,
   "metadata": {},
   "outputs": [],
   "source": [
    "def create_topogram(title, nodes, edges):\n",
    "\n",
    "    print \"Creating topogram '%s'\"%title\n",
    "\n",
    "    try :\n",
    "        r = topogram.create_topogram(title)\n",
    "    except ValueError:\n",
    "        print '> Topogram already exists'\n",
    "        r = topogram.get_topogram_by_name(title)\n",
    "        \n",
    "    print r\n",
    "    topogram_ID = r[\"data\"][\"_id\"]\n",
    "    print \"topogram ID : %s\"%topogram_ID\n",
    "\n",
    "    # get and backup existing nodes and edges\n",
    "    existing_nodes = topogram.get_nodes(topogram_ID)[\"data\"]\n",
    "    existing_edges = topogram.get_edges(topogram_ID)[\"data\"]\n",
    "\n",
    "    # clear existing graph\n",
    "    if len(existing_nodes) and  len(existing_nodes) != len(nodes):\n",
    "        topogram.delete_nodes([n[\"_id\"] for n in existing_nodes])\n",
    "        print \"%s nodes deleted\"%len(existing_nodes)\n",
    "        r = topogram.create_nodes(topogram_ID, nodes)\n",
    "        print \"%s nodes created.\"%len(r[\"data\"])\n",
    "    elif len(existing_nodes) and  len(existing_nodes) == len(nodes):\n",
    "        print \"nodes already created, SKIPPED\"\n",
    "    else:\n",
    "        r = topogram.create_nodes(topogram_ID, nodes)\n",
    "        print \"%s nodes created.\"%len(r[\"data\"])\n",
    "        \n",
    "    if len(existing_edges) and  len(existing_edges) != len(edges):\n",
    "        topogram.delete_edges([n[\"_id\"] for n in existing_edges])\n",
    "        print \"%s edges deleted\"%len(existing_edges)\n",
    "        r = topogram.create_edges(topogram_ID, edges)\n",
    "        print \"%s edges created.\"%len(r[\"data\"])\n",
    "    elif len(existing_edges) and  len(existing_edges) == len(edges):\n",
    "        print \"edges already created,SKIPPED\"\n",
    "    else: \n",
    "        r = topogram.create_edges(topogram_ID, edges)\n",
    "        print \"%s edges created.\"%len(r[\"data\"])\n",
    "\n",
    "    #r = topogram.create_nodes(topogram_ID, nodes)\n",
    "    #print r\n",
    "    \n",
    "    \n",
    "\n",
    "    #r=topogram.makePublic(topogram_ID)\n",
    "    print \"done. Topogram has been updated. Check it at %s/topograms/%s\"%(TOPOGRAM_URL, topogram_ID)\n",
    "\n"
   ]
  },
  {
   "cell_type": "code",
   "execution_count": 13,
   "metadata": {
    "scrolled": true
   },
   "outputs": [
    {
     "name": "stdout",
     "output_type": "stream",
     "text": [
      "{1: {'tourLength': 9, 'tourdist': 8537.241216520675, 'tourYear': 2008, 'tourdistOpt': 9340.712656690901}, 2: {'tourLength': 3, 'tourdist': 3897.598127259958, 'tourYear': 2008, 'tourdistOpt': 3897.598127259958}, 3: {'tourLength': 291, 'tourdist': 925631.7134221339, 'tourYear': 2009, 'tourdistOpt': 89218.09486013964}, 4: {'tourLength': 131, 'tourdist': 356680.719377711, 'tourYear': 2011, 'tourdistOpt': 69523.71811121632}, 'name': u'Steve Aoki', 6: {'tourLength': 355, 'tourdist': 914263.7746566971, 'tourYear': 2012, 'tourdistOpt': 100188.48034786052}, 7: {'tourLength': 188, 'tourdist': 546725.6589293461, 'tourYear': 2014, 'tourdistOpt': 78159.49849836492}, 8: {'tourLength': 102, 'tourdist': 278360.29618725023, 'tourYear': 2015, 'tourdistOpt': 65190.75458792534}, 9: {'tourLength': 235, 'tourdist': 769053.0295231593, 'tourYear': 2016, 'tourdistOpt': 86930.7992358514}, 'totalArtistOptTourDist': 516304.3627186067, 'OptArtistPercent': 86.5401284841919, 'totalArtistTourDist': 3835878.835189679, 'resultsYears': {2016: {'stattoursLength': 0.24338624338624337, 'toursLength': 235, 'toursDistOpt': 86930.7992358514, 'stattoursDist': 0.4034257696765633, 'toursDist': 769053.0295231593, 'stattoursDistOpt': 0.17859859143318849, 'toursCount': 1, 'stattoursCount': 0.0}, 'statMeanYeartoursLength': 189, 'statMeanYeartoursCount': 1, 'statMeanYearDistOpt': 73757.76610265809, 'statNbYear': 7, 2008: {'stattoursLength': -0.9365079365079365, 'toursLength': 12, 'toursDistOpt': 13238.31078395086, 'stattoursDist': -0.9773079705730172, 'toursDist': 12434.839343780633, 'stattoursDistOpt': -0.8205163810747005, 'toursCount': 2, 'stattoursCount': 1.0}, 2009: {'stattoursLength': 0.5396825396825397, 'toursLength': 291, 'toursDistOpt': 89218.09486013964, 'stattoursDist': 0.6891623203824524, 'toursDist': 925631.7134221339, 'stattoursDistOpt': 0.20960950384483495, 'toursCount': 1, 'stattoursCount': 0.0}, 'statMeanYearDist': 547982.6907413828, 2011: {'stattoursLength': -0.2275132275132275, 'toursLength': 146, 'toursDistOpt': 83378.42440451405, 'stattoursDist': -0.2893762344929777, 'toursDist': 389409.5231273115, 'stattoursDistOpt': 0.13043586879333716, 'toursCount': 2, 'stattoursCount': 1.0}, 2012: {'stattoursLength': 0.8783068783068783, 'toursLength': 355, 'toursDistOpt': 100188.48034786052, 'stattoursDist': 0.6684172513182145, 'toursDist': 914263.7746566971, 'stattoursDistOpt': 0.3583448312197448, 'toursCount': 1, 'stattoursCount': 0.0}, 2014: {'stattoursLength': -0.005291005291005291, 'toursLength': 188, 'toursDistOpt': 78159.49849836492, 'stattoursDist': -0.0022939261280971587, 'toursDist': 546725.6589293461, 'stattoursDistOpt': 0.05967822275935495, 'toursCount': 1, 'stattoursCount': 0.0}, 2015: {'stattoursLength': -0.4603174603174603, 'toursLength': 102, 'toursDistOpt': 65190.75458792534, 'stattoursDist': -0.4920272101831393, 'toursDist': 278360.29618725023, 'stattoursDistOpt': -0.11615063697575859, 'toursCount': 1, 'stattoursCount': 0.0}}, 5: {'tourLength': 15, 'tourdist': 32728.803749600458, 'tourYear': 2011, 'tourdistOpt': 13854.706293297728}}\n"
     ]
    }
   ],
   "source": [
    "artist={}\n",
    "artist[\"name\"]=\"steve-aoki\"\n",
    "artist[\"mbid\"]=\"a39acc4a-985e-4173-a9ed-f325f2d3bc1c\"\n",
    "\n",
    "with open(\"../../4_miner/tour_miner/\"+slugify(artist[\"name\"]+artist[\"mbid\"])+\".obj\", 'rb') as handle:\n",
    "          tempL= pickle.load( handle)\n",
    "print tempL"
   ]
  },
  {
   "cell_type": "code",
   "execution_count": 137,
   "metadata": {
    "scrolled": true
   },
   "outputs": [
    {
     "name": "stdout",
     "output_type": "stream",
     "text": [
      "---------------------------\n",
      "6c690937-c6c3-4c4e-9d3e-c62efa989333\n",
      "Ultra Records\n",
      "2012-07-10\n",
      "Ultra Records OWNED BY f0d2ccb8-a269-491c-bbe3-08bdcd3251b7   Ultra Records, Inc.\n",
      "TOP OF THE TREE FOR  Ultra Records, Inc.\n",
      "ENDED LOOP\n",
      "LABRELS []\n",
      "TOP OF THE TREE FOR  Ultra Records\n",
      "REZLAB SELF\n",
      "XXXXXXXXXXXXXXXXXXXXXXXXXXXXXXXXX\n",
      "---------------------------\n",
      "44510f75-af0c-49b5-ab17-179f38452781\n",
      "Ministry of Sound (Australia)\n",
      "2010-05-14\n",
      "Ministry of Sound (Australia) OWNED BY c48b8ed2-46c5-4e51-9bea-5a37fcd0053b   Ministry of Sound\n",
      "Ministry of Sound OWNED BY 136021ca-a54d-4451-99c9-6ecf52121b86   Ministry of Sound Recordings Ltd.\n",
      "Ministry of Sound Recordings Ltd. OWNED BY 9a40374c-c95b-47bc-b353-b2b9728848d3   Sony Music Entertainment UK Limited\n",
      "Sony Music Entertainment UK Limited OWNED BY b54769e4-b75e-4f60-884a-c4714687bb4c   Sony Music Entertainment\n",
      "Sony Music Entertainment OWNED BY a57fa9c5-f488-4bae-9eb6-41b734227e90   Sony Corporation of America\n",
      "TOP OF THE TREE FOR  Sony Corporation of America\n",
      "ENDED LOOP\n",
      "LABRELS []\n",
      "Sony Music Entertainment OWNED BY f9ada3ae-3081-44df-8581-ca27a3462b68   Sony BMG Music Entertainment\n",
      "Sony BMG Music Entertainment OWNED BY 29d7c88f-5200-4418-a683-5c94ea032e38   BMG\n",
      "BMG OWNED BY 663466ee-6907-433f-a615-f352cb03f867   RCA/Ariola International\n",
      "TOP OF THE TREE FOR  RCA/Ariola International\n",
      "ENDED LOOP\n",
      "LABRELS []\n",
      "BMG OWNED BY 86d60b2d-2712-4c22-800c-ecf5327ee2f5   Bertelsmann AG\n",
      "TOP OF THE TREE FOR  Bertelsmann AG\n",
      "ENDED LOOP\n",
      "LABRELS []\n",
      "BMG OWNED BY e7da57d7-13a1-44a5-bbae-9665d1277d11   Electrosonora Manufacturas Saavedra S.A.\n",
      "Electrosonora Manufacturas Saavedra S.A. OWNED BY ff8d9d7e-24b2-4c07-9373-017c3e29d1c4   E.M.S.S.A. Argentina\n",
      "TOP OF THE TREE FOR  E.M.S.S.A. Argentina\n",
      "ENDED LOOP\n",
      "LABRELS []\n",
      "TOP OF THE TREE FOR  Electrosonora Manufacturas Saavedra S.A.\n",
      "ENDED LOOP\n",
      "LABRELS []\n",
      "TOP OF THE TREE FOR  BMG\n",
      "ENDED LOOP\n",
      "LABRELS []\n",
      "Sony BMG Music Entertainment OWNED BY a57fa9c5-f488-4bae-9eb6-41b734227e90   Sony Corporation of America\n",
      "TOP OF THE TREE FOR  Sony Corporation of America\n",
      "ENDED LOOP\n",
      "LABRELS []\n",
      "Sony BMG Music Entertainment OWNED BY bf519cd2-4e1e-46bf-948b-615f75424606   Sony Music Entertainment Inc.\n",
      "Sony Music Entertainment Inc. OWNED BY a38664cd-e8b1-479f-8ed6-192a5e9f2ab8   PT Indo Semar Sakti\n",
      "PT Indo Semar Sakti OWNED BY 5bdd3a69-9f2c-4ac6-9f20-4529ae9611bd   PT Warner Music Indonesia\n",
      "TOP OF THE TREE FOR  PT Warner Music Indonesia\n",
      "ENDED LOOP\n",
      "LABRELS []\n",
      "TOP OF THE TREE FOR  PT Indo Semar Sakti\n",
      "ENDED LOOP\n",
      "LABRELS []\n",
      "Sony Music Entertainment Inc. OWNED BY a57fa9c5-f488-4bae-9eb6-41b734227e90   Sony Corporation of America\n",
      "TOP OF THE TREE FOR  Sony Corporation of America\n",
      "ENDED LOOP\n",
      "LABRELS []\n",
      "Sony Music Entertainment Inc. OWNED BY de46c917-df55-4b7e-be7b-924a667ca93b   CBS Records Inc.\n",
      "CBS Records Inc. OWNED BY 27795d9f-3994-4643-9cd2-c5f2b304472d   CBS, Inc.\n",
      "CBS, Inc. OWNED BY db3c17ad-ca46-4bb5-95ca-61fc2de9800b   CBS Corporation\n",
      "TOP OF THE TREE FOR  CBS Corporation\n",
      "ENDED LOOP\n",
      "LABRELS []\n",
      "TOP OF THE TREE FOR  CBS, Inc.\n",
      "ENDED LOOP\n",
      "LABRELS []\n",
      "CBS Records Inc. OWNED BY a57fa9c5-f488-4bae-9eb6-41b734227e90   Sony Corporation of America\n",
      "TOP OF THE TREE FOR  Sony Corporation of America\n",
      "ENDED LOOP\n",
      "LABRELS []\n",
      "TOP OF THE TREE FOR  CBS Records Inc.\n",
      "ENDED LOOP\n",
      "LABRELS []\n",
      "TOP OF THE TREE FOR  Sony Music Entertainment Inc.\n",
      "ENDED LOOP\n",
      "LABRELS []\n",
      "Sony BMG Music Entertainment OWNED BY eec97363-9296-4b03-8369-8dc065fef2dd   The Record Collection\n",
      "TOP OF THE TREE FOR  The Record Collection\n",
      "ENDED LOOP\n",
      "LABRELS []\n",
      "TOP OF THE TREE FOR  Sony BMG Music Entertainment\n",
      "ENDED LOOP\n",
      "LABRELS []\n",
      "TOP OF THE TREE FOR  Sony Music Entertainment\n",
      "ENDED LOOP\n",
      "LABRELS []\n",
      "Sony Music Entertainment UK Limited OWNED BY b914f217-8be8-486b-a733-82f03275704a   Sony BMG Music Entertainment (UK) Ltd.\n",
      "Sony BMG Music Entertainment (UK) Ltd. OWNED BY 256a9a1e-53c8-4a59-a924-9e559f3f174d   Sony Music Entertainment (UK) Ltd.\n",
      "Sony Music Entertainment (UK) Ltd. OWNED BY bf519cd2-4e1e-46bf-948b-615f75424606   Sony Music Entertainment Inc.\n",
      "Sony Music Entertainment Inc. OWNED BY a38664cd-e8b1-479f-8ed6-192a5e9f2ab8   PT Indo Semar Sakti\n",
      "PT Indo Semar Sakti OWNED BY 5bdd3a69-9f2c-4ac6-9f20-4529ae9611bd   PT Warner Music Indonesia\n",
      "TOP OF THE TREE FOR  PT Warner Music Indonesia\n",
      "ENDED LOOP\n",
      "LABRELS []\n",
      "TOP OF THE TREE FOR  PT Indo Semar Sakti\n",
      "ENDED LOOP\n",
      "LABRELS []\n",
      "Sony Music Entertainment Inc. OWNED BY a57fa9c5-f488-4bae-9eb6-41b734227e90   Sony Corporation of America\n",
      "TOP OF THE TREE FOR  Sony Corporation of America\n",
      "ENDED LOOP\n",
      "LABRELS []\n",
      "Sony Music Entertainment Inc. OWNED BY de46c917-df55-4b7e-be7b-924a667ca93b   CBS Records Inc.\n",
      "CBS Records Inc. OWNED BY 27795d9f-3994-4643-9cd2-c5f2b304472d   CBS, Inc.\n",
      "CBS, Inc. OWNED BY db3c17ad-ca46-4bb5-95ca-61fc2de9800b   CBS Corporation\n",
      "TOP OF THE TREE FOR  CBS Corporation\n",
      "ENDED LOOP\n",
      "LABRELS []\n",
      "TOP OF THE TREE FOR  CBS, Inc.\n",
      "ENDED LOOP\n",
      "LABRELS []\n",
      "CBS Records Inc. OWNED BY a57fa9c5-f488-4bae-9eb6-41b734227e90   Sony Corporation of America\n",
      "TOP OF THE TREE FOR  Sony Corporation of America\n",
      "ENDED LOOP\n",
      "LABRELS []\n",
      "TOP OF THE TREE FOR  CBS Records Inc.\n",
      "ENDED LOOP\n",
      "LABRELS []\n",
      "TOP OF THE TREE FOR  Sony Music Entertainment Inc.\n",
      "ENDED LOOP\n",
      "LABRELS []\n",
      "TOP OF THE TREE FOR  Sony Music Entertainment (UK) Ltd.\n",
      "ENDED LOOP\n",
      "LABRELS []\n",
      "Sony BMG Music Entertainment (UK) Ltd. OWNED BY f9ada3ae-3081-44df-8581-ca27a3462b68   Sony BMG Music Entertainment\n",
      "Sony BMG Music Entertainment OWNED BY 29d7c88f-5200-4418-a683-5c94ea032e38   BMG\n",
      "BMG OWNED BY 663466ee-6907-433f-a615-f352cb03f867   RCA/Ariola International\n",
      "TOP OF THE TREE FOR  RCA/Ariola International\n",
      "ENDED LOOP\n",
      "LABRELS []\n",
      "BMG OWNED BY 86d60b2d-2712-4c22-800c-ecf5327ee2f5   Bertelsmann AG\n",
      "TOP OF THE TREE FOR  Bertelsmann AG\n",
      "ENDED LOOP\n",
      "LABRELS []\n",
      "BMG OWNED BY e7da57d7-13a1-44a5-bbae-9665d1277d11   Electrosonora Manufacturas Saavedra S.A.\n",
      "Electrosonora Manufacturas Saavedra S.A. OWNED BY ff8d9d7e-24b2-4c07-9373-017c3e29d1c4   E.M.S.S.A. Argentina\n",
      "TOP OF THE TREE FOR  E.M.S.S.A. Argentina\n",
      "ENDED LOOP\n",
      "LABRELS []\n",
      "TOP OF THE TREE FOR  Electrosonora Manufacturas Saavedra S.A.\n",
      "ENDED LOOP\n",
      "LABRELS []\n",
      "TOP OF THE TREE FOR  BMG\n",
      "ENDED LOOP\n",
      "LABRELS []\n",
      "Sony BMG Music Entertainment OWNED BY a57fa9c5-f488-4bae-9eb6-41b734227e90   Sony Corporation of America\n",
      "TOP OF THE TREE FOR  Sony Corporation of America\n",
      "ENDED LOOP\n",
      "LABRELS []\n",
      "Sony BMG Music Entertainment OWNED BY bf519cd2-4e1e-46bf-948b-615f75424606   Sony Music Entertainment Inc.\n",
      "Sony Music Entertainment Inc. OWNED BY a38664cd-e8b1-479f-8ed6-192a5e9f2ab8   PT Indo Semar Sakti\n",
      "PT Indo Semar Sakti OWNED BY 5bdd3a69-9f2c-4ac6-9f20-4529ae9611bd   PT Warner Music Indonesia\n",
      "TOP OF THE TREE FOR  PT Warner Music Indonesia\n",
      "ENDED LOOP\n",
      "LABRELS []\n",
      "TOP OF THE TREE FOR  PT Indo Semar Sakti\n",
      "ENDED LOOP\n",
      "LABRELS []\n",
      "Sony Music Entertainment Inc. OWNED BY a57fa9c5-f488-4bae-9eb6-41b734227e90   Sony Corporation of America\n",
      "TOP OF THE TREE FOR  Sony Corporation of America\n",
      "ENDED LOOP\n",
      "LABRELS []\n",
      "Sony Music Entertainment Inc. OWNED BY de46c917-df55-4b7e-be7b-924a667ca93b   CBS Records Inc.\n",
      "CBS Records Inc. OWNED BY 27795d9f-3994-4643-9cd2-c5f2b304472d   CBS, Inc.\n",
      "CBS, Inc. OWNED BY db3c17ad-ca46-4bb5-95ca-61fc2de9800b   CBS Corporation\n",
      "TOP OF THE TREE FOR  CBS Corporation\n",
      "ENDED LOOP\n",
      "LABRELS []\n",
      "TOP OF THE TREE FOR  CBS, Inc.\n",
      "ENDED LOOP\n",
      "LABRELS []\n",
      "CBS Records Inc. OWNED BY a57fa9c5-f488-4bae-9eb6-41b734227e90   Sony Corporation of America\n",
      "TOP OF THE TREE FOR  Sony Corporation of America\n",
      "ENDED LOOP\n",
      "LABRELS []\n",
      "TOP OF THE TREE FOR  CBS Records Inc.\n",
      "ENDED LOOP\n",
      "LABRELS []\n",
      "TOP OF THE TREE FOR  Sony Music Entertainment Inc.\n",
      "ENDED LOOP\n",
      "LABRELS []\n",
      "Sony BMG Music Entertainment OWNED BY eec97363-9296-4b03-8369-8dc065fef2dd   The Record Collection\n",
      "TOP OF THE TREE FOR  The Record Collection\n",
      "ENDED LOOP\n",
      "LABRELS []\n",
      "TOP OF THE TREE FOR  Sony BMG Music Entertainment\n",
      "ENDED LOOP\n",
      "LABRELS []\n",
      "TOP OF THE TREE FOR  Sony BMG Music Entertainment (UK) Ltd.\n",
      "ENDED LOOP\n",
      "LABRELS []\n",
      "TOP OF THE TREE FOR  Sony Music Entertainment UK Limited\n",
      "ENDED LOOP\n",
      "LABRELS []\n",
      "TOP OF THE TREE FOR  Ministry of Sound Recordings Ltd.\n",
      "ENDED LOOP\n",
      "LABRELS []\n",
      "Ministry of Sound OWNED BY 5fc9c4d5-7b0e-45eb-b861-c281b6834b55   Metropol Records\n",
      "TOP OF THE TREE FOR  Metropol Records\n",
      "ENDED LOOP\n",
      "LABRELS []\n",
      "Ministry of Sound OWNED BY b72d7200-ba6a-413c-bfb6-c6d6a69e5cbc   Sumo Records\n",
      "TOP OF THE TREE FOR  Sumo Records\n",
      "ENDED LOOP\n",
      "LABRELS []\n",
      "Ministry of Sound OWNED BY f9ada3ae-3081-44df-8581-ca27a3462b68   Sony BMG Music Entertainment\n",
      "Sony BMG Music Entertainment OWNED BY 29d7c88f-5200-4418-a683-5c94ea032e38   BMG\n",
      "BMG OWNED BY 663466ee-6907-433f-a615-f352cb03f867   RCA/Ariola International\n",
      "TOP OF THE TREE FOR  RCA/Ariola International\n",
      "ENDED LOOP\n",
      "LABRELS []\n",
      "BMG OWNED BY 86d60b2d-2712-4c22-800c-ecf5327ee2f5   Bertelsmann AG\n",
      "TOP OF THE TREE FOR  Bertelsmann AG\n",
      "ENDED LOOP\n",
      "LABRELS []\n",
      "BMG OWNED BY e7da57d7-13a1-44a5-bbae-9665d1277d11   Electrosonora Manufacturas Saavedra S.A.\n",
      "Electrosonora Manufacturas Saavedra S.A. OWNED BY ff8d9d7e-24b2-4c07-9373-017c3e29d1c4   E.M.S.S.A. Argentina\n",
      "TOP OF THE TREE FOR  E.M.S.S.A. Argentina\n",
      "ENDED LOOP\n",
      "LABRELS []\n",
      "TOP OF THE TREE FOR  Electrosonora Manufacturas Saavedra S.A.\n",
      "ENDED LOOP\n",
      "LABRELS []\n",
      "TOP OF THE TREE FOR  BMG\n",
      "ENDED LOOP\n",
      "LABRELS []\n",
      "Sony BMG Music Entertainment OWNED BY a57fa9c5-f488-4bae-9eb6-41b734227e90   Sony Corporation of America\n",
      "TOP OF THE TREE FOR  Sony Corporation of America\n",
      "ENDED LOOP\n",
      "LABRELS []\n",
      "Sony BMG Music Entertainment OWNED BY bf519cd2-4e1e-46bf-948b-615f75424606   Sony Music Entertainment Inc.\n",
      "Sony Music Entertainment Inc. OWNED BY a38664cd-e8b1-479f-8ed6-192a5e9f2ab8   PT Indo Semar Sakti\n",
      "PT Indo Semar Sakti OWNED BY 5bdd3a69-9f2c-4ac6-9f20-4529ae9611bd   PT Warner Music Indonesia\n",
      "TOP OF THE TREE FOR  PT Warner Music Indonesia\n",
      "ENDED LOOP\n",
      "LABRELS []\n",
      "TOP OF THE TREE FOR  PT Indo Semar Sakti\n",
      "ENDED LOOP\n",
      "LABRELS []\n",
      "Sony Music Entertainment Inc. OWNED BY a57fa9c5-f488-4bae-9eb6-41b734227e90   Sony Corporation of America\n",
      "TOP OF THE TREE FOR  Sony Corporation of America\n",
      "ENDED LOOP\n",
      "LABRELS []\n",
      "Sony Music Entertainment Inc. OWNED BY de46c917-df55-4b7e-be7b-924a667ca93b   CBS Records Inc.\n",
      "CBS Records Inc. OWNED BY 27795d9f-3994-4643-9cd2-c5f2b304472d   CBS, Inc.\n",
      "CBS, Inc. OWNED BY db3c17ad-ca46-4bb5-95ca-61fc2de9800b   CBS Corporation\n",
      "TOP OF THE TREE FOR  CBS Corporation\n",
      "ENDED LOOP\n",
      "LABRELS []\n",
      "TOP OF THE TREE FOR  CBS, Inc.\n",
      "ENDED LOOP\n",
      "LABRELS []\n",
      "CBS Records Inc. OWNED BY a57fa9c5-f488-4bae-9eb6-41b734227e90   Sony Corporation of America\n",
      "TOP OF THE TREE FOR  Sony Corporation of America\n",
      "ENDED LOOP\n",
      "LABRELS []\n",
      "TOP OF THE TREE FOR  CBS Records Inc.\n",
      "ENDED LOOP\n",
      "LABRELS []\n",
      "TOP OF THE TREE FOR  Sony Music Entertainment Inc.\n",
      "ENDED LOOP\n",
      "LABRELS []\n",
      "Sony BMG Music Entertainment OWNED BY eec97363-9296-4b03-8369-8dc065fef2dd   The Record Collection\n",
      "TOP OF THE TREE FOR  The Record Collection\n",
      "ENDED LOOP\n",
      "LABRELS []\n",
      "TOP OF THE TREE FOR  Sony BMG Music Entertainment\n",
      "ENDED LOOP\n",
      "LABRELS []\n",
      "TOP OF THE TREE FOR  Ministry of Sound\n",
      "ENDED LOOP\n",
      "LABRELS []\n",
      "TOP OF THE TREE FOR  Ministry of Sound (Australia)\n",
      "REZLAB SELF\n",
      "XXXXXXXXXXXXXXXXXXXXXXXXXXXXXXXXX\n",
      "---------------------------\n",
      "21d62bdf-5962-4c41-90d0-1409ea4b59cb\n",
      "Dim Mak Records\n",
      "2012-01-10\n",
      "REZLAB None\n",
      "XXXXXXXXXXXXXXXXXXXXXXXXXXXXXXXXX\n",
      "---------------------------\n",
      "6c690937-c6c3-4c4e-9d3e-c62efa989333\n",
      "Ultra Records\n",
      "2012-01-17\n",
      "Ultra Records OWNED BY f0d2ccb8-a269-491c-bbe3-08bdcd3251b7   Ultra Records, Inc.\n",
      "TOP OF THE TREE FOR  Ultra Records, Inc.\n",
      "ENDED LOOP\n",
      "LABRELS []\n",
      "TOP OF THE TREE FOR  Ultra Records\n",
      "REZLAB SELF\n",
      "XXXXXXXXXXXXXXXXXXXXXXXXXXXXXXXXX\n",
      "---------------------------\n",
      "6c690937-c6c3-4c4e-9d3e-c62efa989333\n",
      "Ultra Records\n",
      "2016-03-02\n",
      "Ultra Records OWNED BY f0d2ccb8-a269-491c-bbe3-08bdcd3251b7   Ultra Records, Inc.\n",
      "TOP OF THE TREE FOR  Ultra Records, Inc.\n",
      "ENDED LOOP\n",
      "LABRELS []\n",
      "TOP OF THE TREE FOR  Ultra Records\n",
      "REZLAB SELF\n",
      "XXXXXXXXXXXXXXXXXXXXXXXXXXXXXXXXX\n",
      "---------------------------\n",
      "f259fefd-0e3e-4337-85a8-9e6b5f2b801f\n",
      "Mixmag\n",
      "2012-10\n",
      "Mixmag OWNED BY 5f33772c-841c-4c2b-af0d-0570015beace   DMC\n",
      "TOP OF THE TREE FOR  DMC\n",
      "ENDED LOOP\n",
      "LABRELS []\n",
      "TOP OF THE TREE FOR  Mixmag\n",
      "REZLAB SELF\n",
      "XXXXXXXXXXXXXXXXXXXXXXXXXXXXXXXXX\n",
      "---------------------------\n",
      "9e6626ae-56e2-4cdf-9c8b-ad1443986df9\n",
      "Lektroluv\n",
      "2010-09-29\n",
      "---------------------------\n",
      "6c690937-c6c3-4c4e-9d3e-c62efa989333\n",
      "Ultra Records\n",
      "2015-05-12\n",
      "Ultra Records OWNED BY f0d2ccb8-a269-491c-bbe3-08bdcd3251b7   Ultra Records, Inc.\n",
      "TOP OF THE TREE FOR  Ultra Records, Inc.\n",
      "ENDED LOOP\n",
      "LABRELS []\n",
      "TOP OF THE TREE FOR  Ultra Records\n",
      "REZLAB SELF\n",
      "XXXXXXXXXXXXXXXXXXXXXXXXXXXXXXXXX\n",
      "---------------------------\n",
      "6c690937-c6c3-4c4e-9d3e-c62efa989333\n",
      "Ultra Records\n",
      "2017-07-21\n",
      "Ultra Records OWNED BY f0d2ccb8-a269-491c-bbe3-08bdcd3251b7   Ultra Records, Inc.\n",
      "TOP OF THE TREE FOR  Ultra Records, Inc.\n",
      "ENDED LOOP\n",
      "LABRELS []\n",
      "TOP OF THE TREE FOR  Ultra Records\n",
      "REZLAB SELF\n",
      "XXXXXXXXXXXXXXXXXXXXXXXXXXXXXXXXX\n",
      "---------------------------\n",
      "6f5f098b-34c9-4462-88c0-635127970862\n",
      "BANDAI NAMCO Games\n",
      "2016-10-25\n",
      "---------------------------\n",
      "6c690937-c6c3-4c4e-9d3e-c62efa989333\n",
      "Ultra Records\n",
      "2014-11-10\n",
      "Ultra Records OWNED BY f0d2ccb8-a269-491c-bbe3-08bdcd3251b7   Ultra Records, Inc.\n",
      "TOP OF THE TREE FOR  Ultra Records, Inc.\n",
      "ENDED LOOP\n",
      "LABRELS []\n",
      "TOP OF THE TREE FOR  Ultra Records\n",
      "REZLAB SELF\n",
      "XXXXXXXXXXXXXXXXXXXXXXXXXXXXXXXXX\n",
      "---------------------------\n",
      "6c690937-c6c3-4c4e-9d3e-c62efa989333\n",
      "Ultra Records\n",
      "2015-10-02\n",
      "Ultra Records OWNED BY f0d2ccb8-a269-491c-bbe3-08bdcd3251b7   Ultra Records, Inc.\n",
      "TOP OF THE TREE FOR  Ultra Records, Inc.\n",
      "ENDED LOOP\n",
      "LABRELS []\n",
      "TOP OF THE TREE FOR  Ultra Records\n",
      "REZLAB SELF\n",
      "XXXXXXXXXXXXXXXXXXXXXXXXXXXXXXXXX\n",
      "---------------------------\n",
      "6c690937-c6c3-4c4e-9d3e-c62efa989333\n",
      "Ultra Records\n",
      "2015-05-12\n",
      "Ultra Records OWNED BY f0d2ccb8-a269-491c-bbe3-08bdcd3251b7   Ultra Records, Inc.\n",
      "TOP OF THE TREE FOR  Ultra Records, Inc.\n",
      "ENDED LOOP\n",
      "LABRELS []\n",
      "TOP OF THE TREE FOR  Ultra Records\n",
      "REZLAB SELF\n",
      "XXXXXXXXXXXXXXXXXXXXXXXXXXXXXXXXX\n",
      "---------------------------\n",
      "c4f0f076-f6e5-40ad-96e6-b341a4b85cd0\n",
      "Thrive Records\n",
      "2008-01-23\n",
      "TOP OF THE TREE FOR  Thrive Records\n",
      "REZLAB SELF\n",
      "XXXXXXXXXXXXXXXXXXXXXXXXXXXXXXXXX\n",
      "---------------------------\n",
      "6c690937-c6c3-4c4e-9d3e-c62efa989333\n",
      "Ultra Records\n",
      "2014-08-12\n",
      "Ultra Records OWNED BY f0d2ccb8-a269-491c-bbe3-08bdcd3251b7   Ultra Records, Inc.\n",
      "TOP OF THE TREE FOR  Ultra Records, Inc.\n",
      "ENDED LOOP\n",
      "LABRELS []\n",
      "TOP OF THE TREE FOR  Ultra Records\n",
      "REZLAB SELF\n",
      "XXXXXXXXXXXXXXXXXXXXXXXXXXXXXXXXX\n",
      "---------------------------\n",
      "21d62bdf-5962-4c41-90d0-1409ea4b59cb\n",
      "Dim Mak Records\n",
      "2017-07-21\n",
      "REZLAB None\n",
      "XXXXXXXXXXXXXXXXXXXXXXXXXXXXXXXXX\n",
      "---------------------------\n",
      "6c690937-c6c3-4c4e-9d3e-c62efa989333\n",
      "Ultra Records\n",
      "2014-10-09\n",
      "Ultra Records OWNED BY f0d2ccb8-a269-491c-bbe3-08bdcd3251b7   Ultra Records, Inc.\n",
      "TOP OF THE TREE FOR  Ultra Records, Inc.\n",
      "ENDED LOOP\n",
      "LABRELS []\n",
      "TOP OF THE TREE FOR  Ultra Records\n",
      "REZLAB SELF\n",
      "XXXXXXXXXXXXXXXXXXXXXXXXXXXXXXXXX\n",
      "---------------------------\n",
      "6c690937-c6c3-4c4e-9d3e-c62efa989333\n",
      "Ultra Records\n",
      "2014-08-12\n",
      "Ultra Records OWNED BY f0d2ccb8-a269-491c-bbe3-08bdcd3251b7   Ultra Records, Inc.\n",
      "TOP OF THE TREE FOR  Ultra Records, Inc.\n",
      "ENDED LOOP\n",
      "LABRELS []\n",
      "TOP OF THE TREE FOR  Ultra Records\n",
      "REZLAB SELF\n",
      "XXXXXXXXXXXXXXXXXXXXXXXXXXXXXXXXX\n",
      "---------------------------\n",
      "9e6626ae-56e2-4cdf-9c8b-ad1443986df9\n",
      "Lektroluv\n",
      "2010-10-04\n"
     ]
    }
   ],
   "source": [
    "###HERE WE BUILD A LABEL OWNERSHIP CRUSHER FACTORIZED\n",
    "with open(\"../../4_miner/labels_aliases_TOTAL.obj\", 'rb') as handle:\n",
    "          tempRelAll= pickle.load( handle)\n",
    "def find_owning_label(label):\n",
    "    \n",
    "    labrels=[]\n",
    "    if \"label-relation-list\" in tempRelAll[label][\"label\"] :\n",
    "\n",
    "        for relat in tempRelAll[label][\"label\"][\"label-relation-list\"]:\n",
    "            if \"direction\" in relat and relat[\"direction\"] == \"backward\":\n",
    "                print tempRelAll[label][\"label\"][\"name\"],\"OWNED BY\",relat[\"target\"],\" \",tempRelAll[relat[\"target\"]][\"label\"][\"name\"]\n",
    "                labrels.append(relat[\"target\"])\n",
    "                rum_and_whisky=\"\"\n",
    "                while rum_and_whisky != \"SELF\": \n",
    "                    rum_and_whisky=find_owning_label(relat[\"target\"])\n",
    "                print \"ENDED LOOP\"\n",
    "                labrels.remove(relat[\"target\"])\n",
    "                print \"LABRELS\",labrels\n",
    "                #if labrels[0]==relat[\"target\"]:\n",
    "                 #   break\n",
    "                \n",
    "            else:\n",
    "                pass\n",
    "            \n",
    "        \n",
    "        if not labrels :\n",
    "            print \"TOP OF THE TREE FOR \",tempRelAll[label][\"label\"][\"name\"]\n",
    "            return \"SELF\"\n",
    "        else:\n",
    "            return labrels\n",
    "                \n",
    "\n",
    "\n",
    "artist={}\n",
    "artist[\"name\"]=\"Steve Aoki\"\n",
    "artist[\"mbid\"]=\"a39acc4a-985e-4173-a9ed-f325f2d3bc1c\"\n",
    "\n",
    "with open(\"../../4_miner/release_mbnz/\"+artist[\"name\"]+artist[\"mbid\"]+\".obj\", 'rb') as handle:\n",
    "          tempRelz= pickle.load( handle)\n",
    "#print tempRel[\"release-list\"][0]['label-info-list'][0]['label']['id']\n",
    "#print tempRel[\"release-list\"][0]['release-event-list'][0][\"date\"]\n",
    "\n",
    "\n",
    "\n",
    "\n",
    "for release in tempRelz[\"release-list\"]:\n",
    "    print\"---------------------------\"\n",
    "    print release['label-info-list'][0]['label']['id']\n",
    "    print release['label-info-list'][0]['label']['name']\n",
    "    print release['release-event-list'][0][\"date\"]\n",
    "    \n",
    "    #print tempRelAll[release['label-info-list'][0]['label']['id']][\"label\"]\n",
    "    try:\n",
    "        result_lab=find_owning_label(release['label-info-list'][0]['label']['id'])\n",
    "        print \"REZLAB\",result_lab \n",
    "        print\"XXXXXXXXXXXXXXXXXXXXXXXXXXXXXXXXX\"\n",
    "    except KeyError as e:\n",
    "        #print e\n",
    "        pass"
   ]
  },
  {
   "cell_type": "code",
   "execution_count": 5,
   "metadata": {
    "scrolled": false
   },
   "outputs": [
    {
     "name": "stdout",
     "output_type": "stream",
     "text": [
      "!!!\n",
      "(həd) p.e.\n",
      ".38 Special\n",
      "SKIPPED PROCESSING BUT TAKING INTO ACCOUNT  10 String Symphony\n",
      "10 Years\n",
      "SKIPPED PROCESSING BUT TAKING INTO ACCOUNT  10cc\n",
      "112\n",
      "SKIPPED PROCESSING BUT TAKING INTO ACCOUNT  12\n",
      "SKIPPED PROCESSING BUT TAKING INTO ACCOUNT  12 Stones\n",
      "12th Planet\n",
      "2 Chainz\n",
      "2 Many DJ's\n",
      "2Cellos\n",
      "3 Doors Down\n",
      "30\n",
      "311\n",
      "3LAU\n",
      "40 oz. To Freedom\n",
      "4th Dimension\n",
      "5 Seconds of Summer\n",
      "50 Cent\n",
      "65daysofstatic\n",
      "68\n",
      "SKIPPED PROCESSING BUT TAKING INTO ACCOUNT  7 Seconds\n",
      "SKIPPED PROCESSING BUT TAKING INTO ACCOUNT  7EVENTH TIME DOWN\n",
      "8 Ball Aitken\n",
      "SKIPPED PROCESSING BUT TAKING INTO ACCOUNT  A Chorus Line\n",
      "SKIPPED PROCESSING BUT TAKING INTO ACCOUNT  A Christmas Carol\n",
      "A Day To Remember\n",
      "A Guy Called Gerald\n",
      "A Thousand Horses\n",
      "SKIPPED PROCESSING BUT TAKING INTO ACCOUNT  A Tribe Called Red\n",
      "A Wilhelm Scream\n",
      "A$AP Ferg\n",
      "A-Trak\n",
      "SKIPPED PROCESSING BUT TAKING INTO ACCOUNT  A.J. Croce\n",
      "SKIPPED PROCESSING BUT TAKING INTO ACCOUNT  A.Skillz\n",
      "SKIPPED PROCESSING BUT TAKING INTO ACCOUNT  A.Z. \n",
      "ABBA Mania\n",
      "SKIPPED PROCESSING BUT TAKING INTO ACCOUNT  ABC\n",
      "ABDULLA RASHIM\n",
      "ABK\n",
      "AC Slater\n",
      "SKIPPED PROCESSING BUT TAKING INTO ACCOUNT  ADHD\n",
      "AFFIANCE\n",
      "AFI\n",
      "AIR\n",
      "AL\n",
      "ALADDIN\n",
      "ALO\n",
      "AME\n",
      "AMTRAC\n",
      "ANDRE GALLUZZI\n",
      "ANORAAK\n",
      "ANTISERUM\n",
      "SKIPPED PROCESSING BUT TAKING INTO ACCOUNT  ANiMAL\n",
      "SKIPPED PROCESSING BUT TAKING INTO ACCOUNT  ARMS\n",
      "ASAP Ferg\n",
      "ATB\n",
      "AWOL\n",
      "AWOLNATION\n",
      "SKIPPED PROCESSING BUT TAKING INTO ACCOUNT  Aaron Carter\n",
      "Aaron Goldberg\n",
      "SKIPPED PROCESSING BUT TAKING INTO ACCOUNT  Aaron Lee Tasjan\n",
      "Aaron Lewis\n",
      "Aaron Neville\n",
      "Aaron Shust\n",
      "Aaron Watson\n",
      "SKIPPED PROCESSING BUT TAKING INTO ACCOUNT  AbbaFab\n",
      "SKIPPED PROCESSING BUT TAKING INTO ACCOUNT  Abbamania\n",
      "Abigail Washburn\n",
      "Aborted\n",
      "Above & Beyond\n",
      "Absinthe\n",
      "SKIPPED PROCESSING BUT TAKING INTO ACCOUNT  Absu\n",
      "SKIPPED PROCESSING BUT TAKING INTO ACCOUNT  Academy of St. Martin in the Fields\n",
      "Accept\n",
      "Ace\n",
      "Ace Frehley\n",
      "Ace Ventura\n",
      "Acid Mothers Temple & The Melting Paraiso U.F.O.\n",
      "Acid Pauli\n",
      "SKIPPED PROCESSING BUT TAKING INTO ACCOUNT  Acoustic Alchemy\n",
      "Action Bronson\n",
      "Adam\n",
      "Adam Beyer\n",
      "SKIPPED PROCESSING BUT TAKING INTO ACCOUNT  Adam Cappa\n",
      "Adam Ezra Group\n",
      "SKIPPED PROCESSING BUT TAKING INTO ACCOUNT  Adam Hood\n",
      "Adam Lambert\n",
      "Adam Port\n",
      "SKIPPED PROCESSING BUT TAKING INTO ACCOUNT  Adam Rafferty\n",
      "Adam Shelton\n",
      "SKIPPED PROCESSING BUT TAKING INTO ACCOUNT  Adam X\n",
      "Adana Twins\n",
      "Addison Groove\n",
      "Adelaide\n",
      "Adele\n",
      "Adelitas Way\n",
      "Adolescents\n",
      "Adrian\n",
      "Adriatique\n",
      "Aerosmith\n",
      "Aesthetic Perfection\n",
      "Afrojack\n",
      "Afroman\n",
      "SKIPPED PROCESSING BUT TAKING INTO ACCOUNT  After Dark\n",
      "After Hours\n",
      "After Party\n",
      "After the Burial\n",
      "After the Fall\n",
      "Afterhours\n",
      "Afterparty\n",
      "Against Me!\n",
      "SKIPPED PROCESSING BUT TAKING INTO ACCOUNT  Against The Current\n",
      "SKIPPED PROCESSING BUT TAKING INTO ACCOUNT  Agent\n",
      "Agent Orange\n",
      "Agents Of Time\n",
      "Agnes Obel\n",
      "Agnostic Front\n",
      "Ahmad Jamal\n",
      "Aimee Mann\n",
      "Air Supply\n",
      "Airbourne\n",
      "Akira\n",
      "Al Di Meola\n",
      "Al Stewart\n",
      "Alabama Shakes\n",
      "Alan Fitzpatrick\n",
      "Alan Jackson\n",
      "SKIPPED PROCESSING BUT TAKING INTO ACCOUNT  Alan Walker\n",
      "Alaska\n",
      "SKIPPED PROCESSING BUT TAKING INTO ACCOUNT  Albert Cummings\n",
      "Albert Lee\n",
      "Alborosie\n",
      "Alcest -official-\n",
      "SKIPPED PROCESSING BUT TAKING INTO ACCOUNT  Aldous Harding\n",
      "SKIPPED PROCESSING BUT TAKING INTO ACCOUNT  Alejandra Guzmán\n",
      "Alejandro Escovedo\n",
      "Alejandro Fernández\n",
      "Alejandro Sanz\n",
      "Alesso\n",
      "Alestorm\n",
      "Alex\n",
      "Alex Acosta\n",
      "Alex Cuba\n",
      "Alex Di Stefano\n",
      "Alex G\n"
     ]
    },
    {
     "ename": "KeyboardInterrupt",
     "evalue": "",
     "output_type": "error",
     "traceback": [
      "\u001b[0;31m---------------------------------------------------------------------------\u001b[0m",
      "\u001b[0;31mKeyboardInterrupt\u001b[0m                         Traceback (most recent call last)",
      "\u001b[0;32m<ipython-input-5-de0913fdb407>\u001b[0m in \u001b[0;36m<module>\u001b[0;34m()\u001b[0m\n\u001b[1;32m    238\u001b[0m     \u001b[0;32mfor\u001b[0m \u001b[0mnode\u001b[0m \u001b[0;32min\u001b[0m \u001b[0mmy_nodesdictList\u001b[0m\u001b[0;34m:\u001b[0m\u001b[0;34m\u001b[0m\u001b[0m\n\u001b[1;32m    239\u001b[0m         \u001b[0;32mfor\u001b[0m \u001b[0msalle\u001b[0m \u001b[0;32min\u001b[0m \u001b[0mliste_salle_parsee_LN\u001b[0m\u001b[0;34m:\u001b[0m\u001b[0;34m\u001b[0m\u001b[0m\n\u001b[0;32m--> 240\u001b[0;31m             \u001b[0;32mif\u001b[0m \u001b[0mfuzz\u001b[0m\u001b[0;34m.\u001b[0m\u001b[0mpartial_ratio\u001b[0m\u001b[0;34m(\u001b[0m \u001b[0mnode\u001b[0m\u001b[0;34m[\u001b[0m\u001b[0;34m'data'\u001b[0m\u001b[0;34m]\u001b[0m\u001b[0;34m[\u001b[0m\u001b[0;34m'name'\u001b[0m\u001b[0;34m]\u001b[0m\u001b[0;34m,\u001b[0m \u001b[0msalle\u001b[0m\u001b[0;34m)\u001b[0m\u001b[0;34m>=\u001b[0m\u001b[0;36m80\u001b[0m\u001b[0;34m:\u001b[0m\u001b[0;34m\u001b[0m\u001b[0m\n\u001b[0m\u001b[1;32m    241\u001b[0m                 \u001b[0;31m#print \"ONE HEERE\"\u001b[0m\u001b[0;34m\u001b[0m\u001b[0;34m\u001b[0m\u001b[0m\n\u001b[1;32m    242\u001b[0m                 \u001b[0;32mif\u001b[0m \u001b[0mround\u001b[0m\u001b[0;34m(\u001b[0m\u001b[0mnode\u001b[0m\u001b[0;34m[\u001b[0m\u001b[0;34m'data'\u001b[0m\u001b[0;34m]\u001b[0m\u001b[0;34m[\u001b[0m\u001b[0;34m'lat'\u001b[0m\u001b[0;34m]\u001b[0m\u001b[0;34m,\u001b[0m\u001b[0;36m2\u001b[0m\u001b[0;34m)\u001b[0m\u001b[0;34m==\u001b[0m\u001b[0mround\u001b[0m\u001b[0;34m(\u001b[0m\u001b[0mliste_salle_parsee_LN\u001b[0m\u001b[0;34m[\u001b[0m\u001b[0msalle\u001b[0m\u001b[0;34m]\u001b[0m\u001b[0;34m[\u001b[0m\u001b[0;34m\"lat\"\u001b[0m\u001b[0;34m]\u001b[0m\u001b[0;34m,\u001b[0m\u001b[0;36m2\u001b[0m\u001b[0;34m)\u001b[0m \u001b[0;32mand\u001b[0m \u001b[0mround\u001b[0m\u001b[0;34m(\u001b[0m\u001b[0mnode\u001b[0m\u001b[0;34m[\u001b[0m\u001b[0;34m'data'\u001b[0m\u001b[0;34m]\u001b[0m\u001b[0;34m[\u001b[0m\u001b[0;34m'lng'\u001b[0m\u001b[0;34m]\u001b[0m\u001b[0;34m,\u001b[0m\u001b[0;36m2\u001b[0m\u001b[0;34m)\u001b[0m\u001b[0;34m==\u001b[0m\u001b[0mround\u001b[0m\u001b[0;34m(\u001b[0m\u001b[0mliste_salle_parsee_LN\u001b[0m\u001b[0;34m[\u001b[0m\u001b[0msalle\u001b[0m\u001b[0;34m]\u001b[0m\u001b[0;34m[\u001b[0m\u001b[0;34m\"lng\"\u001b[0m\u001b[0;34m]\u001b[0m\u001b[0;34m,\u001b[0m\u001b[0;36m2\u001b[0m\u001b[0;34m)\u001b[0m \u001b[0;34m:\u001b[0m\u001b[0;34m\u001b[0m\u001b[0m\n",
      "\u001b[0;32m/home/goonieb/gitrep/bandstour/venv/lib/python2.7/site-packages/fuzzywuzzy/utils.pyc\u001b[0m in \u001b[0;36mdecorator\u001b[0;34m(*args, **kwargs)\u001b[0m\n\u001b[1;32m     36\u001b[0m         \u001b[0;32mif\u001b[0m \u001b[0margs\u001b[0m\u001b[0;34m[\u001b[0m\u001b[0;36m0\u001b[0m\u001b[0;34m]\u001b[0m \u001b[0;32mis\u001b[0m \u001b[0mNone\u001b[0m \u001b[0;32mor\u001b[0m \u001b[0margs\u001b[0m\u001b[0;34m[\u001b[0m\u001b[0;36m1\u001b[0m\u001b[0;34m]\u001b[0m \u001b[0;32mis\u001b[0m \u001b[0mNone\u001b[0m\u001b[0;34m:\u001b[0m\u001b[0;34m\u001b[0m\u001b[0m\n\u001b[1;32m     37\u001b[0m             \u001b[0;32mreturn\u001b[0m \u001b[0;36m0\u001b[0m\u001b[0;34m\u001b[0m\u001b[0m\n\u001b[0;32m---> 38\u001b[0;31m         \u001b[0;32mreturn\u001b[0m \u001b[0mfunc\u001b[0m\u001b[0;34m(\u001b[0m\u001b[0;34m*\u001b[0m\u001b[0margs\u001b[0m\u001b[0;34m,\u001b[0m \u001b[0;34m**\u001b[0m\u001b[0mkwargs\u001b[0m\u001b[0;34m)\u001b[0m\u001b[0;34m\u001b[0m\u001b[0m\n\u001b[0m\u001b[1;32m     39\u001b[0m     \u001b[0;32mreturn\u001b[0m \u001b[0mdecorator\u001b[0m\u001b[0;34m\u001b[0m\u001b[0m\n\u001b[1;32m     40\u001b[0m \u001b[0;34m\u001b[0m\u001b[0m\n",
      "\u001b[0;32m/home/goonieb/gitrep/bandstour/venv/lib/python2.7/site-packages/fuzzywuzzy/utils.pyc\u001b[0m in \u001b[0;36mdecorator\u001b[0;34m(*args, **kwargs)\u001b[0m\n\u001b[1;32m     27\u001b[0m         \u001b[0;32mif\u001b[0m \u001b[0margs\u001b[0m\u001b[0;34m[\u001b[0m\u001b[0;36m0\u001b[0m\u001b[0;34m]\u001b[0m \u001b[0;34m==\u001b[0m \u001b[0margs\u001b[0m\u001b[0;34m[\u001b[0m\u001b[0;36m1\u001b[0m\u001b[0;34m]\u001b[0m\u001b[0;34m:\u001b[0m\u001b[0;34m\u001b[0m\u001b[0m\n\u001b[1;32m     28\u001b[0m             \u001b[0;32mreturn\u001b[0m \u001b[0;36m100\u001b[0m\u001b[0;34m\u001b[0m\u001b[0m\n\u001b[0;32m---> 29\u001b[0;31m         \u001b[0;32mreturn\u001b[0m \u001b[0mfunc\u001b[0m\u001b[0;34m(\u001b[0m\u001b[0;34m*\u001b[0m\u001b[0margs\u001b[0m\u001b[0;34m,\u001b[0m \u001b[0;34m**\u001b[0m\u001b[0mkwargs\u001b[0m\u001b[0;34m)\u001b[0m\u001b[0;34m\u001b[0m\u001b[0m\n\u001b[0m\u001b[1;32m     30\u001b[0m     \u001b[0;32mreturn\u001b[0m \u001b[0mdecorator\u001b[0m\u001b[0;34m\u001b[0m\u001b[0m\n\u001b[1;32m     31\u001b[0m \u001b[0;34m\u001b[0m\u001b[0m\n",
      "\u001b[0;32m/home/goonieb/gitrep/bandstour/venv/lib/python2.7/site-packages/fuzzywuzzy/utils.pyc\u001b[0m in \u001b[0;36mdecorator\u001b[0;34m(*args, **kwargs)\u001b[0m\n\u001b[1;32m     45\u001b[0m         \u001b[0;32mif\u001b[0m \u001b[0mlen\u001b[0m\u001b[0;34m(\u001b[0m\u001b[0margs\u001b[0m\u001b[0;34m[\u001b[0m\u001b[0;36m0\u001b[0m\u001b[0;34m]\u001b[0m\u001b[0;34m)\u001b[0m \u001b[0;34m==\u001b[0m \u001b[0;36m0\u001b[0m \u001b[0;32mor\u001b[0m \u001b[0mlen\u001b[0m\u001b[0;34m(\u001b[0m\u001b[0margs\u001b[0m\u001b[0;34m[\u001b[0m\u001b[0;36m1\u001b[0m\u001b[0;34m]\u001b[0m\u001b[0;34m)\u001b[0m \u001b[0;34m==\u001b[0m \u001b[0;36m0\u001b[0m\u001b[0;34m:\u001b[0m\u001b[0;34m\u001b[0m\u001b[0m\n\u001b[1;32m     46\u001b[0m             \u001b[0;32mreturn\u001b[0m \u001b[0;36m0\u001b[0m\u001b[0;34m\u001b[0m\u001b[0m\n\u001b[0;32m---> 47\u001b[0;31m         \u001b[0;32mreturn\u001b[0m \u001b[0mfunc\u001b[0m\u001b[0;34m(\u001b[0m\u001b[0;34m*\u001b[0m\u001b[0margs\u001b[0m\u001b[0;34m,\u001b[0m \u001b[0;34m**\u001b[0m\u001b[0mkwargs\u001b[0m\u001b[0;34m)\u001b[0m\u001b[0;34m\u001b[0m\u001b[0m\n\u001b[0m\u001b[1;32m     48\u001b[0m     \u001b[0;32mreturn\u001b[0m \u001b[0mdecorator\u001b[0m\u001b[0;34m\u001b[0m\u001b[0m\n\u001b[1;32m     49\u001b[0m \u001b[0;34m\u001b[0m\u001b[0m\n",
      "\u001b[0;32m/home/goonieb/gitrep/bandstour/venv/lib/python2.7/site-packages/fuzzywuzzy/fuzz.pyc\u001b[0m in \u001b[0;36mpartial_ratio\u001b[0;34m(s1, s2)\u001b[0m\n\u001b[1;32m     45\u001b[0m \u001b[0;34m\u001b[0m\u001b[0m\n\u001b[1;32m     46\u001b[0m     \u001b[0mm\u001b[0m \u001b[0;34m=\u001b[0m \u001b[0mSequenceMatcher\u001b[0m\u001b[0;34m(\u001b[0m\u001b[0mNone\u001b[0m\u001b[0;34m,\u001b[0m \u001b[0mshorter\u001b[0m\u001b[0;34m,\u001b[0m \u001b[0mlonger\u001b[0m\u001b[0;34m)\u001b[0m\u001b[0;34m\u001b[0m\u001b[0m\n\u001b[0;32m---> 47\u001b[0;31m     \u001b[0mblocks\u001b[0m \u001b[0;34m=\u001b[0m \u001b[0mm\u001b[0m\u001b[0;34m.\u001b[0m\u001b[0mget_matching_blocks\u001b[0m\u001b[0;34m(\u001b[0m\u001b[0;34m)\u001b[0m\u001b[0;34m\u001b[0m\u001b[0m\n\u001b[0m\u001b[1;32m     48\u001b[0m \u001b[0;34m\u001b[0m\u001b[0m\n\u001b[1;32m     49\u001b[0m     \u001b[0;31m# each block represents a sequence of matching characters in a string\u001b[0m\u001b[0;34m\u001b[0m\u001b[0;34m\u001b[0m\u001b[0m\n",
      "\u001b[0;32m/home/goonieb/gitrep/bandstour/venv/lib/python2.7/site-packages/fuzzywuzzy/StringMatcher.pyc\u001b[0m in \u001b[0;36mget_matching_blocks\u001b[0;34m(self)\u001b[0m\n\u001b[1;32m     56\u001b[0m     \u001b[0;32mdef\u001b[0m \u001b[0mget_matching_blocks\u001b[0m\u001b[0;34m(\u001b[0m\u001b[0mself\u001b[0m\u001b[0;34m)\u001b[0m\u001b[0;34m:\u001b[0m\u001b[0;34m\u001b[0m\u001b[0m\n\u001b[1;32m     57\u001b[0m         \u001b[0;32mif\u001b[0m \u001b[0;32mnot\u001b[0m \u001b[0mself\u001b[0m\u001b[0;34m.\u001b[0m\u001b[0m_matching_blocks\u001b[0m\u001b[0;34m:\u001b[0m\u001b[0;34m\u001b[0m\u001b[0m\n\u001b[0;32m---> 58\u001b[0;31m             self._matching_blocks = matching_blocks(self.get_opcodes(),\n\u001b[0m\u001b[1;32m     59\u001b[0m                                                     self._str1, self._str2)\n\u001b[1;32m     60\u001b[0m         \u001b[0;32mreturn\u001b[0m \u001b[0mself\u001b[0m\u001b[0;34m.\u001b[0m\u001b[0m_matching_blocks\u001b[0m\u001b[0;34m\u001b[0m\u001b[0m\n",
      "\u001b[0;32m/home/goonieb/gitrep/bandstour/venv/lib/python2.7/site-packages/fuzzywuzzy/StringMatcher.pyc\u001b[0m in \u001b[0;36mget_opcodes\u001b[0;34m(self)\u001b[0m\n\u001b[1;32m     43\u001b[0m                 \u001b[0mself\u001b[0m\u001b[0;34m.\u001b[0m\u001b[0m_opcodes\u001b[0m \u001b[0;34m=\u001b[0m \u001b[0mopcodes\u001b[0m\u001b[0;34m(\u001b[0m\u001b[0mself\u001b[0m\u001b[0;34m.\u001b[0m\u001b[0m_editops\u001b[0m\u001b[0;34m,\u001b[0m \u001b[0mself\u001b[0m\u001b[0;34m.\u001b[0m\u001b[0m_str1\u001b[0m\u001b[0;34m,\u001b[0m \u001b[0mself\u001b[0m\u001b[0;34m.\u001b[0m\u001b[0m_str2\u001b[0m\u001b[0;34m)\u001b[0m\u001b[0;34m\u001b[0m\u001b[0m\n\u001b[1;32m     44\u001b[0m             \u001b[0;32melse\u001b[0m\u001b[0;34m:\u001b[0m\u001b[0;34m\u001b[0m\u001b[0m\n\u001b[0;32m---> 45\u001b[0;31m                 \u001b[0mself\u001b[0m\u001b[0;34m.\u001b[0m\u001b[0m_opcodes\u001b[0m \u001b[0;34m=\u001b[0m \u001b[0mopcodes\u001b[0m\u001b[0;34m(\u001b[0m\u001b[0mself\u001b[0m\u001b[0;34m.\u001b[0m\u001b[0m_str1\u001b[0m\u001b[0;34m,\u001b[0m \u001b[0mself\u001b[0m\u001b[0;34m.\u001b[0m\u001b[0m_str2\u001b[0m\u001b[0;34m)\u001b[0m\u001b[0;34m\u001b[0m\u001b[0m\n\u001b[0m\u001b[1;32m     46\u001b[0m         \u001b[0;32mreturn\u001b[0m \u001b[0mself\u001b[0m\u001b[0;34m.\u001b[0m\u001b[0m_opcodes\u001b[0m\u001b[0;34m\u001b[0m\u001b[0m\n\u001b[1;32m     47\u001b[0m \u001b[0;34m\u001b[0m\u001b[0m\n",
      "\u001b[0;31mKeyboardInterrupt\u001b[0m: "
     ]
    }
   ],
   "source": [
    "# setup mongo\n",
    "client = MongoClient()\n",
    "db = client[\"bandstour\"]\n",
    "bandsintown =  db[\"minedArtists\"]\n",
    "\n",
    "# credentials\n",
    "TOPOGRAM_URL = \"http://localhost:3000\"\n",
    "USER = \"gregory.bahde@laposte.net\"\n",
    "PASSWORD = \"matrix\"\n",
    "\n",
    "# data\n",
    "#title = \"Foo Fighters bandstour 0.1\"\n",
    "my_nodesdict = {}\n",
    "my_nodes= []\n",
    "my_edges = []\n",
    "my_edgesdict = {}\n",
    "my_nodesdictGLOBAL={}\n",
    "\n",
    "#LIVENATION CATALOGUE\n",
    "liste_salles_LN = json.load(open('./JSON_LIVENATION_VENUE.json'))\n",
    "\n",
    "liste_salle_parsee_LN={}\n",
    "for salle in liste_salles_LN:\n",
    "    if liste_salles_LN[salle][\"type\"]==\"venue\":\n",
    " \n",
    "            liste_salle_parsee_LN[slugify(liste_salles_LN[salle][\"title\"])]={\"lat\":liste_salles_LN[salle][\"position\"][\"lat\"],\"lng\":liste_salles_LN[salle][\"position\"][\"lng\"]}\n",
    "#print liste_salle_parsee_LN\n",
    "\n",
    "\n",
    "# date parsing\n",
    "DATETIME_FORMAT = '%Y-%m-%dT%H:%M:%S'\n",
    "DATETIME_FORMAT_FOR_MSBNZ ='%Y-%m-%d'\n",
    "\n",
    "#retrieve trip coords for each artist\n",
    "dict_coords={}\n",
    "colors_for_nodes_and_edges = get_N_HexCol()\n",
    "\n",
    "for artist in db.minedArtists.find({\"totalKm\": {\"$gte\": 200000}}) :\n",
    " title = artist[\"name\"]   \n",
    " if os.path.exists(savpath+slugify(artist[\"name\"]+str(artist[\"mbid\"]))+\".obj\")==True:\n",
    "        my_nodesdict = {}\n",
    "        my_nodesdictList=[]\n",
    "        print \"SKIPPED PROCESSING BUT TAKING INTO ACCOUNT \",artist[\"name\"]\n",
    "        with open(savpath+slugify(artist[\"name\"]+str(artist[\"mbid\"]))+\".obj\", 'rb') as handle:\n",
    "          tempL= pickle.load( handle)\n",
    "    #print \n",
    "        tit=tempL[0].encode(\"utf-8\")\n",
    "        #edgestop=temp[2]\n",
    "        my_nodesdictList=tempL[1]\n",
    "        for node in my_nodesdictList:\n",
    "            my_nodesdict[node[\"data\"][\"id\"]]=node\n",
    "\n",
    "        #print my_nodes\n",
    "        #pass\n",
    " else:\n",
    "  my_nodesdict = {}\n",
    "  my_nodes= []\n",
    "  my_edges = []\n",
    "  my_nodesdictList=[]\n",
    "  my_edgesdict = {}\n",
    "    #colors_for_nodes_and_edges = get_N_HexCol()\n",
    "    \n",
    "  print artist[\"name\"]\n",
    "   #print artist\n",
    "  dates_coords = []\n",
    "  dates = artist.get(\"gigs\")\n",
    "  tours = artist.get(\"tours\")    \n",
    "  singlegigs = artist.get(\"singleGigs\")\n",
    "  dateini=0\n",
    "  touring=0\n",
    "  tour_indice=0\n",
    "  tour_counter_for_CO2=1\n",
    "  tour_counter_for_CO2_lock=0\n",
    "  tmpOLDgig ={}\n",
    "  if os.path.exists(\"../../4_miner/tour_miner/\"+slugify(artist[\"name\"]+str(artist[\"mbid\"]))+\".obj\") == True:\n",
    "    with open(\"../../4_miner/tour_miner/\"+slugify(artist[\"name\"]+str(artist[\"mbid\"]))+\".obj\", 'rb') as handle:\n",
    "                    tempCO2= pickle.load( handle)\n",
    "    #print tempCO2\n",
    "    #print tours\n",
    "    for tour in tours:\n",
    "        \n",
    "        ##WE NEED TO MATCH TOUR INDICES OF CO2 SPECS FILES...\n",
    "     if tour_counter_for_CO2_lock == 1:\n",
    "        tour_counter_for_CO2+=1\n",
    "     tour_counter_for_CO2_lock=0\n",
    "     tour_color = \"#\"+colors_for_nodes_and_edges[tour_indice % 20]\n",
    "     #print tour_color\n",
    "     #print tour\n",
    "     gig_indice =0\n",
    "     dates = tour.get(\"gigs\")\n",
    "     for date in dates:\n",
    "        #print date.get(\"datetime\")\n",
    "        venue = date.get(\"venue\")\n",
    "        latitude = venue.get(\"latitude\")\n",
    "        longitude = venue.get(\"longitude\")\n",
    "        #print venue\n",
    "        ###concat key\n",
    "        idd= slugify(venue[\"name\"])+str(int(venue[\"latitude\"]))+str(int(venue[\"longitude\"]))\n",
    "        \n",
    "        if idd not in my_nodesdict:\n",
    "            \n",
    "            node = {\n",
    "                    \"id\" : idd,\n",
    "                    \"name\" : slugify(venue[\"name\"]),\n",
    "                    \"lat\" : float(venue[\"latitude\"]),\n",
    "                    \"lng\" : float(venue[\"longitude\"]),\n",
    "                    \"weight\" : float(1),\n",
    "                    \"start\" : date.get(\"datetime\").isoformat(),\n",
    "                    \"end\" : (date.get(\"datetime\")+timedelta(days=1)).isoformat(),\n",
    "                    \"color\" : tour_color,\n",
    "                    \"notes\" : \"name : \"+slugify(venue[\"name\"])+\"  \\nlat : \"+str(float(venue[\"latitude\"]))+\"  \\nlng :\"+str(float(venue[\"longitude\"]))+\"  \\n weight :\"+str(1)+\"  \\nstart : \"+str(date.get(\"datetime\").isoformat())+\"  \\nend : \"+str((date.get(\"datetime\")+timedelta(days=1)).isoformat())+\"  \\ncolor :\"+str(tour_color)+\"  \\n  <a href=\\\"https://google.com/search?q=\"+slugify(venue[\"name\"])+\"\\\" target=\\\"_blank\\\">\"+slugify(venue[\"name\"])+\"</a>\"\n",
    "                #+\"  \\n[search venue named \"+slugify(venue[\"name\"])+\" on google](https://google.com/search?q=\"+slugify(venue[\"name\"])+\")\"\n",
    "                    }\n",
    "        else:\n",
    "                \n",
    "                node = {\n",
    "                    \"id\" : idd,\n",
    "                    \"name\" : slugify(venue[\"name\"]),\n",
    "                    \"lat\" : float(venue[\"latitude\"]),\n",
    "                    \"lng\" : float(venue[\"longitude\"]),\n",
    "                    \"weight\" : math.sqrt(float(int(round(float(my_nodesdict[idd][\"data\"].get(\"weight\"))**2))+1)) ,\n",
    "                    \"start\" : my_nodesdict[idd][\"data\"].get(\"start\"),\n",
    "                    \"end\" : (date.get(\"datetime\")+timedelta(days=1)).isoformat(),\n",
    "                    \"color\" : tour_color,\n",
    "                    \"notes\" : \"name : \"+slugify(venue[\"name\"])+\"  \\nlat : \"+str(float(venue[\"latitude\"]))+\"  \\nlng :\"+str(float(venue[\"longitude\"]))+\"  \\n weight :\"+str((float(my_nodesdict[idd][\"data\"].get(\"weight\")))**2+1)+\"  \\nstart : \"+str(my_nodesdict[idd][\"data\"].get(\"start\"))+\"  \\nend : \"+(date.get(\"datetime\")+timedelta(days=1)).isoformat()+\"  \\ncolor :\"+tour_color+\"  \\n  <a href=\\\"https://google.com/search?q=\"+slugify(venue[\"name\"])+\"\\\" target=\\\"_blank\\\"> \"+slugify(venue[\"name\"])+\" </a>\"                    #+\"  \\n[search venue named \"+slugify(venue[\"name\"])+\" on google](https://google.com/search?q=\"+slugify(venue[\"name\"])+\")\"\n",
    "                    \n",
    "                    }\n",
    "        if dateini == 0:\n",
    "                dateini =1\n",
    "        else:\n",
    "                #print my_nodes[-1][\"data\"][\"id\"]\n",
    "                #print dates[gig_indice-1][\"distanceToNextGig\"]\n",
    "                \n",
    "                \n",
    "                \n",
    "                notesE=\"\"\n",
    "                notesE+=\"distance : \"\n",
    "                try: \n",
    "                    notesE+=str(dates[gig_indice][\"distanceToNextGig\"])\n",
    "                except KeyError:\n",
    "                    notesE+=\"dates[gig_indice][distanceToNextGig] NOT AVAILABLE\"\n",
    "                notesE+=\" km  \\n\"\n",
    "                notesE+=\"source : \"\n",
    "                notesE+=str(my_nodes[-1][\"data\"][\"id\"])\n",
    "                notesE+=\"  target : \"\n",
    "                notesE+=str(node[\"id\"])\n",
    "                notesE+=\"  \\ndatesource : \"\n",
    "                notesE+=dates[gig_indice -1][\"datetime\"].isoformat()\n",
    "                notesE+=\"  \\ndatetarget : \"\n",
    "                notesE+=dates[gig_indice][\"datetime\"].isoformat()\n",
    "                notesE+=\"  \\ngroup: \"\n",
    "                notesE+=str(int(tour_indice)+1)\n",
    "                #notesE+=\n",
    "                \n",
    "                \n",
    "                #print gig_indice\n",
    "                edge = {\n",
    "                    \"source\" : my_nodes[-1][\"data\"][\"id\"],\n",
    "                    \"target\" : node[\"id\"],\n",
    "                    \"color\" :  tour_color,\n",
    "                    \"notes\" : notesE,\n",
    "                    #\"weight\" : float(e[\"weight\"]),\n",
    "                    \"start\" : dates[gig_indice -1][\"datetime\"].isoformat(),\n",
    "                    \"end\" : dates[gig_indice][\"datetime\"].isoformat(),\n",
    "                    \"group\" : str(tour_counter_for_CO2)\n",
    "                    \n",
    "                }\n",
    "                #print edge\n",
    "                #ADDING EDGES GROUPS/CO2 HERE\n",
    "                \n",
    "                if tour[\"nbGigs\"] > 2:\n",
    "                    try:\n",
    "                        if tempCO2[tour_counter_for_CO2]['tourdist'] > 1.25*tempCO2[tour_counter_for_CO2]['tourdistOpt']:\n",
    "                            \n",
    "                            edge[\"group\"]+=\" DASHED2\"\n",
    "                            edge[\"notes\"]+=\"  \\n tournée grandement optimisable  \\nDistance parcourue pendant le tour: \"+str(tempCO2[tour_counter_for_CO2]['tourdist'])+\" km  \\n\"\n",
    "                            edge[\"notes\"]+=\"Distance recalculée: \"+str(tempCO2[tour_counter_for_CO2]['tourdistOpt'])+\" km  \\n\"\n",
    "                            try:\n",
    "                                edge[\"notes\"]+=\"Taux d'optimisation \"+str((tempCO2[tour_counter_for_CO2]['tourdist']-tempCO2[tour_counter_for_CO2]['tourdistOpt'])/tempCO2[tour_counter_for_CO2]['tourdist'])+\" %\"\n",
    "                            except:\n",
    "                                print \"OUPS 2\"\n",
    "                        elif (tempCO2[tour_counter_for_CO2]['tourdist'] < 1.25*tempCO2[tour_counter_for_CO2]['tourdistOpt']) and (tempCO2[tour_counter_for_CO2]['tourdist'] > 1.1*tempCO2[tour_counter_for_CO2]['tourdistOpt']):\n",
    "                            \n",
    "                            edge[\"group\"]+=\" DASHED1\"\n",
    "                            edge[\"notes\"]+=\"  \\n  tournée optimisable  \\nDistance parcourue pendant le tour: \"+str(tempCO2[tour_counter_for_CO2]['tourdist'])+\" km  \\n\"\n",
    "                            edge[\"notes\"]+=\"Distance recalculée: \"+str(tempCO2[tour_counter_for_CO2]['tourdistOpt'])+\" km  \\n\"\n",
    "                            try:\n",
    "                                edge[\"notes\"]+=\"Taux d'optimisation \"+str((tempCO2[tour_counter_for_CO2]['tourdist']-tempCO2[tour_counter_for_CO2]['tourdistOpt'])/tempCO2[tour_counter_for_CO2]['tourdist'])+\" %\"\n",
    "                            except:\n",
    "                                print \"OUPS 1\"\n",
    "                        elif tempCO2[tour_counter_for_CO2]['tourdistOpt'] > 1.25*tempCO2[tour_counter_for_CO2]['tourdist']:\n",
    "                            \n",
    "                            edge[\"group\"]+=\" DASHED-2\"\n",
    "                            edge[\"notes\"]+=\"  \\n tournée déjà grandement optimisée  \\nDistance parcourue pendant le tour: \"+str(tempCO2[tour_counter_for_CO2]['tourdist'])+\" km  \\n\"\n",
    "                            edge[\"notes\"]+=\"Distance recalculée: \"+str(tempCO2[tour_counter_for_CO2]['tourdistOpt'])+\" km  \\n\"\n",
    "                            try:\n",
    "                                edge[\"notes\"]+=\"Taux d'optimisation \"+str((tempCO2[tour_counter_for_CO2]['tourdist']-tempCO2[tour_counter_for_CO2]['tourdistOpt'])/tempCO2[tour_counter_for_CO2]['tourdist'])+\" %\"\n",
    "                            except:\n",
    "                                print \"OUPS -2\"\n",
    "                        elif tempCO2[tour_counter_for_CO2]['tourdistOpt'] < 1.25*tempCO2[tour_counter_for_CO2]['tourdist'] and tempCO2[tour_counter_for_CO2]['tourdistOpt'] > 1.1*tempCO2[tour_counter_for_CO2]['tourdist']:\n",
    "                            \n",
    "                            edge[\"group\"]+=\" DASHED-1\"\n",
    "                            edge[\"notes\"]+=\"  \\n  tournée déjà optimisée  \\nDistance parcourue pendant le tour: \"+str(tempCO2[tour_counter_for_CO2]['tourdist'])+\" km  \\n\"\n",
    "                            edge[\"notes\"]+=\"Distance recalculée: \"+str(tempCO2[tour_counter_for_CO2]['tourdistOpt'])+\" km  \\n\"\n",
    "                            try:\n",
    "                                edge[\"notes\"]+=\"Taux d'optimisation \"+str((tempCO2[tour_counter_for_CO2]['tourdist']-tempCO2[tour_counter_for_CO2]['tourdistOpt'])/tempCO2[tour_counter_for_CO2]['tourdist'])+\" %\"\n",
    "                            except:\n",
    "                                print \"OUPS -1\"\n",
    "                        \n",
    "                        else:\n",
    "\n",
    "                            edge[\"notes\"]+=\"  \\nDistance parcourue pendant le tour: \"+str(tempCO2[tour_counter_for_CO2]['tourdist'])+\" km  \\n\"\n",
    "                        tour_counter_for_CO2_lock=1\n",
    "                    except KeyError as e:\n",
    "                        print e\n",
    "                else:\n",
    "                    #print \"TOUR NON COMPTE \", tour_indice, \"//\",tour_counter_for_CO2\n",
    "                    continue\n",
    "                    \n",
    "                    \n",
    "                    \n",
    "                my_edges.append({ \"data\" : edge })\n",
    "        my_nodes.append({ \"data\" : node })   \n",
    "        my_nodesdict[node[\"id\"]]= { \"data\" : node }\n",
    "        gig_indice+=1\n",
    "    #print my_nodes\n",
    "    #print \"<=============================================>\"\n",
    "    #print my_nodesdict\n",
    "    #print \"<=============================================>\"\n",
    "    #print my_edges\n",
    "     tour_indice +=1\n",
    "        #print \"coords\",latitude,\"/\",longitude\n",
    "    for key, value in my_nodesdict.iteritems():\n",
    "            my_nodesdictList.append(value)\n",
    "    \n",
    "    #ADDING LIVENATION DETECTOR\n",
    "\n",
    "    for node in my_nodesdictList:\n",
    "        for salle in liste_salle_parsee_LN:\n",
    "            if fuzz.partial_ratio( node['data']['name'], salle)>=80:\n",
    "                #print \"ONE HEERE\"\n",
    "                if round(node['data']['lat'],2)==round(liste_salle_parsee_LN[salle][\"lat\"],2) and round(node['data']['lng'],2)==round(liste_salle_parsee_LN[salle][\"lng\"],2) :\n",
    "                    #print \"CONFIRMED LIVENATION!\"\n",
    "                    node['data']['color']=\"#ff0000\"\n",
    "                    node['data'][\"notes\"]+=\"  \\nLivenation venue\"\n",
    "        #if liste_salle_parsee_LN\n",
    "        \n",
    "        \n",
    "    #ADDING EDGES WEIGHT\n",
    "    terp= map(lambda x : str(sorted([x[\"data\"][\"source\"],x[\"data\"][\"target\"]])),my_edges)\n",
    "    \n",
    "    #print terp\n",
    "    from collections import Counter\n",
    "    c= Counter()\n",
    "    for ter in terp:\n",
    "        c[ter]+=1\n",
    "    #print c\n",
    "    for edge in my_edges:\n",
    "        if str(sorted([edge[\"data\"][\"source\"],edge[\"data\"][\"target\"]])) not in terp:\n",
    "            print \"BUG!!!!\"\n",
    "        else:\n",
    "            if edge[\"data\"][\"source\"] == edge[\"data\"][\"target\"]:\n",
    "                #print c[str(sorted([edge[\"data\"][\"source\"],edge[\"data\"][\"target\"]]))]\n",
    "                edge[\"data\"][\"notes\"]+=\"  \\ncounted \"+str(c[str(sorted([edge[\"data\"][\"source\"],edge[\"data\"][\"target\"]]))])+\"  times\"\n",
    "                edge[\"data\"][\"weight\"]= float(1)\n",
    "                #print \"a\"\n",
    "            else:\n",
    "                edge[\"data\"][\"notes\"]+=\"  \\ncounted \"+str(c[str(sorted([edge[\"data\"][\"source\"],edge[\"data\"][\"target\"]]))])+\"  times\"\n",
    "                edge[\"data\"][\"weight\"]= float(c[str(sorted([edge[\"data\"][\"source\"],edge[\"data\"][\"target\"]]))])\n",
    "                #print \"b\"\n",
    "    #print my_edges\n",
    "\n",
    "    \n",
    "    \n",
    "    \n",
    "    \n",
    "\n",
    "    titredugraphe =artist[\"name\"]+\"/BETA_0.9\"+\"  \\nDistance totale parcourue par l'artiste: \"+str(tempCO2[\"totalArtistTourDist\"])+\" km\"\n",
    "    titredugraphe += \"  \\nDistance calculee par Concorde: \"+str(tempCO2[\"totalArtistOptTourDist\"])+\" km\"\n",
    "    if  \"OptArtistPercent\" in tempCO2 :\n",
    "         rateOpt=0\n",
    "         rateOpt=float(tempCO2[\"OptArtistPercent\"])\n",
    "         titredugraphe+=\"  \\nPourcentage d'optimisation global calculee:\"+str(rateOpt)+\" %\"\n",
    "         if rateOpt > 10: \n",
    "             titredugraphe+=\"  \\nMARGE D'OPTIMISATION IMPORTANTE\"\n",
    "         elif rateOpt < -10:\n",
    "              titredugraphe+=\"  \\nTOURNEE DEJA OPTIMISEE\"\n",
    "         else: \n",
    "             titredugraphe+=\"  \\nGLOBALEMENT IDENTIQUE\"\n",
    "         \n",
    "         \n",
    "    with open(savpath+slugify(artist[\"name\"]+str(artist[\"mbid\"]))+\".obj\", 'wb') as handle:\n",
    "                            pickle.dump([titredugraphe,my_nodesdictList,my_edges], handle, protocol=pickle.HIGHEST_PROTOCOL)    \n",
    "            \n",
    "    ###CREATE NODE GLOBAL DICT\n",
    "           \n",
    " for key, value in my_nodesdict.iteritems():\n",
    "            #print \"key\",key,\"/////\",value\n",
    "            if key in my_nodesdictGLOBAL:\n",
    "                #print \"TROUVE\"\n",
    "                #print \"key\",key,\"/////\",value\n",
    "                #print \"GLOBAL\",my_nodesdictGLOBAL[key]\n",
    "                my_nodesdictGLOBAL[key]['data'][\"weight\"]=math.sqrt(my_nodesdictGLOBAL[key]['data'][\"weight\"]**2+my_nodesdict[key]['data'][\"weight\"]**2)\n",
    "                if time.strptime(my_nodesdictGLOBAL[key]['data'][\"start\"],DATETIME_FORMAT)>time.strptime(my_nodesdict[key]['data'][\"start\"],DATETIME_FORMAT):\n",
    "                    my_nodesdictGLOBAL[key]['data'][\"start\"]=my_nodesdict[key]['data'][\"start\"]\n",
    "                if time.strptime(my_nodesdictGLOBAL[key]['data'][\"end\"],DATETIME_FORMAT)<time.strptime(my_nodesdict[key]['data'][\"end\"],DATETIME_FORMAT):\n",
    "                    my_nodesdictGLOBAL[key]['data'][\"end\"]=my_nodesdict[key]['data'][\"end\"]\n",
    "                my_nodesdictGLOBAL[key]['data'][\"notes\"]+=\"  \\n\"+slugify(artist[\"name\"])\n",
    "                my_nodesdictGLOBAL[key]['data'][\"count\"]+=int(1)\n",
    "                #print \"GLOBAL2\",my_nodesdictGLOBAL[key]\n",
    "            else:\n",
    "                my_nodesdictGLOBAL[key]=value\n",
    "                #print my_nodesdictGLOBAL[key]\n",
    "                my_nodesdictGLOBAL[key]['data'][\"notes\"]=\"  \\n List of the bands that played in this venue:  \\n\"+slugify(artist[\"name\"])\n",
    "                my_nodesdictGLOBAL[key]['data'][\"count\"]=int(1)\n",
    "for key in my_nodesdictGLOBAL:\n",
    "    my_nodesdictGLOBAL[key]['data'][\"notes\"]+=\"  \\n TOTAL: \"+str(my_nodesdictGLOBAL[key]['data'][\"count\"])+\" Bands\"\n",
    "    \n",
    "    \n",
    "with open(\"./my_nodesdictGLOBAL_TEST.obj\", 'wb') as handle:\n",
    "                            pickle.dump(my_nodesdictGLOBAL, handle, protocol=pickle.HIGHEST_PROTOCOL)"
   ]
  },
  {
   "cell_type": "code",
   "execution_count": null,
   "metadata": {
    "collapsed": true
   },
   "outputs": [],
   "source": [
    "     with open(\"./my_nodesdictGLOBAL.obj\", 'rb') as handle:\n",
    "          my_nodesdictGLOBAL= pickle.load( handle)"
   ]
  },
  {
   "cell_type": "code",
   "execution_count": 6,
   "metadata": {},
   "outputs": [
    {
     "name": "stdout",
     "output_type": "stream",
     "text": [
      "[('ohio-university39-83', {'data': {'count': 1, 'start': '2016-06-10T18:30:00', 'end': '2016-06-11T18:30:00', 'name': 'ohio-university', 'weight': 1.0, 'lat': 39.3268329, 'lng': -83.0063841, 'notes': '  \\n List of the bands that played in this venue:  \\nled-zepagain  \\n TOTAL: 1 Bands', 'id': 'ohio-university39-83', 'color': '#7f3f3f'}}), ('ohio-university39-82', {'data': {'count': 9, 'start': '2008-04-09T19:00:00', 'end': '2015-11-15T19:00:00', 'name': 'ohio-university', 'weight': 3.3784927944829333, 'lat': 39.324921, 'lng': -82.099709, 'notes': '  \\n List of the bands that played in this venue:  \\nben-folds  \\njosh-ritter  \\nmachine-gun-kelly  \\nray-wylie-hubbard  \\nrayland-baxter  \\nthe-blind-boys-of-alabama  \\ntyler-farr  \\nwiz-khalifa  \\nzo  \\n TOTAL: 9 Bands', 'id': 'ohio-university39-82', 'color': '#5f7f3f'}}), ('tucson-music-hall32-110', {'data': {'count': 35, 'start': '2007-12-17T00:00:00', 'end': '2017-09-15T19:00:00', 'name': 'tucson-music-hall', 'weight': 6.9258925443875565, 'lat': 32.2216667, 'lng': -110.9258333, 'notes': '  \\n List of the bands that played in this venue:  \\nann-hampton-callaway  \\nbellamy-brothers-band  \\nbill-maher  \\nbrian-regan  \\ncarmina-burana  \\nceltic-woman  \\ncherish-the-ladies  \\ndeath-cab-for-cutie  \\ndon-giovanni  \\ngeorge-lopez  \\nitzhak-perlman  \\njackson-browne  \\njames-taylor  \\njane-s-addiction  \\njerry-seinfeld  \\njoe-bonamassa  \\njohn-legend  \\njohn-pizzarelli  \\njudy-collins  \\nkt-tunstall  \\nlewis-black  \\nlindsey-stirling  \\nmichael-feinstein  \\npink-martini  \\nr5  \\nrain  \\nrob-thomas  \\nsuper-diamond  \\nthe-1975  \\nthe-lettermen  \\nthe-midtown-men  \\nthe-ten-tenors  \\nwilco  \\nsinger-china-forbes  \\npiotr-ilich-chaikovskii  \\n TOTAL: 35 Bands', 'id': 'tucson-music-hall32-110', 'color': '#7f793f'}}), ('bluegrass-festival37-107', {'data': {'count': 1, 'start': '2008-04-11T19:00:00', 'end': '2008-04-14T19:00:00', 'name': 'bluegrass-festival', 'weight': 1.5537739740300374, 'lat': 37.2752778, 'lng': -107.8794444, 'notes': '  \\n List of the bands that played in this venue:  \\nthe-infamous-stringdusters  \\n TOTAL: 1 Bands', 'id': 'bluegrass-festival37-107', 'color': '#7f793f'}}), ('tink-s-entertianment-complex41-75', {'data': {'count': 15, 'start': '2007-08-22T00:00:00', 'end': '2009-05-01T18:00:00', 'name': 'tink-s-entertianment-complex', 'weight': 4.000000000000001, 'lat': 41.408691, 'lng': -75.661707, 'notes': '  \\n List of the bands that played in this venue:  \\nall-time-low  \\nemmure  \\nfour-year-strong  \\nhalestorm  \\nless-than-jake  \\nmayday-parade  \\nmotionless-in-white  \\nmxpx  \\nred  \\nreel-big-fish  \\nstreetlight-manifesto  \\nthe-ataris  \\nthe-maine  \\ntrapt  \\nvalencia  \\n TOTAL: 15 Bands', 'id': 'tink-s-entertianment-complex41-75', 'color': '#3f7f59'}})]\n"
     ]
    }
   ],
   "source": [
    "from itertools import islice\n",
    "\n",
    "def take(n, iterable):\n",
    "    \"Return first n items of the iterable as a list\"\n",
    "    return list(islice(iterable, n))\n",
    "\n",
    "print take(5,my_nodesdictGLOBAL.iteritems())"
   ]
  },
  {
   "cell_type": "code",
   "execution_count": 6,
   "metadata": {},
   "outputs": [],
   "source": [
    "# credentials\n",
    "TOPOGRAM_URL = \"http://localhost:3000\"\n",
    "USER = \"gregory.bahde@laposte.net\"\n",
    "PASSWORD = \"matrix\""
   ]
  },
  {
   "cell_type": "code",
   "execution_count": 5,
   "metadata": {},
   "outputs": [
    {
     "ename": "NameError",
     "evalue": "name 'my_nodesdictGLOBAL' is not defined",
     "output_type": "error",
     "traceback": [
      "\u001b[0;31m---------------------------------------------------------------------------\u001b[0m",
      "\u001b[0;31mNameError\u001b[0m                                 Traceback (most recent call last)",
      "\u001b[0;32m<ipython-input-5-a18a55af1565>\u001b[0m in \u001b[0;36m<module>\u001b[0;34m()\u001b[0m\n\u001b[0;32m----> 1\u001b[0;31m \u001b[0;32mprint\u001b[0m \u001b[0mlen\u001b[0m\u001b[0;34m(\u001b[0m\u001b[0mmy_nodesdictGLOBAL\u001b[0m\u001b[0;34m)\u001b[0m\u001b[0;34m\u001b[0m\u001b[0m\n\u001b[0m",
      "\u001b[0;31mNameError\u001b[0m: name 'my_nodesdictGLOBAL' is not defined"
     ]
    }
   ],
   "source": [
    "print len(my_nodesdictGLOBAL)"
   ]
  },
  {
   "cell_type": "code",
   "execution_count": 7,
   "metadata": {
    "scrolled": true
   },
   "outputs": [
    {
     "name": "stderr",
     "output_type": "stream",
     "text": [
      "ERROR:topogram-client:403 Unauthorized request\n"
     ]
    },
    {
     "name": "stdout",
     "output_type": "stream",
     "text": [
      "> User has already been created.\n",
      "{u'status': u'success', 'status_code': 200, u'data': {u'authToken': u'G4HUbMjMrqE6D8W5L4SMOoMAG6MHK2kLjeHN4ZeJjbj', u'userId': u'apyw7AfhAGbEHigJw'}}\n"
     ]
    }
   ],
   "source": [
    "# connect to the topogram instance (pass debug=True params for more info )\n",
    "topogram = TopogramAPIClient(TOPOGRAM_URL) #, debug=True)\n",
    "\n",
    "# create a new user\n",
    "try :\n",
    "    topogram.create_user(USER, PASSWORD)\n",
    "except ValueError:\n",
    "    print \"> User has already been created.\"\n",
    "\n",
    "# login a new user if needed\n",
    "resp_user_login = topogram.user_login(USER, PASSWORD)\n",
    "print resp_user_login\n",
    "\n",
    "assert(resp_user_login[\"status\"] == \"success\")\n",
    "assert(resp_user_login[\"status_code\"] == 200)\n"
   ]
  },
  {
   "cell_type": "code",
   "execution_count": null,
   "metadata": {
    "scrolled": true
   },
   "outputs": [
    {
     "name": "stderr",
     "output_type": "stream",
     "text": [
      "ERROR:topogram-client:500 - Error : A topogram with the same name already exists\n"
     ]
    },
    {
     "name": "stdout",
     "output_type": "stream",
     "text": [
      "/home/goonieb/gitrep/bandstour/5_visualizer/topogram-api-clientFOR_TOPO_FROM_BANDSTOUR\n",
      "Creating topogram 'Mannheim Steamroller Christmas/BETA_0.9  \n",
      "Distance totale parcourue par l'artiste: 192784.711872 km  \n",
      "Distance calculee par Concorde: 70683.1134013 km  \n",
      "Pourcentage d'optimisation global calculee:63.3357268246 %  \n",
      "MARGE D'OPTIMISATION IMPORTANTE'\n",
      "> Topogram already exists\n",
      "{u'status': u'success', 'status_code': 200, u'data': {u'sharedPublic': False, u'title': u\"Mannheim Steamroller Christmas/BETA_0.9  \\nDistance totale parcourue par l'artiste: 192784.711872 km  \\nDistance calculee par Concorde: 70683.1134013 km  \\nPourcentage d'optimisation global calculee:63.3357268246 %  \\nMARGE D'OPTIMISATION IMPORTANTE\", u'userId': u'apyw7AfhAGbEHigJw', u'_id': u'MrK4MiychDYa4zzr3', u'slug': u'mannheim-steamroller-christmasbeta_09-distance-totale-parcourue-par-lartiste-192784711872-km-distance-calculee-par-concorde-706831134013-km-pourcentage-doptimisation-global-calculee633357268246-marge-doptimisation-importante', u'createdAt': u'2019-10-06T07:05:55.613Z'}, u'statusCode': 200}\n",
      "topogram ID : MrK4MiychDYa4zzr3\n"
     ]
    },
    {
     "name": "stderr",
     "output_type": "stream",
     "text": [
      "ERROR:topogram-client:500 - Error : A topogram with the same name already exists\n"
     ]
    },
    {
     "name": "stdout",
     "output_type": "stream",
     "text": [
      "nodes already created, SKIPPED\n",
      "edges already created,SKIPPED\n",
      "done. Topogram has been updated. Check it at http://localhost:3000/topograms/MrK4MiychDYa4zzr3\n",
      "Creating topogram 'Reign/BETA_0.9  \n",
      "Distance totale parcourue par l'artiste: 106909.768042 km  \n",
      "Distance calculee par Concorde: 66099.2059829 km  \n",
      "Pourcentage d'optimisation global calculee:38.1729030064 %  \n",
      "MARGE D'OPTIMISATION IMPORTANTE'\n",
      "> Topogram already exists\n",
      "{u'status': u'success', 'status_code': 200, u'data': {u'sharedPublic': False, u'title': u\"Reign/BETA_0.9  \\nDistance totale parcourue par l'artiste: 106909.768042 km  \\nDistance calculee par Concorde: 66099.2059829 km  \\nPourcentage d'optimisation global calculee:38.1729030064 %  \\nMARGE D'OPTIMISATION IMPORTANTE\", u'userId': u'apyw7AfhAGbEHigJw', u'_id': u'zJZTbr2GtbMjGGDMB', u'slug': u'reignbeta_09-distance-totale-parcourue-par-lartiste-106909768042-km-distance-calculee-par-concorde-660992059829-km-pourcentage-doptimisation-global-calculee381729030064-marge-doptimisation-importante', u'createdAt': u'2019-10-06T07:05:59.806Z'}, u'statusCode': 200}\n",
      "topogram ID : zJZTbr2GtbMjGGDMB\n"
     ]
    },
    {
     "name": "stderr",
     "output_type": "stream",
     "text": [
      "ERROR:topogram-client:500 - Error : A topogram with the same name already exists\n"
     ]
    },
    {
     "name": "stdout",
     "output_type": "stream",
     "text": [
      "nodes already created, SKIPPED\n",
      "edges already created,SKIPPED\n",
      "done. Topogram has been updated. Check it at http://localhost:3000/topograms/zJZTbr2GtbMjGGDMB\n",
      "Creating topogram 'Sohn/BETA_0.9  \n",
      "Distance totale parcourue par l'artiste: 124561.09939 km  \n",
      "Distance calculee par Concorde: 144545.714212 km  \n",
      "Pourcentage d'optimisation global calculee:-16.0440257188 %  \n",
      "TOURNEE DEJA OPTIMISEE'\n",
      "> Topogram already exists\n",
      "{u'status': u'success', 'status_code': 200, u'data': {u'sharedPublic': False, u'title': u\"Sohn/BETA_0.9  \\nDistance totale parcourue par l'artiste: 124561.09939 km  \\nDistance calculee par Concorde: 144545.714212 km  \\nPourcentage d'optimisation global calculee:-16.0440257188 %  \\nTOURNEE DEJA OPTIMISEE\", u'userId': u'apyw7AfhAGbEHigJw', u'_id': u'SviEuWGRXvbnLjsbo', u'slug': u'sohnbeta_09-distance-totale-parcourue-par-lartiste-12456109939-km-distance-calculee-par-concorde-144545714212-km-pourcentage-doptimisation-global-calculee-160440257188-tournee-deja-optimisee', u'createdAt': u'2019-10-06T07:06:00.269Z'}, u'statusCode': 200}\n",
      "topogram ID : SviEuWGRXvbnLjsbo\n"
     ]
    },
    {
     "name": "stderr",
     "output_type": "stream",
     "text": [
      "ERROR:topogram-client:500 - Error : A topogram with the same name already exists\n"
     ]
    },
    {
     "name": "stdout",
     "output_type": "stream",
     "text": [
      "nodes already created, SKIPPED\n",
      "edges already created,SKIPPED\n",
      "done. Topogram has been updated. Check it at http://localhost:3000/topograms/SviEuWGRXvbnLjsbo\n",
      "Creating topogram 'Through Fire/BETA_0.9  \n",
      "Distance totale parcourue par l'artiste: 169575.477472 km  \n",
      "Distance calculee par Concorde: 126868.193877 km  \n",
      "Pourcentage d'optimisation global calculee:25.1848228478 %  \n",
      "MARGE D'OPTIMISATION IMPORTANTE'\n",
      "> Topogram already exists\n",
      "{u'status': u'success', 'status_code': 200, u'data': {u'sharedPublic': False, u'title': u\"Through Fire/BETA_0.9  \\nDistance totale parcourue par l'artiste: 169575.477472 km  \\nDistance calculee par Concorde: 126868.193877 km  \\nPourcentage d'optimisation global calculee:25.1848228478 %  \\nMARGE D'OPTIMISATION IMPORTANTE\", u'userId': u'apyw7AfhAGbEHigJw', u'_id': u'rpMP3nusXbmk3mQDh', u'slug': u'through-firebeta_09-distance-totale-parcourue-par-lartiste-169575477472-km-distance-calculee-par-concorde-126868193877-km-pourcentage-doptimisation-global-calculee251848228478-marge-doptimisation-importante', u'createdAt': u'2019-10-06T07:06:08.329Z'}, u'statusCode': 200}\n",
      "topogram ID : rpMP3nusXbmk3mQDh\n"
     ]
    },
    {
     "name": "stderr",
     "output_type": "stream",
     "text": [
      "ERROR:topogram-client:500 - Error : A topogram with the same name already exists\n"
     ]
    },
    {
     "name": "stdout",
     "output_type": "stream",
     "text": [
      "nodes already created, SKIPPED\n",
      "edges already created,SKIPPED\n",
      "done. Topogram has been updated. Check it at http://localhost:3000/topograms/rpMP3nusXbmk3mQDh\n",
      "Creating topogram 'Gregor Salto/BETA_0.9  \n",
      "Distance totale parcourue par l'artiste: 185858.075205 km  \n",
      "Distance calculee par Concorde: 112701.161301 km  \n",
      "Pourcentage d'optimisation global calculee:39.3617085632 %  \n",
      "MARGE D'OPTIMISATION IMPORTANTE'\n",
      "> Topogram already exists\n",
      "{u'status': u'success', 'status_code': 200, u'data': {u'sharedPublic': False, u'title': u\"Gregor Salto/BETA_0.9  \\nDistance totale parcourue par l'artiste: 185858.075205 km  \\nDistance calculee par Concorde: 112701.161301 km  \\nPourcentage d'optimisation global calculee:39.3617085632 %  \\nMARGE D'OPTIMISATION IMPORTANTE\", u'userId': u'apyw7AfhAGbEHigJw', u'_id': u'taL9EbvHAYqfKLJt5', u'slug': u'gregor-saltobeta_09-distance-totale-parcourue-par-lartiste-185858075205-km-distance-calculee-par-concorde-112701161301-km-pourcentage-doptimisation-global-calculee393617085632-marge-doptimisation-importante', u'createdAt': u'2019-10-06T07:06:09.361Z'}, u'statusCode': 200}\n",
      "topogram ID : taL9EbvHAYqfKLJt5\n"
     ]
    },
    {
     "name": "stderr",
     "output_type": "stream",
     "text": [
      "ERROR:topogram-client:500 - Error : A topogram with the same name already exists\n"
     ]
    },
    {
     "name": "stdout",
     "output_type": "stream",
     "text": [
      "nodes already created, SKIPPED\n",
      "edges already created,SKIPPED\n",
      "done. Topogram has been updated. Check it at http://localhost:3000/topograms/taL9EbvHAYqfKLJt5\n",
      "Creating topogram 'Sugar Ray/BETA_0.9  \n",
      "Distance totale parcourue par l'artiste: 131698.645526 km  \n",
      "Distance calculee par Concorde: 97547.0802119 km  \n",
      "Pourcentage d'optimisation global calculee:25.9315995072 %  \n",
      "MARGE D'OPTIMISATION IMPORTANTE'\n",
      "> Topogram already exists\n",
      "{u'status': u'success', 'status_code': 200, u'data': {u'sharedPublic': False, u'title': u\"Sugar Ray/BETA_0.9  \\nDistance totale parcourue par l'artiste: 131698.645526 km  \\nDistance calculee par Concorde: 97547.0802119 km  \\nPourcentage d'optimisation global calculee:25.9315995072 %  \\nMARGE D'OPTIMISATION IMPORTANTE\", u'userId': u'apyw7AfhAGbEHigJw', u'_id': u'ABFxyKHcCCSFRu7aR', u'slug': u'sugar-raybeta_09-distance-totale-parcourue-par-lartiste-131698645526-km-distance-calculee-par-concorde-975470802119-km-pourcentage-doptimisation-global-calculee259315995072-marge-doptimisation-importante', u'createdAt': u'2019-10-06T07:06:09.971Z'}, u'statusCode': 200}\n",
      "topogram ID : ABFxyKHcCCSFRu7aR\n"
     ]
    },
    {
     "name": "stderr",
     "output_type": "stream",
     "text": [
      "ERROR:topogram-client:500 - Error : A topogram with the same name already exists\n"
     ]
    },
    {
     "name": "stdout",
     "output_type": "stream",
     "text": [
      "nodes already created, SKIPPED\n",
      "edges already created,SKIPPED\n",
      "done. Topogram has been updated. Check it at http://localhost:3000/topograms/ABFxyKHcCCSFRu7aR\n",
      "Creating topogram 'The Peacocks/BETA_0.9  \n",
      "Distance totale parcourue par l'artiste: 129821.569108 km  \n",
      "Distance calculee par Concorde: 118803.708423 km  \n",
      "Pourcentage d'optimisation global calculee:8.48692614064 %  \n",
      "GLOBALEMENT IDENTIQUE'\n",
      "> Topogram already exists\n",
      "{u'status': u'success', 'status_code': 200, u'data': {u'sharedPublic': False, u'title': u\"The Peacocks/BETA_0.9  \\nDistance totale parcourue par l'artiste: 129821.569108 km  \\nDistance calculee par Concorde: 118803.708423 km  \\nPourcentage d'optimisation global calculee:8.48692614064 %  \\nGLOBALEMENT IDENTIQUE\", u'userId': u'apyw7AfhAGbEHigJw', u'_id': u'82sydKrvc5kehMLS7', u'slug': u'the-peacocksbeta_09-distance-totale-parcourue-par-lartiste-129821569108-km-distance-calculee-par-concorde-118803708423-km-pourcentage-doptimisation-global-calculee848692614064-globalement-identique', u'createdAt': u'2019-10-06T07:06:12.675Z'}, u'statusCode': 200}\n",
      "topogram ID : 82sydKrvc5kehMLS7\n"
     ]
    },
    {
     "name": "stderr",
     "output_type": "stream",
     "text": [
      "ERROR:topogram-client:500 - Error : A topogram with the same name already exists\n"
     ]
    },
    {
     "name": "stdout",
     "output_type": "stream",
     "text": [
      "nodes already created, SKIPPED\n",
      "edges already created,SKIPPED\n",
      "done. Topogram has been updated. Check it at http://localhost:3000/topograms/82sydKrvc5kehMLS7\n",
      "Creating topogram 'Alabama Shakes/BETA_0.9  \n",
      "Distance totale parcourue par l'artiste: 319723.743127 km  \n",
      "Distance calculee par Concorde: 248282.805259 km  \n",
      "Pourcentage d'optimisation global calculee:22.3445832233 %  \n",
      "MARGE D'OPTIMISATION IMPORTANTE'\n",
      "> Topogram already exists\n",
      "{u'status': u'success', 'status_code': 200, u'data': {u'sharedPublic': False, u'title': u\"Alabama Shakes/BETA_0.9  \\nDistance totale parcourue par l'artiste: 319723.743127 km  \\nDistance calculee par Concorde: 248282.805259 km  \\nPourcentage d'optimisation global calculee:22.3445832233 %  \\nMARGE D'OPTIMISATION IMPORTANTE\", u'userId': u'apyw7AfhAGbEHigJw', u'_id': u'iS8g8g7TX6ugpmFSB', u'slug': u'alabama-shakesbeta_09-distance-totale-parcourue-par-lartiste-319723743127-km-distance-calculee-par-concorde-248282805259-km-pourcentage-doptimisation-global-calculee223445832233-marge-doptimisation-importante', u'createdAt': u'2019-10-06T07:06:18.444Z'}, u'statusCode': 200}\n",
      "topogram ID : iS8g8g7TX6ugpmFSB\n"
     ]
    },
    {
     "name": "stderr",
     "output_type": "stream",
     "text": [
      "ERROR:topogram-client:500 - Error : A topogram with the same name already exists\n"
     ]
    },
    {
     "name": "stdout",
     "output_type": "stream",
     "text": [
      "nodes already created, SKIPPED\n",
      "edges already created,SKIPPED\n",
      "done. Topogram has been updated. Check it at http://localhost:3000/topograms/iS8g8g7TX6ugpmFSB\n",
      "Creating topogram 'Afrojack/BETA_0.9  \n",
      "Distance totale parcourue par l'artiste: 1173664.90505 km  \n",
      "Distance calculee par Concorde: 614793.921746 km  \n",
      "Pourcentage d'optimisation global calculee:47.6175934801 %  \n",
      "MARGE D'OPTIMISATION IMPORTANTE'\n",
      "> Topogram already exists\n",
      "{u'status': u'success', 'status_code': 200, u'data': {u'sharedPublic': False, u'title': u\"Afrojack/BETA_0.9  \\nDistance totale parcourue par l'artiste: 1173664.90505 km  \\nDistance calculee par Concorde: 614793.921746 km  \\nPourcentage d'optimisation global calculee:47.6175934801 %  \\nMARGE D'OPTIMISATION IMPORTANTE\", u'userId': u'apyw7AfhAGbEHigJw', u'_id': u'BQrfTEDn6maomEzTb', u'slug': u'afrojackbeta_09-distance-totale-parcourue-par-lartiste-117366490505-km-distance-calculee-par-concorde-614793921746-km-pourcentage-doptimisation-global-calculee476175934801-marge-doptimisation-importante', u'createdAt': u'2019-10-06T07:06:20.242Z'}, u'statusCode': 200}\n",
      "topogram ID : BQrfTEDn6maomEzTb\n"
     ]
    },
    {
     "name": "stderr",
     "output_type": "stream",
     "text": [
      "ERROR:topogram-client:500 - Error : A topogram with the same name already exists\n"
     ]
    },
    {
     "name": "stdout",
     "output_type": "stream",
     "text": [
      "nodes already created, SKIPPED\n",
      "edges already created,SKIPPED\n",
      "done. Topogram has been updated. Check it at http://localhost:3000/topograms/BQrfTEDn6maomEzTb\n",
      "Creating topogram 'The Promise of The Real/BETA_0.9  \n",
      "Distance totale parcourue par l'artiste: 121328.362679 km  \n",
      "Distance calculee par Concorde: 103054.087527 km  \n",
      "Pourcentage d'optimisation global calculee:15.0618328212 %  \n",
      "MARGE D'OPTIMISATION IMPORTANTE'\n",
      "> Topogram already exists\n",
      "{u'status': u'success', 'status_code': 200, u'data': {u'sharedPublic': False, u'title': u\"The Promise of The Real/BETA_0.9  \\nDistance totale parcourue par l'artiste: 121328.362679 km  \\nDistance calculee par Concorde: 103054.087527 km  \\nPourcentage d'optimisation global calculee:15.0618328212 %  \\nMARGE D'OPTIMISATION IMPORTANTE\", u'userId': u'apyw7AfhAGbEHigJw', u'_id': u'KTy6AzQYqPjWBJTgE', u'slug': u'the-promise-of-the-realbeta_09-distance-totale-parcourue-par-lartiste-121328362679-km-distance-calculee-par-concorde-103054087527-km-pourcentage-doptimisation-global-calculee150618328212-marge-doptimisation-importante', u'createdAt': u'2019-10-06T07:06:21.249Z'}, u'statusCode': 200}\n",
      "topogram ID : KTy6AzQYqPjWBJTgE\n"
     ]
    },
    {
     "name": "stderr",
     "output_type": "stream",
     "text": [
      "ERROR:topogram-client:500 - Error : A topogram with the same name already exists\n"
     ]
    },
    {
     "name": "stdout",
     "output_type": "stream",
     "text": [
      "nodes already created, SKIPPED\n",
      "edges already created,SKIPPED\n",
      "done. Topogram has been updated. Check it at http://localhost:3000/topograms/KTy6AzQYqPjWBJTgE\n",
      "Creating topogram 'Pacific Dub/BETA_0.9  \n",
      "Distance totale parcourue par l'artiste: 193099.880489 km  \n",
      "Distance calculee par Concorde: 152993.206226 km  \n",
      "Pourcentage d'optimisation global calculee:20.7699114894 %  \n",
      "MARGE D'OPTIMISATION IMPORTANTE'\n",
      "> Topogram already exists\n",
      "{u'status': u'success', 'status_code': 200, u'data': {u'sharedPublic': False, u'title': u\"Pacific Dub/BETA_0.9  \\nDistance totale parcourue par l'artiste: 193099.880489 km  \\nDistance calculee par Concorde: 152993.206226 km  \\nPourcentage d'optimisation global calculee:20.7699114894 %  \\nMARGE D'OPTIMISATION IMPORTANTE\", u'userId': u'apyw7AfhAGbEHigJw', u'_id': u'6CBKpte8cXfDyodqA', u'slug': u'pacific-dubbeta_09-distance-totale-parcourue-par-lartiste-193099880489-km-distance-calculee-par-concorde-152993206226-km-pourcentage-doptimisation-global-calculee207699114894-marge-doptimisation-importante', u'createdAt': u'2019-10-06T07:06:21.940Z'}, u'statusCode': 200}\n",
      "topogram ID : 6CBKpte8cXfDyodqA\n"
     ]
    },
    {
     "name": "stderr",
     "output_type": "stream",
     "text": [
      "ERROR:topogram-client:500 - Error : A topogram with the same name already exists\n"
     ]
    },
    {
     "name": "stdout",
     "output_type": "stream",
     "text": [
      "nodes already created, SKIPPED\n",
      "edges already created,SKIPPED\n",
      "done. Topogram has been updated. Check it at http://localhost:3000/topograms/6CBKpte8cXfDyodqA\n",
      "Creating topogram 'Marcy Playground/BETA_0.9  \n",
      "Distance totale parcourue par l'artiste: 153878.36009 km  \n",
      "Distance calculee par Concorde: 105897.413603 km  \n",
      "Pourcentage d'optimisation global calculee:31.1810877496 %  \n",
      "MARGE D'OPTIMISATION IMPORTANTE'\n",
      "> Topogram already exists\n",
      "{u'status': u'success', 'status_code': 200, u'data': {u'sharedPublic': False, u'title': u\"Marcy Playground/BETA_0.9  \\nDistance totale parcourue par l'artiste: 153878.36009 km  \\nDistance calculee par Concorde: 105897.413603 km  \\nPourcentage d'optimisation global calculee:31.1810877496 %  \\nMARGE D'OPTIMISATION IMPORTANTE\", u'userId': u'apyw7AfhAGbEHigJw', u'_id': u'PCsruh5Jm3sw4kxxs', u'slug': u'marcy-playgroundbeta_09-distance-totale-parcourue-par-lartiste-15387836009-km-distance-calculee-par-concorde-105897413603-km-pourcentage-doptimisation-global-calculee311810877496-marge-doptimisation-importante', u'createdAt': u'2019-10-06T07:06:27.472Z'}, u'statusCode': 200}\n",
      "topogram ID : PCsruh5Jm3sw4kxxs\n"
     ]
    },
    {
     "name": "stderr",
     "output_type": "stream",
     "text": [
      "ERROR:topogram-client:500 - Error : A topogram with the same name already exists\n"
     ]
    },
    {
     "name": "stdout",
     "output_type": "stream",
     "text": [
      "nodes already created, SKIPPED\n",
      "edges already created,SKIPPED\n",
      "done. Topogram has been updated. Check it at http://localhost:3000/topograms/PCsruh5Jm3sw4kxxs\n",
      "Creating topogram '.38 Special/BETA_0.9  \n",
      "Distance totale parcourue par l'artiste: 426090.878969 km  \n",
      "Distance calculee par Concorde: 221751.37566 km  \n",
      "Pourcentage d'optimisation global calculee:47.9567888906 %  \n",
      "MARGE D'OPTIMISATION IMPORTANTE'\n",
      "> Topogram already exists\n",
      "{u'status': u'success', 'status_code': 200, u'data': {u'sharedPublic': False, u'title': u\".38 Special/BETA_0.9  \\nDistance totale parcourue par l'artiste: 426090.878969 km  \\nDistance calculee par Concorde: 221751.37566 km  \\nPourcentage d'optimisation global calculee:47.9567888906 %  \\nMARGE D'OPTIMISATION IMPORTANTE\", u'userId': u'apyw7AfhAGbEHigJw', u'_id': u'bkhYoWrFW6r6mhxKa', u'slug': u'38-specialbeta_09-distance-totale-parcourue-par-lartiste-426090878969-km-distance-calculee-par-concorde-22175137566-km-pourcentage-doptimisation-global-calculee479567888906-marge-doptimisation-importante', u'createdAt': u'2019-10-06T07:06:31.310Z'}, u'statusCode': 200}\n",
      "topogram ID : bkhYoWrFW6r6mhxKa\n"
     ]
    },
    {
     "name": "stderr",
     "output_type": "stream",
     "text": [
      "ERROR:topogram-client:500 - Error : A topogram with the same name already exists\n"
     ]
    },
    {
     "name": "stdout",
     "output_type": "stream",
     "text": [
      "nodes already created, SKIPPED\n",
      "edges already created,SKIPPED\n",
      "done. Topogram has been updated. Check it at http://localhost:3000/topograms/bkhYoWrFW6r6mhxKa\n",
      "Creating topogram 'Rocky/BETA_0.9  \n",
      "Distance totale parcourue par l'artiste: 255163.582192 km  \n",
      "Distance calculee par Concorde: 116099.584612 km  \n",
      "Pourcentage d'optimisation global calculee:54.4999393666 %  \n",
      "MARGE D'OPTIMISATION IMPORTANTE'\n",
      "> Topogram already exists\n",
      "{u'status': u'success', 'status_code': 200, u'data': {u'sharedPublic': False, u'title': u\"Rocky/BETA_0.9  \\nDistance totale parcourue par l'artiste: 255163.582192 km  \\nDistance calculee par Concorde: 116099.584612 km  \\nPourcentage d'optimisation global calculee:54.4999393666 %  \\nMARGE D'OPTIMISATION IMPORTANTE\", u'userId': u'apyw7AfhAGbEHigJw', u'_id': u'ad88XuhAvTfLf9HGi', u'slug': u'rockybeta_09-distance-totale-parcourue-par-lartiste-255163582192-km-distance-calculee-par-concorde-116099584612-km-pourcentage-doptimisation-global-calculee544999393666-marge-doptimisation-importante', u'createdAt': u'2019-10-06T07:06:32.592Z'}, u'statusCode': 200}\n",
      "topogram ID : ad88XuhAvTfLf9HGi\n"
     ]
    },
    {
     "name": "stderr",
     "output_type": "stream",
     "text": [
      "ERROR:topogram-client:500 - Error : A topogram with the same name already exists\n"
     ]
    },
    {
     "name": "stdout",
     "output_type": "stream",
     "text": [
      "nodes already created, SKIPPED\n",
      "edges already created,SKIPPED\n",
      "done. Topogram has been updated. Check it at http://localhost:3000/topograms/ad88XuhAvTfLf9HGi\n",
      "Creating topogram 'The Brothers Comatose/BETA_0.9  \n",
      "Distance totale parcourue par l'artiste: 171329.056404 km  \n",
      "Distance calculee par Concorde: 115497.824129 km  \n",
      "Pourcentage d'optimisation global calculee:32.5871357996 %  \n",
      "MARGE D'OPTIMISATION IMPORTANTE'\n",
      "> Topogram already exists\n",
      "{u'status': u'success', 'status_code': 200, u'data': {u'sharedPublic': False, u'title': u\"The Brothers Comatose/BETA_0.9  \\nDistance totale parcourue par l'artiste: 171329.056404 km  \\nDistance calculee par Concorde: 115497.824129 km  \\nPourcentage d'optimisation global calculee:32.5871357996 %  \\nMARGE D'OPTIMISATION IMPORTANTE\", u'userId': u'apyw7AfhAGbEHigJw', u'_id': u'NN9h3iE7PxdjDkBsJ', u'slug': u'the-brothers-comatosebeta_09-distance-totale-parcourue-par-lartiste-171329056404-km-distance-calculee-par-concorde-115497824129-km-pourcentage-doptimisation-global-calculee325871357996-marge-doptimisation-importante', u'createdAt': u'2019-10-06T07:06:33.231Z'}, u'statusCode': 200}\n",
      "topogram ID : NN9h3iE7PxdjDkBsJ\n"
     ]
    },
    {
     "name": "stderr",
     "output_type": "stream",
     "text": [
      "ERROR:topogram-client:500 - Error : A topogram with the same name already exists\n"
     ]
    },
    {
     "name": "stdout",
     "output_type": "stream",
     "text": [
      "nodes already created, SKIPPED\n",
      "edges already created,SKIPPED\n",
      "done. Topogram has been updated. Check it at http://localhost:3000/topograms/NN9h3iE7PxdjDkBsJ\n",
      "Creating topogram 'Femi Kuti/BETA_0.9  \n",
      "Distance totale parcourue par l'artiste: 130978.99907 km  \n",
      "Distance calculee par Concorde: 123653.846622 km  \n",
      "Pourcentage d'optimisation global calculee:5.5926159922 %  \n",
      "GLOBALEMENT IDENTIQUE'\n",
      "> Topogram already exists\n",
      "{u'status': u'success', 'status_code': 200, u'data': {u'sharedPublic': False, u'title': u\"Femi Kuti/BETA_0.9  \\nDistance totale parcourue par l'artiste: 130978.99907 km  \\nDistance calculee par Concorde: 123653.846622 km  \\nPourcentage d'optimisation global calculee:5.5926159922 %  \\nGLOBALEMENT IDENTIQUE\", u'userId': u'apyw7AfhAGbEHigJw', u'_id': u'EHH5tMdaRvqqZ5v58', u'slug': u'femi-kutibeta_09-distance-totale-parcourue-par-lartiste-13097899907-km-distance-calculee-par-concorde-123653846622-km-pourcentage-doptimisation-global-calculee55926159922-globalement-identique', u'createdAt': u'2019-10-06T07:06:34.136Z'}, u'statusCode': 200}\n",
      "topogram ID : EHH5tMdaRvqqZ5v58\n"
     ]
    },
    {
     "name": "stderr",
     "output_type": "stream",
     "text": [
      "ERROR:topogram-client:500 - Error : A topogram with the same name already exists\n"
     ]
    },
    {
     "name": "stdout",
     "output_type": "stream",
     "text": [
      "nodes already created, SKIPPED\n",
      "edges already created,SKIPPED\n",
      "done. Topogram has been updated. Check it at http://localhost:3000/topograms/EHH5tMdaRvqqZ5v58\n",
      "Creating topogram 'Hyde/BETA_0.9  \n",
      "Distance totale parcourue par l'artiste: 66193.1018226 km  \n",
      "Distance calculee par Concorde: 59324.8398947 km  \n",
      "Pourcentage d'optimisation global calculee:10.3760992292 %  \n",
      "MARGE D'OPTIMISATION IMPORTANTE'\n",
      "> Topogram already exists\n",
      "{u'status': u'success', 'status_code': 200, u'data': {u'sharedPublic': False, u'title': u\"Hyde/BETA_0.9  \\nDistance totale parcourue par l'artiste: 66193.1018226 km  \\nDistance calculee par Concorde: 59324.8398947 km  \\nPourcentage d'optimisation global calculee:10.3760992292 %  \\nMARGE D'OPTIMISATION IMPORTANTE\", u'userId': u'apyw7AfhAGbEHigJw', u'_id': u'iZgLDtDnExoCLJcuC', u'slug': u'hydebeta_09-distance-totale-parcourue-par-lartiste-661931018226-km-distance-calculee-par-concorde-593248398947-km-pourcentage-doptimisation-global-calculee103760992292-marge-doptimisation-importante', u'createdAt': u'2019-10-06T07:06:34.840Z'}, u'statusCode': 200}\n",
      "topogram ID : iZgLDtDnExoCLJcuC\n"
     ]
    },
    {
     "name": "stderr",
     "output_type": "stream",
     "text": [
      "ERROR:topogram-client:500 - Error : A topogram with the same name already exists\n"
     ]
    },
    {
     "name": "stdout",
     "output_type": "stream",
     "text": [
      "nodes already created, SKIPPED\n",
      "edges already created,SKIPPED\n",
      "done. Topogram has been updated. Check it at http://localhost:3000/topograms/iZgLDtDnExoCLJcuC\n",
      "Creating topogram 'Spencer/BETA_0.9  \n",
      "Distance totale parcourue par l'artiste: 67871.8386336 km  \n",
      "Distance calculee par Concorde: 80762.6025397 km  \n",
      "Pourcentage d'optimisation global calculee:-18.9928019716 %  \n",
      "TOURNEE DEJA OPTIMISEE'\n",
      "> Topogram already exists\n",
      "{u'status': u'success', 'status_code': 200, u'data': {u'sharedPublic': False, u'title': u\"Spencer/BETA_0.9  \\nDistance totale parcourue par l'artiste: 67871.8386336 km  \\nDistance calculee par Concorde: 80762.6025397 km  \\nPourcentage d'optimisation global calculee:-18.9928019716 %  \\nTOURNEE DEJA OPTIMISEE\", u'userId': u'apyw7AfhAGbEHigJw', u'_id': u'3n79RHumQezAqGLeL', u'slug': u'spencerbeta_09-distance-totale-parcourue-par-lartiste-678718386336-km-distance-calculee-par-concorde-807626025397-km-pourcentage-doptimisation-global-calculee-189928019716-tournee-deja-optimisee', u'createdAt': u'2019-10-06T07:06:35.782Z'}, u'statusCode': 200}\n",
      "topogram ID : 3n79RHumQezAqGLeL\n"
     ]
    },
    {
     "name": "stderr",
     "output_type": "stream",
     "text": [
      "ERROR:topogram-client:500 - Error : A topogram with the same name already exists\n"
     ]
    },
    {
     "name": "stdout",
     "output_type": "stream",
     "text": [
      "nodes already created, SKIPPED\n",
      "edges already created,SKIPPED\n",
      "done. Topogram has been updated. Check it at http://localhost:3000/topograms/3n79RHumQezAqGLeL\n",
      "Creating topogram 'Cody Johnson Band/BETA_0.9  \n",
      "Distance totale parcourue par l'artiste: 232195.751386 km  \n",
      "Distance calculee par Concorde: 85122.0922233 km  \n",
      "Pourcentage d'optimisation global calculee:63.340374785 %  \n",
      "MARGE D'OPTIMISATION IMPORTANTE'\n",
      "> Topogram already exists\n",
      "{u'status': u'success', 'status_code': 200, u'data': {u'sharedPublic': False, u'title': u\"Cody Johnson Band/BETA_0.9  \\nDistance totale parcourue par l'artiste: 232195.751386 km  \\nDistance calculee par Concorde: 85122.0922233 km  \\nPourcentage d'optimisation global calculee:63.340374785 %  \\nMARGE D'OPTIMISATION IMPORTANTE\", u'userId': u'apyw7AfhAGbEHigJw', u'_id': u'YDdkTu9jpdeMM9sXt', u'slug': u'cody-johnson-bandbeta_09-distance-totale-parcourue-par-lartiste-232195751386-km-distance-calculee-par-concorde-851220922233-km-pourcentage-doptimisation-global-calculee63340374785-marge-doptimisation-importante', u'createdAt': u'2019-10-06T07:06:36.232Z'}, u'statusCode': 200}\n",
      "topogram ID : YDdkTu9jpdeMM9sXt\n"
     ]
    },
    {
     "name": "stderr",
     "output_type": "stream",
     "text": [
      "ERROR:topogram-client:500 - Error : A topogram with the same name already exists\n"
     ]
    },
    {
     "name": "stdout",
     "output_type": "stream",
     "text": [
      "nodes already created, SKIPPED\n",
      "edges already created,SKIPPED\n",
      "done. Topogram has been updated. Check it at http://localhost:3000/topograms/YDdkTu9jpdeMM9sXt\n",
      "Creating topogram 'JMSN/BETA_0.9  \n",
      "Distance totale parcourue par l'artiste: 168043.799511 km  \n",
      "Distance calculee par Concorde: 156517.695063 km  \n",
      "Pourcentage d'optimisation global calculee:6.8589882407 %  \n",
      "GLOBALEMENT IDENTIQUE'\n",
      "> Topogram already exists\n",
      "{u'status': u'success', 'status_code': 200, u'data': {u'sharedPublic': False, u'title': u\"JMSN/BETA_0.9  \\nDistance totale parcourue par l'artiste: 168043.799511 km  \\nDistance calculee par Concorde: 156517.695063 km  \\nPourcentage d'optimisation global calculee:6.8589882407 %  \\nGLOBALEMENT IDENTIQUE\", u'userId': u'apyw7AfhAGbEHigJw', u'_id': u'5xJ644wuTed4NWj7A', u'slug': u'jmsnbeta_09-distance-totale-parcourue-par-lartiste-168043799511-km-distance-calculee-par-concorde-156517695063-km-pourcentage-doptimisation-global-calculee68589882407-globalement-identique', u'createdAt': u'2019-10-06T07:06:37.250Z'}, u'statusCode': 200}\n",
      "topogram ID : 5xJ644wuTed4NWj7A\n"
     ]
    },
    {
     "name": "stderr",
     "output_type": "stream",
     "text": [
      "ERROR:topogram-client:500 - Error : A topogram with the same name already exists\n"
     ]
    },
    {
     "name": "stdout",
     "output_type": "stream",
     "text": [
      "nodes already created, SKIPPED\n",
      "edges already created,SKIPPED\n",
      "done. Topogram has been updated. Check it at http://localhost:3000/topograms/5xJ644wuTed4NWj7A\n",
      "Creating topogram 'Larry Graham/BETA_0.9  \n",
      "Distance totale parcourue par l'artiste: 56648.6013177 km  \n",
      "Distance calculee par Concorde: 53583.7029317 km  \n",
      "Pourcentage d'optimisation global calculee:5.41036903772 %  \n",
      "GLOBALEMENT IDENTIQUE'\n",
      "> Topogram already exists\n",
      "{u'status': u'success', 'status_code': 200, u'data': {u'sharedPublic': False, u'title': u\"Larry Graham/BETA_0.9  \\nDistance totale parcourue par l'artiste: 56648.6013177 km  \\nDistance calculee par Concorde: 53583.7029317 km  \\nPourcentage d'optimisation global calculee:5.41036903772 %  \\nGLOBALEMENT IDENTIQUE\", u'userId': u'apyw7AfhAGbEHigJw', u'_id': u'wYNjfHdM7ff7AXDuf', u'slug': u'larry-grahambeta_09-distance-totale-parcourue-par-lartiste-566486013177-km-distance-calculee-par-concorde-535837029317-km-pourcentage-doptimisation-global-calculee541036903772-globalement-identique', u'createdAt': u'2019-10-06T07:06:41.400Z'}, u'statusCode': 200}\n",
      "topogram ID : wYNjfHdM7ff7AXDuf\n"
     ]
    },
    {
     "name": "stderr",
     "output_type": "stream",
     "text": [
      "ERROR:topogram-client:500 - Error : A topogram with the same name already exists\n"
     ]
    },
    {
     "name": "stdout",
     "output_type": "stream",
     "text": [
      "nodes already created, SKIPPED\n",
      "edges already created,SKIPPED\n",
      "done. Topogram has been updated. Check it at http://localhost:3000/topograms/wYNjfHdM7ff7AXDuf\n",
      "Creating topogram 'Camille/BETA_0.9  \n",
      "Distance totale parcourue par l'artiste: 193136.419731 km  \n",
      "Distance calculee par Concorde: 109939.462553 km  \n",
      "Pourcentage d'optimisation global calculee:43.0767833915 %  \n",
      "MARGE D'OPTIMISATION IMPORTANTE'\n",
      "> Topogram already exists\n",
      "{u'status': u'success', 'status_code': 200, u'data': {u'sharedPublic': False, u'title': u\"Camille/BETA_0.9  \\nDistance totale parcourue par l'artiste: 193136.419731 km  \\nDistance calculee par Concorde: 109939.462553 km  \\nPourcentage d'optimisation global calculee:43.0767833915 %  \\nMARGE D'OPTIMISATION IMPORTANTE\", u'userId': u'apyw7AfhAGbEHigJw', u'_id': u'R52QvNry6NfoQgaPe', u'slug': u'camillebeta_09-distance-totale-parcourue-par-lartiste-193136419731-km-distance-calculee-par-concorde-109939462553-km-pourcentage-doptimisation-global-calculee430767833915-marge-doptimisation-importante', u'createdAt': u'2019-10-06T07:06:42.654Z'}, u'statusCode': 200}\n",
      "topogram ID : R52QvNry6NfoQgaPe\n"
     ]
    },
    {
     "name": "stderr",
     "output_type": "stream",
     "text": [
      "ERROR:topogram-client:500 - Error : A topogram with the same name already exists\n"
     ]
    },
    {
     "name": "stdout",
     "output_type": "stream",
     "text": [
      "nodes already created, SKIPPED\n",
      "edges already created,SKIPPED\n",
      "done. Topogram has been updated. Check it at http://localhost:3000/topograms/R52QvNry6NfoQgaPe\n",
      "Creating topogram 'Little Mix/BETA_0.9  \n",
      "Distance totale parcourue par l'artiste: 145482.548064 km  \n",
      "Distance calculee par Concorde: 112150.0741 km  \n",
      "Pourcentage d'optimisation global calculee:22.9116649439 %  \n",
      "MARGE D'OPTIMISATION IMPORTANTE'\n",
      "> Topogram already exists\n",
      "{u'status': u'success', 'status_code': 200, u'data': {u'sharedPublic': False, u'title': u\"Little Mix/BETA_0.9  \\nDistance totale parcourue par l'artiste: 145482.548064 km  \\nDistance calculee par Concorde: 112150.0741 km  \\nPourcentage d'optimisation global calculee:22.9116649439 %  \\nMARGE D'OPTIMISATION IMPORTANTE\", u'userId': u'apyw7AfhAGbEHigJw', u'_id': u'sKgQ5GkWjQ7FLwktw', u'slug': u'little-mixbeta_09-distance-totale-parcourue-par-lartiste-145482548064-km-distance-calculee-par-concorde-1121500741-km-pourcentage-doptimisation-global-calculee229116649439-marge-doptimisation-importante', u'createdAt': u'2019-10-06T07:06:44.300Z'}, u'statusCode': 200}\n",
      "topogram ID : sKgQ5GkWjQ7FLwktw\n"
     ]
    },
    {
     "name": "stderr",
     "output_type": "stream",
     "text": [
      "ERROR:topogram-client:500 - Error : A topogram with the same name already exists\n"
     ]
    },
    {
     "name": "stdout",
     "output_type": "stream",
     "text": [
      "nodes already created, SKIPPED\n",
      "edges already created,SKIPPED\n",
      "done. Topogram has been updated. Check it at http://localhost:3000/topograms/sKgQ5GkWjQ7FLwktw\n",
      "Creating topogram 'Party Rock Crew - La Freak Crew/BETA_0.9  \n",
      "Distance totale parcourue par l'artiste: 74974.8546629 km  \n",
      "Distance calculee par Concorde: 63827.0188806 km  \n",
      "Pourcentage d'optimisation global calculee:14.8687661115 %  \n",
      "MARGE D'OPTIMISATION IMPORTANTE'\n",
      "> Topogram already exists\n",
      "{u'status': u'success', 'status_code': 200, u'data': {u'sharedPublic': False, u'title': u\"Party Rock Crew - La Freak Crew/BETA_0.9  \\nDistance totale parcourue par l'artiste: 74974.8546629 km  \\nDistance calculee par Concorde: 63827.0188806 km  \\nPourcentage d'optimisation global calculee:14.8687661115 %  \\nMARGE D'OPTIMISATION IMPORTANTE\", u'userId': u'apyw7AfhAGbEHigJw', u'_id': u'jy5Gbs2MEfQukpJbW', u'slug': u'party-rock-crew-la-freak-crewbeta_09-distance-totale-parcourue-par-lartiste-749748546629-km-distance-calculee-par-concorde-638270188806-km-pourcentage-doptimisation-global-calculee148687661115-marge-doptimisation-importante', u'createdAt': u'2019-10-06T07:06:47.285Z'}, u'statusCode': 200}\n",
      "topogram ID : jy5Gbs2MEfQukpJbW\n"
     ]
    },
    {
     "name": "stderr",
     "output_type": "stream",
     "text": [
      "ERROR:topogram-client:500 - Error : A topogram with the same name already exists\n"
     ]
    },
    {
     "name": "stdout",
     "output_type": "stream",
     "text": [
      "nodes already created, SKIPPED\n",
      "edges already created,SKIPPED\n",
      "done. Topogram has been updated. Check it at http://localhost:3000/topograms/jy5Gbs2MEfQukpJbW\n",
      "Creating topogram 'Insideinfo/BETA_0.9  \n",
      "Distance totale parcourue par l'artiste: 156859.204294 km  \n",
      "Distance calculee par Concorde: 137234.844062 km  \n",
      "Pourcentage d'optimisation global calculee:12.5108120497 %  \n",
      "MARGE D'OPTIMISATION IMPORTANTE'\n",
      "> Topogram already exists\n",
      "{u'status': u'success', 'status_code': 200, u'data': {u'sharedPublic': False, u'title': u\"Insideinfo/BETA_0.9  \\nDistance totale parcourue par l'artiste: 156859.204294 km  \\nDistance calculee par Concorde: 137234.844062 km  \\nPourcentage d'optimisation global calculee:12.5108120497 %  \\nMARGE D'OPTIMISATION IMPORTANTE\", u'userId': u'apyw7AfhAGbEHigJw', u'_id': u'3CPifkma2bMgxMCEt', u'slug': u'insideinfobeta_09-distance-totale-parcourue-par-lartiste-156859204294-km-distance-calculee-par-concorde-137234844062-km-pourcentage-doptimisation-global-calculee125108120497-marge-doptimisation-importante', u'createdAt': u'2019-10-06T07:06:51.846Z'}, u'statusCode': 200}\n",
      "topogram ID : 3CPifkma2bMgxMCEt\n"
     ]
    },
    {
     "name": "stderr",
     "output_type": "stream",
     "text": [
      "ERROR:topogram-client:500 - Error : A topogram with the same name already exists\n"
     ]
    },
    {
     "name": "stdout",
     "output_type": "stream",
     "text": [
      "nodes already created, SKIPPED\n",
      "edges already created,SKIPPED\n",
      "done. Topogram has been updated. Check it at http://localhost:3000/topograms/3CPifkma2bMgxMCEt\n",
      "Creating topogram 'The Virginmarys/BETA_0.9  \n",
      "Distance totale parcourue par l'artiste: 142630.60911 km  \n",
      "Distance calculee par Concorde: 128986.951289 km  \n",
      "Pourcentage d'optimisation global calculee:9.56572919842 %  \n",
      "GLOBALEMENT IDENTIQUE'\n",
      "> Topogram already exists\n",
      "{u'status': u'success', 'status_code': 200, u'data': {u'sharedPublic': False, u'title': u\"The Virginmarys/BETA_0.9  \\nDistance totale parcourue par l'artiste: 142630.60911 km  \\nDistance calculee par Concorde: 128986.951289 km  \\nPourcentage d'optimisation global calculee:9.56572919842 %  \\nGLOBALEMENT IDENTIQUE\", u'userId': u'apyw7AfhAGbEHigJw', u'_id': u'2XRtZhMgyRz82Ykop', u'slug': u'the-virginmarysbeta_09-distance-totale-parcourue-par-lartiste-14263060911-km-distance-calculee-par-concorde-128986951289-km-pourcentage-doptimisation-global-calculee956572919842-globalement-identique', u'createdAt': u'2019-10-06T07:06:53.244Z'}, u'statusCode': 200}\n",
      "topogram ID : 2XRtZhMgyRz82Ykop\n"
     ]
    },
    {
     "name": "stderr",
     "output_type": "stream",
     "text": [
      "ERROR:topogram-client:500 - Error : A topogram with the same name already exists\n"
     ]
    },
    {
     "name": "stdout",
     "output_type": "stream",
     "text": [
      "nodes already created, SKIPPED\n",
      "edges already created,SKIPPED\n",
      "done. Topogram has been updated. Check it at http://localhost:3000/topograms/2XRtZhMgyRz82Ykop\n",
      "Creating topogram 'Oz Noy/BETA_0.9  \n",
      "Distance totale parcourue par l'artiste: 129371.541766 km  \n",
      "Distance calculee par Concorde: 113612.742247 km  \n",
      "Pourcentage d'optimisation global calculee:12.1810402066 %  \n",
      "MARGE D'OPTIMISATION IMPORTANTE'\n",
      "> Topogram already exists\n",
      "{u'status': u'success', 'status_code': 200, u'data': {u'sharedPublic': False, u'title': u\"Oz Noy/BETA_0.9  \\nDistance totale parcourue par l'artiste: 129371.541766 km  \\nDistance calculee par Concorde: 113612.742247 km  \\nPourcentage d'optimisation global calculee:12.1810402066 %  \\nMARGE D'OPTIMISATION IMPORTANTE\", u'userId': u'apyw7AfhAGbEHigJw', u'_id': u'yHFxWvvLPCa7sz2jE', u'slug': u'oz-noybeta_09-distance-totale-parcourue-par-lartiste-129371541766-km-distance-calculee-par-concorde-113612742247-km-pourcentage-doptimisation-global-calculee121810402066-marge-doptimisation-importante', u'createdAt': u'2019-10-06T07:07:01.794Z'}, u'statusCode': 200}\n",
      "topogram ID : yHFxWvvLPCa7sz2jE\n"
     ]
    },
    {
     "name": "stderr",
     "output_type": "stream",
     "text": [
      "ERROR:topogram-client:500 - Error : A topogram with the same name already exists\n"
     ]
    },
    {
     "name": "stdout",
     "output_type": "stream",
     "text": [
      "nodes already created, SKIPPED\n",
      "edges already created,SKIPPED\n",
      "done. Topogram has been updated. Check it at http://localhost:3000/topograms/yHFxWvvLPCa7sz2jE\n",
      "Creating topogram 'Hair/BETA_0.9  \n",
      "Distance totale parcourue par l'artiste: 138093.105482 km  \n",
      "Distance calculee par Concorde: 83787.0704985 km  \n",
      "Pourcentage d'optimisation global calculee:39.3256671242 %  \n",
      "MARGE D'OPTIMISATION IMPORTANTE'\n",
      "> Topogram already exists\n",
      "{u'status': u'success', 'status_code': 200, u'data': {u'sharedPublic': False, u'title': u\"Hair/BETA_0.9  \\nDistance totale parcourue par l'artiste: 138093.105482 km  \\nDistance calculee par Concorde: 83787.0704985 km  \\nPourcentage d'optimisation global calculee:39.3256671242 %  \\nMARGE D'OPTIMISATION IMPORTANTE\", u'userId': u'apyw7AfhAGbEHigJw', u'_id': u'JwHm9pQqwf3isaGbc', u'slug': u'hairbeta_09-distance-totale-parcourue-par-lartiste-138093105482-km-distance-calculee-par-concorde-837870704985-km-pourcentage-doptimisation-global-calculee393256671242-marge-doptimisation-importante', u'createdAt': u'2019-10-06T07:07:03.526Z'}, u'statusCode': 200}\n",
      "topogram ID : JwHm9pQqwf3isaGbc\n",
      "nodes already created, SKIPPED\n",
      "edges already created,SKIPPED\n",
      "done. Topogram has been updated. Check it at http://localhost:3000/topograms/JwHm9pQqwf3isaGbc\n",
      "Creating topogram 'Cocodrills/BETA_0.9  \n",
      "Distance totale parcourue par l'artiste: 205024.213787 km  \n",
      "Distance calculee par Concorde: 149339.134958 km  \n",
      "Pourcentage d'optimisation global calculee:27.1602450268 %  \n",
      "MARGE D'OPTIMISATION IMPORTANTE'\n"
     ]
    },
    {
     "name": "stderr",
     "output_type": "stream",
     "text": [
      "ERROR:topogram-client:500 - Error : A topogram with the same name already exists\n"
     ]
    },
    {
     "name": "stdout",
     "output_type": "stream",
     "text": [
      "> Topogram already exists\n",
      "{u'status': u'success', 'status_code': 200, u'data': {u'sharedPublic': False, u'title': u\"Cocodrills/BETA_0.9  \\nDistance totale parcourue par l'artiste: 205024.213787 km  \\nDistance calculee par Concorde: 149339.134958 km  \\nPourcentage d'optimisation global calculee:27.1602450268 %  \\nMARGE D'OPTIMISATION IMPORTANTE\", u'userId': u'apyw7AfhAGbEHigJw', u'_id': u'FfNWGffPnXjA9HXx7', u'slug': u'cocodrillsbeta_09-distance-totale-parcourue-par-lartiste-205024213787-km-distance-calculee-par-concorde-149339134958-km-pourcentage-doptimisation-global-calculee271602450268-marge-doptimisation-importante', u'createdAt': u'2019-10-06T07:07:06.435Z'}, u'statusCode': 200}\n",
      "topogram ID : FfNWGffPnXjA9HXx7\n"
     ]
    },
    {
     "name": "stderr",
     "output_type": "stream",
     "text": [
      "ERROR:topogram-client:500 - Error : A topogram with the same name already exists\n"
     ]
    },
    {
     "name": "stdout",
     "output_type": "stream",
     "text": [
      "nodes already created, SKIPPED\n",
      "edges already created,SKIPPED\n",
      "done. Topogram has been updated. Check it at http://localhost:3000/topograms/FfNWGffPnXjA9HXx7\n",
      "Creating topogram 'Dirty Doering/BETA_0.9  \n",
      "Distance totale parcourue par l'artiste: 160689.14991 km  \n",
      "Distance calculee par Concorde: 148471.442005 km  \n",
      "Pourcentage d'optimisation global calculee:7.60331852661 %  \n",
      "GLOBALEMENT IDENTIQUE'\n",
      "> Topogram already exists\n",
      "{u'status': u'success', 'status_code': 200, u'data': {u'sharedPublic': False, u'title': u\"Dirty Doering/BETA_0.9  \\nDistance totale parcourue par l'artiste: 160689.14991 km  \\nDistance calculee par Concorde: 148471.442005 km  \\nPourcentage d'optimisation global calculee:7.60331852661 %  \\nGLOBALEMENT IDENTIQUE\", u'userId': u'apyw7AfhAGbEHigJw', u'_id': u'ANBvoLyy7CNARz8Pj', u'slug': u'dirty-doeringbeta_09-distance-totale-parcourue-par-lartiste-16068914991-km-distance-calculee-par-concorde-148471442005-km-pourcentage-doptimisation-global-calculee760331852661-globalement-identique', u'createdAt': u'2019-10-06T07:07:07.170Z'}, u'statusCode': 200}\n",
      "topogram ID : ANBvoLyy7CNARz8Pj\n"
     ]
    },
    {
     "name": "stderr",
     "output_type": "stream",
     "text": [
      "ERROR:topogram-client:500 - Error : A topogram with the same name already exists\n"
     ]
    },
    {
     "name": "stdout",
     "output_type": "stream",
     "text": [
      "nodes already created, SKIPPED\n",
      "edges already created,SKIPPED\n",
      "done. Topogram has been updated. Check it at http://localhost:3000/topograms/ANBvoLyy7CNARz8Pj\n",
      "Creating topogram 'Andrew James/BETA_0.9  \n",
      "Distance totale parcourue par l'artiste: 203579.293258 km  \n",
      "Distance calculee par Concorde: 107276.165592 km  \n",
      "Pourcentage d'optimisation global calculee:47.3049719963 %  \n",
      "MARGE D'OPTIMISATION IMPORTANTE'\n",
      "> Topogram already exists\n",
      "{u'status': u'success', 'status_code': 200, u'data': {u'sharedPublic': False, u'title': u\"Andrew James/BETA_0.9  \\nDistance totale parcourue par l'artiste: 203579.293258 km  \\nDistance calculee par Concorde: 107276.165592 km  \\nPourcentage d'optimisation global calculee:47.3049719963 %  \\nMARGE D'OPTIMISATION IMPORTANTE\", u'userId': u'apyw7AfhAGbEHigJw', u'_id': u'Adyn4rb4c5rRs87hL', u'slug': u'andrew-jamesbeta_09-distance-totale-parcourue-par-lartiste-203579293258-km-distance-calculee-par-concorde-107276165592-km-pourcentage-doptimisation-global-calculee473049719963-marge-doptimisation-importante', u'createdAt': u'2019-10-06T07:07:07.837Z'}, u'statusCode': 200}\n",
      "topogram ID : Adyn4rb4c5rRs87hL\n"
     ]
    },
    {
     "name": "stderr",
     "output_type": "stream",
     "text": [
      "ERROR:topogram-client:500 - Error : A topogram with the same name already exists\n"
     ]
    },
    {
     "name": "stdout",
     "output_type": "stream",
     "text": [
      "nodes already created, SKIPPED\n",
      "edges already created,SKIPPED\n",
      "done. Topogram has been updated. Check it at http://localhost:3000/topograms/Adyn4rb4c5rRs87hL\n",
      "Creating topogram 'Matmos/BETA_0.9  \n",
      "Distance totale parcourue par l'artiste: 64996.8014767 km  \n",
      "Distance calculee par Concorde: 71068.869772 km  \n",
      "Pourcentage d'optimisation global calculee:-9.34210323787 %  \n",
      "GLOBALEMENT IDENTIQUE'\n",
      "> Topogram already exists\n",
      "{u'status': u'success', 'status_code': 200, u'data': {u'sharedPublic': False, u'title': u\"Matmos/BETA_0.9  \\nDistance totale parcourue par l'artiste: 64996.8014767 km  \\nDistance calculee par Concorde: 71068.869772 km  \\nPourcentage d'optimisation global calculee:-9.34210323787 %  \\nGLOBALEMENT IDENTIQUE\", u'userId': u'apyw7AfhAGbEHigJw', u'_id': u'QjWrSS4FkA2zLMoif', u'slug': u'matmosbeta_09-distance-totale-parcourue-par-lartiste-649968014767-km-distance-calculee-par-concorde-71068869772-km-pourcentage-doptimisation-global-calculee-934210323787-globalement-identique', u'createdAt': u'2019-10-06T07:07:13.366Z'}, u'statusCode': 200}\n",
      "topogram ID : QjWrSS4FkA2zLMoif\n"
     ]
    },
    {
     "name": "stderr",
     "output_type": "stream",
     "text": [
      "ERROR:topogram-client:500 - Error : A topogram with the same name already exists\n"
     ]
    },
    {
     "name": "stdout",
     "output_type": "stream",
     "text": [
      "nodes already created, SKIPPED\n",
      "edges already created,SKIPPED\n",
      "done. Topogram has been updated. Check it at http://localhost:3000/topograms/QjWrSS4FkA2zLMoif\n",
      "Creating topogram 'Royal Wood/BETA_0.9  \n",
      "Distance totale parcourue par l'artiste: 90617.5324299 km  \n",
      "Distance calculee par Concorde: 100943.650043 km  \n",
      "Pourcentage d'optimisation global calculee:-11.3952756561 %  \n",
      "TOURNEE DEJA OPTIMISEE'\n",
      "> Topogram already exists\n",
      "{u'status': u'success', 'status_code': 200, u'data': {u'sharedPublic': False, u'title': u\"Royal Wood/BETA_0.9  \\nDistance totale parcourue par l'artiste: 90617.5324299 km  \\nDistance calculee par Concorde: 100943.650043 km  \\nPourcentage d'optimisation global calculee:-11.3952756561 %  \\nTOURNEE DEJA OPTIMISEE\", u'userId': u'apyw7AfhAGbEHigJw', u'_id': u'cv26c7HioysoDEJgm', u'slug': u'royal-woodbeta_09-distance-totale-parcourue-par-lartiste-906175324299-km-distance-calculee-par-concorde-100943650043-km-pourcentage-doptimisation-global-calculee-113952756561-tournee-deja-optimisee', u'createdAt': u'2019-10-06T07:07:25.199Z'}, u'statusCode': 200}\n",
      "topogram ID : cv26c7HioysoDEJgm\n"
     ]
    },
    {
     "name": "stderr",
     "output_type": "stream",
     "text": [
      "ERROR:topogram-client:500 - Error : A topogram with the same name already exists\n"
     ]
    },
    {
     "name": "stdout",
     "output_type": "stream",
     "text": [
      "nodes already created, SKIPPED\n",
      "edges already created,SKIPPED\n",
      "done. Topogram has been updated. Check it at http://localhost:3000/topograms/cv26c7HioysoDEJgm\n",
      "Creating topogram 'Gang of Youths/BETA_0.9  \n",
      "Distance totale parcourue par l'artiste: 117223.796322 km  \n",
      "Distance calculee par Concorde: 136809.612722 km  \n",
      "Pourcentage d'optimisation global calculee:-16.7080550311 %  \n",
      "TOURNEE DEJA OPTIMISEE'\n",
      "> Topogram already exists\n",
      "{u'status': u'success', 'status_code': 200, u'data': {u'sharedPublic': False, u'title': u\"Gang of Youths/BETA_0.9  \\nDistance totale parcourue par l'artiste: 117223.796322 km  \\nDistance calculee par Concorde: 136809.612722 km  \\nPourcentage d'optimisation global calculee:-16.7080550311 %  \\nTOURNEE DEJA OPTIMISEE\", u'userId': u'apyw7AfhAGbEHigJw', u'_id': u'DpDN323WntPLaXAyJ', u'slug': u'gang-of-youthsbeta_09-distance-totale-parcourue-par-lartiste-117223796322-km-distance-calculee-par-concorde-136809612722-km-pourcentage-doptimisation-global-calculee-167080550311-tournee-deja-optimisee', u'createdAt': u'2019-10-06T07:07:28.754Z'}, u'statusCode': 200}\n",
      "topogram ID : DpDN323WntPLaXAyJ\n"
     ]
    },
    {
     "name": "stderr",
     "output_type": "stream",
     "text": [
      "ERROR:topogram-client:500 - Error : A topogram with the same name already exists\n"
     ]
    },
    {
     "name": "stdout",
     "output_type": "stream",
     "text": [
      "nodes already created, SKIPPED\n",
      "edges already created,SKIPPED\n",
      "done. Topogram has been updated. Check it at http://localhost:3000/topograms/DpDN323WntPLaXAyJ\n",
      "Creating topogram 'Danava/BETA_0.9  \n",
      "Distance totale parcourue par l'artiste: 103218.641073 km  \n",
      "Distance calculee par Concorde: 92781.1021685 km  \n",
      "Pourcentage d'optimisation global calculee:10.1120677387 %  \n",
      "MARGE D'OPTIMISATION IMPORTANTE'\n",
      "> Topogram already exists\n",
      "{u'status': u'success', 'status_code': 200, u'data': {u'sharedPublic': False, u'title': u\"Danava/BETA_0.9  \\nDistance totale parcourue par l'artiste: 103218.641073 km  \\nDistance calculee par Concorde: 92781.1021685 km  \\nPourcentage d'optimisation global calculee:10.1120677387 %  \\nMARGE D'OPTIMISATION IMPORTANTE\", u'userId': u'apyw7AfhAGbEHigJw', u'_id': u'8Qj7n9Mh4mxxMag8q', u'slug': u'danavabeta_09-distance-totale-parcourue-par-lartiste-103218641073-km-distance-calculee-par-concorde-927811021685-km-pourcentage-doptimisation-global-calculee101120677387-marge-doptimisation-importante', u'createdAt': u'2019-10-06T07:07:30.380Z'}, u'statusCode': 200}\n",
      "topogram ID : 8Qj7n9Mh4mxxMag8q\n"
     ]
    },
    {
     "name": "stderr",
     "output_type": "stream",
     "text": [
      "ERROR:topogram-client:500 - Error : A topogram with the same name already exists\n"
     ]
    },
    {
     "name": "stdout",
     "output_type": "stream",
     "text": [
      "nodes already created, SKIPPED\n",
      "edges already created,SKIPPED\n",
      "done. Topogram has been updated. Check it at http://localhost:3000/topograms/8Qj7n9Mh4mxxMag8q\n",
      "Creating topogram 'Ashanti/BETA_0.9  \n",
      "Distance totale parcourue par l'artiste: 89370.110467 km  \n",
      "Distance calculee par Concorde: 83410.326361 km  \n",
      "Pourcentage d'optimisation global calculee:6.66865473798 %  \n",
      "GLOBALEMENT IDENTIQUE'\n",
      "> Topogram already exists\n",
      "{u'status': u'success', 'status_code': 200, u'data': {u'sharedPublic': False, u'title': u\"Ashanti/BETA_0.9  \\nDistance totale parcourue par l'artiste: 89370.110467 km  \\nDistance calculee par Concorde: 83410.326361 km  \\nPourcentage d'optimisation global calculee:6.66865473798 %  \\nGLOBALEMENT IDENTIQUE\", u'userId': u'apyw7AfhAGbEHigJw', u'_id': u'DdzAPj5vJuXT5qBFo', u'slug': u'ashantibeta_09-distance-totale-parcourue-par-lartiste-89370110467-km-distance-calculee-par-concorde-83410326361-km-pourcentage-doptimisation-global-calculee666865473798-globalement-identique', u'createdAt': u'2019-10-06T07:07:44.676Z'}, u'statusCode': 200}\n",
      "topogram ID : DdzAPj5vJuXT5qBFo\n"
     ]
    },
    {
     "name": "stderr",
     "output_type": "stream",
     "text": [
      "ERROR:topogram-client:500 - Error : A topogram with the same name already exists\n"
     ]
    },
    {
     "name": "stdout",
     "output_type": "stream",
     "text": [
      "nodes already created, SKIPPED\n",
      "edges already created,SKIPPED\n",
      "done. Topogram has been updated. Check it at http://localhost:3000/topograms/DdzAPj5vJuXT5qBFo\n",
      "Creating topogram 'Louis/BETA_0.9  \n",
      "Distance totale parcourue par l'artiste: 43191.4281228 km  \n",
      "Distance calculee par Concorde: 43325.50085 km  \n",
      "Pourcentage d'optimisation global calculee:-0.310415128822 %  \n",
      "GLOBALEMENT IDENTIQUE'\n",
      "> Topogram already exists\n",
      "{u'status': u'success', 'status_code': 200, u'data': {u'sharedPublic': False, u'title': u\"Louis/BETA_0.9  \\nDistance totale parcourue par l'artiste: 43191.4281228 km  \\nDistance calculee par Concorde: 43325.50085 km  \\nPourcentage d'optimisation global calculee:-0.310415128822 %  \\nGLOBALEMENT IDENTIQUE\", u'userId': u'apyw7AfhAGbEHigJw', u'_id': u'bejucfRZTEJqQX7dZ', u'slug': u'louisbeta_09-distance-totale-parcourue-par-lartiste-431914281228-km-distance-calculee-par-concorde-4332550085-km-pourcentage-doptimisation-global-calculee-0310415128822-globalement-identique', u'createdAt': u'2019-10-06T07:07:46.856Z'}, u'statusCode': 200}\n",
      "topogram ID : bejucfRZTEJqQX7dZ\n"
     ]
    },
    {
     "name": "stderr",
     "output_type": "stream",
     "text": [
      "ERROR:topogram-client:500 - Error : A topogram with the same name already exists\n"
     ]
    },
    {
     "name": "stdout",
     "output_type": "stream",
     "text": [
      "nodes already created, SKIPPED\n",
      "edges already created,SKIPPED\n",
      "done. Topogram has been updated. Check it at http://localhost:3000/topograms/bejucfRZTEJqQX7dZ\n",
      "Creating topogram 'Shook Twins/BETA_0.9  \n",
      "Distance totale parcourue par l'artiste: 146732.858401 km  \n",
      "Distance calculee par Concorde: 109804.146788 km  \n",
      "Pourcentage d'optimisation global calculee:25.1673088192 %  \n",
      "MARGE D'OPTIMISATION IMPORTANTE'\n",
      "> Topogram already exists\n",
      "{u'status': u'success', 'status_code': 200, u'data': {u'sharedPublic': False, u'title': u\"Shook Twins/BETA_0.9  \\nDistance totale parcourue par l'artiste: 146732.858401 km  \\nDistance calculee par Concorde: 109804.146788 km  \\nPourcentage d'optimisation global calculee:25.1673088192 %  \\nMARGE D'OPTIMISATION IMPORTANTE\", u'userId': u'apyw7AfhAGbEHigJw', u'_id': u'56KuAw8dhrn8khSkb', u'slug': u'shook-twinsbeta_09-distance-totale-parcourue-par-lartiste-146732858401-km-distance-calculee-par-concorde-109804146788-km-pourcentage-doptimisation-global-calculee251673088192-marge-doptimisation-importante', u'createdAt': u'2019-10-06T07:07:48.861Z'}, u'statusCode': 200}\n",
      "topogram ID : 56KuAw8dhrn8khSkb\n"
     ]
    },
    {
     "name": "stderr",
     "output_type": "stream",
     "text": [
      "ERROR:topogram-client:500 - Error : A topogram with the same name already exists\n"
     ]
    },
    {
     "name": "stdout",
     "output_type": "stream",
     "text": [
      "nodes already created, SKIPPED\n",
      "edges already created,SKIPPED\n",
      "done. Topogram has been updated. Check it at http://localhost:3000/topograms/56KuAw8dhrn8khSkb\n",
      "Creating topogram 'The Grahams/BETA_0.9  \n",
      "Distance totale parcourue par l'artiste: 120107.930386 km  \n",
      "Distance calculee par Concorde: 107077.063195 km  \n",
      "Pourcentage d'optimisation global calculee:10.8492979187 %  \n",
      "MARGE D'OPTIMISATION IMPORTANTE'\n",
      "> Topogram already exists\n",
      "{u'status': u'success', 'status_code': 200, u'data': {u'sharedPublic': False, u'title': u\"The Grahams/BETA_0.9  \\nDistance totale parcourue par l'artiste: 120107.930386 km  \\nDistance calculee par Concorde: 107077.063195 km  \\nPourcentage d'optimisation global calculee:10.8492979187 %  \\nMARGE D'OPTIMISATION IMPORTANTE\", u'userId': u'apyw7AfhAGbEHigJw', u'_id': u'RgGpYoZo6eggQDX4d', u'slug': u'the-grahamsbeta_09-distance-totale-parcourue-par-lartiste-120107930386-km-distance-calculee-par-concorde-107077063195-km-pourcentage-doptimisation-global-calculee108492979187-marge-doptimisation-importante', u'createdAt': u'2019-10-06T07:07:53.330Z'}, u'statusCode': 200}\n",
      "topogram ID : RgGpYoZo6eggQDX4d\n"
     ]
    },
    {
     "name": "stderr",
     "output_type": "stream",
     "text": [
      "ERROR:topogram-client:500 - Error : A topogram with the same name already exists\n"
     ]
    },
    {
     "name": "stdout",
     "output_type": "stream",
     "text": [
      "nodes already created, SKIPPED\n",
      "edges already created,SKIPPED\n",
      "done. Topogram has been updated. Check it at http://localhost:3000/topograms/RgGpYoZo6eggQDX4d\n",
      "Creating topogram 'The Body/BETA_0.9  \n",
      "Distance totale parcourue par l'artiste: 105407.139466 km  \n",
      "Distance calculee par Concorde: 109427.836818 km  \n",
      "Pourcentage d'optimisation global calculee:-3.81444499167 %  \n",
      "GLOBALEMENT IDENTIQUE'\n",
      "> Topogram already exists\n",
      "{u'status': u'success', 'status_code': 200, u'data': {u'sharedPublic': False, u'title': u\"The Body/BETA_0.9  \\nDistance totale parcourue par l'artiste: 105407.139466 km  \\nDistance calculee par Concorde: 109427.836818 km  \\nPourcentage d'optimisation global calculee:-3.81444499167 %  \\nGLOBALEMENT IDENTIQUE\", u'userId': u'apyw7AfhAGbEHigJw', u'_id': u'NLd53Y7jSqGa6hNG6', u'slug': u'the-bodybeta_09-distance-totale-parcourue-par-lartiste-105407139466-km-distance-calculee-par-concorde-109427836818-km-pourcentage-doptimisation-global-calculee-381444499167-globalement-identique', u'createdAt': u'2019-10-06T07:07:54.143Z'}, u'statusCode': 200}\n",
      "topogram ID : NLd53Y7jSqGa6hNG6\n"
     ]
    },
    {
     "name": "stderr",
     "output_type": "stream",
     "text": [
      "ERROR:topogram-client:500 - Error : A topogram with the same name already exists\n"
     ]
    },
    {
     "name": "stdout",
     "output_type": "stream",
     "text": [
      "nodes already created, SKIPPED\n",
      "edges already created,SKIPPED\n",
      "done. Topogram has been updated. Check it at http://localhost:3000/topograms/NLd53Y7jSqGa6hNG6\n",
      "Creating topogram 'Norman/BETA_0.9  \n",
      "Distance totale parcourue par l'artiste: 32987.6627421 km  \n",
      "Distance calculee par Concorde: 39273.9928449 km  \n",
      "Pourcentage d'optimisation global calculee:-19.0566095935 %  \n",
      "TOURNEE DEJA OPTIMISEE'\n",
      "> Topogram already exists\n",
      "{u'status': u'success', 'status_code': 200, u'data': {u'sharedPublic': False, u'title': u\"Norman/BETA_0.9  \\nDistance totale parcourue par l'artiste: 32987.6627421 km  \\nDistance calculee par Concorde: 39273.9928449 km  \\nPourcentage d'optimisation global calculee:-19.0566095935 %  \\nTOURNEE DEJA OPTIMISEE\", u'userId': u'apyw7AfhAGbEHigJw', u'_id': u'GpXFgxjW3bx5Hir8w', u'slug': u'normanbeta_09-distance-totale-parcourue-par-lartiste-329876627421-km-distance-calculee-par-concorde-392739928449-km-pourcentage-doptimisation-global-calculee-190566095935-tournee-deja-optimisee', u'createdAt': u'2019-10-06T07:07:54.779Z'}, u'statusCode': 200}\n",
      "topogram ID : GpXFgxjW3bx5Hir8w\n"
     ]
    },
    {
     "name": "stderr",
     "output_type": "stream",
     "text": [
      "ERROR:topogram-client:500 - Error : A topogram with the same name already exists\n"
     ]
    },
    {
     "name": "stdout",
     "output_type": "stream",
     "text": [
      "nodes already created, SKIPPED\n",
      "edges already created,SKIPPED\n",
      "done. Topogram has been updated. Check it at http://localhost:3000/topograms/GpXFgxjW3bx5Hir8w\n",
      "Creating topogram 'the Bear/BETA_0.9  \n",
      "Distance totale parcourue par l'artiste: 61292.4590843 km  \n",
      "Distance calculee par Concorde: 48739.2409588 km  \n",
      "Pourcentage d'optimisation global calculee:20.4808524784 %  \n",
      "MARGE D'OPTIMISATION IMPORTANTE'\n",
      "> Topogram already exists\n",
      "{u'status': u'success', 'status_code': 200, u'data': {u'sharedPublic': False, u'title': u\"the Bear/BETA_0.9  \\nDistance totale parcourue par l'artiste: 61292.4590843 km  \\nDistance calculee par Concorde: 48739.2409588 km  \\nPourcentage d'optimisation global calculee:20.4808524784 %  \\nMARGE D'OPTIMISATION IMPORTANTE\", u'userId': u'apyw7AfhAGbEHigJw', u'_id': u'MTDQCiqe6fpspqYAB', u'slug': u'the-bearbeta_09-distance-totale-parcourue-par-lartiste-612924590843-km-distance-calculee-par-concorde-487392409588-km-pourcentage-doptimisation-global-calculee204808524784-marge-doptimisation-importante', u'createdAt': u'2019-10-06T07:07:58.028Z'}, u'statusCode': 200}\n",
      "topogram ID : MTDQCiqe6fpspqYAB\n"
     ]
    },
    {
     "name": "stderr",
     "output_type": "stream",
     "text": [
      "ERROR:topogram-client:500 - Error : A topogram with the same name already exists\n"
     ]
    },
    {
     "name": "stdout",
     "output_type": "stream",
     "text": [
      "nodes already created, SKIPPED\n",
      "edges already created,SKIPPED\n",
      "done. Topogram has been updated. Check it at http://localhost:3000/topograms/MTDQCiqe6fpspqYAB\n",
      "Creating topogram 'Summit/BETA_0.9  \n",
      "Distance totale parcourue par l'artiste: 57852.8060484 km  \n",
      "Distance calculee par Concorde: 49150.7613301 km  \n",
      "Pourcentage d'optimisation global calculee:15.0416986014 %  \n",
      "MARGE D'OPTIMISATION IMPORTANTE'\n",
      "> Topogram already exists\n",
      "{u'status': u'success', 'status_code': 200, u'data': {u'sharedPublic': False, u'title': u\"Summit/BETA_0.9  \\nDistance totale parcourue par l'artiste: 57852.8060484 km  \\nDistance calculee par Concorde: 49150.7613301 km  \\nPourcentage d'optimisation global calculee:15.0416986014 %  \\nMARGE D'OPTIMISATION IMPORTANTE\", u'userId': u'apyw7AfhAGbEHigJw', u'_id': u'aaWCrXAuKvZWjGyao', u'slug': u'summitbeta_09-distance-totale-parcourue-par-lartiste-578528060484-km-distance-calculee-par-concorde-491507613301-km-pourcentage-doptimisation-global-calculee150416986014-marge-doptimisation-importante', u'createdAt': u'2019-10-06T07:08:08.138Z'}, u'statusCode': 200}\n",
      "topogram ID : aaWCrXAuKvZWjGyao\n"
     ]
    },
    {
     "name": "stderr",
     "output_type": "stream",
     "text": [
      "ERROR:topogram-client:500 - Error : A topogram with the same name already exists\n"
     ]
    },
    {
     "name": "stdout",
     "output_type": "stream",
     "text": [
      "nodes already created, SKIPPED\n",
      "edges already created,SKIPPED\n",
      "done. Topogram has been updated. Check it at http://localhost:3000/topograms/aaWCrXAuKvZWjGyao\n",
      "Creating topogram 'Adam Rafferty/BETA_0.9  \n",
      "Distance totale parcourue par l'artiste: 70628.583215 km  \n",
      "Distance calculee par Concorde: 82743.2306355 km  \n",
      "Pourcentage d'optimisation global calculee:-17.1526128218 %  \n",
      "TOURNEE DEJA OPTIMISEE'\n",
      "> Topogram already exists\n",
      "{u'status': u'success', 'status_code': 200, u'data': {u'sharedPublic': False, u'title': u\"Adam Rafferty/BETA_0.9  \\nDistance totale parcourue par l'artiste: 70628.583215 km  \\nDistance calculee par Concorde: 82743.2306355 km  \\nPourcentage d'optimisation global calculee:-17.1526128218 %  \\nTOURNEE DEJA OPTIMISEE\", u'userId': u'apyw7AfhAGbEHigJw', u'_id': u'b4txbWjxgfGyNMgZz', u'slug': u'adam-raffertybeta_09-distance-totale-parcourue-par-lartiste-70628583215-km-distance-calculee-par-concorde-827432306355-km-pourcentage-doptimisation-global-calculee-171526128218-tournee-deja-optimisee', u'createdAt': u'2019-10-06T07:08:08.555Z'}, u'statusCode': 200}\n",
      "topogram ID : b4txbWjxgfGyNMgZz\n"
     ]
    },
    {
     "name": "stderr",
     "output_type": "stream",
     "text": [
      "ERROR:topogram-client:500 - Error : A topogram with the same name already exists\n"
     ]
    },
    {
     "name": "stdout",
     "output_type": "stream",
     "text": [
      "nodes already created, SKIPPED\n",
      "edges already created,SKIPPED\n",
      "done. Topogram has been updated. Check it at http://localhost:3000/topograms/b4txbWjxgfGyNMgZz\n",
      "Creating topogram 'ESG/BETA_0.9  \n",
      "Distance totale parcourue par l'artiste: 50464.8209654 km  \n",
      "Distance calculee par Concorde: 62968.8324114 km  \n",
      "Pourcentage d'optimisation global calculee:-24.7776791968 %  \n",
      "TOURNEE DEJA OPTIMISEE'\n",
      "> Topogram already exists\n",
      "{u'status': u'success', 'status_code': 200, u'data': {u'sharedPublic': False, u'title': u\"ESG/BETA_0.9  \\nDistance totale parcourue par l'artiste: 50464.8209654 km  \\nDistance calculee par Concorde: 62968.8324114 km  \\nPourcentage d'optimisation global calculee:-24.7776791968 %  \\nTOURNEE DEJA OPTIMISEE\", u'userId': u'apyw7AfhAGbEHigJw', u'_id': u'iruqrzg2SxC8wcGqf', u'slug': u'esgbeta_09-distance-totale-parcourue-par-lartiste-504648209654-km-distance-calculee-par-concorde-629688324114-km-pourcentage-doptimisation-global-calculee-247776791968-tournee-deja-optimisee', u'createdAt': u'2019-10-06T07:08:10.163Z'}, u'statusCode': 200}\n",
      "topogram ID : iruqrzg2SxC8wcGqf\n"
     ]
    },
    {
     "name": "stderr",
     "output_type": "stream",
     "text": [
      "ERROR:topogram-client:500 - Error : A topogram with the same name already exists\n"
     ]
    },
    {
     "name": "stdout",
     "output_type": "stream",
     "text": [
      "nodes already created, SKIPPED\n",
      "edges already created,SKIPPED\n",
      "done. Topogram has been updated. Check it at http://localhost:3000/topograms/iruqrzg2SxC8wcGqf\n",
      "Creating topogram 'Holy Ghost Tent Revival/BETA_0.9  \n",
      "Distance totale parcourue par l'artiste: 222353.96616 km  \n",
      "Distance calculee par Concorde: 105465.132088 km  \n",
      "Pourcentage d'optimisation global calculee:52.568810033 %  \n",
      "MARGE D'OPTIMISATION IMPORTANTE'\n",
      "> Topogram already exists\n",
      "{u'status': u'success', 'status_code': 200, u'data': {u'sharedPublic': False, u'title': u\"Holy Ghost Tent Revival/BETA_0.9  \\nDistance totale parcourue par l'artiste: 222353.96616 km  \\nDistance calculee par Concorde: 105465.132088 km  \\nPourcentage d'optimisation global calculee:52.568810033 %  \\nMARGE D'OPTIMISATION IMPORTANTE\", u'userId': u'apyw7AfhAGbEHigJw', u'_id': u'AaKXx2wFj78monpsw', u'slug': u'holy-ghost-tent-revivalbeta_09-distance-totale-parcourue-par-lartiste-22235396616-km-distance-calculee-par-concorde-105465132088-km-pourcentage-doptimisation-global-calculee52568810033-marge-doptimisation-importante', u'createdAt': u'2019-10-06T07:08:11.527Z'}, u'statusCode': 200}\n",
      "topogram ID : AaKXx2wFj78monpsw\n"
     ]
    },
    {
     "name": "stderr",
     "output_type": "stream",
     "text": [
      "ERROR:topogram-client:500 - Error : A topogram with the same name already exists\n"
     ]
    },
    {
     "name": "stdout",
     "output_type": "stream",
     "text": [
      "nodes already created, SKIPPED\n",
      "edges already created,SKIPPED\n",
      "done. Topogram has been updated. Check it at http://localhost:3000/topograms/AaKXx2wFj78monpsw\n",
      "Creating topogram 'Little Hurricane/BETA_0.9  \n",
      "Distance totale parcourue par l'artiste: 104461.834307 km  \n",
      "Distance calculee par Concorde: 96602.6029602 km  \n",
      "Pourcentage d'optimisation global calculee:7.52354331008 %  \n",
      "GLOBALEMENT IDENTIQUE'\n",
      "> Topogram already exists\n",
      "{u'status': u'success', 'status_code': 200, u'data': {u'sharedPublic': False, u'title': u\"Little Hurricane/BETA_0.9  \\nDistance totale parcourue par l'artiste: 104461.834307 km  \\nDistance calculee par Concorde: 96602.6029602 km  \\nPourcentage d'optimisation global calculee:7.52354331008 %  \\nGLOBALEMENT IDENTIQUE\", u'userId': u'apyw7AfhAGbEHigJw', u'_id': u'fTw2S2QZqzkHL5wso', u'slug': u'little-hurricanebeta_09-distance-totale-parcourue-par-lartiste-104461834307-km-distance-calculee-par-concorde-966026029602-km-pourcentage-doptimisation-global-calculee752354331008-globalement-identique', u'createdAt': u'2019-10-06T07:08:12.979Z'}, u'statusCode': 200}\n",
      "topogram ID : fTw2S2QZqzkHL5wso\n"
     ]
    },
    {
     "name": "stderr",
     "output_type": "stream",
     "text": [
      "ERROR:topogram-client:500 - Error : A topogram with the same name already exists\n"
     ]
    },
    {
     "name": "stdout",
     "output_type": "stream",
     "text": [
      "nodes already created, SKIPPED\n",
      "edges already created,SKIPPED\n",
      "done. Topogram has been updated. Check it at http://localhost:3000/topograms/fTw2S2QZqzkHL5wso\n",
      "Creating topogram 'Willie Nile/BETA_0.9  \n",
      "Distance totale parcourue par l'artiste: 80494.5520766 km  \n",
      "Distance calculee par Concorde: 84226.6742242 km  \n",
      "Pourcentage d'optimisation global calculee:-4.63649036028 %  \n",
      "GLOBALEMENT IDENTIQUE'\n",
      "> Topogram already exists\n",
      "{u'status': u'success', 'status_code': 200, u'data': {u'sharedPublic': False, u'title': u\"Willie Nile/BETA_0.9  \\nDistance totale parcourue par l'artiste: 80494.5520766 km  \\nDistance calculee par Concorde: 84226.6742242 km  \\nPourcentage d'optimisation global calculee:-4.63649036028 %  \\nGLOBALEMENT IDENTIQUE\", u'userId': u'apyw7AfhAGbEHigJw', u'_id': u'gghhKe55tzDcPKpQC', u'slug': u'willie-nilebeta_09-distance-totale-parcourue-par-lartiste-804945520766-km-distance-calculee-par-concorde-842266742242-km-pourcentage-doptimisation-global-calculee-463649036028-globalement-identique', u'createdAt': u'2019-10-06T07:08:13.790Z'}, u'statusCode': 200}\n",
      "topogram ID : gghhKe55tzDcPKpQC\n"
     ]
    },
    {
     "name": "stderr",
     "output_type": "stream",
     "text": [
      "ERROR:topogram-client:500 - Error : A topogram with the same name already exists\n"
     ]
    },
    {
     "name": "stdout",
     "output_type": "stream",
     "text": [
      "nodes already created, SKIPPED\n",
      "edges already created,SKIPPED\n",
      "done. Topogram has been updated. Check it at http://localhost:3000/topograms/gghhKe55tzDcPKpQC\n",
      "Creating topogram 'Voiski/BETA_0.9  \n",
      "Distance totale parcourue par l'artiste: 88124.5861944 km  \n",
      "Distance calculee par Concorde: 121169.676662 km  \n",
      "Pourcentage d'optimisation global calculee:-37.4981510775 %  \n",
      "TOURNEE DEJA OPTIMISEE'\n",
      "> Topogram already exists\n",
      "{u'status': u'success', 'status_code': 200, u'data': {u'sharedPublic': False, u'title': u\"Voiski/BETA_0.9  \\nDistance totale parcourue par l'artiste: 88124.5861944 km  \\nDistance calculee par Concorde: 121169.676662 km  \\nPourcentage d'optimisation global calculee:-37.4981510775 %  \\nTOURNEE DEJA OPTIMISEE\", u'userId': u'apyw7AfhAGbEHigJw', u'_id': u'xQJGbpi8f4f7Hr3ji', u'slug': u'voiskibeta_09-distance-totale-parcourue-par-lartiste-881245861944-km-distance-calculee-par-concorde-121169676662-km-pourcentage-doptimisation-global-calculee-374981510775-tournee-deja-optimisee', u'createdAt': u'2019-10-06T07:08:19.138Z'}, u'statusCode': 200}\n",
      "topogram ID : xQJGbpi8f4f7Hr3ji\n"
     ]
    },
    {
     "name": "stderr",
     "output_type": "stream",
     "text": [
      "ERROR:topogram-client:500 - Error : A topogram with the same name already exists\n"
     ]
    },
    {
     "name": "stdout",
     "output_type": "stream",
     "text": [
      "nodes already created, SKIPPED\n",
      "edges already created,SKIPPED\n",
      "done. Topogram has been updated. Check it at http://localhost:3000/topograms/xQJGbpi8f4f7Hr3ji\n",
      "Creating topogram 'Noah Gundersen/BETA_0.9  \n",
      "Distance totale parcourue par l'artiste: 152891.091265 km  \n",
      "Distance calculee par Concorde: 142298.739072 km  \n",
      "Pourcentage d'optimisation global calculee:6.92803753707 %  \n",
      "GLOBALEMENT IDENTIQUE'\n",
      "> Topogram already exists\n",
      "{u'status': u'success', 'status_code': 200, u'data': {u'sharedPublic': False, u'title': u\"Noah Gundersen/BETA_0.9  \\nDistance totale parcourue par l'artiste: 152891.091265 km  \\nDistance calculee par Concorde: 142298.739072 km  \\nPourcentage d'optimisation global calculee:6.92803753707 %  \\nGLOBALEMENT IDENTIQUE\", u'userId': u'apyw7AfhAGbEHigJw', u'_id': u'THpho42oQXAvwKyQa', u'slug': u'noah-gundersenbeta_09-distance-totale-parcourue-par-lartiste-152891091265-km-distance-calculee-par-concorde-142298739072-km-pourcentage-doptimisation-global-calculee692803753707-globalement-identique', u'createdAt': u'2019-10-06T07:08:19.634Z'}, u'statusCode': 200}\n",
      "topogram ID : THpho42oQXAvwKyQa\n"
     ]
    },
    {
     "name": "stderr",
     "output_type": "stream",
     "text": [
      "ERROR:topogram-client:500 - Error : A topogram with the same name already exists\n"
     ]
    },
    {
     "name": "stdout",
     "output_type": "stream",
     "text": [
      "nodes already created, SKIPPED\n",
      "edges already created,SKIPPED\n",
      "done. Topogram has been updated. Check it at http://localhost:3000/topograms/THpho42oQXAvwKyQa\n",
      "Creating topogram 'Eva Ayllón/BETA_0.9  \n",
      "Distance totale parcourue par l'artiste: 66356.1631427 km  \n",
      "Distance calculee par Concorde: 68317.7583631 km  \n",
      "Pourcentage d'optimisation global calculee:-2.95616130815 %  \n",
      "GLOBALEMENT IDENTIQUE'\n",
      "> Topogram already exists\n",
      "{u'status': u'success', 'status_code': 200, u'data': {u'sharedPublic': False, u'title': u\"Eva Ayll\\xf3n/BETA_0.9  \\nDistance totale parcourue par l'artiste: 66356.1631427 km  \\nDistance calculee par Concorde: 68317.7583631 km  \\nPourcentage d'optimisation global calculee:-2.95616130815 %  \\nGLOBALEMENT IDENTIQUE\", u'userId': u'apyw7AfhAGbEHigJw', u'_id': u'T3mJdiwpfQr6Wtkqo', u'slug': u'eva-ayllnbeta_09-distance-totale-parcourue-par-lartiste-663561631427-km-distance-calculee-par-concorde-683177583631-km-pourcentage-doptimisation-global-calculee-295616130815-globalement-identique', u'createdAt': u'2019-10-06T07:08:24.078Z'}, u'statusCode': 200}\n",
      "topogram ID : T3mJdiwpfQr6Wtkqo\n"
     ]
    },
    {
     "name": "stderr",
     "output_type": "stream",
     "text": [
      "ERROR:topogram-client:500 - Error : A topogram with the same name already exists\n"
     ]
    },
    {
     "name": "stdout",
     "output_type": "stream",
     "text": [
      "nodes already created, SKIPPED\n",
      "edges already created,SKIPPED\n",
      "done. Topogram has been updated. Check it at http://localhost:3000/topograms/T3mJdiwpfQr6Wtkqo\n",
      "Creating topogram 'Alan Fitzpatrick/BETA_0.9  \n",
      "Distance totale parcourue par l'artiste: 494580.547085 km  \n",
      "Distance calculee par Concorde: 327467.126758 km  \n",
      "Pourcentage d'optimisation global calculee:33.7889189763 %  \n",
      "MARGE D'OPTIMISATION IMPORTANTE'\n",
      "> Topogram already exists\n",
      "{u'status': u'success', 'status_code': 200, u'data': {u'sharedPublic': False, u'title': u\"Alan Fitzpatrick/BETA_0.9  \\nDistance totale parcourue par l'artiste: 494580.547085 km  \\nDistance calculee par Concorde: 327467.126758 km  \\nPourcentage d'optimisation global calculee:33.7889189763 %  \\nMARGE D'OPTIMISATION IMPORTANTE\", u'userId': u'apyw7AfhAGbEHigJw', u'_id': u'PNPGcuo4N2u6dDRht', u'slug': u'alan-fitzpatrickbeta_09-distance-totale-parcourue-par-lartiste-494580547085-km-distance-calculee-par-concorde-327467126758-km-pourcentage-doptimisation-global-calculee337889189763-marge-doptimisation-importante', u'createdAt': u'2019-10-06T07:08:31.928Z'}, u'statusCode': 200}\n",
      "topogram ID : PNPGcuo4N2u6dDRht\n"
     ]
    },
    {
     "name": "stderr",
     "output_type": "stream",
     "text": [
      "ERROR:topogram-client:500 - Error : A topogram with the same name already exists\n"
     ]
    },
    {
     "name": "stdout",
     "output_type": "stream",
     "text": [
      "nodes already created, SKIPPED\n",
      "edges already created,SKIPPED\n",
      "done. Topogram has been updated. Check it at http://localhost:3000/topograms/PNPGcuo4N2u6dDRht\n",
      "Creating topogram 'The Algorithm/BETA_0.9  \n",
      "Distance totale parcourue par l'artiste: 148359.392026 km  \n",
      "Distance calculee par Concorde: 123059.163773 km  \n",
      "Pourcentage d'optimisation global calculee:17.0533377815 %  \n",
      "MARGE D'OPTIMISATION IMPORTANTE'\n",
      "> Topogram already exists\n",
      "{u'status': u'success', 'status_code': 200, u'data': {u'sharedPublic': False, u'title': u\"The Algorithm/BETA_0.9  \\nDistance totale parcourue par l'artiste: 148359.392026 km  \\nDistance calculee par Concorde: 123059.163773 km  \\nPourcentage d'optimisation global calculee:17.0533377815 %  \\nMARGE D'OPTIMISATION IMPORTANTE\", u'userId': u'apyw7AfhAGbEHigJw', u'_id': u'Br3vCFbxHjzyYNTaZ', u'slug': u'the-algorithmbeta_09-distance-totale-parcourue-par-lartiste-148359392026-km-distance-calculee-par-concorde-123059163773-km-pourcentage-doptimisation-global-calculee170533377815-marge-doptimisation-importante', u'createdAt': u'2019-10-06T07:08:38.660Z'}, u'statusCode': 200}\n",
      "topogram ID : Br3vCFbxHjzyYNTaZ\n"
     ]
    },
    {
     "name": "stderr",
     "output_type": "stream",
     "text": [
      "ERROR:topogram-client:500 - Error : A topogram with the same name already exists\n"
     ]
    },
    {
     "name": "stdout",
     "output_type": "stream",
     "text": [
      "nodes already created, SKIPPED\n",
      "edges already created,SKIPPED\n",
      "done. Topogram has been updated. Check it at http://localhost:3000/topograms/Br3vCFbxHjzyYNTaZ\n",
      "Creating topogram 'Jessica Hernandez & The Deltas/BETA_0.9  \n",
      "Distance totale parcourue par l'artiste: 179969.280857 km  \n",
      "Distance calculee par Concorde: 161165.270865 km  \n",
      "Pourcentage d'optimisation global calculee:10.4484553715 %  \n",
      "MARGE D'OPTIMISATION IMPORTANTE'\n",
      "> Topogram already exists\n",
      "{u'status': u'success', 'status_code': 200, u'data': {u'sharedPublic': False, u'title': u\"Jessica Hernandez & The Deltas/BETA_0.9  \\nDistance totale parcourue par l'artiste: 179969.280857 km  \\nDistance calculee par Concorde: 161165.270865 km  \\nPourcentage d'optimisation global calculee:10.4484553715 %  \\nMARGE D'OPTIMISATION IMPORTANTE\", u'userId': u'apyw7AfhAGbEHigJw', u'_id': u'qcPigQekssF5eANFg', u'slug': u'jessica-hernandez-the-deltasbeta_09-distance-totale-parcourue-par-lartiste-179969280857-km-distance-calculee-par-concorde-161165270865-km-pourcentage-doptimisation-global-calculee104484553715-marge-doptimisation-importante', u'createdAt': u'2019-10-06T07:08:41.466Z'}, u'statusCode': 200}\n",
      "topogram ID : qcPigQekssF5eANFg\n"
     ]
    },
    {
     "name": "stderr",
     "output_type": "stream",
     "text": [
      "ERROR:topogram-client:500 - Error : A topogram with the same name already exists\n"
     ]
    },
    {
     "name": "stdout",
     "output_type": "stream",
     "text": [
      "nodes already created, SKIPPED\n",
      "edges already created,SKIPPED\n",
      "done. Topogram has been updated. Check it at http://localhost:3000/topograms/qcPigQekssF5eANFg\n",
      "Creating topogram 'JC Brooks/BETA_0.9  \n",
      "Distance totale parcourue par l'artiste: 129088.718327 km  \n",
      "Distance calculee par Concorde: 118618.025803 km  \n",
      "Pourcentage d'optimisation global calculee:8.11123749563 %  \n",
      "GLOBALEMENT IDENTIQUE'\n",
      "> Topogram already exists\n",
      "{u'status': u'success', 'status_code': 200, u'data': {u'sharedPublic': False, u'title': u\"JC Brooks/BETA_0.9  \\nDistance totale parcourue par l'artiste: 129088.718327 km  \\nDistance calculee par Concorde: 118618.025803 km  \\nPourcentage d'optimisation global calculee:8.11123749563 %  \\nGLOBALEMENT IDENTIQUE\", u'userId': u'apyw7AfhAGbEHigJw', u'_id': u'vYtvsWePFy8xcMxFC', u'slug': u'jc-brooksbeta_09-distance-totale-parcourue-par-lartiste-129088718327-km-distance-calculee-par-concorde-118618025803-km-pourcentage-doptimisation-global-calculee811123749563-globalement-identique', u'createdAt': u'2019-10-06T07:08:46.471Z'}, u'statusCode': 200}\n",
      "topogram ID : vYtvsWePFy8xcMxFC\n"
     ]
    },
    {
     "name": "stderr",
     "output_type": "stream",
     "text": [
      "ERROR:topogram-client:500 - Error : A topogram with the same name already exists\n"
     ]
    },
    {
     "name": "stdout",
     "output_type": "stream",
     "text": [
      "nodes already created, SKIPPED\n",
      "edges already created,SKIPPED\n",
      "done. Topogram has been updated. Check it at http://localhost:3000/topograms/vYtvsWePFy8xcMxFC\n",
      "Creating topogram 'Raiz/BETA_0.9  \n",
      "Distance totale parcourue par l'artiste: 75741.8043052 km  \n",
      "Distance calculee par Concorde: 48803.6519267 km  \n",
      "Pourcentage d'optimisation global calculee:35.5657653334 %  \n",
      "MARGE D'OPTIMISATION IMPORTANTE'\n",
      "> Topogram already exists\n",
      "{u'status': u'success', 'status_code': 200, u'data': {u'sharedPublic': False, u'title': u\"Raiz/BETA_0.9  \\nDistance totale parcourue par l'artiste: 75741.8043052 km  \\nDistance calculee par Concorde: 48803.6519267 km  \\nPourcentage d'optimisation global calculee:35.5657653334 %  \\nMARGE D'OPTIMISATION IMPORTANTE\", u'userId': u'apyw7AfhAGbEHigJw', u'_id': u'xSykxPQD8e5aEwCZx', u'slug': u'raizbeta_09-distance-totale-parcourue-par-lartiste-757418043052-km-distance-calculee-par-concorde-488036519267-km-pourcentage-doptimisation-global-calculee355657653334-marge-doptimisation-importante', u'createdAt': u'2019-10-06T07:08:48.265Z'}, u'statusCode': 200}\n",
      "topogram ID : xSykxPQD8e5aEwCZx\n"
     ]
    },
    {
     "name": "stderr",
     "output_type": "stream",
     "text": [
      "ERROR:topogram-client:500 - Error : A topogram with the same name already exists\n"
     ]
    },
    {
     "name": "stdout",
     "output_type": "stream",
     "text": [
      "nodes already created, SKIPPED\n",
      "edges already created,SKIPPED\n",
      "done. Topogram has been updated. Check it at http://localhost:3000/topograms/xSykxPQD8e5aEwCZx\n",
      "Creating topogram 'Altan/BETA_0.9  \n",
      "Distance totale parcourue par l'artiste: 98146.8510369 km  \n",
      "Distance calculee par Concorde: 108184.58709 km  \n",
      "Pourcentage d'optimisation global calculee:-10.2272624614 %  \n",
      "TOURNEE DEJA OPTIMISEE'\n",
      "> Topogram already exists\n",
      "{u'status': u'success', 'status_code': 200, u'data': {u'sharedPublic': False, u'title': u\"Altan/BETA_0.9  \\nDistance totale parcourue par l'artiste: 98146.8510369 km  \\nDistance calculee par Concorde: 108184.58709 km  \\nPourcentage d'optimisation global calculee:-10.2272624614 %  \\nTOURNEE DEJA OPTIMISEE\", u'userId': u'apyw7AfhAGbEHigJw', u'_id': u'YRFFCGx487dKdyEZZ', u'slug': u'altanbeta_09-distance-totale-parcourue-par-lartiste-981468510369-km-distance-calculee-par-concorde-10818458709-km-pourcentage-doptimisation-global-calculee-102272624614-tournee-deja-optimisee', u'createdAt': u'2019-10-06T07:08:51.565Z'}, u'statusCode': 200}\n",
      "topogram ID : YRFFCGx487dKdyEZZ\n"
     ]
    },
    {
     "name": "stderr",
     "output_type": "stream",
     "text": [
      "ERROR:topogram-client:500 - Error : A topogram with the same name already exists\n"
     ]
    },
    {
     "name": "stdout",
     "output_type": "stream",
     "text": [
      "nodes already created, SKIPPED\n",
      "edges already created,SKIPPED\n",
      "done. Topogram has been updated. Check it at http://localhost:3000/topograms/YRFFCGx487dKdyEZZ\n",
      "Creating topogram 'Karen/BETA_0.9  \n",
      "Distance totale parcourue par l'artiste: 52738.5686388 km  \n",
      "Distance calculee par Concorde: 49122.0865902 km  \n",
      "Pourcentage d'optimisation global calculee:6.85737618965 %  \n",
      "GLOBALEMENT IDENTIQUE'\n",
      "> Topogram already exists\n",
      "{u'status': u'success', 'status_code': 200, u'data': {u'sharedPublic': False, u'title': u\"Karen/BETA_0.9  \\nDistance totale parcourue par l'artiste: 52738.5686388 km  \\nDistance calculee par Concorde: 49122.0865902 km  \\nPourcentage d'optimisation global calculee:6.85737618965 %  \\nGLOBALEMENT IDENTIQUE\", u'userId': u'apyw7AfhAGbEHigJw', u'_id': u'f2uHkzSrC7wYMkjrD', u'slug': u'karenbeta_09-distance-totale-parcourue-par-lartiste-527385686388-km-distance-calculee-par-concorde-491220865902-km-pourcentage-doptimisation-global-calculee685737618965-globalement-identique', u'createdAt': u'2019-10-06T07:08:54.692Z'}, u'statusCode': 200}\n",
      "topogram ID : f2uHkzSrC7wYMkjrD\n"
     ]
    },
    {
     "name": "stderr",
     "output_type": "stream",
     "text": [
      "ERROR:topogram-client:500 - Error : A topogram with the same name already exists\n"
     ]
    },
    {
     "name": "stdout",
     "output_type": "stream",
     "text": [
      "nodes already created, SKIPPED\n",
      "edges already created,SKIPPED\n",
      "done. Topogram has been updated. Check it at http://localhost:3000/topograms/f2uHkzSrC7wYMkjrD\n",
      "Creating topogram 'JO/BETA_0.9  \n",
      "Distance totale parcourue par l'artiste: 3623.44103497 km  \n",
      "Distance calculee par Concorde: 3623.44103497 km  \n",
      "Pourcentage d'optimisation global calculee:0.0 %  \n",
      "GLOBALEMENT IDENTIQUE'\n",
      "> Topogram already exists\n",
      "{u'status': u'success', 'status_code': 200, u'data': {u'sharedPublic': False, u'title': u\"JO/BETA_0.9  \\nDistance totale parcourue par l'artiste: 3623.44103497 km  \\nDistance calculee par Concorde: 3623.44103497 km  \\nPourcentage d'optimisation global calculee:0.0 %  \\nGLOBALEMENT IDENTIQUE\", u'userId': u'apyw7AfhAGbEHigJw', u'_id': u'JuGH8yErTza4fc6bC', u'slug': u'jobeta_09-distance-totale-parcourue-par-lartiste-362344103497-km-distance-calculee-par-concorde-362344103497-km-pourcentage-doptimisation-global-calculee00-globalement-identique', u'createdAt': u'2019-10-06T07:09:02.921Z'}, u'statusCode': 200}\n",
      "topogram ID : JuGH8yErTza4fc6bC\n"
     ]
    },
    {
     "name": "stderr",
     "output_type": "stream",
     "text": [
      "ERROR:topogram-client:500 - Error : A topogram with the same name already exists\n"
     ]
    },
    {
     "name": "stdout",
     "output_type": "stream",
     "text": [
      "nodes already created, SKIPPED\n",
      "edges already created,SKIPPED\n",
      "done. Topogram has been updated. Check it at http://localhost:3000/topograms/JuGH8yErTza4fc6bC\n",
      "Creating topogram 'The Kingston Trio/BETA_0.9  \n",
      "Distance totale parcourue par l'artiste: 104029.854448 km  \n",
      "Distance calculee par Concorde: 96406.6036875 km  \n",
      "Pourcentage d'optimisation global calculee:7.32794523346 %  \n",
      "GLOBALEMENT IDENTIQUE'\n",
      "> Topogram already exists\n",
      "{u'status': u'success', 'status_code': 200, u'data': {u'sharedPublic': False, u'title': u\"The Kingston Trio/BETA_0.9  \\nDistance totale parcourue par l'artiste: 104029.854448 km  \\nDistance calculee par Concorde: 96406.6036875 km  \\nPourcentage d'optimisation global calculee:7.32794523346 %  \\nGLOBALEMENT IDENTIQUE\", u'userId': u'apyw7AfhAGbEHigJw', u'_id': u'DHYM52pH2AJRrJQCu', u'slug': u'the-kingston-triobeta_09-distance-totale-parcourue-par-lartiste-104029854448-km-distance-calculee-par-concorde-964066036875-km-pourcentage-doptimisation-global-calculee732794523346-globalement-identique', u'createdAt': u'2019-10-06T07:09:03.996Z'}, u'statusCode': 200}\n",
      "topogram ID : DHYM52pH2AJRrJQCu\n"
     ]
    },
    {
     "name": "stderr",
     "output_type": "stream",
     "text": [
      "ERROR:topogram-client:500 - Error : A topogram with the same name already exists\n"
     ]
    },
    {
     "name": "stdout",
     "output_type": "stream",
     "text": [
      "nodes already created, SKIPPED\n",
      "edges already created,SKIPPED\n",
      "done. Topogram has been updated. Check it at http://localhost:3000/topograms/DHYM52pH2AJRrJQCu\n",
      "Creating topogram 'Jenny/BETA_0.9  \n",
      "Distance totale parcourue par l'artiste: 218368.810382 km  \n",
      "Distance calculee par Concorde: 151658.313393 km  \n",
      "Pourcentage d'optimisation global calculee:30.5494621108 %  \n",
      "MARGE D'OPTIMISATION IMPORTANTE'\n",
      "> Topogram already exists\n",
      "{u'status': u'success', 'status_code': 200, u'data': {u'sharedPublic': False, u'title': u\"Jenny/BETA_0.9  \\nDistance totale parcourue par l'artiste: 218368.810382 km  \\nDistance calculee par Concorde: 151658.313393 km  \\nPourcentage d'optimisation global calculee:30.5494621108 %  \\nMARGE D'OPTIMISATION IMPORTANTE\", u'userId': u'apyw7AfhAGbEHigJw', u'_id': u'xCw89EAvnuGnqMDjq', u'slug': u'jennybeta_09-distance-totale-parcourue-par-lartiste-218368810382-km-distance-calculee-par-concorde-151658313393-km-pourcentage-doptimisation-global-calculee305494621108-marge-doptimisation-importante', u'createdAt': u'2019-10-06T07:09:04.660Z'}, u'statusCode': 200}\n",
      "topogram ID : xCw89EAvnuGnqMDjq\n"
     ]
    },
    {
     "name": "stderr",
     "output_type": "stream",
     "text": [
      "ERROR:topogram-client:500 - Error : A topogram with the same name already exists\n"
     ]
    },
    {
     "name": "stdout",
     "output_type": "stream",
     "text": [
      "nodes already created, SKIPPED\n",
      "edges already created,SKIPPED\n",
      "done. Topogram has been updated. Check it at http://localhost:3000/topograms/xCw89EAvnuGnqMDjq\n",
      "Creating topogram 'Melanie Dekker/BETA_0.9  \n",
      "Distance totale parcourue par l'artiste: 91664.0805647 km  \n",
      "Distance calculee par Concorde: 111832.794158 km  \n",
      "Pourcentage d'optimisation global calculee:-22.0028537564 %  \n",
      "TOURNEE DEJA OPTIMISEE'\n",
      "> Topogram already exists\n",
      "{u'status': u'success', 'status_code': 200, u'data': {u'sharedPublic': False, u'title': u\"Melanie Dekker/BETA_0.9  \\nDistance totale parcourue par l'artiste: 91664.0805647 km  \\nDistance calculee par Concorde: 111832.794158 km  \\nPourcentage d'optimisation global calculee:-22.0028537564 %  \\nTOURNEE DEJA OPTIMISEE\", u'userId': u'apyw7AfhAGbEHigJw', u'_id': u'AyFytozZL44TNZae9', u'slug': u'melanie-dekkerbeta_09-distance-totale-parcourue-par-lartiste-916640805647-km-distance-calculee-par-concorde-111832794158-km-pourcentage-doptimisation-global-calculee-220028537564-tournee-deja-optimisee', u'createdAt': u'2019-10-06T07:09:15.809Z'}, u'statusCode': 200}\n",
      "topogram ID : AyFytozZL44TNZae9\n"
     ]
    },
    {
     "name": "stderr",
     "output_type": "stream",
     "text": [
      "ERROR:topogram-client:500 - Error : A topogram with the same name already exists\n"
     ]
    },
    {
     "name": "stdout",
     "output_type": "stream",
     "text": [
      "nodes already created, SKIPPED\n",
      "edges already created,SKIPPED\n",
      "done. Topogram has been updated. Check it at http://localhost:3000/topograms/AyFytozZL44TNZae9\n",
      "Creating topogram 'The Warlocks/BETA_0.9  \n",
      "Distance totale parcourue par l'artiste: 110554.138509 km  \n",
      "Distance calculee par Concorde: 102414.234499 km  \n",
      "Pourcentage d'optimisation global calculee:7.36282161781 %  \n",
      "GLOBALEMENT IDENTIQUE'\n",
      "> Topogram already exists\n",
      "{u'status': u'success', 'status_code': 200, u'data': {u'sharedPublic': False, u'title': u\"The Warlocks/BETA_0.9  \\nDistance totale parcourue par l'artiste: 110554.138509 km  \\nDistance calculee par Concorde: 102414.234499 km  \\nPourcentage d'optimisation global calculee:7.36282161781 %  \\nGLOBALEMENT IDENTIQUE\", u'userId': u'apyw7AfhAGbEHigJw', u'_id': u'5vLaALRL8qBu88tbE', u'slug': u'the-warlocksbeta_09-distance-totale-parcourue-par-lartiste-110554138509-km-distance-calculee-par-concorde-102414234499-km-pourcentage-doptimisation-global-calculee736282161781-globalement-identique', u'createdAt': u'2019-10-06T07:09:17.121Z'}, u'statusCode': 200}\n",
      "topogram ID : 5vLaALRL8qBu88tbE\n"
     ]
    },
    {
     "name": "stderr",
     "output_type": "stream",
     "text": [
      "ERROR:topogram-client:500 - Error : A topogram with the same name already exists\n"
     ]
    },
    {
     "name": "stdout",
     "output_type": "stream",
     "text": [
      "nodes already created, SKIPPED\n",
      "edges already created,SKIPPED\n",
      "done. Topogram has been updated. Check it at http://localhost:3000/topograms/5vLaALRL8qBu88tbE\n",
      "Creating topogram 'Ernesto Ferreyra/BETA_0.9  \n",
      "Distance totale parcourue par l'artiste: 81214.0114567 km  \n",
      "Distance calculee par Concorde: 96690.5832891 km  \n",
      "Pourcentage d'optimisation global calculee:-19.0565292304 %  \n",
      "TOURNEE DEJA OPTIMISEE'\n",
      "> Topogram already exists\n",
      "{u'status': u'success', 'status_code': 200, u'data': {u'sharedPublic': False, u'title': u\"Ernesto Ferreyra/BETA_0.9  \\nDistance totale parcourue par l'artiste: 81214.0114567 km  \\nDistance calculee par Concorde: 96690.5832891 km  \\nPourcentage d'optimisation global calculee:-19.0565292304 %  \\nTOURNEE DEJA OPTIMISEE\", u'userId': u'apyw7AfhAGbEHigJw', u'_id': u'aX6cK5NTeExpznWdS', u'slug': u'ernesto-ferreyrabeta_09-distance-totale-parcourue-par-lartiste-812140114567-km-distance-calculee-par-concorde-966905832891-km-pourcentage-doptimisation-global-calculee-190565292304-tournee-deja-optimisee', u'createdAt': u'2019-10-06T07:09:22.035Z'}, u'statusCode': 200}\n",
      "topogram ID : aX6cK5NTeExpznWdS\n"
     ]
    },
    {
     "name": "stderr",
     "output_type": "stream",
     "text": [
      "ERROR:topogram-client:500 - Error : A topogram with the same name already exists\n"
     ]
    }
   ],
   "source": [
    "###IMPORT ALL THE BANDS GRAPHS\n",
    "\n",
    "nodestop=[]\n",
    "edgestop=[]\n",
    "tit=[]\n",
    "import glob, os\n",
    "\n",
    "print os.getcwd()\n",
    "\n",
    "for subdir, dirs, files in os.walk(savpath): \n",
    " for file in files:\n",
    "  if file.endswith('.obj') == True:\n",
    "    #print file\n",
    "    with open(os.path.join(subdir, file), 'rb') as handle:\n",
    "          temp= pickle.load( handle)\n",
    "    #print temp \n",
    "    tit=temp[0].encode(\"utf-8\")\n",
    "    edgestop=temp[2]\n",
    "    nodestop=temp[1]\n",
    "    #print edgestop\n",
    "    #for edge in edgestop:\n",
    "    #    assert edge[\"data\n",
    "    while True:\n",
    "        try:\n",
    "    #        print tit\n",
    "            create_topogram(tit, nodestop, edgestop)\n",
    "            \n",
    "        except TypeError:\n",
    "            continue\n",
    "        \n",
    "        break\n",
    "print 'DONE'\n",
    "        "
   ]
  },
  {
   "cell_type": "code",
   "execution_count": 50,
   "metadata": {
    "scrolled": true
   },
   "outputs": [
    {
     "name": "stderr",
     "output_type": "stream",
     "text": [
      "ERROR:topogram-client:500 - Error : A topogram with the same name already exists\n",
      "IOPub data rate exceeded.\n",
      "The notebook server will temporarily stop sending output\n",
      "to the client in order to avoid crashing it.\n",
      "To change this limit, set the config variable\n",
      "`--NotebookApp.iopub_data_rate_limit`.\n"
     ]
    },
    {
     "name": "stdout",
     "output_type": "stream",
     "text": [
      "5000 nodes deleted\n",
      "5000 nodes created.\n"
     ]
    },
    {
     "ename": "ValueError",
     "evalue": "No JSON object could be decoded",
     "output_type": "error",
     "traceback": [
      "\u001b[0;31m---------------------------------------------------------------------------\u001b[0m",
      "\u001b[0;31mValueError\u001b[0m                                Traceback (most recent call last)",
      "\u001b[0;32m<ipython-input-50-19a8f878a201>\u001b[0m in \u001b[0;36m<module>\u001b[0;34m()\u001b[0m\n\u001b[1;32m     22\u001b[0m         \u001b[0;32mtry\u001b[0m\u001b[0;34m:\u001b[0m\u001b[0;34m\u001b[0m\u001b[0m\n\u001b[1;32m     23\u001b[0m             \u001b[0;32mprint\u001b[0m \u001b[0mnodestopo\u001b[0m\u001b[0;34m\u001b[0m\u001b[0m\n\u001b[0;32m---> 24\u001b[0;31m             \u001b[0mcreate_topogram\u001b[0m\u001b[0;34m(\u001b[0m\u001b[0mtitle\u001b[0m\u001b[0;34m,\u001b[0m \u001b[0mnodestopo\u001b[0m\u001b[0;34m,\u001b[0m \u001b[0medgestopo\u001b[0m\u001b[0;34m)\u001b[0m\u001b[0;34m\u001b[0m\u001b[0m\n\u001b[0m\u001b[1;32m     25\u001b[0m \u001b[0;34m\u001b[0m\u001b[0m\n\u001b[1;32m     26\u001b[0m         \u001b[0;32mexcept\u001b[0m \u001b[0mTypeError\u001b[0m\u001b[0;34m:\u001b[0m\u001b[0;34m\u001b[0m\u001b[0m\n",
      "\u001b[0;32m<ipython-input-3-2d6e9028f27d>\u001b[0m in \u001b[0;36mcreate_topogram\u001b[0;34m(title, nodes, edges)\u001b[0m\n\u001b[1;32m     27\u001b[0m     \u001b[0;31m#print r\u001b[0m\u001b[0;34m\u001b[0m\u001b[0;34m\u001b[0m\u001b[0m\n\u001b[1;32m     28\u001b[0m     \u001b[0;32mprint\u001b[0m \u001b[0;34m\"%s nodes created.\"\u001b[0m\u001b[0;34m%\u001b[0m\u001b[0mlen\u001b[0m\u001b[0;34m(\u001b[0m\u001b[0mr\u001b[0m\u001b[0;34m[\u001b[0m\u001b[0;34m\"data\"\u001b[0m\u001b[0;34m]\u001b[0m\u001b[0;34m)\u001b[0m\u001b[0;34m\u001b[0m\u001b[0m\n\u001b[0;32m---> 29\u001b[0;31m     \u001b[0mr\u001b[0m \u001b[0;34m=\u001b[0m \u001b[0mtopogram\u001b[0m\u001b[0;34m.\u001b[0m\u001b[0mcreate_edges\u001b[0m\u001b[0;34m(\u001b[0m\u001b[0mtopogram_ID\u001b[0m\u001b[0;34m,\u001b[0m \u001b[0medges\u001b[0m\u001b[0;34m)\u001b[0m\u001b[0;34m\u001b[0m\u001b[0m\n\u001b[0m\u001b[1;32m     30\u001b[0m     \u001b[0;32mprint\u001b[0m \u001b[0;34m\"%s edges created.\"\u001b[0m\u001b[0;34m%\u001b[0m\u001b[0mlen\u001b[0m\u001b[0;34m(\u001b[0m\u001b[0mr\u001b[0m\u001b[0;34m[\u001b[0m\u001b[0;34m\"data\"\u001b[0m\u001b[0;34m]\u001b[0m\u001b[0;34m)\u001b[0m\u001b[0;34m\u001b[0m\u001b[0m\n\u001b[1;32m     31\u001b[0m \u001b[0;34m\u001b[0m\u001b[0m\n",
      "\u001b[0;32m/home/goonieb/anaconda2/lib/python2.7/site-packages/topogram_client/__init__.pyc\u001b[0m in \u001b[0;36mcreate_edges\u001b[0;34m(self, topogramId, edges)\u001b[0m\n\u001b[1;32m    184\u001b[0m         \u001b[0;34m\"\"\"POST Create a bunch of edges. Returns the created edges\"\"\"\u001b[0m\u001b[0;34m\u001b[0m\u001b[0m\n\u001b[1;32m    185\u001b[0m         \u001b[0;32massert\u001b[0m \u001b[0mtype\u001b[0m\u001b[0;34m(\u001b[0m\u001b[0medges\u001b[0m\u001b[0;34m)\u001b[0m \u001b[0;32mis\u001b[0m \u001b[0mlist\u001b[0m\u001b[0;34m\u001b[0m\u001b[0m\n\u001b[0;32m--> 186\u001b[0;31m         \u001b[0;32mreturn\u001b[0m \u001b[0mself\u001b[0m\u001b[0;34m.\u001b[0m\u001b[0mmake_request\u001b[0m\u001b[0;34m(\u001b[0m\u001b[0;34m\"POST\"\u001b[0m\u001b[0;34m,\u001b[0m \u001b[0;34m\"edges\"\u001b[0m\u001b[0;34m,\u001b[0m \u001b[0;34m{\u001b[0m \u001b[0;34m\"topogramId\"\u001b[0m \u001b[0;34m:\u001b[0m \u001b[0mtopogramId\u001b[0m\u001b[0;34m,\u001b[0m \u001b[0;34m\"edges\"\u001b[0m \u001b[0;34m:\u001b[0m \u001b[0medges\u001b[0m\u001b[0;34m}\u001b[0m\u001b[0;34m)\u001b[0m\u001b[0;34m\u001b[0m\u001b[0m\n\u001b[0m\u001b[1;32m    187\u001b[0m \u001b[0;34m\u001b[0m\u001b[0m\n\u001b[1;32m    188\u001b[0m \u001b[0;34m\u001b[0m\u001b[0m\n",
      "\u001b[0;32m/home/goonieb/anaconda2/lib/python2.7/site-packages/topogram_client/__init__.pyc\u001b[0m in \u001b[0;36mmake_request\u001b[0;34m(self, method, path, data)\u001b[0m\n\u001b[1;32m     55\u001b[0m \u001b[0;34m\u001b[0m\u001b[0m\n\u001b[1;32m     56\u001b[0m         \u001b[0;32mif\u001b[0m \u001b[0mr\u001b[0m\u001b[0;34m.\u001b[0m\u001b[0mstatus_code\u001b[0m \u001b[0;34m>=\u001b[0m \u001b[0;36m500\u001b[0m \u001b[0;34m:\u001b[0m \u001b[0;31m# handle 403 error\u001b[0m\u001b[0;34m\u001b[0m\u001b[0m\n\u001b[0;32m---> 57\u001b[0;31m             \u001b[0merr\u001b[0m \u001b[0;34m=\u001b[0m \u001b[0;34m\"%s - Error : %s\"\u001b[0m\u001b[0;34m%\u001b[0m\u001b[0;34m(\u001b[0m\u001b[0mr\u001b[0m\u001b[0;34m.\u001b[0m\u001b[0mstatus_code\u001b[0m\u001b[0;34m,\u001b[0m \u001b[0mr\u001b[0m\u001b[0;34m.\u001b[0m\u001b[0mjson\u001b[0m\u001b[0;34m(\u001b[0m\u001b[0;34m)\u001b[0m\u001b[0;34m[\u001b[0m\u001b[0;34m\"message\"\u001b[0m\u001b[0;34m]\u001b[0m\u001b[0;34m)\u001b[0m\u001b[0;34m\u001b[0m\u001b[0m\n\u001b[0m\u001b[1;32m     58\u001b[0m             \u001b[0mlog\u001b[0m\u001b[0;34m.\u001b[0m\u001b[0merror\u001b[0m\u001b[0;34m(\u001b[0m\u001b[0merr\u001b[0m\u001b[0;34m)\u001b[0m\u001b[0;34m\u001b[0m\u001b[0m\n\u001b[1;32m     59\u001b[0m             \u001b[0;32mraise\u001b[0m \u001b[0mValueError\u001b[0m\u001b[0;34m(\u001b[0m\u001b[0merr\u001b[0m\u001b[0;34m)\u001b[0m\u001b[0;34m\u001b[0m\u001b[0m\n",
      "\u001b[0;32m/home/goonieb/anaconda2/lib/python2.7/site-packages/requests/models.pyc\u001b[0m in \u001b[0;36mjson\u001b[0;34m(self, **kwargs)\u001b[0m\n\u001b[1;32m    890\u001b[0m                     \u001b[0;31m# used.\u001b[0m\u001b[0;34m\u001b[0m\u001b[0;34m\u001b[0m\u001b[0m\n\u001b[1;32m    891\u001b[0m                     \u001b[0;32mpass\u001b[0m\u001b[0;34m\u001b[0m\u001b[0m\n\u001b[0;32m--> 892\u001b[0;31m         \u001b[0;32mreturn\u001b[0m \u001b[0mcomplexjson\u001b[0m\u001b[0;34m.\u001b[0m\u001b[0mloads\u001b[0m\u001b[0;34m(\u001b[0m\u001b[0mself\u001b[0m\u001b[0;34m.\u001b[0m\u001b[0mtext\u001b[0m\u001b[0;34m,\u001b[0m \u001b[0;34m**\u001b[0m\u001b[0mkwargs\u001b[0m\u001b[0;34m)\u001b[0m\u001b[0;34m\u001b[0m\u001b[0m\n\u001b[0m\u001b[1;32m    893\u001b[0m \u001b[0;34m\u001b[0m\u001b[0m\n\u001b[1;32m    894\u001b[0m     \u001b[0;34m@\u001b[0m\u001b[0mproperty\u001b[0m\u001b[0;34m\u001b[0m\u001b[0m\n",
      "\u001b[0;32m/home/goonieb/anaconda2/lib/python2.7/json/__init__.pyc\u001b[0m in \u001b[0;36mloads\u001b[0;34m(s, encoding, cls, object_hook, parse_float, parse_int, parse_constant, object_pairs_hook, **kw)\u001b[0m\n\u001b[1;32m    337\u001b[0m             \u001b[0mparse_int\u001b[0m \u001b[0;32mis\u001b[0m \u001b[0mNone\u001b[0m \u001b[0;32mand\u001b[0m \u001b[0mparse_float\u001b[0m \u001b[0;32mis\u001b[0m \u001b[0mNone\u001b[0m \u001b[0;32mand\u001b[0m\u001b[0;34m\u001b[0m\u001b[0m\n\u001b[1;32m    338\u001b[0m             parse_constant is None and object_pairs_hook is None and not kw):\n\u001b[0;32m--> 339\u001b[0;31m         \u001b[0;32mreturn\u001b[0m \u001b[0m_default_decoder\u001b[0m\u001b[0;34m.\u001b[0m\u001b[0mdecode\u001b[0m\u001b[0;34m(\u001b[0m\u001b[0ms\u001b[0m\u001b[0;34m)\u001b[0m\u001b[0;34m\u001b[0m\u001b[0m\n\u001b[0m\u001b[1;32m    340\u001b[0m     \u001b[0;32mif\u001b[0m \u001b[0mcls\u001b[0m \u001b[0;32mis\u001b[0m \u001b[0mNone\u001b[0m\u001b[0;34m:\u001b[0m\u001b[0;34m\u001b[0m\u001b[0m\n\u001b[1;32m    341\u001b[0m         \u001b[0mcls\u001b[0m \u001b[0;34m=\u001b[0m \u001b[0mJSONDecoder\u001b[0m\u001b[0;34m\u001b[0m\u001b[0m\n",
      "\u001b[0;32m/home/goonieb/anaconda2/lib/python2.7/json/decoder.pyc\u001b[0m in \u001b[0;36mdecode\u001b[0;34m(self, s, _w)\u001b[0m\n\u001b[1;32m    362\u001b[0m \u001b[0;34m\u001b[0m\u001b[0m\n\u001b[1;32m    363\u001b[0m         \"\"\"\n\u001b[0;32m--> 364\u001b[0;31m         \u001b[0mobj\u001b[0m\u001b[0;34m,\u001b[0m \u001b[0mend\u001b[0m \u001b[0;34m=\u001b[0m \u001b[0mself\u001b[0m\u001b[0;34m.\u001b[0m\u001b[0mraw_decode\u001b[0m\u001b[0;34m(\u001b[0m\u001b[0ms\u001b[0m\u001b[0;34m,\u001b[0m \u001b[0midx\u001b[0m\u001b[0;34m=\u001b[0m\u001b[0m_w\u001b[0m\u001b[0;34m(\u001b[0m\u001b[0ms\u001b[0m\u001b[0;34m,\u001b[0m \u001b[0;36m0\u001b[0m\u001b[0;34m)\u001b[0m\u001b[0;34m.\u001b[0m\u001b[0mend\u001b[0m\u001b[0;34m(\u001b[0m\u001b[0;34m)\u001b[0m\u001b[0;34m)\u001b[0m\u001b[0;34m\u001b[0m\u001b[0m\n\u001b[0m\u001b[1;32m    365\u001b[0m         \u001b[0mend\u001b[0m \u001b[0;34m=\u001b[0m \u001b[0m_w\u001b[0m\u001b[0;34m(\u001b[0m\u001b[0ms\u001b[0m\u001b[0;34m,\u001b[0m \u001b[0mend\u001b[0m\u001b[0;34m)\u001b[0m\u001b[0;34m.\u001b[0m\u001b[0mend\u001b[0m\u001b[0;34m(\u001b[0m\u001b[0;34m)\u001b[0m\u001b[0;34m\u001b[0m\u001b[0m\n\u001b[1;32m    366\u001b[0m         \u001b[0;32mif\u001b[0m \u001b[0mend\u001b[0m \u001b[0;34m!=\u001b[0m \u001b[0mlen\u001b[0m\u001b[0;34m(\u001b[0m\u001b[0ms\u001b[0m\u001b[0;34m)\u001b[0m\u001b[0;34m:\u001b[0m\u001b[0;34m\u001b[0m\u001b[0m\n",
      "\u001b[0;32m/home/goonieb/anaconda2/lib/python2.7/json/decoder.pyc\u001b[0m in \u001b[0;36mraw_decode\u001b[0;34m(self, s, idx)\u001b[0m\n\u001b[1;32m    380\u001b[0m             \u001b[0mobj\u001b[0m\u001b[0;34m,\u001b[0m \u001b[0mend\u001b[0m \u001b[0;34m=\u001b[0m \u001b[0mself\u001b[0m\u001b[0;34m.\u001b[0m\u001b[0mscan_once\u001b[0m\u001b[0;34m(\u001b[0m\u001b[0ms\u001b[0m\u001b[0;34m,\u001b[0m \u001b[0midx\u001b[0m\u001b[0;34m)\u001b[0m\u001b[0;34m\u001b[0m\u001b[0m\n\u001b[1;32m    381\u001b[0m         \u001b[0;32mexcept\u001b[0m \u001b[0mStopIteration\u001b[0m\u001b[0;34m:\u001b[0m\u001b[0;34m\u001b[0m\u001b[0m\n\u001b[0;32m--> 382\u001b[0;31m             \u001b[0;32mraise\u001b[0m \u001b[0mValueError\u001b[0m\u001b[0;34m(\u001b[0m\u001b[0;34m\"No JSON object could be decoded\"\u001b[0m\u001b[0;34m)\u001b[0m\u001b[0;34m\u001b[0m\u001b[0m\n\u001b[0m\u001b[1;32m    383\u001b[0m         \u001b[0;32mreturn\u001b[0m \u001b[0mobj\u001b[0m\u001b[0;34m,\u001b[0m \u001b[0mend\u001b[0m\u001b[0;34m\u001b[0m\u001b[0m\n",
      "\u001b[0;31mValueError\u001b[0m: No JSON object could be decoded"
     ]
    }
   ],
   "source": [
    "###IMPORT THE GLOBAL VENUE  GRAPH\n",
    "my_nodesdictList=[]\n",
    "nodestopo=[]\n",
    "edgestopo=[]\n",
    "with open(\"./my_nodesdictGLOBAL.obj\", 'rb') as handle:\n",
    "          my_nodesdictGLOBAL= pickle.load( handle)\n",
    "        \n",
    "for key, value in my_nodesdictGLOBAL.iteritems():\n",
    "            my_nodesdictGLOBAL[key][\"data\"].pop('count')\n",
    "        \n",
    "for key, value in my_nodesdictGLOBAL.iteritems():\n",
    "            my_nodesdictList.append(value)\n",
    "        \n",
    "nodestopo=sorted(my_nodesdictList, key= lambda (v) : v['data']['weight'], reverse=True)[:5000]\n",
    "print len(nodestopo)\n",
    "\n",
    "\n",
    "\n",
    "title=\"global venue graph /BETA 0.6\"\n",
    "\n",
    "while True:\n",
    "        try:\n",
    "            print nodestopo\n",
    "            create_topogram(title, nodestopo, edgestopo)\n",
    "        \n",
    "        except TypeError:\n",
    "            continue\n",
    "        break\n",
    "        "
   ]
  },
  {
   "cell_type": "code",
   "execution_count": 14,
   "metadata": {
    "collapsed": true
   },
   "outputs": [],
   "source": [
    "with open(\"./bands_dicts/the-real-mckenzies01612542-01ec-4fc4-a9ad-b6a6e33f11d7.obj\", 'rb') as handle:\n",
    "          DEBUG= pickle.load( handle)\n"
   ]
  },
  {
   "cell_type": "code",
   "execution_count": 18,
   "metadata": {},
   "outputs": [
    {
     "name": "stdout",
     "output_type": "stream",
     "text": [
      "[u\"The Real McKenzies/BETA_0.8  \\nDistance totale parcourue par l'artiste: 180691.650535 km  \\nDistance calculee par Concorde: 156448.795249 km  \\nPourcentage d'optimisation global calculee:13.4166992303 %  \\nMARGE D'OPTIMISATION IMPORTANTE\", [{'data': {'end': '2015-03-27T20:30:00', 'name': 'the-horseshoe-tavern', 'weight': 1.0, 'color': '#7f663f', 'notes': 'name : the-horseshoe-tavern  \\nlat : 43.6490438  \\nlng :-79.395913  \\n weight :1  \\nstart : 2015-03-26T20:30:00  \\nend : 2015-03-27T20:30:00  \\ncolor :#7f663f  \\n  <a href=\"https://google.com/search?q=the-horseshoe-tavern\" target=\"_blank\">the-horseshoe-tavern</a>', 'start': '2015-03-26T20:30:00', 'lat': 43.6490438, 'lng': -79.395913, 'id': 'the-horseshoe-tavern43-79'}}, {'data': {'end': '2012-05-09T20:00:00', 'name': 'the-pyramid-cabaret', 'weight': 1.0, 'color': '#723f7f', 'notes': 'name : the-pyramid-cabaret  \\nlat : 49.890735  \\nlng :-97.137711  \\n weight :1  \\nstart : 2012-05-08T20:00:00  \\nend : 2012-05-09T20:00:00  \\ncolor :#723f7f  \\n  <a href=\"https://google.com/search?q=the-pyramid-cabaret\" target=\"_blank\">the-pyramid-cabaret</a>', 'start': '2012-05-08T20:00:00', 'lat': 49.890735, 'lng': -97.137711, 'id': 'the-pyramid-cabaret49-97'}}, {'data': {'end': '2015-06-19T21:00:00', 'name': 'the-pyramid-scheme', 'weight': 1.0, 'color': '#7f793f', 'notes': 'name : the-pyramid-scheme  \\nlat : 42.961573  \\nlng :-85.668974  \\n weight :1  \\nstart : 2015-06-18T21:00:00  \\nend : 2015-06-19T21:00:00  \\ncolor :#7f793f  \\n  <a href=\"https://google.com/search?q=the-pyramid-scheme\" target=\"_blank\">the-pyramid-scheme</a>', 'start': '2015-06-18T21:00:00', 'lat': 42.961573, 'lng': -85.668974, 'id': 'the-pyramid-scheme42-85'}}, {'data': {'end': '2009-04-05T21:00:00', 'name': 'pop-levi-horseshoe-tavern', 'weight': 1.0, 'color': '#4c7f3f', 'notes': 'name : pop-levi-horseshoe-tavern  \\nlat : 43.6666667  \\nlng :-79.4166667  \\n weight :1  \\nstart : 2009-04-04T21:00:00  \\nend : 2009-04-05T21:00:00  \\ncolor :#4c7f3f  \\n  <a href=\"https://google.com/search?q=pop-levi-horseshoe-tavern\" target=\"_blank\">pop-levi-horseshoe-tavern</a>', 'start': '2009-04-04T21:00:00', 'lat': 43.6666667, 'lng': -79.4166667, 'id': 'pop-levi-horseshoe-tavern43-79'}}, {'data': {'end': '2015-05-16T19:00:00', 'name': 'skaters-palace', 'weight': 1.0, 'color': '#7f793f', 'notes': 'name : skaters-palace  \\nlat : 51.9666667  \\nlng :7.6333333  \\n weight :1  \\nstart : 2015-05-15T19:00:00  \\nend : 2015-05-16T19:00:00  \\ncolor :#7f793f  \\n  <a href=\"https://google.com/search?q=skaters-palace\" target=\"_blank\">skaters-palace</a>', 'start': '2015-05-15T19:00:00', 'lat': 51.9666667, 'lng': 7.6333333, 'id': 'skaters-palace517'}}, {'data': {'end': '2017-06-23T19:00:00', 'name': 'velbloud', 'weight': 1.0, 'color': '#3f7f59', 'notes': 'name : velbloud  \\nlat : 48.97107  \\nlng :14.47945  \\n weight :1  \\nstart : 2017-06-22T19:00:00  \\nend : 2017-06-23T19:00:00  \\ncolor :#3f7f59  \\n  <a href=\"https://google.com/search?q=velbloud\" target=\"_blank\">velbloud</a>', 'start': '2017-06-22T19:00:00', 'lat': 48.97107, 'lng': 14.47945, 'id': 'velbloud4814'}}, {'data': {'end': '2012-05-08T19:00:00', 'name': 'crocks', 'weight': 1.0, 'color': '#723f7f', 'notes': 'name : crocks  \\nlat : 48.434355  \\nlng :-89.219886  \\n weight :1  \\nstart : 2012-05-07T19:00:00  \\nend : 2012-05-08T19:00:00  \\ncolor :#723f7f  \\n  <a href=\"https://google.com/search?q=crocks\" target=\"_blank\">crocks</a>', 'start': '2012-05-07T19:00:00', 'lat': 48.434355, 'lng': -89.219886, 'id': 'crocks48-89'}}, {'data': {'end': '2012-02-02T19:00:00', 'name': 'kassablanca-gleis-1', 'weight': 1.0, 'color': '#5f3f7f', 'notes': 'name : kassablanca-gleis-1  \\nlat : 50.919861  \\nlng :11.577858  \\n weight :1  \\nstart : 2012-02-01T19:00:00  \\nend : 2012-02-02T19:00:00  \\ncolor :#5f3f7f  \\n  <a href=\"https://google.com/search?q=kassablanca-gleis-1\" target=\"_blank\">kassablanca-gleis-1</a>', 'start': '2012-02-01T19:00:00', 'lat': 50.919861, 'lng': 11.577858, 'id': 'kassablanca-gleis-15011'}}, {'data': {'end': '2017-06-15T19:00:00', 'name': 'k3', 'weight': 1.0, 'color': '#3f7f59', 'notes': 'name : k3  \\nlat : 52.106341  \\nlng :9.356504  \\n weight :1  \\nstart : 2017-06-14T19:00:00  \\nend : 2017-06-15T19:00:00  \\ncolor :#3f7f59  \\n  <a href=\"https://google.com/search?q=k3\" target=\"_blank\">k3</a>', 'start': '2017-06-14T19:00:00', 'lat': 52.106341, 'lng': 9.356504, 'id': 'k3529'}}, {'data': {'end': '2015-04-10T20:00:00', 'name': 'the-big-dipper', 'weight': 1.0, 'color': '#7f663f', 'notes': 'name : the-big-dipper  \\nlat : 47.654724  \\nlng :-117.417732  \\n weight :1  \\nstart : 2015-04-09T20:00:00  \\nend : 2015-04-10T20:00:00  \\ncolor :#7f663f  \\n  <a href=\"https://google.com/search?q=the-big-dipper\" target=\"_blank\">the-big-dipper</a>', 'start': '2015-04-09T20:00:00', 'lat': 47.654724, 'lng': -117.417732, 'id': 'the-big-dipper47-117'}}, {'data': {'end': '2015-05-15T21:00:00', 'name': 'strom', 'weight': 1.0, 'color': '#7f793f', 'notes': 'name : strom  \\nlat : 51.6166667  \\nlng :13.3166667  \\n weight :1  \\nstart : 2015-05-14T21:00:00  \\nend : 2015-05-15T21:00:00  \\ncolor :#7f793f  \\n  <a href=\"https://google.com/search?q=strom\" target=\"_blank\">strom</a>', 'start': '2015-05-14T21:00:00', 'lat': 51.6166667, 'lng': 13.3166667, 'id': 'strom5113'}}, {'data': {'end': '2017-04-21T00:00:00', 'name': 'so36', 'weight': 1.5537739740300374, 'color': '#3f7f59', 'notes': 'name : so36  \\nlat : 52.500373  \\nlng :13.422031  \\n weight :5.82842712475  \\nstart : 2012-02-04T19:00:00  \\nend : 2017-04-21T00:00:00  \\ncolor :#3f7f59  \\n  <a href=\"https://google.com/search?q=so36\" target=\"_blank\">so36</a>', 'start': '2012-02-04T19:00:00', 'lat': 52.500373, 'lng': 13.422031, 'id': 'so365213'}}, {'data': {'end': '2010-02-04T21:00:00', 'name': 'klubi-turku', 'weight': 1.0, 'color': '#3f7f6c', 'notes': 'name : klubi-turku  \\nlat : 60.45062  \\nlng :22.258976  \\n weight :1  \\nstart : 2010-02-03T21:00:00  \\nend : 2010-02-04T21:00:00  \\ncolor :#3f7f6c  \\n  <a href=\"https://google.com/search?q=klubi-turku\" target=\"_blank\">klubi-turku</a>', 'start': '2010-02-03T21:00:00', 'lat': 60.45062, 'lng': 22.258976, 'id': 'klubi-turku6022'}}, {'data': {'end': '2011-01-20T19:00:00', 'name': 'borderline', 'weight': 1.0, 'color': '#3f467f', 'notes': 'name : borderline  \\nlat : 51.51486  \\nlng :-0.130419  \\n weight :1  \\nstart : 2011-01-19T19:00:00  \\nend : 2011-01-20T19:00:00  \\ncolor :#3f467f  \\n  <a href=\"https://google.com/search?q=borderline\" target=\"_blank\">borderline</a>', 'start': '2011-01-19T19:00:00', 'lat': 51.51486, 'lng': -0.130419, 'id': 'borderline510'}}, {'data': {'end': '2017-05-18T19:00:00', 'name': 'the-casbah', 'weight': 1.0, 'color': '#3f7f59', 'notes': 'name : the-casbah  \\nlat : 43.259401  \\nlng :-79.878521  \\n weight :1  \\nstart : 2017-05-17T19:00:00  \\nend : 2017-05-18T19:00:00  \\ncolor :#3f7f59  \\n  <a href=\"https://google.com/search?q=the-casbah\" target=\"_blank\">the-casbah</a>', 'start': '2017-05-17T19:00:00', 'lat': 43.259401, 'lng': -79.878521, 'id': 'the-casbah43-79'}}, {'data': {'end': '2017-06-17T19:00:00', 'name': 'bastard-club', 'weight': 1.0, 'color': '#3f7f59', 'notes': 'name : bastard-club  \\nlat : 52.2666667  \\nlng :8.05  \\n weight :1  \\nstart : 2017-06-16T19:00:00  \\nend : 2017-06-17T19:00:00  \\ncolor :#3f7f59  \\n  <a href=\"https://google.com/search?q=bastard-club\" target=\"_blank\">bastard-club</a>', 'start': '2017-06-16T19:00:00', 'lat': 52.2666667, 'lng': 8.05, 'id': 'bastard-club528'}}, {'data': {'end': '2017-03-24T21:00:00', 'name': 'the-windsor-hotel', 'weight': 1.0, 'color': '#3f7f46', 'notes': 'name : the-windsor-hotel  \\nlat : 49.890911  \\nlng :-97.138871  \\n weight :1  \\nstart : 2017-03-23T21:00:00  \\nend : 2017-03-24T21:00:00  \\ncolor :#3f7f46  \\n  <a href=\"https://google.com/search?q=the-windsor-hotel\" target=\"_blank\">the-windsor-hotel</a>', 'start': '2017-03-23T21:00:00', 'lat': 49.890911, 'lng': -97.138871, 'id': 'the-windsor-hotel49-97'}}, {'data': {'end': '2017-03-17T20:30:00', 'name': 'average-joe-s-sports-bar', 'weight': 1.0, 'color': '#3f7f46', 'notes': 'name : average-joe-s-sports-bar  \\nlat : 49.6934  \\nlng :-112.838362  \\n weight :1  \\nstart : 2017-03-16T20:30:00  \\nend : 2017-03-17T20:30:00  \\ncolor :#3f7f46  \\n  <a href=\"https://google.com/search?q=average-joe-s-sports-bar\" target=\"_blank\">average-joe-s-sports-bar</a>', 'start': '2017-03-16T20:30:00', 'lat': 49.6934, 'lng': -112.838362, 'id': 'average-joe-s-sports-bar49-112'}}, {'data': {'end': '2017-05-28T00:00:00', 'name': 'viper-room', 'weight': 1.4142135623730951, 'color': '#3f7f59', 'notes': 'name : viper-room  \\nlat : 34.09066  \\nlng :-118.38468  \\n weight :4.0  \\nstart : 2014-09-23T20:00:00  \\nend : 2017-05-28T00:00:00  \\ncolor :#3f7f59  \\n  <a href=\"https://google.com/search?q=viper-room\" target=\"_blank\">viper-room</a>', 'start': '2014-09-23T20:00:00', 'lat': 34.09066, 'lng': -118.38468, 'id': 'viper-room34-118'}}, {'data': {'end': '2009-01-29T19:00:00', 'name': 'la-fourmi', 'weight': 1.0, 'color': '#5f7f3f', 'notes': 'name : la-fourmi  \\nlat : 45.823859  \\nlng :1.2671198  \\n weight :1  \\nstart : 2009-01-28T19:00:00  \\nend : 2009-01-29T19:00:00  \\ncolor :#5f7f3f  \\n  <a href=\"https://google.com/search?q=la-fourmi\" target=\"_blank\">la-fourmi</a>', 'start': '2009-01-28T19:00:00', 'lat': 45.823859, 'lng': 1.2671198, 'id': 'la-fourmi451'}}, {'data': {'end': '2015-03-26T20:00:00', 'name': 'rum-runners', 'weight': 1.0, 'color': '#7f663f', 'notes': 'name : rum-runners  \\nlat : 42.9840012  \\nlng :-81.2491989  \\n weight :1  \\nstart : 2015-03-25T20:00:00  \\nend : 2015-03-26T20:00:00  \\ncolor :#7f663f  \\n  <a href=\"https://google.com/search?q=rum-runners\" target=\"_blank\">rum-runners</a>', 'start': '2015-03-25T20:00:00', 'lat': 42.9840012, 'lng': -81.2491989, 'id': 'rum-runners42-81'}}, {'data': {'end': '2017-03-25T22:30:00', 'name': 'amigos', 'weight': 1.4142135623730951, 'color': '#3f7f46', 'notes': 'name : amigos  \\nlat : 52.117627  \\nlng :-106.654089  \\n weight :4.0  \\nstart : 2016-03-25T22:30:00  \\nend : 2017-03-25T22:30:00  \\ncolor :#3f7f46  \\n  <a href=\"https://google.com/search?q=amigos\" target=\"_blank\">amigos</a>', 'start': '2016-03-25T22:30:00', 'lat': 52.117627, 'lng': -106.654089, 'id': 'amigos52-106'}}, {'data': {'end': '2017-03-05T20:00:00', 'name': 'rickshaw-theatre', 'weight': 1.5537739740300374, 'color': '#3f7f46', 'notes': 'name : rickshaw-theatre  \\nlat : 49.281183  \\nlng :-123.098194  \\n weight :5.82842712475  \\nstart : 2015-04-11T20:00:00  \\nend : 2017-03-05T20:00:00  \\ncolor :#3f7f46  \\n  <a href=\"https://google.com/search?q=rickshaw-theatre\" target=\"_blank\">rickshaw-theatre</a>', 'start': '2015-04-11T20:00:00', 'lat': 49.281183, 'lng': -123.098194, 'id': 'rickshaw-theatre49-123'}}, {'data': {'end': '2012-07-25T20:00:00', 'name': 'grammatikoff', 'weight': 1.0, 'color': '#7f3f79', 'notes': 'name : grammatikoff  \\nlat : 51.430598  \\nlng :6.761312  \\n weight :1  \\nstart : 2012-07-24T20:00:00  \\nend : 2012-07-25T20:00:00  \\ncolor :#7f3f79  \\n  <a href=\"https://google.com/search?q=grammatikoff\" target=\"_blank\">grammatikoff</a>', 'start': '2012-07-24T20:00:00', 'lat': 51.430598, 'lng': 6.761312, 'id': 'grammatikoff516'}}, {'data': {'end': '2015-04-09T20:00:00', 'name': 'the-pub-station', 'weight': 1.0, 'color': '#7f663f', 'notes': 'name : the-pub-station  \\nlat : 45.783363  \\nlng :-108.50193  \\n weight :1  \\nstart : 2015-04-08T20:00:00  \\nend : 2015-04-09T20:00:00  \\ncolor :#7f663f  \\n  <a href=\"https://google.com/search?q=the-pub-station\" target=\"_blank\">the-pub-station</a>', 'start': '2015-04-08T20:00:00', 'lat': 45.783363, 'lng': -108.50193, 'id': 'the-pub-station45-108'}}, {'data': {'end': '2012-06-02T21:00:00', 'name': 'turf-club', 'weight': 1.0, 'color': '#723f7f', 'notes': 'name : turf-club  \\nlat : 44.955935  \\nlng :-93.167933  \\n weight :1  \\nstart : 2012-06-01T21:00:00  \\nend : 2012-06-02T21:00:00  \\ncolor :#723f7f  \\n  <a href=\"https://google.com/search?q=turf-club\" target=\"_blank\">turf-club</a>', 'start': '2012-06-01T21:00:00', 'lat': 44.955935, 'lng': -93.167933, 'id': 'turf-club44-93'}}, {'data': {'end': '2010-05-28T20:30:00', 'name': 'popcentrum-013', 'weight': 1.0, 'color': '#3f6c7f', 'notes': 'name : popcentrum-013  \\nlat : 51.55  \\nlng :5.1166667  \\n weight :1  \\nstart : 2010-05-27T20:30:00  \\nend : 2010-05-28T20:30:00  \\ncolor :#3f6c7f  \\n  <a href=\"https://google.com/search?q=popcentrum-013\" target=\"_blank\">popcentrum-013</a>', 'start': '2010-05-27T20:30:00', 'lat': 51.55, 'lng': 5.1166667, 'id': 'popcentrum-013515'}}, {'data': {'end': '2017-03-04T20:00:00', 'name': 'the-waverley', 'weight': 1.4142135623730951, 'color': '#3f7f46', 'notes': 'name : the-waverley  \\nlat : 49.619019  \\nlng :-125.030143  \\n weight :4.0  \\nstart : 2013-03-09T20:00:00  \\nend : 2017-03-04T20:00:00  \\ncolor :#3f7f46  \\n  <a href=\"https://google.com/search?q=the-waverley\" target=\"_blank\">the-waverley</a>', 'start': '2013-03-09T20:00:00', 'lat': 49.619019, 'lng': -125.030143, 'id': 'the-waverley49-125'}}, {'data': {'end': '2012-02-04T19:00:00', 'name': 'cafe-nord', 'weight': 1.0, 'color': '#5f3f7f', 'notes': 'name : cafe-nord  \\nlat : 51.45  \\nlng :7.0166667  \\n weight :1  \\nstart : 2012-02-03T19:00:00  \\nend : 2012-02-04T19:00:00  \\ncolor :#5f3f7f  \\n  <a href=\"https://google.com/search?q=cafe-nord\" target=\"_blank\">cafe-nord</a>', 'start': '2012-02-03T19:00:00', 'lat': 51.45, 'lng': 7.0166667, 'id': 'cafe-nord517'}}, {'data': {'end': '2012-01-26T19:00:00', 'name': 'captains-rest', 'weight': 1.0, 'color': '#5f3f7f', 'notes': 'name : captains-rest  \\nlat : 55.872361  \\nlng :-4.272853  \\n weight :1  \\nstart : 2012-01-25T19:00:00  \\nend : 2012-01-26T19:00:00  \\ncolor :#5f3f7f  \\n  <a href=\"https://google.com/search?q=captains-rest\" target=\"_blank\">captains-rest</a>', 'start': '2012-01-25T19:00:00', 'lat': 55.872361, 'lng': -4.272853, 'id': 'captains-rest55-4'}}, {'data': {'end': '2017-03-23T20:00:00', 'name': 'the-exchange', 'weight': 1.4142135623730951, 'color': '#3f7f46', 'notes': 'name : the-exchange  \\nlat : 50.456539  \\nlng :-104.615494  \\n weight :4.0  \\nstart : 2007-07-20T00:00:00  \\nend : 2017-03-23T20:00:00  \\ncolor :#3f7f46  \\n  <a href=\"https://google.com/search?q=the-exchange\" target=\"_blank\">the-exchange</a>', 'start': '2007-07-20T00:00:00', 'lat': 50.456539, 'lng': -104.615494, 'id': 'the-exchange50-104'}}, {'data': {'end': '2012-05-25T19:00:00', 'name': 'ace-of-spades', 'weight': 1.0, 'color': '#723f7f', 'notes': 'name : ace-of-spades  \\nlat : 38.569897  \\nlng :-121.491362  \\n weight :1  \\nstart : 2012-05-24T19:00:00  \\nend : 2012-05-25T19:00:00  \\ncolor :#723f7f  \\n  <a href=\"https://google.com/search?q=ace-of-spades\" target=\"_blank\">ace-of-spades</a>', 'start': '2012-05-24T19:00:00', 'lat': 38.569897, 'lng': -121.491362, 'id': 'ace-of-spades38-121'}}, {'data': {'end': '2012-06-11T21:00:00', 'name': 'maxwell-s', 'weight': 1.0, 'color': '#723f7f', 'notes': 'name : maxwell-s  \\nlat : 40.749694  \\nlng :-74.026922  \\n weight :1  \\nstart : 2012-06-10T21:00:00  \\nend : 2012-06-11T21:00:00  \\ncolor :#723f7f  \\n  <a href=\"https://google.com/search?q=maxwell-s\" target=\"_blank\">maxwell-s</a>', 'start': '2012-06-10T21:00:00', 'lat': 40.749694, 'lng': -74.026922, 'id': 'maxwell-s40-74'}}, {'data': {'end': '2014-07-17T21:30:00', 'name': 'hafenklang', 'weight': 1.4142135623730951, 'color': '#7f3f3f', 'notes': 'name : hafenklang  \\nlat : 53.55  \\nlng :10.0  \\n weight :4.0  \\nstart : 2012-01-31T19:00:00  \\nend : 2014-07-17T21:30:00  \\ncolor :#7f3f3f  \\n  <a href=\"https://google.com/search?q=hafenklang\" target=\"_blank\">hafenklang</a>', 'start': '2012-01-31T19:00:00', 'lat': 53.55, 'lng': 10.0, 'id': 'hafenklang5310'}}, {'data': {'end': '2008-11-29T19:00:00', 'name': 'regenbogen', 'weight': 1.0, 'color': '#727f3f', 'notes': 'name : regenbogen  \\nlat : 52.1  \\nlng :9.35  \\n weight :1  \\nstart : 2008-11-28T19:00:00  \\nend : 2008-11-29T19:00:00  \\ncolor :#727f3f  \\n  <a href=\"https://google.com/search?q=regenbogen\" target=\"_blank\">regenbogen</a>', 'start': '2008-11-28T19:00:00', 'lat': 52.1, 'lng': 9.35, 'id': 'regenbogen529'}}, {'data': {'end': '2012-01-17T19:00:00', 'name': 'united-club', 'weight': 1.0, 'color': '#5f3f7f', 'notes': 'name : united-club  \\nlat : 45.05  \\nlng :7.6666667  \\n weight :1  \\nstart : 2012-01-16T19:00:00  \\nend : 2012-01-17T19:00:00  \\ncolor :#5f3f7f  \\n  <a href=\"https://google.com/search?q=united-club\" target=\"_blank\">united-club</a>', 'start': '2012-01-16T19:00:00', 'lat': 45.05, 'lng': 7.6666667, 'id': 'united-club457'}}, {'data': {'end': '2008-11-08T19:00:00', 'name': 'schlachthof', 'weight': 1.0, 'color': '#727f3f', 'notes': 'name : schlachthof  \\nlat : 47.764801  \\nlng :13.0602  \\n weight :1  \\nstart : 2008-11-07T19:00:00  \\nend : 2008-11-08T19:00:00  \\ncolor :#727f3f  \\n  <a href=\"https://google.com/search?q=schlachthof\" target=\"_blank\">schlachthof</a>', 'start': '2008-11-07T19:00:00', 'lat': 47.764801, 'lng': 13.0602, 'id': 'schlachthof4713'}}, {'data': {'end': '2017-05-20T19:00:00', 'name': 'phoenix-concert-theatre', 'weight': 1.4142135623730951, 'color': '#3f7f59', 'notes': 'name : phoenix-concert-theatre  \\nlat : 43.6647186  \\nlng :-79.3741608  \\n weight :4.0  \\nstart : 2007-07-25T00:00:00  \\nend : 2017-05-20T19:00:00  \\ncolor :#3f7f59  \\n  <a href=\"https://google.com/search?q=phoenix-concert-theatre\" target=\"_blank\">phoenix-concert-theatre</a>', 'start': '2007-07-25T00:00:00', 'lat': 43.6647186, 'lng': -79.3741608, 'id': 'phoenix-concert-theatre43-79'}}, {'data': {'end': '2017-05-19T19:00:00', 'name': 'call-the-office', 'weight': 1.4142135623730951, 'color': '#3f7f59', 'notes': 'name : call-the-office  \\nlat : 42.981812  \\nlng :-81.246644  \\n weight :4.0  \\nstart : 2007-07-26T00:00:00  \\nend : 2017-05-19T19:00:00  \\ncolor :#3f7f59  \\n  <a href=\"https://google.com/search?q=call-the-office\" target=\"_blank\">call-the-office</a>', 'start': '2007-07-26T00:00:00', 'lat': 42.981812, 'lng': -81.246644, 'id': 'call-the-office42-81'}}, {'data': {'end': '2017-08-04T12:00:00', 'name': 'rebellion-festival', 'weight': 1.4142135623730951, 'color': '#3f7f6c', 'notes': 'name : rebellion-festival  \\nlat : 53.817949  \\nlng :-3.048585  \\n weight :4.0  \\nstart : 2012-08-04T19:00:00  \\nend : 2017-08-04T12:00:00  \\ncolor :#3f7f6c  \\n  <a href=\"https://google.com/search?q=rebellion-festival\" target=\"_blank\">rebellion-festival</a>', 'start': '2012-08-04T19:00:00', 'lat': 53.817949, 'lng': -3.048585, 'id': 'rebellion-festival53-3'}}, {'data': {'end': '2016-07-21T20:30:00', 'name': 'kuz-sagewerk', 'weight': 1.0, 'color': '#4c7f3f', 'notes': 'name : kuz-sagewerk  \\nlat : 51.3170536  \\nlng :9.4924552  \\n weight :1  \\nstart : 2016-07-20T20:30:00  \\nend : 2016-07-21T20:30:00  \\ncolor :#4c7f3f  \\n  <a href=\"https://google.com/search?q=kuz-sagewerk\" target=\"_blank\">kuz-sagewerk</a>', 'start': '2016-07-20T20:30:00', 'lat': 51.3170536, 'lng': 9.4924552, 'id': 'kuz-sagewerk519'}}, {'data': {'end': '2017-04-28T19:00:00', 'name': 'das-bett', 'weight': 1.0, 'color': '#3f7f59', 'notes': 'name : das-bett  \\nlat : 50.103413  \\nlng :8.618523  \\n weight :1  \\nstart : 2017-04-27T19:00:00  \\nend : 2017-04-28T19:00:00  \\ncolor :#3f7f59  \\n  <a href=\"https://google.com/search?q=das-bett\" target=\"_blank\">das-bett</a>', 'start': '2017-04-27T19:00:00', 'lat': 50.103413, 'lng': 8.618523, 'id': 'das-bett508'}}, {'data': {'end': '2008-07-26T19:00:00', 'name': 'festival-grounds', 'weight': 1.0, 'color': '#7f663f', 'notes': 'name : festival-grounds  \\nlat : 46.8833333  \\nlng :17.6833333  \\n weight :1  \\nstart : 2008-07-25T19:00:00  \\nend : 2008-07-26T19:00:00  \\ncolor :#7f663f  \\n  <a href=\"https://google.com/search?q=festival-grounds\" target=\"_blank\">festival-grounds</a>', 'start': '2008-07-25T19:00:00', 'lat': 46.8833333, 'lng': 17.6833333, 'id': 'festival-grounds4617'}}, {'data': {'end': '2010-06-03T20:30:00', 'name': 'paradox', 'weight': 1.0, 'color': '#3f6c7f', 'notes': 'name : paradox  \\nlat : 48.769847  \\nlng :11.380851  \\n weight :1  \\nstart : 2010-06-02T20:30:00  \\nend : 2010-06-03T20:30:00  \\ncolor :#3f6c7f  \\n  <a href=\"https://google.com/search?q=paradox\" target=\"_blank\">paradox</a>', 'start': '2010-06-02T20:30:00', 'lat': 48.769847, 'lng': 11.380851, 'id': 'paradox4811'}}, {'data': {'end': '2017-05-11T00:00:00', 'name': 'z-bau', 'weight': 1.0, 'color': '#3f7f59', 'notes': 'name : z-bau  \\nlat : 49.430887  \\nlng :11.095165  \\n weight :1  \\nstart : 2017-05-10T00:00:00  \\nend : 2017-05-11T00:00:00  \\ncolor :#3f7f59  \\n  <a href=\"https://google.com/search?q=z-bau\" target=\"_blank\">z-bau</a>', 'start': '2017-05-10T00:00:00', 'lat': 49.430887, 'lng': 11.095165, 'id': 'z-bau4911'}}, {'data': {'end': '2008-07-10T19:00:00', 'name': 'mondo-bizarro', 'weight': 1.0, 'color': '#7f663f', 'notes': 'name : mondo-bizarro  \\nlat : 48.128886  \\nlng :-1.664021  \\n weight :1  \\nstart : 2008-07-09T19:00:00  \\nend : 2008-07-10T19:00:00  \\ncolor :#7f663f  \\n  <a href=\"https://google.com/search?q=mondo-bizarro\" target=\"_blank\">mondo-bizarro</a>', 'start': '2008-07-09T19:00:00', 'lat': 48.128886, 'lng': -1.664021, 'id': 'mondo-bizarro48-1'}}, {'data': {'end': '2012-01-15T19:00:00', 'name': 'swamp-club', 'weight': 1.0, 'color': '#5f3f7f', 'notes': 'name : swamp-club  \\nlat : 44.02849  \\nlng :10.11003  \\n weight :1  \\nstart : 2012-01-14T19:00:00  \\nend : 2012-01-15T19:00:00  \\ncolor :#5f3f7f  \\n  <a href=\"https://google.com/search?q=swamp-club\" target=\"_blank\">swamp-club</a>', 'start': '2012-01-14T19:00:00', 'lat': 44.02849, 'lng': 10.11003, 'id': 'swamp-club4410'}}, {'data': {'end': '2015-03-30T20:00:00', 'name': 'katacombes', 'weight': 1.0, 'color': '#7f663f', 'notes': 'name : katacombes  \\nlat : 45.5036878  \\nlng :-73.5290386  \\n weight :1  \\nstart : 2015-03-29T20:00:00  \\nend : 2015-03-30T20:00:00  \\ncolor :#7f663f  \\n  <a href=\"https://google.com/search?q=katacombes\" target=\"_blank\">katacombes</a>', 'start': '2015-03-29T20:00:00', 'lat': 45.5036878, 'lng': -73.5290386, 'id': 'katacombes45-73'}}, {'data': {'end': '2017-09-14T19:00:00', 'name': 'underworld', 'weight': 1.0, 'color': '#3f7f6c', 'notes': 'name : underworld  \\nlat : 51.538893  \\nlng :-0.14246  \\n weight :1  \\nstart : 2017-09-13T19:00:00  \\nend : 2017-09-14T19:00:00  \\ncolor :#3f7f6c  \\n  <a href=\"https://google.com/search?q=underworld\" target=\"_blank\">underworld</a>', 'start': '2017-09-13T19:00:00', 'lat': 51.538893, 'lng': -0.14246, 'id': 'underworld510'}}, {'data': {'end': '2010-05-11T19:00:00', 'name': 'warm-audio', 'weight': 1.0, 'color': '#3f7f7f', 'notes': 'name : warm-audio  \\nlat : 45.76682  \\nlng :4.94375  \\n weight :1  \\nstart : 2010-05-10T19:00:00  \\nend : 2010-05-11T19:00:00  \\ncolor :#3f7f7f  \\n  <a href=\"https://google.com/search?q=warm-audio\" target=\"_blank\">warm-audio</a>', 'start': '2010-05-10T19:00:00', 'lat': 45.76682, 'lng': 4.94375, 'id': 'warm-audio454'}}, {'data': {'end': '2012-05-24T19:00:00', 'name': 'slims', 'weight': 1.0, 'color': '#723f7f', 'notes': 'name : slims  \\nlat : 37.771482  \\nlng :-122.413333  \\n weight :1  \\nstart : 2012-05-23T19:00:00  \\nend : 2012-05-24T19:00:00  \\ncolor :#723f7f  \\n  <a href=\"https://google.com/search?q=slims\" target=\"_blank\">slims</a>', 'start': '2012-05-23T19:00:00', 'lat': 37.771482, 'lng': -122.413333, 'id': 'slims37-122'}}, {'data': {'end': '2013-03-18T20:00:00', 'name': 'the-pawn-shop', 'weight': 1.0, 'color': '#7f3f65', 'notes': 'name : the-pawn-shop  \\nlat : 53.517966  \\nlng :-113.502001  \\n weight :1  \\nstart : 2013-03-17T20:00:00  \\nend : 2013-03-18T20:00:00  \\ncolor :#7f3f65  \\n  <a href=\"https://google.com/search?q=the-pawn-shop\" target=\"_blank\">the-pawn-shop</a>', 'start': '2013-03-17T20:00:00', 'lat': 53.517966, 'lng': -113.502001, 'id': 'the-pawn-shop53-113'}}, {'data': {'end': '2017-05-06T00:00:00', 'name': 'arena', 'weight': 1.0, 'color': '#3f7f59', 'notes': 'name : arena  \\nlat : 48.141466  \\nlng :16.293385  \\n weight :1  \\nstart : 2017-05-05T00:00:00  \\nend : 2017-05-06T00:00:00  \\ncolor :#3f7f59  \\n  <a href=\"https://google.com/search?q=arena\" target=\"_blank\">arena</a>', 'start': '2017-05-05T00:00:00', 'lat': 48.141466, 'lng': 16.293385, 'id': 'arena4816'}}, {'data': {'end': '2017-04-30T19:00:00', 'name': 'musikbunker', 'weight': 1.0, 'color': '#3f7f59', 'notes': 'name : musikbunker  \\nlat : 50.767  \\nlng :6.10415  \\n weight :1  \\nstart : 2017-04-29T19:00:00  \\nend : 2017-04-30T19:00:00  \\ncolor :#3f7f59  \\n  <a href=\"https://google.com/search?q=musikbunker\" target=\"_blank\">musikbunker</a>', 'start': '2017-04-29T19:00:00', 'lat': 50.767, 'lng': 6.10415, 'id': 'musikbunker506'}}, {'data': {'end': '2012-01-22T20:00:00', 'name': 'klub-muzyczny-ucho', 'weight': 1.0, 'color': '#5f3f7f', 'notes': 'name : klub-muzyczny-ucho  \\nlat : 54.52487  \\nlng :18.54563  \\n weight :1  \\nstart : 2012-01-21T20:00:00  \\nend : 2012-01-22T20:00:00  \\ncolor :#5f3f7f  \\n  <a href=\"https://google.com/search?q=klub-muzyczny-ucho\" target=\"_blank\">klub-muzyczny-ucho</a>', 'start': '2012-01-21T20:00:00', 'lat': 54.52487, 'lng': 18.54563, 'id': 'klub-muzyczny-ucho5418'}}, {'data': {'end': '2017-09-11T19:00:00', 'name': 'hairy-dog', 'weight': 1.0, 'color': '#3f7f6c', 'notes': 'name : hairy-dog  \\nlat : 52.921717  \\nlng :-1.480966  \\n weight :1  \\nstart : 2017-09-10T19:00:00  \\nend : 2017-09-11T19:00:00  \\ncolor :#3f7f6c  \\n  <a href=\"https://google.com/search?q=hairy-dog\" target=\"_blank\">hairy-dog</a>', 'start': '2017-09-10T19:00:00', 'lat': 52.921717, 'lng': -1.480966, 'id': 'hairy-dog52-1'}}, {'data': {'end': '2012-07-29T19:00:00', 'name': 'u-d-festival', 'weight': 1.0, 'color': '#7f3f79', 'notes': 'name : u-d-festival  \\nlat : 47.557401  \\nlng :9.707209  \\n weight :1  \\nstart : 2012-07-28T19:00:00  \\nend : 2012-07-29T19:00:00  \\ncolor :#7f3f79  \\n  <a href=\"https://google.com/search?q=u-d-festival\" target=\"_blank\">u-d-festival</a>', 'start': '2012-07-28T19:00:00', 'lat': 47.557401, 'lng': 9.707209, 'id': 'u-d-festival479'}}, {'data': {'end': '2014-03-13T22:00:00', 'name': 'hume-hotel', 'weight': 1.0, 'color': '#7f3f52', 'notes': 'name : hume-hotel  \\nlat : 49.4922612  \\nlng :-117.2956057  \\n weight :1  \\nstart : 2014-03-12T22:00:00  \\nend : 2014-03-13T22:00:00  \\ncolor :#7f3f52  \\n  <a href=\"https://google.com/search?q=hume-hotel\" target=\"_blank\">hume-hotel</a>', 'start': '2014-03-12T22:00:00', 'lat': 49.4922612, 'lng': -117.2956057, 'id': 'hume-hotel49-117'}}, {'data': {'end': '2015-11-05T21:00:00', 'name': 'the-ritz', 'weight': 1.0, 'color': '#727f3f', 'notes': 'name : the-ritz  \\nlat : 37.330047  \\nlng :-121.885513  \\n weight :1  \\nstart : 2015-11-04T21:00:00  \\nend : 2015-11-05T21:00:00  \\ncolor :#727f3f  \\n  <a href=\"https://google.com/search?q=the-ritz\" target=\"_blank\">the-ritz</a>', 'start': '2015-11-04T21:00:00', 'lat': 37.330047, 'lng': -121.885513, 'id': 'the-ritz37-121'}}, {'data': {'end': '2015-06-17T20:30:00', 'name': 'beachland-ballroom', 'weight': 1.0, 'color': '#7f793f', 'notes': 'name : beachland-ballroom  \\nlat : 41.571503  \\nlng :-81.570351  \\n weight :1  \\nstart : 2015-06-16T20:30:00  \\nend : 2015-06-17T20:30:00  \\ncolor :#7f793f  \\n  <a href=\"https://google.com/search?q=beachland-ballroom\" target=\"_blank\">beachland-ballroom</a>', 'start': '2015-06-16T20:30:00', 'lat': 41.571503, 'lng': -81.570351, 'id': 'beachland-ballroom41-81'}}, {'data': {'end': '2010-05-27T20:00:00', 'name': 'windston', 'weight': 1.0, 'color': '#3f6c7f', 'notes': 'name : windston  \\nlat : 52.35  \\nlng :4.9166667  \\n weight :1  \\nstart : 2010-05-26T20:00:00  \\nend : 2010-05-27T20:00:00  \\ncolor :#3f6c7f  \\n  <a href=\"https://google.com/search?q=windston\" target=\"_blank\">windston</a>', 'start': '2010-05-26T20:00:00', 'lat': 52.35, 'lng': 4.9166667, 'id': 'windston524'}}, {'data': {'end': '2011-01-15T19:00:00', 'name': 'tavastia', 'weight': 1.4142135623730951, 'color': '#3f467f', 'notes': 'name : tavastia  \\nlat : 60.168571  \\nlng :24.933397  \\n weight :4.0  \\nstart : 2010-02-02T21:00:00  \\nend : 2011-01-15T19:00:00  \\ncolor :#3f467f  \\n  <a href=\"https://google.com/search?q=tavastia\" target=\"_blank\">tavastia</a>', 'start': '2010-02-02T21:00:00', 'lat': 60.168571, 'lng': 24.933397, 'id': 'tavastia6024'}}, {'data': {'end': '2008-07-13T19:00:00', 'name': 'zeltpalast-merzig', 'weight': 1.0, 'color': '#7f663f', 'notes': 'name : zeltpalast-merzig  \\nlat : 49.444707  \\nlng :6.624652  \\n weight :1  \\nstart : 2008-07-12T19:00:00  \\nend : 2008-07-13T19:00:00  \\ncolor :#7f663f  \\n  <a href=\"https://google.com/search?q=zeltpalast-merzig\" target=\"_blank\">zeltpalast-merzig</a>', 'start': '2008-07-12T19:00:00', 'lat': 49.444707, 'lng': 6.624652, 'id': 'zeltpalast-merzig496'}}, {'data': {'end': '2012-01-05T19:00:00', 'name': 'sala-lopez', 'weight': 1.0, 'color': '#5f3f7f', 'notes': 'name : sala-lopez  \\nlat : 41.658556  \\nlng :-0.874644  \\n weight :1  \\nstart : 2012-01-04T19:00:00  \\nend : 2012-01-05T19:00:00  \\ncolor :#5f3f7f  \\n  <a href=\"https://google.com/search?q=sala-lopez\" target=\"_blank\">sala-lopez</a>', 'start': '2012-01-04T19:00:00', 'lat': 41.658556, 'lng': -0.874644, 'id': 'sala-lopez410'}}, {'data': {'end': '2011-01-16T19:00:00', 'name': 'lutakko', 'weight': 1.4142135623730951, 'color': '#3f467f', 'notes': 'name : lutakko  \\nlat : 62.24341  \\nlng :25.7622399  \\n weight :4.0  \\nstart : 2010-02-05T19:00:00  \\nend : 2011-01-16T19:00:00  \\ncolor :#3f467f  \\n  <a href=\"https://google.com/search?q=lutakko\" target=\"_blank\">lutakko</a>', 'start': '2010-02-05T19:00:00', 'lat': 62.24341, 'lng': 25.7622399, 'id': 'lutakko6225'}}, {'data': {'end': '2012-01-23T14:42:27', 'name': 'prince-albert', 'weight': 1.5537739740300374, 'color': '#5f3f7f', 'notes': 'name : prince-albert  \\nlat : 50.828439  \\nlng :-0.140564  \\n weight :5.82842712475  \\nstart : 2010-01-18T19:00:00  \\nend : 2012-01-23T14:42:27  \\ncolor :#5f3f7f  \\n  <a href=\"https://google.com/search?q=prince-albert\" target=\"_blank\">prince-albert</a>', 'start': '2010-01-18T19:00:00', 'lat': 50.828439, 'lng': -0.140564, 'id': 'prince-albert500'}}, {'data': {'end': '2012-04-28T20:00:00', 'name': 'the-opera-house', 'weight': 1.0, 'color': '#723f7f', 'notes': 'name : the-opera-house  \\nlat : 43.658966  \\nlng :-79.348791  \\n weight :1  \\nstart : 2012-04-27T20:00:00  \\nend : 2012-04-28T20:00:00  \\ncolor :#723f7f  \\n  <a href=\"https://google.com/search?q=the-opera-house\" target=\"_blank\">the-opera-house</a>', 'start': '2012-04-27T20:00:00', 'lat': 43.658966, 'lng': -79.348791, 'id': 'the-opera-house43-79'}}, {'data': {'end': '2017-08-28T19:00:00', 'name': 'auerhahn', 'weight': 1.0, 'color': '#3f7f6c', 'notes': 'name : auerhahn  \\nlat : 48.32632  \\nlng :14.30281  \\n weight :1  \\nstart : 2017-08-27T19:00:00  \\nend : 2017-08-28T19:00:00  \\ncolor :#3f7f6c  \\n  <a href=\"https://google.com/search?q=auerhahn\" target=\"_blank\">auerhahn</a>', 'start': '2017-08-27T19:00:00', 'lat': 48.32632, 'lng': 14.30281, 'id': 'auerhahn4814'}}, {'data': {'end': '2015-04-03T20:00:00', 'name': 'rumba-cafe', 'weight': 1.0, 'color': '#7f663f', 'notes': 'name : rumba-cafe  \\nlat : 40.014632  \\nlng :-83.000298  \\n weight :1  \\nstart : 2015-04-02T20:00:00  \\nend : 2015-04-03T20:00:00  \\ncolor :#7f663f  \\n  <a href=\"https://google.com/search?q=rumba-cafe\" target=\"_blank\">rumba-cafe</a>', 'start': '2015-04-02T20:00:00', 'lat': 40.014632, 'lng': -83.000298, 'id': 'rumba-cafe40-83'}}, {'data': {'end': '2012-07-17T19:00:00', 'name': 'schaubude', 'weight': 1.0, 'color': '#7f3f79', 'notes': 'name : schaubude  \\nlat : 54.32365  \\nlng :10.13354  \\n weight :1  \\nstart : 2012-07-16T19:00:00  \\nend : 2012-07-17T19:00:00  \\ncolor :#7f3f79  \\n  <a href=\"https://google.com/search?q=schaubude\" target=\"_blank\">schaubude</a>', 'start': '2012-07-16T19:00:00', 'lat': 54.32365, 'lng': 10.13354, 'id': 'schaubude5410'}}, {'data': {'end': '2015-05-22T20:00:00', 'name': 'barrak-music-club', 'weight': 1.4142135623730951, 'color': '#7f793f', 'notes': 'name : barrak-music-club  \\nlat : 49.8365  \\nlng :18.29595  \\n weight :4.0  \\nstart : 2012-01-19T19:00:00  \\nend : 2015-05-22T20:00:00  \\ncolor :#7f793f  \\n  <a href=\"https://google.com/search?q=barrak-music-club\" target=\"_blank\">barrak-music-club</a>', 'start': '2012-01-19T19:00:00', 'lat': 49.8365, 'lng': 18.29595, 'id': 'barrak-music-club4918'}}, {'data': {'end': '2017-06-09T00:00:00', 'name': 'kalvingrad', 'weight': 1.0, 'color': '#3f7f59', 'notes': 'name : kalvingrad  \\nlat : 44.9161301  \\nlng :4.8255901  \\n weight :1  \\nstart : 2017-06-08T00:00:00  \\nend : 2017-06-09T00:00:00  \\ncolor :#3f7f59  \\n  <a href=\"https://google.com/search?q=kalvingrad\" target=\"_blank\">kalvingrad</a>', 'start': '2017-06-08T00:00:00', 'lat': 44.9161301, 'lng': 4.8255901, 'id': 'kalvingrad444'}}, {'data': {'end': '2015-04-05T20:30:00', 'name': 'lyric-room-keggers', 'weight': 1.0, 'color': '#7f663f', 'notes': 'name : lyric-room-keggers  \\nlat : 44.5189972  \\nlng :-88.0205078  \\n weight :1  \\nstart : 2015-04-04T20:30:00  \\nend : 2015-04-05T20:30:00  \\ncolor :#7f663f  \\n  <a href=\"https://google.com/search?q=lyric-room-keggers\" target=\"_blank\">lyric-room-keggers</a>', 'start': '2015-04-04T20:30:00', 'lat': 44.5189972, 'lng': -88.0205078, 'id': 'lyric-room-keggers44-88'}}, {'data': {'end': '2012-05-05T19:00:00', 'name': 'this-aint-hollywood', 'weight': 1.0, 'color': '#723f7f', 'notes': 'name : this-aint-hollywood  \\nlat : 43.264868  \\nlng :-79.865493  \\n weight :1  \\nstart : 2012-05-04T19:00:00  \\nend : 2012-05-05T19:00:00  \\ncolor :#723f7f  \\n  <a href=\"https://google.com/search?q=this-aint-hollywood\" target=\"_blank\">this-aint-hollywood</a>', 'start': '2012-05-04T19:00:00', 'lat': 43.264868, 'lng': -79.865493, 'id': 'this-aint-hollywood43-79'}}, {'data': {'end': '2008-11-22T19:00:00', 'name': 'conne-island', 'weight': 1.0, 'color': '#727f3f', 'notes': 'name : conne-island  \\nlat : 51.3  \\nlng :12.3333333  \\n weight :1  \\nstart : 2008-11-21T19:00:00  \\nend : 2008-11-22T19:00:00  \\ncolor :#727f3f  \\n  <a href=\"https://google.com/search?q=conne-island\" target=\"_blank\">conne-island</a>', 'start': '2008-11-21T19:00:00', 'lat': 51.3, 'lng': 12.3333333, 'id': 'conne-island5112'}}, {'data': {'end': '2012-01-18T19:00:00', 'name': 'juz', 'weight': 1.0, 'color': '#5f3f7f', 'notes': 'name : juz  \\nlat : 49.2055556  \\nlng :12.0413889  \\n weight :1  \\nstart : 2012-01-17T19:00:00  \\nend : 2012-01-18T19:00:00  \\ncolor :#5f3f7f  \\n  <a href=\"https://google.com/search?q=juz\" target=\"_blank\">juz</a>', 'start': '2012-01-17T19:00:00', 'lat': 49.2055556, 'lng': 12.0413889, 'id': 'juz4912'}}, {'data': {'end': '2014-09-19T20:00:00', 'name': 'slo-brew', 'weight': 1.0, 'color': '#7f523f', 'notes': 'name : slo-brew  \\nlat : 35.279185  \\nlng :-120.663549  \\n weight :1  \\nstart : 2014-09-18T20:00:00  \\nend : 2014-09-19T20:00:00  \\ncolor :#7f523f  \\n  <a href=\"https://google.com/search?q=slo-brew\" target=\"_blank\">slo-brew</a>', 'start': '2014-09-18T20:00:00', 'lat': 35.279185, 'lng': -120.663549, 'id': 'slo-brew35-120'}}, {'data': {'end': '2012-06-19T19:00:00', 'name': 'young-avenue-deli', 'weight': 1.0, 'color': '#723f7f', 'notes': 'name : young-avenue-deli  \\nlat : 35.119492  \\nlng :-89.991808  \\n weight :1  \\nstart : 2012-06-18T19:00:00  \\nend : 2012-06-19T19:00:00  \\ncolor :#723f7f  \\n  <a href=\"https://google.com/search?q=young-avenue-deli\" target=\"_blank\">young-avenue-deli</a>', 'start': '2012-06-18T19:00:00', 'lat': 35.119492, 'lng': -89.991808, 'id': 'young-avenue-deli35-89'}}, {'data': {'end': '2008-11-10T19:00:00', 'name': 'tba', 'weight': 1.0, 'color': '#727f3f', 'notes': 'name : tba  \\nlat : 48.2  \\nlng :16.3666667  \\n weight :1  \\nstart : 2008-11-09T19:00:00  \\nend : 2008-11-10T19:00:00  \\ncolor :#727f3f  \\n  <a href=\"https://google.com/search?q=tba\" target=\"_blank\">tba</a>', 'start': '2008-11-09T19:00:00', 'lat': 48.2, 'lng': 16.3666667, 'id': 'tba4816'}}, {'data': {'end': '2016-03-25T19:00:00', 'name': 'windsor-hotel', 'weight': 1.0, 'color': '#5f7f3f', 'notes': 'name : windsor-hotel  \\nlat : 49.89077  \\nlng :-97.138946  \\n weight :1  \\nstart : 2016-03-24T19:00:00  \\nend : 2016-03-25T19:00:00  \\ncolor :#5f7f3f  \\n  <a href=\"https://google.com/search?q=windsor-hotel\" target=\"_blank\">windsor-hotel</a>', 'start': '2016-03-24T19:00:00', 'lat': 49.89077, 'lng': -97.138946, 'id': 'windsor-hotel49-97'}}, {'data': {'end': '2017-04-22T00:00:00', 'name': 'underground', 'weight': 1.0, 'color': '#3f7f59', 'notes': 'name : underground  \\nlat : 50.9333333  \\nlng :6.95  \\n weight :1  \\nstart : 2017-04-21T00:00:00  \\nend : 2017-04-22T00:00:00  \\ncolor :#3f7f59  \\n  <a href=\"https://google.com/search?q=underground\" target=\"_blank\">underground</a>', 'start': '2017-04-21T00:00:00', 'lat': 50.9333333, 'lng': 6.95, 'id': 'underground506'}}, {'data': {'end': '2017-04-26T00:00:00', 'name': 'universum', 'weight': 1.0, 'color': '#3f7f59', 'notes': 'name : universum  \\nlat : 48.775709  \\nlng :9.18348  \\n weight :1  \\nstart : 2017-04-25T00:00:00  \\nend : 2017-04-26T00:00:00  \\ncolor :#3f7f59  \\n  <a href=\"https://google.com/search?q=universum\" target=\"_blank\">universum</a>', 'start': '2017-04-25T00:00:00', 'lat': 48.775709, 'lng': 9.18348, 'id': 'universum489'}}, {'data': {'end': '2012-06-01T19:00:00', 'name': 'the-waiting-room', 'weight': 1.0, 'color': '#723f7f', 'notes': 'name : the-waiting-room  \\nlat : 41.285104  \\nlng :-96.008519  \\n weight :1  \\nstart : 2012-05-31T19:00:00  \\nend : 2012-06-01T19:00:00  \\ncolor :#723f7f  \\n  <a href=\"https://google.com/search?q=the-waiting-room\" target=\"_blank\">the-waiting-room</a>', 'start': '2012-05-31T19:00:00', 'lat': 41.285104, 'lng': -96.008519, 'id': 'the-waiting-room41-96'}}, {'data': {'end': '2007-07-29T00:00:00', 'name': 'granada-theatre', 'weight': 1.0, 'color': '#7f3f3f', 'notes': 'name : granada-theatre  \\nlat : 45.4022919  \\nlng :-71.8910328  \\n weight :1  \\nstart : 2007-07-28T00:00:00  \\nend : 2007-07-29T00:00:00  \\ncolor :#7f3f3f  \\n  <a href=\"https://google.com/search?q=granada-theatre\" target=\"_blank\">granada-theatre</a>', 'start': '2007-07-28T00:00:00', 'lat': 45.4022919, 'lng': -71.8910328, 'id': 'granada-theatre45-71'}}, {'data': {'end': '2008-07-31T19:00:00', 'name': 'paradiso', 'weight': 1.0, 'color': '#7f663f', 'notes': 'name : paradiso  \\nlat : 52.3622704  \\nlng :4.8839402  \\n weight :1  \\nstart : 2008-07-30T19:00:00  \\nend : 2008-07-31T19:00:00  \\ncolor :#7f663f  \\n  <a href=\"https://google.com/search?q=paradiso\" target=\"_blank\">paradiso</a>', 'start': '2008-07-30T19:00:00', 'lat': 52.3622704, 'lng': 4.8839402, 'id': 'paradiso524'}}, {'data': {'end': '2012-06-06T19:30:00', 'name': 'the-altar-bar', 'weight': 1.0, 'color': '#723f7f', 'notes': 'name : the-altar-bar  \\nlat : 40.448943  \\nlng :-79.987005  \\n weight :1  \\nstart : 2012-06-05T19:30:00  \\nend : 2012-06-06T19:30:00  \\ncolor :#723f7f  \\n  <a href=\"https://google.com/search?q=the-altar-bar\" target=\"_blank\">the-altar-bar</a>', 'start': '2012-06-05T19:30:00', 'lat': 40.448943, 'lng': -79.987005, 'id': 'the-altar-bar40-79'}}, {'data': {'end': '2017-06-02T19:00:00', 'name': 'club-vaudeville', 'weight': 1.0, 'color': '#3f7f59', 'notes': 'name : club-vaudeville  \\nlat : 47.55  \\nlng :9.6833333  \\n weight :1  \\nstart : 2017-06-01T19:00:00  \\nend : 2017-06-02T19:00:00  \\ncolor :#3f7f59  \\n  <a href=\"https://google.com/search?q=club-vaudeville\" target=\"_blank\">club-vaudeville</a>', 'start': '2017-06-01T19:00:00', 'lat': 47.55, 'lng': 9.6833333, 'id': 'club-vaudeville479'}}, {'data': {'end': '2007-07-15T00:00:00', 'name': 'victoria-curling-club', 'weight': 1.0, 'color': '#7f3f3f', 'notes': 'name : victoria-curling-club  \\nlat : 48.431148  \\nlng :-123.358724  \\n weight :1  \\nstart : 2007-07-14T00:00:00  \\nend : 2007-07-15T00:00:00  \\ncolor :#7f3f3f  \\n  <a href=\"https://google.com/search?q=victoria-curling-club\" target=\"_blank\">victoria-curling-club</a>', 'start': '2007-07-14T00:00:00', 'lat': 48.431148, 'lng': -123.358724, 'id': 'victoria-curling-club48-123'}}, {'data': {'end': '2007-08-28T20:30:00', 'name': 'velvet-jones', 'weight': 1.0, 'color': '#7f523f', 'notes': 'name : velvet-jones  \\nlat : 34.4208333  \\nlng :-119.6972222  \\n weight :1  \\nstart : 2007-08-27T20:30:00  \\nend : 2007-08-28T20:30:00  \\ncolor :#7f523f  \\n  <a href=\"https://google.com/search?q=velvet-jones\" target=\"_blank\">velvet-jones</a>', 'start': '2007-08-27T20:30:00', 'lat': 34.4208333, 'lng': -119.6972222, 'id': 'velvet-jones34-119'}}, {'data': {'end': '2014-07-30T19:00:00', 'name': 'petit-bain', 'weight': 1.0, 'color': '#7f3f3f', 'notes': 'name : petit-bain  \\nlat : 48.8329289  \\nlng :2.3793696  \\n weight :1  \\nstart : 2014-07-29T19:00:00  \\nend : 2014-07-30T19:00:00  \\ncolor :#7f3f3f  \\n  <a href=\"https://google.com/search?q=petit-bain\" target=\"_blank\">petit-bain</a>', 'start': '2014-07-29T19:00:00', 'lat': 48.8329289, 'lng': 2.3793696, 'id': 'petit-bain482'}}, {'data': {'end': '2012-01-14T19:00:00', 'name': 'live-club', 'weight': 1.0, 'color': '#5f3f7f', 'notes': 'name : live-club  \\nlat : 45.603409  \\nlng :9.518333  \\n weight :1  \\nstart : 2012-01-13T19:00:00  \\nend : 2012-01-14T19:00:00  \\ncolor :#5f3f7f  \\n  <a href=\"https://google.com/search?q=live-club\" target=\"_blank\">live-club</a>', 'start': '2012-01-13T19:00:00', 'lat': 45.603409, 'lng': 9.518333, 'id': 'live-club459'}}, {'data': {'end': '2017-09-03T19:00:00', 'name': 'westfest', 'weight': 1.0, 'color': '#3f7f6c', 'notes': 'name : westfest  \\nlat : 48.4333333  \\nlng :-4.4  \\n weight :1  \\nstart : 2017-09-02T19:00:00  \\nend : 2017-09-03T19:00:00  \\ncolor :#3f7f6c  \\n  <a href=\"https://google.com/search?q=westfest\" target=\"_blank\">westfest</a>', 'start': '2017-09-02T19:00:00', 'lat': 48.4333333, 'lng': -4.4, 'id': 'westfest48-4'}}, {'data': {'end': '2012-06-14T19:00:00', 'name': 'masquerade', 'weight': 1.0, 'color': '#723f7f', 'notes': 'name : masquerade  \\nlat : 33.75099  \\nlng :-84.390272  \\n weight :1  \\nstart : 2012-06-13T19:00:00  \\nend : 2012-06-14T19:00:00  \\ncolor :#723f7f  \\n  <a href=\"https://google.com/search?q=masquerade\" target=\"_blank\">masquerade</a>', 'start': '2012-06-13T19:00:00', 'lat': 33.75099, 'lng': -84.390272, 'id': 'masquerade33-84'}}, {'data': {'end': '2017-03-19T20:00:00', 'name': 'the-starlite-room', 'weight': 1.5537739740300374, 'color': '#3f7f46', 'notes': 'name : the-starlite-room  \\nlat : 53.539799  \\nlng :-113.495779  \\n weight :5.82842712475  \\nstart : 2007-07-19T00:00:00  \\nend : 2017-03-19T20:00:00  \\ncolor :#3f7f46  \\n  <a href=\"https://google.com/search?q=the-starlite-room\" target=\"_blank\">the-starlite-room</a>', 'start': '2007-07-19T00:00:00', 'lat': 53.539799, 'lng': -113.495779, 'id': 'the-starlite-room53-113'}}, {'data': {'end': '2017-06-08T00:00:00', 'name': 'ferrailleur', 'weight': 1.0, 'color': '#3f7f59', 'notes': 'name : ferrailleur  \\nlat : 47.2166667  \\nlng :-1.55  \\n weight :1  \\nstart : 2017-06-07T00:00:00  \\nend : 2017-06-08T00:00:00  \\ncolor :#3f7f59  \\n  <a href=\"https://google.com/search?q=ferrailleur\" target=\"_blank\">ferrailleur</a>', 'start': '2017-06-07T00:00:00', 'lat': 47.2166667, 'lng': -1.55, 'id': 'ferrailleur47-1'}}, {'data': {'end': '2017-08-14T19:00:00', 'name': 'le-local', 'weight': 1.0, 'color': '#3f7f6c', 'notes': 'name : le-local  \\nlat : 50.2421989  \\nlng :3.4458699  \\n weight :1  \\nstart : 2017-08-13T19:00:00  \\nend : 2017-08-14T19:00:00  \\ncolor :#3f7f6c  \\n  <a href=\"https://google.com/search?q=le-local\" target=\"_blank\">le-local</a>', 'start': '2017-08-13T19:00:00', 'lat': 50.2421989, 'lng': 3.4458699, 'id': 'le-local503'}}, {'data': {'end': '2016-07-02T19:00:00', 'name': 'fallig-open-air', 'weight': 1.0, 'color': '#4c7f3f', 'notes': 'name : fallig-open-air  \\nlat : 50.4255799  \\nlng :7.58907  \\n weight :1  \\nstart : 2016-07-01T19:00:00  \\nend : 2016-07-02T19:00:00  \\ncolor :#4c7f3f  \\n  <a href=\"https://google.com/search?q=fallig-open-air\" target=\"_blank\">fallig-open-air</a>', 'start': '2016-07-01T19:00:00', 'lat': 50.4255799, 'lng': 7.58907, 'id': 'fallig-open-air507'}}, {'data': {'end': '2012-06-22T20:00:00', 'name': 'the-old-rock-house', 'weight': 1.0, 'color': '#723f7f', 'notes': 'name : the-old-rock-house  \\nlat : 38.615358  \\nlng :-90.196526  \\n weight :1  \\nstart : 2012-06-21T20:00:00  \\nend : 2012-06-22T20:00:00  \\ncolor :#723f7f  \\n  <a href=\"https://google.com/search?q=the-old-rock-house\" target=\"_blank\">the-old-rock-house</a>', 'start': '2012-06-21T20:00:00', 'lat': 38.615358, 'lng': -90.196526, 'id': 'the-old-rock-house38-90'}}, {'data': {'end': '2010-04-11T19:30:00', 'name': 'backstage', 'weight': 1.0, 'color': '#3f7f7f', 'notes': 'name : backstage  \\nlat : 48.15  \\nlng :11.5833333  \\n weight :1  \\nstart : 2010-04-10T19:30:00  \\nend : 2010-04-11T19:30:00  \\ncolor :#3f7f7f  \\n  <a href=\"https://google.com/search?q=backstage\" target=\"_blank\">backstage</a>', 'start': '2010-04-10T19:30:00', 'lat': 48.15, 'lng': 11.5833333, 'id': 'backstage4811'}}, {'data': {'end': '2017-05-05T00:00:00', 'name': 'rock-cafe', 'weight': 1.5537739740300374, 'color': '#3f7f59', 'notes': 'name : rock-cafe  \\nlat : 50.0818481  \\nlng :14.4186401  \\n weight :5.82842712475  \\nstart : 2008-11-04T19:00:00  \\nend : 2017-05-05T00:00:00  \\ncolor :#3f7f59  \\n  <a href=\"https://google.com/search?q=rock-cafe\" target=\"_blank\">rock-cafe</a>', 'start': '2008-11-04T19:00:00', 'lat': 50.0818481, 'lng': 14.4186401, 'id': 'rock-cafe5014'}}, {'data': {'end': '2008-07-18T19:00:00', 'name': 'kulturzentrum-schlachthof', 'weight': 1.0, 'color': '#7f663f', 'notes': 'name : kulturzentrum-schlachthof  \\nlat : 50.0654009  \\nlng :8.2490056  \\n weight :1  \\nstart : 2008-07-17T19:00:00  \\nend : 2008-07-18T19:00:00  \\ncolor :#7f663f  \\n  <a href=\"https://google.com/search?q=kulturzentrum-schlachthof\" target=\"_blank\">kulturzentrum-schlachthof</a>', 'start': '2008-07-17T19:00:00', 'lat': 50.0654009, 'lng': 8.2490056, 'id': 'kulturzentrum-schlachthof508'}}, {'data': {'end': '2012-05-23T20:00:00', 'name': 'blank-club', 'weight': 1.0, 'color': '#723f7f', 'notes': 'name : blank-club  \\nlat : 37.29343  \\nlng :-121.80854  \\n weight :1  \\nstart : 2012-05-22T20:00:00  \\nend : 2012-05-23T20:00:00  \\ncolor :#723f7f  \\n  <a href=\"https://google.com/search?q=blank-club\" target=\"_blank\">blank-club</a>', 'start': '2012-05-22T20:00:00', 'lat': 37.29343, 'lng': -121.80854, 'id': 'blank-club37-121'}}, {'data': {'end': '2014-03-14T20:00:00', 'name': 'eagles-hall', 'weight': 1.0, 'color': '#7f3f52', 'notes': 'name : eagles-hall  \\nlat : 49.5190392  \\nlng :-115.758812  \\n weight :1  \\nstart : 2014-03-13T20:00:00  \\nend : 2014-03-14T20:00:00  \\ncolor :#7f3f52  \\n  <a href=\"https://google.com/search?q=eagles-hall\" target=\"_blank\">eagles-hall</a>', 'start': '2014-03-13T20:00:00', 'lat': 49.5190392, 'lng': -115.758812, 'id': 'eagles-hall49-115'}}, {'data': {'end': '2007-07-28T00:00:00', 'name': 'babylon', 'weight': 1.0, 'color': '#7f3f3f', 'notes': 'name : babylon  \\nlat : 45.414657  \\nlng :-75.695567  \\n weight :1  \\nstart : 2007-07-27T00:00:00  \\nend : 2007-07-28T00:00:00  \\ncolor :#7f3f3f  \\n  <a href=\"https://google.com/search?q=babylon\" target=\"_blank\">babylon</a>', 'start': '2007-07-27T00:00:00', 'lat': 45.414657, 'lng': -75.695567, 'id': 'babylon45-75'}}, {'data': {'end': '2008-11-28T19:00:00', 'name': 'fzw-freizeitzentrum-west', 'weight': 1.0, 'color': '#727f3f', 'notes': 'name : fzw-freizeitzentrum-west  \\nlat : 51.5150099  \\nlng :7.4504  \\n weight :1  \\nstart : 2008-11-27T19:00:00  \\nend : 2008-11-28T19:00:00  \\ncolor :#727f3f  \\n  <a href=\"https://google.com/search?q=fzw-freizeitzentrum-west\" target=\"_blank\">fzw-freizeitzentrum-west</a>', 'start': '2008-11-27T19:00:00', 'lat': 51.5150099, 'lng': 7.4504, 'id': 'fzw-freizeitzentrum-west517'}}, {'data': {'end': '2012-01-12T19:00:00', 'name': 'les-combustibles', 'weight': 1.0, 'color': '#5f3f7f', 'notes': 'name : les-combustibles  \\nlat : 48.847397  \\nlng :2.375368  \\n weight :1  \\nstart : 2012-01-11T19:00:00  \\nend : 2012-01-12T19:00:00  \\ncolor :#5f3f7f  \\n  <a href=\"https://google.com/search?q=les-combustibles\" target=\"_blank\">les-combustibles</a>', 'start': '2012-01-11T19:00:00', 'lat': 48.847397, 'lng': 2.375368, 'id': 'les-combustibles482'}}, {'data': {'end': '2012-06-04T19:00:00', 'name': 'smalls', 'weight': 1.0, 'color': '#723f7f', 'notes': 'name : smalls  \\nlat : 42.40197  \\nlng :-83.052552  \\n weight :1  \\nstart : 2012-06-03T19:00:00  \\nend : 2012-06-04T19:00:00  \\ncolor :#723f7f  \\n  <a href=\"https://google.com/search?q=smalls\" target=\"_blank\">smalls</a>', 'start': '2012-06-03T19:00:00', 'lat': 42.40197, 'lng': -83.052552, 'id': 'smalls42-83'}}, {'data': {'end': '2014-08-18T19:00:00', 'name': 'kubana-festival', 'weight': 1.0, 'color': '#7f3f3f', 'notes': 'name : kubana-festival  \\nlat : 59.6833  \\nlng :59.983299  \\n weight :1  \\nstart : 2014-08-17T19:00:00  \\nend : 2014-08-18T19:00:00  \\ncolor :#7f3f3f  \\n  <a href=\"https://google.com/search?q=kubana-festival\" target=\"_blank\">kubana-festival</a>', 'start': '2014-08-17T19:00:00', 'lat': 59.6833, 'lng': 59.983299, 'id': 'kubana-festival5959'}}, {'data': {'end': '2012-01-28T19:00:00', 'name': 'windsor', 'weight': 1.0, 'color': '#5f3f7f', 'notes': 'name : windsor  \\nlat : 56.1166667  \\nlng :-3.1666667  \\n weight :1  \\nstart : 2012-01-27T19:00:00  \\nend : 2012-01-28T19:00:00  \\ncolor :#5f3f7f  \\n  <a href=\"https://google.com/search?q=windsor\" target=\"_blank\">windsor</a>', 'start': '2012-01-27T19:00:00', 'lat': 56.1166667, 'lng': -3.1666667, 'id': 'windsor56-3'}}, {'data': {'end': '2016-03-21T19:00:00', 'name': 'wild-bills', 'weight': 1.0, 'color': '#5f7f3f', 'notes': 'name : wild-bills  \\nlat : 51.176783  \\nlng :-115.571033  \\n weight :1  \\nstart : 2016-03-20T19:00:00  \\nend : 2016-03-21T19:00:00  \\ncolor :#5f7f3f  \\n  <a href=\"https://google.com/search?q=wild-bills\" target=\"_blank\">wild-bills</a>', 'start': '2016-03-20T19:00:00', 'lat': 51.176783, 'lng': -115.571033, 'id': 'wild-bills51-115'}}, {'data': {'end': '2017-05-04T00:00:00', 'name': 'chemiefabrik', 'weight': 1.4142135623730951, 'color': '#3f7f59', 'notes': 'name : chemiefabrik  \\nlat : 51.05  \\nlng :13.75  \\n weight :4.0  \\nstart : 2009-02-06T19:00:00  \\nend : 2017-05-04T00:00:00  \\ncolor :#3f7f59  \\n  <a href=\"https://google.com/search?q=chemiefabrik\" target=\"_blank\">chemiefabrik</a>', 'start': '2009-02-06T19:00:00', 'lat': 51.05, 'lng': 13.75, 'id': 'chemiefabrik5113'}}, {'data': {'end': '2008-12-01T19:00:00', 'name': 'lvc', 'weight': 1.0, 'color': '#727f3f', 'notes': 'name : lvc  \\nlat : 52.159325  \\nlng :4.489103  \\n weight :1  \\nstart : 2008-11-30T19:00:00  \\nend : 2008-12-01T19:00:00  \\ncolor :#727f3f  \\n  <a href=\"https://google.com/search?q=lvc\" target=\"_blank\">lvc</a>', 'start': '2008-11-30T19:00:00', 'lat': 52.159325, 'lng': 4.489103, 'id': 'lvc524'}}, {'data': {'end': '2012-06-05T19:00:00', 'name': 'grog-shop', 'weight': 1.0, 'color': '#723f7f', 'notes': 'name : grog-shop  \\nlat : 41.5084603  \\nlng :-81.5770514  \\n weight :1  \\nstart : 2012-06-04T19:00:00  \\nend : 2012-06-05T19:00:00  \\ncolor :#723f7f  \\n  <a href=\"https://google.com/search?q=grog-shop\" target=\"_blank\">grog-shop</a>', 'start': '2012-06-04T19:00:00', 'lat': 41.5084603, 'lng': -81.5770514, 'id': 'grog-shop41-81'}}, {'data': {'end': '2016-07-05T20:30:00', 'name': 'elfer-music-club', 'weight': 1.0, 'color': '#4c7f3f', 'notes': 'name : elfer-music-club  \\nlat : 50.10514  \\nlng :8.69128  \\n weight :1  \\nstart : 2016-07-04T20:30:00  \\nend : 2016-07-05T20:30:00  \\ncolor :#4c7f3f  \\n  <a href=\"https://google.com/search?q=elfer-music-club\" target=\"_blank\">elfer-music-club</a>', 'start': '2016-07-04T20:30:00', 'lat': 50.10514, 'lng': 8.69128, 'id': 'elfer-music-club508'}}, {'data': {'end': '2017-08-24T19:00:00', 'name': 'pitcher', 'weight': 1.5537739740300374, 'color': '#3f7f6c', 'notes': 'name : pitcher  \\nlat : 51.21096  \\nlng :6.78545  \\n weight :5.82842712475  \\nstart : 2017-08-21T19:00:00  \\nend : 2017-08-24T19:00:00  \\ncolor :#3f7f6c  \\n  <a href=\"https://google.com/search?q=pitcher\" target=\"_blank\">pitcher</a>', 'start': '2017-08-21T19:00:00', 'lat': 51.21096, 'lng': 6.78545, 'id': 'pitcher516'}}, {'data': {'end': '2008-07-12T19:00:00', 'name': 'the-goods-waterfront', 'weight': 1.0, 'color': '#7f663f', 'notes': 'name : the-goods-waterfront  \\nlat : 51.9166667  \\nlng :4.5  \\n weight :1  \\nstart : 2008-07-11T19:00:00  \\nend : 2008-07-12T19:00:00  \\ncolor :#7f663f  \\n  <a href=\"https://google.com/search?q=the-goods-waterfront\" target=\"_blank\">the-goods-waterfront</a>', 'start': '2008-07-11T19:00:00', 'lat': 51.9166667, 'lng': 4.5, 'id': 'the-goods-waterfront514'}}, {'data': {'end': '2016-07-30T17:00:00', 'name': 'maison-de-la-musique', 'weight': 1.0, 'color': '#4c7f3f', 'notes': 'name : maison-de-la-musique  \\nlat : 44.010863  \\nlng :2.166889  \\n weight :1  \\nstart : 2016-07-29T17:00:00  \\nend : 2016-07-30T17:00:00  \\ncolor :#4c7f3f  \\n  <a href=\"https://google.com/search?q=maison-de-la-musique\" target=\"_blank\">maison-de-la-musique</a>', 'start': '2016-07-29T17:00:00', 'lat': 44.010863, 'lng': 2.166889, 'id': 'maison-de-la-musique442'}}, {'data': {'end': '2017-08-20T19:00:00', 'name': 'pod-parou', 'weight': 1.0, 'color': '#3f7f6c', 'notes': 'name : pod-parou  \\nlat : 49.2762985  \\nlng :16.9857998  \\n weight :1  \\nstart : 2017-08-19T19:00:00  \\nend : 2017-08-20T19:00:00  \\ncolor :#3f7f6c  \\n  <a href=\"https://google.com/search?q=pod-parou\" target=\"_blank\">pod-parou</a>', 'start': '2017-08-19T19:00:00', 'lat': 49.2762985, 'lng': 16.9857998, 'id': 'pod-parou4916'}}, {'data': {'end': '2012-01-30T19:00:00', 'name': 'boston-arms', 'weight': 1.0, 'color': '#5f3f7f', 'notes': 'name : boston-arms  \\nlat : 51.557057  \\nlng :-0.13832  \\n weight :1  \\nstart : 2012-01-29T19:00:00  \\nend : 2012-01-30T19:00:00  \\ncolor :#5f3f7f  \\n  <a href=\"https://google.com/search?q=boston-arms\" target=\"_blank\">boston-arms</a>', 'start': '2012-01-29T19:00:00', 'lat': 51.557057, 'lng': -0.13832, 'id': 'boston-arms510'}}, {'data': {'end': '2011-12-30T19:00:00', 'name': 'gruta-77', 'weight': 1.0, 'color': '#5f3f7f', 'notes': 'name : gruta-77  \\nlat : 40.39094  \\nlng :-3.731357  \\n weight :1  \\nstart : 2011-12-29T19:00:00  \\nend : 2011-12-30T19:00:00  \\ncolor :#5f3f7f  \\n  <a href=\"https://google.com/search?q=gruta-77\" target=\"_blank\">gruta-77</a>', 'start': '2011-12-29T19:00:00', 'lat': 40.39094, 'lng': -3.731357, 'id': 'gruta-7740-3'}}, {'data': {'end': '2008-11-26T20:30:00', 'name': 'melkweg', 'weight': 1.0, 'color': '#727f3f', 'notes': 'name : melkweg  \\nlat : 52.35  \\nlng :4.9166667  \\n weight :1  \\nstart : 2008-11-25T20:30:00  \\nend : 2008-11-26T20:30:00  \\ncolor :#727f3f  \\n  <a href=\"https://google.com/search?q=melkweg\" target=\"_blank\">melkweg</a>', 'start': '2008-11-25T20:30:00', 'lat': 52.35, 'lng': 4.9166667, 'id': 'melkweg524'}}, {'data': {'end': '2017-09-02T19:00:00', 'name': 'festival-tonnay-bon', 'weight': 1.0, 'color': '#3f7f6c', 'notes': 'name : festival-tonnay-bon  \\nlat : 45.97695  \\nlng :-0.7608  \\n weight :1  \\nstart : 2017-09-01T19:00:00  \\nend : 2017-09-02T19:00:00  \\ncolor :#3f7f6c  \\n  <a href=\"https://google.com/search?q=festival-tonnay-bon\" target=\"_blank\">festival-tonnay-bon</a>', 'start': '2017-09-01T19:00:00', 'lat': 45.97695, 'lng': -0.7608, 'id': 'festival-tonnay-bon450'}}, {'data': {'end': '2008-07-14T19:00:00', 'name': 'poeyelhei', 'weight': 1.0, 'color': '#7f663f', 'notes': 'name : poeyelhei  \\nlat : 51.2666667  \\nlng :4.85  \\n weight :1  \\nstart : 2008-07-13T19:00:00  \\nend : 2008-07-14T19:00:00  \\ncolor :#7f663f  \\n  <a href=\"https://google.com/search?q=poeyelhei\" target=\"_blank\">poeyelhei</a>', 'start': '2008-07-13T19:00:00', 'lat': 51.2666667, 'lng': 4.85, 'id': 'poeyelhei514'}}, {'data': {'end': '2015-06-14T19:00:00', 'name': 'the-brighton-bar', 'weight': 1.0, 'color': '#7f793f', 'notes': 'name : the-brighton-bar  \\nlat : 40.3041667  \\nlng :-73.9927778  \\n weight :1  \\nstart : 2015-06-13T19:00:00  \\nend : 2015-06-14T19:00:00  \\ncolor :#7f793f  \\n  <a href=\"https://google.com/search?q=the-brighton-bar\" target=\"_blank\">the-brighton-bar</a>', 'start': '2015-06-13T19:00:00', 'lat': 40.3041667, 'lng': -73.9927778, 'id': 'the-brighton-bar40-73'}}, {'data': {'end': '2015-05-21T19:00:00', 'name': 'fabryka', 'weight': 1.0, 'color': '#7f793f', 'notes': 'name : fabryka  \\nlat : 50.050434  \\nlng :19.960041  \\n weight :1  \\nstart : 2015-05-20T19:00:00  \\nend : 2015-05-21T19:00:00  \\ncolor :#7f793f  \\n  <a href=\"https://google.com/search?q=fabryka\" target=\"_blank\">fabryka</a>', 'start': '2015-05-20T19:00:00', 'lat': 50.050434, 'lng': 19.960041, 'id': 'fabryka5019'}}, {'data': {'end': '2017-03-16T20:00:00', 'name': 'the-well', 'weight': 1.0, 'color': '#3f7f46', 'notes': 'name : the-well  \\nlat : 49.89677  \\nlng :-119.485138  \\n weight :1  \\nstart : 2017-03-15T20:00:00  \\nend : 2017-03-16T20:00:00  \\ncolor :#3f7f46  \\n  <a href=\"https://google.com/search?q=the-well\" target=\"_blank\">the-well</a>', 'start': '2017-03-15T20:00:00', 'lat': 49.89677, 'lng': -119.485138, 'id': 'the-well49-119'}}, {'data': {'end': '2008-11-13T21:00:00', 'name': 'circolo-degli-artisti', 'weight': 1.0, 'color': '#727f3f', 'notes': 'name : circolo-degli-artisti  \\nlat : 41.887172  \\nlng :12.524101  \\n weight :1  \\nstart : 2008-11-12T21:00:00  \\nend : 2008-11-13T21:00:00  \\ncolor :#727f3f  \\n  <a href=\"https://google.com/search?q=circolo-degli-artisti\" target=\"_blank\">circolo-degli-artisti</a>', 'start': '2008-11-12T21:00:00', 'lat': 41.887172, 'lng': 12.524101, 'id': 'circolo-degli-artisti4112'}}, {'data': {'end': '2015-03-09T20:00:00', 'name': 'jasper-royal-canadian-legion', 'weight': 1.0, 'color': '#7f663f', 'notes': 'name : jasper-royal-canadian-legion  \\nlat : 52.87909  \\nlng :-118.081875  \\n weight :1  \\nstart : 2015-03-08T20:00:00  \\nend : 2015-03-09T20:00:00  \\ncolor :#7f663f  \\n  <a href=\"https://google.com/search?q=jasper-royal-canadian-legion\" target=\"_blank\">jasper-royal-canadian-legion</a>', 'start': '2015-03-08T20:00:00', 'lat': 52.87909, 'lng': -118.081875, 'id': 'jasper-royal-canadian-legion52-118'}}, {'data': {'end': '2017-08-25T19:00:00', 'name': 'alte-weberei', 'weight': 1.0, 'color': '#3f7f6c', 'notes': 'name : alte-weberei  \\nlat : 51.902161  \\nlng :8.3771565  \\n weight :1  \\nstart : 2017-08-24T19:00:00  \\nend : 2017-08-25T19:00:00  \\ncolor :#3f7f6c  \\n  <a href=\"https://google.com/search?q=alte-weberei\" target=\"_blank\">alte-weberei</a>', 'start': '2017-08-24T19:00:00', 'lat': 51.902161, 'lng': 8.3771565, 'id': 'alte-weberei518'}}, {'data': {'end': '2009-03-18T20:00:00', 'name': 'whiskey', 'weight': 1.0, 'color': '#4c7f3f', 'notes': 'name : whiskey  \\nlat : 51.043332  \\nlng :-114.068989  \\n weight :1  \\nstart : 2009-03-17T20:00:00  \\nend : 2009-03-18T20:00:00  \\ncolor :#4c7f3f  \\n  <a href=\"https://google.com/search?q=whiskey\" target=\"_blank\">whiskey</a>', 'start': '2009-03-17T20:00:00', 'lat': 51.043332, 'lng': -114.068989, 'id': 'whiskey51-114'}}, {'data': {'end': '2017-08-15T19:00:00', 'name': 'l-entrepot', 'weight': 1.0, 'color': '#3f7f6c', 'notes': 'name : l-entrepot  \\nlat : 49.681217  \\nlng :5.805781  \\n weight :1  \\nstart : 2017-08-14T19:00:00  \\nend : 2017-08-15T19:00:00  \\ncolor :#3f7f6c  \\n  <a href=\"https://google.com/search?q=l-entrepot\" target=\"_blank\">l-entrepot</a>', 'start': '2017-08-14T19:00:00', 'lat': 49.681217, 'lng': 5.805781, 'id': 'l-entrepot495'}}, {'data': {'end': '2013-03-13T19:00:00', 'name': 'bailey-s-pub', 'weight': 1.0, 'color': '#7f3f65', 'notes': 'name : bailey-s-pub  \\nlat : 50.7054482  \\nlng :-120.3636932  \\n weight :1  \\nstart : 2013-03-12T19:00:00  \\nend : 2013-03-13T19:00:00  \\ncolor :#7f3f65  \\n  <a href=\"https://google.com/search?q=bailey-s-pub\" target=\"_blank\">bailey-s-pub</a>', 'start': '2013-03-12T19:00:00', 'lat': 50.7054482, 'lng': -120.3636932, 'id': 'bailey-s-pub50-120'}}, {'data': {'end': '2017-04-25T00:00:00', 'name': 'walfisch', 'weight': 1.5537739740300374, 'color': '#3f7f59', 'notes': 'name : walfisch  \\nlat : 47.988467  \\nlng :7.862211  \\n weight :5.82842712475  \\nstart : 2012-08-01T19:00:00  \\nend : 2017-04-25T00:00:00  \\ncolor :#3f7f59  \\n  <a href=\"https://google.com/search?q=walfisch\" target=\"_blank\">walfisch</a>', 'start': '2012-08-01T19:00:00', 'lat': 47.988467, 'lng': 7.862211, 'id': 'walfisch477'}}, {'data': {'end': '2012-06-16T20:00:00', 'name': 'emo-s-east', 'weight': 1.0, 'color': '#723f7f', 'notes': 'name : emo-s-east  \\nlat : 30.2669444  \\nlng :-97.7427778  \\n weight :1  \\nstart : 2012-06-15T20:00:00  \\nend : 2012-06-16T20:00:00  \\ncolor :#723f7f  \\n  <a href=\"https://google.com/search?q=emo-s-east\" target=\"_blank\">emo-s-east</a>', 'start': '2012-06-15T20:00:00', 'lat': 30.2669444, 'lng': -97.7427778, 'id': 'emo-s-east30-97'}}, {'data': {'end': '2008-07-11T19:00:00', 'name': 'le-baron', 'weight': 1.0, 'color': '#7f663f', 'notes': 'name : le-baron  \\nlat : 50.1333333  \\nlng :3.4166667  \\n weight :1  \\nstart : 2008-07-10T19:00:00  \\nend : 2008-07-11T19:00:00  \\ncolor :#7f663f  \\n  <a href=\"https://google.com/search?q=le-baron\" target=\"_blank\">le-baron</a>', 'start': '2008-07-10T19:00:00', 'lat': 50.1333333, 'lng': 3.4166667, 'id': 'le-baron503'}}, {'data': {'end': '2017-06-01T00:00:00', 'name': 'strom', 'weight': 1.0, 'color': '#3f7f59', 'notes': 'name : strom  \\nlat : 51.5767212  \\nlng :11.8301401  \\n weight :1  \\nstart : 2017-05-31T00:00:00  \\nend : 2017-06-01T00:00:00  \\ncolor :#3f7f59  \\n  <a href=\"https://google.com/search?q=strom\" target=\"_blank\">strom</a>', 'start': '2017-05-31T00:00:00', 'lat': 51.5767212, 'lng': 11.8301401, 'id': 'strom5111'}}, {'data': {'end': '2017-03-21T20:00:00', 'name': 'wild-bill-s', 'weight': 1.4142135623730951, 'color': '#3f7f46', 'notes': 'name : wild-bill-s  \\nlat : 51.176783  \\nlng :-115.571033  \\n weight :4.0  \\nstart : 2007-07-17T00:00:00  \\nend : 2017-03-21T20:00:00  \\ncolor :#3f7f46  \\n  <a href=\"https://google.com/search?q=wild-bill-s\" target=\"_blank\">wild-bill-s</a>', 'start': '2007-07-17T00:00:00', 'lat': 51.176783, 'lng': -115.571033, 'id': 'wild-bill-s51-115'}}, {'data': {'end': '2012-07-19T19:00:00', 'name': 'john-dee-oslo', 'weight': 1.0, 'color': '#7f3f79', 'notes': 'name : john-dee-oslo  \\nlat : 59.91584  \\nlng :10.75025  \\n weight :1  \\nstart : 2012-07-18T19:00:00  \\nend : 2012-07-19T19:00:00  \\ncolor :#7f3f79  \\n  <a href=\"https://google.com/search?q=john-dee-oslo\" target=\"_blank\">john-dee-oslo</a>', 'start': '2012-07-18T19:00:00', 'lat': 59.91584, 'lng': 10.75025, 'id': 'john-dee-oslo5910'}}, {'data': {'end': '2012-07-30T19:00:00', 'name': 'folk-festival', 'weight': 1.0, 'color': '#7f3f79', 'notes': 'name : folk-festival  \\nlat : 45.6486692  \\nlng :9.2820753  \\n weight :1  \\nstart : 2012-07-29T19:00:00  \\nend : 2012-07-30T19:00:00  \\ncolor :#7f3f79  \\n  <a href=\"https://google.com/search?q=folk-festival\" target=\"_blank\">folk-festival</a>', 'start': '2012-07-29T19:00:00', 'lat': 45.6486692, 'lng': 9.2820753, 'id': 'folk-festival459'}}, {'data': {'end': '2008-07-30T19:00:00', 'name': 'lagerhaus', 'weight': 1.0, 'color': '#7f663f', 'notes': 'name : lagerhaus  \\nlat : 53.07194  \\nlng :8.82243  \\n weight :1  \\nstart : 2008-07-29T19:00:00  \\nend : 2008-07-30T19:00:00  \\ncolor :#7f663f  \\n  <a href=\"https://google.com/search?q=lagerhaus\" target=\"_blank\">lagerhaus</a>', 'start': '2008-07-29T19:00:00', 'lat': 53.07194, 'lng': 8.82243, 'id': 'lagerhaus538'}}, {'data': {'end': '2017-05-22T19:00:00', 'name': 'pouzza-fest', 'weight': 1.0, 'color': '#3f7f59', 'notes': 'name : pouzza-fest  \\nlat : 45.5  \\nlng :-73.5833333  \\n weight :1  \\nstart : 2017-05-21T19:00:00  \\nend : 2017-05-22T19:00:00  \\ncolor :#3f7f59  \\n  <a href=\"https://google.com/search?q=pouzza-fest\" target=\"_blank\">pouzza-fest</a>', 'start': '2017-05-21T19:00:00', 'lat': 45.5, 'lng': -73.5833333, 'id': 'pouzza-fest45-73'}}, {'data': {'end': '2012-02-11T20:00:00', 'name': 'bibelot', 'weight': 1.0, 'color': '#5f3f7f', 'notes': 'name : bibelot  \\nlat : 51.815577  \\nlng :4.679853  \\n weight :1  \\nstart : 2012-02-10T20:00:00  \\nend : 2012-02-11T20:00:00  \\ncolor :#5f3f7f  \\n  <a href=\"https://google.com/search?q=bibelot\" target=\"_blank\">bibelot</a>', 'start': '2012-02-10T20:00:00', 'lat': 51.815577, 'lng': 4.679853, 'id': 'bibelot514'}}, {'data': {'end': '2017-03-26T20:00:00', 'name': 'better-than-fried-s', 'weight': 1.4142135623730951, 'color': '#3f7f46', 'notes': 'name : better-than-fried-s  \\nlat : 55.1700516  \\nlng :-118.7974319  \\n weight :4.0  \\nstart : 2016-03-26T19:00:00  \\nend : 2017-03-26T20:00:00  \\ncolor :#3f7f46  \\n  <a href=\"https://google.com/search?q=better-than-fried-s\" target=\"_blank\">better-than-fried-s</a>', 'start': '2016-03-26T19:00:00', 'lat': 55.1700516, 'lng': -118.7974319, 'id': 'better-than-fried-s55-118'}}, {'data': {'end': '2017-03-11T00:00:00', 'name': 'churchill-s-pub', 'weight': 1.0, 'color': '#3f7f46', 'notes': 'name : churchill-s-pub  \\nlat : 25.826249  \\nlng :-80.191757  \\n weight :1  \\nstart : 2017-03-10T00:00:00  \\nend : 2017-03-11T00:00:00  \\ncolor :#3f7f46  \\n  <a href=\"https://google.com/search?q=churchill-s-pub\" target=\"_blank\">churchill-s-pub</a>', 'start': '2017-03-10T00:00:00', 'lat': 25.826249, 'lng': -80.191757, 'id': 'churchill-s-pub25-80'}}, {'data': {'end': '2017-05-29T19:00:00', 'name': 'punk-rock-bowling', 'weight': 1.5537739740300374, 'color': '#3f7f59', 'notes': 'name : punk-rock-bowling  \\nlat : 36.1710625  \\nlng :-115.1401215  \\n weight :5.82842712475  \\nstart : 2012-05-26T19:00:00  \\nend : 2017-05-29T19:00:00  \\ncolor :#3f7f59  \\n  <a href=\"https://google.com/search?q=punk-rock-bowling\" target=\"_blank\">punk-rock-bowling</a>', 'start': '2012-05-26T19:00:00', 'lat': 36.1710625, 'lng': -115.1401215, 'id': 'punk-rock-bowling36-115'}}, {'data': {'end': '2009-02-09T19:00:00', 'name': 'clash', 'weight': 1.0, 'color': '#5f7f3f', 'notes': 'name : clash  \\nlat : 52.492094  \\nlng :13.388102  \\n weight :1  \\nstart : 2009-02-08T19:00:00  \\nend : 2009-02-09T19:00:00  \\ncolor :#5f7f3f  \\n  <a href=\"https://google.com/search?q=clash\" target=\"_blank\">clash</a>', 'start': '2009-02-08T19:00:00', 'lat': 52.492094, 'lng': 13.388102, 'id': 'clash5213'}}, {'data': {'end': '2008-11-27T19:00:00', 'name': 'willemmen', 'weight': 1.0, 'color': '#727f3f', 'notes': 'name : willemmen  \\nlat : 51.98333  \\nlng :5.90374  \\n weight :1  \\nstart : 2008-11-26T19:00:00  \\nend : 2008-11-27T19:00:00  \\ncolor :#727f3f  \\n  <a href=\"https://google.com/search?q=willemmen\" target=\"_blank\">willemmen</a>', 'start': '2008-11-26T19:00:00', 'lat': 51.98333, 'lng': 5.90374, 'id': 'willemmen515'}}, {'data': {'end': '2009-01-26T14:00:00', 'name': 'stereo-glasgow', 'weight': 1.0, 'color': '#5f7f3f', 'notes': 'name : stereo-glasgow  \\nlat : 55.8611258  \\nlng :-4.2579503  \\n weight :1  \\nstart : 2009-01-25T14:00:00  \\nend : 2009-01-26T14:00:00  \\ncolor :#5f7f3f  \\n  <a href=\"https://google.com/search?q=stereo-glasgow\" target=\"_blank\">stereo-glasgow</a>', 'start': '2009-01-25T14:00:00', 'lat': 55.8611258, 'lng': -4.2579503, 'id': 'stereo-glasgow55-4'}}, {'data': {'end': '2017-05-12T00:00:00', 'name': 'willemen', 'weight': 1.0, 'color': '#3f7f59', 'notes': 'name : willemen  \\nlat : 51.9833333  \\nlng :5.9166667  \\n weight :1  \\nstart : 2017-05-11T00:00:00  \\nend : 2017-05-12T00:00:00  \\ncolor :#3f7f59  \\n  <a href=\"https://google.com/search?q=willemen\" target=\"_blank\">willemen</a>', 'start': '2017-05-11T00:00:00', 'lat': 51.9833333, 'lng': 5.9166667, 'id': 'willemen515'}}, {'data': {'end': '2016-07-08T20:30:00', 'name': 'poppodium-q-factory', 'weight': 1.0, 'color': '#4c7f3f', 'notes': 'name : poppodium-q-factory  \\nlat : 52.3576  \\nlng :4.9305  \\n weight :1  \\nstart : 2016-07-07T20:30:00  \\nend : 2016-07-08T20:30:00  \\ncolor :#4c7f3f  \\n  <a href=\"https://google.com/search?q=poppodium-q-factory\" target=\"_blank\">poppodium-q-factory</a>', 'start': '2016-07-07T20:30:00', 'lat': 52.3576, 'lng': 4.9305, 'id': 'poppodium-q-factory524'}}, {'data': {'end': '2014-03-07T19:00:00', 'name': 'the-wise-hall', 'weight': 1.4142135623730951, 'color': '#7f3f52', 'notes': 'name : the-wise-hall  \\nlat : 49.2772408  \\nlng :-123.0660934  \\n weight :4.0  \\nstart : 2013-03-07T20:00:00  \\nend : 2014-03-07T19:00:00  \\ncolor :#7f3f52  \\n  <a href=\"https://google.com/search?q=the-wise-hall\" target=\"_blank\">the-wise-hall</a>', 'start': '2013-03-07T20:00:00', 'lat': 49.2772408, 'lng': -123.0660934, 'id': 'the-wise-hall49-123'}}, {'data': {'end': '2017-08-06T00:00:00', 'name': 'brakrock', 'weight': 1.0, 'color': '#3f7f6c', 'notes': 'name : brakrock  \\nlat : 51.0908012  \\nlng :4.49754  \\n weight :1  \\nstart : 2017-08-05T00:00:00  \\nend : 2017-08-06T00:00:00  \\ncolor :#3f7f6c  \\n  <a href=\"https://google.com/search?q=brakrock\" target=\"_blank\">brakrock</a>', 'start': '2017-08-05T00:00:00', 'lat': 51.0908012, 'lng': 4.49754, 'id': 'brakrock514'}}, {'data': {'end': '2012-05-04T22:00:00', 'name': 'starlight', 'weight': 1.0, 'color': '#723f7f', 'notes': 'name : starlight  \\nlat : 43.46649  \\nlng :-80.52306  \\n weight :1  \\nstart : 2012-05-03T22:00:00  \\nend : 2012-05-04T22:00:00  \\ncolor :#723f7f  \\n  <a href=\"https://google.com/search?q=starlight\" target=\"_blank\">starlight</a>', 'start': '2012-05-03T22:00:00', 'lat': 43.46649, 'lng': -80.52306, 'id': 'starlight43-80'}}, {'data': {'end': '2007-07-19T00:00:00', 'name': 'the-warehouse-calgary', 'weight': 1.0, 'color': '#7f3f3f', 'notes': 'name : the-warehouse-calgary  \\nlat : 51.04522  \\nlng :-114.063014  \\n weight :1  \\nstart : 2007-07-18T00:00:00  \\nend : 2007-07-19T00:00:00  \\ncolor :#7f3f3f  \\n  <a href=\"https://google.com/search?q=the-warehouse-calgary\" target=\"_blank\">the-warehouse-calgary</a>', 'start': '2007-07-18T00:00:00', 'lat': 51.04522, 'lng': -114.063014, 'id': 'the-warehouse-calgary51-114'}}, {'data': {'end': '2012-06-08T20:00:00', 'name': 'middle-east', 'weight': 1.0, 'color': '#723f7f', 'notes': 'name : middle-east  \\nlat : 42.363648  \\nlng :-71.101038  \\n weight :1  \\nstart : 2012-06-07T20:00:00  \\nend : 2012-06-08T20:00:00  \\ncolor :#723f7f  \\n  <a href=\"https://google.com/search?q=middle-east\" target=\"_blank\">middle-east</a>', 'start': '2012-06-07T20:00:00', 'lat': 42.363648, 'lng': -71.101038, 'id': 'middle-east42-71'}}, {'data': {'end': '2017-08-19T12:00:00', 'name': 'site-de-kerboulard', 'weight': 1.0, 'color': '#3f7f6c', 'notes': 'name : site-de-kerboulard  \\nlat : 47.6957196  \\nlng :-2.6384536  \\n weight :1  \\nstart : 2017-08-18T12:00:00  \\nend : 2017-08-19T12:00:00  \\ncolor :#3f7f6c  \\n  <a href=\"https://google.com/search?q=site-de-kerboulard\" target=\"_blank\">site-de-kerboulard</a>', 'start': '2017-08-18T12:00:00', 'lat': 47.6957196, 'lng': -2.6384536, 'id': 'site-de-kerboulard47-2'}}, {'data': {'end': '2008-07-21T19:00:00', 'name': 'musikkantine', 'weight': 1.0, 'color': '#7f663f', 'notes': 'name : musikkantine  \\nlat : 48.414024  \\nlng :10.869528  \\n weight :1  \\nstart : 2008-07-20T19:00:00  \\nend : 2008-07-21T19:00:00  \\ncolor :#7f663f  \\n  <a href=\"https://google.com/search?q=musikkantine\" target=\"_blank\">musikkantine</a>', 'start': '2008-07-20T19:00:00', 'lat': 48.414024, 'lng': 10.869528, 'id': 'musikkantine4810'}}, {'data': {'end': '2012-05-31T19:30:00', 'name': 'black-sheep', 'weight': 1.0, 'color': '#723f7f', 'notes': 'name : black-sheep  \\nlat : 38.837115  \\nlng :-104.789914  \\n weight :1  \\nstart : 2012-05-30T19:30:00  \\nend : 2012-05-31T19:30:00  \\ncolor :#723f7f  \\n  <a href=\"https://google.com/search?q=black-sheep\" target=\"_blank\">black-sheep</a>', 'start': '2012-05-30T19:30:00', 'lat': 38.837115, 'lng': -104.789914, 'id': 'black-sheep38-104'}}, {'data': {'end': '2012-02-03T19:00:00', 'name': 'landespavillon', 'weight': 1.4142135623730951, 'color': '#5f3f7f', 'notes': 'name : landespavillon  \\nlat : 48.781904  \\nlng :9.185876  \\n weight :4.0  \\nstart : 2008-11-19T19:00:00  \\nend : 2012-02-03T19:00:00  \\ncolor :#5f3f7f  \\n  <a href=\"https://google.com/search?q=landespavillon\" target=\"_blank\">landespavillon</a>', 'start': '2008-11-19T19:00:00', 'lat': 48.781904, 'lng': 9.185876, 'id': 'landespavillon489'}}, {'data': {'end': '2007-08-27T19:00:00', 'name': 'el-rey', 'weight': 1.0, 'color': '#7f523f', 'notes': 'name : el-rey  \\nlat : 34.101555  \\nlng :-118.337209  \\n weight :1  \\nstart : 2007-08-26T19:00:00  \\nend : 2007-08-27T19:00:00  \\ncolor :#7f523f  \\n  <a href=\"https://google.com/search?q=el-rey\" target=\"_blank\">el-rey</a>', 'start': '2007-08-26T19:00:00', 'lat': 34.101555, 'lng': -118.337209, 'id': 'el-rey34-118'}}, {'data': {'end': '2008-07-17T19:00:00', 'name': 'druckluft', 'weight': 1.0, 'color': '#7f663f', 'notes': 'name : druckluft  \\nlat : 51.4666667  \\nlng :6.85  \\n weight :1  \\nstart : 2008-07-16T19:00:00  \\nend : 2008-07-17T19:00:00  \\ncolor :#7f663f  \\n  <a href=\"https://google.com/search?q=druckluft\" target=\"_blank\">druckluft</a>', 'start': '2008-07-16T19:00:00', 'lat': 51.4666667, 'lng': 6.85, 'id': 'druckluft516'}}, {'data': {'end': '2015-06-16T20:00:00', 'name': 'sellersville-theater-1894', 'weight': 1.0, 'color': '#7f793f', 'notes': 'name : sellersville-theater-1894  \\nlat : 40.359346  \\nlng :-75.31163  \\n weight :1  \\nstart : 2015-06-15T20:00:00  \\nend : 2015-06-16T20:00:00  \\ncolor :#7f793f  \\n  <a href=\"https://google.com/search?q=sellersville-theater-1894\" target=\"_blank\">sellersville-theater-1894</a>', 'start': '2015-06-15T20:00:00', 'lat': 40.359346, 'lng': -75.31163, 'id': 'sellersville-theater-189440-75'}}, {'data': {'end': '2015-05-05T19:00:00', 'name': 'le-batofar', 'weight': 1.0, 'color': '#7f793f', 'notes': 'name : le-batofar  \\nlat : 48.8339806  \\nlng :2.3774982  \\n weight :1  \\nstart : 2015-05-04T19:00:00  \\nend : 2015-05-05T19:00:00  \\ncolor :#7f793f  \\n  <a href=\"https://google.com/search?q=le-batofar\" target=\"_blank\">le-batofar</a>', 'start': '2015-05-04T19:00:00', 'lat': 48.8339806, 'lng': 2.3774982, 'id': 'le-batofar482'}}, {'data': {'end': '2017-05-02T20:30:00', 'name': 'speicher-husum', 'weight': 1.0, 'color': '#3f7f59', 'notes': 'name : speicher-husum  \\nlat : 54.47519  \\nlng :9.047471  \\n weight :1  \\nstart : 2017-05-01T20:30:00  \\nend : 2017-05-02T20:30:00  \\ncolor :#3f7f59  \\n  <a href=\"https://google.com/search?q=speicher-husum\" target=\"_blank\">speicher-husum</a>', 'start': '2017-05-01T20:30:00', 'lat': 54.47519, 'lng': 9.047471, 'id': 'speicher-husum549'}}, {'data': {'end': '2012-01-11T20:00:00', 'name': 'la-scene-michelet', 'weight': 1.0, 'color': '#5f3f7f', 'notes': 'name : la-scene-michelet  \\nlat : 47.2185047  \\nlng :-1.5446583  \\n weight :1  \\nstart : 2012-01-10T20:00:00  \\nend : 2012-01-11T20:00:00  \\ncolor :#5f3f7f  \\n  <a href=\"https://google.com/search?q=la-scene-michelet\" target=\"_blank\">la-scene-michelet</a>', 'start': '2012-01-10T20:00:00', 'lat': 47.2185047, 'lng': -1.5446583, 'id': 'la-scene-michelet47-1'}}, {'data': {'end': '2017-09-09T19:00:00', 'name': 'bannermans', 'weight': 1.0, 'color': '#3f7f6c', 'notes': 'name : bannermans  \\nlat : 55.9489109  \\nlng :-3.1863718  \\n weight :1  \\nstart : 2017-09-08T19:00:00  \\nend : 2017-09-09T19:00:00  \\ncolor :#3f7f6c  \\n  <a href=\"https://google.com/search?q=bannermans\" target=\"_blank\">bannermans</a>', 'start': '2017-09-08T19:00:00', 'lat': 55.9489109, 'lng': -3.1863718, 'id': 'bannermans55-3'}}, {'data': {'end': '2012-02-09T20:00:00', 'name': 'paradiso-kleine-zaal', 'weight': 1.0, 'color': '#5f3f7f', 'notes': 'name : paradiso-kleine-zaal  \\nlat : 52.3622818  \\nlng :4.8839502  \\n weight :1  \\nstart : 2012-02-08T20:00:00  \\nend : 2012-02-09T20:00:00  \\ncolor :#5f3f7f  \\n  <a href=\"https://google.com/search?q=paradiso-kleine-zaal\" target=\"_blank\">paradiso-kleine-zaal</a>', 'start': '2012-02-08T20:00:00', 'lat': 52.3622818, 'lng': 4.8839502, 'id': 'paradiso-kleine-zaal524'}}, {'data': {'end': '2009-04-13T22:00:00', 'name': 'sugar-nightclub', 'weight': 1.0, 'color': '#4c7f3f', 'notes': 'name : sugar-nightclub  \\nlat : 48.425953  \\nlng :-123.360418  \\n weight :1  \\nstart : 2009-04-12T22:00:00  \\nend : 2009-04-13T22:00:00  \\ncolor :#4c7f3f  \\n  <a href=\"https://google.com/search?q=sugar-nightclub\" target=\"_blank\">sugar-nightclub</a>', 'start': '2009-04-12T22:00:00', 'lat': 48.425953, 'lng': -123.360418, 'id': 'sugar-nightclub48-123'}}, {'data': {'end': '2015-06-11T20:00:00', 'name': 'the-bowery-electric', 'weight': 1.0, 'color': '#7f793f', 'notes': 'name : the-bowery-electric  \\nlat : 40.7257  \\nlng :-73.991676  \\n weight :1  \\nstart : 2015-06-10T20:00:00  \\nend : 2015-06-11T20:00:00  \\ncolor :#7f793f  \\n  <a href=\"https://google.com/search?q=the-bowery-electric\" target=\"_blank\">the-bowery-electric</a>', 'start': '2015-06-10T20:00:00', 'lat': 40.7257, 'lng': -73.991676, 'id': 'the-bowery-electric40-73'}}, {'data': {'end': '2012-01-31T19:00:00', 'name': 'bei-chez-heinz', 'weight': 1.5537739740300374, 'color': '#5f3f7f', 'notes': 'name : bei-chez-heinz  \\nlat : 52.372008  \\nlng :9.697041  \\n weight :5.82842712475  \\nstart : 2009-02-02T19:00:00  \\nend : 2012-01-31T19:00:00  \\ncolor :#5f3f7f  \\n  <a href=\"https://google.com/search?q=bei-chez-heinz\" target=\"_blank\">bei-chez-heinz</a>', 'start': '2009-02-02T19:00:00', 'lat': 52.372008, 'lng': 9.697041, 'id': 'bei-chez-heinz529'}}, {'data': {'end': '2012-06-13T19:00:00', 'name': 'cat-s-cradle', 'weight': 1.0, 'color': '#723f7f', 'notes': 'name : cat-s-cradle  \\nlat : 35.910615  \\nlng :-79.068873  \\n weight :1  \\nstart : 2012-06-12T19:00:00  \\nend : 2012-06-13T19:00:00  \\ncolor :#723f7f  \\n  <a href=\"https://google.com/search?q=cat-s-cradle\" target=\"_blank\">cat-s-cradle</a>', 'start': '2012-06-12T19:00:00', 'lat': 35.910615, 'lng': -79.068873, 'id': 'cat-s-cradle35-79'}}, {'data': {'end': '2010-01-28T18:00:00', 'name': 'the-good-ship', 'weight': 1.0, 'color': '#3f7f6c', 'notes': 'name : the-good-ship  \\nlat : 51.543482  \\nlng :-0.199934  \\n weight :1  \\nstart : 2010-01-27T18:00:00  \\nend : 2010-01-28T18:00:00  \\ncolor :#3f7f6c  \\n  <a href=\"https://google.com/search?q=the-good-ship\" target=\"_blank\">the-good-ship</a>', 'start': '2010-01-27T18:00:00', 'lat': 51.543482, 'lng': -0.199934, 'id': 'the-good-ship510'}}, {'data': {'end': '2017-03-03T20:00:00', 'name': 'upstairs-cabaret', 'weight': 1.4142135623730951, 'color': '#3f7f46', 'notes': 'name : upstairs-cabaret  \\nlat : 48.4257202  \\nlng :-123.3694687  \\n weight :4.0  \\nstart : 2016-03-11T19:00:00  \\nend : 2017-03-03T20:00:00  \\ncolor :#3f7f46  \\n  <a href=\"https://google.com/search?q=upstairs-cabaret\" target=\"_blank\">upstairs-cabaret</a>', 'start': '2016-03-11T19:00:00', 'lat': 48.4257202, 'lng': -123.3694687, 'id': 'upstairs-cabaret48-123'}}, {'data': {'end': '2009-01-31T19:00:00', 'name': 'ninkasi-ale-house', 'weight': 1.0, 'color': '#5f7f3f', 'notes': 'name : ninkasi-ale-house  \\nlat : 45.75  \\nlng :4.85  \\n weight :1  \\nstart : 2009-01-30T19:00:00  \\nend : 2009-01-31T19:00:00  \\ncolor :#5f7f3f  \\n  <a href=\"https://google.com/search?q=ninkasi-ale-house\" target=\"_blank\">ninkasi-ale-house</a>', 'start': '2009-01-30T19:00:00', 'lat': 45.75, 'lng': 4.85, 'id': 'ninkasi-ale-house454'}}, {'data': {'end': '2017-08-03T19:00:00', 'name': 'silo-1', 'weight': 1.0, 'color': '#3f7f6c', 'notes': 'name : silo-1  \\nlat : 48.250963  \\nlng :12.588911  \\n weight :1  \\nstart : 2017-08-02T19:00:00  \\nend : 2017-08-03T19:00:00  \\ncolor :#3f7f6c  \\n  <a href=\"https://google.com/search?q=silo-1\" target=\"_blank\">silo-1</a>', 'start': '2017-08-02T19:00:00', 'lat': 48.250963, 'lng': 12.588911, 'id': 'silo-14812'}}, {'data': {'end': '2017-04-27T00:00:00', 'name': 'db-s', 'weight': 1.0, 'color': '#3f7f59', 'notes': 'name : db-s  \\nlat : 52.102243  \\nlng :5.088609  \\n weight :1  \\nstart : 2017-04-26T00:00:00  \\nend : 2017-04-27T00:00:00  \\ncolor :#3f7f59  \\n  <a href=\"https://google.com/search?q=db-s\" target=\"_blank\">db-s</a>', 'start': '2017-04-26T00:00:00', 'lat': 52.102243, 'lng': 5.088609, 'id': 'db-s525'}}, {'data': {'end': '2008-07-19T19:00:00', 'name': 'hangar', 'weight': 1.0, 'color': '#7f663f', 'notes': 'name : hangar  \\nlat : 51.8333333  \\nlng :12.25  \\n weight :1  \\nstart : 2008-07-18T19:00:00  \\nend : 2008-07-19T19:00:00  \\ncolor :#7f663f  \\n  <a href=\"https://google.com/search?q=hangar\" target=\"_blank\">hangar</a>', 'start': '2008-07-18T19:00:00', 'lat': 51.8333333, 'lng': 12.25, 'id': 'hangar5112'}}, {'data': {'end': '2012-08-04T19:00:00', 'name': 'la-miroiterie', 'weight': 1.0, 'color': '#7f3f79', 'notes': 'name : la-miroiterie  \\nlat : 48.8690455  \\nlng :2.3914513  \\n weight :1  \\nstart : 2012-08-03T19:00:00  \\nend : 2012-08-04T19:00:00  \\ncolor :#7f3f79  \\n  <a href=\"https://google.com/search?q=la-miroiterie\" target=\"_blank\">la-miroiterie</a>', 'start': '2012-08-03T19:00:00', 'lat': 48.8690455, 'lng': 2.3914513, 'id': 'la-miroiterie482'}}, {'data': {'end': '2017-03-18T21:00:00', 'name': 'dickens', 'weight': 1.6118477541252516, 'color': '#3f7f46', 'notes': 'name : dickens  \\nlat : 51.04519  \\nlng :-114.083961  \\n weight :6.74988033899  \\nstart : 2013-03-16T20:00:00  \\nend : 2017-03-18T21:00:00  \\ncolor :#3f7f46  \\n  <a href=\"https://google.com/search?q=dickens\" target=\"_blank\">dickens</a>', 'start': '2013-03-16T20:00:00', 'lat': 51.04519, 'lng': -114.083961, 'id': 'dickens51-114'}}, {'data': {'end': '2017-06-20T19:00:00', 'name': 'wild-at-heart', 'weight': 1.0, 'color': '#3f7f59', 'notes': 'name : wild-at-heart  \\nlat : 52.497548  \\nlng :13.431082  \\n weight :1  \\nstart : 2017-06-19T19:00:00  \\nend : 2017-06-20T19:00:00  \\ncolor :#3f7f59  \\n  <a href=\"https://google.com/search?q=wild-at-heart\" target=\"_blank\">wild-at-heart</a>', 'start': '2017-06-19T19:00:00', 'lat': 52.497548, 'lng': 13.431082, 'id': 'wild-at-heart5213'}}, {'data': {'end': '2012-01-24T19:00:00', 'name': 'the-croft', 'weight': 1.0, 'color': '#5f3f7f', 'notes': 'name : the-croft  \\nlat : 51.463623  \\nlng :-2.590027  \\n weight :1  \\nstart : 2012-01-23T19:00:00  \\nend : 2012-01-24T19:00:00  \\ncolor :#5f3f7f  \\n  <a href=\"https://google.com/search?q=the-croft\" target=\"_blank\">the-croft</a>', 'start': '2012-01-23T19:00:00', 'lat': 51.463623, 'lng': -2.590027, 'id': 'the-croft51-2'}}, {'data': {'end': '2012-01-29T19:00:00', 'name': 'the-riverside', 'weight': 1.0, 'color': '#5f3f7f', 'notes': 'name : the-riverside  \\nlat : 52.4333333  \\nlng :-3.1166667  \\n weight :1  \\nstart : 2012-01-28T19:00:00  \\nend : 2012-01-29T19:00:00  \\ncolor :#5f3f7f  \\n  <a href=\"https://google.com/search?q=the-riverside\" target=\"_blank\">the-riverside</a>', 'start': '2012-01-28T19:00:00', 'lat': 52.4333333, 'lng': -3.1166667, 'id': 'the-riverside52-3'}}, {'data': {'end': '2009-02-21T19:00:00', 'name': 'tba', 'weight': 1.0, 'color': '#5f7f3f', 'notes': 'name : tba  \\nlat : 59.9493753  \\nlng :30.2522702  \\n weight :1  \\nstart : 2009-02-20T19:00:00  \\nend : 2009-02-21T19:00:00  \\ncolor :#5f7f3f  \\n  <a href=\"https://google.com/search?q=tba\" target=\"_blank\">tba</a>', 'start': '2009-02-20T19:00:00', 'lat': 59.9493753, 'lng': 30.2522702, 'id': 'tba5930'}}, {'data': {'end': '2016-03-11T19:00:00', 'name': 'venue-nightclub', 'weight': 1.0, 'color': '#5f7f3f', 'notes': 'name : venue-nightclub  \\nlat : 49.28068  \\nlng :-123.121163  \\n weight :1  \\nstart : 2016-03-10T19:00:00  \\nend : 2016-03-11T19:00:00  \\ncolor :#5f7f3f  \\n  <a href=\"https://google.com/search?q=venue-nightclub\" target=\"_blank\">venue-nightclub</a>', 'start': '2016-03-10T19:00:00', 'lat': 49.28068, 'lng': -123.121163, 'id': 'venue-nightclub49-123'}}, {'data': {'end': '2014-09-20T20:00:00', 'name': 'strummer-s', 'weight': 1.0, 'color': '#7f523f', 'notes': 'name : strummer-s  \\nlat : 36.7587458  \\nlng :-119.8005123  \\n weight :1  \\nstart : 2014-09-19T20:00:00  \\nend : 2014-09-20T20:00:00  \\ncolor :#7f523f  \\n  <a href=\"https://google.com/search?q=strummer-s\" target=\"_blank\">strummer-s</a>', 'start': '2014-09-19T20:00:00', 'lat': 36.7587458, 'lng': -119.8005123, 'id': 'strummer-s36-119'}}, {'data': {'end': '2013-03-15T20:00:00', 'name': 'the-royal', 'weight': 1.0, 'color': '#7f3f65', 'notes': 'name : the-royal  \\nlat : 49.490939  \\nlng :-117.296495  \\n weight :1  \\nstart : 2013-03-14T20:00:00  \\nend : 2013-03-15T20:00:00  \\ncolor :#7f3f65  \\n  <a href=\"https://google.com/search?q=the-royal\" target=\"_blank\">the-royal</a>', 'start': '2013-03-14T20:00:00', 'lat': 49.490939, 'lng': -117.296495, 'id': 'the-royal49-117'}}, {'data': {'end': '2009-02-02T19:00:00', 'name': 'la-pena-festare', 'weight': 1.0, 'color': '#5f7f3f', 'notes': 'name : la-pena-festare  \\nlat : 48.8666667  \\nlng :2.3333333  \\n weight :1  \\nstart : 2009-02-01T19:00:00  \\nend : 2009-02-02T19:00:00  \\ncolor :#5f7f3f  \\n  <a href=\"https://google.com/search?q=la-pena-festare\" target=\"_blank\">la-pena-festare</a>', 'start': '2009-02-01T19:00:00', 'lat': 48.8666667, 'lng': 2.3333333, 'id': 'la-pena-festare482'}}, {'data': {'end': '2015-11-06T21:00:00', 'name': 'the-casbah', 'weight': 1.0, 'color': '#727f3f', 'notes': 'name : the-casbah  \\nlat : 32.730206  \\nlng :-117.171871  \\n weight :1  \\nstart : 2015-11-05T21:00:00  \\nend : 2015-11-06T21:00:00  \\ncolor :#727f3f  \\n  <a href=\"https://google.com/search?q=the-casbah\" target=\"_blank\">the-casbah</a>', 'start': '2015-11-05T21:00:00', 'lat': 32.730206, 'lng': -117.171871, 'id': 'the-casbah32-117'}}, {'data': {'end': '2017-08-26T00:00:00', 'name': 'spirit-festival', 'weight': 1.0, 'color': '#3f7f6c', 'notes': 'name : spirit-festival  \\nlat : 51.9796392  \\nlng :12.9858242  \\n weight :1  \\nstart : 2017-08-25T00:00:00  \\nend : 2017-08-26T00:00:00  \\ncolor :#3f7f6c  \\n  <a href=\"https://google.com/search?q=spirit-festival\" target=\"_blank\">spirit-festival</a>', 'start': '2017-08-25T00:00:00', 'lat': 51.9796392, 'lng': 12.9858242, 'id': 'spirit-festival5112'}}, {'data': {'end': '2017-07-30T19:00:00', 'name': 'b90', 'weight': 1.0, 'color': '#3f7f6c', 'notes': 'name : b90  \\nlat : 54.35  \\nlng :18.6666667  \\n weight :1  \\nstart : 2017-07-29T19:00:00  \\nend : 2017-07-30T19:00:00  \\ncolor :#3f7f6c  \\n  <a href=\"https://google.com/search?q=b90\" target=\"_blank\">b90</a>', 'start': '2017-07-29T19:00:00', 'lat': 54.35, 'lng': 18.6666667, 'id': 'b905418'}}, {'data': {'end': '2008-11-30T20:00:00', 'name': 'speedfest', 'weight': 1.0, 'color': '#727f3f', 'notes': 'name : speedfest  \\nlat : 51.4495  \\nlng :5.45752  \\n weight :1  \\nstart : 2008-11-29T20:00:00  \\nend : 2008-11-30T20:00:00  \\ncolor :#727f3f  \\n  <a href=\"https://google.com/search?q=speedfest\" target=\"_blank\">speedfest</a>', 'start': '2008-11-29T20:00:00', 'lat': 51.4495, 'lng': 5.45752, 'id': 'speedfest515'}}, {'data': {'end': '2014-03-08T22:30:00', 'name': 'lucky-bar', 'weight': 1.4142135623730951, 'color': '#7f3f52', 'notes': 'name : lucky-bar  \\nlat : 48.4267387  \\nlng :-123.3698349  \\n weight :4.0  \\nstart : 2013-03-08T20:00:00  \\nend : 2014-03-08T22:30:00  \\ncolor :#7f3f52  \\n  <a href=\"https://google.com/search?q=lucky-bar\" target=\"_blank\">lucky-bar</a>', 'start': '2013-03-08T20:00:00', 'lat': 48.4267387, 'lng': -123.3698349, 'id': 'lucky-bar48-123'}}, {'data': {'end': '2008-08-03T19:00:00', 'name': 'festival-grounds', 'weight': 1.0, 'color': '#7f663f', 'notes': 'name : festival-grounds  \\nlat : 48.2666667  \\nlng :7.45  \\n weight :1  \\nstart : 2008-08-02T19:00:00  \\nend : 2008-08-03T19:00:00  \\ncolor :#7f663f  \\n  <a href=\"https://google.com/search?q=festival-grounds\" target=\"_blank\">festival-grounds</a>', 'start': '2008-08-02T19:00:00', 'lat': 48.2666667, 'lng': 7.45, 'id': 'festival-grounds487'}}, {'data': {'end': '2012-05-30T19:00:00', 'name': 'larimer-lounge', 'weight': 1.0, 'color': '#723f7f', 'notes': 'name : larimer-lounge  \\nlat : 39.7598  \\nlng :-104.983749  \\n weight :1  \\nstart : 2012-05-29T19:00:00  \\nend : 2012-05-30T19:00:00  \\ncolor :#723f7f  \\n  <a href=\"https://google.com/search?q=larimer-lounge\" target=\"_blank\">larimer-lounge</a>', 'start': '2012-05-29T19:00:00', 'lat': 39.7598, 'lng': -104.983749, 'id': 'larimer-lounge39-104'}}, {'data': {'end': '2009-01-23T19:00:00', 'name': 'underworld-camden', 'weight': 1.0, 'color': '#5f7f3f', 'notes': 'name : underworld-camden  \\nlat : 51.538624  \\nlng :-0.142582  \\n weight :1  \\nstart : 2009-01-22T19:00:00  \\nend : 2009-01-23T19:00:00  \\ncolor :#5f7f3f  \\n  <a href=\"https://google.com/search?q=underworld-camden\" target=\"_blank\">underworld-camden</a>', 'start': '2009-01-22T19:00:00', 'lat': 51.538624, 'lng': -0.142582, 'id': 'underworld-camden510'}}, {'data': {'end': '2017-09-05T19:00:00', 'name': 'the-fleece-bristol', 'weight': 1.0, 'color': '#3f7f6c', 'notes': 'name : the-fleece-bristol  \\nlat : 51.449363  \\nlng :-2.588487  \\n weight :1  \\nstart : 2017-09-04T19:00:00  \\nend : 2017-09-05T19:00:00  \\ncolor :#3f7f6c  \\n  <a href=\"https://google.com/search?q=the-fleece-bristol\" target=\"_blank\">the-fleece-bristol</a>', 'start': '2017-09-04T19:00:00', 'lat': 51.449363, 'lng': -2.588487, 'id': 'the-fleece-bristol51-2'}}, {'data': {'end': '2012-07-28T19:00:00', 'name': 'greenville-festival', 'weight': 1.0, 'color': '#7f3f79', 'notes': 'name : greenville-festival  \\nlat : 52.5166667  \\nlng :13.4  \\n weight :1  \\nstart : 2012-07-27T19:00:00  \\nend : 2012-07-28T19:00:00  \\ncolor :#7f3f79  \\n  <a href=\"https://google.com/search?q=greenville-festival\" target=\"_blank\">greenville-festival</a>', 'start': '2012-07-27T19:00:00', 'lat': 52.5166667, 'lng': 13.4, 'id': 'greenville-festival5213'}}, {'data': {'end': '2007-07-16T00:00:00', 'name': 'richards', 'weight': 1.0, 'color': '#7f3f3f', 'notes': 'name : richards  \\nlat : 49.283348  \\nlng :-123.114574  \\n weight :1  \\nstart : 2007-07-15T00:00:00  \\nend : 2007-07-16T00:00:00  \\ncolor :#7f3f3f  \\n  <a href=\"https://google.com/search?q=richards\" target=\"_blank\">richards</a>', 'start': '2007-07-15T00:00:00', 'lat': 49.283348, 'lng': -123.114574, 'id': 'richards49-123'}}, {'data': {'end': '2012-06-23T20:00:00', 'name': 'bourbon-theatre', 'weight': 1.0, 'color': '#723f7f', 'notes': 'name : bourbon-theatre  \\nlat : 40.813592  \\nlng :-96.700783  \\n weight :1  \\nstart : 2012-06-22T20:00:00  \\nend : 2012-06-23T20:00:00  \\ncolor :#723f7f  \\n  <a href=\"https://google.com/search?q=bourbon-theatre\" target=\"_blank\">bourbon-theatre</a>', 'start': '2012-06-22T20:00:00', 'lat': 40.813592, 'lng': -96.700783, 'id': 'bourbon-theatre40-96'}}, {'data': {'end': '2009-01-28T19:00:00', 'name': 'la-chimere', 'weight': 1.0, 'color': '#5f7f3f', 'notes': 'name : la-chimere  \\nlat : 50.637185  \\nlng :3.06281  \\n weight :1  \\nstart : 2009-01-27T19:00:00  \\nend : 2009-01-28T19:00:00  \\ncolor :#5f7f3f  \\n  <a href=\"https://google.com/search?q=la-chimere\" target=\"_blank\">la-chimere</a>', 'start': '2009-01-27T19:00:00', 'lat': 50.637185, 'lng': 3.06281, 'id': 'la-chimere503'}}, {'data': {'end': '2012-01-21T19:00:00', 'name': 'radio-luxembourg', 'weight': 1.0, 'color': '#5f3f7f', 'notes': 'name : radio-luxembourg  \\nlat : 52.2373113  \\nlng :20.954622  \\n weight :1  \\nstart : 2012-01-20T19:00:00  \\nend : 2012-01-21T19:00:00  \\ncolor :#5f3f7f  \\n  <a href=\"https://google.com/search?q=radio-luxembourg\" target=\"_blank\">radio-luxembourg</a>', 'start': '2012-01-20T19:00:00', 'lat': 52.2373113, 'lng': 20.954622, 'id': 'radio-luxembourg5220'}}, {'data': {'end': '2014-07-28T12:00:00', 'name': 'zwarte-cross', 'weight': 1.0, 'color': '#7f3f3f', 'notes': 'name : zwarte-cross  \\nlat : 51.986715  \\nlng :6.55307  \\n weight :1  \\nstart : 2014-07-27T12:00:00  \\nend : 2014-07-28T12:00:00  \\ncolor :#7f3f3f  \\n  <a href=\"https://google.com/search?q=zwarte-cross\" target=\"_blank\">zwarte-cross</a>', 'start': '2014-07-27T12:00:00', 'lat': 51.986715, 'lng': 6.55307, 'id': 'zwarte-cross516'}}, {'data': {'end': '2009-02-15T19:00:00', 'name': 'magazzino-47', 'weight': 1.0, 'color': '#5f7f3f', 'notes': 'name : magazzino-47  \\nlat : 45.5434242  \\nlng :10.2007463  \\n weight :1  \\nstart : 2009-02-14T19:00:00  \\nend : 2009-02-15T19:00:00  \\ncolor :#5f7f3f  \\n  <a href=\"https://google.com/search?q=magazzino-47\" target=\"_blank\">magazzino-47</a>', 'start': '2009-02-14T19:00:00', 'lat': 45.5434242, 'lng': 10.2007463, 'id': 'magazzino-474510'}}, {'data': {'end': '2010-04-30T21:00:00', 'name': 'rock-star-live', 'weight': 1.0, 'color': '#3f7f7f', 'notes': 'name : rock-star-live  \\nlat : 43.29731  \\nlng :-2.985839  \\n weight :1  \\nstart : 2010-04-29T21:00:00  \\nend : 2010-04-30T21:00:00  \\ncolor :#3f7f7f  \\n  <a href=\"https://google.com/search?q=rock-star-live\" target=\"_blank\">rock-star-live</a>', 'start': '2010-04-29T21:00:00', 'lat': 43.29731, 'lng': -2.985839, 'id': 'rock-star-live43-2'}}, {'data': {'end': '2008-11-18T19:00:00', 'name': 'palazzo', 'weight': 1.0, 'color': '#727f3f', 'notes': 'name : palazzo  \\nlat : 46.8472821  \\nlng :9.527126  \\n weight :1  \\nstart : 2008-11-17T19:00:00  \\nend : 2008-11-18T19:00:00  \\ncolor :#727f3f  \\n  <a href=\"https://google.com/search?q=palazzo\" target=\"_blank\">palazzo</a>', 'start': '2008-11-17T19:00:00', 'lat': 46.8472821, 'lng': 9.527126, 'id': 'palazzo469'}}, {'data': {'end': '2017-05-13T19:00:00', 'name': 'bolwerk', 'weight': 1.4142135623730951, 'color': '#3f7f59', 'notes': 'name : bolwerk  \\nlat : 53.0333333  \\nlng :5.6666667  \\n weight :4.0  \\nstart : 2017-05-12T00:00:00  \\nend : 2017-05-13T19:00:00  \\ncolor :#3f7f59  \\n  <a href=\"https://google.com/search?q=bolwerk\" target=\"_blank\">bolwerk</a>', 'start': '2017-05-12T00:00:00', 'lat': 53.0333333, 'lng': 5.6666667, 'id': 'bolwerk535'}}, {'data': {'end': '2011-01-28T19:30:00', 'name': 'manchester-night-and-day-cafe', 'weight': 1.0, 'color': '#3f467f', 'notes': 'name : manchester-night-and-day-cafe  \\nlat : 53.482701  \\nlng :-2.23523  \\n weight :1  \\nstart : 2011-01-27T19:30:00  \\nend : 2011-01-28T19:30:00  \\ncolor :#3f467f  \\n  <a href=\"https://google.com/search?q=manchester-night-and-day-cafe\" target=\"_blank\">manchester-night-and-day-cafe</a>', 'start': '2011-01-27T19:30:00', 'lat': 53.482701, 'lng': -2.23523, 'id': 'manchester-night-and-day-cafe53-2'}}, {'data': {'end': '2017-09-07T19:00:00', 'name': 'trillians', 'weight': 1.0, 'color': '#3f7f6c', 'notes': 'name : trillians  \\nlat : 52.4333333  \\nlng :-3.1166667  \\n weight :1  \\nstart : 2017-09-06T19:00:00  \\nend : 2017-09-07T19:00:00  \\ncolor :#3f7f6c  \\n  <a href=\"https://google.com/search?q=trillians\" target=\"_blank\">trillians</a>', 'start': '2017-09-06T19:00:00', 'lat': 52.4333333, 'lng': -3.1166667, 'id': 'trillians52-3'}}, {'data': {'end': '2008-11-21T19:00:00', 'name': 'exhaus', 'weight': 1.0, 'color': '#727f3f', 'notes': 'name : exhaus  \\nlat : 49.769655  \\nlng :6.647966  \\n weight :1  \\nstart : 2008-11-20T19:00:00  \\nend : 2008-11-21T19:00:00  \\ncolor :#727f3f  \\n  <a href=\"https://google.com/search?q=exhaus\" target=\"_blank\">exhaus</a>', 'start': '2008-11-20T19:00:00', 'lat': 49.769655, 'lng': 6.647966, 'id': 'exhaus496'}}, {'data': {'end': '2012-06-07T19:00:00', 'name': 'tralf', 'weight': 1.0, 'color': '#723f7f', 'notes': 'name : tralf  \\nlat : 42.8910709  \\nlng :-78.873229  \\n weight :1  \\nstart : 2012-06-06T19:00:00  \\nend : 2012-06-07T19:00:00  \\ncolor :#723f7f  \\n  <a href=\"https://google.com/search?q=tralf\" target=\"_blank\">tralf</a>', 'start': '2012-06-06T19:00:00', 'lat': 42.8910709, 'lng': -78.873229, 'id': 'tralf42-78'}}, {'data': {'end': '2014-08-08T20:30:00', 'name': 'altes-hallenbad-feldkirch', 'weight': 1.0, 'color': '#7f3f3f', 'notes': 'name : altes-hallenbad-feldkirch  \\nlat : 47.2356162  \\nlng :9.5925665  \\n weight :1  \\nstart : 2014-08-07T20:30:00  \\nend : 2014-08-08T20:30:00  \\ncolor :#7f3f3f  \\n  <a href=\"https://google.com/search?q=altes-hallenbad-feldkirch\" target=\"_blank\">altes-hallenbad-feldkirch</a>', 'start': '2014-08-07T20:30:00', 'lat': 47.2356162, 'lng': 9.5925665, 'id': 'altes-hallenbad-feldkirch479'}}, {'data': {'end': '2012-07-31T20:15:00', 'name': 'hafenkneipe', 'weight': 1.0, 'color': '#7f3f79', 'notes': 'name : hafenkneipe  \\nlat : 47.3666667  \\nlng :8.55  \\n weight :1  \\nstart : 2012-07-30T20:15:00  \\nend : 2012-07-31T20:15:00  \\ncolor :#7f3f79  \\n  <a href=\"https://google.com/search?q=hafenkneipe\" target=\"_blank\">hafenkneipe</a>', 'start': '2012-07-30T20:15:00', 'lat': 47.3666667, 'lng': 8.55, 'id': 'hafenkneipe478'}}, {'data': {'end': '2017-05-28T20:00:00', 'name': 'the-viper-room', 'weight': 1.0, 'color': '#3f7f59', 'notes': 'name : the-viper-room  \\nlat : 34.090461  \\nlng :-118.384678  \\n weight :1  \\nstart : 2017-05-27T20:00:00  \\nend : 2017-05-28T20:00:00  \\ncolor :#3f7f59  \\n  <a href=\"https://google.com/search?q=the-viper-room\" target=\"_blank\">the-viper-room</a>', 'start': '2017-05-27T20:00:00', 'lat': 34.090461, 'lng': -118.384678, 'id': 'the-viper-room34-118'}}, {'data': {'end': '2007-07-30T00:00:00', 'name': 'le-national', 'weight': 1.0, 'color': '#7f3f3f', 'notes': 'name : le-national  \\nlat : 45.518493  \\nlng :-73.555875  \\n weight :1  \\nstart : 2007-07-29T00:00:00  \\nend : 2007-07-30T00:00:00  \\ncolor :#7f3f3f  \\n  <a href=\"https://google.com/search?q=le-national\" target=\"_blank\">le-national</a>', 'start': '2007-07-29T00:00:00', 'lat': 45.518493, 'lng': -73.555875, 'id': 'le-national45-73'}}, {'data': {'end': '2010-12-31T20:00:00', 'name': 'so-36', 'weight': 1.4142135623730951, 'color': '#3f467f', 'notes': 'name : so-36  \\nlat : 52.500373  \\nlng :13.422031  \\n weight :4.0  \\nstart : 2008-07-03T19:00:00  \\nend : 2010-12-31T20:00:00  \\ncolor :#3f467f  \\n  <a href=\"https://google.com/search?q=so-36\" target=\"_blank\">so-36</a>', 'start': '2008-07-03T19:00:00', 'lat': 52.500373, 'lng': 13.422031, 'id': 'so-365213'}}, {'data': {'end': '2007-08-22T20:00:00', 'name': 'thee-parkside', 'weight': 1.0, 'color': '#7f523f', 'notes': 'name : thee-parkside  \\nlat : 37.765171  \\nlng :-122.39989  \\n weight :1  \\nstart : 2007-08-21T20:00:00  \\nend : 2007-08-22T20:00:00  \\ncolor :#7f523f  \\n  <a href=\"https://google.com/search?q=thee-parkside\" target=\"_blank\">thee-parkside</a>', 'start': '2007-08-21T20:00:00', 'lat': 37.765171, 'lng': -122.39989, 'id': 'thee-parkside37-122'}}, {'data': {'end': '2015-03-12T19:00:00', 'name': 'abbey-pub', 'weight': 1.0, 'color': '#7f663f', 'notes': 'name : abbey-pub  \\nlat : 41.9503007  \\nlng :-87.7138068  \\n weight :1  \\nstart : 2015-03-11T19:00:00  \\nend : 2015-03-12T19:00:00  \\ncolor :#7f663f  \\n  <a href=\"https://google.com/search?q=abbey-pub\" target=\"_blank\">abbey-pub</a>', 'start': '2015-03-11T19:00:00', 'lat': 41.9503007, 'lng': -87.7138068, 'id': 'abbey-pub41-87'}}, {'data': {'end': '2015-04-04T21:00:00', 'name': 'vogue-theatre', 'weight': 1.0, 'color': '#7f663f', 'notes': 'name : vogue-theatre  \\nlat : 39.867298  \\nlng :-86.108002  \\n weight :1  \\nstart : 2015-04-03T21:00:00  \\nend : 2015-04-04T21:00:00  \\ncolor :#7f663f  \\n  <a href=\"https://google.com/search?q=vogue-theatre\" target=\"_blank\">vogue-theatre</a>', 'start': '2015-04-03T21:00:00', 'lat': 39.867298, 'lng': -86.108002, 'id': 'vogue-theatre39-86'}}, {'data': {'end': '2017-08-01T19:00:00', 'name': 'pub-pamela', 'weight': 1.0, 'color': '#3f7f6c', 'notes': 'name : pub-pamela  \\nlat : 51.5997009  \\nlng :18.9568195  \\n weight :1  \\nstart : 2017-07-31T19:00:00  \\nend : 2017-08-01T19:00:00  \\ncolor :#3f7f6c  \\n  <a href=\"https://google.com/search?q=pub-pamela\" target=\"_blank\">pub-pamela</a>', 'start': '2017-07-31T19:00:00', 'lat': 51.5997009, 'lng': 18.9568195, 'id': 'pub-pamela5118'}}, {'data': {'end': '2014-09-22T21:00:00', 'name': 'the-dive-bar', 'weight': 1.0, 'color': '#7f523f', 'notes': 'name : the-dive-bar  \\nlat : 36.113857  \\nlng :-115.137038  \\n weight :1  \\nstart : 2014-09-21T21:00:00  \\nend : 2014-09-22T21:00:00  \\ncolor :#7f523f  \\n  <a href=\"https://google.com/search?q=the-dive-bar\" target=\"_blank\">the-dive-bar</a>', 'start': '2014-09-21T21:00:00', 'lat': 36.113857, 'lng': -115.137038, 'id': 'the-dive-bar36-115'}}, {'data': {'end': '2012-06-03T20:30:00', 'name': 'mckracken-s-live', 'weight': 1.0, 'color': '#723f7f', 'notes': 'name : mckracken-s-live  \\nlat : 41.690294  \\nlng :-87.783879  \\n weight :1  \\nstart : 2012-06-02T20:30:00  \\nend : 2012-06-03T20:30:00  \\ncolor :#723f7f  \\n  <a href=\"https://google.com/search?q=mckracken-s-live\" target=\"_blank\">mckracken-s-live</a>', 'start': '2012-06-02T20:30:00', 'lat': 41.690294, 'lng': -87.783879, 'id': 'mckracken-s-live41-87'}}, {'data': {'end': '2017-05-27T19:00:00', 'name': 'tiki-bar', 'weight': 1.4142135623730951, 'color': '#3f7f59', 'notes': 'name : tiki-bar  \\nlat : 33.63618  \\nlng :-117.931825  \\n weight :4.0  \\nstart : 2015-11-06T20:00:00  \\nend : 2017-05-27T19:00:00  \\ncolor :#3f7f59  \\n  <a href=\"https://google.com/search?q=tiki-bar\" target=\"_blank\">tiki-bar</a>', 'start': '2015-11-06T20:00:00', 'lat': 33.63618, 'lng': -117.931825, 'id': 'tiki-bar33-117'}}, {'data': {'end': '2017-06-19T19:00:00', 'name': 'lindenpark', 'weight': 1.4142135623730951, 'color': '#3f7f59', 'notes': 'name : lindenpark  \\nlat : 52.391602  \\nlng :13.116557  \\n weight :4.0  \\nstart : 2008-11-22T19:00:00  \\nend : 2017-06-19T19:00:00  \\ncolor :#3f7f59  \\n  <a href=\"https://google.com/search?q=lindenpark\" target=\"_blank\">lindenpark</a>', 'start': '2008-11-22T19:00:00', 'lat': 52.391602, 'lng': 13.116557, 'id': 'lindenpark5213'}}, {'data': {'end': '2016-03-17T20:00:00', 'name': 'studio-nightclub', 'weight': 1.0, 'color': '#5f7f3f', 'notes': 'name : studio-nightclub  \\nlat : 49.696618  \\nlng :-112.8406126  \\n weight :1  \\nstart : 2016-03-16T20:00:00  \\nend : 2016-03-17T20:00:00  \\ncolor :#5f7f3f  \\n  <a href=\"https://google.com/search?q=studio-nightclub\" target=\"_blank\">studio-nightclub</a>', 'start': '2016-03-16T20:00:00', 'lat': 49.696618, 'lng': -112.8406126, 'id': 'studio-nightclub49-112'}}, {'data': {'end': '2017-05-21T20:00:00', 'name': 'the-john-st-pub', 'weight': 1.0, 'color': '#3f7f59', 'notes': 'name : the-john-st-pub  \\nlat : 45.433891  \\nlng :-76.353854  \\n weight :1  \\nstart : 2017-05-20T20:00:00  \\nend : 2017-05-21T20:00:00  \\ncolor :#3f7f59  \\n  <a href=\"https://google.com/search?q=the-john-st-pub\" target=\"_blank\">the-john-st-pub</a>', 'start': '2017-05-20T20:00:00', 'lat': 45.433891, 'lng': -76.353854, 'id': 'the-john-st-pub45-76'}}, {'data': {'end': '2016-03-24T19:00:00', 'name': 'bobby-s-place', 'weight': 1.0, 'color': '#5f7f3f', 'notes': 'name : bobby-s-place  \\nlat : 50.391663  \\nlng :-105.533282  \\n weight :1  \\nstart : 2016-03-23T19:00:00  \\nend : 2016-03-24T19:00:00  \\ncolor :#5f7f3f  \\n  <a href=\"https://google.com/search?q=bobby-s-place\" target=\"_blank\">bobby-s-place</a>', 'start': '2016-03-23T19:00:00', 'lat': 50.391663, 'lng': -105.533282, 'id': 'bobby-s-place50-105'}}, {'data': {'end': '2010-04-16T21:00:00', 'name': 'substage', 'weight': 1.0, 'color': '#3f7f7f', 'notes': 'name : substage  \\nlat : 49.01076  \\nlng :8.408695  \\n weight :1  \\nstart : 2010-04-15T21:00:00  \\nend : 2010-04-16T21:00:00  \\ncolor :#3f7f7f  \\n  <a href=\"https://google.com/search?q=substage\" target=\"_blank\">substage</a>', 'start': '2010-04-15T21:00:00', 'lat': 49.01076, 'lng': 8.408695, 'id': 'substage498'}}, {'data': {'end': '2012-08-11T19:00:00', 'name': 'donkey-rock-festival', 'weight': 1.0, 'color': '#7f3f79', 'notes': 'name : donkey-rock-festival  \\nlat : 49.609227  \\nlng :5.850519  \\n weight :1  \\nstart : 2012-08-10T19:00:00  \\nend : 2012-08-11T19:00:00  \\ncolor :#7f3f79  \\n  <a href=\"https://google.com/search?q=donkey-rock-festival\" target=\"_blank\">donkey-rock-festival</a>', 'start': '2012-08-10T19:00:00', 'lat': 49.609227, 'lng': 5.850519, 'id': 'donkey-rock-festival495'}}, {'data': {'end': '2008-07-16T19:00:00', 'name': 'molotow', 'weight': 1.0, 'color': '#7f663f', 'notes': 'name : molotow  \\nlat : 53.549456  \\nlng :9.966523  \\n weight :1  \\nstart : 2008-07-15T19:00:00  \\nend : 2008-07-16T19:00:00  \\ncolor :#7f663f  \\n  <a href=\"https://google.com/search?q=molotow\" target=\"_blank\">molotow</a>', 'start': '2008-07-15T19:00:00', 'lat': 53.549456, 'lng': 9.966523, 'id': 'molotow539'}}, {'data': {'end': '2012-06-21T19:00:00', 'name': 'outland-ballroom', 'weight': 1.0, 'color': '#723f7f', 'notes': 'name : outland-ballroom  \\nlat : 37.207839  \\nlng :-93.29213  \\n weight :1  \\nstart : 2012-06-20T19:00:00  \\nend : 2012-06-21T19:00:00  \\ncolor :#723f7f  \\n  <a href=\"https://google.com/search?q=outland-ballroom\" target=\"_blank\">outland-ballroom</a>', 'start': '2012-06-20T19:00:00', 'lat': 37.207839, 'lng': -93.29213, 'id': 'outland-ballroom37-93'}}, {'data': {'end': '2011-01-14T19:00:00', 'name': 'klubi-tampere', 'weight': 1.4142135623730951, 'color': '#3f467f', 'notes': 'name : klubi-tampere  \\nlat : 61.49849  \\nlng :23.776693  \\n weight :4.0  \\nstart : 2010-02-04T21:00:00  \\nend : 2011-01-14T19:00:00  \\ncolor :#3f467f  \\n  <a href=\"https://google.com/search?q=klubi-tampere\" target=\"_blank\">klubi-tampere</a>', 'start': '2010-02-04T21:00:00', 'lat': 61.49849, 'lng': 23.776693, 'id': 'klubi-tampere6123'}}, {'data': {'end': '2015-06-15T19:30:00', 'name': 'black-cat', 'weight': 1.0, 'color': '#7f793f', 'notes': 'name : black-cat  \\nlat : 38.891312  \\nlng :-77.033653  \\n weight :1  \\nstart : 2015-06-14T19:30:00  \\nend : 2015-06-15T19:30:00  \\ncolor :#7f793f  \\n  <a href=\"https://google.com/search?q=black-cat\" target=\"_blank\">black-cat</a>', 'start': '2015-06-14T19:30:00', 'lat': 38.891312, 'lng': -77.033653, 'id': 'black-cat38-77'}}, {'data': {'end': '2008-11-17T19:00:00', 'name': 'arcadia', 'weight': 1.0, 'color': '#727f3f', 'notes': 'name : arcadia  \\nlat : 45.55  \\nlng :11.55  \\n weight :1  \\nstart : 2008-11-16T19:00:00  \\nend : 2008-11-17T19:00:00  \\ncolor :#727f3f  \\n  <a href=\"https://google.com/search?q=arcadia\" target=\"_blank\">arcadia</a>', 'start': '2008-11-16T19:00:00', 'lat': 45.55, 'lng': 11.55, 'id': 'arcadia4511'}}, {'data': {'end': '2012-01-13T19:00:00', 'name': 'le-tigre', 'weight': 1.0, 'color': '#5f3f7f', 'notes': 'name : le-tigre  \\nlat : 48.2568588  \\nlng :7.4528036  \\n weight :1  \\nstart : 2012-01-12T19:00:00  \\nend : 2012-01-13T19:00:00  \\ncolor :#5f3f7f  \\n  <a href=\"https://google.com/search?q=le-tigre\" target=\"_blank\">le-tigre</a>', 'start': '2012-01-12T19:00:00', 'lat': 48.2568588, 'lng': 7.4528036, 'id': 'le-tigre487'}}, {'data': {'end': '2010-06-04T20:00:00', 'name': 'spring-storm-tour', 'weight': 1.0, 'color': '#3f6c7f', 'notes': 'name : spring-storm-tour  \\nlat : 48.97107  \\nlng :14.47945  \\n weight :1  \\nstart : 2010-06-03T20:00:00  \\nend : 2010-06-04T20:00:00  \\ncolor :#3f6c7f  \\n  <a href=\"https://google.com/search?q=spring-storm-tour\" target=\"_blank\">spring-storm-tour</a>', 'start': '2010-06-03T20:00:00', 'lat': 48.97107, 'lng': 14.47945, 'id': 'spring-storm-tour4814'}}, {'data': {'end': '2011-12-23T19:00:00', 'name': 'the-albert', 'weight': 1.0, 'color': '#5f3f7f', 'notes': 'name : the-albert  \\nlat : 50.82829  \\nlng :-0.139434  \\n weight :1  \\nstart : 2011-12-22T19:00:00  \\nend : 2011-12-23T19:00:00  \\ncolor :#5f3f7f  \\n  <a href=\"https://google.com/search?q=the-albert\" target=\"_blank\">the-albert</a>', 'start': '2011-12-22T19:00:00', 'lat': 50.82829, 'lng': -0.139434, 'id': 'the-albert500'}}, {'data': {'end': '2008-11-16T19:00:00', 'name': 'flog', 'weight': 1.0, 'color': '#727f3f', 'notes': 'name : flog  \\nlat : 43.828309  \\nlng :11.287416  \\n weight :1  \\nstart : 2008-11-15T19:00:00  \\nend : 2008-11-16T19:00:00  \\ncolor :#727f3f  \\n  <a href=\"https://google.com/search?q=flog\" target=\"_blank\">flog</a>', 'start': '2008-11-15T19:00:00', 'lat': 43.828309, 'lng': 11.287416, 'id': 'flog4311'}}, {'data': {'end': '2017-09-13T19:00:00', 'name': 'owl-sanctuary', 'weight': 1.0, 'color': '#3f7f6c', 'notes': 'name : owl-sanctuary  \\nlat : 52.6275177  \\nlng :1.2980658  \\n weight :1  \\nstart : 2017-09-12T19:00:00  \\nend : 2017-09-13T19:00:00  \\ncolor :#3f7f6c  \\n  <a href=\"https://google.com/search?q=owl-sanctuary\" target=\"_blank\">owl-sanctuary</a>', 'start': '2017-09-12T19:00:00', 'lat': 52.6275177, 'lng': 1.2980658, 'id': 'owl-sanctuary521'}}, {'data': {'end': '2016-07-30T12:00:00', 'name': 'xtreme-fest', 'weight': 1.0, 'color': '#4c7f3f', 'notes': 'name : xtreme-fest  \\nlat : 43.9333333  \\nlng :2.15  \\n weight :1  \\nstart : 2016-07-29T12:00:00  \\nend : 2016-07-30T12:00:00  \\ncolor :#4c7f3f  \\n  <a href=\"https://google.com/search?q=xtreme-fest\" target=\"_blank\">xtreme-fest</a>', 'start': '2016-07-29T12:00:00', 'lat': 43.9333333, 'lng': 2.15, 'id': 'xtreme-fest432'}}, {'data': {'end': '2012-06-09T21:00:00', 'name': 'the-bell-house', 'weight': 1.0, 'color': '#723f7f', 'notes': 'name : the-bell-house  \\nlat : 40.673161  \\nlng :-73.990726  \\n weight :1  \\nstart : 2012-06-08T21:00:00  \\nend : 2012-06-09T21:00:00  \\ncolor :#723f7f  \\n  <a href=\"https://google.com/search?q=the-bell-house\" target=\"_blank\">the-bell-house</a>', 'start': '2012-06-08T21:00:00', 'lat': 40.673161, 'lng': -73.990726, 'id': 'the-bell-house40-73'}}, {'data': {'end': '2012-05-26T20:00:00', 'name': 'house-of-blues-sunset-strip', 'weight': 1.0, 'color': '#723f7f', 'notes': 'name : house-of-blues-sunset-strip  \\nlat : 34.0949114  \\nlng :-118.3736012  \\n weight :1  \\nstart : 2012-05-25T20:00:00  \\nend : 2012-05-26T20:00:00  \\ncolor :#723f7f  \\n  <a href=\"https://google.com/search?q=house-of-blues-sunset-strip\" target=\"_blank\">house-of-blues-sunset-strip</a>', 'start': '2012-05-25T20:00:00', 'lat': 34.0949114, 'lng': -118.3736012, 'id': 'house-of-blues-sunset-strip34-118'}}, {'data': {'end': '2015-06-18T20:00:00', 'name': 'hard-rock-cafe-pittsburgh', 'weight': 1.0, 'color': '#7f793f', 'notes': 'name : hard-rock-cafe-pittsburgh  \\nlat : 40.433884  \\nlng :-80.005004  \\n weight :1  \\nstart : 2015-06-17T20:00:00  \\nend : 2015-06-18T20:00:00  \\ncolor :#7f793f  \\n  <a href=\"https://google.com/search?q=hard-rock-cafe-pittsburgh\" target=\"_blank\">hard-rock-cafe-pittsburgh</a>', 'start': '2015-06-17T20:00:00', 'lat': 40.433884, 'lng': -80.005004, 'id': 'hard-rock-cafe-pittsburgh40-80'}}, {'data': {'end': '2017-05-17T19:00:00', 'name': 'red-dog-tavern', 'weight': 1.0, 'color': '#3f7f59', 'notes': 'name : red-dog-tavern  \\nlat : 44.30559  \\nlng :-78.32162  \\n weight :1  \\nstart : 2017-05-16T19:00:00  \\nend : 2017-05-17T19:00:00  \\ncolor :#3f7f59  \\n  <a href=\"https://google.com/search?q=red-dog-tavern\" target=\"_blank\">red-dog-tavern</a>', 'start': '2017-05-16T19:00:00', 'lat': 44.30559, 'lng': -78.32162, 'id': 'red-dog-tavern44-78'}}, {'data': {'end': '2008-11-25T19:00:00', 'name': 'perron-55', 'weight': 1.0, 'color': '#727f3f', 'notes': 'name : perron-55  \\nlat : 51.372421  \\nlng :6.17286  \\n weight :1  \\nstart : 2008-11-24T19:00:00  \\nend : 2008-11-25T19:00:00  \\ncolor :#727f3f  \\n  <a href=\"https://google.com/search?q=perron-55\" target=\"_blank\">perron-55</a>', 'start': '2008-11-24T19:00:00', 'lat': 51.372421, 'lng': 6.17286, 'id': 'perron-55516'}}, {'data': {'end': '2010-04-23T21:00:00', 'name': 'musikbunker-aachen-e-v', 'weight': 1.0, 'color': '#3f7f7f', 'notes': 'name : musikbunker-aachen-e-v  \\nlat : 50.767401  \\nlng :6.103966  \\n weight :1  \\nstart : 2010-04-22T21:00:00  \\nend : 2010-04-23T21:00:00  \\ncolor :#3f7f7f  \\n  <a href=\"https://google.com/search?q=musikbunker-aachen-e-v\" target=\"_blank\">musikbunker-aachen-e-v</a>', 'start': '2010-04-22T21:00:00', 'lat': 50.767401, 'lng': 6.103966, 'id': 'musikbunker-aachen-e-v506'}}, {'data': {'end': '2015-06-21T19:00:00', 'name': 'amnesia-rock-fest-2015', 'weight': 1.0, 'color': '#7f793f', 'notes': 'name : amnesia-rock-fest-2015  \\nlat : 45.65  \\nlng :-74.9333333  \\n weight :1  \\nstart : 2015-06-20T19:00:00  \\nend : 2015-06-21T19:00:00  \\ncolor :#7f793f  \\n  <a href=\"https://google.com/search?q=amnesia-rock-fest-2015\" target=\"_blank\">amnesia-rock-fest-2015</a>', 'start': '2015-06-20T19:00:00', 'lat': 45.65, 'lng': -74.9333333, 'id': 'amnesia-rock-fest-201545-74'}}, {'data': {'end': '2016-03-23T19:00:00', 'name': 'mcnally-s-tavern', 'weight': 1.0, 'color': '#5f7f3f', 'notes': 'name : mcnally-s-tavern  \\nlat : 50.455321  \\nlng :-104.612737  \\n weight :1  \\nstart : 2016-03-22T19:00:00  \\nend : 2016-03-23T19:00:00  \\ncolor :#5f7f3f  \\n  <a href=\"https://google.com/search?q=mcnally-s-tavern\" target=\"_blank\">mcnally-s-tavern</a>', 'start': '2016-03-22T19:00:00', 'lat': 50.455321, 'lng': -104.612737, 'id': 'mcnally-s-tavern50-104'}}, {'data': {'end': '2012-06-17T19:00:00', 'name': 'la-grange', 'weight': 1.0, 'color': '#723f7f', 'notes': 'name : la-grange  \\nlat : 32.784563  \\nlng :-96.784175  \\n weight :1  \\nstart : 2012-06-16T19:00:00  \\nend : 2012-06-17T19:00:00  \\ncolor :#723f7f  \\n  <a href=\"https://google.com/search?q=la-grange\" target=\"_blank\">la-grange</a>', 'start': '2012-06-16T19:00:00', 'lat': 32.784563, 'lng': -96.784175, 'id': 'la-grange32-96'}}, {'data': {'end': '2015-05-07T20:30:00', 'name': 'le-ferrailleur', 'weight': 1.0, 'color': '#7f793f', 'notes': 'name : le-ferrailleur  \\nlat : 47.2014677  \\nlng :-1.5411258  \\n weight :1  \\nstart : 2015-05-06T20:30:00  \\nend : 2015-05-07T20:30:00  \\ncolor :#7f793f  \\n  <a href=\"https://google.com/search?q=le-ferrailleur\" target=\"_blank\">le-ferrailleur</a>', 'start': '2015-05-06T20:30:00', 'lat': 47.2014677, 'lng': -1.5411258, 'id': 'le-ferrailleur47-1'}}, {'data': {'end': '2008-11-24T19:00:00', 'name': 'nachtleben', 'weight': 1.0, 'color': '#727f3f', 'notes': 'name : nachtleben  \\nlat : 50.114069  \\nlng :8.687616  \\n weight :1  \\nstart : 2008-11-23T19:00:00  \\nend : 2008-11-24T19:00:00  \\ncolor :#727f3f  \\n  <a href=\"https://google.com/search?q=nachtleben\" target=\"_blank\">nachtleben</a>', 'start': '2008-11-23T19:00:00', 'lat': 50.114069, 'lng': 8.687616, 'id': 'nachtleben508'}}, {'data': {'end': '2009-02-04T19:00:00', 'name': 'gleis-22', 'weight': 1.0, 'color': '#5f7f3f', 'notes': 'name : gleis-22  \\nlat : 51.9535777  \\nlng :7.6312305  \\n weight :1  \\nstart : 2009-02-03T19:00:00  \\nend : 2009-02-04T19:00:00  \\ncolor :#5f7f3f  \\n  <a href=\"https://google.com/search?q=gleis-22\" target=\"_blank\">gleis-22</a>', 'start': '2009-02-03T19:00:00', 'lat': 51.9535777, 'lng': 7.6312305, 'id': 'gleis-22517'}}, {'data': {'end': '2015-11-01T21:00:00', 'name': 'doug-fir-lounge', 'weight': 1.4142135623730951, 'color': '#727f3f', 'notes': 'name : doug-fir-lounge  \\nlat : 45.522789  \\nlng :-122.657333  \\n weight :4.0  \\nstart : 2012-05-19T21:00:00  \\nend : 2015-11-01T21:00:00  \\ncolor :#727f3f  \\n  <a href=\"https://google.com/search?q=doug-fir-lounge\" target=\"_blank\">doug-fir-lounge</a>', 'start': '2012-05-19T21:00:00', 'lat': 45.522789, 'lng': -122.657333, 'id': 'doug-fir-lounge45-122'}}, {'data': {'end': '2012-05-02T19:00:00', 'name': 'the-music-hall', 'weight': 1.0, 'color': '#723f7f', 'notes': 'name : the-music-hall  \\nlat : 42.984018  \\nlng :-81.249121  \\n weight :1  \\nstart : 2012-05-01T19:00:00  \\nend : 2012-05-02T19:00:00  \\ncolor :#723f7f  \\n  <a href=\"https://google.com/search?q=the-music-hall\" target=\"_blank\">the-music-hall</a>', 'start': '2012-05-01T19:00:00', 'lat': 42.984018, 'lng': -81.249121, 'id': 'the-music-hall42-81'}}, {'data': {'end': '2008-07-23T19:00:00', 'name': 'dynamo-werk-21', 'weight': 1.0, 'color': '#7f663f', 'notes': 'name : dynamo-werk-21  \\nlat : 47.3833038  \\nlng :8.5393044  \\n weight :1  \\nstart : 2008-07-22T19:00:00  \\nend : 2008-07-23T19:00:00  \\ncolor :#7f663f  \\n  <a href=\"https://google.com/search?q=dynamo-werk-21\" target=\"_blank\">dynamo-werk-21</a>', 'start': '2008-07-22T19:00:00', 'lat': 47.3833038, 'lng': 8.5393044, 'id': 'dynamo-werk-21478'}}, {'data': {'end': '2014-09-14T21:00:00', 'name': 'dante-s', 'weight': 1.4142135623730951, 'color': '#7f523f', 'notes': 'name : dante-s  \\nlat : 45.522898  \\nlng :-122.673877  \\n weight :4.0  \\nstart : 2007-09-01T00:00:00  \\nend : 2014-09-14T21:00:00  \\ncolor :#7f523f  \\n  <a href=\"https://google.com/search?q=dante-s\" target=\"_blank\">dante-s</a>', 'start': '2007-09-01T00:00:00', 'lat': 45.522898, 'lng': -122.673877, 'id': 'dante-s45-122'}}, {'data': {'end': '2012-01-01T19:00:00', 'name': 'estraperlo-club', 'weight': 1.0, 'color': '#5f3f7f', 'notes': 'name : estraperlo-club  \\nlat : 41.458854  \\nlng :2.261201  \\n weight :1  \\nstart : 2011-12-31T19:00:00  \\nend : 2012-01-01T19:00:00  \\ncolor :#5f3f7f  \\n  <a href=\"https://google.com/search?q=estraperlo-club\" target=\"_blank\">estraperlo-club</a>', 'start': '2011-12-31T19:00:00', 'lat': 41.458854, 'lng': 2.261201, 'id': 'estraperlo-club412'}}, {'data': {'end': '2017-03-10T00:00:00', 'name': 'will-s-pub', 'weight': 1.0, 'color': '#3f7f46', 'notes': 'name : will-s-pub  \\nlat : 28.5380556  \\nlng :-81.3794444  \\n weight :1  \\nstart : 2017-03-09T00:00:00  \\nend : 2017-03-10T00:00:00  \\ncolor :#3f7f46  \\n  <a href=\"https://google.com/search?q=will-s-pub\" target=\"_blank\">will-s-pub</a>', 'start': '2017-03-09T00:00:00', 'lat': 28.5380556, 'lng': -81.3794444, 'id': 'will-s-pub28-81'}}, {'data': {'end': '2017-09-08T19:00:00', 'name': 'beat-generator-live', 'weight': 1.0, 'color': '#3f7f6c', 'notes': 'name : beat-generator-live  \\nlat : 56.461023  \\nlng :-2.976708  \\n weight :1  \\nstart : 2017-09-07T19:00:00  \\nend : 2017-09-08T19:00:00  \\ncolor :#3f7f6c  \\n  <a href=\"https://google.com/search?q=beat-generator-live\" target=\"_blank\">beat-generator-live</a>', 'start': '2017-09-07T19:00:00', 'lat': 56.461023, 'lng': -2.976708, 'id': 'beat-generator-live56-2'}}, {'data': {'end': '2017-08-05T00:00:00', 'name': 'rebellion', 'weight': 1.0, 'color': '#3f7f6c', 'notes': 'name : rebellion  \\nlat : 53.825069  \\nlng :-3.02075  \\n weight :1  \\nstart : 2017-08-04T00:00:00  \\nend : 2017-08-05T00:00:00  \\ncolor :#3f7f6c  \\n  <a href=\"https://google.com/search?q=rebellion\" target=\"_blank\">rebellion</a>', 'start': '2017-08-04T00:00:00', 'lat': 53.825069, 'lng': -3.02075, 'id': 'rebellion53-3'}}, {'data': {'end': '2007-07-22T00:00:00', 'name': 'the-garrick-centre', 'weight': 1.0, 'color': '#7f3f3f', 'notes': 'name : the-garrick-centre  \\nlat : 49.894901  \\nlng :-97.141373  \\n weight :1  \\nstart : 2007-07-21T00:00:00  \\nend : 2007-07-22T00:00:00  \\ncolor :#7f3f3f  \\n  <a href=\"https://google.com/search?q=the-garrick-centre\" target=\"_blank\">the-garrick-centre</a>', 'start': '2007-07-21T00:00:00', 'lat': 49.894901, 'lng': -97.141373, 'id': 'the-garrick-centre49-97'}}, {'data': {'end': '2016-03-20T19:00:00', 'name': 'fratters-speakeasy', 'weight': 1.0, 'color': '#5f7f3f', 'notes': 'name : fratters-speakeasy  \\nlat : 52.267287  \\nlng :-113.817281  \\n weight :1  \\nstart : 2016-03-19T19:00:00  \\nend : 2016-03-20T19:00:00  \\ncolor :#5f7f3f  \\n  <a href=\"https://google.com/search?q=fratters-speakeasy\" target=\"_blank\">fratters-speakeasy</a>', 'start': '2016-03-19T19:00:00', 'lat': 52.267287, 'lng': -113.817281, 'id': 'fratters-speakeasy52-113'}}, {'data': {'end': '2008-07-07T19:00:00', 'name': 'patronaat', 'weight': 1.0, 'color': '#7f663f', 'notes': 'name : patronaat  \\nlat : 52.3666667  \\nlng :4.65  \\n weight :1  \\nstart : 2008-07-06T19:00:00  \\nend : 2008-07-07T19:00:00  \\ncolor :#7f663f  \\n  <a href=\"https://google.com/search?q=patronaat\" target=\"_blank\">patronaat</a>', 'start': '2008-07-06T19:00:00', 'lat': 52.3666667, 'lng': 4.65, 'id': 'patronaat524'}}, {'data': {'end': '2017-03-13T00:00:00', 'name': 'francis-field', 'weight': 1.4142135623730951, 'color': '#3f7f46', 'notes': 'name : francis-field  \\nlat : 29.8992425  \\nlng :-81.3168659  \\n weight :4.0  \\nstart : 2017-03-11T00:00:00  \\nend : 2017-03-13T00:00:00  \\ncolor :#3f7f46  \\n  <a href=\"https://google.com/search?q=francis-field\" target=\"_blank\">francis-field</a>', 'start': '2017-03-11T00:00:00', 'lat': 29.8992425, 'lng': -81.3168659, 'id': 'francis-field29-81'}}, {'data': {'end': '2010-05-29T21:00:00', 'name': 'knust', 'weight': 1.0, 'color': '#3f6c7f', 'notes': 'name : knust  \\nlat : 53.55  \\nlng :10.0  \\n weight :1  \\nstart : 2010-05-28T21:00:00  \\nend : 2010-05-29T21:00:00  \\ncolor :#3f6c7f  \\n  <a href=\"https://google.com/search?q=knust\" target=\"_blank\">knust</a>', 'start': '2010-05-28T21:00:00', 'lat': 53.55, 'lng': 10.0, 'id': 'knust5310'}}, {'data': {'end': '2015-05-30T16:00:00', 'name': 'full-tension-festival', 'weight': 1.0, 'color': '#7f793f', 'notes': 'name : full-tension-festival  \\nlat : 46.483659  \\nlng :11.339374  \\n weight :1  \\nstart : 2015-05-29T16:00:00  \\nend : 2015-05-30T16:00:00  \\ncolor :#7f793f  \\n  <a href=\"https://google.com/search?q=full-tension-festival\" target=\"_blank\">full-tension-festival</a>', 'start': '2015-05-29T16:00:00', 'lat': 46.483659, 'lng': 11.339374, 'id': 'full-tension-festival4611'}}, {'data': {'end': '2017-03-20T19:00:00', 'name': 'international-beer-haus-stage', 'weight': 1.0, 'color': '#3f7f46', 'notes': 'name : international-beer-haus-stage  \\nlat : 52.26711  \\nlng :-113.815864  \\n weight :1  \\nstart : 2017-03-19T19:00:00  \\nend : 2017-03-20T19:00:00  \\ncolor :#3f7f46  \\n  <a href=\"https://google.com/search?q=international-beer-haus-stage\" target=\"_blank\">international-beer-haus-stage</a>', 'start': '2017-03-19T19:00:00', 'lat': 52.26711, 'lng': -113.815864, 'id': 'international-beer-haus-stage52-113'}}, {'data': {'end': '2017-09-10T19:00:00', 'name': 'nice-n-sleazy', 'weight': 1.0, 'color': '#3f7f6c', 'notes': 'name : nice-n-sleazy  \\nlat : 55.865923  \\nlng :-4.269046  \\n weight :1  \\nstart : 2017-09-09T19:00:00  \\nend : 2017-09-10T19:00:00  \\ncolor :#3f7f6c  \\n  <a href=\"https://google.com/search?q=nice-n-sleazy\" target=\"_blank\">nice-n-sleazy</a>', 'start': '2017-09-09T19:00:00', 'lat': 55.865923, 'lng': -4.269046, 'id': 'nice-n-sleazy55-4'}}, {'data': {'end': '2017-06-12T19:00:00', 'name': 'alte-hackerei', 'weight': 1.0, 'color': '#3f7f59', 'notes': 'name : alte-hackerei  \\nlat : 49.006365  \\nlng :8.430593  \\n weight :1  \\nstart : 2017-06-11T19:00:00  \\nend : 2017-06-12T19:00:00  \\ncolor :#3f7f59  \\n  <a href=\"https://google.com/search?q=alte-hackerei\" target=\"_blank\">alte-hackerei</a>', 'start': '2017-06-11T19:00:00', 'lat': 49.006365, 'lng': 8.430593, 'id': 'alte-hackerei498'}}, {'data': {'end': '2015-10-31T21:00:00', 'name': 'el-corazon', 'weight': 1.5537739740300374, 'color': '#727f3f', 'notes': 'name : el-corazon  \\nlat : 47.618743  \\nlng :-122.32939  \\n weight :5.82842712475  \\nstart : 2012-05-18T21:00:00  \\nend : 2015-10-31T21:00:00  \\ncolor :#727f3f  \\n  <a href=\"https://google.com/search?q=el-corazon\" target=\"_blank\">el-corazon</a>', 'start': '2012-05-18T21:00:00', 'lat': 47.618743, 'lng': -122.32939, 'id': 'el-corazon47-122'}}, {'data': {'end': '2008-07-15T19:00:00', 'name': 'sonic-ballroom', 'weight': 1.0, 'color': '#7f663f', 'notes': 'name : sonic-ballroom  \\nlat : 50.949107  \\nlng :6.907389  \\n weight :1  \\nstart : 2008-07-14T19:00:00  \\nend : 2008-07-15T19:00:00  \\ncolor :#7f663f  \\n  <a href=\"https://google.com/search?q=sonic-ballroom\" target=\"_blank\">sonic-ballroom</a>', 'start': '2008-07-14T19:00:00', 'lat': 50.949107, 'lng': 6.907389, 'id': 'sonic-ballroom506'}}, {'data': {'end': '2013-03-14T20:00:00', 'name': 'habitat', 'weight': 1.0, 'color': '#7f3f65', 'notes': 'name : habitat  \\nlat : 49.886815  \\nlng :-119.496599  \\n weight :1  \\nstart : 2013-03-13T20:00:00  \\nend : 2013-03-14T20:00:00  \\ncolor :#7f3f65  \\n  <a href=\"https://google.com/search?q=habitat\" target=\"_blank\">habitat</a>', 'start': '2013-03-13T20:00:00', 'lat': 49.886815, 'lng': -119.496599, 'id': 'habitat49-119'}}, {'data': {'end': '2015-06-13T19:00:00', 'name': 'kungfu-necktie', 'weight': 1.4142135623730951, 'color': '#7f793f', 'notes': 'name : kungfu-necktie  \\nlat : 39.969624  \\nlng :-75.136173  \\n weight :4.0  \\nstart : 2012-06-09T18:00:00  \\nend : 2015-06-13T19:00:00  \\ncolor :#7f793f  \\n  <a href=\"https://google.com/search?q=kungfu-necktie\" target=\"_blank\">kungfu-necktie</a>', 'start': '2012-06-09T18:00:00', 'lat': 39.969624, 'lng': -75.136173, 'id': 'kungfu-necktie39-75'}}, {'data': {'end': '2009-03-25T19:30:00', 'name': 'brighton-concorde-2', 'weight': 1.0, 'color': '#4c7f3f', 'notes': 'name : brighton-concorde-2  \\nlat : 50.817255  \\nlng :-0.122522  \\n weight :1  \\nstart : 2009-03-24T19:30:00  \\nend : 2009-03-25T19:30:00  \\ncolor :#4c7f3f  \\n  <a href=\"https://google.com/search?q=brighton-concorde-2\" target=\"_blank\">brighton-concorde-2</a>', 'start': '2009-03-24T19:30:00', 'lat': 50.817255, 'lng': -0.122522, 'id': 'brighton-concorde-2500'}}]]\n"
     ]
    }
   ],
   "source": [
    "print DEBUG[:2]\n"
   ]
  },
  {
   "cell_type": "code",
   "execution_count": null,
   "metadata": {
    "collapsed": true
   },
   "outputs": [],
   "source": []
  }
 ],
 "metadata": {
  "kernelspec": {
   "display_name": "Python 2",
   "language": "python",
   "name": "python2"
  },
  "language_info": {
   "codemirror_mode": {
    "name": "ipython",
    "version": 2
   },
   "file_extension": ".py",
   "mimetype": "text/x-python",
   "name": "python",
   "nbconvert_exporter": "python",
   "pygments_lexer": "ipython2",
   "version": "2.7.16+"
  }
 },
 "nbformat": 4,
 "nbformat_minor": 2
}
