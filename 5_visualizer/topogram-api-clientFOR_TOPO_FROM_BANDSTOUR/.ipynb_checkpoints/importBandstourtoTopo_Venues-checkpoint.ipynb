{
 "cells": [
  {
   "cell_type": "code",
   "execution_count": 1,
   "metadata": {
    "collapsed": true
   },
   "outputs": [],
   "source": [
    "#!/usr/bin/env python\n",
    "# -*- coding: utf-8 -*-\n",
    "\n",
    "from topogram_client import TopogramAPIClient\n",
    "\n",
    "from csv import DictReader\n",
    "import os\n",
    "import json\n",
    "import pymongo\n",
    "#import musicbrainzngs\n",
    "import arrow\n",
    "from datetime import datetime\n",
    "from pymongo import MongoClient\n",
    "from collections import defaultdict\n",
    "from dateutil import parser\n",
    "from datetime import timedelta\n",
    "import pickle\n",
    "import time\n",
    "from slugify import slugify"
   ]
  },
  {
   "cell_type": "code",
   "execution_count": 2,
   "metadata": {
    "collapsed": true
   },
   "outputs": [],
   "source": [
    "import colorsys\n",
    "def get_N_HexCol(N=20):\n",
    "\n",
    "    HSV_tuples = [(x*1.0/N, 0.5, 0.5) for x in xrange(N)]\n",
    "    hex_out = []\n",
    "    for rgb in HSV_tuples:\n",
    "        rgb = map(lambda x: int(x*255),colorsys.hsv_to_rgb(*rgb))\n",
    "        hex_out.append(\"\".join(map(lambda x: chr(x).encode('hex'),rgb)))\n",
    "    return hex_out"
   ]
  },
  {
   "cell_type": "code",
   "execution_count": 3,
   "metadata": {
    "collapsed": true
   },
   "outputs": [],
   "source": [
    "def create_topogram(title, nodes, edges):\n",
    "\n",
    "    print \"Creating topogram '%s'\"%title\n",
    "\n",
    "    try :\n",
    "        r = topogram.create_topogram(title)\n",
    "    except ValueError:\n",
    "        print '> Topogram already exists'\n",
    "        r = topogram.get_topogram_by_name(title)\n",
    "    print r\n",
    "    topogram_ID = r[\"data\"][\"_id\"]\n",
    "    print \"topogram ID : %s\"%topogram_ID\n",
    "\n",
    "    # get and backup existing nodes and edges\n",
    "    existing_nodes = topogram.get_nodes(topogram_ID)[\"data\"]\n",
    "    existing_edges = topogram.get_edges(topogram_ID)[\"data\"]\n",
    "\n",
    "    # clear existing graph\n",
    "    if len(existing_nodes):\n",
    "        topogram.delete_nodes([n[\"_id\"] for n in existing_nodes])\n",
    "        print \"%s nodes deleted\"%len(existing_nodes)\n",
    "    if len(existing_edges):\n",
    "        topogram.delete_edges([n[\"_id\"] for n in existing_edges])\n",
    "        print \"%s edges deleted\"%len(existing_edges)\n",
    "\n",
    "    r = topogram.create_nodes(topogram_ID, nodes)\n",
    "    print r\n",
    "    print \"%s nodes created.\"%len(r[\"data\"])\n",
    "    r = topogram.create_edges(topogram_ID, edges)\n",
    "    print \"%s edges created.\"%len(r[\"data\"])\n",
    "\n",
    "    print \"done. Topogram has been updated. Check it at %s/topograms/%s\"%(TOPOGRAM_URL, topogram_ID)\n",
    "\n"
   ]
  },
  {
   "cell_type": "code",
   "execution_count": 69,
   "metadata": {
    "scrolled": true
   },
   "outputs": [
    {
     "name": "stdout",
     "output_type": "stream",
     "text": [
      "Tiësto\n",
      "Infected Mushroom\n",
      "Dubfire\n",
      "Cosmic Gate\n",
      "Mark Knight\n",
      "NERVO\n",
      "Laidback Luke\n",
      "Jazz\n",
      "Chuckie\n",
      "Markus Schulz\n",
      "Legends\n",
      "Ferry Corsten\n",
      "Steve Aoki\n"
     ]
    }
   ],
   "source": [
    "import math\n",
    "# setup mongo\n",
    "client = MongoClient()\n",
    "db = client[\"bandstour\"]\n",
    "bandsintown =  db[\"minedArtists\"]\n",
    "\n",
    "# credentials\n",
    "TOPOGRAM_URL = \"https://app.topogram.io\"\n",
    "USER = \"gregory.bahde@laposte.net\"\n",
    "PASSWORD = \"matrix\"\n",
    "\n",
    "# data\n",
    "title = \"Foo Fighters bandstour 0.1\"\n",
    "my_nodesdict = {}\n",
    "my_nodes= []\n",
    "my_edges = []\n",
    "my_edgesdict = {}\n",
    "\n",
    "# date parsing\n",
    "DATETIME_FORMAT = '%Y-%m-%dT%H:%M:%S'\n",
    "DATETIME_FORMAT_FOR_MSBNZ ='%Y-%m-%d'\n",
    "\n",
    "#retrieve trip coords for each artist\n",
    "dict_coords={}\n",
    "colors_for_nodes_and_edges = get_N_HexCol()\n",
    "\n",
    "for artist in db.minedArtists.find({\"totalKm\": {\"$gte\": 2000000}}) :\n",
    " title = artist[\"name\"]   \n",
    " if os.path.exists(\"./bands_dicts/\"+artist[\"name\"]+\".obj\")==True:\n",
    "        print \"SKIPPED\",artist[\"name\"]\n",
    "        pass\n",
    " else:\n",
    "    my_nodesdict = {}\n",
    "    my_nodes= []\n",
    "    my_edges = []\n",
    "    my_nodesdictList=[]\n",
    "    my_edgesdict = {}\n",
    "    #colors_for_nodes_and_edges = get_N_HexCol()\n",
    "    \n",
    "    print artist[\"name\"]\n",
    "    #print artist\n",
    "    dates_coords = []\n",
    "    dates = artist.get(\"gigs\")\n",
    "    tours = artist.get(\"tours\")    \n",
    "    singlegigs = artist.get(\"singleGigs\")\n",
    "    dateini=0\n",
    "    touring=0\n",
    "    tour_indice=0\n",
    "    tmpOLDgig ={}\n",
    "    for tour in tours:\n",
    "     tour_color = \"#\"+colors_for_nodes_and_edges[tour_indice % 20]\n",
    "     #print tour_color\n",
    "     #print tour\n",
    "     gig_indice =0\n",
    "     dates = tour.get(\"gigs\")\n",
    "     for date in dates:\n",
    "        #print date.get(\"datetime\")\n",
    "        venue = date.get(\"venue\")\n",
    "        latitude = venue.get(\"latitude\")\n",
    "        longitude = venue.get(\"longitude\")\n",
    "        #print venue\n",
    "        ###concat key\n",
    "        idd= slugify(venue[\"name\"])+str(int(venue[\"latitude\"]))+str(int(venue[\"longitude\"]))\n",
    "        \n",
    "        if idd not in my_nodesdict:\n",
    "            \n",
    "            node = {\n",
    "                    \"id\" : idd,\n",
    "                    \"name\" : slugify(venue[\"name\"]),\n",
    "                    \"lat\" : float(venue[\"latitude\"]),\n",
    "                    \"lng\" : float(venue[\"longitude\"]),\n",
    "                    \"weight\" : float(1),\n",
    "                    \"start\" : date.get(\"datetime\").isoformat(),\n",
    "                    \"end\" : (date.get(\"datetime\")+timedelta(days=1)).isoformat(),\n",
    "                    \"color\" : tour_color,\n",
    "                    \"notes\" : \"name : \"+slugify(venue[\"name\"])+\"  \\nlat : \"+str(float(venue[\"latitude\"]))+\"  \\nlng :\"+str(float(venue[\"longitude\"]))+\"  \\n weight :\"+str(1)+\"  \\nstart : \"+str(date.get(\"datetime\").isoformat())+\"  \\nend : \"+str((date.get(\"datetime\")+timedelta(days=1)).isoformat())+\"  \\ncolor :\"+str(tour_color)\n",
    "                    }\n",
    "        else:\n",
    "                \n",
    "                node = {\n",
    "                    \"id\" : idd,\n",
    "                    \"name\" : slugify(venue[\"name\"]),\n",
    "                    \"lat\" : float(venue[\"latitude\"]),\n",
    "                    \"lng\" : float(venue[\"longitude\"]),\n",
    "                    \"weight\" : math.sqrt(float(my_nodesdict[idd][\"data\"].get(\"weight\"))+1) ,\n",
    "                    \"start\" : my_nodesdict[idd][\"data\"].get(\"start\"),\n",
    "                    \"end\" : (date.get(\"datetime\")+timedelta(days=1)).isoformat(),\n",
    "                    \"color\" : tour_color,\n",
    "                    \"notes\" : \"name : \"+slugify(venue[\"name\"])+\"  \\nlat : \"+str(float(venue[\"latitude\"]))+\"  \\nlng :\"+str(float(venue[\"longitude\"]))+\"  \\n weight :\"+str((float(my_nodesdict[idd][\"data\"].get(\"weight\"))+1))+\"  \\nstart : \"+str(my_nodesdict[idd][\"data\"].get(\"start\"))+\"  \\nend : \"+(date.get(\"datetime\")+timedelta(days=1)).isoformat()+\"  \\ncolor :\"+tour_color\n",
    "                    \n",
    "                    }\n",
    "        if dateini == 0:\n",
    "                dateini =1\n",
    "        else:\n",
    "                #print my_nodes[-1][\"data\"][\"id\"]\n",
    "                #print dates[gig_indice-1][\"distanceToNextGig\"]\n",
    "                notesE=\"\"\n",
    "                notesE+=\"distance : \"\n",
    "                try: \n",
    "                    notesE+=str(dates[gig_indice][\"distanceToNextGig\"])\n",
    "                except KeyError:\n",
    "                    notesE+=\"dates[gig_indice][distanceToNextGig] NOT AVAILABLE\"\n",
    "                notesE+=\" km  \\n\"\n",
    "                notesE+=\"source : \"\n",
    "                notesE+=str(my_nodes[-1][\"data\"][\"id\"])\n",
    "                notesE+=\"  target : \"\n",
    "                notesE+=str(node[\"id\"])\n",
    "                notesE+=\"  \\ndatesource : \"\n",
    "                notesE+=dates[gig_indice -1][\"datetime\"].isoformat()\n",
    "                notesE+=\"  \\ndatetarget : \"\n",
    "                notesE+=dates[gig_indice][\"datetime\"].isoformat()\n",
    "                notesE+=\"  \\ngroup: \"\n",
    "                notesE+=str(tour_indice)\n",
    "                #notesE+=\n",
    "                \n",
    "                \n",
    "                #print gig_indice\n",
    "                edge = {\n",
    "                    \"source\" : my_nodes[-1][\"data\"][\"id\"],\n",
    "                    \"target\" : node[\"id\"],\n",
    "                    \"color\" :  tour_color,\n",
    "                    # \"notes\" : \"distance : \"+str(round(dates[gig_indice][\"distanceToNextGig\"],2))+\" km  \\n\"+\"source : \"+my_nodes[-1][\"data\"][\"id\"]+\"  target : \"+node[\"id\"]+\"  \\ndatesource : \"+dates[gig_indice -1][\"datetime\"].isoformat()+\"  \\ndatetarget : \"+dates[gig_indice][\"datetime\"].isoformat()+\"  \\ngroup:\"+str(tour_indice),\n",
    "                    \"notes\" : notesE,\n",
    "                    #\"weight\" : float(e[\"weight\"]),\n",
    "                    \"start\" : dates[gig_indice -1][\"datetime\"].isoformat(),\n",
    "                    \"end\" : dates[gig_indice][\"datetime\"].isoformat(),\n",
    "                    #\"group\" : str(tour_indice)\n",
    "                    \n",
    "                }\n",
    "                #print edge\n",
    "                my_edges.append({ \"data\" : edge })\n",
    "        my_nodes.append({ \"data\" : node })   \n",
    "        my_nodesdict[node[\"id\"]]= { \"data\" : node }\n",
    "        gig_indice+=1\n",
    "    #print my_nodes\n",
    "    #print \"<=============================================>\"\n",
    "    #print my_nodesdict\n",
    "    #print \"<=============================================>\"\n",
    "    #print my_edges\n",
    "     tour_indice +=1\n",
    "        #print \"coords\",latitude,\"/\",longitude\n",
    "    for key, value in my_nodesdict.iteritems():\n",
    "            my_nodesdictList.append(value)\n",
    "    \n",
    "    \n",
    "    with open(\"./bands_dicts/\"+artist[\"name\"]+\".obj\", 'wb') as handle:\n",
    "                            pickle.dump([artist[\"name\"]+\"/BETA_0.3\",my_nodesdictList,my_edges], handle, protocol=pickle.HIGHEST_PROTOCOL)    \n"
   ]
  },
  {
   "cell_type": "code",
   "execution_count": null,
   "metadata": {
    "collapsed": true
   },
   "outputs": [],
   "source": []
  },
  {
   "cell_type": "code",
   "execution_count": 50,
   "metadata": {
    "collapsed": true
   },
   "outputs": [],
   "source": [
    "# credentials\n",
    "TOPOGRAM_URL = \"http://localhost:3000\"\n",
    "USER = \"gregory.bahde@laposte.net\"\n",
    "PASSWORD = \"matrix\""
   ]
  },
  {
   "cell_type": "code",
   "execution_count": 8,
   "metadata": {},
   "outputs": [
    {
     "name": "stdout",
     "output_type": "stream",
     "text": [
      "0\n"
     ]
    }
   ],
   "source": [
    "print len(my_nodesdict)"
   ]
  },
  {
   "cell_type": "code",
   "execution_count": 56,
   "metadata": {
    "scrolled": true
   },
   "outputs": [
    {
     "name": "stderr",
     "output_type": "stream",
     "text": [
      "ERROR:topogram-client:403 Unauthorized request\n"
     ]
    },
    {
     "name": "stdout",
     "output_type": "stream",
     "text": [
      "> User has already been created.\n",
      "{u'status': u'success', 'status_code': 200, u'data': {u'authToken': u'b4oBSybcMBWI0qJY3fM1mY6Xh0ldm5_wKtblj4DIWIO', u'userId': u'DaofbRenqYpqqNmtz'}}\n"
     ]
    }
   ],
   "source": [
    "# connect to the topogram instance (pass debug=True params for more info )\n",
    "topogram = TopogramAPIClient(TOPOGRAM_URL) #, debug=True)\n",
    "\n",
    "# create a new user\n",
    "try :\n",
    "    topogram.create_user(USER, PASSWORD)\n",
    "except ValueError:\n",
    "    print \"> User has already been created.\"\n",
    "\n",
    "# login a new user if needed\n",
    "resp_user_login = topogram.user_login(USER, PASSWORD)\n",
    "print resp_user_login\n",
    "\n",
    "assert(resp_user_login[\"status\"] == \"success\")\n",
    "assert(resp_user_login[\"status_code\"] == 200)\n"
   ]
  },
  {
   "cell_type": "code",
   "execution_count": 72,
   "metadata": {
    "scrolled": false
   },
   "outputs": [
    {
     "name": "stdout",
     "output_type": "stream",
     "text": [
      "/home/goonieb/gitrep/bandstour/5_visualizer/topogram-api-clientFOR_TOPO_FROM_BANDSTOUR\n",
      "Creating topogram 'Markus Schulz/BETA_0.3'\n"
     ]
    },
    {
     "name": "stderr",
     "output_type": "stream",
     "text": [
      "ERROR:topogram-client:500 - Error : A topogram with the same name already exists\n"
     ]
    },
    {
     "name": "stdout",
     "output_type": "stream",
     "text": [
      "> Topogram already exists\n",
      "{u'status': u'success', 'status_code': 200, u'data': {u'sharedPublic': False, u'title': u'Markus Schulz/BETA_0.3', u'userId': u'DaofbRenqYpqqNmtz', u'_id': u'3d9YspcEfPxQukXCn', u'slug': u'markus-schulzbeta_03', u'createdAt': u'2018-05-15T04:02:42.308Z'}, u'statusCode': 200}\n",
      "topogram ID : 3d9YspcEfPxQukXCn\n",
      "405 nodes deleted\n",
      "{u'status': u'success', 'status_code': 200, u'data': [u'scQweJN6v9jFdctnr', u'K3jQZFCHC9gRtWAGx', u'cShJt8HkjTLNfHfoT', u'PNBDFLNJMyy4j3JrX', u'4LWoaiZYSMBZrHgQw', u'nvaf8DNmeNvRCPTnR', u'nsKTSB68X4Hsppqgx', u'ZbX5vHi4inav6HBPM', u'gEGxohxrtjnHyQadW', u'SX9AXiw3RYSquA5CD', u'hm9TjH3k3toaciBsj', u'y6tqTevcjc8FvrSEG', u'wFWgk8sygQapnwjfM', u'tosi7WNTnP5o42STc', u'YMYWeK5tWeAvgTkBr', u'RgDbYXvBdSyrj2AYe', u'99gZZjbeCmQHndiZF', u'7BXfbyG6HPt732GnE', u'LG6Gq7fuHJ3EEN8gZ', u'KCAzdZhCudtSXjAwi', u'KiXDHLWdhNAd27zrx', u'Wzp98GTS8h53HDc8C', u'kyqi5epRZeiWXiBpS', u'kyjW6JTJJQhGYMMMJ', u'rYyb6mpYcDhLDeRjj', u'ZYt52xdybajBTixzL', u'rXrnv6vEw2DWcGR5y', u'We33wxou3XEEv3ECS', u'rmHqwTaZBPaqqXhAG', u'tMXxtLKGgch7gfokh', u'gw3fuRHGz3SXqCgoX', u'fadt4DoMQEsrfDEBr', u'bR2BvApSgB2AKnDLv', u'Hygkqqzf8Wj9qsmi8', u'dTNj2KoTKYBszA6Nr', u'q4agjGCyrRix3FXoL', u'WmBAiYxR7SCFK6ucM', u'Sk3YeXCDdaQ49ToJn', u'4rQW5T2HPghngsb2q', u'2PkLAfPYvtC3CD2ge', u'uF4zogLM5b2T3u5Py', u'evHZm2BeTxTGDFrnm', u'9eygDDm7tZRKJ9srA', u'ptkded4zLCmW7YHn9', u'PDKx8C8WtegWN9K8A', u'MHCTkuuwj9GGLBtDn', u'iShnNs2nTahRhGt8S', u'R2kbEMWRPGW7obMkC', u'sjTuZcgyivL2XTSnT', u'E54esQepQdNRP3ofs', u'2ebJQDTnhGte9MPeD', u'mPSEHP7RoEApiDEbA', u'YoW9ZxtD89eBA2fwQ', u'a43xftEkQTnqXMuau', u'9GQ9qvDvSoc5jw2v8', u'DWqnE5ZRdfWPBuwPo', u'aJKQZkpZvPq8SALjs', u'FhmRfJQafBJyes7yN', u'EEJ4cXr4i7cMJWAKc', u'8eGmnX9rBEHLKCe2X', u'xyEdhskABncqyDtTp', u'uH74pHjDY4f9uhGCa', u'MXJEeQcQv84HepsAY', u'uonNjFQeBF8jN4ArC', u'4hNweY4jx58Ln6z4L', u'EPayPzY8wis4u76Sz', u'ta7B37mE2kpp2pBEm', u'SubHmFHh29ceDrsPG', u'ZDZ24MiANEHxTmerg', u'AiHmsP5f6hwBHFDvS', u'X7cHBGYTjDLweuqg4', u'duuJgzJLCshgaPCjK', u'42u9nQzaCPeEiwZ4n', u'nZ6hpB2oT84EKvxxs', u'GYcGAsNDNSma6xCZA', u'3n2jvjNEhk7EjEZeA', u'dAj8b24oumWDJKbEB', u'QTmvavBPHwwC8n9pm', u'biwN4nZaCayZogPLL', u'4cR7WExYP8GKPj7FM', u'9YHa7XZryG3Be8eMQ', u'vyDcGJxnYce4YrvHX', u'8vzhCLL3MJdALmT6C', u'MAThjng7XioiGbbi5', u'5o3q7FqWemPBxuGgb', u'P9cEKSqZ3LkCZ7P4j', u'HjiXMw5RvhTTy7NTQ', u'TdshQmvfkWECHvRkS', u'zTyde3Wr7aNYadjtb', u'nPs4WgsAHP5EzW9mD', u'XDHYW4C4ZjCQSCk46', u'vJukc52rcctwZ3vEP', u'nckaRGKyAQH4vDAy9', u'qzkQbSW4n4reZ9bqp', u'gzaW8gMmT6YPqJCpF', u'sqhXh4Nfmp5mZnN9b', u'm2J6uQ7hEzpZjoMH4', u'piD42hXZjb5qHcPxk', u'tyvhiaNxDLHMcxC9a', u'Lxh7L4TuwbA7kd2Gz', u'SxLWkhShHwEXASLYY', u'eEK8Kg963iG8yZss8', u'ywtbSotv8b3qRM8qb', u'SjTgAzxjMWGnWQQyR', u'rv2wqcJMkWKsp4E4g', u'i2HQf7ovjCj3JaYpC', u'KqkwAwpbCvLXJEH5R', u'F3YYD8xfGLdq7557D', u'6jtE4B5F62EfbQrxc', u'WZH83sngMhzp9Co3q', u'g5N3X2weRax4yneFR', u'xFQESfe64jNyMEMcG', u'sDqTzb8JxerQuPhZF', u'bidQatdacnggC6cpo', u'QEppvPbvMd5yy2Toh', u'6377msKizmBMxDQMc', u'AkH2LjWN6sLe8K9pe', u'bnB62ffNBL8qYrfNp', u'q6bvpWTKQX3h7XeXr', u'imkHymoDAtLdACctf', u'FCkNRhEiBCwPMEJmP', u'KwpoaDJYqXdbDRhB6', u'Rfrw9kgnFmrFBXFuY', u'vkFv5Tv3ySgDNtfBe', u'KxfqRiSo3beHdSL7N', u'Qa4WTJr8DZxJYMnuw', u'biKjxyeCbDkRh6HXo', u'r6CbvMQJFMs3jJ5qC', u'NnJszFGaucaywjGgt', u'4rrMDjiXPR4369MWg', u't5Tbb22MFgsYWzQ5D', u'ojhpjsHTaAssZdhpH', u'Yx7skyrtx7SoKsHDh', u'ZEk7Q9HdHHxgMtgAy', u'g93HuePJ8bnjDQChT', u'RE4xoyXdRjxRn5RTw', u'q5m8L3KX4srNLRYBm', u'N5Np5LmcveiMKzCyh', u'YxLe7on7g4BcL3dcj', u'aCG3Qz86qkqT8uDMC', u'oZ65rmzDwQjRNBfbZ', u'uSeGbJQ45FPKDJwcD', u'hRHriqdiJAPjNMNMi', u'AtXTMfQPGLvEo9LFp', u'gGAu2u7TWfxdMAL6k', u'99SQWKwnFgCGR3XGA', u'8YZBPj77gTmtjHZqe', u'c4HB2rH58ieDeAp85', u'oaZSnsfBu4YM84Z5Y', u'9nFnPpdJWN5q6oSpF', u'xxmoWX3WhsC3ZbWW5', u'f7hsMKeeKLmKYDipJ', u'QipDnjyBSs8fgaHgw', u'ZE8KnfP5Lc2gaCtxv', u'uneh7qfvFnfGuqhqa', u'oEttZhbPgo8boAmQb', u'oQzGQL68QvzmiNXoy', u'hGTC8AQBp2fEuMKMo', u'3LNSxrXuj93mfABFN', u'zaaZYg4XgSFgbiXX3', u'CenSJEwHbrsGqgYdo', u'k7To28xgmnmJTccW6', u'xRPbLveugANGbYoJB', u'YwEsdh6veaYx4BW8w', u'WnPuducsg8NiTpiF8', u'bcEeWHL8Lic8ihX42', u'NuHmze8DT8FQHckdE', u'H8LyXc9j9FZDSwhj6', u'poEuvXimaKT4JM77v', u'XAGByrEsS32KSzpvZ', u'EDaAMXrPSr56YsmYF', u'qTZLtshKvmgKtvocd', u'gfCW5voSsgw2WDxjQ', u'snKhS4EwDLc6RAJoQ', u'ofEEBe57xab8pTwzB', u'oRD2Rn4XxxjaemG2X', u'T6EfCBASWFL5ut46c', u'q5Jc6yCGn2LEdwdzF', u'ux5jQHbWE9gCMKpzQ', u'M9aAuHquZ5vkGRDjS', u'KcsBzZ3oFCQSwDFeb', u'wNMCFZaWhRn8duhu8', u'rA3Nyw5wfhy42Czbo', u'92izJoK3MacBHFaot', u'TcGn5dfy66qwJqf9p', u'jktfCmkzS8wCN4ugx', u'mrabRZupEApbWPbeY', u'sGawgbmKq9haJDhp3', u'bFjbH8ZsKTAe6rjhv', u'BncxfAezKCAybdWTk', u'Rupx9gQ6WodS6Hhj8', u'3yHkox9ncYYeECZbH', u'DNc2PnfbMdDWmrcKm', u'DNxwqcMdWNWe9c4Yv', u'43HNs3tBDYuKxfD2K', u'zEPzRuLauHq4t2zPD', u'Ngbe4uPgGTYsgvTkz', u'qpy7CubcwAT7oC82i', u'SQc2j4JnSRoLE4Gyv', u'vPAdRm2j8gP7RsuZk', u'F7PJxwec3bsevCYvx', u'dfBbeLL5T38Y8ojFE', u'fXxrN3YKaeNKW2Dyc', u'PtY8GxQjBNKRLytHQ', u'QCjpG8AoFvNSDmHYu', u'EEBtuWACwyZM753Bx', u'Nj3FGm7XKdpFqqgCk', u'tJT7f9kEwDNvBxHfW', u'QBi8k5EDiEKFgzH8y', u'8n4apic2y4D3Yqa2o', u'KZz2RFymczjeindu9', u'DktC5u5RfTTcKvyb9', u'WX2xZuDuahT2f7W2Z', u'xqwZ7uhEr4awPWxMT', u'qg4NnbAr4nwYkwuHq', u'9NT4T6r8w2nf4C2HM', u'kGE8C9LbDqmhnSzWE', u'dgRHKjzcPkx8hvHm7', u'9NdfnBgXRZQkRpZQk', u'oSxTTpstsReZRzFQR', u'4kX9Yc22qLKvDRLBv', u'oXd8xQn2hXDksmcQj', u'XAiW2EYH7npXYYQ86', u'a7WGSosupJhdjmZjH', u'TtP4BxwJwEbyeNAHG', u'poEWk7PXqNo2cLwCE', u'CRGxMZ3JjsHFvidXg', u'szB32JdmnN6v3hu9C', u'q9uWp2J6quANBHTmA', u'aeRHBEw3khfzC2AzR', u'pPhz5ooiXsiNFsCZ8', u'kqaGwJ9TRGgRHxaR2', u'4EAfmx5E5wGxn4e7N', u'4YQDuvNz3Fk4TgGg2', u'q6ZwA9HGM7TtB2NFe', u'hrvTJSYhayk878Jtp', u'guBYRhkpgYM8D5fov', u'wuNiP4P6fqYgdXrEM', u'XCuZDDX6TgEQwuKaG', u'ckFw7JE24xS5nYas4', u'Q8EhEH7ZJQGvBznkS', u'LNN8zawoPWSHXZgjh', u'TkSTn5xikrKrm5SfN', u'mZjDmML8vkxYwE59P', u'xxzCCXYyrpQN4GrLb', u'jTMRuwNfL9YxL4vpG', u'CkevTMKbMpRKAY8xT', u'XS3S6eu2v78Hrc5Kf', u'TCnBAZFdmWHMb8h7Q', u'ru3awHnE6gP8bJag6', u'Xtm3gG3LyMgEwGurK', u'DQAmuMT4Ky5GJZbwC', u'AWfvBxuoW29twT5S7', u'oTN4KDBdjPBewYE4q', u'vNpTYC7xJuzbnY4kQ', u'Wd5m3e4xkRvy88QLC', u'SFdJtbQgqFaD3qkrv', u'9wJk9wsTP6SjSENG6', u'CKDwEzjQM4FofZfM5', u'Nh7Wju3pxwWFMNZ6K', u'mkzHWsnG6gdQavYcD', u'sMJ8HeEN2ur8KcGwQ', u'CytBveyLR9iKPgGqR', u'WYYynDxmFwy3dhZzC', u'k6uA2PgPFyegTyXax', u'gAAdp4CuKKcvm33W6', u'q3xZ2SkieuH9aNEtj', u'ayBWQFnzKwtYaj6AF', u'oxPdE3WAfm5piLtRL', u'YNN24TEDjjzquH3Ft', u'9QYFvZbJvtZXw6hQj', u'vXCAXgr93qNACR2Sx', u'XhGsY6Tr5jfWYNFQQ', u'5cMQdjX6mTCAizENL', u'YiiBdeWJ2esnPoXHB', u'kR9zxKfMtRawYgmbW', u'Zt8gbM6Ma4Spf2uf4', u'6ez4GjRKxRocQgTHc', u'4BxuW5YGfjhoy2y4M', u'qZxttduEnNWGbRF6Y', u'qKxEDbKefNpWLdWPE', u'wqmfHZfxjRe75EkR9', u'tuLx9ojm2ibkF2pvC', u'PYqHHmMXsXf5Kyvqp', u'7LSN94LFpcqTja9S6', u'j76NfK3vZT7q3SWf8', u'wAdtnZpxG87aLGygd', u'2RnmDjeNqSShSibdN', u'5tBeBBQdApdYrdCCS', u'HpivJBwsAxd55GK2N', u'Ypcode8H3zSzNFbhm', u'qpnPnvk9zPcjC9NxG', u'CSK2mPs55t2SWxt4S', u'87xswcD3rttLFYB8f', u'ymekq4unySBBXHSNt', u'gDKfJX6c7wXyqM2HT', u'3Qf9ek8hBnNShcA8H', u'7WbtbpSwi3euMt7y8', u'weh6tCizjEJay98Rx', u'yejLRGBQv8entxhuo', u'vqFPYTx34rmSh2tKA', u'ffQbYTfbDs4gLQJvx', u'Ag3PXm9SqAFQmqPtb', u'n9yyAnPqLoYraesoL', u'5KGKXB8Cx3FKw8oJe', u'HZYZkLfM2c3NjzjJ8', u'y22ijya3KRy7caCxX', u'hN5zeiRSLbBxdwdxE', u'pzDyvDzzMaoa2a9FQ', u'GQYjwNj5WC5iu9tcy', u'o5o4eGzaYWScooEqf', u'rgxTythA2rZKmuLam', u'8BQxovSWcQ5aunPTe', u'Pf7rsnnPBsCvxxw5d', u'H23SHKjsdbqRdv3Xi', u'uSz3qicGzCb67rrDk', u'qkuvMqJeztzaJbRkC', u'ASTMELvsXvy4jgpk5', u'N3JprorZhEkxrK4AT', u'5AYArWKpJ6ypvAtWB', u'JSXHcFPzZXQTggWGR', u'KAjPhNCmNBukWCB9r', u'WegB6nNA2CpeMzvwj', u'sdvrf2GwoARLEjrrW', u'Y6ys5DrqvF2xct82L', u'oZavmyw7FKES7YagP', u'4Y5RLo9JSjuEZJgKL', u'nvr4rzvCcpb4wCb9C', u'5TBcToSTbJhFHZ7j7', u'vYGLQJ4cBeiZbii8D', u'ErjyjdM67ehReRFAv', u'L9Tzvg5voLS4evp8f', u'wxbDqqAfReH2uDPja', u'75foAkPsvK68TJkLf', u's8ryfqmgzGxHbkJ38', u'KLG4Bx7wJkdLxG26P', u'AeJBSDWX3KnFxeRdw', u'wBgw5em4A5dGK7sPH', u'FYbRHc3SsJg4FySFK', u'XWizRmC68Hctkkjv7', u'jvPYWYDiByfG6d8D4', u'3e7FnT3d8ugmLL76t', u'suvsgLvJtKR57XJda', u'efFM5tQMsCPHLvfi7', u'BDeJoWjb6feLKEfMP', u'HB9oZRKeBmPfAKfN8', u'D98cBBnmvNy3nQqqr', u'ZtLyvW5RbYZ9XXqPK', u'4i74xyzyzrdvGck7x', u'xj7YQPBS5zPmd4FEs', u'AxpyCxri4TNbfYeoF', u'7dnt54cJu9f4ERuqz', u'8KNrYcGyBmepC67fe', u'xqJjJfeLR2xkpPP8v', u'Y5DgtQf9vqtXJ7vRL', u'BaMZYxp3wvPLa5Nfi', u'cYgKtcdeo2PcSJdNo', u'RXQp4Ab5zeDvHb5cE', u'MCQ3y9w3A5ZZ3F3Qm', u'cPCSfbZPQwvHRG5vK', u'imiZQeEMNvig8QmPG', u'MGq4zzv8CHDwNKTuF', u'GZeS3iNYpGCh2Ry7x', u'YcR2dXmjCTydWLiXy', u'c6KvNEwhPCPPBkauN', u'XGRsAe7qfRW7veJpA', u'rALMZ3aJBjx8p8cPK', u'cLCPXk5wMDXufYpnB', u'cA9yC2uFxAGRr2Q3B', u'8QNsdkRr5X8ErEAzf', u'BBpqso2FosaDrmFdP', u'k5q8wqqGcMb8kE6TF', u'xND4yMYaPyyu9Gkpp', u'D7uPdzQWwKiio8z8a', u'zZ2td2dEJ85q6JeT3', u'ERodtNnToStPrzJq6', u'piMC9TteTWM6Q3JCL', u'YkkcDYK4h2tAMAxRW', u'tFR8ugDapr3Hma7Gb', u'gt8qKvuo8LiRdkDwM', u'EyPTXAAKyTrNPeFWx', u'fGPCBnBJaP2aE7Hzj', u'p8SNaezWwHRWFYDj8', u'LrpY6AD6Jqodapxc4', u'F9NMPnrw6FpWSLAaZ', u'jQfp4ej6sTavsmeTx', u'vx9J5TpqZhdjkzgYQ', u'F8aXWKvyNugJQYFZd', u'K5ezGfMCYCfxAR2BW', u'LPJKKJBAQ2khcrFNy', u'fj5KDiHaf3bnifHrP', u'LMTCvWcGS8Q5j2yGK', u'P6foLXTmDYvcShwhd', u'BLyczN32ZJvw8rCbm', u'6ihoduzszzuDHnRAN', u'MNvHrDxNBCWopWsXo', u'DppagLstRn97WffJc', u'qyB32Lsj4mfKEsJQS', u'vJ7rTSkBw4oi5TRJQ', u'Ek9dhuSmo6ZqmgfNi', u'opCmQTf9sCaszti67', u'RihkLzHp4pYTobx3h', u'mnR7tPAicoP2xDS23', u'AFruvWiT3k5wHPNQN', u'8HY54LCxRymaw2SPw'], u'statusCode': 201}\n",
      "405 nodes created.\n"
     ]
    },
    {
     "ename": "ValueError",
     "evalue": "No JSON object could be decoded",
     "output_type": "error",
     "traceback": [
      "\u001b[0;31m---------------------------------------------------------------------------\u001b[0m",
      "\u001b[0;31mValueError\u001b[0m                                Traceback (most recent call last)",
      "\u001b[0;32m<ipython-input-72-7ba6087a4e0e>\u001b[0m in \u001b[0;36m<module>\u001b[0;34m()\u001b[0m\n\u001b[1;32m     19\u001b[0m         \u001b[0;32mtry\u001b[0m\u001b[0;34m:\u001b[0m\u001b[0;34m\u001b[0m\u001b[0m\n\u001b[1;32m     20\u001b[0m             \u001b[0;31m#print\u001b[0m\u001b[0;34m\u001b[0m\u001b[0;34m\u001b[0m\u001b[0m\n\u001b[0;32m---> 21\u001b[0;31m             \u001b[0mcreate_topogram\u001b[0m\u001b[0;34m(\u001b[0m\u001b[0mtit\u001b[0m\u001b[0;34m,\u001b[0m \u001b[0mnodestop\u001b[0m\u001b[0;34m,\u001b[0m \u001b[0medgestop\u001b[0m\u001b[0;34m)\u001b[0m\u001b[0;34m\u001b[0m\u001b[0m\n\u001b[0m\u001b[1;32m     22\u001b[0m         \u001b[0;32mexcept\u001b[0m \u001b[0mTypeError\u001b[0m\u001b[0;34m:\u001b[0m\u001b[0;34m\u001b[0m\u001b[0m\n\u001b[1;32m     23\u001b[0m             \u001b[0;32mcontinue\u001b[0m\u001b[0;34m\u001b[0m\u001b[0m\n",
      "\u001b[0;32m<ipython-input-3-410c73c9aa45>\u001b[0m in \u001b[0;36mcreate_topogram\u001b[0;34m(title, nodes, edges)\u001b[0m\n\u001b[1;32m     27\u001b[0m     \u001b[0;32mprint\u001b[0m \u001b[0mr\u001b[0m\u001b[0;34m\u001b[0m\u001b[0m\n\u001b[1;32m     28\u001b[0m     \u001b[0;32mprint\u001b[0m \u001b[0;34m\"%s nodes created.\"\u001b[0m\u001b[0;34m%\u001b[0m\u001b[0mlen\u001b[0m\u001b[0;34m(\u001b[0m\u001b[0mr\u001b[0m\u001b[0;34m[\u001b[0m\u001b[0;34m\"data\"\u001b[0m\u001b[0;34m]\u001b[0m\u001b[0;34m)\u001b[0m\u001b[0;34m\u001b[0m\u001b[0m\n\u001b[0;32m---> 29\u001b[0;31m     \u001b[0mr\u001b[0m \u001b[0;34m=\u001b[0m \u001b[0mtopogram\u001b[0m\u001b[0;34m.\u001b[0m\u001b[0mcreate_edges\u001b[0m\u001b[0;34m(\u001b[0m\u001b[0mtopogram_ID\u001b[0m\u001b[0;34m,\u001b[0m \u001b[0medges\u001b[0m\u001b[0;34m)\u001b[0m\u001b[0;34m\u001b[0m\u001b[0m\n\u001b[0m\u001b[1;32m     30\u001b[0m     \u001b[0;32mprint\u001b[0m \u001b[0;34m\"%s edges created.\"\u001b[0m\u001b[0;34m%\u001b[0m\u001b[0mlen\u001b[0m\u001b[0;34m(\u001b[0m\u001b[0mr\u001b[0m\u001b[0;34m[\u001b[0m\u001b[0;34m\"data\"\u001b[0m\u001b[0;34m]\u001b[0m\u001b[0;34m)\u001b[0m\u001b[0;34m\u001b[0m\u001b[0m\n\u001b[1;32m     31\u001b[0m \u001b[0;34m\u001b[0m\u001b[0m\n",
      "\u001b[0;32m/home/goonieb/anaconda2/lib/python2.7/site-packages/topogram_client/__init__.pyc\u001b[0m in \u001b[0;36mcreate_edges\u001b[0;34m(self, topogramId, edges)\u001b[0m\n\u001b[1;32m    184\u001b[0m         \u001b[0;34m\"\"\"POST Create a bunch of edges. Returns the created edges\"\"\"\u001b[0m\u001b[0;34m\u001b[0m\u001b[0m\n\u001b[1;32m    185\u001b[0m         \u001b[0;32massert\u001b[0m \u001b[0mtype\u001b[0m\u001b[0;34m(\u001b[0m\u001b[0medges\u001b[0m\u001b[0;34m)\u001b[0m \u001b[0;32mis\u001b[0m \u001b[0mlist\u001b[0m\u001b[0;34m\u001b[0m\u001b[0m\n\u001b[0;32m--> 186\u001b[0;31m         \u001b[0;32mreturn\u001b[0m \u001b[0mself\u001b[0m\u001b[0;34m.\u001b[0m\u001b[0mmake_request\u001b[0m\u001b[0;34m(\u001b[0m\u001b[0;34m\"POST\"\u001b[0m\u001b[0;34m,\u001b[0m \u001b[0;34m\"edges\"\u001b[0m\u001b[0;34m,\u001b[0m \u001b[0;34m{\u001b[0m \u001b[0;34m\"topogramId\"\u001b[0m \u001b[0;34m:\u001b[0m \u001b[0mtopogramId\u001b[0m\u001b[0;34m,\u001b[0m \u001b[0;34m\"edges\"\u001b[0m \u001b[0;34m:\u001b[0m \u001b[0medges\u001b[0m\u001b[0;34m}\u001b[0m\u001b[0;34m)\u001b[0m\u001b[0;34m\u001b[0m\u001b[0m\n\u001b[0m\u001b[1;32m    187\u001b[0m \u001b[0;34m\u001b[0m\u001b[0m\n\u001b[1;32m    188\u001b[0m \u001b[0;34m\u001b[0m\u001b[0m\n",
      "\u001b[0;32m/home/goonieb/anaconda2/lib/python2.7/site-packages/topogram_client/__init__.pyc\u001b[0m in \u001b[0;36mmake_request\u001b[0;34m(self, method, path, data)\u001b[0m\n\u001b[1;32m     55\u001b[0m \u001b[0;34m\u001b[0m\u001b[0m\n\u001b[1;32m     56\u001b[0m         \u001b[0;32mif\u001b[0m \u001b[0mr\u001b[0m\u001b[0;34m.\u001b[0m\u001b[0mstatus_code\u001b[0m \u001b[0;34m>=\u001b[0m \u001b[0;36m500\u001b[0m \u001b[0;34m:\u001b[0m \u001b[0;31m# handle 403 error\u001b[0m\u001b[0;34m\u001b[0m\u001b[0m\n\u001b[0;32m---> 57\u001b[0;31m             \u001b[0merr\u001b[0m \u001b[0;34m=\u001b[0m \u001b[0;34m\"%s - Error : %s\"\u001b[0m\u001b[0;34m%\u001b[0m\u001b[0;34m(\u001b[0m\u001b[0mr\u001b[0m\u001b[0;34m.\u001b[0m\u001b[0mstatus_code\u001b[0m\u001b[0;34m,\u001b[0m \u001b[0mr\u001b[0m\u001b[0;34m.\u001b[0m\u001b[0mjson\u001b[0m\u001b[0;34m(\u001b[0m\u001b[0;34m)\u001b[0m\u001b[0;34m[\u001b[0m\u001b[0;34m\"message\"\u001b[0m\u001b[0;34m]\u001b[0m\u001b[0;34m)\u001b[0m\u001b[0;34m\u001b[0m\u001b[0m\n\u001b[0m\u001b[1;32m     58\u001b[0m             \u001b[0mlog\u001b[0m\u001b[0;34m.\u001b[0m\u001b[0merror\u001b[0m\u001b[0;34m(\u001b[0m\u001b[0merr\u001b[0m\u001b[0;34m)\u001b[0m\u001b[0;34m\u001b[0m\u001b[0m\n\u001b[1;32m     59\u001b[0m             \u001b[0;32mraise\u001b[0m \u001b[0mValueError\u001b[0m\u001b[0;34m(\u001b[0m\u001b[0merr\u001b[0m\u001b[0;34m)\u001b[0m\u001b[0;34m\u001b[0m\u001b[0m\n",
      "\u001b[0;32m/home/goonieb/anaconda2/lib/python2.7/site-packages/requests/models.pyc\u001b[0m in \u001b[0;36mjson\u001b[0;34m(self, **kwargs)\u001b[0m\n\u001b[1;32m    890\u001b[0m                     \u001b[0;31m# used.\u001b[0m\u001b[0;34m\u001b[0m\u001b[0;34m\u001b[0m\u001b[0m\n\u001b[1;32m    891\u001b[0m                     \u001b[0;32mpass\u001b[0m\u001b[0;34m\u001b[0m\u001b[0m\n\u001b[0;32m--> 892\u001b[0;31m         \u001b[0;32mreturn\u001b[0m \u001b[0mcomplexjson\u001b[0m\u001b[0;34m.\u001b[0m\u001b[0mloads\u001b[0m\u001b[0;34m(\u001b[0m\u001b[0mself\u001b[0m\u001b[0;34m.\u001b[0m\u001b[0mtext\u001b[0m\u001b[0;34m,\u001b[0m \u001b[0;34m**\u001b[0m\u001b[0mkwargs\u001b[0m\u001b[0;34m)\u001b[0m\u001b[0;34m\u001b[0m\u001b[0m\n\u001b[0m\u001b[1;32m    893\u001b[0m \u001b[0;34m\u001b[0m\u001b[0m\n\u001b[1;32m    894\u001b[0m     \u001b[0;34m@\u001b[0m\u001b[0mproperty\u001b[0m\u001b[0;34m\u001b[0m\u001b[0m\n",
      "\u001b[0;32m/home/goonieb/anaconda2/lib/python2.7/json/__init__.pyc\u001b[0m in \u001b[0;36mloads\u001b[0;34m(s, encoding, cls, object_hook, parse_float, parse_int, parse_constant, object_pairs_hook, **kw)\u001b[0m\n\u001b[1;32m    337\u001b[0m             \u001b[0mparse_int\u001b[0m \u001b[0;32mis\u001b[0m \u001b[0mNone\u001b[0m \u001b[0;32mand\u001b[0m \u001b[0mparse_float\u001b[0m \u001b[0;32mis\u001b[0m \u001b[0mNone\u001b[0m \u001b[0;32mand\u001b[0m\u001b[0;34m\u001b[0m\u001b[0m\n\u001b[1;32m    338\u001b[0m             parse_constant is None and object_pairs_hook is None and not kw):\n\u001b[0;32m--> 339\u001b[0;31m         \u001b[0;32mreturn\u001b[0m \u001b[0m_default_decoder\u001b[0m\u001b[0;34m.\u001b[0m\u001b[0mdecode\u001b[0m\u001b[0;34m(\u001b[0m\u001b[0ms\u001b[0m\u001b[0;34m)\u001b[0m\u001b[0;34m\u001b[0m\u001b[0m\n\u001b[0m\u001b[1;32m    340\u001b[0m     \u001b[0;32mif\u001b[0m \u001b[0mcls\u001b[0m \u001b[0;32mis\u001b[0m \u001b[0mNone\u001b[0m\u001b[0;34m:\u001b[0m\u001b[0;34m\u001b[0m\u001b[0m\n\u001b[1;32m    341\u001b[0m         \u001b[0mcls\u001b[0m \u001b[0;34m=\u001b[0m \u001b[0mJSONDecoder\u001b[0m\u001b[0;34m\u001b[0m\u001b[0m\n",
      "\u001b[0;32m/home/goonieb/anaconda2/lib/python2.7/json/decoder.pyc\u001b[0m in \u001b[0;36mdecode\u001b[0;34m(self, s, _w)\u001b[0m\n\u001b[1;32m    362\u001b[0m \u001b[0;34m\u001b[0m\u001b[0m\n\u001b[1;32m    363\u001b[0m         \"\"\"\n\u001b[0;32m--> 364\u001b[0;31m         \u001b[0mobj\u001b[0m\u001b[0;34m,\u001b[0m \u001b[0mend\u001b[0m \u001b[0;34m=\u001b[0m \u001b[0mself\u001b[0m\u001b[0;34m.\u001b[0m\u001b[0mraw_decode\u001b[0m\u001b[0;34m(\u001b[0m\u001b[0ms\u001b[0m\u001b[0;34m,\u001b[0m \u001b[0midx\u001b[0m\u001b[0;34m=\u001b[0m\u001b[0m_w\u001b[0m\u001b[0;34m(\u001b[0m\u001b[0ms\u001b[0m\u001b[0;34m,\u001b[0m \u001b[0;36m0\u001b[0m\u001b[0;34m)\u001b[0m\u001b[0;34m.\u001b[0m\u001b[0mend\u001b[0m\u001b[0;34m(\u001b[0m\u001b[0;34m)\u001b[0m\u001b[0;34m)\u001b[0m\u001b[0;34m\u001b[0m\u001b[0m\n\u001b[0m\u001b[1;32m    365\u001b[0m         \u001b[0mend\u001b[0m \u001b[0;34m=\u001b[0m \u001b[0m_w\u001b[0m\u001b[0;34m(\u001b[0m\u001b[0ms\u001b[0m\u001b[0;34m,\u001b[0m \u001b[0mend\u001b[0m\u001b[0;34m)\u001b[0m\u001b[0;34m.\u001b[0m\u001b[0mend\u001b[0m\u001b[0;34m(\u001b[0m\u001b[0;34m)\u001b[0m\u001b[0;34m\u001b[0m\u001b[0m\n\u001b[1;32m    366\u001b[0m         \u001b[0;32mif\u001b[0m \u001b[0mend\u001b[0m \u001b[0;34m!=\u001b[0m \u001b[0mlen\u001b[0m\u001b[0;34m(\u001b[0m\u001b[0ms\u001b[0m\u001b[0;34m)\u001b[0m\u001b[0;34m:\u001b[0m\u001b[0;34m\u001b[0m\u001b[0m\n",
      "\u001b[0;32m/home/goonieb/anaconda2/lib/python2.7/json/decoder.pyc\u001b[0m in \u001b[0;36mraw_decode\u001b[0;34m(self, s, idx)\u001b[0m\n\u001b[1;32m    380\u001b[0m             \u001b[0mobj\u001b[0m\u001b[0;34m,\u001b[0m \u001b[0mend\u001b[0m \u001b[0;34m=\u001b[0m \u001b[0mself\u001b[0m\u001b[0;34m.\u001b[0m\u001b[0mscan_once\u001b[0m\u001b[0;34m(\u001b[0m\u001b[0ms\u001b[0m\u001b[0;34m,\u001b[0m \u001b[0midx\u001b[0m\u001b[0;34m)\u001b[0m\u001b[0;34m\u001b[0m\u001b[0m\n\u001b[1;32m    381\u001b[0m         \u001b[0;32mexcept\u001b[0m \u001b[0mStopIteration\u001b[0m\u001b[0;34m:\u001b[0m\u001b[0;34m\u001b[0m\u001b[0m\n\u001b[0;32m--> 382\u001b[0;31m             \u001b[0;32mraise\u001b[0m \u001b[0mValueError\u001b[0m\u001b[0;34m(\u001b[0m\u001b[0;34m\"No JSON object could be decoded\"\u001b[0m\u001b[0;34m)\u001b[0m\u001b[0;34m\u001b[0m\u001b[0m\n\u001b[0m\u001b[1;32m    383\u001b[0m         \u001b[0;32mreturn\u001b[0m \u001b[0mobj\u001b[0m\u001b[0;34m,\u001b[0m \u001b[0mend\u001b[0m\u001b[0;34m\u001b[0m\u001b[0m\n",
      "\u001b[0;31mValueError\u001b[0m: No JSON object could be decoded"
     ]
    }
   ],
   "source": [
    "nodestop=[]\n",
    "edgestop=[]\n",
    "tit=[]\n",
    "import glob, os\n",
    "\n",
    "print os.getcwd()\n",
    "\n",
    "for subdir, dirs, files in os.walk(\"./bands_dicts\"): \n",
    " for file in files:\n",
    "  if file.endswith('.obj') == True:  \n",
    "    with open(os.path.join(subdir, file), 'rb') as handle:\n",
    "          temp= pickle.load( handle)\n",
    "    #print \n",
    "    tit=temp[0].encode(\"utf-8\")\n",
    "    edgestop=temp[2]\n",
    "    nodestop=temp[1]\n",
    "    #print edgestop\n",
    "    while True:\n",
    "        try:\n",
    "            #print\n",
    "            create_topogram(tit, nodestop, edgestop)\n",
    "        except TypeError:\n",
    "            continue\n",
    "        break\n",
    "        "
   ]
  },
  {
   "cell_type": "code",
   "execution_count": null,
   "metadata": {
    "collapsed": true
   },
   "outputs": [],
   "source": []
  }
 ],
 "metadata": {
  "kernelspec": {
   "display_name": "Python 2",
   "language": "python",
   "name": "python2"
  },
  "language_info": {
   "codemirror_mode": {
    "name": "ipython",
    "version": 2
   },
   "file_extension": ".py",
   "mimetype": "text/x-python",
   "name": "python",
   "nbconvert_exporter": "python",
   "pygments_lexer": "ipython2",
   "version": "2.7.13"
  }
 },
 "nbformat": 4,
 "nbformat_minor": 2
}
