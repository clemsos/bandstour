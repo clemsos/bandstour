{
 "cells": [
  {
   "cell_type": "code",
   "execution_count": 2,
   "metadata": {
    "collapsed": true
   },
   "outputs": [],
   "source": [
    "#!/usr/bin/env python\n",
    "# -*- coding: utf-8 -*-\n",
    "\n",
    "from topogram_client import TopogramAPIClient\n",
    "\n",
    "from csv import DictReader\n",
    "import os\n",
    "import json\n",
    "import pymongo\n",
    "#import musicbrainzngs\n",
    "import arrow\n",
    "from datetime import datetime\n",
    "from pymongo import MongoClient\n",
    "from collections import defaultdict\n",
    "from dateutil import parser\n",
    "from datetime import timedelta\n",
    "import pickle\n",
    "import time\n",
    "from slugify import slugify\n",
    "from fuzzywuzzy import fuzz\n",
    "import urllib\n",
    "import math\n",
    "\n",
    "##SET PATH TO SAVE FILES:\n",
    "savpath=\"./bands_dicts/\"\n"
   ]
  },
  {
   "cell_type": "code",
   "execution_count": 3,
   "metadata": {
    "collapsed": true
   },
   "outputs": [],
   "source": [
    "#a function to have a range of colors for nodes/edges \n",
    "import colorsys\n",
    "def get_N_HexCol(N=20):\n",
    "\n",
    "    HSV_tuples = [(x*1.0/N, 0.5, 0.5) for x in xrange(N)]\n",
    "    hex_out = []\n",
    "    for rgb in HSV_tuples:\n",
    "        rgb = map(lambda x: int(x*255),colorsys.hsv_to_rgb(*rgb))\n",
    "        hex_out.append(\"\".join(map(lambda x: chr(x).encode('hex'),rgb)))\n",
    "    return hex_out"
   ]
  },
  {
   "cell_type": "code",
   "execution_count": 4,
   "metadata": {
    "collapsed": true
   },
   "outputs": [],
   "source": [
    "def create_topogram(title, nodes, edges):\n",
    "\n",
    "    print \"Creating topogram '%s'\"%title\n",
    "\n",
    "    try :\n",
    "        r = topogram.create_topogram(title)\n",
    "    except ValueError:\n",
    "        print '> Topogram already exists'\n",
    "        r = topogram.get_topogram_by_name(title)\n",
    "    print r\n",
    "    topogram_ID = r[\"data\"][\"_id\"]\n",
    "    print \"topogram ID : %s\"%topogram_ID\n",
    "\n",
    "    # get and backup existing nodes and edges\n",
    "    existing_nodes = topogram.get_nodes(topogram_ID)[\"data\"]\n",
    "    existing_edges = topogram.get_edges(topogram_ID)[\"data\"]\n",
    "\n",
    "    # clear existing graph\n",
    "    if len(existing_nodes):\n",
    "        topogram.delete_nodes([n[\"_id\"] for n in existing_nodes])\n",
    "        print \"%s nodes deleted\"%len(existing_nodes)\n",
    "    if len(existing_edges):\n",
    "        topogram.delete_edges([n[\"_id\"] for n in existing_edges])\n",
    "        print \"%s edges deleted\"%len(existing_edges)\n",
    "\n",
    "    r = topogram.create_nodes(topogram_ID, nodes)\n",
    "    #print r\n",
    "    print \"%s nodes created.\"%len(r[\"data\"])\n",
    "    r = topogram.create_edges(topogram_ID, edges)\n",
    "    print \"%s edges created.\"%len(r[\"data\"])\n",
    "\n",
    "    print \"done. Topogram has been updated. Check it at %s/topograms/%s\"%(TOPOGRAM_URL, topogram_ID)\n",
    "\n"
   ]
  },
  {
   "cell_type": "code",
   "execution_count": null,
   "metadata": {
    "scrolled": true
   },
   "outputs": [],
   "source": [
    "artist={}\n",
    "artist[\"name\"]=\"steve-aoki\"\n",
    "artist[\"mbid\"]=\"a39acc4a-985e-4173-a9ed-f325f2d3bc1c\"\n",
    "\n",
    "with open(\"../../4_miner/tour_miner/\"+slugify(artist[\"name\"]+artist[\"mbid\"])+\".obj\", 'rb') as handle:\n",
    "          tempL= pickle.load( handle)\n",
    "print tempL"
   ]
  },
  {
   "cell_type": "code",
   "execution_count": 137,
   "metadata": {
    "scrolled": true
   },
   "outputs": [
    {
     "name": "stdout",
     "output_type": "stream",
     "text": [
      "---------------------------\n",
      "6c690937-c6c3-4c4e-9d3e-c62efa989333\n",
      "Ultra Records\n",
      "2012-07-10\n",
      "Ultra Records OWNED BY f0d2ccb8-a269-491c-bbe3-08bdcd3251b7   Ultra Records, Inc.\n",
      "TOP OF THE TREE FOR  Ultra Records, Inc.\n",
      "ENDED LOOP\n",
      "LABRELS []\n",
      "TOP OF THE TREE FOR  Ultra Records\n",
      "REZLAB SELF\n",
      "XXXXXXXXXXXXXXXXXXXXXXXXXXXXXXXXX\n",
      "---------------------------\n",
      "44510f75-af0c-49b5-ab17-179f38452781\n",
      "Ministry of Sound (Australia)\n",
      "2010-05-14\n",
      "Ministry of Sound (Australia) OWNED BY c48b8ed2-46c5-4e51-9bea-5a37fcd0053b   Ministry of Sound\n",
      "Ministry of Sound OWNED BY 136021ca-a54d-4451-99c9-6ecf52121b86   Ministry of Sound Recordings Ltd.\n",
      "Ministry of Sound Recordings Ltd. OWNED BY 9a40374c-c95b-47bc-b353-b2b9728848d3   Sony Music Entertainment UK Limited\n",
      "Sony Music Entertainment UK Limited OWNED BY b54769e4-b75e-4f60-884a-c4714687bb4c   Sony Music Entertainment\n",
      "Sony Music Entertainment OWNED BY a57fa9c5-f488-4bae-9eb6-41b734227e90   Sony Corporation of America\n",
      "TOP OF THE TREE FOR  Sony Corporation of America\n",
      "ENDED LOOP\n",
      "LABRELS []\n",
      "Sony Music Entertainment OWNED BY f9ada3ae-3081-44df-8581-ca27a3462b68   Sony BMG Music Entertainment\n",
      "Sony BMG Music Entertainment OWNED BY 29d7c88f-5200-4418-a683-5c94ea032e38   BMG\n",
      "BMG OWNED BY 663466ee-6907-433f-a615-f352cb03f867   RCA/Ariola International\n",
      "TOP OF THE TREE FOR  RCA/Ariola International\n",
      "ENDED LOOP\n",
      "LABRELS []\n",
      "BMG OWNED BY 86d60b2d-2712-4c22-800c-ecf5327ee2f5   Bertelsmann AG\n",
      "TOP OF THE TREE FOR  Bertelsmann AG\n",
      "ENDED LOOP\n",
      "LABRELS []\n",
      "BMG OWNED BY e7da57d7-13a1-44a5-bbae-9665d1277d11   Electrosonora Manufacturas Saavedra S.A.\n",
      "Electrosonora Manufacturas Saavedra S.A. OWNED BY ff8d9d7e-24b2-4c07-9373-017c3e29d1c4   E.M.S.S.A. Argentina\n",
      "TOP OF THE TREE FOR  E.M.S.S.A. Argentina\n",
      "ENDED LOOP\n",
      "LABRELS []\n",
      "TOP OF THE TREE FOR  Electrosonora Manufacturas Saavedra S.A.\n",
      "ENDED LOOP\n",
      "LABRELS []\n",
      "TOP OF THE TREE FOR  BMG\n",
      "ENDED LOOP\n",
      "LABRELS []\n",
      "Sony BMG Music Entertainment OWNED BY a57fa9c5-f488-4bae-9eb6-41b734227e90   Sony Corporation of America\n",
      "TOP OF THE TREE FOR  Sony Corporation of America\n",
      "ENDED LOOP\n",
      "LABRELS []\n",
      "Sony BMG Music Entertainment OWNED BY bf519cd2-4e1e-46bf-948b-615f75424606   Sony Music Entertainment Inc.\n",
      "Sony Music Entertainment Inc. OWNED BY a38664cd-e8b1-479f-8ed6-192a5e9f2ab8   PT Indo Semar Sakti\n",
      "PT Indo Semar Sakti OWNED BY 5bdd3a69-9f2c-4ac6-9f20-4529ae9611bd   PT Warner Music Indonesia\n",
      "TOP OF THE TREE FOR  PT Warner Music Indonesia\n",
      "ENDED LOOP\n",
      "LABRELS []\n",
      "TOP OF THE TREE FOR  PT Indo Semar Sakti\n",
      "ENDED LOOP\n",
      "LABRELS []\n",
      "Sony Music Entertainment Inc. OWNED BY a57fa9c5-f488-4bae-9eb6-41b734227e90   Sony Corporation of America\n",
      "TOP OF THE TREE FOR  Sony Corporation of America\n",
      "ENDED LOOP\n",
      "LABRELS []\n",
      "Sony Music Entertainment Inc. OWNED BY de46c917-df55-4b7e-be7b-924a667ca93b   CBS Records Inc.\n",
      "CBS Records Inc. OWNED BY 27795d9f-3994-4643-9cd2-c5f2b304472d   CBS, Inc.\n",
      "CBS, Inc. OWNED BY db3c17ad-ca46-4bb5-95ca-61fc2de9800b   CBS Corporation\n",
      "TOP OF THE TREE FOR  CBS Corporation\n",
      "ENDED LOOP\n",
      "LABRELS []\n",
      "TOP OF THE TREE FOR  CBS, Inc.\n",
      "ENDED LOOP\n",
      "LABRELS []\n",
      "CBS Records Inc. OWNED BY a57fa9c5-f488-4bae-9eb6-41b734227e90   Sony Corporation of America\n",
      "TOP OF THE TREE FOR  Sony Corporation of America\n",
      "ENDED LOOP\n",
      "LABRELS []\n",
      "TOP OF THE TREE FOR  CBS Records Inc.\n",
      "ENDED LOOP\n",
      "LABRELS []\n",
      "TOP OF THE TREE FOR  Sony Music Entertainment Inc.\n",
      "ENDED LOOP\n",
      "LABRELS []\n",
      "Sony BMG Music Entertainment OWNED BY eec97363-9296-4b03-8369-8dc065fef2dd   The Record Collection\n",
      "TOP OF THE TREE FOR  The Record Collection\n",
      "ENDED LOOP\n",
      "LABRELS []\n",
      "TOP OF THE TREE FOR  Sony BMG Music Entertainment\n",
      "ENDED LOOP\n",
      "LABRELS []\n",
      "TOP OF THE TREE FOR  Sony Music Entertainment\n",
      "ENDED LOOP\n",
      "LABRELS []\n",
      "Sony Music Entertainment UK Limited OWNED BY b914f217-8be8-486b-a733-82f03275704a   Sony BMG Music Entertainment (UK) Ltd.\n",
      "Sony BMG Music Entertainment (UK) Ltd. OWNED BY 256a9a1e-53c8-4a59-a924-9e559f3f174d   Sony Music Entertainment (UK) Ltd.\n",
      "Sony Music Entertainment (UK) Ltd. OWNED BY bf519cd2-4e1e-46bf-948b-615f75424606   Sony Music Entertainment Inc.\n",
      "Sony Music Entertainment Inc. OWNED BY a38664cd-e8b1-479f-8ed6-192a5e9f2ab8   PT Indo Semar Sakti\n",
      "PT Indo Semar Sakti OWNED BY 5bdd3a69-9f2c-4ac6-9f20-4529ae9611bd   PT Warner Music Indonesia\n",
      "TOP OF THE TREE FOR  PT Warner Music Indonesia\n",
      "ENDED LOOP\n",
      "LABRELS []\n",
      "TOP OF THE TREE FOR  PT Indo Semar Sakti\n",
      "ENDED LOOP\n",
      "LABRELS []\n",
      "Sony Music Entertainment Inc. OWNED BY a57fa9c5-f488-4bae-9eb6-41b734227e90   Sony Corporation of America\n",
      "TOP OF THE TREE FOR  Sony Corporation of America\n",
      "ENDED LOOP\n",
      "LABRELS []\n",
      "Sony Music Entertainment Inc. OWNED BY de46c917-df55-4b7e-be7b-924a667ca93b   CBS Records Inc.\n",
      "CBS Records Inc. OWNED BY 27795d9f-3994-4643-9cd2-c5f2b304472d   CBS, Inc.\n",
      "CBS, Inc. OWNED BY db3c17ad-ca46-4bb5-95ca-61fc2de9800b   CBS Corporation\n",
      "TOP OF THE TREE FOR  CBS Corporation\n",
      "ENDED LOOP\n",
      "LABRELS []\n",
      "TOP OF THE TREE FOR  CBS, Inc.\n",
      "ENDED LOOP\n",
      "LABRELS []\n",
      "CBS Records Inc. OWNED BY a57fa9c5-f488-4bae-9eb6-41b734227e90   Sony Corporation of America\n",
      "TOP OF THE TREE FOR  Sony Corporation of America\n",
      "ENDED LOOP\n",
      "LABRELS []\n",
      "TOP OF THE TREE FOR  CBS Records Inc.\n",
      "ENDED LOOP\n",
      "LABRELS []\n",
      "TOP OF THE TREE FOR  Sony Music Entertainment Inc.\n",
      "ENDED LOOP\n",
      "LABRELS []\n",
      "TOP OF THE TREE FOR  Sony Music Entertainment (UK) Ltd.\n",
      "ENDED LOOP\n",
      "LABRELS []\n",
      "Sony BMG Music Entertainment (UK) Ltd. OWNED BY f9ada3ae-3081-44df-8581-ca27a3462b68   Sony BMG Music Entertainment\n",
      "Sony BMG Music Entertainment OWNED BY 29d7c88f-5200-4418-a683-5c94ea032e38   BMG\n",
      "BMG OWNED BY 663466ee-6907-433f-a615-f352cb03f867   RCA/Ariola International\n",
      "TOP OF THE TREE FOR  RCA/Ariola International\n",
      "ENDED LOOP\n",
      "LABRELS []\n",
      "BMG OWNED BY 86d60b2d-2712-4c22-800c-ecf5327ee2f5   Bertelsmann AG\n",
      "TOP OF THE TREE FOR  Bertelsmann AG\n",
      "ENDED LOOP\n",
      "LABRELS []\n",
      "BMG OWNED BY e7da57d7-13a1-44a5-bbae-9665d1277d11   Electrosonora Manufacturas Saavedra S.A.\n",
      "Electrosonora Manufacturas Saavedra S.A. OWNED BY ff8d9d7e-24b2-4c07-9373-017c3e29d1c4   E.M.S.S.A. Argentina\n",
      "TOP OF THE TREE FOR  E.M.S.S.A. Argentina\n",
      "ENDED LOOP\n",
      "LABRELS []\n",
      "TOP OF THE TREE FOR  Electrosonora Manufacturas Saavedra S.A.\n",
      "ENDED LOOP\n",
      "LABRELS []\n",
      "TOP OF THE TREE FOR  BMG\n",
      "ENDED LOOP\n",
      "LABRELS []\n",
      "Sony BMG Music Entertainment OWNED BY a57fa9c5-f488-4bae-9eb6-41b734227e90   Sony Corporation of America\n",
      "TOP OF THE TREE FOR  Sony Corporation of America\n",
      "ENDED LOOP\n",
      "LABRELS []\n",
      "Sony BMG Music Entertainment OWNED BY bf519cd2-4e1e-46bf-948b-615f75424606   Sony Music Entertainment Inc.\n",
      "Sony Music Entertainment Inc. OWNED BY a38664cd-e8b1-479f-8ed6-192a5e9f2ab8   PT Indo Semar Sakti\n",
      "PT Indo Semar Sakti OWNED BY 5bdd3a69-9f2c-4ac6-9f20-4529ae9611bd   PT Warner Music Indonesia\n",
      "TOP OF THE TREE FOR  PT Warner Music Indonesia\n",
      "ENDED LOOP\n",
      "LABRELS []\n",
      "TOP OF THE TREE FOR  PT Indo Semar Sakti\n",
      "ENDED LOOP\n",
      "LABRELS []\n",
      "Sony Music Entertainment Inc. OWNED BY a57fa9c5-f488-4bae-9eb6-41b734227e90   Sony Corporation of America\n",
      "TOP OF THE TREE FOR  Sony Corporation of America\n",
      "ENDED LOOP\n",
      "LABRELS []\n",
      "Sony Music Entertainment Inc. OWNED BY de46c917-df55-4b7e-be7b-924a667ca93b   CBS Records Inc.\n",
      "CBS Records Inc. OWNED BY 27795d9f-3994-4643-9cd2-c5f2b304472d   CBS, Inc.\n",
      "CBS, Inc. OWNED BY db3c17ad-ca46-4bb5-95ca-61fc2de9800b   CBS Corporation\n",
      "TOP OF THE TREE FOR  CBS Corporation\n",
      "ENDED LOOP\n",
      "LABRELS []\n",
      "TOP OF THE TREE FOR  CBS, Inc.\n",
      "ENDED LOOP\n",
      "LABRELS []\n",
      "CBS Records Inc. OWNED BY a57fa9c5-f488-4bae-9eb6-41b734227e90   Sony Corporation of America\n",
      "TOP OF THE TREE FOR  Sony Corporation of America\n",
      "ENDED LOOP\n",
      "LABRELS []\n",
      "TOP OF THE TREE FOR  CBS Records Inc.\n",
      "ENDED LOOP\n",
      "LABRELS []\n",
      "TOP OF THE TREE FOR  Sony Music Entertainment Inc.\n",
      "ENDED LOOP\n",
      "LABRELS []\n",
      "Sony BMG Music Entertainment OWNED BY eec97363-9296-4b03-8369-8dc065fef2dd   The Record Collection\n",
      "TOP OF THE TREE FOR  The Record Collection\n",
      "ENDED LOOP\n",
      "LABRELS []\n",
      "TOP OF THE TREE FOR  Sony BMG Music Entertainment\n",
      "ENDED LOOP\n",
      "LABRELS []\n",
      "TOP OF THE TREE FOR  Sony BMG Music Entertainment (UK) Ltd.\n",
      "ENDED LOOP\n",
      "LABRELS []\n",
      "TOP OF THE TREE FOR  Sony Music Entertainment UK Limited\n",
      "ENDED LOOP\n",
      "LABRELS []\n",
      "TOP OF THE TREE FOR  Ministry of Sound Recordings Ltd.\n",
      "ENDED LOOP\n",
      "LABRELS []\n",
      "Ministry of Sound OWNED BY 5fc9c4d5-7b0e-45eb-b861-c281b6834b55   Metropol Records\n",
      "TOP OF THE TREE FOR  Metropol Records\n",
      "ENDED LOOP\n",
      "LABRELS []\n",
      "Ministry of Sound OWNED BY b72d7200-ba6a-413c-bfb6-c6d6a69e5cbc   Sumo Records\n",
      "TOP OF THE TREE FOR  Sumo Records\n",
      "ENDED LOOP\n",
      "LABRELS []\n",
      "Ministry of Sound OWNED BY f9ada3ae-3081-44df-8581-ca27a3462b68   Sony BMG Music Entertainment\n",
      "Sony BMG Music Entertainment OWNED BY 29d7c88f-5200-4418-a683-5c94ea032e38   BMG\n",
      "BMG OWNED BY 663466ee-6907-433f-a615-f352cb03f867   RCA/Ariola International\n",
      "TOP OF THE TREE FOR  RCA/Ariola International\n",
      "ENDED LOOP\n",
      "LABRELS []\n",
      "BMG OWNED BY 86d60b2d-2712-4c22-800c-ecf5327ee2f5   Bertelsmann AG\n",
      "TOP OF THE TREE FOR  Bertelsmann AG\n",
      "ENDED LOOP\n",
      "LABRELS []\n",
      "BMG OWNED BY e7da57d7-13a1-44a5-bbae-9665d1277d11   Electrosonora Manufacturas Saavedra S.A.\n",
      "Electrosonora Manufacturas Saavedra S.A. OWNED BY ff8d9d7e-24b2-4c07-9373-017c3e29d1c4   E.M.S.S.A. Argentina\n",
      "TOP OF THE TREE FOR  E.M.S.S.A. Argentina\n",
      "ENDED LOOP\n",
      "LABRELS []\n",
      "TOP OF THE TREE FOR  Electrosonora Manufacturas Saavedra S.A.\n",
      "ENDED LOOP\n",
      "LABRELS []\n",
      "TOP OF THE TREE FOR  BMG\n",
      "ENDED LOOP\n",
      "LABRELS []\n",
      "Sony BMG Music Entertainment OWNED BY a57fa9c5-f488-4bae-9eb6-41b734227e90   Sony Corporation of America\n",
      "TOP OF THE TREE FOR  Sony Corporation of America\n",
      "ENDED LOOP\n",
      "LABRELS []\n",
      "Sony BMG Music Entertainment OWNED BY bf519cd2-4e1e-46bf-948b-615f75424606   Sony Music Entertainment Inc.\n",
      "Sony Music Entertainment Inc. OWNED BY a38664cd-e8b1-479f-8ed6-192a5e9f2ab8   PT Indo Semar Sakti\n",
      "PT Indo Semar Sakti OWNED BY 5bdd3a69-9f2c-4ac6-9f20-4529ae9611bd   PT Warner Music Indonesia\n",
      "TOP OF THE TREE FOR  PT Warner Music Indonesia\n",
      "ENDED LOOP\n",
      "LABRELS []\n",
      "TOP OF THE TREE FOR  PT Indo Semar Sakti\n",
      "ENDED LOOP\n",
      "LABRELS []\n",
      "Sony Music Entertainment Inc. OWNED BY a57fa9c5-f488-4bae-9eb6-41b734227e90   Sony Corporation of America\n",
      "TOP OF THE TREE FOR  Sony Corporation of America\n",
      "ENDED LOOP\n",
      "LABRELS []\n",
      "Sony Music Entertainment Inc. OWNED BY de46c917-df55-4b7e-be7b-924a667ca93b   CBS Records Inc.\n",
      "CBS Records Inc. OWNED BY 27795d9f-3994-4643-9cd2-c5f2b304472d   CBS, Inc.\n",
      "CBS, Inc. OWNED BY db3c17ad-ca46-4bb5-95ca-61fc2de9800b   CBS Corporation\n",
      "TOP OF THE TREE FOR  CBS Corporation\n",
      "ENDED LOOP\n",
      "LABRELS []\n",
      "TOP OF THE TREE FOR  CBS, Inc.\n",
      "ENDED LOOP\n",
      "LABRELS []\n",
      "CBS Records Inc. OWNED BY a57fa9c5-f488-4bae-9eb6-41b734227e90   Sony Corporation of America\n",
      "TOP OF THE TREE FOR  Sony Corporation of America\n",
      "ENDED LOOP\n",
      "LABRELS []\n",
      "TOP OF THE TREE FOR  CBS Records Inc.\n",
      "ENDED LOOP\n",
      "LABRELS []\n",
      "TOP OF THE TREE FOR  Sony Music Entertainment Inc.\n",
      "ENDED LOOP\n",
      "LABRELS []\n",
      "Sony BMG Music Entertainment OWNED BY eec97363-9296-4b03-8369-8dc065fef2dd   The Record Collection\n",
      "TOP OF THE TREE FOR  The Record Collection\n",
      "ENDED LOOP\n",
      "LABRELS []\n",
      "TOP OF THE TREE FOR  Sony BMG Music Entertainment\n",
      "ENDED LOOP\n",
      "LABRELS []\n",
      "TOP OF THE TREE FOR  Ministry of Sound\n",
      "ENDED LOOP\n",
      "LABRELS []\n",
      "TOP OF THE TREE FOR  Ministry of Sound (Australia)\n",
      "REZLAB SELF\n",
      "XXXXXXXXXXXXXXXXXXXXXXXXXXXXXXXXX\n",
      "---------------------------\n",
      "21d62bdf-5962-4c41-90d0-1409ea4b59cb\n",
      "Dim Mak Records\n",
      "2012-01-10\n",
      "REZLAB None\n",
      "XXXXXXXXXXXXXXXXXXXXXXXXXXXXXXXXX\n",
      "---------------------------\n",
      "6c690937-c6c3-4c4e-9d3e-c62efa989333\n",
      "Ultra Records\n",
      "2012-01-17\n",
      "Ultra Records OWNED BY f0d2ccb8-a269-491c-bbe3-08bdcd3251b7   Ultra Records, Inc.\n",
      "TOP OF THE TREE FOR  Ultra Records, Inc.\n",
      "ENDED LOOP\n",
      "LABRELS []\n",
      "TOP OF THE TREE FOR  Ultra Records\n",
      "REZLAB SELF\n",
      "XXXXXXXXXXXXXXXXXXXXXXXXXXXXXXXXX\n",
      "---------------------------\n",
      "6c690937-c6c3-4c4e-9d3e-c62efa989333\n",
      "Ultra Records\n",
      "2016-03-02\n",
      "Ultra Records OWNED BY f0d2ccb8-a269-491c-bbe3-08bdcd3251b7   Ultra Records, Inc.\n",
      "TOP OF THE TREE FOR  Ultra Records, Inc.\n",
      "ENDED LOOP\n",
      "LABRELS []\n",
      "TOP OF THE TREE FOR  Ultra Records\n",
      "REZLAB SELF\n",
      "XXXXXXXXXXXXXXXXXXXXXXXXXXXXXXXXX\n",
      "---------------------------\n",
      "f259fefd-0e3e-4337-85a8-9e6b5f2b801f\n",
      "Mixmag\n",
      "2012-10\n",
      "Mixmag OWNED BY 5f33772c-841c-4c2b-af0d-0570015beace   DMC\n",
      "TOP OF THE TREE FOR  DMC\n",
      "ENDED LOOP\n",
      "LABRELS []\n",
      "TOP OF THE TREE FOR  Mixmag\n",
      "REZLAB SELF\n",
      "XXXXXXXXXXXXXXXXXXXXXXXXXXXXXXXXX\n",
      "---------------------------\n",
      "9e6626ae-56e2-4cdf-9c8b-ad1443986df9\n",
      "Lektroluv\n",
      "2010-09-29\n",
      "---------------------------\n",
      "6c690937-c6c3-4c4e-9d3e-c62efa989333\n",
      "Ultra Records\n",
      "2015-05-12\n",
      "Ultra Records OWNED BY f0d2ccb8-a269-491c-bbe3-08bdcd3251b7   Ultra Records, Inc.\n",
      "TOP OF THE TREE FOR  Ultra Records, Inc.\n",
      "ENDED LOOP\n",
      "LABRELS []\n",
      "TOP OF THE TREE FOR  Ultra Records\n",
      "REZLAB SELF\n",
      "XXXXXXXXXXXXXXXXXXXXXXXXXXXXXXXXX\n",
      "---------------------------\n",
      "6c690937-c6c3-4c4e-9d3e-c62efa989333\n",
      "Ultra Records\n",
      "2017-07-21\n",
      "Ultra Records OWNED BY f0d2ccb8-a269-491c-bbe3-08bdcd3251b7   Ultra Records, Inc.\n",
      "TOP OF THE TREE FOR  Ultra Records, Inc.\n",
      "ENDED LOOP\n",
      "LABRELS []\n",
      "TOP OF THE TREE FOR  Ultra Records\n",
      "REZLAB SELF\n",
      "XXXXXXXXXXXXXXXXXXXXXXXXXXXXXXXXX\n",
      "---------------------------\n",
      "6f5f098b-34c9-4462-88c0-635127970862\n",
      "BANDAI NAMCO Games\n",
      "2016-10-25\n",
      "---------------------------\n",
      "6c690937-c6c3-4c4e-9d3e-c62efa989333\n",
      "Ultra Records\n",
      "2014-11-10\n",
      "Ultra Records OWNED BY f0d2ccb8-a269-491c-bbe3-08bdcd3251b7   Ultra Records, Inc.\n",
      "TOP OF THE TREE FOR  Ultra Records, Inc.\n",
      "ENDED LOOP\n",
      "LABRELS []\n",
      "TOP OF THE TREE FOR  Ultra Records\n",
      "REZLAB SELF\n",
      "XXXXXXXXXXXXXXXXXXXXXXXXXXXXXXXXX\n",
      "---------------------------\n",
      "6c690937-c6c3-4c4e-9d3e-c62efa989333\n",
      "Ultra Records\n",
      "2015-10-02\n",
      "Ultra Records OWNED BY f0d2ccb8-a269-491c-bbe3-08bdcd3251b7   Ultra Records, Inc.\n",
      "TOP OF THE TREE FOR  Ultra Records, Inc.\n",
      "ENDED LOOP\n",
      "LABRELS []\n",
      "TOP OF THE TREE FOR  Ultra Records\n",
      "REZLAB SELF\n",
      "XXXXXXXXXXXXXXXXXXXXXXXXXXXXXXXXX\n",
      "---------------------------\n",
      "6c690937-c6c3-4c4e-9d3e-c62efa989333\n",
      "Ultra Records\n",
      "2015-05-12\n",
      "Ultra Records OWNED BY f0d2ccb8-a269-491c-bbe3-08bdcd3251b7   Ultra Records, Inc.\n",
      "TOP OF THE TREE FOR  Ultra Records, Inc.\n",
      "ENDED LOOP\n",
      "LABRELS []\n",
      "TOP OF THE TREE FOR  Ultra Records\n",
      "REZLAB SELF\n",
      "XXXXXXXXXXXXXXXXXXXXXXXXXXXXXXXXX\n",
      "---------------------------\n",
      "c4f0f076-f6e5-40ad-96e6-b341a4b85cd0\n",
      "Thrive Records\n",
      "2008-01-23\n",
      "TOP OF THE TREE FOR  Thrive Records\n",
      "REZLAB SELF\n",
      "XXXXXXXXXXXXXXXXXXXXXXXXXXXXXXXXX\n",
      "---------------------------\n",
      "6c690937-c6c3-4c4e-9d3e-c62efa989333\n",
      "Ultra Records\n",
      "2014-08-12\n",
      "Ultra Records OWNED BY f0d2ccb8-a269-491c-bbe3-08bdcd3251b7   Ultra Records, Inc.\n",
      "TOP OF THE TREE FOR  Ultra Records, Inc.\n",
      "ENDED LOOP\n",
      "LABRELS []\n",
      "TOP OF THE TREE FOR  Ultra Records\n",
      "REZLAB SELF\n",
      "XXXXXXXXXXXXXXXXXXXXXXXXXXXXXXXXX\n",
      "---------------------------\n",
      "21d62bdf-5962-4c41-90d0-1409ea4b59cb\n",
      "Dim Mak Records\n",
      "2017-07-21\n",
      "REZLAB None\n",
      "XXXXXXXXXXXXXXXXXXXXXXXXXXXXXXXXX\n",
      "---------------------------\n",
      "6c690937-c6c3-4c4e-9d3e-c62efa989333\n",
      "Ultra Records\n",
      "2014-10-09\n",
      "Ultra Records OWNED BY f0d2ccb8-a269-491c-bbe3-08bdcd3251b7   Ultra Records, Inc.\n",
      "TOP OF THE TREE FOR  Ultra Records, Inc.\n",
      "ENDED LOOP\n",
      "LABRELS []\n",
      "TOP OF THE TREE FOR  Ultra Records\n",
      "REZLAB SELF\n",
      "XXXXXXXXXXXXXXXXXXXXXXXXXXXXXXXXX\n",
      "---------------------------\n",
      "6c690937-c6c3-4c4e-9d3e-c62efa989333\n",
      "Ultra Records\n",
      "2014-08-12\n",
      "Ultra Records OWNED BY f0d2ccb8-a269-491c-bbe3-08bdcd3251b7   Ultra Records, Inc.\n",
      "TOP OF THE TREE FOR  Ultra Records, Inc.\n",
      "ENDED LOOP\n",
      "LABRELS []\n",
      "TOP OF THE TREE FOR  Ultra Records\n",
      "REZLAB SELF\n",
      "XXXXXXXXXXXXXXXXXXXXXXXXXXXXXXXXX\n",
      "---------------------------\n",
      "9e6626ae-56e2-4cdf-9c8b-ad1443986df9\n",
      "Lektroluv\n",
      "2010-10-04\n"
     ]
    }
   ],
   "source": [
    "###HERE WE BUILD A LABEL OWNERSHIP CRUSHER FACTORIZED\n",
    "with open(\"../../4_miner/labels_aliases_TOTAL.obj\", 'rb') as handle:\n",
    "          tempRelAll= pickle.load( handle)\n",
    "def find_owning_label(label):\n",
    "    \n",
    "    labrels=[]\n",
    "    if \"label-relation-list\" in tempRelAll[label][\"label\"] :\n",
    "\n",
    "        for relat in tempRelAll[label][\"label\"][\"label-relation-list\"]:\n",
    "            if \"direction\" in relat and relat[\"direction\"] == \"backward\":\n",
    "                print tempRelAll[label][\"label\"][\"name\"],\"OWNED BY\",relat[\"target\"],\" \",tempRelAll[relat[\"target\"]][\"label\"][\"name\"]\n",
    "                labrels.append(relat[\"target\"])\n",
    "                rum_and_whisky=\"\"\n",
    "                while rum_and_whisky != \"SELF\": \n",
    "                    rum_and_whisky=find_owning_label(relat[\"target\"])\n",
    "                print \"ENDED LOOP\"\n",
    "                labrels.remove(relat[\"target\"])\n",
    "                print \"LABRELS\",labrels\n",
    "                #if labrels[0]==relat[\"target\"]:\n",
    "                 #   break\n",
    "                \n",
    "            else:\n",
    "                pass\n",
    "            \n",
    "        \n",
    "        if not labrels :\n",
    "            print \"TOP OF THE TREE FOR \",tempRelAll[label][\"label\"][\"name\"]\n",
    "            return \"SELF\"\n",
    "        else:\n",
    "            return labrels\n",
    "                \n",
    "\n",
    "\n",
    "artist={}\n",
    "artist[\"name\"]=\"Steve Aoki\"\n",
    "artist[\"mbid\"]=\"a39acc4a-985e-4173-a9ed-f325f2d3bc1c\"\n",
    "\n",
    "with open(\"../../4_miner/release_mbnz/\"+artist[\"name\"]+artist[\"mbid\"]+\".obj\", 'rb') as handle:\n",
    "          tempRelz= pickle.load( handle)\n",
    "#print tempRel[\"release-list\"][0]['label-info-list'][0]['label']['id']\n",
    "#print tempRel[\"release-list\"][0]['release-event-list'][0][\"date\"]\n",
    "\n",
    "\n",
    "\n",
    "\n",
    "for release in tempRelz[\"release-list\"]:\n",
    "    print\"---------------------------\"\n",
    "    print release['label-info-list'][0]['label']['id']\n",
    "    print release['label-info-list'][0]['label']['name']\n",
    "    print release['release-event-list'][0][\"date\"]\n",
    "    \n",
    "    #print tempRelAll[release['label-info-list'][0]['label']['id']][\"label\"]\n",
    "    try:\n",
    "        result_lab=find_owning_label(release['label-info-list'][0]['label']['id'])\n",
    "        print \"REZLAB\",result_lab \n",
    "        print\"XXXXXXXXXXXXXXXXXXXXXXXXXXXXXXXXX\"\n",
    "    except KeyError as e:\n",
    "        #print e\n",
    "        pass"
   ]
  },
  {
   "cell_type": "code",
   "execution_count": 149,
   "metadata": {
    "scrolled": true
   },
   "outputs": [
    {
     "name": "stdout",
     "output_type": "stream",
     "text": [
      "SKIPPED PROCESSING BUT TAKING INTO ACCOUNT  Fit For An Autopsy\n",
      "SKIPPED PROCESSING BUT TAKING INTO ACCOUNT  The Polyphonic Spree\n",
      "SKIPPED PROCESSING BUT TAKING INTO ACCOUNT  Ultra Naté\n",
      "SKIPPED PROCESSING BUT TAKING INTO ACCOUNT  Ron Pope\n",
      "SKIPPED PROCESSING BUT TAKING INTO ACCOUNT  Rhiannon Giddens\n",
      "SKIPPED PROCESSING BUT TAKING INTO ACCOUNT  Steve Wilson\n",
      "SKIPPED PROCESSING BUT TAKING INTO ACCOUNT  --\n",
      "SKIPPED PROCESSING BUT TAKING INTO ACCOUNT  Elephante\n",
      "SKIPPED PROCESSING BUT TAKING INTO ACCOUNT  St. Lucia\n",
      "SKIPPED PROCESSING BUT TAKING INTO ACCOUNT  Gonzo\n",
      "SKIPPED PROCESSING BUT TAKING INTO ACCOUNT  B. Dolan\n",
      "SKIPPED PROCESSING BUT TAKING INTO ACCOUNT  Scot Project\n",
      "SKIPPED PROCESSING BUT TAKING INTO ACCOUNT  Mike Dawes\n",
      "SKIPPED PROCESSING BUT TAKING INTO ACCOUNT  Vanessa Peters\n",
      "SKIPPED PROCESSING BUT TAKING INTO ACCOUNT  Malo\n",
      "SKIPPED PROCESSING BUT TAKING INTO ACCOUNT  Dangermuffin\n",
      "SKIPPED PROCESSING BUT TAKING INTO ACCOUNT  Chris Trapper\n",
      "SKIPPED PROCESSING BUT TAKING INTO ACCOUNT  Omarion\n",
      "SKIPPED PROCESSING BUT TAKING INTO ACCOUNT  Crowder Music\n",
      "SKIPPED PROCESSING BUT TAKING INTO ACCOUNT  Alex Cuba\n",
      "SKIPPED PROCESSING BUT TAKING INTO ACCOUNT  Josh Grider\n",
      "SKIPPED PROCESSING BUT TAKING INTO ACCOUNT  Zardonic\n",
      "SKIPPED PROCESSING BUT TAKING INTO ACCOUNT  Carbon Leaf\n",
      "SKIPPED PROCESSING BUT TAKING INTO ACCOUNT  Dervish\n",
      "SKIPPED PROCESSING BUT TAKING INTO ACCOUNT  Bow\n",
      "SKIPPED PROCESSING BUT TAKING INTO ACCOUNT  Emily\n",
      "SKIPPED PROCESSING BUT TAKING INTO ACCOUNT  AFTON SHOWCASE\n",
      "SKIPPED PROCESSING BUT TAKING INTO ACCOUNT  MOTOWN THE MUSICAL\n",
      "SKIPPED PROCESSING BUT TAKING INTO ACCOUNT  Axis\n",
      "SKIPPED PROCESSING BUT TAKING INTO ACCOUNT  Viktor\n",
      "SKIPPED PROCESSING BUT TAKING INTO ACCOUNT  Casey Abrams\n",
      "SKIPPED PROCESSING BUT TAKING INTO ACCOUNT  George Ezra\n",
      "SKIPPED PROCESSING BUT TAKING INTO ACCOUNT  Kinky\n",
      "SKIPPED PROCESSING BUT TAKING INTO ACCOUNT  Barnt\n",
      "SKIPPED PROCESSING BUT TAKING INTO ACCOUNT  Scott Law\n",
      "SKIPPED PROCESSING BUT TAKING INTO ACCOUNT  Uncle Lucius\n",
      "SKIPPED PROCESSING BUT TAKING INTO ACCOUNT  Divided Heaven\n",
      "SKIPPED PROCESSING BUT TAKING INTO ACCOUNT  Omar Sosa\n",
      "SKIPPED PROCESSING BUT TAKING INTO ACCOUNT  The Builders & The Butchers\n",
      "SKIPPED PROCESSING BUT TAKING INTO ACCOUNT  Over the Rhine\n",
      "SKIPPED PROCESSING BUT TAKING INTO ACCOUNT  Scythian\n",
      "SKIPPED PROCESSING BUT TAKING INTO ACCOUNT  Shellac\n",
      "SKIPPED PROCESSING BUT TAKING INTO ACCOUNT  Scooter\n",
      "SKIPPED PROCESSING BUT TAKING INTO ACCOUNT  The Shakedown\n",
      "SKIPPED PROCESSING BUT TAKING INTO ACCOUNT  Jay Electronica\n",
      "SKIPPED PROCESSING BUT TAKING INTO ACCOUNT  Smokie\n",
      "SKIPPED PROCESSING BUT TAKING INTO ACCOUNT  Judah & The Lion\n",
      "SKIPPED PROCESSING BUT TAKING INTO ACCOUNT  Jagged Edge\n",
      "SKIPPED PROCESSING BUT TAKING INTO ACCOUNT  Zo!\n",
      "SKIPPED PROCESSING BUT TAKING INTO ACCOUNT  Alisa Weilerstein\n",
      "SKIPPED PROCESSING BUT TAKING INTO ACCOUNT  Monkey Safari\n",
      "SKIPPED PROCESSING BUT TAKING INTO ACCOUNT  SNBRN\n",
      "SKIPPED PROCESSING BUT TAKING INTO ACCOUNT  Jonah Smith\n",
      "SKIPPED PROCESSING BUT TAKING INTO ACCOUNT  Sun Kil Moon\n",
      "SKIPPED PROCESSING BUT TAKING INTO ACCOUNT  Sunny Sweeney\n",
      "SKIPPED PROCESSING BUT TAKING INTO ACCOUNT  Mike Peters\n",
      "SKIPPED PROCESSING BUT TAKING INTO ACCOUNT  The Dunwells\n",
      "SKIPPED PROCESSING BUT TAKING INTO ACCOUNT  The Waterboys\n",
      "SKIPPED PROCESSING BUT TAKING INTO ACCOUNT  Wet\n",
      "SKIPPED PROCESSING BUT TAKING INTO ACCOUNT  Alternate Routes\n",
      "SKIPPED PROCESSING BUT TAKING INTO ACCOUNT  All-4-One\n",
      "SKIPPED PROCESSING BUT TAKING INTO ACCOUNT  PJ Harvey\n",
      "SKIPPED PROCESSING BUT TAKING INTO ACCOUNT  Dominic Miller\n",
      "SKIPPED PROCESSING BUT TAKING INTO ACCOUNT  Alejandro Fernández\n",
      "SKIPPED PROCESSING BUT TAKING INTO ACCOUNT  Anthony Gomes\n",
      "SKIPPED PROCESSING BUT TAKING INTO ACCOUNT  Phil Lesh\n",
      "SKIPPED PROCESSING BUT TAKING INTO ACCOUNT  Julian Marley\n",
      "SKIPPED PROCESSING BUT TAKING INTO ACCOUNT  Chris Lane\n",
      "SKIPPED PROCESSING BUT TAKING INTO ACCOUNT  The Ghost Inside\n",
      "SKIPPED PROCESSING BUT TAKING INTO ACCOUNT  Sango\n",
      "SKIPPED PROCESSING BUT TAKING INTO ACCOUNT  Dan Reed\n",
      "SKIPPED PROCESSING BUT TAKING INTO ACCOUNT  A Thousand Horses\n",
      "SKIPPED PROCESSING BUT TAKING INTO ACCOUNT  Roland\n",
      "SKIPPED PROCESSING BUT TAKING INTO ACCOUNT  Don Carlos\n",
      "SKIPPED PROCESSING BUT TAKING INTO ACCOUNT  Eric Johnson\n",
      "SKIPPED PROCESSING BUT TAKING INTO ACCOUNT  Wayne Shorter Quartet\n",
      "SKIPPED PROCESSING BUT TAKING INTO ACCOUNT  Zion Train\n",
      "SKIPPED PROCESSING BUT TAKING INTO ACCOUNT  Brian Posehn\n",
      "SKIPPED PROCESSING BUT TAKING INTO ACCOUNT  ABK\n",
      "SKIPPED PROCESSING BUT TAKING INTO ACCOUNT  Richard Shindell\n",
      "SKIPPED PROCESSING BUT TAKING INTO ACCOUNT  Goose Productions\n",
      "SKIPPED PROCESSING BUT TAKING INTO ACCOUNT  Hanni El Khatib\n",
      "SKIPPED PROCESSING BUT TAKING INTO ACCOUNT  Left Alone\n",
      "SKIPPED PROCESSING BUT TAKING INTO ACCOUNT  Kb\n",
      "SKIPPED PROCESSING BUT TAKING INTO ACCOUNT  Company\n",
      "SKIPPED PROCESSING BUT TAKING INTO ACCOUNT  Lenny White\n",
      "SKIPPED PROCESSING BUT TAKING INTO ACCOUNT  BoDeans\n",
      "SKIPPED PROCESSING BUT TAKING INTO ACCOUNT  Revival\n",
      "SKIPPED PROCESSING BUT TAKING INTO ACCOUNT  PUP\n",
      "SKIPPED PROCESSING BUT TAKING INTO ACCOUNT  GT\n",
      "SKIPPED PROCESSING BUT TAKING INTO ACCOUNT  Indigenous\n",
      "SKIPPED PROCESSING BUT TAKING INTO ACCOUNT  Claire Lynch\n",
      "SKIPPED PROCESSING BUT TAKING INTO ACCOUNT  Rakim\n",
      "SKIPPED PROCESSING BUT TAKING INTO ACCOUNT  Goldfinger\n",
      "SKIPPED PROCESSING BUT TAKING INTO ACCOUNT  Icicle\n",
      "SKIPPED PROCESSING BUT TAKING INTO ACCOUNT  Back To the Future\n",
      "SKIPPED PROCESSING BUT TAKING INTO ACCOUNT  Christian Löffler\n",
      "SKIPPED PROCESSING BUT TAKING INTO ACCOUNT  Kiko Navarro\n",
      "SKIPPED PROCESSING BUT TAKING INTO ACCOUNT  Kris Delmhorst\n",
      "SKIPPED PROCESSING BUT TAKING INTO ACCOUNT  Moon Taxi\n",
      "SKIPPED PROCESSING BUT TAKING INTO ACCOUNT  Wave Racer\n",
      "SKIPPED PROCESSING BUT TAKING INTO ACCOUNT  The Magic Numbers\n",
      "SKIPPED PROCESSING BUT TAKING INTO ACCOUNT  Honey Island Swamp Band\n",
      "SKIPPED PROCESSING BUT TAKING INTO ACCOUNT  Untold\n",
      "SKIPPED PROCESSING BUT TAKING INTO ACCOUNT  Turmspringer\n",
      "SKIPPED PROCESSING BUT TAKING INTO ACCOUNT  Impulse\n",
      "SKIPPED PROCESSING BUT TAKING INTO ACCOUNT  Experience Offer\n",
      "SKIPPED PROCESSING BUT TAKING INTO ACCOUNT  Capital Kings\n",
      "SKIPPED PROCESSING BUT TAKING INTO ACCOUNT  Hinds\n",
      "SKIPPED PROCESSING BUT TAKING INTO ACCOUNT  Gas Station Disco\n",
      "SKIPPED PROCESSING BUT TAKING INTO ACCOUNT  Jeremy McComb\n",
      "SKIPPED PROCESSING BUT TAKING INTO ACCOUNT  First Blood\n",
      "SKIPPED PROCESSING BUT TAKING INTO ACCOUNT  Rampue\n",
      "SKIPPED PROCESSING BUT TAKING INTO ACCOUNT  Sunny Ledfurd\n",
      "SKIPPED PROCESSING BUT TAKING INTO ACCOUNT  ANORAAK\n",
      "SKIPPED PROCESSING BUT TAKING INTO ACCOUNT  Karrin Allyson\n",
      "SKIPPED PROCESSING BUT TAKING INTO ACCOUNT  Jake La Botz\n",
      "SKIPPED PROCESSING BUT TAKING INTO ACCOUNT  Patrick Sweany\n",
      "SKIPPED PROCESSING BUT TAKING INTO ACCOUNT  Apollo\n",
      "SKIPPED PROCESSING BUT TAKING INTO ACCOUNT  Dirty\n",
      "SKIPPED PROCESSING BUT TAKING INTO ACCOUNT  The Subdudes\n",
      "SKIPPED PROCESSING BUT TAKING INTO ACCOUNT  Sylvan Esso\n",
      "SKIPPED PROCESSING BUT TAKING INTO ACCOUNT  Andrey PUSHKAREV\n",
      "SKIPPED PROCESSING BUT TAKING INTO ACCOUNT  Babyface\n",
      "SKIPPED PROCESSING BUT TAKING INTO ACCOUNT  Joe D'Urso\n",
      "SKIPPED PROCESSING BUT TAKING INTO ACCOUNT  Dennis Cruz\n",
      "SKIPPED PROCESSING BUT TAKING INTO ACCOUNT  Obscura\n",
      "SKIPPED PROCESSING BUT TAKING INTO ACCOUNT  The Weeks\n",
      "SKIPPED PROCESSING BUT TAKING INTO ACCOUNT  The Dead Daisies\n",
      "SKIPPED PROCESSING BUT TAKING INTO ACCOUNT  Bill Burr\n",
      "SKIPPED PROCESSING BUT TAKING INTO ACCOUNT  Kungs\n",
      "SKIPPED PROCESSING BUT TAKING INTO ACCOUNT  DSB\n",
      "SKIPPED PROCESSING BUT TAKING INTO ACCOUNT  ALO\n",
      "SKIPPED PROCESSING BUT TAKING INTO ACCOUNT  The Mole\n",
      "SKIPPED PROCESSING BUT TAKING INTO ACCOUNT  British Sea Power\n",
      "SKIPPED PROCESSING BUT TAKING INTO ACCOUNT  Anne McCue\n",
      "SKIPPED PROCESSING BUT TAKING INTO ACCOUNT  Valentino Kanzyani\n",
      "SKIPPED PROCESSING BUT TAKING INTO ACCOUNT  No Joy\n",
      "SKIPPED PROCESSING BUT TAKING INTO ACCOUNT  The Teardrops\n",
      "SKIPPED PROCESSING BUT TAKING INTO ACCOUNT  Sham 69\n",
      "SKIPPED PROCESSING BUT TAKING INTO ACCOUNT  Bastian Baker\n",
      "SKIPPED PROCESSING BUT TAKING INTO ACCOUNT  Rumpke Mountain Boys\n",
      "SKIPPED PROCESSING BUT TAKING INTO ACCOUNT  Eve 6\n",
      "SKIPPED PROCESSING BUT TAKING INTO ACCOUNT  Melt-Banana\n",
      "SKIPPED PROCESSING BUT TAKING INTO ACCOUNT  Moreland\n",
      "SKIPPED PROCESSING BUT TAKING INTO ACCOUNT  Sergio Mendes\n",
      "SKIPPED PROCESSING BUT TAKING INTO ACCOUNT  Glenn Hughes\n",
      "SKIPPED PROCESSING BUT TAKING INTO ACCOUNT  Monica\n",
      "SKIPPED PROCESSING BUT TAKING INTO ACCOUNT  AFFIANCE\n",
      "SKIPPED PROCESSING BUT TAKING INTO ACCOUNT  Trixie Whitley\n",
      "SKIPPED PROCESSING BUT TAKING INTO ACCOUNT  Palms Trax\n",
      "SKIPPED PROCESSING BUT TAKING INTO ACCOUNT  Cristoph\n",
      "SKIPPED PROCESSING BUT TAKING INTO ACCOUNT  Jaybee\n",
      "SKIPPED PROCESSING BUT TAKING INTO ACCOUNT  AWOL\n",
      "SKIPPED PROCESSING BUT TAKING INTO ACCOUNT  Bruce\n",
      "SKIPPED PROCESSING BUT TAKING INTO ACCOUNT  Marnik\n",
      "SKIPPED PROCESSING BUT TAKING INTO ACCOUNT  Lana Del Rey\n",
      "SKIPPED PROCESSING BUT TAKING INTO ACCOUNT  Midori\n",
      "SKIPPED PROCESSING BUT TAKING INTO ACCOUNT  Hugh Masekela\n",
      "SKIPPED PROCESSING BUT TAKING INTO ACCOUNT  WARNER DRIVE\n",
      "SKIPPED PROCESSING BUT TAKING INTO ACCOUNT  Sigha\n",
      "SKIPPED PROCESSING BUT TAKING INTO ACCOUNT  Gary Puckett\n",
      "SKIPPED PROCESSING BUT TAKING INTO ACCOUNT  The Bright Light Social Hour\n",
      "SKIPPED PROCESSING BUT TAKING INTO ACCOUNT  Kollektiv Turmstrasse\n",
      "SKIPPED PROCESSING BUT TAKING INTO ACCOUNT  Push\n",
      "SKIPPED PROCESSING BUT TAKING INTO ACCOUNT  Dancing\n",
      "SKIPPED PROCESSING BUT TAKING INTO ACCOUNT  Death Grips\n",
      "SKIPPED PROCESSING BUT TAKING INTO ACCOUNT  Martin Hayes\n",
      "SKIPPED PROCESSING BUT TAKING INTO ACCOUNT  Patrice Scott\n",
      "SKIPPED PROCESSING BUT TAKING INTO ACCOUNT  Sleep\n",
      "SKIPPED PROCESSING BUT TAKING INTO ACCOUNT  Kamasi Washington\n",
      "SKIPPED PROCESSING BUT TAKING INTO ACCOUNT  Stick Figure\n",
      "SKIPPED PROCESSING BUT TAKING INTO ACCOUNT  Mane\n",
      "SKIPPED PROCESSING BUT TAKING INTO ACCOUNT  Jacob Martin\n",
      "SKIPPED PROCESSING BUT TAKING INTO ACCOUNT  G Jones\n",
      "SKIPPED PROCESSING BUT TAKING INTO ACCOUNT  Stereo Total\n",
      "SKIPPED PROCESSING BUT TAKING INTO ACCOUNT  Taylor Dayne\n",
      "SKIPPED PROCESSING BUT TAKING INTO ACCOUNT  CHILLY GONZALES\n",
      "SKIPPED PROCESSING BUT TAKING INTO ACCOUNT  The Quireboys\n",
      "SKIPPED PROCESSING BUT TAKING INTO ACCOUNT  The Prophet\n",
      "SKIPPED PROCESSING BUT TAKING INTO ACCOUNT  Mustard Plug\n",
      "SKIPPED PROCESSING BUT TAKING INTO ACCOUNT  Guitars\n",
      "SKIPPED PROCESSING BUT TAKING INTO ACCOUNT  Randall M\n",
      "SKIPPED PROCESSING BUT TAKING INTO ACCOUNT  The Smithereens\n",
      "SKIPPED PROCESSING BUT TAKING INTO ACCOUNT  Perfect Stranger\n",
      "SKIPPED PROCESSING BUT TAKING INTO ACCOUNT  Tyler, The Creator\n",
      "SKIPPED PROCESSING BUT TAKING INTO ACCOUNT  Atlas Genius\n",
      "SKIPPED PROCESSING BUT TAKING INTO ACCOUNT  The Wild Feathers\n",
      "SKIPPED PROCESSING BUT TAKING INTO ACCOUNT  Harpeth Rising\n",
      "SKIPPED PROCESSING BUT TAKING INTO ACCOUNT  Bart Crow\n",
      "SKIPPED PROCESSING BUT TAKING INTO ACCOUNT  Numbers\n",
      "SKIPPED PROCESSING BUT TAKING INTO ACCOUNT  Lambchop\n",
      "SKIPPED PROCESSING BUT TAKING INTO ACCOUNT  Melvin Seals and JGB\n",
      "SKIPPED PROCESSING BUT TAKING INTO ACCOUNT  SH\n",
      "SKIPPED PROCESSING BUT TAKING INTO ACCOUNT  Jo Koy\n",
      "SKIPPED PROCESSING BUT TAKING INTO ACCOUNT  Kongos\n",
      "SKIPPED PROCESSING BUT TAKING INTO ACCOUNT  Cody Canada and The Departed\n",
      "SKIPPED PROCESSING BUT TAKING INTO ACCOUNT  No Turning Back\n",
      "SKIPPED PROCESSING BUT TAKING INTO ACCOUNT  Luna\n",
      "SKIPPED PROCESSING BUT TAKING INTO ACCOUNT  Raheem DeVaughn\n",
      "SKIPPED PROCESSING BUT TAKING INTO ACCOUNT  Colleen Green\n",
      "SKIPPED PROCESSING BUT TAKING INTO ACCOUNT  The Saw Doctors\n",
      "SKIPPED PROCESSING BUT TAKING INTO ACCOUNT  Silver\n",
      "SKIPPED PROCESSING BUT TAKING INTO ACCOUNT  After the Fall\n",
      "SKIPPED PROCESSING BUT TAKING INTO ACCOUNT  Kaleo\n",
      "SKIPPED PROCESSING BUT TAKING INTO ACCOUNT  DJ Icey\n",
      "SKIPPED PROCESSING BUT TAKING INTO ACCOUNT  Luke Winslow-King\n",
      "SKIPPED PROCESSING BUT TAKING INTO ACCOUNT  Peter Bradley Adams\n",
      "SKIPPED PROCESSING BUT TAKING INTO ACCOUNT  Angels\n",
      "SKIPPED PROCESSING BUT TAKING INTO ACCOUNT  Killer Queen\n",
      "SKIPPED PROCESSING BUT TAKING INTO ACCOUNT  Jack Garratt\n",
      "SKIPPED PROCESSING BUT TAKING INTO ACCOUNT  Olly Murs\n"
     ]
    },
    {
     "ename": "KeyboardInterrupt",
     "evalue": "",
     "output_type": "error",
     "traceback": [
      "\u001b[0;31m---------------------------------------------------------------------------\u001b[0m",
      "\u001b[0;31mKeyboardInterrupt\u001b[0m                         Traceback (most recent call last)",
      "\u001b[0;32m<ipython-input-149-8e81d27ec607>\u001b[0m in \u001b[0;36m<module>\u001b[0;34m()\u001b[0m\n\u001b[1;32m    307\u001b[0m                     \u001b[0mmy_nodesdictGLOBAL\u001b[0m\u001b[0;34m[\u001b[0m\u001b[0mkey\u001b[0m\u001b[0;34m]\u001b[0m\u001b[0;34m[\u001b[0m\u001b[0;34m'data'\u001b[0m\u001b[0;34m]\u001b[0m\u001b[0;34m[\u001b[0m\u001b[0;34m\"end\"\u001b[0m\u001b[0;34m]\u001b[0m\u001b[0;34m=\u001b[0m\u001b[0mmy_nodesdict\u001b[0m\u001b[0;34m[\u001b[0m\u001b[0mkey\u001b[0m\u001b[0;34m]\u001b[0m\u001b[0;34m[\u001b[0m\u001b[0;34m'data'\u001b[0m\u001b[0;34m]\u001b[0m\u001b[0;34m[\u001b[0m\u001b[0;34m\"end\"\u001b[0m\u001b[0;34m]\u001b[0m\u001b[0;34m\u001b[0m\u001b[0m\n\u001b[1;32m    308\u001b[0m                 \u001b[0mmy_nodesdictGLOBAL\u001b[0m\u001b[0;34m[\u001b[0m\u001b[0mkey\u001b[0m\u001b[0;34m]\u001b[0m\u001b[0;34m[\u001b[0m\u001b[0;34m'data'\u001b[0m\u001b[0;34m]\u001b[0m\u001b[0;34m[\u001b[0m\u001b[0;34m\"notes\"\u001b[0m\u001b[0;34m]\u001b[0m\u001b[0;34m+=\u001b[0m\u001b[0;34m\"  \\n\"\u001b[0m\u001b[0;34m+\u001b[0m\u001b[0mslugify\u001b[0m\u001b[0;34m(\u001b[0m\u001b[0martist\u001b[0m\u001b[0;34m[\u001b[0m\u001b[0;34m\"name\"\u001b[0m\u001b[0;34m]\u001b[0m\u001b[0;34m)\u001b[0m\u001b[0;34m\u001b[0m\u001b[0m\n\u001b[0;32m--> 309\u001b[0;31m                 \u001b[0mmy_nodesdictGLOBAL\u001b[0m\u001b[0;34m[\u001b[0m\u001b[0mkey\u001b[0m\u001b[0;34m]\u001b[0m\u001b[0;34m[\u001b[0m\u001b[0;34m'data'\u001b[0m\u001b[0;34m]\u001b[0m\u001b[0;34m[\u001b[0m\u001b[0;34m\"count\"\u001b[0m\u001b[0;34m]\u001b[0m\u001b[0;34m+=\u001b[0m\u001b[0mint\u001b[0m\u001b[0;34m(\u001b[0m\u001b[0;36m1\u001b[0m\u001b[0;34m)\u001b[0m\u001b[0;34m\u001b[0m\u001b[0m\n\u001b[0m\u001b[1;32m    310\u001b[0m                 \u001b[0;31m#print \"GLOBAL2\",my_nodesdictGLOBAL[key]\u001b[0m\u001b[0;34m\u001b[0m\u001b[0;34m\u001b[0m\u001b[0m\n\u001b[1;32m    311\u001b[0m             \u001b[0;32melse\u001b[0m\u001b[0;34m:\u001b[0m\u001b[0;34m\u001b[0m\u001b[0m\n",
      "\u001b[0;31mKeyboardInterrupt\u001b[0m: "
     ]
    }
   ],
   "source": [
    "# setup mongo\n",
    "client = MongoClient()\n",
    "db = client[\"bandstour\"]\n",
    "bandsintown =  db[\"minedArtists\"]\n",
    "\n",
    "# credentials\n",
    "TOPOGRAM_URL = \"https://app.topogram.io\"\n",
    "USER = \"gregory.bahde@laposte.net\"\n",
    "PASSWORD = \"matrix\"\n",
    "\n",
    "# data\n",
    "#title = \"Foo Fighters bandstour 0.1\"\n",
    "my_nodesdict = {}\n",
    "my_nodes= []\n",
    "my_edges = []\n",
    "my_edgesdict = {}\n",
    "my_nodesdictGLOBAL={}\n",
    "\n",
    "#LIVENATION CATALOGUE\n",
    "liste_salles_LN = json.load(open('./JSON_LIVENATION_VENUE.json'))\n",
    "\n",
    "liste_salle_parsee_LN={}\n",
    "for salle in liste_salles_LN:\n",
    "    if liste_salles_LN[salle][\"type\"]==\"venue\":\n",
    " \n",
    "            liste_salle_parsee_LN[slugify(liste_salles_LN[salle][\"title\"])]={\"lat\":liste_salles_LN[salle][\"position\"][\"lat\"],\"lng\":liste_salles_LN[salle][\"position\"][\"lng\"]}\n",
    "#print liste_salle_parsee_LN\n",
    "\n",
    "\n",
    "# date parsing\n",
    "DATETIME_FORMAT = '%Y-%m-%dT%H:%M:%S'\n",
    "DATETIME_FORMAT_FOR_MSBNZ ='%Y-%m-%d'\n",
    "\n",
    "#retrieve trip coords for each artist\n",
    "dict_coords={}\n",
    "colors_for_nodes_and_edges = get_N_HexCol()\n",
    "\n",
    "for artist in db.minedArtists.find({\"totalKm\": {\"$gte\": 250000}}) :\n",
    " title = artist[\"name\"]   \n",
    " if os.path.exists(savpath+slugify(artist[\"name\"]+str(artist[\"mbid\"]))+\".obj\")==True:\n",
    "        my_nodesdict = {}\n",
    "        my_nodesdictList=[]\n",
    "        print \"SKIPPED PROCESSING BUT TAKING INTO ACCOUNT \",artist[\"name\"]\n",
    "        with open(savpath+slugify(artist[\"name\"]+str(artist[\"mbid\"]))+\".obj\", 'rb') as handle:\n",
    "          tempL= pickle.load( handle)\n",
    "    #print \n",
    "        tit=tempL[0].encode(\"utf-8\")\n",
    "        #edgestop=temp[2]\n",
    "        my_nodesdictList=tempL[1]\n",
    "        for node in my_nodesdictList:\n",
    "            my_nodesdict[node[\"data\"][\"id\"]]=node\n",
    "\n",
    "        #print my_nodes\n",
    "        #pass\n",
    " else:\n",
    "    my_nodesdict = {}\n",
    "    my_nodes= []\n",
    "    my_edges = []\n",
    "    my_nodesdictList=[]\n",
    "    my_edgesdict = {}\n",
    "    #colors_for_nodes_and_edges = get_N_HexCol()\n",
    "    \n",
    "    print artist[\"name\"]\n",
    "    #print artist\n",
    "    dates_coords = []\n",
    "    dates = artist.get(\"gigs\")\n",
    "    tours = artist.get(\"tours\")    \n",
    "    singlegigs = artist.get(\"singleGigs\")\n",
    "    dateini=0\n",
    "    touring=0\n",
    "    tour_indice=0\n",
    "    tour_counter_for_CO2=1\n",
    "    tour_counter_for_CO2_lock=0\n",
    "    tmpOLDgig ={}\n",
    "    with open(\"../../4_miner/tour_miner/\"+slugify(artist[\"name\"]+str(artist[\"mbid\"]))+\".obj\", 'rb') as handle:\n",
    "                    tempCO2= pickle.load( handle)\n",
    "    #print tempCO2\n",
    "    #print tours\n",
    "    for tour in tours:\n",
    "        \n",
    "        ##WE NEED TO MATCH TOUR INDICES OF CO2 SPECS FILES...\n",
    "     if tour_counter_for_CO2_lock == 1:\n",
    "        tour_counter_for_CO2+=1\n",
    "     tour_counter_for_CO2_lock=0\n",
    "     tour_color = \"#\"+colors_for_nodes_and_edges[tour_indice % 20]\n",
    "     #print tour_color\n",
    "     #print tour\n",
    "     gig_indice =0\n",
    "     dates = tour.get(\"gigs\")\n",
    "     for date in dates:\n",
    "        #print date.get(\"datetime\")\n",
    "        venue = date.get(\"venue\")\n",
    "        latitude = venue.get(\"latitude\")\n",
    "        longitude = venue.get(\"longitude\")\n",
    "        #print venue\n",
    "        ###concat key\n",
    "        idd= slugify(venue[\"name\"])+str(int(venue[\"latitude\"]))+str(int(venue[\"longitude\"]))\n",
    "        \n",
    "        if idd not in my_nodesdict:\n",
    "            \n",
    "            node = {\n",
    "                    \"id\" : idd,\n",
    "                    \"name\" : slugify(venue[\"name\"]),\n",
    "                    \"lat\" : float(venue[\"latitude\"]),\n",
    "                    \"lng\" : float(venue[\"longitude\"]),\n",
    "                    \"weight\" : float(1),\n",
    "                    \"start\" : date.get(\"datetime\").isoformat(),\n",
    "                    \"end\" : (date.get(\"datetime\")+timedelta(days=1)).isoformat(),\n",
    "                    \"color\" : tour_color,\n",
    "                    \"notes\" : \"name : \"+slugify(venue[\"name\"])+\"  \\nlat : \"+str(float(venue[\"latitude\"]))+\"  \\nlng :\"+str(float(venue[\"longitude\"]))+\"  \\n weight :\"+str(1)+\"  \\nstart : \"+str(date.get(\"datetime\").isoformat())+\"  \\nend : \"+str((date.get(\"datetime\")+timedelta(days=1)).isoformat())+\"  \\ncolor :\"+str(tour_color)+\"  \\n  <a href=\\\"https://google.com/search?q=\"+slugify(venue[\"name\"])+\"\\\" target=\\\"_blank\\\">\"+slugify(venue[\"name\"])+\"</a>\"\n",
    "                #+\"  \\n[search venue named \"+slugify(venue[\"name\"])+\" on google](https://google.com/search?q=\"+slugify(venue[\"name\"])+\")\"\n",
    "                    }\n",
    "        else:\n",
    "                \n",
    "                node = {\n",
    "                    \"id\" : idd,\n",
    "                    \"name\" : slugify(venue[\"name\"]),\n",
    "                    \"lat\" : float(venue[\"latitude\"]),\n",
    "                    \"lng\" : float(venue[\"longitude\"]),\n",
    "                    \"weight\" : math.sqrt(float(my_nodesdict[idd][\"data\"].get(\"weight\"))+1) ,\n",
    "                    \"start\" : my_nodesdict[idd][\"data\"].get(\"start\"),\n",
    "                    \"end\" : (date.get(\"datetime\")+timedelta(days=1)).isoformat(),\n",
    "                    \"color\" : tour_color,\n",
    "                    \"notes\" : \"name : \"+slugify(venue[\"name\"])+\"  \\nlat : \"+str(float(venue[\"latitude\"]))+\"  \\nlng :\"+str(float(venue[\"longitude\"]))+\"  \\n weight :\"+str((float(my_nodesdict[idd][\"data\"].get(\"weight\"))+1)**2)+\"  \\nstart : \"+str(my_nodesdict[idd][\"data\"].get(\"start\"))+\"  \\nend : \"+(date.get(\"datetime\")+timedelta(days=1)).isoformat()+\"  \\ncolor :\"+tour_color+\"  \\n  <a href=\\\"https://google.com/search?q=\"+slugify(venue[\"name\"])+\"\\\" target=\\\"_blank\\\">\"+slugify(venue[\"name\"])+\"</a>\"\n",
    "                    #+\"  \\n[search venue named \"+slugify(venue[\"name\"])+\" on google](https://google.com/search?q=\"+slugify(venue[\"name\"])+\")\"\n",
    "                    \n",
    "                    }\n",
    "        if dateini == 0:\n",
    "                dateini =1\n",
    "        else:\n",
    "                #print my_nodes[-1][\"data\"][\"id\"]\n",
    "                #print dates[gig_indice-1][\"distanceToNextGig\"]\n",
    "                \n",
    "                \n",
    "                \n",
    "                notesE=\"\"\n",
    "                notesE+=\"distance : \"\n",
    "                try: \n",
    "                    notesE+=str(dates[gig_indice][\"distanceToNextGig\"])\n",
    "                except KeyError:\n",
    "                    notesE+=\"dates[gig_indice][distanceToNextGig] NOT AVAILABLE\"\n",
    "                notesE+=\" km  \\n\"\n",
    "                notesE+=\"source : \"\n",
    "                notesE+=str(my_nodes[-1][\"data\"][\"id\"])\n",
    "                notesE+=\"  target : \"\n",
    "                notesE+=str(node[\"id\"])\n",
    "                notesE+=\"  \\ndatesource : \"\n",
    "                notesE+=dates[gig_indice -1][\"datetime\"].isoformat()\n",
    "                notesE+=\"  \\ndatetarget : \"\n",
    "                notesE+=dates[gig_indice][\"datetime\"].isoformat()\n",
    "                notesE+=\"  \\ngroup: \"\n",
    "                notesE+=str(int(tour_indice)+1)\n",
    "                #notesE+=\n",
    "                \n",
    "                \n",
    "                #print gig_indice\n",
    "                edge = {\n",
    "                    \"source\" : my_nodes[-1][\"data\"][\"id\"],\n",
    "                    \"target\" : node[\"id\"],\n",
    "                    \"color\" :  tour_color,\n",
    "                    \"notes\" : notesE,\n",
    "                    #\"weight\" : float(e[\"weight\"]),\n",
    "                    \"start\" : dates[gig_indice -1][\"datetime\"].isoformat(),\n",
    "                    \"end\" : dates[gig_indice][\"datetime\"].isoformat(),\n",
    "                    \"group\" : str(tour_counter_for_CO2)\n",
    "                    \n",
    "                }\n",
    "                #print edge\n",
    "                #ADDING EDGES GROUPS/CO2 HERE\n",
    "                \n",
    "                if tour[\"nbGigs\"] > 2:\n",
    "                    try:\n",
    "                        if tempCO2[tour_counter_for_CO2]['tourdist'] > 1.25*tempCO2[tour_counter_for_CO2]['tourdistOpt']:\n",
    "                            \n",
    "                            edge[\"group\"]+=\" DASHED2\"\n",
    "                            edge[\"notes\"]+=\"  \\n tournée grandement optimisable  \\nDistance parcourue pendant le tour: \"+str(tempCO2[tour_counter_for_CO2]['tourdist'])+\" km  \\n\"\n",
    "                            edge[\"notes\"]+=\"Distance recalculée: \"+str(tempCO2[tour_counter_for_CO2]['tourdistOpt'])+\" km  \\n\"\n",
    "                            try:\n",
    "                                edge[\"notes\"]+=\"Taux d'optimisation \"+str((tempCO2[tour_counter_for_CO2]['tourdist']-tempCO2[tour_counter_for_CO2]['tourdistOpt'])/tempCO2[tour_counter_for_CO2]['tourdist'])+\" %\"\n",
    "                            except:\n",
    "                                print \"OUPS 2\"\n",
    "                        elif (tempCO2[tour_counter_for_CO2]['tourdist'] < 1.25*tempCO2[tour_counter_for_CO2]['tourdistOpt']) and (tempCO2[tour_counter_for_CO2]['tourdist'] > 1.1*tempCO2[tour_counter_for_CO2]['tourdistOpt']):\n",
    "                            \n",
    "                            edge[\"group\"]+=\" DASHED1\"\n",
    "                            edge[\"notes\"]+=\"  \\n  tournée optimisable  \\nDistance parcourue pendant le tour: \"+str(tempCO2[tour_counter_for_CO2]['tourdist'])+\" km  \\n\"\n",
    "                            edge[\"notes\"]+=\"Distance recalculée: \"+str(tempCO2[tour_counter_for_CO2]['tourdistOpt'])+\" km  \\n\"\n",
    "                            try:\n",
    "                                edge[\"notes\"]+=\"Taux d'optimisation \"+str((tempCO2[tour_counter_for_CO2]['tourdist']-tempCO2[tour_counter_for_CO2]['tourdistOpt'])/tempCO2[tour_counter_for_CO2]['tourdist'])+\" %\"\n",
    "                            except:\n",
    "                                print \"OUPS 1\"\n",
    "                        elif tempCO2[tour_counter_for_CO2]['tourdistOpt'] > 1.25*tempCO2[tour_counter_for_CO2]['tourdist']:\n",
    "                            \n",
    "                            edge[\"group\"]+=\" DASHED-2\"\n",
    "                            edge[\"notes\"]+=\"  \\n tournée déjà grandement optimisée  \\nDistance parcourue pendant le tour: \"+str(tempCO2[tour_counter_for_CO2]['tourdist'])+\" km  \\n\"\n",
    "                            edge[\"notes\"]+=\"Distance recalculée: \"+str(tempCO2[tour_counter_for_CO2]['tourdistOpt'])+\" km  \\n\"\n",
    "                            try:\n",
    "                                edge[\"notes\"]+=\"Taux d'optimisation \"+str((tempCO2[tour_counter_for_CO2]['tourdist']-tempCO2[tour_counter_for_CO2]['tourdistOpt'])/tempCO2[tour_counter_for_CO2]['tourdist'])+\" %\"\n",
    "                            except:\n",
    "                                print \"OUPS -2\"\n",
    "                        elif tempCO2[tour_counter_for_CO2]['tourdistOpt'] < 1.25*tempCO2[tour_counter_for_CO2]['tourdist'] and tempCO2[tour_counter_for_CO2]['tourdistOpt'] > 1.1*tempCO2[tour_counter_for_CO2]['tourdist']:\n",
    "                            \n",
    "                            edge[\"group\"]+=\" DASHED-1\"\n",
    "                            edge[\"notes\"]+=\"  \\n  tournée déjà optimisée  \\nDistance parcourue pendant le tour: \"+str(tempCO2[tour_counter_for_CO2]['tourdist'])+\" km  \\n\"\n",
    "                            edge[\"notes\"]+=\"Distance recalculée: \"+str(tempCO2[tour_counter_for_CO2]['tourdistOpt'])+\" km  \\n\"\n",
    "                            try:\n",
    "                                edge[\"notes\"]+=\"Taux d'optimisation \"+str((tempCO2[tour_counter_for_CO2]['tourdist']-tempCO2[tour_counter_for_CO2]['tourdistOpt'])/tempCO2[tour_counter_for_CO2]['tourdist'])+\" %\"\n",
    "                            except:\n",
    "                                print \"OUPS -1\"\n",
    "                        \n",
    "                        else:\n",
    "\n",
    "                            edge[\"notes\"]+=\"  \\nDistance parcourue pendant le tour: \"+str(tempCO2[tour_counter_for_CO2]['tourdist'])+\" km  \\n\"\n",
    "                        tour_counter_for_CO2_lock=1\n",
    "                    except KeyError as e:\n",
    "                        print e\n",
    "                else:\n",
    "                    #print \"TOUR NON COMPTE \", tour_indice, \"//\",tour_counter_for_CO2\n",
    "                    continue\n",
    "                    \n",
    "                    \n",
    "                    \n",
    "                my_edges.append({ \"data\" : edge })\n",
    "        my_nodes.append({ \"data\" : node })   \n",
    "        my_nodesdict[node[\"id\"]]= { \"data\" : node }\n",
    "        gig_indice+=1\n",
    "    #print my_nodes\n",
    "    #print \"<=============================================>\"\n",
    "    #print my_nodesdict\n",
    "    #print \"<=============================================>\"\n",
    "    #print my_edges\n",
    "     tour_indice +=1\n",
    "        #print \"coords\",latitude,\"/\",longitude\n",
    "    for key, value in my_nodesdict.iteritems():\n",
    "            my_nodesdictList.append(value)\n",
    "    \n",
    "    #ADDING LIVENATION DETECTOR\n",
    "\n",
    "    for node in my_nodesdictList:\n",
    "        for salle in liste_salle_parsee_LN:\n",
    "            if fuzz.partial_ratio( node['data']['name'], salle)>=80:\n",
    "                #print \"ONE HEERE\"\n",
    "                if round(node['data']['lat'],2)==round(liste_salle_parsee_LN[salle][\"lat\"],2) and round(node['data']['lng'],2)==round(liste_salle_parsee_LN[salle][\"lng\"],2) :\n",
    "                    #print \"CONFIRMED LIVENATION!\"\n",
    "                    node['data']['color']=\"#ff0000\"\n",
    "                    node['data'][\"notes\"]+=\"  \\nLivenation venue\"\n",
    "        #if liste_salle_parsee_LN\n",
    "        \n",
    "        \n",
    "    #ADDING EDGES WEIGHT\n",
    "    terp= map(lambda x : str(sorted([x[\"data\"][\"source\"],x[\"data\"][\"target\"]])),my_edges)\n",
    "    \n",
    "    #print terp\n",
    "    from collections import Counter\n",
    "    c= Counter()\n",
    "    for ter in terp:\n",
    "        c[ter]+=1\n",
    "    #print c\n",
    "    for edge in my_edges:\n",
    "        if str(sorted([edge[\"data\"][\"source\"],edge[\"data\"][\"target\"]])) not in terp:\n",
    "            print \"BUG!!!!\"\n",
    "        else:\n",
    "            if edge[\"data\"][\"source\"] == edge[\"data\"][\"target\"]:\n",
    "                #print c[str(sorted([edge[\"data\"][\"source\"],edge[\"data\"][\"target\"]]))]\n",
    "                edge[\"data\"][\"notes\"]+=\"  \\ncounted \"+str(c[str(sorted([edge[\"data\"][\"source\"],edge[\"data\"][\"target\"]]))])+\"  times\"\n",
    "                edge[\"data\"][\"weight\"]= float(1)\n",
    "                #print \"a\"\n",
    "            else:\n",
    "                edge[\"data\"][\"notes\"]+=\"  \\ncounted \"+str(c[str(sorted([edge[\"data\"][\"source\"],edge[\"data\"][\"target\"]]))])+\"  times\"\n",
    "                edge[\"data\"][\"weight\"]= float(c[str(sorted([edge[\"data\"][\"source\"],edge[\"data\"][\"target\"]]))])\n",
    "                #print \"b\"\n",
    "    #print my_edges\n",
    "\n",
    "    \n",
    "    \n",
    "    \n",
    "    \n",
    "\n",
    "    titredugraphe =artist[\"name\"]+\"/BETA_0.4\"+\"  \\nDistance totale parcourue par l'artiste: \"+str(tempCO2[\"totalArtistTourDist\"])+\" km\"\n",
    "    titredugraphe += \"  \\nDistance calculee par Concorde: \"+str(tempCO2[\"totalArtistOptTourDist\"])+\" km\"\n",
    "    if  \"OptArtistPercent\" in tempCO2 :\n",
    "         rateOpt=0\n",
    "         rateOpt=float(tempCO2[\"OptArtistPercent\"])\n",
    "         titredugraphe+=\"  \\nPourcentage d'optimisation global calcule:\"+str(rateOpt)+\" %\"\n",
    "         if rateOpt > 10: \n",
    "             titredugraphe+=\"  \\nMARGE D'OPTIMISATION IMPORTANTE\"\n",
    "         elif rateOpt < -10:\n",
    "              titredugraphe+=\"  \\nTOURNEE DEJA OPTIMISEE\"\n",
    "         else: \n",
    "             titredugraphe+=\"  \\nGLOBALEMENT IDENTIQUE\"\n",
    "         \n",
    "         \n",
    "    with open(savpath+slugify(artist[\"name\"]+str(artist[\"mbid\"]))+\".obj\", 'wb') as handle:\n",
    "                            pickle.dump([titredugraphe,my_nodesdictList,my_edges], handle, protocol=pickle.HIGHEST_PROTOCOL)    \n",
    "            \n",
    "    ###CREATE NODE GLOBAL DICT\n",
    "           \n",
    " for key, value in my_nodesdict.iteritems():\n",
    "            #print \"key\",key,\"/////\",value\n",
    "            if key in my_nodesdictGLOBAL:\n",
    "                #print \"TROUVE\"\n",
    "                #print \"key\",key,\"/////\",value\n",
    "                #print \"GLOBAL\",my_nodesdictGLOBAL[key]\n",
    "                my_nodesdictGLOBAL[key]['data'][\"weight\"]=math.sqrt(my_nodesdictGLOBAL[key]['data'][\"weight\"]**2+my_nodesdict[key]['data'][\"weight\"]**2)\n",
    "                if time.strptime(my_nodesdictGLOBAL[key]['data'][\"start\"],DATETIME_FORMAT)>time.strptime(my_nodesdict[key]['data'][\"start\"],DATETIME_FORMAT):\n",
    "                    my_nodesdictGLOBAL[key]['data'][\"start\"]=my_nodesdict[key]['data'][\"start\"]\n",
    "                if time.strptime(my_nodesdictGLOBAL[key]['data'][\"end\"],DATETIME_FORMAT)<time.strptime(my_nodesdict[key]['data'][\"end\"],DATETIME_FORMAT):\n",
    "                    my_nodesdictGLOBAL[key]['data'][\"end\"]=my_nodesdict[key]['data'][\"end\"]\n",
    "                my_nodesdictGLOBAL[key]['data'][\"notes\"]+=\"  \\n\"+slugify(artist[\"name\"])\n",
    "                my_nodesdictGLOBAL[key]['data'][\"count\"]+=int(1)\n",
    "                #print \"GLOBAL2\",my_nodesdictGLOBAL[key]\n",
    "            else:\n",
    "                my_nodesdictGLOBAL[key]=value\n",
    "                #print my_nodesdictGLOBAL[key]\n",
    "                my_nodesdictGLOBAL[key]['data'][\"notes\"]=\"  \\n List of the bands that played in this venue:  \\n\"+slugify(artist[\"name\"])\n",
    "                my_nodesdictGLOBAL[key]['data'][\"count\"]=int(1)\n",
    "for key in my_nodesdictGLOBAL:\n",
    "    my_nodesdictGLOBAL[key]['data'][\"notes\"]+=\"  \\n TOTAL: \"+str(my_nodesdictGLOBAL[key]['data'][\"count\"])+\" Bands\"\n",
    "    \n",
    "    \n",
    "with open(\"./my_nodesdictGLOBAL.obj\", 'wb') as handle:\n",
    "                            pickle.dump(my_nodesdictGLOBAL, handle, protocol=pickle.HIGHEST_PROTOCOL)"
   ]
  },
  {
   "cell_type": "code",
   "execution_count": null,
   "metadata": {
    "collapsed": true
   },
   "outputs": [],
   "source": [
    "     with open(\"./my_nodesdictGLOBAL.obj\", 'rb') as handle:\n",
    "          my_nodesdictGLOBAL= pickle.load( handle)"
   ]
  },
  {
   "cell_type": "code",
   "execution_count": 31,
   "metadata": {
    "collapsed": true
   },
   "outputs": [
    {
     "name": "stdout",
     "output_type": "stream",
     "text": [
      "[('pete-s-place32-117', {'data': {'count': 1, 'end': '2017-04-01T19:00:00', 'name': 'pete-s-place', 'weight': 1.0, 'color': '#7f523f', 'notes': '  \\n List of the bands that played in this venue:  \\nblack-joe-lewis  \\n TOTAL: 1 Bands', 'start': '2017-03-31T19:00:00', 'lat': 32.7677778, 'lng': -117.0222222, 'id': 'pete-s-place32-117'}}), ('tucson-music-hall32-110', {'data': {'count': 35, 'end': '2018-01-15T14:00:00', 'name': 'tucson-music-hall', 'weight': 7.158396516477644, 'color': '#3f7f6c', 'notes': '  \\n List of the bands that played in this venue:  \\ncherish-the-ladies  \\nitzhak-perlman  \\nbill-maher  \\ncurtis-stigers  \\njonathan-richman  \\nthe-lettermen  \\npiotr-ilich-chaikovskii  \\nthe-midtown-men  \\njoseph-haydn  \\ngeorge-lopez  \\nsuper-diamond  \\njane-s-addiction  \\nlindsey-stirling  \\narturo-sandoval  \\nlewis-black  \\ndon-giovanni  \\njerry-seinfeld  \\nkt-tunstall  \\nvideo-games-live  \\nthe-ten-tenors  \\nbellamy-brothers-band  \\nbrian-regan  \\nmichael-feinstein  \\nrain  \\njackson-browne  \\nwilco  \\nthe-1975  \\njohn-pizzarelli  \\njohn-legend  \\njames-taylor  \\ncarmina-burana  \\nceltic-woman  \\njudy-collins  \\npink-martini  \\njoe-bonamassa  \\n TOTAL: 35 Bands', 'start': '2007-12-17T00:00:00', 'lat': 32.2216667, 'lng': -110.9258333, 'id': 'tucson-music-hall32-110'}}), ('bluegrass-festival37-107', {'data': {'count': 1, 'end': '2008-04-14T19:00:00', 'name': 'bluegrass-festival', 'weight': 1.5537739740300374, 'color': '#3f7f46', 'notes': '  \\n List of the bands that played in this venue:  \\nthe-infamous-stringdusters  \\n TOTAL: 1 Bands', 'start': '2008-04-11T19:00:00', 'lat': 37.2752778, 'lng': -107.8794444, 'id': 'bluegrass-festival37-107'}}), ('salle-des-dominicains440', {'data': {'count': 2, 'end': '2013-07-22T18:00:00', 'name': 'salle-des-dominicains', 'weight': 2.19736822693562, 'color': '#3f7f46', 'notes': '  \\n List of the bands that played in this venue:  \\nchic  \\nchick-corea  \\n TOTAL: 2 Bands', 'start': '2013-07-18T18:00:00', 'lat': 44.895123, 'lng': -0.155287, 'id': 'salle-des-dominicains440'}}), ('gem-brunch42-71', {'data': {'count': 1, 'end': '2015-05-04T16:00:00', 'name': 'gem-brunch', 'weight': 1.4142135623730951, 'color': '#727f3f', 'notes': '  \\n List of the bands that played in this venue:  \\nchachi  \\n TOTAL: 1 Bands', 'start': '2015-03-29T17:00:00', 'lat': 42.3569387, 'lng': -71.0599056, 'id': 'gem-brunch42-71'}})]\n"
     ]
    }
   ],
   "source": [
    "from itertools import islice\n",
    "\n",
    "def take(n, iterable):\n",
    "    \"Return first n items of the iterable as a list\"\n",
    "    return list(islice(iterable, n))\n",
    "\n",
    "print take(5,my_nodesdictGLOBAL.iteritems())"
   ]
  },
  {
   "cell_type": "code",
   "execution_count": 145,
   "metadata": {
    "collapsed": true
   },
   "outputs": [],
   "source": [
    "# credentials\n",
    "TOPOGRAM_URL = \"http://localhost:3000\"\n",
    "USER = \"gregory.bahde@laposte.net\"\n",
    "PASSWORD = \"matrix\""
   ]
  },
  {
   "cell_type": "code",
   "execution_count": 146,
   "metadata": {},
   "outputs": [
    {
     "name": "stdout",
     "output_type": "stream",
     "text": [
      "132385\n"
     ]
    }
   ],
   "source": [
    "print len(my_nodesdictGLOBAL)"
   ]
  },
  {
   "cell_type": "code",
   "execution_count": 147,
   "metadata": {
    "scrolled": true
   },
   "outputs": [
    {
     "name": "stderr",
     "output_type": "stream",
     "text": [
      "ERROR:topogram-client:403 Unauthorized request\n"
     ]
    },
    {
     "name": "stdout",
     "output_type": "stream",
     "text": [
      "> User has already been created.\n",
      "{u'status': u'success', 'status_code': 200, u'data': {u'authToken': u'Jh8P0VVibR2Peb7tZMchh9U7KVolDileW7C41GgIRHx', u'userId': u'BxRn4kp4WFL92jW8g'}}\n"
     ]
    }
   ],
   "source": [
    "# connect to the topogram instance (pass debug=True params for more info )\n",
    "topogram = TopogramAPIClient(TOPOGRAM_URL) #, debug=True)\n",
    "\n",
    "# create a new user\n",
    "try :\n",
    "    topogram.create_user(USER, PASSWORD)\n",
    "except ValueError:\n",
    "    print \"> User has already been created.\"\n",
    "\n",
    "# login a new user if needed\n",
    "resp_user_login = topogram.user_login(USER, PASSWORD)\n",
    "print resp_user_login\n",
    "\n",
    "assert(resp_user_login[\"status\"] == \"success\")\n",
    "assert(resp_user_login[\"status_code\"] == 200)\n"
   ]
  },
  {
   "cell_type": "code",
   "execution_count": 148,
   "metadata": {
    "scrolled": true
   },
   "outputs": [
    {
     "name": "stderr",
     "output_type": "stream",
     "text": [
      "ERROR:topogram-client:500 - Error : A topogram with the same name already exists\n"
     ]
    },
    {
     "name": "stdout",
     "output_type": "stream",
     "text": [
      "/home/goonieb/gitrep/bandstour/5_visualizer/topogram-api-clientFOR_TOPO_FROM_BANDSTOUR\n",
      "Creating topogram 'The Real McKenzies/BETA_0.4  \n",
      "Distance totale parcourue par l'artiste: 178551.579225 km  \n",
      "Distance calculee par Concorde: 166640.260495 km  \n",
      "Pourcentage d'optimisation global calcule:667.108002177 %  \n",
      "MARGE D'OPTIMISATION IMPORTANTE'\n",
      "{u'status': u'success', 'status_code': 200, u'data': u'78FQSYDvQBn8bf3RK', u'statusCode': 201}\n",
      "Creating topogram 'The Real McKenzies/BETA_0.4  \n",
      "Distance totale parcourue par l'artiste: 178551.579225 km  \n",
      "Distance calculee par Concorde: 166640.260495 km  \n",
      "Pourcentage d'optimisation global calcule:667.108002177 %  \n",
      "MARGE D'OPTIMISATION IMPORTANTE'\n",
      "> Topogram already exists\n",
      "{u'status': u'success', 'status_code': 200, u'data': {u'sharedPublic': False, u'title': u\"The Real McKenzies/BETA_0.4  \\nDistance totale parcourue par l'artiste: 178551.579225 km  \\nDistance calculee par Concorde: 166640.260495 km  \\nPourcentage d'optimisation global calcule:667.108002177 %  \\nMARGE D'OPTIMISATION IMPORTANTE\", u'userId': u'BxRn4kp4WFL92jW8g', u'_id': u'78FQSYDvQBn8bf3RK', u'slug': u'the-real-mckenziesbeta_04-distance-totale-parcourue-par-lartiste-178551579225-km-distance-calculee-par-concorde-166640260495-km-pourcentage-doptimisation-global-calcule667108002177-marge-doptimisation-importante', u'createdAt': u'2018-05-24T15:15:02.096Z'}, u'statusCode': 200}\n",
      "topogram ID : 78FQSYDvQBn8bf3RK\n",
      "274 nodes created.\n"
     ]
    },
    {
     "name": "stderr",
     "output_type": "stream",
     "text": [
      "ERROR:topogram-client:500 - Error : A topogram with the same name already exists\n"
     ]
    },
    {
     "name": "stdout",
     "output_type": "stream",
     "text": [
      "322 edges created.\n",
      "done. Topogram has been updated. Check it at http://localhost:3000/topograms/78FQSYDvQBn8bf3RK\n",
      "Creating topogram 'Killer Queen/BETA_0.4  \n",
      "Distance totale parcourue par l'artiste: 66035.1567649 km  \n",
      "Distance calculee par Concorde: 61983.675061 km  \n",
      "Pourcentage d'optimisation global calcule:613.534047988 %  \n",
      "MARGE D'OPTIMISATION IMPORTANTE'\n",
      "{u'status': u'success', 'status_code': 200, u'data': u'ZL7PzEM7tD5BHc98h', u'statusCode': 201}\n",
      "Creating topogram 'Killer Queen/BETA_0.4  \n",
      "Distance totale parcourue par l'artiste: 66035.1567649 km  \n",
      "Distance calculee par Concorde: 61983.675061 km  \n",
      "Pourcentage d'optimisation global calcule:613.534047988 %  \n",
      "MARGE D'OPTIMISATION IMPORTANTE'\n",
      "> Topogram already exists\n",
      "{u'status': u'success', 'status_code': 200, u'data': {u'sharedPublic': False, u'title': u\"Killer Queen/BETA_0.4  \\nDistance totale parcourue par l'artiste: 66035.1567649 km  \\nDistance calculee par Concorde: 61983.675061 km  \\nPourcentage d'optimisation global calcule:613.534047988 %  \\nMARGE D'OPTIMISATION IMPORTANTE\", u'userId': u'BxRn4kp4WFL92jW8g', u'_id': u'ZL7PzEM7tD5BHc98h', u'slug': u'killer-queenbeta_04-distance-totale-parcourue-par-lartiste-660351567649-km-distance-calculee-par-concorde-61983675061-km-pourcentage-doptimisation-global-calcule613534047988-marge-doptimisation-importante', u'createdAt': u'2018-05-24T15:15:03.340Z'}, u'statusCode': 200}\n",
      "topogram ID : ZL7PzEM7tD5BHc98h\n"
     ]
    },
    {
     "name": "stderr",
     "output_type": "stream",
     "text": [
      "ERROR:topogram-client:500 - Error : A topogram with the same name already exists\n"
     ]
    },
    {
     "name": "stdout",
     "output_type": "stream",
     "text": [
      "35 nodes created.\n",
      "39 edges created.\n",
      "done. Topogram has been updated. Check it at http://localhost:3000/topograms/ZL7PzEM7tD5BHc98h\n",
      "Creating topogram 'D.O.D/BETA_0.4  \n",
      "Distance totale parcourue par l'artiste: 305647.020587 km  \n",
      "Distance calculee par Concorde: 186180.202587 km  \n",
      "Pourcentage d'optimisation global calcule:3908.65311793 %  \n",
      "MARGE D'OPTIMISATION IMPORTANTE'\n",
      "{u'status': u'success', 'status_code': 200, u'data': u'2EAe2Y6xrqF3NGvJo', u'statusCode': 201}\n",
      "Creating topogram 'D.O.D/BETA_0.4  \n",
      "Distance totale parcourue par l'artiste: 305647.020587 km  \n",
      "Distance calculee par Concorde: 186180.202587 km  \n",
      "Pourcentage d'optimisation global calcule:3908.65311793 %  \n",
      "MARGE D'OPTIMISATION IMPORTANTE'\n",
      "> Topogram already exists\n",
      "{u'status': u'success', 'status_code': 200, u'data': {u'sharedPublic': False, u'title': u\"D.O.D/BETA_0.4  \\nDistance totale parcourue par l'artiste: 305647.020587 km  \\nDistance calculee par Concorde: 186180.202587 km  \\nPourcentage d'optimisation global calcule:3908.65311793 %  \\nMARGE D'OPTIMISATION IMPORTANTE\", u'userId': u'BxRn4kp4WFL92jW8g', u'_id': u'2EAe2Y6xrqF3NGvJo', u'slug': u'dodbeta_04-distance-totale-parcourue-par-lartiste-305647020587-km-distance-calculee-par-concorde-186180202587-km-pourcentage-doptimisation-global-calcule390865311793-marge-doptimisation-importante', u'createdAt': u'2018-05-24T15:15:03.767Z'}, u'statusCode': 200}\n",
      "topogram ID : 2EAe2Y6xrqF3NGvJo\n"
     ]
    },
    {
     "name": "stderr",
     "output_type": "stream",
     "text": [
      "ERROR:topogram-client:500 - Error : A topogram with the same name already exists\n"
     ]
    },
    {
     "name": "stdout",
     "output_type": "stream",
     "text": [
      "88 nodes created.\n",
      "102 edges created.\n",
      "done. Topogram has been updated. Check it at http://localhost:3000/topograms/2EAe2Y6xrqF3NGvJo\n",
      "Creating topogram 'Elijah/BETA_0.4  \n",
      "Distance totale parcourue par l'artiste: 164491.004707 km  \n",
      "Distance calculee par Concorde: 138787.89954 km  \n",
      "Pourcentage d'optimisation global calcule:1562.58424055 %  \n",
      "MARGE D'OPTIMISATION IMPORTANTE'\n",
      "{u'status': u'success', 'status_code': 200, u'data': u'ar96AsLnyiyauuCoG', u'statusCode': 201}\n",
      "Creating topogram 'Elijah/BETA_0.4  \n",
      "Distance totale parcourue par l'artiste: 164491.004707 km  \n",
      "Distance calculee par Concorde: 138787.89954 km  \n",
      "Pourcentage d'optimisation global calcule:1562.58424055 %  \n",
      "MARGE D'OPTIMISATION IMPORTANTE'\n",
      "> Topogram already exists\n",
      "{u'status': u'success', 'status_code': 200, u'data': {u'sharedPublic': False, u'title': u\"Elijah/BETA_0.4  \\nDistance totale parcourue par l'artiste: 164491.004707 km  \\nDistance calculee par Concorde: 138787.89954 km  \\nPourcentage d'optimisation global calcule:1562.58424055 %  \\nMARGE D'OPTIMISATION IMPORTANTE\", u'userId': u'BxRn4kp4WFL92jW8g', u'_id': u'ar96AsLnyiyauuCoG', u'slug': u'elijahbeta_04-distance-totale-parcourue-par-lartiste-164491004707-km-distance-calculee-par-concorde-13878789954-km-pourcentage-doptimisation-global-calcule156258424055-marge-doptimisation-importante', u'createdAt': u'2018-05-24T15:15:04.316Z'}, u'statusCode': 200}\n",
      "topogram ID : ar96AsLnyiyauuCoG\n"
     ]
    },
    {
     "name": "stderr",
     "output_type": "stream",
     "text": [
      "ERROR:topogram-client:500 - Error : A topogram with the same name already exists\n"
     ]
    },
    {
     "name": "stdout",
     "output_type": "stream",
     "text": [
      "52 nodes created.\n",
      "64 edges created.\n",
      "done. Topogram has been updated. Check it at http://localhost:3000/topograms/ar96AsLnyiyauuCoG\n",
      "Creating topogram 'Blackout/BETA_0.4  \n",
      "Distance totale parcourue par l'artiste: 182952.124897 km  \n",
      "Distance calculee par Concorde: 137247.803399 km  \n",
      "Pourcentage d'optimisation global calcule:2498.15745642 %  \n",
      "MARGE D'OPTIMISATION IMPORTANTE'\n",
      "{u'status': u'success', 'status_code': 200, u'data': u'YDWAYGiLAgTypNN7P', u'statusCode': 201}\n",
      "Creating topogram 'Blackout/BETA_0.4  \n",
      "Distance totale parcourue par l'artiste: 182952.124897 km  \n",
      "Distance calculee par Concorde: 137247.803399 km  \n",
      "Pourcentage d'optimisation global calcule:2498.15745642 %  \n",
      "MARGE D'OPTIMISATION IMPORTANTE'\n",
      "> Topogram already exists\n",
      "{u'status': u'success', 'status_code': 200, u'data': {u'sharedPublic': False, u'title': u\"Blackout/BETA_0.4  \\nDistance totale parcourue par l'artiste: 182952.124897 km  \\nDistance calculee par Concorde: 137247.803399 km  \\nPourcentage d'optimisation global calcule:2498.15745642 %  \\nMARGE D'OPTIMISATION IMPORTANTE\", u'userId': u'BxRn4kp4WFL92jW8g', u'_id': u'YDWAYGiLAgTypNN7P', u'slug': u'blackoutbeta_04-distance-totale-parcourue-par-lartiste-182952124897-km-distance-calculee-par-concorde-137247803399-km-pourcentage-doptimisation-global-calcule249815745642-marge-doptimisation-importante', u'createdAt': u'2018-05-24T15:15:04.780Z'}, u'statusCode': 200}\n",
      "topogram ID : YDWAYGiLAgTypNN7P\n",
      "95 nodes created.\n",
      "118 edges created.\n",
      "done. Topogram has been updated. Check it at http://localhost:3000/topograms/YDWAYGiLAgTypNN7P\n",
      "Creating topogram 'Dirty Heads/BETA_0.4  \n",
      "Distance totale parcourue par l'artiste: 337153.203995 km  \n",
      "Distance calculee par Concorde: 284567.437899 km  \n",
      "Pourcentage d'optimisation global calcule:1559.69943256 %  \n",
      "MARGE D'OPTIMISATION IMPORTANTE'\n",
      "{u'status': u'success', 'status_code': 200, u'data': u'KzYCfKfACPMM6ht4d', u'statusCode': 201}\n",
      "Creating topogram 'Dirty Heads/BETA_0.4  \n",
      "Distance totale parcourue par l'artiste: 337153.203995 km  \n",
      "Distance calculee par Concorde: 284567.437899 km  \n",
      "Pourcentage d'optimisation global calcule:1559.69943256 %  \n",
      "MARGE D'OPTIMISATION IMPORTANTE'\n"
     ]
    },
    {
     "name": "stderr",
     "output_type": "stream",
     "text": [
      "ERROR:topogram-client:500 - Error : A topogram with the same name already exists\n"
     ]
    },
    {
     "name": "stdout",
     "output_type": "stream",
     "text": [
      "> Topogram already exists\n",
      "{u'status': u'success', 'status_code': 200, u'data': {u'sharedPublic': False, u'title': u\"Dirty Heads/BETA_0.4  \\nDistance totale parcourue par l'artiste: 337153.203995 km  \\nDistance calculee par Concorde: 284567.437899 km  \\nPourcentage d'optimisation global calcule:1559.69943256 %  \\nMARGE D'OPTIMISATION IMPORTANTE\", u'userId': u'BxRn4kp4WFL92jW8g', u'_id': u'KzYCfKfACPMM6ht4d', u'slug': u'dirty-headsbeta_04-distance-totale-parcourue-par-lartiste-337153203995-km-distance-calculee-par-concorde-284567437899-km-pourcentage-doptimisation-global-calcule155969943256-marge-doptimisation-importante', u'createdAt': u'2018-05-24T15:15:05.418Z'}, u'statusCode': 200}\n",
      "topogram ID : KzYCfKfACPMM6ht4d\n",
      "426 nodes created.\n"
     ]
    },
    {
     "name": "stderr",
     "output_type": "stream",
     "text": [
      "ERROR:topogram-client:500 - Error : A topogram with the same name already exists\n"
     ]
    },
    {
     "name": "stdout",
     "output_type": "stream",
     "text": [
      "545 edges created.\n",
      "done. Topogram has been updated. Check it at http://localhost:3000/topograms/KzYCfKfACPMM6ht4d\n",
      "Creating topogram 'The Mountain Goats/BETA_0.4  \n",
      "Distance totale parcourue par l'artiste: 210033.601652 km  \n",
      "Distance calculee par Concorde: 226520.811029 km  \n",
      "Pourcentage d'optimisation global calcule:-784.979605547 %  \n",
      "TOURNEE DEJA OPTIMISEE'\n",
      "{u'status': u'success', 'status_code': 200, u'data': u'zC4h2jJLwFiaSXHiG', u'statusCode': 201}\n",
      "Creating topogram 'The Mountain Goats/BETA_0.4  \n",
      "Distance totale parcourue par l'artiste: 210033.601652 km  \n",
      "Distance calculee par Concorde: 226520.811029 km  \n",
      "Pourcentage d'optimisation global calcule:-784.979605547 %  \n",
      "TOURNEE DEJA OPTIMISEE'\n",
      "> Topogram already exists\n",
      "{u'status': u'success', 'status_code': 200, u'data': {u'sharedPublic': False, u'title': u\"The Mountain Goats/BETA_0.4  \\nDistance totale parcourue par l'artiste: 210033.601652 km  \\nDistance calculee par Concorde: 226520.811029 km  \\nPourcentage d'optimisation global calcule:-784.979605547 %  \\nTOURNEE DEJA OPTIMISEE\", u'userId': u'BxRn4kp4WFL92jW8g', u'_id': u'zC4h2jJLwFiaSXHiG', u'slug': u'the-mountain-goatsbeta_04-distance-totale-parcourue-par-lartiste-210033601652-km-distance-calculee-par-concorde-226520811029-km-pourcentage-doptimisation-global-calcule-784979605547-tournee-deja-optimisee', u'createdAt': u'2018-05-24T15:15:07.013Z'}, u'statusCode': 200}\n",
      "topogram ID : zC4h2jJLwFiaSXHiG\n",
      "265 nodes created.\n",
      "352 edges created.\n",
      "done. Topogram has been updated. Check it at http://localhost:3000/topograms/zC4h2jJLwFiaSXHiG\n",
      "Creating topogram 'YokoO/BETA_0.4  \n",
      "Distance totale parcourue par l'artiste: 187854.686462 km  \n",
      "Distance calculee par Concorde: 210370.754355 km  \n",
      "Pourcentage d'optimisation global calcule:-1198.58962889 %  \n",
      "TOURNEE DEJA OPTIMISEE'\n"
     ]
    },
    {
     "name": "stderr",
     "output_type": "stream",
     "text": [
      "ERROR:topogram-client:500 - Error : A topogram with the same name already exists\n"
     ]
    },
    {
     "name": "stdout",
     "output_type": "stream",
     "text": [
      "{u'status': u'success', 'status_code': 200, u'data': u'qvPbj6YAx3TmjhZKi', u'statusCode': 201}\n",
      "Creating topogram 'YokoO/BETA_0.4  \n",
      "Distance totale parcourue par l'artiste: 187854.686462 km  \n",
      "Distance calculee par Concorde: 210370.754355 km  \n",
      "Pourcentage d'optimisation global calcule:-1198.58962889 %  \n",
      "TOURNEE DEJA OPTIMISEE'\n",
      "> Topogram already exists\n",
      "{u'status': u'success', 'status_code': 200, u'data': {u'sharedPublic': False, u'title': u\"YokoO/BETA_0.4  \\nDistance totale parcourue par l'artiste: 187854.686462 km  \\nDistance calculee par Concorde: 210370.754355 km  \\nPourcentage d'optimisation global calcule:-1198.58962889 %  \\nTOURNEE DEJA OPTIMISEE\", u'userId': u'BxRn4kp4WFL92jW8g', u'_id': u'qvPbj6YAx3TmjhZKi', u'slug': u'yokoobeta_04-distance-totale-parcourue-par-lartiste-187854686462-km-distance-calculee-par-concorde-210370754355-km-pourcentage-doptimisation-global-calcule-119858962889-tournee-deja-optimisee', u'createdAt': u'2018-05-24T15:15:07.978Z'}, u'statusCode': 200}\n",
      "topogram ID : qvPbj6YAx3TmjhZKi\n"
     ]
    },
    {
     "name": "stderr",
     "output_type": "stream",
     "text": [
      "ERROR:topogram-client:500 - Error : A topogram with the same name already exists\n"
     ]
    },
    {
     "name": "stdout",
     "output_type": "stream",
     "text": [
      "54 nodes created.\n",
      "87 edges created.\n",
      "done. Topogram has been updated. Check it at http://localhost:3000/topograms/qvPbj6YAx3TmjhZKi\n",
      "Creating topogram 'The Ghost Inside/BETA_0.4  \n",
      "Distance totale parcourue par l'artiste: 128998.561154 km  \n",
      "Distance calculee par Concorde: 124451.237987 km  \n",
      "Pourcentage d'optimisation global calcule:352.509603633 %  \n",
      "MARGE D'OPTIMISATION IMPORTANTE'\n",
      "{u'status': u'success', 'status_code': 200, u'data': u'Tx6xM7vkt2R2c68Ri', u'statusCode': 201}\n",
      "Creating topogram 'The Ghost Inside/BETA_0.4  \n",
      "Distance totale parcourue par l'artiste: 128998.561154 km  \n",
      "Distance calculee par Concorde: 124451.237987 km  \n",
      "Pourcentage d'optimisation global calcule:352.509603633 %  \n",
      "MARGE D'OPTIMISATION IMPORTANTE'\n",
      "> Topogram already exists\n",
      "{u'status': u'success', 'status_code': 200, u'data': {u'sharedPublic': False, u'title': u\"The Ghost Inside/BETA_0.4  \\nDistance totale parcourue par l'artiste: 128998.561154 km  \\nDistance calculee par Concorde: 124451.237987 km  \\nPourcentage d'optimisation global calcule:352.509603633 %  \\nMARGE D'OPTIMISATION IMPORTANTE\", u'userId': u'BxRn4kp4WFL92jW8g', u'_id': u'Tx6xM7vkt2R2c68Ri', u'slug': u'the-ghost-insidebeta_04-distance-totale-parcourue-par-lartiste-128998561154-km-distance-calculee-par-concorde-124451237987-km-pourcentage-doptimisation-global-calcule352509603633-marge-doptimisation-importante', u'createdAt': u'2018-05-24T15:15:08.440Z'}, u'statusCode': 200}\n",
      "topogram ID : Tx6xM7vkt2R2c68Ri\n"
     ]
    },
    {
     "name": "stderr",
     "output_type": "stream",
     "text": [
      "ERROR:topogram-client:500 - Error : A topogram with the same name already exists\n"
     ]
    },
    {
     "name": "stdout",
     "output_type": "stream",
     "text": [
      "171 nodes created.\n",
      "179 edges created.\n",
      "done. Topogram has been updated. Check it at http://localhost:3000/topograms/Tx6xM7vkt2R2c68Ri\n",
      "Creating topogram 'Shaggy/BETA_0.4  \n",
      "Distance totale parcourue par l'artiste: 204647.2617 km  \n",
      "Distance calculee par Concorde: 216691.239281 km  \n",
      "Pourcentage d'optimisation global calcule:-588.523759453 %  \n",
      "TOURNEE DEJA OPTIMISEE'\n",
      "{u'status': u'success', 'status_code': 200, u'data': u'D92krHaYrv4jyFXQp', u'statusCode': 201}\n",
      "Creating topogram 'Shaggy/BETA_0.4  \n",
      "Distance totale parcourue par l'artiste: 204647.2617 km  \n",
      "Distance calculee par Concorde: 216691.239281 km  \n",
      "Pourcentage d'optimisation global calcule:-588.523759453 %  \n",
      "TOURNEE DEJA OPTIMISEE'\n",
      "> Topogram already exists\n",
      "{u'status': u'success', 'status_code': 200, u'data': {u'sharedPublic': False, u'title': u\"Shaggy/BETA_0.4  \\nDistance totale parcourue par l'artiste: 204647.2617 km  \\nDistance calculee par Concorde: 216691.239281 km  \\nPourcentage d'optimisation global calcule:-588.523759453 %  \\nTOURNEE DEJA OPTIMISEE\", u'userId': u'BxRn4kp4WFL92jW8g', u'_id': u'D92krHaYrv4jyFXQp', u'slug': u'shaggybeta_04-distance-totale-parcourue-par-lartiste-2046472617-km-distance-calculee-par-concorde-216691239281-km-pourcentage-doptimisation-global-calcule-588523759453-tournee-deja-optimisee', u'createdAt': u'2018-05-24T15:15:09.105Z'}, u'statusCode': 200}\n",
      "topogram ID : D92krHaYrv4jyFXQp\n"
     ]
    },
    {
     "name": "stderr",
     "output_type": "stream",
     "text": [
      "ERROR:topogram-client:500 - Error : A topogram with the same name already exists\n"
     ]
    },
    {
     "name": "stdout",
     "output_type": "stream",
     "text": [
      "109 nodes created.\n",
      "117 edges created.\n",
      "done. Topogram has been updated. Check it at http://localhost:3000/topograms/D92krHaYrv4jyFXQp\n",
      "Creating topogram 'Ron Sexsmith/BETA_0.4  \n",
      "Distance totale parcourue par l'artiste: 175919.44221 km  \n",
      "Distance calculee par Concorde: 187689.9444 km  \n",
      "Pourcentage d'optimisation global calcule:-669.084783432 %  \n",
      "TOURNEE DEJA OPTIMISEE'\n",
      "{u'status': u'success', 'status_code': 200, u'data': u'93t588PwdX9jduHjd', u'statusCode': 201}\n",
      "Creating topogram 'Ron Sexsmith/BETA_0.4  \n",
      "Distance totale parcourue par l'artiste: 175919.44221 km  \n",
      "Distance calculee par Concorde: 187689.9444 km  \n",
      "Pourcentage d'optimisation global calcule:-669.084783432 %  \n",
      "TOURNEE DEJA OPTIMISEE'\n",
      "> Topogram already exists\n",
      "{u'status': u'success', 'status_code': 200, u'data': {u'sharedPublic': False, u'title': u\"Ron Sexsmith/BETA_0.4  \\nDistance totale parcourue par l'artiste: 175919.44221 km  \\nDistance calculee par Concorde: 187689.9444 km  \\nPourcentage d'optimisation global calcule:-669.084783432 %  \\nTOURNEE DEJA OPTIMISEE\", u'userId': u'BxRn4kp4WFL92jW8g', u'_id': u'93t588PwdX9jduHjd', u'slug': u'ron-sexsmithbeta_04-distance-totale-parcourue-par-lartiste-17591944221-km-distance-calculee-par-concorde-1876899444-km-pourcentage-doptimisation-global-calcule-669084783432-tournee-deja-optimisee', u'createdAt': u'2018-05-24T15:15:09.704Z'}, u'statusCode': 200}\n",
      "topogram ID : 93t588PwdX9jduHjd\n",
      "172 nodes created.\n",
      "199 edges created.\n",
      "done. Topogram has been updated. Check it at http://localhost:3000/topograms/93t588PwdX9jduHjd\n",
      "Creating topogram 'Jeff/BETA_0.4  \n",
      "Distance totale parcourue par l'artiste: 177731.089926 km  \n",
      "Distance calculee par Concorde: 110957.696118 km  \n",
      "Pourcentage d'optimisation global calcule:3756.99005929 %  \n",
      "MARGE D'OPTIMISATION IMPORTANTE'\n",
      "{u'status': u'success', 'status_code': 200, u'data': u'86WsBuLkFWmw3Y4Db', u'statusCode': 201}\n",
      "Creating topogram 'Jeff/BETA_0.4  \n",
      "Distance totale parcourue par l'artiste: 177731.089926 km  \n",
      "Distance calculee par Concorde: 110957.696118 km  \n",
      "Pourcentage d'optimisation global calcule:3756.99005929 %  \n",
      "MARGE D'OPTIMISATION IMPORTANTE'\n"
     ]
    },
    {
     "name": "stderr",
     "output_type": "stream",
     "text": [
      "ERROR:topogram-client:500 - Error : A topogram with the same name already exists\n"
     ]
    },
    {
     "name": "stdout",
     "output_type": "stream",
     "text": [
      "> Topogram already exists\n",
      "{u'status': u'success', 'status_code': 200, u'data': {u'sharedPublic': False, u'title': u\"Jeff/BETA_0.4  \\nDistance totale parcourue par l'artiste: 177731.089926 km  \\nDistance calculee par Concorde: 110957.696118 km  \\nPourcentage d'optimisation global calcule:3756.99005929 %  \\nMARGE D'OPTIMISATION IMPORTANTE\", u'userId': u'BxRn4kp4WFL92jW8g', u'_id': u'86WsBuLkFWmw3Y4Db', u'slug': u'jeffbeta_04-distance-totale-parcourue-par-lartiste-177731089926-km-distance-calculee-par-concorde-110957696118-km-pourcentage-doptimisation-global-calcule375699005929-marge-doptimisation-importante', u'createdAt': u'2018-05-24T15:15:10.459Z'}, u'statusCode': 200}\n",
      "topogram ID : 86WsBuLkFWmw3Y4Db\n",
      "67 nodes created.\n",
      "106 edges created.\n",
      "done. Topogram has been updated. Check it at http://localhost:3000/topograms/86WsBuLkFWmw3Y4Db\n",
      "Creating topogram 'Thomas/BETA_0.4  \n",
      "Distance totale parcourue par l'artiste: 341411.936772 km  \n",
      "Distance calculee par Concorde: 129516.0005 km  \n",
      "Pourcentage d'optimisation global calcule:6206.45951267 %  \n",
      "MARGE D'OPTIMISATION IMPORTANTE'\n",
      "{u'status': u'success', 'status_code': 200, u'data': u'WtjfYGBp84Q52n2Se', u'statusCode': 201}\n",
      "Creating topogram 'Thomas/BETA_0.4  \n",
      "Distance totale parcourue par l'artiste: 341411.936772 km  \n",
      "Distance calculee par Concorde: 129516.0005 km  \n",
      "Pourcentage d'optimisation global calcule:6206.45951267 %  \n",
      "MARGE D'OPTIMISATION IMPORTANTE'\n"
     ]
    },
    {
     "name": "stderr",
     "output_type": "stream",
     "text": [
      "ERROR:topogram-client:500 - Error : A topogram with the same name already exists\n"
     ]
    },
    {
     "name": "stdout",
     "output_type": "stream",
     "text": [
      "> Topogram already exists\n",
      "{u'status': u'success', 'status_code': 200, u'data': {u'sharedPublic': False, u'title': u\"Thomas/BETA_0.4  \\nDistance totale parcourue par l'artiste: 341411.936772 km  \\nDistance calculee par Concorde: 129516.0005 km  \\nPourcentage d'optimisation global calcule:6206.45951267 %  \\nMARGE D'OPTIMISATION IMPORTANTE\", u'userId': u'BxRn4kp4WFL92jW8g', u'_id': u'WtjfYGBp84Q52n2Se', u'slug': u'thomasbeta_04-distance-totale-parcourue-par-lartiste-341411936772-km-distance-calculee-par-concorde-1295160005-km-pourcentage-doptimisation-global-calcule620645951267-marge-doptimisation-importante', u'createdAt': u'2018-05-24T15:15:11.011Z'}, u'statusCode': 200}\n",
      "topogram ID : WtjfYGBp84Q52n2Se\n",
      "106 nodes created.\n",
      "349 edges created.\n",
      "done. Topogram has been updated. Check it at http://localhost:3000/topograms/WtjfYGBp84Q52n2Se\n",
      "Creating topogram 'Cabaret/BETA_0.4  \n",
      "Distance totale parcourue par l'artiste: 552567.47729 km  \n",
      "Distance calculee par Concorde: 131377.046495 km  \n",
      "Pourcentage d'optimisation global calcule:7622.42528028 %  \n",
      "MARGE D'OPTIMISATION IMPORTANTE'\n",
      "{u'status': u'success', 'status_code': 200, u'data': u'EzFqBgdghK4PSGSDF', u'statusCode': 201}\n",
      "Creating topogram 'Cabaret/BETA_0.4  \n",
      "Distance totale parcourue par l'artiste: 552567.47729 km  \n",
      "Distance calculee par Concorde: 131377.046495 km  \n",
      "Pourcentage d'optimisation global calcule:7622.42528028 %  \n",
      "MARGE D'OPTIMISATION IMPORTANTE'\n"
     ]
    },
    {
     "name": "stderr",
     "output_type": "stream",
     "text": [
      "ERROR:topogram-client:500 - Error : A topogram with the same name already exists\n"
     ]
    },
    {
     "name": "stdout",
     "output_type": "stream",
     "text": [
      "> Topogram already exists\n",
      "{u'status': u'success', 'status_code': 200, u'data': {u'sharedPublic': False, u'title': u\"Cabaret/BETA_0.4  \\nDistance totale parcourue par l'artiste: 552567.47729 km  \\nDistance calculee par Concorde: 131377.046495 km  \\nPourcentage d'optimisation global calcule:7622.42528028 %  \\nMARGE D'OPTIMISATION IMPORTANTE\", u'userId': u'BxRn4kp4WFL92jW8g', u'_id': u'EzFqBgdghK4PSGSDF', u'slug': u'cabaretbeta_04-distance-totale-parcourue-par-lartiste-55256747729-km-distance-calculee-par-concorde-131377046495-km-pourcentage-doptimisation-global-calcule762242528028-marge-doptimisation-importante', u'createdAt': u'2018-05-24T15:15:11.662Z'}, u'statusCode': 200}\n",
      "topogram ID : EzFqBgdghK4PSGSDF\n",
      "80 nodes created.\n"
     ]
    },
    {
     "name": "stderr",
     "output_type": "stream",
     "text": [
      "ERROR:topogram-client:500 - Error : A topogram with the same name already exists\n"
     ]
    },
    {
     "name": "stdout",
     "output_type": "stream",
     "text": [
      "799 edges created.\n",
      "done. Topogram has been updated. Check it at http://localhost:3000/topograms/EzFqBgdghK4PSGSDF\n",
      "Creating topogram 'Pink Martini/BETA_0.4  \n",
      "Distance totale parcourue par l'artiste: 584915.490984 km  \n",
      "Distance calculee par Concorde: 550245.246554 km  \n",
      "Pourcentage d'optimisation global calcule:592.739377987 %  \n",
      "MARGE D'OPTIMISATION IMPORTANTE'\n",
      "{u'status': u'success', 'status_code': 200, u'data': u'csFBXFWcJMdWy5CXo', u'statusCode': 201}\n",
      "Creating topogram 'Pink Martini/BETA_0.4  \n",
      "Distance totale parcourue par l'artiste: 584915.490984 km  \n",
      "Distance calculee par Concorde: 550245.246554 km  \n",
      "Pourcentage d'optimisation global calcule:592.739377987 %  \n",
      "MARGE D'OPTIMISATION IMPORTANTE'\n",
      "> Topogram already exists\n",
      "{u'status': u'success', 'status_code': 200, u'data': {u'sharedPublic': False, u'title': u\"Pink Martini/BETA_0.4  \\nDistance totale parcourue par l'artiste: 584915.490984 km  \\nDistance calculee par Concorde: 550245.246554 km  \\nPourcentage d'optimisation global calcule:592.739377987 %  \\nMARGE D'OPTIMISATION IMPORTANTE\", u'userId': u'BxRn4kp4WFL92jW8g', u'_id': u'csFBXFWcJMdWy5CXo', u'slug': u'pink-martinibeta_04-distance-totale-parcourue-par-lartiste-584915490984-km-distance-calculee-par-concorde-550245246554-km-pourcentage-doptimisation-global-calcule592739377987-marge-doptimisation-importante', u'createdAt': u'2018-05-24T15:15:12.420Z'}, u'statusCode': 200}\n",
      "topogram ID : csFBXFWcJMdWy5CXo\n",
      "422 nodes created.\n"
     ]
    },
    {
     "name": "stderr",
     "output_type": "stream",
     "text": [
      "ERROR:topogram-client:500 - Error : A topogram with the same name already exists\n"
     ]
    },
    {
     "name": "stdout",
     "output_type": "stream",
     "text": [
      "651 edges created.\n",
      "done. Topogram has been updated. Check it at http://localhost:3000/topograms/csFBXFWcJMdWy5CXo\n",
      "Creating topogram 'Our Last Night/BETA_0.4  \n",
      "Distance totale parcourue par l'artiste: 469169.754032 km  \n",
      "Distance calculee par Concorde: 377677.058418 km  \n",
      "Pourcentage d'optimisation global calcule:1950.09790865 %  \n",
      "MARGE D'OPTIMISATION IMPORTANTE'\n",
      "{u'status': u'success', 'status_code': 200, u'data': u'RLHr9XhJ9Q8JyrMKX', u'statusCode': 201}\n",
      "Creating topogram 'Our Last Night/BETA_0.4  \n",
      "Distance totale parcourue par l'artiste: 469169.754032 km  \n",
      "Distance calculee par Concorde: 377677.058418 km  \n",
      "Pourcentage d'optimisation global calcule:1950.09790865 %  \n",
      "MARGE D'OPTIMISATION IMPORTANTE'\n",
      "> Topogram already exists\n",
      "{u'status': u'success', 'status_code': 200, u'data': {u'sharedPublic': False, u'title': u\"Our Last Night/BETA_0.4  \\nDistance totale parcourue par l'artiste: 469169.754032 km  \\nDistance calculee par Concorde: 377677.058418 km  \\nPourcentage d'optimisation global calcule:1950.09790865 %  \\nMARGE D'OPTIMISATION IMPORTANTE\", u'userId': u'BxRn4kp4WFL92jW8g', u'_id': u'RLHr9XhJ9Q8JyrMKX', u'slug': u'our-last-nightbeta_04-distance-totale-parcourue-par-lartiste-469169754032-km-distance-calculee-par-concorde-377677058418-km-pourcentage-doptimisation-global-calcule195009790865-marge-doptimisation-importante', u'createdAt': u'2018-05-24T15:15:13.944Z'}, u'statusCode': 200}\n",
      "topogram ID : RLHr9XhJ9Q8JyrMKX\n",
      "492 nodes created.\n"
     ]
    },
    {
     "name": "stderr",
     "output_type": "stream",
     "text": [
      "ERROR:topogram-client:500 - Error : A topogram with the same name already exists\n"
     ]
    },
    {
     "name": "stdout",
     "output_type": "stream",
     "text": [
      "675 edges created.\n",
      "done. Topogram has been updated. Check it at http://localhost:3000/topograms/RLHr9XhJ9Q8JyrMKX\n",
      "Creating topogram 'Lupe Fiasco/BETA_0.4  \n",
      "Distance totale parcourue par l'artiste: 318320.210815 km  \n",
      "Distance calculee par Concorde: 261883.147422 km  \n",
      "Pourcentage d'optimisation global calcule:1772.96512995 %  \n",
      "MARGE D'OPTIMISATION IMPORTANTE'\n",
      "{u'status': u'success', 'status_code': 200, u'data': u'niTTc9wBCtcNueky4', u'statusCode': 201}\n",
      "Creating topogram 'Lupe Fiasco/BETA_0.4  \n",
      "Distance totale parcourue par l'artiste: 318320.210815 km  \n",
      "Distance calculee par Concorde: 261883.147422 km  \n",
      "Pourcentage d'optimisation global calcule:1772.96512995 %  \n",
      "MARGE D'OPTIMISATION IMPORTANTE'\n",
      "> Topogram already exists\n",
      "{u'status': u'success', 'status_code': 200, u'data': {u'sharedPublic': False, u'title': u\"Lupe Fiasco/BETA_0.4  \\nDistance totale parcourue par l'artiste: 318320.210815 km  \\nDistance calculee par Concorde: 261883.147422 km  \\nPourcentage d'optimisation global calcule:1772.96512995 %  \\nMARGE D'OPTIMISATION IMPORTANTE\", u'userId': u'BxRn4kp4WFL92jW8g', u'_id': u'niTTc9wBCtcNueky4', u'slug': u'lupe-fiascobeta_04-distance-totale-parcourue-par-lartiste-318320210815-km-distance-calculee-par-concorde-261883147422-km-pourcentage-doptimisation-global-calcule177296512995-marge-doptimisation-importante', u'createdAt': u'2018-05-24T15:15:15.544Z'}, u'statusCode': 200}\n",
      "topogram ID : niTTc9wBCtcNueky4\n",
      "276 nodes created.\n",
      "318 edges created.\n",
      "done. Topogram has been updated. Check it at http://localhost:3000/topograms/niTTc9wBCtcNueky4\n",
      "Creating topogram 'Joan Osborne/BETA_0.4  \n",
      "Distance totale parcourue par l'artiste: 192414.861514 km  \n",
      "Distance calculee par Concorde: 193443.858199 km  \n",
      "Pourcentage d'optimisation global calcule:-53.4780253957 %  \n",
      "TOURNEE DEJA OPTIMISEE'\n"
     ]
    },
    {
     "name": "stderr",
     "output_type": "stream",
     "text": [
      "ERROR:topogram-client:500 - Error : A topogram with the same name already exists\n"
     ]
    },
    {
     "name": "stdout",
     "output_type": "stream",
     "text": [
      "{u'status': u'success', 'status_code': 200, u'data': u'JrRMJ7jRoc8LKPnEb', u'statusCode': 201}\n",
      "Creating topogram 'Joan Osborne/BETA_0.4  \n",
      "Distance totale parcourue par l'artiste: 192414.861514 km  \n",
      "Distance calculee par Concorde: 193443.858199 km  \n",
      "Pourcentage d'optimisation global calcule:-53.4780253957 %  \n",
      "TOURNEE DEJA OPTIMISEE'\n",
      "> Topogram already exists\n",
      "{u'status': u'success', 'status_code': 200, u'data': {u'sharedPublic': False, u'title': u\"Joan Osborne/BETA_0.4  \\nDistance totale parcourue par l'artiste: 192414.861514 km  \\nDistance calculee par Concorde: 193443.858199 km  \\nPourcentage d'optimisation global calcule:-53.4780253957 %  \\nTOURNEE DEJA OPTIMISEE\", u'userId': u'BxRn4kp4WFL92jW8g', u'_id': u'JrRMJ7jRoc8LKPnEb', u'slug': u'joan-osbornebeta_04-distance-totale-parcourue-par-lartiste-192414861514-km-distance-calculee-par-concorde-193443858199-km-pourcentage-doptimisation-global-calcule-534780253957-tournee-deja-optimisee', u'createdAt': u'2018-05-24T15:15:16.555Z'}, u'statusCode': 200}\n",
      "topogram ID : JrRMJ7jRoc8LKPnEb\n",
      "219 nodes created.\n",
      "304 edges created.\n",
      "done. Topogram has been updated. Check it at http://localhost:3000/topograms/JrRMJ7jRoc8LKPnEb\n",
      "Creating topogram 'William Elliott Whitmore/BETA_0.4  \n",
      "Distance totale parcourue par l'artiste: 211210.812681 km  \n",
      "Distance calculee par Concorde: 210720.76074 km  \n",
      "Pourcentage d'optimisation global calcule:23.2020290219 %  \n",
      "MARGE D'OPTIMISATION IMPORTANTE'\n"
     ]
    },
    {
     "name": "stderr",
     "output_type": "stream",
     "text": [
      "ERROR:topogram-client:500 - Error : A topogram with the same name already exists\n"
     ]
    },
    {
     "name": "stdout",
     "output_type": "stream",
     "text": [
      "{u'status': u'success', 'status_code': 200, u'data': u'oZmcQXQMX3tGXJuoN', u'statusCode': 201}\n",
      "Creating topogram 'William Elliott Whitmore/BETA_0.4  \n",
      "Distance totale parcourue par l'artiste: 211210.812681 km  \n",
      "Distance calculee par Concorde: 210720.76074 km  \n",
      "Pourcentage d'optimisation global calcule:23.2020290219 %  \n",
      "MARGE D'OPTIMISATION IMPORTANTE'\n",
      "> Topogram already exists\n",
      "{u'status': u'success', 'status_code': 200, u'data': {u'sharedPublic': False, u'title': u\"William Elliott Whitmore/BETA_0.4  \\nDistance totale parcourue par l'artiste: 211210.812681 km  \\nDistance calculee par Concorde: 210720.76074 km  \\nPourcentage d'optimisation global calcule:23.2020290219 %  \\nMARGE D'OPTIMISATION IMPORTANTE\", u'userId': u'BxRn4kp4WFL92jW8g', u'_id': u'oZmcQXQMX3tGXJuoN', u'slug': u'william-elliott-whitmorebeta_04-distance-totale-parcourue-par-lartiste-211210812681-km-distance-calculee-par-concorde-21072076074-km-pourcentage-doptimisation-global-calcule232020290219-marge-doptimisation-importante', u'createdAt': u'2018-05-24T15:15:17.466Z'}, u'statusCode': 200}\n",
      "topogram ID : oZmcQXQMX3tGXJuoN\n",
      "237 nodes created.\n",
      "302 edges created.\n",
      "done. Topogram has been updated. Check it at http://localhost:3000/topograms/oZmcQXQMX3tGXJuoN\n",
      "Creating topogram 'Experience Offer/BETA_0.4  \n",
      "Distance totale parcourue par l'artiste: 240094.183138 km  \n",
      "Distance calculee par Concorde: 35445.8895684 km  \n",
      "Pourcentage d'optimisation global calcule:8523.66729151 %  \n",
      "MARGE D'OPTIMISATION IMPORTANTE'\n"
     ]
    },
    {
     "name": "stderr",
     "output_type": "stream",
     "text": [
      "ERROR:topogram-client:500 - Error : A topogram with the same name already exists\n"
     ]
    },
    {
     "name": "stdout",
     "output_type": "stream",
     "text": [
      "{u'status': u'success', 'status_code': 200, u'data': u'pgGnLj85DqFCptDmQ', u'statusCode': 201}\n",
      "Creating topogram 'Experience Offer/BETA_0.4  \n",
      "Distance totale parcourue par l'artiste: 240094.183138 km  \n",
      "Distance calculee par Concorde: 35445.8895684 km  \n",
      "Pourcentage d'optimisation global calcule:8523.66729151 %  \n",
      "MARGE D'OPTIMISATION IMPORTANTE'\n",
      "> Topogram already exists\n",
      "{u'status': u'success', 'status_code': 200, u'data': {u'sharedPublic': False, u'title': u\"Experience Offer/BETA_0.4  \\nDistance totale parcourue par l'artiste: 240094.183138 km  \\nDistance calculee par Concorde: 35445.8895684 km  \\nPourcentage d'optimisation global calcule:8523.66729151 %  \\nMARGE D'OPTIMISATION IMPORTANTE\", u'userId': u'BxRn4kp4WFL92jW8g', u'_id': u'pgGnLj85DqFCptDmQ', u'slug': u'experience-offerbeta_04-distance-totale-parcourue-par-lartiste-240094183138-km-distance-calculee-par-concorde-354458895684-km-pourcentage-doptimisation-global-calcule852366729151-marge-doptimisation-importante', u'createdAt': u'2018-05-24T15:15:18.401Z'}, u'statusCode': 200}\n",
      "topogram ID : pgGnLj85DqFCptDmQ\n",
      "39 nodes created.\n",
      "193 edges created.\n",
      "done. Topogram has been updated. Check it at http://localhost:3000/topograms/pgGnLj85DqFCptDmQ\n",
      "Creating topogram 'Goldfrapp/BETA_0.4  \n",
      "Distance totale parcourue par l'artiste: 186309.21038 km  \n",
      "Distance calculee par Concorde: 134300.909324 km  \n",
      "Pourcentage d'optimisation global calcule:2791.50456113 %  \n",
      "MARGE D'OPTIMISATION IMPORTANTE'\n",
      "{u'status': u'success', 'status_code': 200, u'data': u'cJZxQbRsKwGR7i2SS', u'statusCode': 201}\n",
      "Creating topogram 'Goldfrapp/BETA_0.4  \n",
      "Distance totale parcourue par l'artiste: 186309.21038 km  \n",
      "Distance calculee par Concorde: 134300.909324 km  \n",
      "Pourcentage d'optimisation global calcule:2791.50456113 %  \n",
      "MARGE D'OPTIMISATION IMPORTANTE'\n"
     ]
    },
    {
     "name": "stderr",
     "output_type": "stream",
     "text": [
      "ERROR:topogram-client:500 - Error : A topogram with the same name already exists\n"
     ]
    },
    {
     "name": "stdout",
     "output_type": "stream",
     "text": [
      "> Topogram already exists\n",
      "{u'status': u'success', 'status_code': 200, u'data': {u'sharedPublic': False, u'title': u\"Goldfrapp/BETA_0.4  \\nDistance totale parcourue par l'artiste: 186309.21038 km  \\nDistance calculee par Concorde: 134300.909324 km  \\nPourcentage d'optimisation global calcule:2791.50456113 %  \\nMARGE D'OPTIMISATION IMPORTANTE\", u'userId': u'BxRn4kp4WFL92jW8g', u'_id': u'cJZxQbRsKwGR7i2SS', u'slug': u'goldfrappbeta_04-distance-totale-parcourue-par-lartiste-18630921038-km-distance-calculee-par-concorde-134300909324-km-pourcentage-doptimisation-global-calcule279150456113-marge-doptimisation-importante', u'createdAt': u'2018-05-24T15:15:18.864Z'}, u'statusCode': 200}\n",
      "topogram ID : cJZxQbRsKwGR7i2SS\n"
     ]
    },
    {
     "name": "stderr",
     "output_type": "stream",
     "text": [
      "ERROR:topogram-client:500 - Error : A topogram with the same name already exists\n"
     ]
    },
    {
     "name": "stdout",
     "output_type": "stream",
     "text": [
      "113 nodes created.\n",
      "127 edges created.\n",
      "done. Topogram has been updated. Check it at http://localhost:3000/topograms/cJZxQbRsKwGR7i2SS\n",
      "Creating topogram 'Emily/BETA_0.4  \n",
      "Distance totale parcourue par l'artiste: 98135.9610771 km  \n",
      "Distance calculee par Concorde: 89820.6092744 km  \n",
      "Pourcentage d'optimisation global calcule:847.329736361 %  \n",
      "MARGE D'OPTIMISATION IMPORTANTE'\n",
      "{u'status': u'success', 'status_code': 200, u'data': u'FT9agdzXMrcWQxEFN', u'statusCode': 201}\n",
      "Creating topogram 'Emily/BETA_0.4  \n",
      "Distance totale parcourue par l'artiste: 98135.9610771 km  \n",
      "Distance calculee par Concorde: 89820.6092744 km  \n",
      "Pourcentage d'optimisation global calcule:847.329736361 %  \n",
      "MARGE D'OPTIMISATION IMPORTANTE'\n",
      "> Topogram already exists\n",
      "{u'status': u'success', 'status_code': 200, u'data': {u'sharedPublic': False, u'title': u\"Emily/BETA_0.4  \\nDistance totale parcourue par l'artiste: 98135.9610771 km  \\nDistance calculee par Concorde: 89820.6092744 km  \\nPourcentage d'optimisation global calcule:847.329736361 %  \\nMARGE D'OPTIMISATION IMPORTANTE\", u'userId': u'BxRn4kp4WFL92jW8g', u'_id': u'FT9agdzXMrcWQxEFN', u'slug': u'emilybeta_04-distance-totale-parcourue-par-lartiste-981359610771-km-distance-calculee-par-concorde-898206092744-km-pourcentage-doptimisation-global-calcule847329736361-marge-doptimisation-importante', u'createdAt': u'2018-05-24T15:15:19.471Z'}, u'statusCode': 200}\n",
      "topogram ID : FT9agdzXMrcWQxEFN\n",
      "34 nodes created."
     ]
    },
    {
     "name": "stderr",
     "output_type": "stream",
     "text": [
      "ERROR:topogram-client:500 - Error : A topogram with the same name already exists\n"
     ]
    },
    {
     "name": "stdout",
     "output_type": "stream",
     "text": [
      "\n",
      "43 edges created.\n",
      "done. Topogram has been updated. Check it at http://localhost:3000/topograms/FT9agdzXMrcWQxEFN\n",
      "Creating topogram 'Charlie Musselwhite/BETA_0.4  \n",
      "Distance totale parcourue par l'artiste: 374590.249934 km  \n",
      "Distance calculee par Concorde: 326959.488207 km  \n",
      "Pourcentage d'optimisation global calcule:1271.54301895 %  \n",
      "MARGE D'OPTIMISATION IMPORTANTE'\n",
      "{u'status': u'success', 'status_code': 200, u'data': u'mAyew9awca6iAxBCv', u'statusCode': 201}\n",
      "Creating topogram 'Charlie Musselwhite/BETA_0.4  \n",
      "Distance totale parcourue par l'artiste: 374590.249934 km  \n",
      "Distance calculee par Concorde: 326959.488207 km  \n",
      "Pourcentage d'optimisation global calcule:1271.54301895 %  \n",
      "MARGE D'OPTIMISATION IMPORTANTE'\n",
      "> Topogram already exists\n",
      "{u'status': u'success', 'status_code': 200, u'data': {u'sharedPublic': False, u'title': u\"Charlie Musselwhite/BETA_0.4  \\nDistance totale parcourue par l'artiste: 374590.249934 km  \\nDistance calculee par Concorde: 326959.488207 km  \\nPourcentage d'optimisation global calcule:1271.54301895 %  \\nMARGE D'OPTIMISATION IMPORTANTE\", u'userId': u'BxRn4kp4WFL92jW8g', u'_id': u'mAyew9awca6iAxBCv', u'slug': u'charlie-musselwhitebeta_04-distance-totale-parcourue-par-lartiste-374590249934-km-distance-calculee-par-concorde-326959488207-km-pourcentage-doptimisation-global-calcule127154301895-marge-doptimisation-importante', u'createdAt': u'2018-05-24T15:15:19.898Z'}, u'statusCode': 200}\n",
      "topogram ID : mAyew9awca6iAxBCv\n",
      "287 nodes created.\n",
      "380 edges created.\n",
      "done. Topogram has been updated. Check it at http://localhost:3000/topograms/mAyew9awca6iAxBCv\n",
      "Creating topogram 'Antje Duvekot/BETA_0.4  \n",
      "Distance totale parcourue par l'artiste: 194269.476994 km  \n",
      "Distance calculee par Concorde: 166794.770354 km  \n",
      "Pourcentage d'optimisation global calcule:1414.25750795 %  \n",
      "MARGE D'OPTIMISATION IMPORTANTE'\n"
     ]
    },
    {
     "name": "stderr",
     "output_type": "stream",
     "text": [
      "ERROR:topogram-client:500 - Error : A topogram with the same name already exists\n"
     ]
    },
    {
     "name": "stdout",
     "output_type": "stream",
     "text": [
      "{u'status': u'success', 'status_code': 200, u'data': u'6yonhQAF8cZzXzcLK', u'statusCode': 201}\n",
      "Creating topogram 'Antje Duvekot/BETA_0.4  \n",
      "Distance totale parcourue par l'artiste: 194269.476994 km  \n",
      "Distance calculee par Concorde: 166794.770354 km  \n",
      "Pourcentage d'optimisation global calcule:1414.25750795 %  \n",
      "MARGE D'OPTIMISATION IMPORTANTE'\n",
      "> Topogram already exists\n",
      "{u'status': u'success', 'status_code': 200, u'data': {u'sharedPublic': False, u'title': u\"Antje Duvekot/BETA_0.4  \\nDistance totale parcourue par l'artiste: 194269.476994 km  \\nDistance calculee par Concorde: 166794.770354 km  \\nPourcentage d'optimisation global calcule:1414.25750795 %  \\nMARGE D'OPTIMISATION IMPORTANTE\", u'userId': u'BxRn4kp4WFL92jW8g', u'_id': u'6yonhQAF8cZzXzcLK', u'slug': u'antje-duvekotbeta_04-distance-totale-parcourue-par-lartiste-194269476994-km-distance-calculee-par-concorde-166794770354-km-pourcentage-doptimisation-global-calcule141425750795-marge-doptimisation-importante', u'createdAt': u'2018-05-24T15:15:20.947Z'}, u'statusCode': 200}\n",
      "topogram ID : 6yonhQAF8cZzXzcLK\n",
      "194 nodes created.\n",
      "308 edges created.\n",
      "done. Topogram has been updated. Check it at http://localhost:3000/topograms/6yonhQAF8cZzXzcLK\n",
      "Creating topogram 'The Expendables/BETA_0.4  \n",
      "Distance totale parcourue par l'artiste: 409333.627517 km  \n",
      "Distance calculee par Concorde: 334090.31883 km  \n",
      "Pourcentage d'optimisation global calcule:1838.1902592 %  \n",
      "MARGE D'OPTIMISATION IMPORTANTE'\n",
      "{u'status': u'success', 'status_code': 200, u'data': u'G4ASCt98yhuweHLTM', u'statusCode': 201}\n",
      "Creating topogram 'The Expendables/BETA_0.4  \n",
      "Distance totale parcourue par l'artiste: 409333.627517 km  \n",
      "Distance calculee par Concorde: 334090.31883 km  \n",
      "Pourcentage d'optimisation global calcule:1838.1902592 %  \n",
      "MARGE D'OPTIMISATION IMPORTANTE'\n"
     ]
    },
    {
     "name": "stderr",
     "output_type": "stream",
     "text": [
      "ERROR:topogram-client:500 - Error : A topogram with the same name already exists\n"
     ]
    },
    {
     "name": "stdout",
     "output_type": "stream",
     "text": [
      "> Topogram already exists\n",
      "{u'status': u'success', 'status_code': 200, u'data': {u'sharedPublic': False, u'title': u\"The Expendables/BETA_0.4  \\nDistance totale parcourue par l'artiste: 409333.627517 km  \\nDistance calculee par Concorde: 334090.31883 km  \\nPourcentage d'optimisation global calcule:1838.1902592 %  \\nMARGE D'OPTIMISATION IMPORTANTE\", u'userId': u'BxRn4kp4WFL92jW8g', u'_id': u'G4ASCt98yhuweHLTM', u'slug': u'the-expendablesbeta_04-distance-totale-parcourue-par-lartiste-409333627517-km-distance-calculee-par-concorde-33409031883-km-pourcentage-doptimisation-global-calcule18381902592-marge-doptimisation-importante', u'createdAt': u'2018-05-24T15:15:21.690Z'}, u'statusCode': 200}\n",
      "topogram ID : G4ASCt98yhuweHLTM\n",
      "457 nodes created.\n"
     ]
    },
    {
     "name": "stderr",
     "output_type": "stream",
     "text": [
      "ERROR:topogram-client:500 - Error : A topogram with the same name already exists\n"
     ]
    },
    {
     "name": "stdout",
     "output_type": "stream",
     "text": [
      "675 edges created.\n",
      "done. Topogram has been updated. Check it at http://localhost:3000/topograms/G4ASCt98yhuweHLTM\n",
      "Creating topogram 'Chris Young/BETA_0.4  \n",
      "Distance totale parcourue par l'artiste: 684911.529565 km  \n",
      "Distance calculee par Concorde: 395629.071903 km  \n",
      "Pourcentage d'optimisation global calcule:4223.64707229 %  \n",
      "MARGE D'OPTIMISATION IMPORTANTE'\n",
      "{u'status': u'success', 'status_code': 200, u'data': u'yhGGGdze7gPXKNhQ7', u'statusCode': 201}\n",
      "Creating topogram 'Chris Young/BETA_0.4  \n",
      "Distance totale parcourue par l'artiste: 684911.529565 km  \n",
      "Distance calculee par Concorde: 395629.071903 km  \n",
      "Pourcentage d'optimisation global calcule:4223.64707229 %  \n",
      "MARGE D'OPTIMISATION IMPORTANTE'\n",
      "> Topogram already exists\n",
      "{u'status': u'success', 'status_code': 200, u'data': {u'sharedPublic': False, u'title': u\"Chris Young/BETA_0.4  \\nDistance totale parcourue par l'artiste: 684911.529565 km  \\nDistance calculee par Concorde: 395629.071903 km  \\nPourcentage d'optimisation global calcule:4223.64707229 %  \\nMARGE D'OPTIMISATION IMPORTANTE\", u'userId': u'BxRn4kp4WFL92jW8g', u'_id': u'yhGGGdze7gPXKNhQ7', u'slug': u'chris-youngbeta_04-distance-totale-parcourue-par-lartiste-684911529565-km-distance-calculee-par-concorde-395629071903-km-pourcentage-doptimisation-global-calcule422364707229-marge-doptimisation-importante', u'createdAt': u'2018-05-24T15:15:23.324Z'}, u'statusCode': 200}\n",
      "topogram ID : yhGGGdze7gPXKNhQ7\n",
      "563 nodes created.\n"
     ]
    },
    {
     "name": "stderr",
     "output_type": "stream",
     "text": [
      "ERROR:topogram-client:500 - Error : A topogram with the same name already exists\n"
     ]
    },
    {
     "name": "stdout",
     "output_type": "stream",
     "text": [
      "745 edges created.\n",
      "done. Topogram has been updated. Check it at http://localhost:3000/topograms/yhGGGdze7gPXKNhQ7\n",
      "Creating topogram 'Robin Eubanks/BETA_0.4  \n",
      "Distance totale parcourue par l'artiste: 159710.782485 km  \n",
      "Distance calculee par Concorde: 171368.741067 km  \n",
      "Pourcentage d'optimisation global calcule:-729.941861185 %  \n",
      "TOURNEE DEJA OPTIMISEE'\n",
      "{u'status': u'success', 'status_code': 200, u'data': u'8y6TYnbKN96iDQ78D', u'statusCode': 201}\n",
      "Creating topogram 'Robin Eubanks/BETA_0.4  \n",
      "Distance totale parcourue par l'artiste: 159710.782485 km  \n",
      "Distance calculee par Concorde: 171368.741067 km  \n",
      "Pourcentage d'optimisation global calcule:-729.941861185 %  \n",
      "TOURNEE DEJA OPTIMISEE'\n",
      "> Topogram already exists\n",
      "{u'status': u'success', 'status_code': 200, u'data': {u'sharedPublic': False, u'title': u\"Robin Eubanks/BETA_0.4  \\nDistance totale parcourue par l'artiste: 159710.782485 km  \\nDistance calculee par Concorde: 171368.741067 km  \\nPourcentage d'optimisation global calcule:-729.941861185 %  \\nTOURNEE DEJA OPTIMISEE\", u'userId': u'BxRn4kp4WFL92jW8g', u'_id': u'8y6TYnbKN96iDQ78D', u'slug': u'robin-eubanksbeta_04-distance-totale-parcourue-par-lartiste-159710782485-km-distance-calculee-par-concorde-171368741067-km-pourcentage-doptimisation-global-calcule-729941861185-tournee-deja-optimisee', u'createdAt': u'2018-05-24T15:15:25.192Z'}, u'statusCode': 200}\n",
      "topogram ID : 8y6TYnbKN96iDQ78D\n",
      "104 nodes created.\n",
      "247 edges created.\n",
      "done. Topogram has been updated. Check it at http://localhost:3000/topograms/8y6TYnbKN96iDQ78D\n",
      "Creating topogram 'Mark Guiliana/BETA_0.4  \n",
      "Distance totale parcourue par l'artiste: 389080.25986 km  \n",
      "Distance calculee par Concorde: 243636.15753 km  \n",
      "Pourcentage d'optimisation global calcule:3738.15167036 %  \n",
      "MARGE D'OPTIMISATION IMPORTANTE'\n",
      "{u'status': u'success', 'status_code': 200, u'data': u'rSaExaReuCrbe6Hoq', u'statusCode': 201}\n",
      "Creating topogram 'Mark Guiliana/BETA_0.4  \n",
      "Distance totale parcourue par l'artiste: 389080.25986 km  \n",
      "Distance calculee par Concorde: 243636.15753 km  \n",
      "Pourcentage d'optimisation global calcule:3738.15167036 %  \n",
      "MARGE D'OPTIMISATION IMPORTANTE'\n"
     ]
    },
    {
     "name": "stderr",
     "output_type": "stream",
     "text": [
      "ERROR:topogram-client:500 - Error : A topogram with the same name already exists\n"
     ]
    },
    {
     "name": "stdout",
     "output_type": "stream",
     "text": [
      "> Topogram already exists\n",
      "{u'status': u'success', 'status_code': 200, u'data': {u'sharedPublic': False, u'title': u\"Mark Guiliana/BETA_0.4  \\nDistance totale parcourue par l'artiste: 389080.25986 km  \\nDistance calculee par Concorde: 243636.15753 km  \\nPourcentage d'optimisation global calcule:3738.15167036 %  \\nMARGE D'OPTIMISATION IMPORTANTE\", u'userId': u'BxRn4kp4WFL92jW8g', u'_id': u'rSaExaReuCrbe6Hoq', u'slug': u'mark-guilianabeta_04-distance-totale-parcourue-par-lartiste-38908025986-km-distance-calculee-par-concorde-24363615753-km-pourcentage-doptimisation-global-calcule373815167036-marge-doptimisation-importante', u'createdAt': u'2018-05-24T15:15:25.833Z'}, u'statusCode': 200}\n",
      "topogram ID : rSaExaReuCrbe6Hoq\n",
      "165 nodes created.\n",
      "310 edges created.\n",
      "done. Topogram has been updated. Check it at http://localhost:3000/topograms/rSaExaReuCrbe6Hoq\n",
      "Creating topogram 'Alabama Shakes/BETA_0.4  \n",
      "Distance totale parcourue par l'artiste: 272896.907953 km  \n",
      "Distance calculee par Concorde: 283982.965903 km  \n",
      "Pourcentage d'optimisation global calcule:-406.236114329 %  \n",
      "TOURNEE DEJA OPTIMISEE'\n"
     ]
    },
    {
     "name": "stderr",
     "output_type": "stream",
     "text": [
      "ERROR:topogram-client:500 - Error : A topogram with the same name already exists\n"
     ]
    },
    {
     "name": "stdout",
     "output_type": "stream",
     "text": [
      "{u'status': u'success', 'status_code': 200, u'data': u'C2dSw82FuQWiKBLWu', u'statusCode': 201}\n",
      "Creating topogram 'Alabama Shakes/BETA_0.4  \n",
      "Distance totale parcourue par l'artiste: 272896.907953 km  \n",
      "Distance calculee par Concorde: 283982.965903 km  \n",
      "Pourcentage d'optimisation global calcule:-406.236114329 %  \n",
      "TOURNEE DEJA OPTIMISEE'\n",
      "> Topogram already exists\n",
      "{u'status': u'success', 'status_code': 200, u'data': {u'sharedPublic': False, u'title': u\"Alabama Shakes/BETA_0.4  \\nDistance totale parcourue par l'artiste: 272896.907953 km  \\nDistance calculee par Concorde: 283982.965903 km  \\nPourcentage d'optimisation global calcule:-406.236114329 %  \\nTOURNEE DEJA OPTIMISEE\", u'userId': u'BxRn4kp4WFL92jW8g', u'_id': u'C2dSw82FuQWiKBLWu', u'slug': u'alabama-shakesbeta_04-distance-totale-parcourue-par-lartiste-272896907953-km-distance-calculee-par-concorde-283982965903-km-pourcentage-doptimisation-global-calcule-406236114329-tournee-deja-optimisee', u'createdAt': u'2018-05-24T15:15:26.645Z'}, u'statusCode': 200}\n",
      "topogram ID : C2dSw82FuQWiKBLWu\n",
      "274 nodes created.\n",
      "306 edges created.\n",
      "done. Topogram has been updated. Check it at http://localhost:3000/topograms/C2dSw82FuQWiKBLWu\n",
      "Creating topogram 'Official ABSU Network/BETA_0.4  \n",
      "Distance totale parcourue par l'artiste: 158187.09993 km  \n",
      "Distance calculee par Concorde: 163248.608004 km  \n",
      "Pourcentage d'optimisation global calcule:-319.969711556 %  \n",
      "TOURNEE DEJA OPTIMISEE'\n",
      "{u'status': u'success', 'status_code': 200, u'data': u'toGeEThnwY2tkXLmZ', u'statusCode': 201}\n",
      "Creating topogram 'Official ABSU Network/BETA_0.4  \n",
      "Distance totale parcourue par l'artiste: 158187.09993 km  \n",
      "Distance calculee par Concorde: 163248.608004 km  \n",
      "Pourcentage d'optimisation global calcule:-319.969711556 %  \n",
      "TOURNEE DEJA OPTIMISEE'\n"
     ]
    },
    {
     "name": "stderr",
     "output_type": "stream",
     "text": [
      "ERROR:topogram-client:500 - Error : A topogram with the same name already exists\n"
     ]
    },
    {
     "name": "stdout",
     "output_type": "stream",
     "text": [
      "> Topogram already exists\n",
      "{u'status': u'success', 'status_code': 200, u'data': {u'sharedPublic': False, u'title': u\"Official ABSU Network/BETA_0.4  \\nDistance totale parcourue par l'artiste: 158187.09993 km  \\nDistance calculee par Concorde: 163248.608004 km  \\nPourcentage d'optimisation global calcule:-319.969711556 %  \\nTOURNEE DEJA OPTIMISEE\", u'userId': u'BxRn4kp4WFL92jW8g', u'_id': u'toGeEThnwY2tkXLmZ', u'slug': u'official-absu-networkbeta_04-distance-totale-parcourue-par-lartiste-15818709993-km-distance-calculee-par-concorde-163248608004-km-pourcentage-doptimisation-global-calcule-319969711556-tournee-deja-optimisee', u'createdAt': u'2018-05-24T15:15:27.662Z'}, u'statusCode': 200}\n",
      "topogram ID : toGeEThnwY2tkXLmZ\n",
      "134 nodes created.\n",
      "144 edges created.\n",
      "done. Topogram has been updated. Check it at http://localhost:3000/topograms/toGeEThnwY2tkXLmZ\n",
      "Creating topogram 'Afrojack/BETA_0.4  \n",
      "Distance totale parcourue par l'artiste: 1122971.39766 km  \n",
      "Distance calculee par Concorde: 730594.455104 km  \n",
      "Pourcentage d'optimisation global calcule:3494.09560542 %  \n",
      "MARGE D'OPTIMISATION IMPORTANTE'\n",
      "{u'status': u'success', 'status_code': 200, u'data': u'JFHpCxecWuX2Qxd9Q', u'statusCode': 201}\n",
      "Creating topogram 'Afrojack/BETA_0.4  \n",
      "Distance totale parcourue par l'artiste: 1122971.39766 km  \n",
      "Distance calculee par Concorde: 730594.455104 km  \n",
      "Pourcentage d'optimisation global calcule:3494.09560542 %  \n",
      "MARGE D'OPTIMISATION IMPORTANTE'\n"
     ]
    },
    {
     "name": "stderr",
     "output_type": "stream",
     "text": [
      "ERROR:topogram-client:500 - Error : A topogram with the same name already exists\n"
     ]
    },
    {
     "name": "stdout",
     "output_type": "stream",
     "text": [
      "> Topogram already exists\n",
      "{u'status': u'success', 'status_code': 200, u'data': {u'sharedPublic': False, u'title': u\"Afrojack/BETA_0.4  \\nDistance totale parcourue par l'artiste: 1122971.39766 km  \\nDistance calculee par Concorde: 730594.455104 km  \\nPourcentage d'optimisation global calcule:3494.09560542 %  \\nMARGE D'OPTIMISATION IMPORTANTE\", u'userId': u'BxRn4kp4WFL92jW8g', u'_id': u'JFHpCxecWuX2Qxd9Q', u'slug': u'afrojackbeta_04-distance-totale-parcourue-par-lartiste-112297139766-km-distance-calculee-par-concorde-730594455104-km-pourcentage-doptimisation-global-calcule349409560542-marge-doptimisation-importante', u'createdAt': u'2018-05-24T15:15:28.343Z'}, u'statusCode': 200}\n",
      "topogram ID : JFHpCxecWuX2Qxd9Q\n",
      "260 nodes created.\n",
      "417 edges created.\n",
      "done. Topogram has been updated. Check it at http://localhost:3000/topograms/JFHpCxecWuX2Qxd9Q\n"
     ]
    },
    {
     "name": "stderr",
     "output_type": "stream",
     "text": [
      "ERROR:topogram-client:500 - Error : A topogram with the same name already exists\n"
     ]
    },
    {
     "name": "stdout",
     "output_type": "stream",
     "text": [
      "Creating topogram 'Bad Boy Bill/BETA_0.4  \n",
      "Distance totale parcourue par l'artiste: 630726.490124 km  \n",
      "Distance calculee par Concorde: 329731.280021 km  \n",
      "Pourcentage d'optimisation global calcule:4772.19864421 %  \n",
      "MARGE D'OPTIMISATION IMPORTANTE'\n",
      "{u'status': u'success', 'status_code': 200, u'data': u'uEbiZccp9fSbCrKFp', u'statusCode': 201}\n",
      "Creating topogram 'Bad Boy Bill/BETA_0.4  \n",
      "Distance totale parcourue par l'artiste: 630726.490124 km  \n",
      "Distance calculee par Concorde: 329731.280021 km  \n",
      "Pourcentage d'optimisation global calcule:4772.19864421 %  \n",
      "MARGE D'OPTIMISATION IMPORTANTE'\n",
      "> Topogram already exists\n",
      "{u'status': u'success', 'status_code': 200, u'data': {u'sharedPublic': False, u'title': u\"Bad Boy Bill/BETA_0.4  \\nDistance totale parcourue par l'artiste: 630726.490124 km  \\nDistance calculee par Concorde: 329731.280021 km  \\nPourcentage d'optimisation global calcule:4772.19864421 %  \\nMARGE D'OPTIMISATION IMPORTANTE\", u'userId': u'BxRn4kp4WFL92jW8g', u'_id': u'uEbiZccp9fSbCrKFp', u'slug': u'bad-boy-billbeta_04-distance-totale-parcourue-par-lartiste-630726490124-km-distance-calculee-par-concorde-329731280021-km-pourcentage-doptimisation-global-calcule477219864421-marge-doptimisation-importante', u'createdAt': u'2018-05-24T15:15:29.402Z'}, u'statusCode': 200}\n",
      "topogram ID : uEbiZccp9fSbCrKFp\n",
      "223 nodes created.\n",
      "302 edges created.\n",
      "done. Topogram has been updated. Check it at http://localhost:3000/topograms/uEbiZccp9fSbCrKFp\n",
      "Creating topogram 'Bob Log III/BETA_0.4  \n",
      "Distance totale parcourue par l'artiste: 320188.365067 km  \n",
      "Distance calculee par Concorde: 388067.558174 km  \n",
      "Pourcentage d'optimisation global calcule:-2119.97687963 %  \n",
      "TOURNEE DEJA OPTIMISEE'\n"
     ]
    },
    {
     "name": "stderr",
     "output_type": "stream",
     "text": [
      "ERROR:topogram-client:500 - Error : A topogram with the same name already exists\n"
     ]
    },
    {
     "name": "stdout",
     "output_type": "stream",
     "text": [
      "{u'status': u'success', 'status_code': 200, u'data': u'6gthNy4DaiJj6MY8F', u'statusCode': 201}\n",
      "Creating topogram 'Bob Log III/BETA_0.4  \n",
      "Distance totale parcourue par l'artiste: 320188.365067 km  \n",
      "Distance calculee par Concorde: 388067.558174 km  \n",
      "Pourcentage d'optimisation global calcule:-2119.97687963 %  \n",
      "TOURNEE DEJA OPTIMISEE'\n",
      "> Topogram already exists\n",
      "{u'status': u'success', 'status_code': 200, u'data': {u'sharedPublic': False, u'title': u\"Bob Log III/BETA_0.4  \\nDistance totale parcourue par l'artiste: 320188.365067 km  \\nDistance calculee par Concorde: 388067.558174 km  \\nPourcentage d'optimisation global calcule:-2119.97687963 %  \\nTOURNEE DEJA OPTIMISEE\", u'userId': u'BxRn4kp4WFL92jW8g', u'_id': u'6gthNy4DaiJj6MY8F', u'slug': u'bob-log-iiibeta_04-distance-totale-parcourue-par-lartiste-320188365067-km-distance-calculee-par-concorde-388067558174-km-pourcentage-doptimisation-global-calcule-211997687963-tournee-deja-optimisee', u'createdAt': u'2018-05-24T15:15:30.301Z'}, u'statusCode': 200}\n",
      "topogram ID : 6gthNy4DaiJj6MY8F\n",
      "354 nodes created.\n"
     ]
    },
    {
     "name": "stderr",
     "output_type": "stream",
     "text": [
      "ERROR:topogram-client:500 - Error : A topogram with the same name already exists\n"
     ]
    },
    {
     "name": "stdout",
     "output_type": "stream",
     "text": [
      "435 edges created.\n",
      "done. Topogram has been updated. Check it at http://localhost:3000/topograms/6gthNy4DaiJj6MY8F\n",
      "Creating topogram 'Watsky /BETA_0.4  \n",
      "Distance totale parcourue par l'artiste: 210940.638953 km  \n",
      "Distance calculee par Concorde: 174378.365911 km  \n",
      "Pourcentage d'optimisation global calcule:1733.2967807 %  \n",
      "MARGE D'OPTIMISATION IMPORTANTE'\n",
      "{u'status': u'success', 'status_code': 200, u'data': u'4jWRvwqhTMuzLHaEu', u'statusCode': 201}\n",
      "Creating topogram 'Watsky /BETA_0.4  \n",
      "Distance totale parcourue par l'artiste: 210940.638953 km  \n",
      "Distance calculee par Concorde: 174378.365911 km  \n",
      "Pourcentage d'optimisation global calcule:1733.2967807 %  \n",
      "MARGE D'OPTIMISATION IMPORTANTE'\n",
      "> Topogram already exists\n",
      "{u'status': u'success', 'status_code': 200, u'data': {u'sharedPublic': False, u'title': u\"Watsky /BETA_0.4  \\nDistance totale parcourue par l'artiste: 210940.638953 km  \\nDistance calculee par Concorde: 174378.365911 km  \\nPourcentage d'optimisation global calcule:1733.2967807 %  \\nMARGE D'OPTIMISATION IMPORTANTE\", u'userId': u'BxRn4kp4WFL92jW8g', u'_id': u'4jWRvwqhTMuzLHaEu', u'slug': u'watsky-beta_04-distance-totale-parcourue-par-lartiste-210940638953-km-distance-calculee-par-concorde-174378365911-km-pourcentage-doptimisation-global-calcule17332967807-marge-doptimisation-importante', u'createdAt': u'2018-05-24T15:15:31.641Z'}, u'statusCode': 200}\n",
      "topogram ID : 4jWRvwqhTMuzLHaEu\n",
      "197 nodes created.\n",
      "235 edges created.\n",
      "done. Topogram has been updated. Check it at http://localhost:3000/topograms/4jWRvwqhTMuzLHaEu\n",
      "Creating topogram 'Legend/BETA_0.4  \n",
      "Distance totale parcourue par l'artiste: 219360.829233 km  \n",
      "Distance calculee par Concorde: 180425.539956 km  \n",
      "Pourcentage d'optimisation global calcule:1774.9426556 %  \n",
      "MARGE D'OPTIMISATION IMPORTANTE'\n",
      "{u'status': u'success', 'status_code': 200, u'data': u'EGcQWn8NZ8fGtDCgG', u'statusCode': 201}\n",
      "Creating topogram 'Legend/BETA_0.4  \n",
      "Distance totale parcourue par l'artiste: 219360.829233 km  \n",
      "Distance calculee par Concorde: 180425.539956 km  \n",
      "Pourcentage d'optimisation global calcule:1774.9426556 %  \n",
      "MARGE D'OPTIMISATION IMPORTANTE'\n"
     ]
    },
    {
     "name": "stderr",
     "output_type": "stream",
     "text": [
      "ERROR:topogram-client:500 - Error : A topogram with the same name already exists\n"
     ]
    },
    {
     "name": "stdout",
     "output_type": "stream",
     "text": [
      "> Topogram already exists\n",
      "{u'status': u'success', 'status_code': 200, u'data': {u'sharedPublic': False, u'title': u\"Legend/BETA_0.4  \\nDistance totale parcourue par l'artiste: 219360.829233 km  \\nDistance calculee par Concorde: 180425.539956 km  \\nPourcentage d'optimisation global calcule:1774.9426556 %  \\nMARGE D'OPTIMISATION IMPORTANTE\", u'userId': u'BxRn4kp4WFL92jW8g', u'_id': u'EGcQWn8NZ8fGtDCgG', u'slug': u'legendbeta_04-distance-totale-parcourue-par-lartiste-219360829233-km-distance-calculee-par-concorde-180425539956-km-pourcentage-doptimisation-global-calcule17749426556-marge-doptimisation-importante', u'createdAt': u'2018-05-24T15:15:32.462Z'}, u'statusCode': 200}\n",
      "topogram ID : EGcQWn8NZ8fGtDCgG\n"
     ]
    },
    {
     "name": "stderr",
     "output_type": "stream",
     "text": [
      "ERROR:topogram-client:500 - Error : A topogram with the same name already exists\n"
     ]
    },
    {
     "name": "stdout",
     "output_type": "stream",
     "text": [
      "140 nodes created.\n",
      "181 edges created.\n",
      "done. Topogram has been updated. Check it at http://localhost:3000/topograms/EGcQWn8NZ8fGtDCgG\n",
      "Creating topogram 'Tim Sweeney/BETA_0.4  \n",
      "Distance totale parcourue par l'artiste: 439549.000404 km  \n",
      "Distance calculee par Concorde: 346858.140294 km  \n",
      "Pourcentage d'optimisation global calcule:2108.77194636 %  \n",
      "MARGE D'OPTIMISATION IMPORTANTE'\n",
      "{u'status': u'success', 'status_code': 200, u'data': u'opAueAq4sTCnwoMyX', u'statusCode': 201}\n",
      "Creating topogram 'Tim Sweeney/BETA_0.4  \n",
      "Distance totale parcourue par l'artiste: 439549.000404 km  \n",
      "Distance calculee par Concorde: 346858.140294 km  \n",
      "Pourcentage d'optimisation global calcule:2108.77194636 %  \n",
      "MARGE D'OPTIMISATION IMPORTANTE'\n",
      "> Topogram already exists\n",
      "{u'status': u'success', 'status_code': 200, u'data': {u'sharedPublic': False, u'title': u\"Tim Sweeney/BETA_0.4  \\nDistance totale parcourue par l'artiste: 439549.000404 km  \\nDistance calculee par Concorde: 346858.140294 km  \\nPourcentage d'optimisation global calcule:2108.77194636 %  \\nMARGE D'OPTIMISATION IMPORTANTE\", u'userId': u'BxRn4kp4WFL92jW8g', u'_id': u'opAueAq4sTCnwoMyX', u'slug': u'tim-sweeneybeta_04-distance-totale-parcourue-par-lartiste-439549000404-km-distance-calculee-par-concorde-346858140294-km-pourcentage-doptimisation-global-calcule210877194636-marge-doptimisation-importante', u'createdAt': u'2018-05-24T15:15:33.144Z'}, u'statusCode': 200}\n",
      "topogram ID : opAueAq4sTCnwoMyX\n",
      "113 nodes created.\n",
      "142 edges created.\n",
      "done. Topogram has been updated. Check it at http://localhost:3000/topograms/opAueAq4sTCnwoMyX\n",
      "Creating topogram 'Set/BETA_0.4  \n",
      "Distance totale parcourue par l'artiste: 367452.390657 km  \n",
      "Distance calculee par Concorde: 248130.271541 km  \n",
      "Pourcentage d'optimisation global calcule:3247.28106688 %  \n",
      "MARGE D'OPTIMISATION IMPORTANTE'\n",
      "{u'status': u'success', 'status_code': 200, u'data': u'bSocywyG2DC5aBP6m', u'statusCode': 201}\n",
      "Creating topogram 'Set/BETA_0.4  \n",
      "Distance totale parcourue par l'artiste: 367452.390657 km  \n",
      "Distance calculee par Concorde: 248130.271541 km  \n",
      "Pourcentage d'optimisation global calcule:3247.28106688 %  \n",
      "MARGE D'OPTIMISATION IMPORTANTE'\n"
     ]
    },
    {
     "name": "stderr",
     "output_type": "stream",
     "text": [
      "ERROR:topogram-client:500 - Error : A topogram with the same name already exists\n"
     ]
    },
    {
     "name": "stdout",
     "output_type": "stream",
     "text": [
      "> Topogram already exists\n",
      "{u'status': u'success', 'status_code': 200, u'data': {u'sharedPublic': False, u'title': u\"Set/BETA_0.4  \\nDistance totale parcourue par l'artiste: 367452.390657 km  \\nDistance calculee par Concorde: 248130.271541 km  \\nPourcentage d'optimisation global calcule:3247.28106688 %  \\nMARGE D'OPTIMISATION IMPORTANTE\", u'userId': u'BxRn4kp4WFL92jW8g', u'_id': u'bSocywyG2DC5aBP6m', u'slug': u'setbeta_04-distance-totale-parcourue-par-lartiste-367452390657-km-distance-calculee-par-concorde-248130271541-km-pourcentage-doptimisation-global-calcule324728106688-marge-doptimisation-importante', u'createdAt': u'2018-05-24T15:15:33.788Z'}, u'statusCode': 200}\n",
      "topogram ID : bSocywyG2DC5aBP6m\n"
     ]
    },
    {
     "name": "stderr",
     "output_type": "stream",
     "text": [
      "ERROR:topogram-client:500 - Error : A topogram with the same name already exists\n"
     ]
    },
    {
     "name": "stdout",
     "output_type": "stream",
     "text": [
      "105 nodes created.\n",
      "153 edges created.\n",
      "done. Topogram has been updated. Check it at http://localhost:3000/topograms/bSocywyG2DC5aBP6m\n",
      "Creating topogram 'Ryan Marciano/BETA_0.4  \n",
      "Distance totale parcourue par l'artiste: 398825.405633 km  \n",
      "Distance calculee par Concorde: 183175.979328 km  \n",
      "Pourcentage d'optimisation global calcule:5407.11357048 %  \n",
      "MARGE D'OPTIMISATION IMPORTANTE'\n",
      "{u'status': u'success', 'status_code': 200, u'data': u'esKJGwmduP6riDLtu', u'statusCode': 201}\n",
      "Creating topogram 'Ryan Marciano/BETA_0.4  \n",
      "Distance totale parcourue par l'artiste: 398825.405633 km  \n",
      "Distance calculee par Concorde: 183175.979328 km  \n",
      "Pourcentage d'optimisation global calcule:5407.11357048 %  \n",
      "MARGE D'OPTIMISATION IMPORTANTE'\n",
      "> Topogram already exists\n",
      "{u'status': u'success', 'status_code': 200, u'data': {u'sharedPublic': False, u'title': u\"Ryan Marciano/BETA_0.4  \\nDistance totale parcourue par l'artiste: 398825.405633 km  \\nDistance calculee par Concorde: 183175.979328 km  \\nPourcentage d'optimisation global calcule:5407.11357048 %  \\nMARGE D'OPTIMISATION IMPORTANTE\", u'userId': u'BxRn4kp4WFL92jW8g', u'_id': u'esKJGwmduP6riDLtu', u'slug': u'ryan-marcianobeta_04-distance-totale-parcourue-par-lartiste-398825405633-km-distance-calculee-par-concorde-183175979328-km-pourcentage-doptimisation-global-calcule540711357048-marge-doptimisation-importante', u'createdAt': u'2018-05-24T15:15:34.412Z'}, u'statusCode': 200}\n",
      "topogram ID : esKJGwmduP6riDLtu\n"
     ]
    },
    {
     "name": "stderr",
     "output_type": "stream",
     "text": [
      "ERROR:topogram-client:500 - Error : A topogram with the same name already exists\n"
     ]
    },
    {
     "name": "stdout",
     "output_type": "stream",
     "text": [
      "82 nodes created.\n",
      "126 edges created.\n",
      "done. Topogram has been updated. Check it at http://localhost:3000/topograms/esKJGwmduP6riDLtu\n",
      "Creating topogram 'Raphael/BETA_0.4  \n",
      "Distance totale parcourue par l'artiste: 227738.121944 km  \n",
      "Distance calculee par Concorde: 150644.987605 km  \n",
      "Pourcentage d'optimisation global calcule:3385.16598279 %  \n",
      "MARGE D'OPTIMISATION IMPORTANTE'\n",
      "{u'status': u'success', 'status_code': 200, u'data': u'2MWZJKSFh66EDf5ou', u'statusCode': 201}\n",
      "Creating topogram 'Raphael/BETA_0.4  \n",
      "Distance totale parcourue par l'artiste: 227738.121944 km  \n",
      "Distance calculee par Concorde: 150644.987605 km  \n",
      "Pourcentage d'optimisation global calcule:3385.16598279 %  \n",
      "MARGE D'OPTIMISATION IMPORTANTE'\n",
      "> Topogram already exists\n",
      "{u'status': u'success', 'status_code': 200, u'data': {u'sharedPublic': False, u'title': u\"Raphael/BETA_0.4  \\nDistance totale parcourue par l'artiste: 227738.121944 km  \\nDistance calculee par Concorde: 150644.987605 km  \\nPourcentage d'optimisation global calcule:3385.16598279 %  \\nMARGE D'OPTIMISATION IMPORTANTE\", u'userId': u'BxRn4kp4WFL92jW8g', u'_id': u'2MWZJKSFh66EDf5ou', u'slug': u'raphaelbeta_04-distance-totale-parcourue-par-lartiste-227738121944-km-distance-calculee-par-concorde-150644987605-km-pourcentage-doptimisation-global-calcule338516598279-marge-doptimisation-importante', u'createdAt': u'2018-05-24T15:15:34.975Z'}, u'statusCode': 200}\n",
      "topogram ID : 2MWZJKSFh66EDf5ou\n",
      "147 nodes created.\n",
      "250 edges created.\n",
      "done. Topogram has been updated. Check it at http://localhost:3000/topograms/2MWZJKSFh66EDf5ou\n",
      "Creating topogram 'The Crystal Method/BETA_0.4  \n",
      "Distance totale parcourue par l'artiste: 373924.519111 km  \n",
      "Distance calculee par Concorde: 274685.533417 km  \n",
      "Pourcentage d'optimisation global calcule:2653.98444396 %  \n",
      "MARGE D'OPTIMISATION IMPORTANTE'\n",
      "{u'status': u'success', 'status_code': 200, u'data': u'QXsrgKYBMHsRExMo5', u'statusCode': 201}\n",
      "Creating topogram 'The Crystal Method/BETA_0.4  \n",
      "Distance totale parcourue par l'artiste: 373924.519111 km  \n",
      "Distance calculee par Concorde: 274685.533417 km  \n",
      "Pourcentage d'optimisation global calcule:2653.98444396 %  \n",
      "MARGE D'OPTIMISATION IMPORTANTE'\n"
     ]
    },
    {
     "name": "stderr",
     "output_type": "stream",
     "text": [
      "ERROR:topogram-client:500 - Error : A topogram with the same name already exists\n"
     ]
    },
    {
     "name": "stdout",
     "output_type": "stream",
     "text": [
      "> Topogram already exists\n",
      "{u'status': u'success', 'status_code': 200, u'data': {u'sharedPublic': False, u'title': u\"The Crystal Method/BETA_0.4  \\nDistance totale parcourue par l'artiste: 373924.519111 km  \\nDistance calculee par Concorde: 274685.533417 km  \\nPourcentage d'optimisation global calcule:2653.98444396 %  \\nMARGE D'OPTIMISATION IMPORTANTE\", u'userId': u'BxRn4kp4WFL92jW8g', u'_id': u'QXsrgKYBMHsRExMo5', u'slug': u'the-crystal-methodbeta_04-distance-totale-parcourue-par-lartiste-373924519111-km-distance-calculee-par-concorde-274685533417-km-pourcentage-doptimisation-global-calcule265398444396-marge-doptimisation-importante', u'createdAt': u'2018-05-24T15:15:35.676Z'}, u'statusCode': 200}\n",
      "topogram ID : QXsrgKYBMHsRExMo5\n",
      "220 nodes created.\n",
      "255 edges created.\n",
      "done. Topogram has been updated. Check it at http://localhost:3000/topograms/QXsrgKYBMHsRExMo5\n",
      "Creating topogram 'Tech N9ne/BETA_0.4  \n",
      "Distance totale parcourue par l'artiste: 564543.046818 km  \n",
      "Distance calculee par Concorde: 495938.236055 km  \n",
      "Pourcentage d'optimisation global calcule:1215.22727363 %  \n",
      "MARGE D'OPTIMISATION IMPORTANTE'\n"
     ]
    },
    {
     "name": "stderr",
     "output_type": "stream",
     "text": [
      "ERROR:topogram-client:500 - Error : A topogram with the same name already exists\n"
     ]
    },
    {
     "name": "stdout",
     "output_type": "stream",
     "text": [
      "{u'status': u'success', 'status_code': 200, u'data': u'uekXMyW66xfCGYWE8', u'statusCode': 201}\n",
      "Creating topogram 'Tech N9ne/BETA_0.4  \n",
      "Distance totale parcourue par l'artiste: 564543.046818 km  \n",
      "Distance calculee par Concorde: 495938.236055 km  \n",
      "Pourcentage d'optimisation global calcule:1215.22727363 %  \n",
      "MARGE D'OPTIMISATION IMPORTANTE'\n",
      "> Topogram already exists\n",
      "{u'status': u'success', 'status_code': 200, u'data': {u'sharedPublic': False, u'title': u\"Tech N9ne/BETA_0.4  \\nDistance totale parcourue par l'artiste: 564543.046818 km  \\nDistance calculee par Concorde: 495938.236055 km  \\nPourcentage d'optimisation global calcule:1215.22727363 %  \\nMARGE D'OPTIMISATION IMPORTANTE\", u'userId': u'BxRn4kp4WFL92jW8g', u'_id': u'uekXMyW66xfCGYWE8', u'slug': u'tech-n9nebeta_04-distance-totale-parcourue-par-lartiste-564543046818-km-distance-calculee-par-concorde-495938236055-km-pourcentage-doptimisation-global-calcule121522727363-marge-doptimisation-importante', u'createdAt': u'2018-05-24T15:15:36.684Z'}, u'statusCode': 200}\n",
      "topogram ID : uekXMyW66xfCGYWE8\n",
      "453 nodes created.\n"
     ]
    },
    {
     "name": "stderr",
     "output_type": "stream",
     "text": [
      "ERROR:topogram-client:500 - Error : A topogram with the same name already exists\n"
     ]
    },
    {
     "name": "stdout",
     "output_type": "stream",
     "text": [
      "1009 edges created.\n",
      "done. Topogram has been updated. Check it at http://localhost:3000/topograms/uekXMyW66xfCGYWE8\n",
      "Creating topogram '.38 Special/BETA_0.4  \n",
      "Distance totale parcourue par l'artiste: 412002.788781 km  \n",
      "Distance calculee par Concorde: 242744.291275 km  \n",
      "Pourcentage d'optimisation global calcule:4108.18815102 %  \n",
      "MARGE D'OPTIMISATION IMPORTANTE'\n",
      "{u'status': u'success', 'status_code': 200, u'data': u'PRS2B4PgaF95sRLLP', u'statusCode': 201}\n",
      "Creating topogram '.38 Special/BETA_0.4  \n",
      "Distance totale parcourue par l'artiste: 412002.788781 km  \n",
      "Distance calculee par Concorde: 242744.291275 km  \n",
      "Pourcentage d'optimisation global calcule:4108.18815102 %  \n",
      "MARGE D'OPTIMISATION IMPORTANTE'\n",
      "> Topogram already exists\n",
      "{u'status': u'success', 'status_code': 200, u'data': {u'sharedPublic': False, u'title': u\".38 Special/BETA_0.4  \\nDistance totale parcourue par l'artiste: 412002.788781 km  \\nDistance calculee par Concorde: 242744.291275 km  \\nPourcentage d'optimisation global calcule:4108.18815102 %  \\nMARGE D'OPTIMISATION IMPORTANTE\", u'userId': u'BxRn4kp4WFL92jW8g', u'_id': u'PRS2B4PgaF95sRLLP', u'slug': u'38-specialbeta_04-distance-totale-parcourue-par-lartiste-412002788781-km-distance-calculee-par-concorde-242744291275-km-pourcentage-doptimisation-global-calcule410818815102-marge-doptimisation-importante', u'createdAt': u'2018-05-24T15:15:38.345Z'}, u'statusCode': 200}\n",
      "topogram ID : PRS2B4PgaF95sRLLP\n",
      "407 nodes created.\n",
      "476 edges created.\n",
      "done. Topogram has been updated. Check it at http://localhost:3000/topograms/PRS2B4PgaF95sRLLP\n"
     ]
    },
    {
     "name": "stderr",
     "output_type": "stream",
     "text": [
      "ERROR:topogram-client:500 - Error : A topogram with the same name already exists\n"
     ]
    },
    {
     "name": "stdout",
     "output_type": "stream",
     "text": [
      "Creating topogram 'Eric Harland/BETA_0.4  \n",
      "Distance totale parcourue par l'artiste: 123021.77967 km  \n",
      "Distance calculee par Concorde: 111999.073747 km  \n",
      "Pourcentage d'optimisation global calcule:895.996298599 %  \n",
      "MARGE D'OPTIMISATION IMPORTANTE'\n",
      "{u'status': u'success', 'status_code': 200, u'data': u'XfLpzdBMCodxaAdbr', u'statusCode': 201}\n",
      "Creating topogram 'Eric Harland/BETA_0.4  \n",
      "Distance totale parcourue par l'artiste: 123021.77967 km  \n",
      "Distance calculee par Concorde: 111999.073747 km  \n",
      "Pourcentage d'optimisation global calcule:895.996298599 %  \n",
      "MARGE D'OPTIMISATION IMPORTANTE'\n",
      "> Topogram already exists\n",
      "{u'status': u'success', 'status_code': 200, u'data': {u'sharedPublic': False, u'title': u\"Eric Harland/BETA_0.4  \\nDistance totale parcourue par l'artiste: 123021.77967 km  \\nDistance calculee par Concorde: 111999.073747 km  \\nPourcentage d'optimisation global calcule:895.996298599 %  \\nMARGE D'OPTIMISATION IMPORTANTE\", u'userId': u'BxRn4kp4WFL92jW8g', u'_id': u'XfLpzdBMCodxaAdbr', u'slug': u'eric-harlandbeta_04-distance-totale-parcourue-par-lartiste-12302177967-km-distance-calculee-par-concorde-111999073747-km-pourcentage-doptimisation-global-calcule895996298599-marge-doptimisation-importante', u'createdAt': u'2018-05-24T15:15:39.858Z'}, u'statusCode': 200}\n",
      "topogram ID : XfLpzdBMCodxaAdbr\n"
     ]
    },
    {
     "name": "stderr",
     "output_type": "stream",
     "text": [
      "ERROR:topogram-client:500 - Error : A topogram with the same name already exists\n"
     ]
    },
    {
     "name": "stdout",
     "output_type": "stream",
     "text": [
      "51 nodes created.\n",
      "84 edges created.\n",
      "done. Topogram has been updated. Check it at http://localhost:3000/topograms/XfLpzdBMCodxaAdbr\n",
      "Creating topogram 'Echoes/BETA_0.4  \n",
      "Distance totale parcourue par l'artiste: 96426.8199999 km  \n",
      "Distance calculee par Concorde: 97085.4124585 km  \n",
      "Pourcentage d'optimisation global calcule:-68.2997177109 %  \n",
      "TOURNEE DEJA OPTIMISEE'\n",
      "{u'status': u'success', 'status_code': 200, u'data': u'r5vfqQjyrjqGPXLkt', u'statusCode': 201}\n",
      "Creating topogram 'Echoes/BETA_0.4  \n",
      "Distance totale parcourue par l'artiste: 96426.8199999 km  \n",
      "Distance calculee par Concorde: 97085.4124585 km  \n",
      "Pourcentage d'optimisation global calcule:-68.2997177109 %  \n",
      "TOURNEE DEJA OPTIMISEE'\n",
      "> Topogram already exists\n",
      "{u'status': u'success', 'status_code': 200, u'data': {u'sharedPublic': False, u'title': u\"Echoes/BETA_0.4  \\nDistance totale parcourue par l'artiste: 96426.8199999 km  \\nDistance calculee par Concorde: 97085.4124585 km  \\nPourcentage d'optimisation global calcule:-68.2997177109 %  \\nTOURNEE DEJA OPTIMISEE\", u'userId': u'BxRn4kp4WFL92jW8g', u'_id': u'r5vfqQjyrjqGPXLkt', u'slug': u'echoesbeta_04-distance-totale-parcourue-par-lartiste-964268199999-km-distance-calculee-par-concorde-970854124585-km-pourcentage-doptimisation-global-calcule-682997177109-tournee-deja-optimisee', u'createdAt': u'2018-05-24T15:15:40.363Z'}, u'statusCode': 200}\n",
      "topogram ID : r5vfqQjyrjqGPXLkt\n"
     ]
    },
    {
     "name": "stderr",
     "output_type": "stream",
     "text": [
      "ERROR:topogram-client:500 - Error : A topogram with the same name already exists\n"
     ]
    },
    {
     "name": "stdout",
     "output_type": "stream",
     "text": [
      "42 nodes created.\n",
      "51 edges created.\n",
      "done. Topogram has been updated. Check it at http://localhost:3000/topograms/r5vfqQjyrjqGPXLkt\n",
      "Creating topogram 'Hayes Carll/BETA_0.4  \n",
      "Distance totale parcourue par l'artiste: 419737.919636 km  \n",
      "Distance calculee par Concorde: 351477.403472 km  \n",
      "Pourcentage d'optimisation global calcule:1626.26517573 %  \n",
      "MARGE D'OPTIMISATION IMPORTANTE'\n",
      "{u'status': u'success', 'status_code': 200, u'data': u'vK7jpAG66jm6WoDjR', u'statusCode': 201}\n",
      "Creating topogram 'Hayes Carll/BETA_0.4  \n",
      "Distance totale parcourue par l'artiste: 419737.919636 km  \n",
      "Distance calculee par Concorde: 351477.403472 km  \n",
      "Pourcentage d'optimisation global calcule:1626.26517573 %  \n",
      "MARGE D'OPTIMISATION IMPORTANTE'\n",
      "> Topogram already exists\n",
      "{u'status': u'success', 'status_code': 200, u'data': {u'sharedPublic': False, u'title': u\"Hayes Carll/BETA_0.4  \\nDistance totale parcourue par l'artiste: 419737.919636 km  \\nDistance calculee par Concorde: 351477.403472 km  \\nPourcentage d'optimisation global calcule:1626.26517573 %  \\nMARGE D'OPTIMISATION IMPORTANTE\", u'userId': u'BxRn4kp4WFL92jW8g', u'_id': u'vK7jpAG66jm6WoDjR', u'slug': u'hayes-carllbeta_04-distance-totale-parcourue-par-lartiste-419737919636-km-distance-calculee-par-concorde-351477403472-km-pourcentage-doptimisation-global-calcule162626517573-marge-doptimisation-importante', u'createdAt': u'2018-05-24T15:15:40.853Z'}, u'statusCode': 200}\n",
      "topogram ID : vK7jpAG66jm6WoDjR\n",
      "424 nodes created.\n"
     ]
    },
    {
     "name": "stderr",
     "output_type": "stream",
     "text": [
      "ERROR:topogram-client:500 - Error : A topogram with the same name already exists\n"
     ]
    },
    {
     "name": "stdout",
     "output_type": "stream",
     "text": [
      "595 edges created.\n",
      "done. Topogram has been updated. Check it at http://localhost:3000/topograms/vK7jpAG66jm6WoDjR\n",
      "Creating topogram 'Bouncing Souls/BETA_0.4  \n",
      "Distance totale parcourue par l'artiste: 287430.991348 km  \n",
      "Distance calculee par Concorde: 300777.726367 km  \n",
      "Pourcentage d'optimisation global calcule:-464.345718462 %  \n",
      "TOURNEE DEJA OPTIMISEE'\n",
      "{u'status': u'success', 'status_code': 200, u'data': u'RNb6NRpP6w8fWxYnP', u'statusCode': 201}\n",
      "Creating topogram 'Bouncing Souls/BETA_0.4  \n",
      "Distance totale parcourue par l'artiste: 287430.991348 km  \n",
      "Distance calculee par Concorde: 300777.726367 km  \n",
      "Pourcentage d'optimisation global calcule:-464.345718462 %  \n",
      "TOURNEE DEJA OPTIMISEE'\n",
      "> Topogram already exists\n",
      "{u'status': u'success', 'status_code': 200, u'data': {u'sharedPublic': False, u'title': u\"Bouncing Souls/BETA_0.4  \\nDistance totale parcourue par l'artiste: 287430.991348 km  \\nDistance calculee par Concorde: 300777.726367 km  \\nPourcentage d'optimisation global calcule:-464.345718462 %  \\nTOURNEE DEJA OPTIMISEE\", u'userId': u'BxRn4kp4WFL92jW8g', u'_id': u'RNb6NRpP6w8fWxYnP', u'slug': u'bouncing-soulsbeta_04-distance-totale-parcourue-par-lartiste-287430991348-km-distance-calculee-par-concorde-300777726367-km-pourcentage-doptimisation-global-calcule-464345718462-tournee-deja-optimisee', u'createdAt': u'2018-05-24T15:15:42.358Z'}, u'statusCode': 200}\n",
      "topogram ID : RNb6NRpP6w8fWxYnP\n",
      "303 nodes created.\n",
      "390 edges created.\n",
      "done. Topogram has been updated. Check it at http://localhost:3000/topograms/RNb6NRpP6w8fWxYnP\n",
      "Creating topogram 'Los Tigres del Norte/BETA_0.4  \n",
      "Distance totale parcourue par l'artiste: 159519.162246 km  \n",
      "Distance calculee par Concorde: 157965.745565 km  \n",
      "Pourcentage d'optimisation global calcule:97.3811960151 %  \n",
      "MARGE D'OPTIMISATION IMPORTANTE'\n"
     ]
    },
    {
     "name": "stderr",
     "output_type": "stream",
     "text": [
      "ERROR:topogram-client:500 - Error : A topogram with the same name already exists\n"
     ]
    },
    {
     "name": "stdout",
     "output_type": "stream",
     "text": [
      "{u'status': u'success', 'status_code': 200, u'data': u'6268WiAsdhPibNbFS', u'statusCode': 201}\n",
      "Creating topogram 'Los Tigres del Norte/BETA_0.4  \n",
      "Distance totale parcourue par l'artiste: 159519.162246 km  \n",
      "Distance calculee par Concorde: 157965.745565 km  \n",
      "Pourcentage d'optimisation global calcule:97.3811960151 %  \n",
      "MARGE D'OPTIMISATION IMPORTANTE'\n",
      "> Topogram already exists\n",
      "{u'status': u'success', 'status_code': 200, u'data': {u'sharedPublic': False, u'title': u\"Los Tigres del Norte/BETA_0.4  \\nDistance totale parcourue par l'artiste: 159519.162246 km  \\nDistance calculee par Concorde: 157965.745565 km  \\nPourcentage d'optimisation global calcule:97.3811960151 %  \\nMARGE D'OPTIMISATION IMPORTANTE\", u'userId': u'BxRn4kp4WFL92jW8g', u'_id': u'6268WiAsdhPibNbFS', u'slug': u'los-tigres-del-nortebeta_04-distance-totale-parcourue-par-lartiste-159519162246-km-distance-calculee-par-concorde-157965745565-km-pourcentage-doptimisation-global-calcule973811960151-marge-doptimisation-importante', u'createdAt': u'2018-05-24T15:15:43.581Z'}, u'statusCode': 200}\n",
      "topogram ID : 6268WiAsdhPibNbFS\n"
     ]
    },
    {
     "name": "stderr",
     "output_type": "stream",
     "text": [
      "ERROR:topogram-client:500 - Error : A topogram with the same name already exists\n"
     ]
    },
    {
     "name": "stdout",
     "output_type": "stream",
     "text": [
      "113 nodes created.\n",
      "145 edges created.\n",
      "done. Topogram has been updated. Check it at http://localhost:3000/topograms/6268WiAsdhPibNbFS\n",
      "Creating topogram 'Bobby Long/BETA_0.4  \n",
      "Distance totale parcourue par l'artiste: 188006.983645 km  \n",
      "Distance calculee par Concorde: 187371.429118 km  \n",
      "Pourcentage d'optimisation global calcule:33.8048361094 %  \n",
      "MARGE D'OPTIMISATION IMPORTANTE'\n",
      "{u'status': u'success', 'status_code': 200, u'data': u'KkWvFxSzca7kLwk4M', u'statusCode': 201}\n",
      "Creating topogram 'Bobby Long/BETA_0.4  \n",
      "Distance totale parcourue par l'artiste: 188006.983645 km  \n",
      "Distance calculee par Concorde: 187371.429118 km  \n",
      "Pourcentage d'optimisation global calcule:33.8048361094 %  \n",
      "MARGE D'OPTIMISATION IMPORTANTE'\n",
      "> Topogram already exists\n",
      "{u'status': u'success', 'status_code': 200, u'data': {u'sharedPublic': False, u'title': u\"Bobby Long/BETA_0.4  \\nDistance totale parcourue par l'artiste: 188006.983645 km  \\nDistance calculee par Concorde: 187371.429118 km  \\nPourcentage d'optimisation global calcule:33.8048361094 %  \\nMARGE D'OPTIMISATION IMPORTANTE\", u'userId': u'BxRn4kp4WFL92jW8g', u'_id': u'KkWvFxSzca7kLwk4M', u'slug': u'bobby-longbeta_04-distance-totale-parcourue-par-lartiste-188006983645-km-distance-calculee-par-concorde-187371429118-km-pourcentage-doptimisation-global-calcule338048361094-marge-doptimisation-importante', u'createdAt': u'2018-05-24T15:15:44.170Z'}, u'statusCode': 200}\n",
      "topogram ID : KkWvFxSzca7kLwk4M\n",
      "202 nodes created.\n",
      "279 edges created.\n",
      "done. Topogram has been updated. Check it at http://localhost:3000/topograms/KkWvFxSzca7kLwk4M\n",
      "Creating topogram 'Thomas Gold/BETA_0.4  \n",
      "Distance totale parcourue par l'artiste: 1082794.06916 km  \n",
      "Distance calculee par Concorde: 636463.762379 km  \n",
      "Pourcentage d'optimisation global calcule:4122.02393321 %  \n",
      "MARGE D'OPTIMISATION IMPORTANTE'\n",
      "{u'status': u'success', 'status_code': 200, u'data': u'BxQB6vJKxcK9XCnym', u'statusCode': 201}\n",
      "Creating topogram 'Thomas Gold/BETA_0.4  \n",
      "Distance totale parcourue par l'artiste: 1082794.06916 km  \n",
      "Distance calculee par Concorde: 636463.762379 km  \n",
      "Pourcentage d'optimisation global calcule:4122.02393321 %  \n",
      "MARGE D'OPTIMISATION IMPORTANTE'\n"
     ]
    },
    {
     "name": "stderr",
     "output_type": "stream",
     "text": [
      "ERROR:topogram-client:500 - Error : A topogram with the same name already exists\n"
     ]
    },
    {
     "name": "stdout",
     "output_type": "stream",
     "text": [
      "> Topogram already exists\n",
      "{u'status': u'success', 'status_code': 200, u'data': {u'sharedPublic': False, u'title': u\"Thomas Gold/BETA_0.4  \\nDistance totale parcourue par l'artiste: 1082794.06916 km  \\nDistance calculee par Concorde: 636463.762379 km  \\nPourcentage d'optimisation global calcule:4122.02393321 %  \\nMARGE D'OPTIMISATION IMPORTANTE\", u'userId': u'BxRn4kp4WFL92jW8g', u'_id': u'BxQB6vJKxcK9XCnym', u'slug': u'thomas-goldbeta_04-distance-totale-parcourue-par-lartiste-108279406916-km-distance-calculee-par-concorde-636463762379-km-pourcentage-doptimisation-global-calcule412202393321-marge-doptimisation-importante', u'createdAt': u'2018-05-24T15:15:45.074Z'}, u'statusCode': 200}\n",
      "topogram ID : BxQB6vJKxcK9XCnym\n",
      "269 nodes created.\n"
     ]
    },
    {
     "name": "stderr",
     "output_type": "stream",
     "text": [
      "ERROR:topogram-client:500 - Error : A topogram with the same name already exists\n"
     ]
    },
    {
     "name": "stdout",
     "output_type": "stream",
     "text": [
      "355 edges created.\n",
      "done. Topogram has been updated. Check it at http://localhost:3000/topograms/BxQB6vJKxcK9XCnym\n",
      "Creating topogram 'Vetiver/BETA_0.4  \n",
      "Distance totale parcourue par l'artiste: 273054.528364 km  \n",
      "Distance calculee par Concorde: 228791.256062 km  \n",
      "Pourcentage d'optimisation global calcule:1621.04150283 %  \n",
      "MARGE D'OPTIMISATION IMPORTANTE'\n",
      "{u'status': u'success', 'status_code': 200, u'data': u'kFLu4chzR6HPJgeSs', u'statusCode': 201}\n",
      "Creating topogram 'Vetiver/BETA_0.4  \n",
      "Distance totale parcourue par l'artiste: 273054.528364 km  \n",
      "Distance calculee par Concorde: 228791.256062 km  \n",
      "Pourcentage d'optimisation global calcule:1621.04150283 %  \n",
      "MARGE D'OPTIMISATION IMPORTANTE'\n",
      "> Topogram already exists\n",
      "{u'status': u'success', 'status_code': 200, u'data': {u'sharedPublic': False, u'title': u\"Vetiver/BETA_0.4  \\nDistance totale parcourue par l'artiste: 273054.528364 km  \\nDistance calculee par Concorde: 228791.256062 km  \\nPourcentage d'optimisation global calcule:1621.04150283 %  \\nMARGE D'OPTIMISATION IMPORTANTE\", u'userId': u'BxRn4kp4WFL92jW8g', u'_id': u'kFLu4chzR6HPJgeSs', u'slug': u'vetiverbeta_04-distance-totale-parcourue-par-lartiste-273054528364-km-distance-calculee-par-concorde-228791256062-km-pourcentage-doptimisation-global-calcule162104150283-marge-doptimisation-importante', u'createdAt': u'2018-05-24T15:15:46.128Z'}, u'statusCode': 200}\n",
      "topogram ID : kFLu4chzR6HPJgeSs\n",
      "278 nodes created.\n",
      "330 edges created.\n",
      "done. Topogram has been updated. Check it at http://localhost:3000/topograms/kFLu4chzR6HPJgeSs\n",
      "Creating topogram 'VINTAGE TROUBLE/BETA_0.4  \n",
      "Distance totale parcourue par l'artiste: 331761.989523 km  \n",
      "Distance calculee par Concorde: 263051.496357 km  \n",
      "Pourcentage d'optimisation global calcule:2071.0779214 %  \n",
      "MARGE D'OPTIMISATION IMPORTANTE'\n",
      "{u'status': u'success', 'status_code': 200, u'data': u'4CjGfK7Kn3pJ4kASL', u'statusCode': 201}\n",
      "Creating topogram 'VINTAGE TROUBLE/BETA_0.4  \n",
      "Distance totale parcourue par l'artiste: 331761.989523 km  \n",
      "Distance calculee par Concorde: 263051.496357 km  \n",
      "Pourcentage d'optimisation global calcule:2071.0779214 %  \n",
      "MARGE D'OPTIMISATION IMPORTANTE'\n"
     ]
    },
    {
     "name": "stderr",
     "output_type": "stream",
     "text": [
      "ERROR:topogram-client:500 - Error : A topogram with the same name already exists\n"
     ]
    },
    {
     "name": "stdout",
     "output_type": "stream",
     "text": [
      "> Topogram already exists\n",
      "{u'status': u'success', 'status_code': 200, u'data': {u'sharedPublic': False, u'title': u\"VINTAGE TROUBLE/BETA_0.4  \\nDistance totale parcourue par l'artiste: 331761.989523 km  \\nDistance calculee par Concorde: 263051.496357 km  \\nPourcentage d'optimisation global calcule:2071.0779214 %  \\nMARGE D'OPTIMISATION IMPORTANTE\", u'userId': u'BxRn4kp4WFL92jW8g', u'_id': u'4CjGfK7Kn3pJ4kASL', u'slug': u'vintage-troublebeta_04-distance-totale-parcourue-par-lartiste-331761989523-km-distance-calculee-par-concorde-263051496357-km-pourcentage-doptimisation-global-calcule20710779214-marge-doptimisation-importante', u'createdAt': u'2018-05-24T15:15:47.115Z'}, u'statusCode': 200}\n",
      "topogram ID : 4CjGfK7Kn3pJ4kASL\n",
      "320 nodes created.\n",
      "358 edges created.\n",
      "done. Topogram has been updated. Check it at http://localhost:3000/topograms/4CjGfK7Kn3pJ4kASL\n",
      "Creating topogram 'The 69 Eyes/BETA_0.4  \n",
      "Distance totale parcourue par l'artiste: 149778.692976 km  \n",
      "Distance calculee par Concorde: 151568.989079 km  \n",
      "Pourcentage d'optimisation global calcule:-119.529424884 %  \n",
      "TOURNEE DEJA OPTIMISEE'\n"
     ]
    },
    {
     "name": "stderr",
     "output_type": "stream",
     "text": [
      "ERROR:topogram-client:500 - Error : A topogram with the same name already exists\n"
     ]
    },
    {
     "name": "stdout",
     "output_type": "stream",
     "text": [
      "{u'status': u'success', 'status_code': 200, u'data': u'Dm48xAu9SNu65Zx8C', u'statusCode': 201}\n",
      "Creating topogram 'The 69 Eyes/BETA_0.4  \n",
      "Distance totale parcourue par l'artiste: 149778.692976 km  \n",
      "Distance calculee par Concorde: 151568.989079 km  \n",
      "Pourcentage d'optimisation global calcule:-119.529424884 %  \n",
      "TOURNEE DEJA OPTIMISEE'\n",
      "> Topogram already exists\n",
      "{u'status': u'success', 'status_code': 200, u'data': {u'sharedPublic': False, u'title': u\"The 69 Eyes/BETA_0.4  \\nDistance totale parcourue par l'artiste: 149778.692976 km  \\nDistance calculee par Concorde: 151568.989079 km  \\nPourcentage d'optimisation global calcule:-119.529424884 %  \\nTOURNEE DEJA OPTIMISEE\", u'userId': u'BxRn4kp4WFL92jW8g', u'_id': u'Dm48xAu9SNu65Zx8C', u'slug': u'the-69-eyesbeta_04-distance-totale-parcourue-par-lartiste-149778692976-km-distance-calculee-par-concorde-151568989079-km-pourcentage-doptimisation-global-calcule-119529424884-tournee-deja-optimisee', u'createdAt': u'2018-05-24T15:15:48.278Z'}, u'statusCode': 200}\n",
      "topogram ID : Dm48xAu9SNu65Zx8C\n",
      "203 nodes created.\n",
      "258 edges created.\n",
      "done. Topogram has been updated. Check it at http://localhost:3000/topograms/Dm48xAu9SNu65Zx8C\n",
      "Creating topogram 'Candyland/BETA_0.4  \n",
      "Distance totale parcourue par l'artiste: 343990.062574 km  \n",
      "Distance calculee par Concorde: 179578.036115 km  \n",
      "Pourcentage d'optimisation global calcule:4779.55744501 %  \n",
      "MARGE D'OPTIMISATION IMPORTANTE'\n"
     ]
    },
    {
     "name": "stderr",
     "output_type": "stream",
     "text": [
      "ERROR:topogram-client:500 - Error : A topogram with the same name already exists\n"
     ]
    },
    {
     "name": "stdout",
     "output_type": "stream",
     "text": [
      "{u'status': u'success', 'status_code': 200, u'data': u'uWtwd25oWJigi8yp3', u'statusCode': 201}\n",
      "Creating topogram 'Candyland/BETA_0.4  \n",
      "Distance totale parcourue par l'artiste: 343990.062574 km  \n",
      "Distance calculee par Concorde: 179578.036115 km  \n",
      "Pourcentage d'optimisation global calcule:4779.55744501 %  \n",
      "MARGE D'OPTIMISATION IMPORTANTE'\n",
      "> Topogram already exists\n",
      "{u'status': u'success', 'status_code': 200, u'data': {u'sharedPublic': False, u'title': u\"Candyland/BETA_0.4  \\nDistance totale parcourue par l'artiste: 343990.062574 km  \\nDistance calculee par Concorde: 179578.036115 km  \\nPourcentage d'optimisation global calcule:4779.55744501 %  \\nMARGE D'OPTIMISATION IMPORTANTE\", u'userId': u'BxRn4kp4WFL92jW8g', u'_id': u'uWtwd25oWJigi8yp3', u'slug': u'candylandbeta_04-distance-totale-parcourue-par-lartiste-343990062574-km-distance-calculee-par-concorde-179578036115-km-pourcentage-doptimisation-global-calcule477955744501-marge-doptimisation-importante', u'createdAt': u'2018-05-24T15:15:49.392Z'}, u'statusCode': 200}\n",
      "topogram ID : uWtwd25oWJigi8yp3\n",
      "191 nodes created.\n",
      "225 edges created.\n",
      "done. Topogram has been updated. Check it at http://localhost:3000/topograms/uWtwd25oWJigi8yp3\n",
      "Creating topogram 'Jerome Isma-Ae/BETA_0.4  \n",
      "Distance totale parcourue par l'artiste: 678529.181847 km  \n",
      "Distance calculee par Concorde: 491967.473368 km  \n",
      "Pourcentage d'optimisation global calcule:2749.50162012 %  \n",
      "MARGE D'OPTIMISATION IMPORTANTE'\n",
      "{u'status': u'success', 'status_code': 200, u'data': u'2kaDPnPDHDLCAaWgE', u'statusCode': 201}\n",
      "Creating topogram 'Jerome Isma-Ae/BETA_0.4  \n",
      "Distance totale parcourue par l'artiste: 678529.181847 km  \n",
      "Distance calculee par Concorde: 491967.473368 km  \n",
      "Pourcentage d'optimisation global calcule:2749.50162012 %  \n",
      "MARGE D'OPTIMISATION IMPORTANTE'\n"
     ]
    },
    {
     "name": "stderr",
     "output_type": "stream",
     "text": [
      "ERROR:topogram-client:500 - Error : A topogram with the same name already exists\n"
     ]
    },
    {
     "name": "stdout",
     "output_type": "stream",
     "text": [
      "> Topogram already exists\n",
      "{u'status': u'success', 'status_code': 200, u'data': {u'sharedPublic': False, u'title': u\"Jerome Isma-Ae/BETA_0.4  \\nDistance totale parcourue par l'artiste: 678529.181847 km  \\nDistance calculee par Concorde: 491967.473368 km  \\nPourcentage d'optimisation global calcule:2749.50162012 %  \\nMARGE D'OPTIMISATION IMPORTANTE\", u'userId': u'BxRn4kp4WFL92jW8g', u'_id': u'2kaDPnPDHDLCAaWgE', u'slug': u'jerome-isma-aebeta_04-distance-totale-parcourue-par-lartiste-678529181847-km-distance-calculee-par-concorde-491967473368-km-pourcentage-doptimisation-global-calcule274950162012-marge-doptimisation-importante', u'createdAt': u'2018-05-24T15:15:50.335Z'}, u'statusCode': 200}\n",
      "topogram ID : 2kaDPnPDHDLCAaWgE\n",
      "128 nodes created.\n",
      "140 edges created.\n",
      "done. Topogram has been updated. Check it at http://localhost:3000/topograms/2kaDPnPDHDLCAaWgE\n",
      "Creating topogram 'Steve Poltz/BETA_0.4  \n",
      "Distance totale parcourue par l'artiste: 263235.13429 km  \n",
      "Distance calculee par Concorde: 233930.236746 km  \n",
      "Pourcentage d'optimisation global calcule:1113.25935356 %  \n",
      "MARGE D'OPTIMISATION IMPORTANTE'\n",
      "{u'status': u'success', 'status_code': 200, u'data': u'aDc6dvwquRavGwxwZ', u'statusCode': 201}\n",
      "Creating topogram 'Steve Poltz/BETA_0.4  \n",
      "Distance totale parcourue par l'artiste: 263235.13429 km  \n",
      "Distance calculee par Concorde: 233930.236746 km  \n",
      "Pourcentage d'optimisation global calcule:1113.25935356 %  \n",
      "MARGE D'OPTIMISATION IMPORTANTE'\n"
     ]
    },
    {
     "name": "stderr",
     "output_type": "stream",
     "text": [
      "ERROR:topogram-client:500 - Error : A topogram with the same name already exists\n"
     ]
    },
    {
     "name": "stdout",
     "output_type": "stream",
     "text": [
      "> Topogram already exists\n",
      "{u'status': u'success', 'status_code': 200, u'data': {u'sharedPublic': False, u'title': u\"Steve Poltz/BETA_0.4  \\nDistance totale parcourue par l'artiste: 263235.13429 km  \\nDistance calculee par Concorde: 233930.236746 km  \\nPourcentage d'optimisation global calcule:1113.25935356 %  \\nMARGE D'OPTIMISATION IMPORTANTE\", u'userId': u'BxRn4kp4WFL92jW8g', u'_id': u'aDc6dvwquRavGwxwZ', u'slug': u'steve-poltzbeta_04-distance-totale-parcourue-par-lartiste-26323513429-km-distance-calculee-par-concorde-233930236746-km-pourcentage-doptimisation-global-calcule111325935356-marge-doptimisation-importante', u'createdAt': u'2018-05-24T15:15:51.227Z'}, u'statusCode': 200}\n",
      "topogram ID : aDc6dvwquRavGwxwZ\n",
      "195 nodes created.\n",
      "278 edges created.\n",
      "done. Topogram has been updated. Check it at http://localhost:3000/topograms/aDc6dvwquRavGwxwZ\n",
      "Creating topogram 'Hito/BETA_0.4  \n",
      "Distance totale parcourue par l'artiste: 88575.1397185 km  \n",
      "Distance calculee par Concorde: 57249.6937834 km  \n",
      "Pourcentage d'optimisation global calcule:3536.59571236 %  \n",
      "MARGE D'OPTIMISATION IMPORTANTE'\n"
     ]
    },
    {
     "name": "stderr",
     "output_type": "stream",
     "text": [
      "ERROR:topogram-client:500 - Error : A topogram with the same name already exists\n"
     ]
    },
    {
     "name": "stdout",
     "output_type": "stream",
     "text": [
      "{u'status': u'success', 'status_code': 200, u'data': u'uw68BA6sjaqWnhBSP', u'statusCode': 201}\n",
      "Creating topogram 'Hito/BETA_0.4  \n",
      "Distance totale parcourue par l'artiste: 88575.1397185 km  \n",
      "Distance calculee par Concorde: 57249.6937834 km  \n",
      "Pourcentage d'optimisation global calcule:3536.59571236 %  \n",
      "MARGE D'OPTIMISATION IMPORTANTE'\n",
      "> Topogram already exists\n",
      "{u'status': u'success', 'status_code': 200, u'data': {u'sharedPublic': False, u'title': u\"Hito/BETA_0.4  \\nDistance totale parcourue par l'artiste: 88575.1397185 km  \\nDistance calculee par Concorde: 57249.6937834 km  \\nPourcentage d'optimisation global calcule:3536.59571236 %  \\nMARGE D'OPTIMISATION IMPORTANTE\", u'userId': u'BxRn4kp4WFL92jW8g', u'_id': u'uw68BA6sjaqWnhBSP', u'slug': u'hitobeta_04-distance-totale-parcourue-par-lartiste-885751397185-km-distance-calculee-par-concorde-572496937834-km-pourcentage-doptimisation-global-calcule353659571236-marge-doptimisation-importante', u'createdAt': u'2018-05-24T15:15:52.341Z'}, u'statusCode': 200}\n",
      "topogram ID : uw68BA6sjaqWnhBSP\n",
      "39 nodes created.\n",
      "59 edges created.\n",
      "done. Topogram has been updated. Check it at http://localhost:3000/topograms/uw68BA6sjaqWnhBSP\n",
      "Creating topogram 'Norah Jones/BETA_0.4  \n",
      "Distance totale parcourue par l'artiste: 165543.870221 km  \n",
      "Distance calculee par Concorde: 180334.007338 km  \n",
      "Pourcentage d'optimisation global calcule:-893.427047242 %  \n",
      "TOURNEE DEJA OPTIMISEE'\n",
      "{u'status': u'success', 'status_code': 200, u'data': u'BMXw83JsWQ83Pc9FT', u'statusCode': 201}\n",
      "Creating topogram 'Norah Jones/BETA_0.4  \n",
      "Distance totale parcourue par l'artiste: 165543.870221 km  \n",
      "Distance calculee par Concorde: 180334.007338 km  \n",
      "Pourcentage d'optimisation global calcule:-893.427047242 %  \n",
      "TOURNEE DEJA OPTIMISEE'\n"
     ]
    },
    {
     "name": "stderr",
     "output_type": "stream",
     "text": [
      "ERROR:topogram-client:500 - Error : A topogram with the same name already exists\n"
     ]
    },
    {
     "name": "stdout",
     "output_type": "stream",
     "text": [
      "> Topogram already exists\n",
      "{u'status': u'success', 'status_code': 200, u'data': {u'sharedPublic': False, u'title': u\"Norah Jones/BETA_0.4  \\nDistance totale parcourue par l'artiste: 165543.870221 km  \\nDistance calculee par Concorde: 180334.007338 km  \\nPourcentage d'optimisation global calcule:-893.427047242 %  \\nTOURNEE DEJA OPTIMISEE\", u'userId': u'BxRn4kp4WFL92jW8g', u'_id': u'BMXw83JsWQ83Pc9FT', u'slug': u'norah-jonesbeta_04-distance-totale-parcourue-par-lartiste-165543870221-km-distance-calculee-par-concorde-180334007338-km-pourcentage-doptimisation-global-calcule-893427047242-tournee-deja-optimisee', u'createdAt': u'2018-05-24T15:15:52.869Z'}, u'statusCode': 200}\n",
      "topogram ID : BMXw83JsWQ83Pc9FT\n",
      "187 nodes created.\n",
      "230 edges created.\n",
      "done. Topogram has been updated. Check it at http://localhost:3000/topograms/BMXw83JsWQ83Pc9FT\n",
      "Creating topogram 'Paramore/BETA_0.4  \n",
      "Distance totale parcourue par l'artiste: 631207.831815 km  \n",
      "Distance calculee par Concorde: 566423.11597 km  \n",
      "Pourcentage d'optimisation global calcule:1026.36109028 %  \n",
      "MARGE D'OPTIMISATION IMPORTANTE'\n"
     ]
    },
    {
     "name": "stderr",
     "output_type": "stream",
     "text": [
      "ERROR:topogram-client:500 - Error : A topogram with the same name already exists\n"
     ]
    },
    {
     "name": "stdout",
     "output_type": "stream",
     "text": [
      "{u'status': u'success', 'status_code': 200, u'data': u'tAfHWM2hcpnZgRdSa', u'statusCode': 201}\n",
      "Creating topogram 'Paramore/BETA_0.4  \n",
      "Distance totale parcourue par l'artiste: 631207.831815 km  \n",
      "Distance calculee par Concorde: 566423.11597 km  \n",
      "Pourcentage d'optimisation global calcule:1026.36109028 %  \n",
      "MARGE D'OPTIMISATION IMPORTANTE'\n",
      "> Topogram already exists\n",
      "{u'status': u'success', 'status_code': 200, u'data': {u'sharedPublic': False, u'title': u\"Paramore/BETA_0.4  \\nDistance totale parcourue par l'artiste: 631207.831815 km  \\nDistance calculee par Concorde: 566423.11597 km  \\nPourcentage d'optimisation global calcule:1026.36109028 %  \\nMARGE D'OPTIMISATION IMPORTANTE\", u'userId': u'BxRn4kp4WFL92jW8g', u'_id': u'tAfHWM2hcpnZgRdSa', u'slug': u'paramorebeta_04-distance-totale-parcourue-par-lartiste-631207831815-km-distance-calculee-par-concorde-56642311597-km-pourcentage-doptimisation-global-calcule102636109028-marge-doptimisation-importante', u'createdAt': u'2018-05-24T15:15:53.971Z'}, u'statusCode': 200}\n",
      "topogram ID : tAfHWM2hcpnZgRdSa\n",
      "502 nodes created.\n"
     ]
    },
    {
     "name": "stderr",
     "output_type": "stream",
     "text": [
      "ERROR:topogram-client:500 - Error : A topogram with the same name already exists\n"
     ]
    },
    {
     "name": "stdout",
     "output_type": "stream",
     "text": [
      "595 edges created.\n",
      "done. Topogram has been updated. Check it at http://localhost:3000/topograms/tAfHWM2hcpnZgRdSa\n",
      "Creating topogram 'Storm/BETA_0.4  \n",
      "Distance totale parcourue par l'artiste: 120107.385585 km  \n",
      "Distance calculee par Concorde: 117091.532156 km  \n",
      "Pourcentage d'optimisation global calcule:251.096417996 %  \n",
      "MARGE D'OPTIMISATION IMPORTANTE'\n",
      "{u'status': u'success', 'status_code': 200, u'data': u'myGKnNTp7PSfsFWjt', u'statusCode': 201}\n",
      "Creating topogram 'Storm/BETA_0.4  \n",
      "Distance totale parcourue par l'artiste: 120107.385585 km  \n",
      "Distance calculee par Concorde: 117091.532156 km  \n",
      "Pourcentage d'optimisation global calcule:251.096417996 %  \n",
      "MARGE D'OPTIMISATION IMPORTANTE'\n",
      "> Topogram already exists\n",
      "{u'status': u'success', 'status_code': 200, u'data': {u'sharedPublic': False, u'title': u\"Storm/BETA_0.4  \\nDistance totale parcourue par l'artiste: 120107.385585 km  \\nDistance calculee par Concorde: 117091.532156 km  \\nPourcentage d'optimisation global calcule:251.096417996 %  \\nMARGE D'OPTIMISATION IMPORTANTE\", u'userId': u'BxRn4kp4WFL92jW8g', u'_id': u'myGKnNTp7PSfsFWjt', u'slug': u'stormbeta_04-distance-totale-parcourue-par-lartiste-120107385585-km-distance-calculee-par-concorde-117091532156-km-pourcentage-doptimisation-global-calcule251096417996-marge-doptimisation-importante', u'createdAt': u'2018-05-24T15:15:55.713Z'}, u'statusCode': 200}\n",
      "topogram ID : myGKnNTp7PSfsFWjt\n"
     ]
    },
    {
     "name": "stderr",
     "output_type": "stream",
     "text": [
      "ERROR:topogram-client:500 - Error : A topogram with the same name already exists\n"
     ]
    },
    {
     "name": "stdout",
     "output_type": "stream",
     "text": [
      "37 nodes created.\n",
      "44 edges created.\n",
      "done. Topogram has been updated. Check it at http://localhost:3000/topograms/myGKnNTp7PSfsFWjt\n",
      "Creating topogram 'Rockapella/BETA_0.4  \n",
      "Distance totale parcourue par l'artiste: 227154.7184 km  \n",
      "Distance calculee par Concorde: 202326.596235 km  \n",
      "Pourcentage d'optimisation global calcule:1093.00490607 %  \n",
      "MARGE D'OPTIMISATION IMPORTANTE'\n",
      "{u'status': u'success', 'status_code': 200, u'data': u'YdJHQMf62uJp8xW3h', u'statusCode': 201}\n",
      "Creating topogram 'Rockapella/BETA_0.4  \n",
      "Distance totale parcourue par l'artiste: 227154.7184 km  \n",
      "Distance calculee par Concorde: 202326.596235 km  \n",
      "Pourcentage d'optimisation global calcule:1093.00490607 %  \n",
      "MARGE D'OPTIMISATION IMPORTANTE'\n",
      "> Topogram already exists\n",
      "{u'status': u'success', 'status_code': 200, u'data': {u'sharedPublic': False, u'title': u\"Rockapella/BETA_0.4  \\nDistance totale parcourue par l'artiste: 227154.7184 km  \\nDistance calculee par Concorde: 202326.596235 km  \\nPourcentage d'optimisation global calcule:1093.00490607 %  \\nMARGE D'OPTIMISATION IMPORTANTE\", u'userId': u'BxRn4kp4WFL92jW8g', u'_id': u'YdJHQMf62uJp8xW3h', u'slug': u'rockapellabeta_04-distance-totale-parcourue-par-lartiste-2271547184-km-distance-calculee-par-concorde-202326596235-km-pourcentage-doptimisation-global-calcule109300490607-marge-doptimisation-importante', u'createdAt': u'2018-05-24T15:15:56.188Z'}, u'statusCode': 200}\n",
      "topogram ID : YdJHQMf62uJp8xW3h\n",
      "172 nodes created.\n",
      "284 edges created.\n",
      "done. Topogram has been updated. Check it at http://localhost:3000/topograms/YdJHQMf62uJp8xW3h\n",
      "Creating topogram 'The Show/BETA_0.4  \n",
      "Distance totale parcourue par l'artiste: 635973.51442 km  \n",
      "Distance calculee par Concorde: 79808.8884387 km  \n",
      "Pourcentage d'optimisation global calcule:8745.09100412 %  \n",
      "MARGE D'OPTIMISATION IMPORTANTE'\n",
      "{u'status': u'success', 'status_code': 200, u'data': u'GAjeDfvaKzzyeP8a5', u'statusCode': 201}\n",
      "Creating topogram 'The Show/BETA_0.4  \n",
      "Distance totale parcourue par l'artiste: 635973.51442 km  \n",
      "Distance calculee par Concorde: 79808.8884387 km  \n",
      "Pourcentage d'optimisation global calcule:8745.09100412 %  \n",
      "MARGE D'OPTIMISATION IMPORTANTE'\n"
     ]
    },
    {
     "name": "stderr",
     "output_type": "stream",
     "text": [
      "ERROR:topogram-client:500 - Error : A topogram with the same name already exists\n"
     ]
    },
    {
     "name": "stdout",
     "output_type": "stream",
     "text": [
      "> Topogram already exists\n",
      "{u'status': u'success', 'status_code': 200, u'data': {u'sharedPublic': False, u'title': u\"The Show/BETA_0.4  \\nDistance totale parcourue par l'artiste: 635973.51442 km  \\nDistance calculee par Concorde: 79808.8884387 km  \\nPourcentage d'optimisation global calcule:8745.09100412 %  \\nMARGE D'OPTIMISATION IMPORTANTE\", u'userId': u'BxRn4kp4WFL92jW8g', u'_id': u'GAjeDfvaKzzyeP8a5', u'slug': u'the-showbeta_04-distance-totale-parcourue-par-lartiste-63597351442-km-distance-calculee-par-concorde-798088884387-km-pourcentage-doptimisation-global-calcule874509100412-marge-doptimisation-importante', u'createdAt': u'2018-05-24T15:15:57.161Z'}, u'statusCode': 200}\n",
      "topogram ID : GAjeDfvaKzzyeP8a5\n",
      "35 nodes created.\n",
      "235 edges created.\n",
      "done. Topogram has been updated. Check it at http://localhost:3000/topograms/GAjeDfvaKzzyeP8a5\n",
      "Creating topogram 'Kristin Kontrol/BETA_0.4  \n",
      "Distance totale parcourue par l'artiste: 282917.963542 km  \n",
      "Distance calculee par Concorde: 262119.439364 km  \n",
      "Pourcentage d'optimisation global calcule:735.143287383 %  \n",
      "MARGE D'OPTIMISATION IMPORTANTE'\n",
      "{u'status': u'success', 'status_code': 200, u'data': u'DvpcH3SF67jWkZ5NG', u'statusCode': 201}\n",
      "Creating topogram 'Kristin Kontrol/BETA_0.4  \n",
      "Distance totale parcourue par l'artiste: 282917.963542 km  \n",
      "Distance calculee par Concorde: 262119.439364 km  \n",
      "Pourcentage d'optimisation global calcule:735.143287383 %  \n",
      "MARGE D'OPTIMISATION IMPORTANTE'\n"
     ]
    },
    {
     "name": "stderr",
     "output_type": "stream",
     "text": [
      "ERROR:topogram-client:500 - Error : A topogram with the same name already exists\n"
     ]
    },
    {
     "name": "stdout",
     "output_type": "stream",
     "text": [
      "> Topogram already exists\n",
      "{u'status': u'success', 'status_code': 200, u'data': {u'sharedPublic': False, u'title': u\"Kristin Kontrol/BETA_0.4  \\nDistance totale parcourue par l'artiste: 282917.963542 km  \\nDistance calculee par Concorde: 262119.439364 km  \\nPourcentage d'optimisation global calcule:735.143287383 %  \\nMARGE D'OPTIMISATION IMPORTANTE\", u'userId': u'BxRn4kp4WFL92jW8g', u'_id': u'DvpcH3SF67jWkZ5NG', u'slug': u'kristin-kontrolbeta_04-distance-totale-parcourue-par-lartiste-282917963542-km-distance-calculee-par-concorde-262119439364-km-pourcentage-doptimisation-global-calcule735143287383-marge-doptimisation-importante', u'createdAt': u'2018-05-24T15:15:57.715Z'}, u'statusCode': 200}\n",
      "topogram ID : DvpcH3SF67jWkZ5NG\n",
      "297 nodes created.\n",
      "369 edges created.\n",
      "done. Topogram has been updated. Check it at http://localhost:3000/topograms/DvpcH3SF67jWkZ5NG\n"
     ]
    },
    {
     "name": "stderr",
     "output_type": "stream",
     "text": [
      "ERROR:topogram-client:500 - Error : A topogram with the same name already exists\n"
     ]
    },
    {
     "name": "stdout",
     "output_type": "stream",
     "text": [
      "Creating topogram 'They Might Be Giants/BETA_0.4  \n",
      "Distance totale parcourue par l'artiste: 250428.016887 km  \n",
      "Distance calculee par Concorde: 232647.695753 km  \n",
      "Pourcentage d'optimisation global calcule:709.997282037 %  \n",
      "MARGE D'OPTIMISATION IMPORTANTE'\n",
      "{u'status': u'success', 'status_code': 200, u'data': u'H3QwzKGwckzrMpccx', u'statusCode': 201}\n",
      "Creating topogram 'They Might Be Giants/BETA_0.4  \n",
      "Distance totale parcourue par l'artiste: 250428.016887 km  \n",
      "Distance calculee par Concorde: 232647.695753 km  \n",
      "Pourcentage d'optimisation global calcule:709.997282037 %  \n",
      "MARGE D'OPTIMISATION IMPORTANTE'\n",
      "> Topogram already exists\n",
      "{u'status': u'success', 'status_code': 200, u'data': {u'sharedPublic': False, u'title': u\"They Might Be Giants/BETA_0.4  \\nDistance totale parcourue par l'artiste: 250428.016887 km  \\nDistance calculee par Concorde: 232647.695753 km  \\nPourcentage d'optimisation global calcule:709.997282037 %  \\nMARGE D'OPTIMISATION IMPORTANTE\", u'userId': u'BxRn4kp4WFL92jW8g', u'_id': u'H3QwzKGwckzrMpccx', u'slug': u'they-might-be-giantsbeta_04-distance-totale-parcourue-par-lartiste-250428016887-km-distance-calculee-par-concorde-232647695753-km-pourcentage-doptimisation-global-calcule709997282037-marge-doptimisation-importante', u'createdAt': u'2018-05-24T15:15:59.202Z'}, u'statusCode': 200}\n",
      "topogram ID : H3QwzKGwckzrMpccx\n",
      "219 nodes created.\n",
      "335 edges created.\n",
      "done. Topogram has been updated. Check it at http://localhost:3000/topograms/H3QwzKGwckzrMpccx\n",
      "Creating topogram 'Andres/BETA_0.4  \n",
      "Distance totale parcourue par l'artiste: 261884.066918 km  \n",
      "Distance calculee par Concorde: 176563.371052 km  \n",
      "Pourcentage d'optimisation global calcule:3257.95673139 %  \n",
      "MARGE D'OPTIMISATION IMPORTANTE'\n"
     ]
    },
    {
     "name": "stderr",
     "output_type": "stream",
     "text": [
      "ERROR:topogram-client:500 - Error : A topogram with the same name already exists\n"
     ]
    },
    {
     "name": "stdout",
     "output_type": "stream",
     "text": [
      "{u'status': u'success', 'status_code': 200, u'data': u'DiQ6cL8CiNWcgvhQ6', u'statusCode': 201}\n",
      "Creating topogram 'Andres/BETA_0.4  \n",
      "Distance totale parcourue par l'artiste: 261884.066918 km  \n",
      "Distance calculee par Concorde: 176563.371052 km  \n",
      "Pourcentage d'optimisation global calcule:3257.95673139 %  \n",
      "MARGE D'OPTIMISATION IMPORTANTE'\n",
      "> Topogram already exists\n",
      "{u'status': u'success', 'status_code': 200, u'data': {u'sharedPublic': False, u'title': u\"Andres/BETA_0.4  \\nDistance totale parcourue par l'artiste: 261884.066918 km  \\nDistance calculee par Concorde: 176563.371052 km  \\nPourcentage d'optimisation global calcule:3257.95673139 %  \\nMARGE D'OPTIMISATION IMPORTANTE\", u'userId': u'BxRn4kp4WFL92jW8g', u'_id': u'DiQ6cL8CiNWcgvhQ6', u'slug': u'andresbeta_04-distance-totale-parcourue-par-lartiste-261884066918-km-distance-calculee-par-concorde-176563371052-km-pourcentage-doptimisation-global-calcule325795673139-marge-doptimisation-importante', u'createdAt': u'2018-05-24T15:16:00.244Z'}, u'statusCode': 200}\n",
      "topogram ID : DiQ6cL8CiNWcgvhQ6\n"
     ]
    },
    {
     "name": "stderr",
     "output_type": "stream",
     "text": [
      "ERROR:topogram-client:500 - Error : A topogram with the same name already exists\n"
     ]
    },
    {
     "name": "stdout",
     "output_type": "stream",
     "text": [
      "53 nodes created.\n",
      "62 edges created.\n",
      "done. Topogram has been updated. Check it at http://localhost:3000/topograms/DiQ6cL8CiNWcgvhQ6\n",
      "Creating topogram 'Brett Newski/BETA_0.4  \n",
      "Distance totale parcourue par l'artiste: 168239.002367 km  \n",
      "Distance calculee par Concorde: 131485.787073 km  \n",
      "Pourcentage d'optimisation global calcule:2184.58352564 %  \n",
      "MARGE D'OPTIMISATION IMPORTANTE'\n",
      "{u'status': u'success', 'status_code': 200, u'data': u'v4MP5vKP9AjK9xjbG', u'statusCode': 201}\n",
      "Creating topogram 'Brett Newski/BETA_0.4  \n",
      "Distance totale parcourue par l'artiste: 168239.002367 km  \n",
      "Distance calculee par Concorde: 131485.787073 km  \n",
      "Pourcentage d'optimisation global calcule:2184.58352564 %  \n",
      "MARGE D'OPTIMISATION IMPORTANTE'\n",
      "> Topogram already exists\n",
      "{u'status': u'success', 'status_code': 200, u'data': {u'sharedPublic': False, u'title': u\"Brett Newski/BETA_0.4  \\nDistance totale parcourue par l'artiste: 168239.002367 km  \\nDistance calculee par Concorde: 131485.787073 km  \\nPourcentage d'optimisation global calcule:2184.58352564 %  \\nMARGE D'OPTIMISATION IMPORTANTE\", u'userId': u'BxRn4kp4WFL92jW8g', u'_id': u'v4MP5vKP9AjK9xjbG', u'slug': u'brett-newskibeta_04-distance-totale-parcourue-par-lartiste-168239002367-km-distance-calculee-par-concorde-131485787073-km-pourcentage-doptimisation-global-calcule218458352564-marge-doptimisation-importante', u'createdAt': u'2018-05-24T15:16:00.730Z'}, u'statusCode': 200}\n",
      "topogram ID : v4MP5vKP9AjK9xjbG\n"
     ]
    },
    {
     "name": "stderr",
     "output_type": "stream",
     "text": [
      "ERROR:topogram-client:500 - Error : A topogram with the same name already exists\n"
     ]
    },
    {
     "name": "stdout",
     "output_type": "stream",
     "text": [
      "190 nodes created.\n",
      "223 edges created.\n",
      "done. Topogram has been updated. Check it at http://localhost:3000/topograms/v4MP5vKP9AjK9xjbG\n",
      "Creating topogram 'NOFX/BETA_0.4  \n",
      "Distance totale parcourue par l'artiste: 329426.002733 km  \n",
      "Distance calculee par Concorde: 377603.292121 km  \n",
      "Pourcentage d'optimisation global calcule:-1462.46164506 %  \n",
      "TOURNEE DEJA OPTIMISEE'\n",
      "{u'status': u'success', 'status_code': 200, u'data': u'RWTekQBs9LNHtPABN', u'statusCode': 201}\n",
      "Creating topogram 'NOFX/BETA_0.4  \n",
      "Distance totale parcourue par l'artiste: 329426.002733 km  \n",
      "Distance calculee par Concorde: 377603.292121 km  \n",
      "Pourcentage d'optimisation global calcule:-1462.46164506 %  \n",
      "TOURNEE DEJA OPTIMISEE'\n",
      "> Topogram already exists\n",
      "{u'status': u'success', 'status_code': 200, u'data': {u'sharedPublic': False, u'title': u\"NOFX/BETA_0.4  \\nDistance totale parcourue par l'artiste: 329426.002733 km  \\nDistance calculee par Concorde: 377603.292121 km  \\nPourcentage d'optimisation global calcule:-1462.46164506 %  \\nTOURNEE DEJA OPTIMISEE\", u'userId': u'BxRn4kp4WFL92jW8g', u'_id': u'RWTekQBs9LNHtPABN', u'slug': u'nofxbeta_04-distance-totale-parcourue-par-lartiste-329426002733-km-distance-calculee-par-concorde-377603292121-km-pourcentage-doptimisation-global-calcule-146246164506-tournee-deja-optimisee', u'createdAt': u'2018-05-24T15:16:01.642Z'}, u'statusCode': 200}\n",
      "topogram ID : RWTekQBs9LNHtPABN\n",
      "292 nodes created.\n",
      "370 edges created.\n",
      "done. Topogram has been updated. Check it at http://localhost:3000/topograms/RWTekQBs9LNHtPABN\n",
      "Creating topogram 'Grace Kelly/BETA_0.4  \n",
      "Distance totale parcourue par l'artiste: 224659.586895 km  \n",
      "Distance calculee par Concorde: 199118.220917 km  \n",
      "Pourcentage d'optimisation global calcule:1136.89187854 %  \n",
      "MARGE D'OPTIMISATION IMPORTANTE'\n"
     ]
    },
    {
     "name": "stderr",
     "output_type": "stream",
     "text": [
      "ERROR:topogram-client:500 - Error : A topogram with the same name already exists\n"
     ]
    },
    {
     "name": "stdout",
     "output_type": "stream",
     "text": [
      "{u'status': u'success', 'status_code': 200, u'data': u'YnLBsJnF77p6b9z9L', u'statusCode': 201}\n",
      "Creating topogram 'Grace Kelly/BETA_0.4  \n",
      "Distance totale parcourue par l'artiste: 224659.586895 km  \n",
      "Distance calculee par Concorde: 199118.220917 km  \n",
      "Pourcentage d'optimisation global calcule:1136.89187854 %  \n",
      "MARGE D'OPTIMISATION IMPORTANTE'\n",
      "> Topogram already exists\n",
      "{u'status': u'success', 'status_code': 200, u'data': {u'sharedPublic': False, u'title': u\"Grace Kelly/BETA_0.4  \\nDistance totale parcourue par l'artiste: 224659.586895 km  \\nDistance calculee par Concorde: 199118.220917 km  \\nPourcentage d'optimisation global calcule:1136.89187854 %  \\nMARGE D'OPTIMISATION IMPORTANTE\", u'userId': u'BxRn4kp4WFL92jW8g', u'_id': u'YnLBsJnF77p6b9z9L', u'slug': u'grace-kellybeta_04-distance-totale-parcourue-par-lartiste-224659586895-km-distance-calculee-par-concorde-199118220917-km-pourcentage-doptimisation-global-calcule113689187854-marge-doptimisation-importante', u'createdAt': u'2018-05-24T15:16:03.010Z'}, u'statusCode': 200}\n",
      "topogram ID : YnLBsJnF77p6b9z9L\n",
      "121 nodes created.\n",
      "213 edges created.\n",
      "done. Topogram has been updated. Check it at http://localhost:3000/topograms/YnLBsJnF77p6b9z9L\n",
      "Creating topogram 'Marco Bailey/BETA_0.4  \n",
      "Distance totale parcourue par l'artiste: 411174.051603 km  \n",
      "Distance calculee par Concorde: 307379.274262 km  \n",
      "Pourcentage d'optimisation global calcule:2524.35135283 %  \n",
      "MARGE D'OPTIMISATION IMPORTANTE'\n"
     ]
    },
    {
     "name": "stderr",
     "output_type": "stream",
     "text": [
      "ERROR:topogram-client:500 - Error : A topogram with the same name already exists\n"
     ]
    },
    {
     "name": "stdout",
     "output_type": "stream",
     "text": [
      "{u'status': u'success', 'status_code': 200, u'data': u'sN7y6oJZZGkDsmzFS', u'statusCode': 201}\n",
      "Creating topogram 'Marco Bailey/BETA_0.4  \n",
      "Distance totale parcourue par l'artiste: 411174.051603 km  \n",
      "Distance calculee par Concorde: 307379.274262 km  \n",
      "Pourcentage d'optimisation global calcule:2524.35135283 %  \n",
      "MARGE D'OPTIMISATION IMPORTANTE'\n",
      "> Topogram already exists\n",
      "{u'status': u'success', 'status_code': 200, u'data': {u'sharedPublic': False, u'title': u\"Marco Bailey/BETA_0.4  \\nDistance totale parcourue par l'artiste: 411174.051603 km  \\nDistance calculee par Concorde: 307379.274262 km  \\nPourcentage d'optimisation global calcule:2524.35135283 %  \\nMARGE D'OPTIMISATION IMPORTANTE\", u'userId': u'BxRn4kp4WFL92jW8g', u'_id': u'sN7y6oJZZGkDsmzFS', u'slug': u'marco-baileybeta_04-distance-totale-parcourue-par-lartiste-411174051603-km-distance-calculee-par-concorde-307379274262-km-pourcentage-doptimisation-global-calcule252435135283-marge-doptimisation-importante', u'createdAt': u'2018-05-24T15:16:03.805Z'}, u'statusCode': 200}\n",
      "topogram ID : sN7y6oJZZGkDsmzFS\n",
      "130 nodes created.\n",
      "167 edges created.\n",
      "done. Topogram has been updated. Check it at http://localhost:3000/topograms/sN7y6oJZZGkDsmzFS\n",
      "Creating topogram 'Hey/BETA_0.4  \n",
      "Distance totale parcourue par l'artiste: 64230.8640203 km  \n",
      "Distance calculee par Concorde: 47271.0278502 km  \n",
      "Pourcentage d'optimisation global calcule:2640.44963878 %  \n",
      "MARGE D'OPTIMISATION IMPORTANTE'\n",
      "{u'status': u'success', 'status_code': 200, u'data': u'dgSswqXGqu6wLdgXS', u'statusCode': 201}\n",
      "Creating topogram 'Hey/BETA_0.4  \n",
      "Distance totale parcourue par l'artiste: 64230.8640203 km  \n",
      "Distance calculee par Concorde: 47271.0278502 km  \n",
      "Pourcentage d'optimisation global calcule:2640.44963878 %  \n",
      "MARGE D'OPTIMISATION IMPORTANTE'\n"
     ]
    },
    {
     "name": "stderr",
     "output_type": "stream",
     "text": [
      "ERROR:topogram-client:500 - Error : A topogram with the same name already exists\n"
     ]
    },
    {
     "name": "stdout",
     "output_type": "stream",
     "text": [
      "> Topogram already exists\n",
      "{u'status': u'success', 'status_code': 200, u'data': {u'sharedPublic': False, u'title': u\"Hey/BETA_0.4  \\nDistance totale parcourue par l'artiste: 64230.8640203 km  \\nDistance calculee par Concorde: 47271.0278502 km  \\nPourcentage d'optimisation global calcule:2640.44963878 %  \\nMARGE D'OPTIMISATION IMPORTANTE\", u'userId': u'BxRn4kp4WFL92jW8g', u'_id': u'dgSswqXGqu6wLdgXS', u'slug': u'heybeta_04-distance-totale-parcourue-par-lartiste-642308640203-km-distance-calculee-par-concorde-472710278502-km-pourcentage-doptimisation-global-calcule264044963878-marge-doptimisation-importante', u'createdAt': u'2018-05-24T15:16:04.494Z'}, u'statusCode': 200}\n",
      "topogram ID : dgSswqXGqu6wLdgXS\n",
      "28 nodes created.\n"
     ]
    },
    {
     "name": "stderr",
     "output_type": "stream",
     "text": [
      "ERROR:topogram-client:500 - Error : A topogram with the same name already exists\n"
     ]
    },
    {
     "name": "stdout",
     "output_type": "stream",
     "text": [
      "35 edges created.\n",
      "done. Topogram has been updated. Check it at http://localhost:3000/topograms/dgSswqXGqu6wLdgXS\n",
      "Creating topogram 'The London Souls/BETA_0.4  \n",
      "Distance totale parcourue par l'artiste: 251123.007668 km  \n",
      "Distance calculee par Concorde: 201989.164892 km  \n",
      "Pourcentage d'optimisation global calcule:1956.56476212 %  \n",
      "MARGE D'OPTIMISATION IMPORTANTE'\n",
      "{u'status': u'success', 'status_code': 200, u'data': u'G5MAN7ZJKmK5nnema', u'statusCode': 201}\n",
      "Creating topogram 'The London Souls/BETA_0.4  \n",
      "Distance totale parcourue par l'artiste: 251123.007668 km  \n",
      "Distance calculee par Concorde: 201989.164892 km  \n",
      "Pourcentage d'optimisation global calcule:1956.56476212 %  \n",
      "MARGE D'OPTIMISATION IMPORTANTE'\n",
      "> Topogram already exists\n",
      "{u'status': u'success', 'status_code': 200, u'data': {u'sharedPublic': False, u'title': u\"The London Souls/BETA_0.4  \\nDistance totale parcourue par l'artiste: 251123.007668 km  \\nDistance calculee par Concorde: 201989.164892 km  \\nPourcentage d'optimisation global calcule:1956.56476212 %  \\nMARGE D'OPTIMISATION IMPORTANTE\", u'userId': u'BxRn4kp4WFL92jW8g', u'_id': u'G5MAN7ZJKmK5nnema', u'slug': u'the-london-soulsbeta_04-distance-totale-parcourue-par-lartiste-251123007668-km-distance-calculee-par-concorde-201989164892-km-pourcentage-doptimisation-global-calcule195656476212-marge-doptimisation-importante', u'createdAt': u'2018-05-24T15:16:04.860Z'}, u'statusCode': 200}\n",
      "topogram ID : G5MAN7ZJKmK5nnema\n",
      "339 nodes created.\n",
      "392 edges created.\n",
      "done. Topogram has been updated. Check it at http://localhost:3000/topograms/G5MAN7ZJKmK5nnema\n"
     ]
    },
    {
     "name": "stderr",
     "output_type": "stream",
     "text": [
      "ERROR:topogram-client:500 - Error : A topogram with the same name already exists\n"
     ]
    },
    {
     "name": "stdout",
     "output_type": "stream",
     "text": [
      "Creating topogram 'Lettuce/BETA_0.4  \n",
      "Distance totale parcourue par l'artiste: 235369.33178 km  \n",
      "Distance calculee par Concorde: 223933.737779 km  \n",
      "Pourcentage d'optimisation global calcule:485.857435852 %  \n",
      "MARGE D'OPTIMISATION IMPORTANTE'\n",
      "{u'status': u'success', 'status_code': 200, u'data': u'GbKR4JqPNhgDfBWi4', u'statusCode': 201}\n",
      "Creating topogram 'Lettuce/BETA_0.4  \n",
      "Distance totale parcourue par l'artiste: 235369.33178 km  \n",
      "Distance calculee par Concorde: 223933.737779 km  \n",
      "Pourcentage d'optimisation global calcule:485.857435852 %  \n",
      "MARGE D'OPTIMISATION IMPORTANTE'\n",
      "> Topogram already exists\n",
      "{u'status': u'success', 'status_code': 200, u'data': {u'sharedPublic': False, u'title': u\"Lettuce/BETA_0.4  \\nDistance totale parcourue par l'artiste: 235369.33178 km  \\nDistance calculee par Concorde: 223933.737779 km  \\nPourcentage d'optimisation global calcule:485.857435852 %  \\nMARGE D'OPTIMISATION IMPORTANTE\", u'userId': u'BxRn4kp4WFL92jW8g', u'_id': u'GbKR4JqPNhgDfBWi4', u'slug': u'lettucebeta_04-distance-totale-parcourue-par-lartiste-23536933178-km-distance-calculee-par-concorde-223933737779-km-pourcentage-doptimisation-global-calcule485857435852-marge-doptimisation-importante', u'createdAt': u'2018-05-24T15:16:06.415Z'}, u'statusCode': 200}\n",
      "topogram ID : GbKR4JqPNhgDfBWi4\n",
      "245 nodes created.\n",
      "345 edges created.\n",
      "done. Topogram has been updated. Check it at http://localhost:3000/topograms/GbKR4JqPNhgDfBWi4\n"
     ]
    },
    {
     "name": "stderr",
     "output_type": "stream",
     "text": [
      "ERROR:topogram-client:500 - Error : A topogram with the same name already exists\n"
     ]
    },
    {
     "name": "stdout",
     "output_type": "stream",
     "text": [
      "Creating topogram 'The Soul Rebels/BETA_0.4  \n",
      "Distance totale parcourue par l'artiste: 629532.052431 km  \n",
      "Distance calculee par Concorde: 441799.183153 km  \n",
      "Pourcentage d'optimisation global calcule:2982.1018414 %  \n",
      "MARGE D'OPTIMISATION IMPORTANTE'\n",
      "{u'status': u'success', 'status_code': 200, u'data': u'Y6AJBkxHGTd5y9Bb9', u'statusCode': 201}\n",
      "Creating topogram 'The Soul Rebels/BETA_0.4  \n",
      "Distance totale parcourue par l'artiste: 629532.052431 km  \n",
      "Distance calculee par Concorde: 441799.183153 km  \n",
      "Pourcentage d'optimisation global calcule:2982.1018414 %  \n",
      "MARGE D'OPTIMISATION IMPORTANTE'\n",
      "> Topogram already exists\n",
      "{u'status': u'success', 'status_code': 200, u'data': {u'sharedPublic': False, u'title': u\"The Soul Rebels/BETA_0.4  \\nDistance totale parcourue par l'artiste: 629532.052431 km  \\nDistance calculee par Concorde: 441799.183153 km  \\nPourcentage d'optimisation global calcule:2982.1018414 %  \\nMARGE D'OPTIMISATION IMPORTANTE\", u'userId': u'BxRn4kp4WFL92jW8g', u'_id': u'Y6AJBkxHGTd5y9Bb9', u'slug': u'the-soul-rebelsbeta_04-distance-totale-parcourue-par-lartiste-629532052431-km-distance-calculee-par-concorde-441799183153-km-pourcentage-doptimisation-global-calcule29821018414-marge-doptimisation-importante', u'createdAt': u'2018-05-24T15:16:07.622Z'}, u'statusCode': 200}\n",
      "topogram ID : Y6AJBkxHGTd5y9Bb9\n",
      "354 nodes created.\n"
     ]
    },
    {
     "name": "stderr",
     "output_type": "stream",
     "text": [
      "ERROR:topogram-client:500 - Error : A topogram with the same name already exists\n"
     ]
    },
    {
     "name": "stdout",
     "output_type": "stream",
     "text": [
      "721 edges created.\n",
      "done. Topogram has been updated. Check it at http://localhost:3000/topograms/Y6AJBkxHGTd5y9Bb9\n",
      "Creating topogram 'That 1 Guy/BETA_0.4  \n",
      "Distance totale parcourue par l'artiste: 393132.070904 km  \n",
      "Distance calculee par Concorde: 326376.417843 km  \n",
      "Pourcentage d'optimisation global calcule:1698.04648365 %  \n",
      "MARGE D'OPTIMISATION IMPORTANTE'\n",
      "{u'status': u'success', 'status_code': 200, u'data': u'CCCZGsARQHFD9Fp2J', u'statusCode': 201}\n",
      "Creating topogram 'That 1 Guy/BETA_0.4  \n",
      "Distance totale parcourue par l'artiste: 393132.070904 km  \n",
      "Distance calculee par Concorde: 326376.417843 km  \n",
      "Pourcentage d'optimisation global calcule:1698.04648365 %  \n",
      "MARGE D'OPTIMISATION IMPORTANTE'\n",
      "> Topogram already exists\n",
      "{u'status': u'success', 'status_code': 200, u'data': {u'sharedPublic': False, u'title': u\"That 1 Guy/BETA_0.4  \\nDistance totale parcourue par l'artiste: 393132.070904 km  \\nDistance calculee par Concorde: 326376.417843 km  \\nPourcentage d'optimisation global calcule:1698.04648365 %  \\nMARGE D'OPTIMISATION IMPORTANTE\", u'userId': u'BxRn4kp4WFL92jW8g', u'_id': u'CCCZGsARQHFD9Fp2J', u'slug': u'that-1-guybeta_04-distance-totale-parcourue-par-lartiste-393132070904-km-distance-calculee-par-concorde-326376417843-km-pourcentage-doptimisation-global-calcule169804648365-marge-doptimisation-importante', u'createdAt': u'2018-05-24T15:16:09.082Z'}, u'statusCode': 200}\n",
      "topogram ID : CCCZGsARQHFD9Fp2J\n",
      "477 nodes created.\n"
     ]
    },
    {
     "name": "stderr",
     "output_type": "stream",
     "text": [
      "ERROR:topogram-client:500 - Error : A topogram with the same name already exists\n"
     ]
    },
    {
     "name": "stdout",
     "output_type": "stream",
     "text": [
      "810 edges created.\n",
      "done. Topogram has been updated. Check it at http://localhost:3000/topograms/CCCZGsARQHFD9Fp2J\n",
      "Creating topogram 'Gretchen Peters/BETA_0.4  \n",
      "Distance totale parcourue par l'artiste: 457929.244802 km  \n",
      "Distance calculee par Concorde: 424536.374442 km  \n",
      "Pourcentage d'optimisation global calcule:729.214627352 %  \n",
      "MARGE D'OPTIMISATION IMPORTANTE'\n",
      "{u'status': u'success', 'status_code': 200, u'data': u'Tc7m4pJY3G57ET3ys', u'statusCode': 201}\n",
      "Creating topogram 'Gretchen Peters/BETA_0.4  \n",
      "Distance totale parcourue par l'artiste: 457929.244802 km  \n",
      "Distance calculee par Concorde: 424536.374442 km  \n",
      "Pourcentage d'optimisation global calcule:729.214627352 %  \n",
      "MARGE D'OPTIMISATION IMPORTANTE'\n",
      "> Topogram already exists\n",
      "{u'status': u'success', 'status_code': 200, u'data': {u'sharedPublic': False, u'title': u\"Gretchen Peters/BETA_0.4  \\nDistance totale parcourue par l'artiste: 457929.244802 km  \\nDistance calculee par Concorde: 424536.374442 km  \\nPourcentage d'optimisation global calcule:729.214627352 %  \\nMARGE D'OPTIMISATION IMPORTANTE\", u'userId': u'BxRn4kp4WFL92jW8g', u'_id': u'Tc7m4pJY3G57ET3ys', u'slug': u'gretchen-petersbeta_04-distance-totale-parcourue-par-lartiste-457929244802-km-distance-calculee-par-concorde-424536374442-km-pourcentage-doptimisation-global-calcule729214627352-marge-doptimisation-importante', u'createdAt': u'2018-05-24T15:16:10.969Z'}, u'statusCode': 200}\n",
      "topogram ID : Tc7m4pJY3G57ET3ys\n",
      "361 nodes created.\n"
     ]
    },
    {
     "name": "stderr",
     "output_type": "stream",
     "text": [
      "ERROR:topogram-client:500 - Error : A topogram with the same name already exists\n"
     ]
    },
    {
     "name": "stdout",
     "output_type": "stream",
     "text": [
      "546 edges created.\n",
      "done. Topogram has been updated. Check it at http://localhost:3000/topograms/Tc7m4pJY3G57ET3ys\n",
      "Creating topogram 'Ásgeir/BETA_0.4  \n",
      "Distance totale parcourue par l'artiste: 182248.417084 km  \n",
      "Distance calculee par Concorde: 178589.022685 km  \n",
      "Pourcentage d'optimisation global calcule:200.791560121 %  \n",
      "MARGE D'OPTIMISATION IMPORTANTE'\n",
      "{u'status': u'success', 'status_code': 200, u'data': u'czAwcywfmSqNujPhK', u'statusCode': 201}\n",
      "Creating topogram 'Ásgeir/BETA_0.4  \n",
      "Distance totale parcourue par l'artiste: 182248.417084 km  \n",
      "Distance calculee par Concorde: 178589.022685 km  \n",
      "Pourcentage d'optimisation global calcule:200.791560121 %  \n",
      "MARGE D'OPTIMISATION IMPORTANTE'\n",
      "> Topogram already exists\n",
      "{u'status': u'success', 'status_code': 200, u'data': {u'sharedPublic': False, u'title': u\"\\xc1sgeir/BETA_0.4  \\nDistance totale parcourue par l'artiste: 182248.417084 km  \\nDistance calculee par Concorde: 178589.022685 km  \\nPourcentage d'optimisation global calcule:200.791560121 %  \\nMARGE D'OPTIMISATION IMPORTANTE\", u'userId': u'BxRn4kp4WFL92jW8g', u'_id': u'czAwcywfmSqNujPhK', u'slug': u'sgeirbeta_04-distance-totale-parcourue-par-lartiste-182248417084-km-distance-calculee-par-concorde-178589022685-km-pourcentage-doptimisation-global-calcule200791560121-marge-doptimisation-importante', u'createdAt': u'2018-05-24T15:16:12.467Z'}, u'statusCode': 200}\n",
      "topogram ID : czAwcywfmSqNujPhK\n",
      "183 nodes created.\n",
      "189 edges created.\n",
      "done. Topogram has been updated. Check it at http://localhost:3000/topograms/czAwcywfmSqNujPhK\n",
      "Creating topogram 'Toots & The Maytals/BETA_0.4  \n",
      "Distance totale parcourue par l'artiste: 245966.34842 km  \n",
      "Distance calculee par Concorde: 224826.226545 km  \n",
      "Pourcentage d'optimisation global calcule:859.472119313 %  \n",
      "MARGE D'OPTIMISATION IMPORTANTE'\n",
      "{u'status': u'success', 'status_code': 200, u'data': u'53AmpY4tRMNaZvMT5', u'statusCode': 201}\n",
      "Creating topogram 'Toots & The Maytals/BETA_0.4  \n",
      "Distance totale parcourue par l'artiste: 245966.34842 km  \n",
      "Distance calculee par Concorde: 224826.226545 km  \n",
      "Pourcentage d'optimisation global calcule:859.472119313 %  \n",
      "MARGE D'OPTIMISATION IMPORTANTE'\n"
     ]
    },
    {
     "name": "stderr",
     "output_type": "stream",
     "text": [
      "ERROR:topogram-client:500 - Error : A topogram with the same name already exists\n"
     ]
    },
    {
     "name": "stdout",
     "output_type": "stream",
     "text": [
      "> Topogram already exists\n",
      "{u'status': u'success', 'status_code': 200, u'data': {u'sharedPublic': False, u'title': u\"Toots & The Maytals/BETA_0.4  \\nDistance totale parcourue par l'artiste: 245966.34842 km  \\nDistance calculee par Concorde: 224826.226545 km  \\nPourcentage d'optimisation global calcule:859.472119313 %  \\nMARGE D'OPTIMISATION IMPORTANTE\", u'userId': u'BxRn4kp4WFL92jW8g', u'_id': u'53AmpY4tRMNaZvMT5', u'slug': u'toots-the-maytalsbeta_04-distance-totale-parcourue-par-lartiste-24596634842-km-distance-calculee-par-concorde-224826226545-km-pourcentage-doptimisation-global-calcule859472119313-marge-doptimisation-importante', u'createdAt': u'2018-05-24T15:16:13.331Z'}, u'statusCode': 200}\n",
      "topogram ID : 53AmpY4tRMNaZvMT5\n",
      "292 nodes created.\n"
     ]
    },
    {
     "name": "stderr",
     "output_type": "stream",
     "text": [
      "ERROR:topogram-client:500 - Error : A topogram with the same name already exists\n"
     ]
    },
    {
     "name": "stdout",
     "output_type": "stream",
     "text": [
      "393 edges created.\n",
      "done. Topogram has been updated. Check it at http://localhost:3000/topograms/53AmpY4tRMNaZvMT5\n",
      "Creating topogram 'Hilltop Hoods/BETA_0.4  \n",
      "Distance totale parcourue par l'artiste: 158512.427348 km  \n",
      "Distance calculee par Concorde: 180403.87502 km  \n",
      "Pourcentage d'optimisation global calcule:-1381.05560797 %  \n",
      "TOURNEE DEJA OPTIMISEE'\n",
      "{u'status': u'success', 'status_code': 200, u'data': u'EDxXYrPkm9ciu8q8i', u'statusCode': 201}\n",
      "Creating topogram 'Hilltop Hoods/BETA_0.4  \n",
      "Distance totale parcourue par l'artiste: 158512.427348 km  \n",
      "Distance calculee par Concorde: 180403.87502 km  \n",
      "Pourcentage d'optimisation global calcule:-1381.05560797 %  \n",
      "TOURNEE DEJA OPTIMISEE'\n",
      "> Topogram already exists\n",
      "{u'status': u'success', 'status_code': 200, u'data': {u'sharedPublic': False, u'title': u\"Hilltop Hoods/BETA_0.4  \\nDistance totale parcourue par l'artiste: 158512.427348 km  \\nDistance calculee par Concorde: 180403.87502 km  \\nPourcentage d'optimisation global calcule:-1381.05560797 %  \\nTOURNEE DEJA OPTIMISEE\", u'userId': u'BxRn4kp4WFL92jW8g', u'_id': u'EDxXYrPkm9ciu8q8i', u'slug': u'hilltop-hoodsbeta_04-distance-totale-parcourue-par-lartiste-158512427348-km-distance-calculee-par-concorde-18040387502-km-pourcentage-doptimisation-global-calcule-138105560797-tournee-deja-optimisee', u'createdAt': u'2018-05-24T15:16:14.710Z'}, u'statusCode': 200}\n",
      "topogram ID : EDxXYrPkm9ciu8q8i\n",
      "95 nodes created.\n",
      "109 edges created.\n",
      "done. Topogram has been updated. Check it at http://localhost:3000/topograms/EDxXYrPkm9ciu8q8i\n",
      "Creating topogram 'Boyce Avenue/BETA_0.4  \n",
      "Distance totale parcourue par l'artiste: 263284.378136 km  \n",
      "Distance calculee par Concorde: 262058.653801 km  \n",
      "Pourcentage d'optimisation global calcule:46.5551486278 %  \n",
      "MARGE D'OPTIMISATION IMPORTANTE'\n",
      "{u'status': u'success', 'status_code': 200, u'data': u'PTMxdNTctEooqQK5r', u'statusCode': 201}\n",
      "Creating topogram 'Boyce Avenue/BETA_0.4  \n",
      "Distance totale parcourue par l'artiste: 263284.378136 km  \n",
      "Distance calculee par Concorde: 262058.653801 km  \n",
      "Pourcentage d'optimisation global calcule:46.5551486278 %  \n",
      "MARGE D'OPTIMISATION IMPORTANTE'\n"
     ]
    },
    {
     "name": "stderr",
     "output_type": "stream",
     "text": [
      "ERROR:topogram-client:500 - Error : A topogram with the same name already exists\n"
     ]
    },
    {
     "name": "stdout",
     "output_type": "stream",
     "text": [
      "> Topogram already exists\n",
      "{u'status': u'success', 'status_code': 200, u'data': {u'sharedPublic': False, u'title': u\"Boyce Avenue/BETA_0.4  \\nDistance totale parcourue par l'artiste: 263284.378136 km  \\nDistance calculee par Concorde: 262058.653801 km  \\nPourcentage d'optimisation global calcule:46.5551486278 %  \\nMARGE D'OPTIMISATION IMPORTANTE\", u'userId': u'BxRn4kp4WFL92jW8g', u'_id': u'PTMxdNTctEooqQK5r', u'slug': u'boyce-avenuebeta_04-distance-totale-parcourue-par-lartiste-263284378136-km-distance-calculee-par-concorde-262058653801-km-pourcentage-doptimisation-global-calcule465551486278-marge-doptimisation-importante', u'createdAt': u'2018-05-24T15:16:15.398Z'}, u'statusCode': 200}\n",
      "topogram ID : PTMxdNTctEooqQK5r\n",
      "266 nodes created.\n",
      "380 edges created.\n",
      "done. Topogram has been updated. Check it at http://localhost:3000/topograms/PTMxdNTctEooqQK5r\n"
     ]
    },
    {
     "name": "stderr",
     "output_type": "stream",
     "text": [
      "ERROR:topogram-client:500 - Error : A topogram with the same name already exists\n"
     ]
    },
    {
     "name": "stdout",
     "output_type": "stream",
     "text": [
      "Creating topogram 'Paul van Dyk/BETA_0.4  \n",
      "Distance totale parcourue par l'artiste: 1551269.42712 km  \n",
      "Distance calculee par Concorde: 982865.692597 km  \n",
      "Pourcentage d'optimisation global calcule:3664.12000769 %  \n",
      "MARGE D'OPTIMISATION IMPORTANTE'\n",
      "{u'status': u'success', 'status_code': 200, u'data': u'zF5qn6BxgbfcCcN6y', u'statusCode': 201}\n",
      "Creating topogram 'Paul van Dyk/BETA_0.4  \n",
      "Distance totale parcourue par l'artiste: 1551269.42712 km  \n",
      "Distance calculee par Concorde: 982865.692597 km  \n",
      "Pourcentage d'optimisation global calcule:3664.12000769 %  \n",
      "MARGE D'OPTIMISATION IMPORTANTE'\n",
      "> Topogram already exists\n",
      "{u'status': u'success', 'status_code': 200, u'data': {u'sharedPublic': False, u'title': u\"Paul van Dyk/BETA_0.4  \\nDistance totale parcourue par l'artiste: 1551269.42712 km  \\nDistance calculee par Concorde: 982865.692597 km  \\nPourcentage d'optimisation global calcule:3664.12000769 %  \\nMARGE D'OPTIMISATION IMPORTANTE\", u'userId': u'BxRn4kp4WFL92jW8g', u'_id': u'zF5qn6BxgbfcCcN6y', u'slug': u'paul-van-dykbeta_04-distance-totale-parcourue-par-lartiste-155126942712-km-distance-calculee-par-concorde-982865692597-km-pourcentage-doptimisation-global-calcule366412000769-marge-doptimisation-importante', u'createdAt': u'2018-05-24T15:16:16.571Z'}, u'statusCode': 200}\n",
      "topogram ID : zF5qn6BxgbfcCcN6y\n",
      "372 nodes created.\n"
     ]
    },
    {
     "name": "stderr",
     "output_type": "stream",
     "text": [
      "ERROR:topogram-client:500 - Error : A topogram with the same name already exists\n"
     ]
    },
    {
     "name": "stdout",
     "output_type": "stream",
     "text": [
      "524 edges created.\n",
      "done. Topogram has been updated. Check it at http://localhost:3000/topograms/zF5qn6BxgbfcCcN6y\n",
      "Creating topogram 'Moon/BETA_0.4  \n",
      "Distance totale parcourue par l'artiste: 388005.557225 km  \n",
      "Distance calculee par Concorde: 304302.590118 km  \n",
      "Pourcentage d'optimisation global calcule:2157.26206878 %  \n",
      "MARGE D'OPTIMISATION IMPORTANTE'\n",
      "{u'status': u'success', 'status_code': 200, u'data': u'gKcpSnc8Zop8HMd7K', u'statusCode': 201}\n",
      "Creating topogram 'Moon/BETA_0.4  \n",
      "Distance totale parcourue par l'artiste: 388005.557225 km  \n",
      "Distance calculee par Concorde: 304302.590118 km  \n",
      "Pourcentage d'optimisation global calcule:2157.26206878 %  \n",
      "MARGE D'OPTIMISATION IMPORTANTE'\n",
      "> Topogram already exists\n",
      "{u'status': u'success', 'status_code': 200, u'data': {u'sharedPublic': False, u'title': u\"Moon/BETA_0.4  \\nDistance totale parcourue par l'artiste: 388005.557225 km  \\nDistance calculee par Concorde: 304302.590118 km  \\nPourcentage d'optimisation global calcule:2157.26206878 %  \\nMARGE D'OPTIMISATION IMPORTANTE\", u'userId': u'BxRn4kp4WFL92jW8g', u'_id': u'gKcpSnc8Zop8HMd7K', u'slug': u'moonbeta_04-distance-totale-parcourue-par-lartiste-388005557225-km-distance-calculee-par-concorde-304302590118-km-pourcentage-doptimisation-global-calcule215726206878-marge-doptimisation-importante', u'createdAt': u'2018-05-24T15:16:18.007Z'}, u'statusCode': 200}\n",
      "topogram ID : gKcpSnc8Zop8HMd7K\n"
     ]
    },
    {
     "name": "stderr",
     "output_type": "stream",
     "text": [
      "ERROR:topogram-client:500 - Error : A topogram with the same name already exists\n"
     ]
    },
    {
     "name": "stdout",
     "output_type": "stream",
     "text": [
      "91 nodes created.\n",
      "171 edges created.\n",
      "done. Topogram has been updated. Check it at http://localhost:3000/topograms/gKcpSnc8Zop8HMd7K\n",
      "Creating topogram 'Urulu/BETA_0.4  \n",
      "Distance totale parcourue par l'artiste: 178073.936369 km  \n",
      "Distance calculee par Concorde: 131222.647858 km  \n",
      "Pourcentage d'optimisation global calcule:2631.00201334 %  \n",
      "MARGE D'OPTIMISATION IMPORTANTE'\n",
      "{u'status': u'success', 'status_code': 200, u'data': u'hoq83jDZiDYiEwELy', u'statusCode': 201}\n",
      "Creating topogram 'Urulu/BETA_0.4  \n",
      "Distance totale parcourue par l'artiste: 178073.936369 km  \n",
      "Distance calculee par Concorde: 131222.647858 km  \n",
      "Pourcentage d'optimisation global calcule:2631.00201334 %  \n",
      "MARGE D'OPTIMISATION IMPORTANTE'\n",
      "> Topogram already exists\n",
      "{u'status': u'success', 'status_code': 200, u'data': {u'sharedPublic': False, u'title': u\"Urulu/BETA_0.4  \\nDistance totale parcourue par l'artiste: 178073.936369 km  \\nDistance calculee par Concorde: 131222.647858 km  \\nPourcentage d'optimisation global calcule:2631.00201334 %  \\nMARGE D'OPTIMISATION IMPORTANTE\", u'userId': u'BxRn4kp4WFL92jW8g', u'_id': u'hoq83jDZiDYiEwELy', u'slug': u'urulubeta_04-distance-totale-parcourue-par-lartiste-178073936369-km-distance-calculee-par-concorde-131222647858-km-pourcentage-doptimisation-global-calcule263100201334-marge-doptimisation-importante', u'createdAt': u'2018-05-24T15:16:18.621Z'}, u'statusCode': 200}\n",
      "topogram ID : hoq83jDZiDYiEwELy\n"
     ]
    },
    {
     "name": "stderr",
     "output_type": "stream",
     "text": [
      "ERROR:topogram-client:500 - Error : A topogram with the same name already exists\n"
     ]
    },
    {
     "name": "stdout",
     "output_type": "stream",
     "text": [
      "77 nodes created.\n",
      "88 edges created.\n",
      "done. Topogram has been updated. Check it at http://localhost:3000/topograms/hoq83jDZiDYiEwELy\n",
      "Creating topogram 'Ravi Coltrane/BETA_0.4  \n",
      "Distance totale parcourue par l'artiste: 454530.585616 km  \n",
      "Distance calculee par Concorde: 382956.337408 km  \n",
      "Pourcentage d'optimisation global calcule:1574.68497112 %  \n",
      "MARGE D'OPTIMISATION IMPORTANTE'\n",
      "{u'status': u'success', 'status_code': 200, u'data': u'fSisGh8F7jE4niRK7', u'statusCode': 201}\n",
      "Creating topogram 'Ravi Coltrane/BETA_0.4  \n",
      "Distance totale parcourue par l'artiste: 454530.585616 km  \n",
      "Distance calculee par Concorde: 382956.337408 km  \n",
      "Pourcentage d'optimisation global calcule:1574.68497112 %  \n",
      "MARGE D'OPTIMISATION IMPORTANTE'\n",
      "> Topogram already exists\n",
      "{u'status': u'success', 'status_code': 200, u'data': {u'sharedPublic': False, u'title': u\"Ravi Coltrane/BETA_0.4  \\nDistance totale parcourue par l'artiste: 454530.585616 km  \\nDistance calculee par Concorde: 382956.337408 km  \\nPourcentage d'optimisation global calcule:1574.68497112 %  \\nMARGE D'OPTIMISATION IMPORTANTE\", u'userId': u'BxRn4kp4WFL92jW8g', u'_id': u'fSisGh8F7jE4niRK7', u'slug': u'ravi-coltranebeta_04-distance-totale-parcourue-par-lartiste-454530585616-km-distance-calculee-par-concorde-382956337408-km-pourcentage-doptimisation-global-calcule157468497112-marge-doptimisation-importante', u'createdAt': u'2018-05-24T15:16:19.171Z'}, u'statusCode': 200}\n",
      "topogram ID : fSisGh8F7jE4niRK7\n",
      "227 nodes created.\n",
      "531 edges created.\n",
      "done. Topogram has been updated. Check it at http://localhost:3000/topograms/fSisGh8F7jE4niRK7\n"
     ]
    },
    {
     "name": "stderr",
     "output_type": "stream",
     "text": [
      "ERROR:topogram-client:500 - Error : A topogram with the same name already exists\n"
     ]
    },
    {
     "name": "stdout",
     "output_type": "stream",
     "text": [
      "Creating topogram 'Stoney LaRue/BETA_0.4  \n",
      "Distance totale parcourue par l'artiste: 413931.29524 km  \n",
      "Distance calculee par Concorde: 265464.578461 km  \n",
      "Pourcentage d'optimisation global calcule:3586.74781265 %  \n",
      "MARGE D'OPTIMISATION IMPORTANTE'\n",
      "{u'status': u'success', 'status_code': 200, u'data': u'MK828Qw9tbCsrWF6r', u'statusCode': 201}\n",
      "Creating topogram 'Stoney LaRue/BETA_0.4  \n",
      "Distance totale parcourue par l'artiste: 413931.29524 km  \n",
      "Distance calculee par Concorde: 265464.578461 km  \n",
      "Pourcentage d'optimisation global calcule:3586.74781265 %  \n",
      "MARGE D'OPTIMISATION IMPORTANTE'\n",
      "> Topogram already exists\n",
      "{u'status': u'success', 'status_code': 200, u'data': {u'sharedPublic': False, u'title': u\"Stoney LaRue/BETA_0.4  \\nDistance totale parcourue par l'artiste: 413931.29524 km  \\nDistance calculee par Concorde: 265464.578461 km  \\nPourcentage d'optimisation global calcule:3586.74781265 %  \\nMARGE D'OPTIMISATION IMPORTANTE\", u'userId': u'BxRn4kp4WFL92jW8g', u'_id': u'MK828Qw9tbCsrWF6r', u'slug': u'stoney-laruebeta_04-distance-totale-parcourue-par-lartiste-41393129524-km-distance-calculee-par-concorde-265464578461-km-pourcentage-doptimisation-global-calcule358674781265-marge-doptimisation-importante', u'createdAt': u'2018-05-24T15:16:20.186Z'}, u'statusCode': 200}\n",
      "topogram ID : MK828Qw9tbCsrWF6r\n",
      "436 nodes created.\n"
     ]
    },
    {
     "name": "stderr",
     "output_type": "stream",
     "text": [
      "ERROR:topogram-client:500 - Error : A topogram with the same name already exists\n"
     ]
    },
    {
     "name": "stdout",
     "output_type": "stream",
     "text": [
      "825 edges created.\n",
      "done. Topogram has been updated. Check it at http://localhost:3000/topograms/MK828Qw9tbCsrWF6r\n",
      "Creating topogram 'St. Lucia/BETA_0.4  \n",
      "Distance totale parcourue par l'artiste: 156113.763034 km  \n",
      "Distance calculee par Concorde: 165716.033012 km  \n",
      "Pourcentage d'optimisation global calcule:-615.081578435 %  \n",
      "TOURNEE DEJA OPTIMISEE'\n",
      "{u'status': u'success', 'status_code': 200, u'data': u'jdCzCn4HmZWjjpdg4', u'statusCode': 201}\n",
      "Creating topogram 'St. Lucia/BETA_0.4  \n",
      "Distance totale parcourue par l'artiste: 156113.763034 km  \n",
      "Distance calculee par Concorde: 165716.033012 km  \n",
      "Pourcentage d'optimisation global calcule:-615.081578435 %  \n",
      "TOURNEE DEJA OPTIMISEE'\n",
      "> Topogram already exists\n",
      "{u'status': u'success', 'status_code': 200, u'data': {u'sharedPublic': False, u'title': u\"St. Lucia/BETA_0.4  \\nDistance totale parcourue par l'artiste: 156113.763034 km  \\nDistance calculee par Concorde: 165716.033012 km  \\nPourcentage d'optimisation global calcule:-615.081578435 %  \\nTOURNEE DEJA OPTIMISEE\", u'userId': u'BxRn4kp4WFL92jW8g', u'_id': u'jdCzCn4HmZWjjpdg4', u'slug': u'st-luciabeta_04-distance-totale-parcourue-par-lartiste-156113763034-km-distance-calculee-par-concorde-165716033012-km-pourcentage-doptimisation-global-calcule-615081578435-tournee-deja-optimisee', u'createdAt': u'2018-05-24T15:16:21.839Z'}, u'statusCode': 200}\n",
      "topogram ID : jdCzCn4HmZWjjpdg4\n"
     ]
    },
    {
     "name": "stderr",
     "output_type": "stream",
     "text": [
      "ERROR:topogram-client:500 - Error : A topogram with the same name already exists\n"
     ]
    },
    {
     "name": "stdout",
     "output_type": "stream",
     "text": [
      "197 nodes created.\n",
      "229 edges created.\n",
      "done. Topogram has been updated. Check it at http://localhost:3000/topograms/jdCzCn4HmZWjjpdg4\n",
      "Creating topogram 'Tony Orlando/BETA_0.4  \n",
      "Distance totale parcourue par l'artiste: 163516.223961 km  \n",
      "Distance calculee par Concorde: 122259.705308 km  \n",
      "Pourcentage d'optimisation global calcule:2523.08411079 %  \n",
      "MARGE D'OPTIMISATION IMPORTANTE'\n",
      "{u'status': u'success', 'status_code': 200, u'data': u'qqnCiD4XED7zTfpqZ', u'statusCode': 201}\n",
      "Creating topogram 'Tony Orlando/BETA_0.4  \n",
      "Distance totale parcourue par l'artiste: 163516.223961 km  \n",
      "Distance calculee par Concorde: 122259.705308 km  \n",
      "Pourcentage d'optimisation global calcule:2523.08411079 %  \n",
      "MARGE D'OPTIMISATION IMPORTANTE'\n",
      "> Topogram already exists\n",
      "{u'status': u'success', 'status_code': 200, u'data': {u'sharedPublic': False, u'title': u\"Tony Orlando/BETA_0.4  \\nDistance totale parcourue par l'artiste: 163516.223961 km  \\nDistance calculee par Concorde: 122259.705308 km  \\nPourcentage d'optimisation global calcule:2523.08411079 %  \\nMARGE D'OPTIMISATION IMPORTANTE\", u'userId': u'BxRn4kp4WFL92jW8g', u'_id': u'qqnCiD4XED7zTfpqZ', u'slug': u'tony-orlandobeta_04-distance-totale-parcourue-par-lartiste-163516223961-km-distance-calculee-par-concorde-122259705308-km-pourcentage-doptimisation-global-calcule252308411079-marge-doptimisation-importante', u'createdAt': u'2018-05-24T15:16:22.680Z'}, u'statusCode': 200}\n",
      "topogram ID : qqnCiD4XED7zTfpqZ\n",
      "74 nodes created.\n",
      "204 edges created.\n",
      "done. Topogram has been updated. Check it at http://localhost:3000/topograms/qqnCiD4XED7zTfpqZ\n",
      "Creating topogram 'Skepta/BETA_0.4  \n",
      "Distance totale parcourue par l'artiste: 169332.234764 km  \n",
      "Distance calculee par Concorde: 135791.214017 km  \n",
      "Pourcentage d'optimisation global calcule:1980.78179233 %  \n",
      "MARGE D'OPTIMISATION IMPORTANTE'\n",
      "{u'status': u'success', 'status_code': 200, u'data': u'voSoWhe9mvroGf3eq', u'statusCode': 201}\n",
      "Creating topogram 'Skepta/BETA_0.4  \n",
      "Distance totale parcourue par l'artiste: 169332.234764 km  \n",
      "Distance calculee par Concorde: 135791.214017 km  \n",
      "Pourcentage d'optimisation global calcule:1980.78179233 %  \n",
      "MARGE D'OPTIMISATION IMPORTANTE'\n"
     ]
    },
    {
     "name": "stderr",
     "output_type": "stream",
     "text": [
      "ERROR:topogram-client:500 - Error : A topogram with the same name already exists\n"
     ]
    },
    {
     "name": "stdout",
     "output_type": "stream",
     "text": [
      "> Topogram already exists\n",
      "{u'status': u'success', 'status_code': 200, u'data': {u'sharedPublic': False, u'title': u\"Skepta/BETA_0.4  \\nDistance totale parcourue par l'artiste: 169332.234764 km  \\nDistance calculee par Concorde: 135791.214017 km  \\nPourcentage d'optimisation global calcule:1980.78179233 %  \\nMARGE D'OPTIMISATION IMPORTANTE\", u'userId': u'BxRn4kp4WFL92jW8g', u'_id': u'voSoWhe9mvroGf3eq', u'slug': u'skeptabeta_04-distance-totale-parcourue-par-lartiste-169332234764-km-distance-calculee-par-concorde-135791214017-km-pourcentage-doptimisation-global-calcule198078179233-marge-doptimisation-importante', u'createdAt': u'2018-05-24T15:16:23.253Z'}, u'statusCode': 200}\n",
      "topogram ID : voSoWhe9mvroGf3eq\n"
     ]
    },
    {
     "name": "stderr",
     "output_type": "stream",
     "text": [
      "ERROR:topogram-client:500 - Error : A topogram with the same name already exists\n"
     ]
    },
    {
     "name": "stdout",
     "output_type": "stream",
     "text": [
      "101 nodes created.\n",
      "136 edges created.\n",
      "done. Topogram has been updated. Check it at http://localhost:3000/topograms/voSoWhe9mvroGf3eq\n",
      "Creating topogram 'Dorian/BETA_0.4  \n",
      "Distance totale parcourue par l'artiste: 77920.6536759 km  \n",
      "Distance calculee par Concorde: 83796.4008314 km  \n",
      "Pourcentage d'optimisation global calcule:-754.068001017 %  \n",
      "TOURNEE DEJA OPTIMISEE'\n",
      "{u'status': u'success', 'status_code': 200, u'data': u'x2KRY7SwAk6vKdjbe', u'statusCode': 201}\n",
      "Creating topogram 'Dorian/BETA_0.4  \n",
      "Distance totale parcourue par l'artiste: 77920.6536759 km  \n",
      "Distance calculee par Concorde: 83796.4008314 km  \n",
      "Pourcentage d'optimisation global calcule:-754.068001017 %  \n",
      "TOURNEE DEJA OPTIMISEE'\n",
      "> Topogram already exists\n",
      "{u'status': u'success', 'status_code': 200, u'data': {u'sharedPublic': False, u'title': u\"Dorian/BETA_0.4  \\nDistance totale parcourue par l'artiste: 77920.6536759 km  \\nDistance calculee par Concorde: 83796.4008314 km  \\nPourcentage d'optimisation global calcule:-754.068001017 %  \\nTOURNEE DEJA OPTIMISEE\", u'userId': u'BxRn4kp4WFL92jW8g', u'_id': u'x2KRY7SwAk6vKdjbe', u'slug': u'dorianbeta_04-distance-totale-parcourue-par-lartiste-779206536759-km-distance-calculee-par-concorde-837964008314-km-pourcentage-doptimisation-global-calcule-754068001017-tournee-deja-optimisee', u'createdAt': u'2018-05-24T15:16:23.898Z'}, u'statusCode': 200}\n",
      "topogram ID : x2KRY7SwAk6vKdjbe\n"
     ]
    },
    {
     "name": "stderr",
     "output_type": "stream",
     "text": [
      "ERROR:topogram-client:500 - Error : A topogram with the same name already exists\n"
     ]
    },
    {
     "name": "stdout",
     "output_type": "stream",
     "text": [
      "41 nodes created.\n",
      "50 edges created.\n",
      "done. Topogram has been updated. Check it at http://localhost:3000/topograms/x2KRY7SwAk6vKdjbe\n",
      "Creating topogram 'Four Tops/BETA_0.4  \n",
      "Distance totale parcourue par l'artiste: 457629.445093 km  \n",
      "Distance calculee par Concorde: 327954.901315 km  \n",
      "Pourcentage d'optimisation global calcule:2833.61451428 %  \n",
      "MARGE D'OPTIMISATION IMPORTANTE'\n",
      "{u'status': u'success', 'status_code': 200, u'data': u'Pw2XQdL6HRFumyXWR', u'statusCode': 201}\n",
      "Creating topogram 'Four Tops/BETA_0.4  \n",
      "Distance totale parcourue par l'artiste: 457629.445093 km  \n",
      "Distance calculee par Concorde: 327954.901315 km  \n",
      "Pourcentage d'optimisation global calcule:2833.61451428 %  \n",
      "MARGE D'OPTIMISATION IMPORTANTE'\n",
      "> Topogram already exists\n",
      "{u'status': u'success', 'status_code': 200, u'data': {u'sharedPublic': False, u'title': u\"Four Tops/BETA_0.4  \\nDistance totale parcourue par l'artiste: 457629.445093 km  \\nDistance calculee par Concorde: 327954.901315 km  \\nPourcentage d'optimisation global calcule:2833.61451428 %  \\nMARGE D'OPTIMISATION IMPORTANTE\", u'userId': u'BxRn4kp4WFL92jW8g', u'_id': u'Pw2XQdL6HRFumyXWR', u'slug': u'four-topsbeta_04-distance-totale-parcourue-par-lartiste-457629445093-km-distance-calculee-par-concorde-327954901315-km-pourcentage-doptimisation-global-calcule283361451428-marge-doptimisation-importante', u'createdAt': u'2018-05-24T15:16:24.382Z'}, u'statusCode': 200}\n",
      "topogram ID : Pw2XQdL6HRFumyXWR\n",
      "243 nodes created.\n",
      "396 edges created.\n",
      "done. Topogram has been updated. Check it at http://localhost:3000/topograms/Pw2XQdL6HRFumyXWR\n"
     ]
    },
    {
     "name": "stderr",
     "output_type": "stream",
     "text": [
      "ERROR:topogram-client:500 - Error : A topogram with the same name already exists\n"
     ]
    },
    {
     "name": "stdout",
     "output_type": "stream",
     "text": [
      "Creating topogram 'Catherine Russell/BETA_0.4  \n",
      "Distance totale parcourue par l'artiste: 148368.254278 km  \n",
      "Distance calculee par Concorde: 157481.73386 km  \n",
      "Pourcentage d'optimisation global calcule:-614.247274516 %  \n",
      "TOURNEE DEJA OPTIMISEE'\n",
      "{u'status': u'success', 'status_code': 200, u'data': u'enoxasm7HLF9t2R75', u'statusCode': 201}\n",
      "Creating topogram 'Catherine Russell/BETA_0.4  \n",
      "Distance totale parcourue par l'artiste: 148368.254278 km  \n",
      "Distance calculee par Concorde: 157481.73386 km  \n",
      "Pourcentage d'optimisation global calcule:-614.247274516 %  \n",
      "TOURNEE DEJA OPTIMISEE'\n",
      "> Topogram already exists\n",
      "{u'status': u'success', 'status_code': 200, u'data': {u'sharedPublic': False, u'title': u\"Catherine Russell/BETA_0.4  \\nDistance totale parcourue par l'artiste: 148368.254278 km  \\nDistance calculee par Concorde: 157481.73386 km  \\nPourcentage d'optimisation global calcule:-614.247274516 %  \\nTOURNEE DEJA OPTIMISEE\", u'userId': u'BxRn4kp4WFL92jW8g', u'_id': u'enoxasm7HLF9t2R75', u'slug': u'catherine-russellbeta_04-distance-totale-parcourue-par-lartiste-148368254278-km-distance-calculee-par-concorde-15748173386-km-pourcentage-doptimisation-global-calcule-614247274516-tournee-deja-optimisee', u'createdAt': u'2018-05-24T15:16:25.570Z'}, u'statusCode': 200}\n",
      "topogram ID : enoxasm7HLF9t2R75\n",
      "117 nodes created.\n",
      "182 edges created.\n",
      "done. Topogram has been updated. Check it at http://localhost:3000/topograms/enoxasm7HLF9t2R75\n",
      "Creating topogram 'Savoy/BETA_0.4  \n",
      "Distance totale parcourue par l'artiste: 252436.792335 km  \n",
      "Distance calculee par Concorde: 180584.091139 km  \n",
      "Pourcentage d'optimisation global calcule:2846.36405538 %  \n",
      "MARGE D'OPTIMISATION IMPORTANTE'\n",
      "{u'status': u'success', 'status_code': 200, u'data': u'M6ku5cJL4YZXCMLuM', u'statusCode': 201}\n",
      "Creating topogram 'Savoy/BETA_0.4  \n",
      "Distance totale parcourue par l'artiste: 252436.792335 km  \n",
      "Distance calculee par Concorde: 180584.091139 km  \n",
      "Pourcentage d'optimisation global calcule:2846.36405538 %  \n",
      "MARGE D'OPTIMISATION IMPORTANTE'\n"
     ]
    },
    {
     "name": "stderr",
     "output_type": "stream",
     "text": [
      "ERROR:topogram-client:500 - Error : A topogram with the same name already exists\n"
     ]
    },
    {
     "name": "stdout",
     "output_type": "stream",
     "text": [
      "> Topogram already exists\n",
      "{u'status': u'success', 'status_code': 200, u'data': {u'sharedPublic': False, u'title': u\"Savoy/BETA_0.4  \\nDistance totale parcourue par l'artiste: 252436.792335 km  \\nDistance calculee par Concorde: 180584.091139 km  \\nPourcentage d'optimisation global calcule:2846.36405538 %  \\nMARGE D'OPTIMISATION IMPORTANTE\", u'userId': u'BxRn4kp4WFL92jW8g', u'_id': u'M6ku5cJL4YZXCMLuM', u'slug': u'savoybeta_04-distance-totale-parcourue-par-lartiste-252436792335-km-distance-calculee-par-concorde-180584091139-km-pourcentage-doptimisation-global-calcule284636405538-marge-doptimisation-importante', u'createdAt': u'2018-05-24T15:16:26.287Z'}, u'statusCode': 200}\n",
      "topogram ID : M6ku5cJL4YZXCMLuM\n",
      "224 nodes created.\n",
      "264 edges created.\n",
      "done. Topogram has been updated. Check it at http://localhost:3000/topograms/M6ku5cJL4YZXCMLuM\n",
      "Creating topogram 'Migos/BETA_0.4  \n",
      "Distance totale parcourue par l'artiste: 311892.068673 km  \n",
      "Distance calculee par Concorde: 153049.845494 km  \n",
      "Pourcentage d'optimisation global calcule:5092.85868841 %  \n",
      "MARGE D'OPTIMISATION IMPORTANTE'\n",
      "{u'status': u'success', 'status_code': 200, u'data': u'te3Xncg7MLLr8fFk5', u'statusCode': 201}\n",
      "Creating topogram 'Migos/BETA_0.4  \n",
      "Distance totale parcourue par l'artiste: 311892.068673 km  \n",
      "Distance calculee par Concorde: 153049.845494 km  \n",
      "Pourcentage d'optimisation global calcule:5092.85868841 %  \n",
      "MARGE D'OPTIMISATION IMPORTANTE'\n"
     ]
    },
    {
     "name": "stderr",
     "output_type": "stream",
     "text": [
      "ERROR:topogram-client:500 - Error : A topogram with the same name already exists\n"
     ]
    },
    {
     "name": "stdout",
     "output_type": "stream",
     "text": [
      "> Topogram already exists\n",
      "{u'status': u'success', 'status_code': 200, u'data': {u'sharedPublic': False, u'title': u\"Migos/BETA_0.4  \\nDistance totale parcourue par l'artiste: 311892.068673 km  \\nDistance calculee par Concorde: 153049.845494 km  \\nPourcentage d'optimisation global calcule:5092.85868841 %  \\nMARGE D'OPTIMISATION IMPORTANTE\", u'userId': u'BxRn4kp4WFL92jW8g', u'_id': u'te3Xncg7MLLr8fFk5', u'slug': u'migosbeta_04-distance-totale-parcourue-par-lartiste-311892068673-km-distance-calculee-par-concorde-153049845494-km-pourcentage-doptimisation-global-calcule509285868841-marge-doptimisation-importante', u'createdAt': u'2018-05-24T15:16:27.210Z'}, u'statusCode': 200}\n",
      "topogram ID : te3Xncg7MLLr8fFk5\n",
      "192 nodes created.\n",
      "227 edges created.\n",
      "done. Topogram has been updated. Check it at http://localhost:3000/topograms/te3Xncg7MLLr8fFk5\n",
      "Creating topogram 'I See Stars/BETA_0.4  \n",
      "Distance totale parcourue par l'artiste: 486535.764461 km  \n",
      "Distance calculee par Concorde: 321576.675558 km  \n",
      "Pourcentage d'optimisation global calcule:3390.48228213 %  \n",
      "MARGE D'OPTIMISATION IMPORTANTE'\n"
     ]
    },
    {
     "name": "stderr",
     "output_type": "stream",
     "text": [
      "ERROR:topogram-client:500 - Error : A topogram with the same name already exists\n"
     ]
    },
    {
     "name": "stdout",
     "output_type": "stream",
     "text": [
      "{u'status': u'success', 'status_code': 200, u'data': u'Ka5iC3DD7fC8JBL9a', u'statusCode': 201}\n",
      "Creating topogram 'I See Stars/BETA_0.4  \n",
      "Distance totale parcourue par l'artiste: 486535.764461 km  \n",
      "Distance calculee par Concorde: 321576.675558 km  \n",
      "Pourcentage d'optimisation global calcule:3390.48228213 %  \n",
      "MARGE D'OPTIMISATION IMPORTANTE'\n",
      "> Topogram already exists\n",
      "{u'status': u'success', 'status_code': 200, u'data': {u'sharedPublic': False, u'title': u\"I See Stars/BETA_0.4  \\nDistance totale parcourue par l'artiste: 486535.764461 km  \\nDistance calculee par Concorde: 321576.675558 km  \\nPourcentage d'optimisation global calcule:3390.48228213 %  \\nMARGE D'OPTIMISATION IMPORTANTE\", u'userId': u'BxRn4kp4WFL92jW8g', u'_id': u'Ka5iC3DD7fC8JBL9a', u'slug': u'i-see-starsbeta_04-distance-totale-parcourue-par-lartiste-486535764461-km-distance-calculee-par-concorde-321576675558-km-pourcentage-doptimisation-global-calcule339048228213-marge-doptimisation-importante', u'createdAt': u'2018-05-24T15:16:28.120Z'}, u'statusCode': 200}\n",
      "topogram ID : Ka5iC3DD7fC8JBL9a\n",
      "512 nodes created.\n"
     ]
    },
    {
     "name": "stderr",
     "output_type": "stream",
     "text": [
      "ERROR:topogram-client:500 - Error : A topogram with the same name already exists\n"
     ]
    },
    {
     "name": "stdout",
     "output_type": "stream",
     "text": [
      "717 edges created.\n",
      "done. Topogram has been updated. Check it at http://localhost:3000/topograms/Ka5iC3DD7fC8JBL9a\n",
      "Creating topogram 'The Vibrators/BETA_0.4  \n",
      "Distance totale parcourue par l'artiste: 281602.517839 km  \n",
      "Distance calculee par Concorde: 255238.660051 km  \n",
      "Pourcentage d'optimisation global calcule:936.208169961 %  \n",
      "MARGE D'OPTIMISATION IMPORTANTE'\n",
      "{u'status': u'success', 'status_code': 200, u'data': u'duipWFiHG4PzYERH7', u'statusCode': 201}\n",
      "Creating topogram 'The Vibrators/BETA_0.4  \n",
      "Distance totale parcourue par l'artiste: 281602.517839 km  \n",
      "Distance calculee par Concorde: 255238.660051 km  \n",
      "Pourcentage d'optimisation global calcule:936.208169961 %  \n",
      "MARGE D'OPTIMISATION IMPORTANTE'\n",
      "> Topogram already exists\n",
      "{u'status': u'success', 'status_code': 200, u'data': {u'sharedPublic': False, u'title': u\"The Vibrators/BETA_0.4  \\nDistance totale parcourue par l'artiste: 281602.517839 km  \\nDistance calculee par Concorde: 255238.660051 km  \\nPourcentage d'optimisation global calcule:936.208169961 %  \\nMARGE D'OPTIMISATION IMPORTANTE\", u'userId': u'BxRn4kp4WFL92jW8g', u'_id': u'duipWFiHG4PzYERH7', u'slug': u'the-vibratorsbeta_04-distance-totale-parcourue-par-lartiste-281602517839-km-distance-calculee-par-concorde-255238660051-km-pourcentage-doptimisation-global-calcule936208169961-marge-doptimisation-importante', u'createdAt': u'2018-05-24T15:16:30.024Z'}, u'statusCode': 200}\n",
      "topogram ID : duipWFiHG4PzYERH7\n",
      "290 nodes created.\n",
      "354 edges created.\n",
      "done. Topogram has been updated. Check it at http://localhost:3000/topograms/duipWFiHG4PzYERH7\n",
      "Creating topogram 'Incognito/BETA_0.4  \n",
      "Distance totale parcourue par l'artiste: 251292.735682 km  \n",
      "Distance calculee par Concorde: 294519.986342 km  \n",
      "Pourcentage d'optimisation global calcule:-1720.1949966 %  \n",
      "TOURNEE DEJA OPTIMISEE'\n"
     ]
    },
    {
     "name": "stderr",
     "output_type": "stream",
     "text": [
      "ERROR:topogram-client:500 - Error : A topogram with the same name already exists\n"
     ]
    },
    {
     "name": "stdout",
     "output_type": "stream",
     "text": [
      "{u'status': u'success', 'status_code': 200, u'data': u'RRCXJ8QMs8HnXbTLP', u'statusCode': 201}\n",
      "Creating topogram 'Incognito/BETA_0.4  \n",
      "Distance totale parcourue par l'artiste: 251292.735682 km  \n",
      "Distance calculee par Concorde: 294519.986342 km  \n",
      "Pourcentage d'optimisation global calcule:-1720.1949966 %  \n",
      "TOURNEE DEJA OPTIMISEE'\n",
      "> Topogram already exists\n",
      "{u'status': u'success', 'status_code': 200, u'data': {u'sharedPublic': False, u'title': u\"Incognito/BETA_0.4  \\nDistance totale parcourue par l'artiste: 251292.735682 km  \\nDistance calculee par Concorde: 294519.986342 km  \\nPourcentage d'optimisation global calcule:-1720.1949966 %  \\nTOURNEE DEJA OPTIMISEE\", u'userId': u'BxRn4kp4WFL92jW8g', u'_id': u'RRCXJ8QMs8HnXbTLP', u'slug': u'incognitobeta_04-distance-totale-parcourue-par-lartiste-251292735682-km-distance-calculee-par-concorde-294519986342-km-pourcentage-doptimisation-global-calcule-17201949966-tournee-deja-optimisee', u'createdAt': u'2018-05-24T15:16:31.204Z'}, u'statusCode': 200}\n",
      "topogram ID : RRCXJ8QMs8HnXbTLP\n",
      "147 nodes created.\n",
      "262 edges created.\n",
      "done. Topogram has been updated. Check it at http://localhost:3000/topograms/RRCXJ8QMs8HnXbTLP\n",
      "Creating topogram 'Hawk Nelson/BETA_0.4  \n",
      "Distance totale parcourue par l'artiste: 597049.927583 km  \n",
      "Distance calculee par Concorde: 363175.603128 km  \n",
      "Pourcentage d'optimisation global calcule:3917.1652763 %  \n",
      "MARGE D'OPTIMISATION IMPORTANTE'\n",
      "{u'status': u'success', 'status_code': 200, u'data': u'Fj7c5n8i4R6Awv3F2', u'statusCode': 201}\n",
      "Creating topogram 'Hawk Nelson/BETA_0.4  \n",
      "Distance totale parcourue par l'artiste: 597049.927583 km  \n",
      "Distance calculee par Concorde: 363175.603128 km  \n",
      "Pourcentage d'optimisation global calcule:3917.1652763 %  \n",
      "MARGE D'OPTIMISATION IMPORTANTE'\n"
     ]
    },
    {
     "name": "stderr",
     "output_type": "stream",
     "text": [
      "ERROR:topogram-client:500 - Error : A topogram with the same name already exists\n"
     ]
    },
    {
     "name": "stdout",
     "output_type": "stream",
     "text": [
      "> Topogram already exists\n",
      "{u'status': u'success', 'status_code': 200, u'data': {u'sharedPublic': False, u'title': u\"Hawk Nelson/BETA_0.4  \\nDistance totale parcourue par l'artiste: 597049.927583 km  \\nDistance calculee par Concorde: 363175.603128 km  \\nPourcentage d'optimisation global calcule:3917.1652763 %  \\nMARGE D'OPTIMISATION IMPORTANTE\", u'userId': u'BxRn4kp4WFL92jW8g', u'_id': u'Fj7c5n8i4R6Awv3F2', u'slug': u'hawk-nelsonbeta_04-distance-totale-parcourue-par-lartiste-597049927583-km-distance-calculee-par-concorde-363175603128-km-pourcentage-doptimisation-global-calcule39171652763-marge-doptimisation-importante', u'createdAt': u'2018-05-24T15:16:31.965Z'}, u'statusCode': 200}\n",
      "topogram ID : Fj7c5n8i4R6Awv3F2\n",
      "472 nodes created.\n"
     ]
    },
    {
     "name": "stderr",
     "output_type": "stream",
     "text": [
      "ERROR:topogram-client:500 - Error : A topogram with the same name already exists\n"
     ]
    },
    {
     "name": "stdout",
     "output_type": "stream",
     "text": [
      "553 edges created.\n",
      "done. Topogram has been updated. Check it at http://localhost:3000/topograms/Fj7c5n8i4R6Awv3F2\n",
      "Creating topogram 'DJ Alyson Calagna/BETA_0.4  \n",
      "Distance totale parcourue par l'artiste: 135567.3608 km  \n",
      "Distance calculee par Concorde: 96528.0480303 km  \n",
      "Pourcentage d'optimisation global calcule:2879.69851588 %  \n",
      "MARGE D'OPTIMISATION IMPORTANTE'\n",
      "{u'status': u'success', 'status_code': 200, u'data': u'PHLu5Zh6reJ7DFzh6', u'statusCode': 201}\n",
      "Creating topogram 'DJ Alyson Calagna/BETA_0.4  \n",
      "Distance totale parcourue par l'artiste: 135567.3608 km  \n",
      "Distance calculee par Concorde: 96528.0480303 km  \n",
      "Pourcentage d'optimisation global calcule:2879.69851588 %  \n",
      "MARGE D'OPTIMISATION IMPORTANTE'\n",
      "> Topogram already exists\n",
      "{u'status': u'success', 'status_code': 200, u'data': {u'sharedPublic': False, u'title': u\"DJ Alyson Calagna/BETA_0.4  \\nDistance totale parcourue par l'artiste: 135567.3608 km  \\nDistance calculee par Concorde: 96528.0480303 km  \\nPourcentage d'optimisation global calcule:2879.69851588 %  \\nMARGE D'OPTIMISATION IMPORTANTE\", u'userId': u'BxRn4kp4WFL92jW8g', u'_id': u'PHLu5Zh6reJ7DFzh6', u'slug': u'dj-alyson-calagnabeta_04-distance-totale-parcourue-par-lartiste-1355673608-km-distance-calculee-par-concorde-965280480303-km-pourcentage-doptimisation-global-calcule287969851588-marge-doptimisation-importante', u'createdAt': u'2018-05-24T15:16:33.868Z'}, u'statusCode': 200}\n",
      "topogram ID : PHLu5Zh6reJ7DFzh6\n"
     ]
    },
    {
     "name": "stderr",
     "output_type": "stream",
     "text": [
      "ERROR:topogram-client:500 - Error : A topogram with the same name already exists\n"
     ]
    },
    {
     "name": "stdout",
     "output_type": "stream",
     "text": [
      "34 nodes created.\n",
      "60 edges created.\n",
      "done. Topogram has been updated. Check it at http://localhost:3000/topograms/PHLu5Zh6reJ7DFzh6\n",
      "Creating topogram 'Listener/BETA_0.4  \n",
      "Distance totale parcourue par l'artiste: 196611.74426 km  \n",
      "Distance calculee par Concorde: 189847.107077 km  \n",
      "Pourcentage d'optimisation global calcule:344.060687141 %  \n",
      "MARGE D'OPTIMISATION IMPORTANTE'\n",
      "{u'status': u'success', 'status_code': 200, u'data': u'7Mm9s5cWPqEwAbQgh', u'statusCode': 201}\n",
      "Creating topogram 'Listener/BETA_0.4  \n",
      "Distance totale parcourue par l'artiste: 196611.74426 km  \n",
      "Distance calculee par Concorde: 189847.107077 km  \n",
      "Pourcentage d'optimisation global calcule:344.060687141 %  \n",
      "MARGE D'OPTIMISATION IMPORTANTE'\n",
      "> Topogram already exists\n",
      "{u'status': u'success', 'status_code': 200, u'data': {u'sharedPublic': False, u'title': u\"Listener/BETA_0.4  \\nDistance totale parcourue par l'artiste: 196611.74426 km  \\nDistance calculee par Concorde: 189847.107077 km  \\nPourcentage d'optimisation global calcule:344.060687141 %  \\nMARGE D'OPTIMISATION IMPORTANTE\", u'userId': u'BxRn4kp4WFL92jW8g', u'_id': u'7Mm9s5cWPqEwAbQgh', u'slug': u'listenerbeta_04-distance-totale-parcourue-par-lartiste-19661174426-km-distance-calculee-par-concorde-189847107077-km-pourcentage-doptimisation-global-calcule344060687141-marge-doptimisation-importante', u'createdAt': u'2018-05-24T15:16:34.314Z'}, u'statusCode': 200}\n",
      "topogram ID : 7Mm9s5cWPqEwAbQgh\n",
      "401 nodes created.\n"
     ]
    },
    {
     "name": "stderr",
     "output_type": "stream",
     "text": [
      "ERROR:topogram-client:500 - Error : A topogram with the same name already exists\n"
     ]
    },
    {
     "name": "stdout",
     "output_type": "stream",
     "text": [
      "496 edges created.\n",
      "done. Topogram has been updated. Check it at http://localhost:3000/topograms/7Mm9s5cWPqEwAbQgh\n",
      "Creating topogram 'Donna the Buffalo/BETA_0.4  \n",
      "Distance totale parcourue par l'artiste: 293832.625349 km  \n",
      "Distance calculee par Concorde: 231804.271012 km  \n",
      "Pourcentage d'optimisation global calcule:2111.00977174 %  \n",
      "MARGE D'OPTIMISATION IMPORTANTE'\n",
      "{u'status': u'success', 'status_code': 200, u'data': u'8xJjtgNR7Zr26rcKi', u'statusCode': 201}\n",
      "Creating topogram 'Donna the Buffalo/BETA_0.4  \n",
      "Distance totale parcourue par l'artiste: 293832.625349 km  \n",
      "Distance calculee par Concorde: 231804.271012 km  \n",
      "Pourcentage d'optimisation global calcule:2111.00977174 %  \n",
      "MARGE D'OPTIMISATION IMPORTANTE'\n",
      "> Topogram already exists\n",
      "{u'status': u'success', 'status_code': 200, u'data': {u'sharedPublic': False, u'title': u\"Donna the Buffalo/BETA_0.4  \\nDistance totale parcourue par l'artiste: 293832.625349 km  \\nDistance calculee par Concorde: 231804.271012 km  \\nPourcentage d'optimisation global calcule:2111.00977174 %  \\nMARGE D'OPTIMISATION IMPORTANTE\", u'userId': u'BxRn4kp4WFL92jW8g', u'_id': u'8xJjtgNR7Zr26rcKi', u'slug': u'donna-the-buffalobeta_04-distance-totale-parcourue-par-lartiste-293832625349-km-distance-calculee-par-concorde-231804271012-km-pourcentage-doptimisation-global-calcule211100977174-marge-doptimisation-importante', u'createdAt': u'2018-05-24T15:16:35.878Z'}, u'statusCode': 200}\n",
      "topogram ID : 8xJjtgNR7Zr26rcKi\n",
      "360 nodes created.\n"
     ]
    },
    {
     "name": "stderr",
     "output_type": "stream",
     "text": [
      "ERROR:topogram-client:500 - Error : A topogram with the same name already exists\n"
     ]
    },
    {
     "name": "stdout",
     "output_type": "stream",
     "text": [
      "642 edges created.\n",
      "done. Topogram has been updated. Check it at http://localhost:3000/topograms/8xJjtgNR7Zr26rcKi\n",
      "Creating topogram 'Marco V/BETA_0.4  \n",
      "Distance totale parcourue par l'artiste: 467249.037951 km  \n",
      "Distance calculee par Concorde: 359423.993247 km  \n",
      "Pourcentage d'optimisation global calcule:2307.65685846 %  \n",
      "MARGE D'OPTIMISATION IMPORTANTE'\n",
      "{u'status': u'success', 'status_code': 200, u'data': u'Mz4zy5DaCnruPqELZ', u'statusCode': 201}\n",
      "Creating topogram 'Marco V/BETA_0.4  \n",
      "Distance totale parcourue par l'artiste: 467249.037951 km  \n",
      "Distance calculee par Concorde: 359423.993247 km  \n",
      "Pourcentage d'optimisation global calcule:2307.65685846 %  \n",
      "MARGE D'OPTIMISATION IMPORTANTE'\n",
      "> Topogram already exists\n",
      "{u'status': u'success', 'status_code': 200, u'data': {u'sharedPublic': False, u'title': u\"Marco V/BETA_0.4  \\nDistance totale parcourue par l'artiste: 467249.037951 km  \\nDistance calculee par Concorde: 359423.993247 km  \\nPourcentage d'optimisation global calcule:2307.65685846 %  \\nMARGE D'OPTIMISATION IMPORTANTE\", u'userId': u'BxRn4kp4WFL92jW8g', u'_id': u'Mz4zy5DaCnruPqELZ', u'slug': u'marco-vbeta_04-distance-totale-parcourue-par-lartiste-467249037951-km-distance-calculee-par-concorde-359423993247-km-pourcentage-doptimisation-global-calcule230765685846-marge-doptimisation-importante', u'createdAt': u'2018-05-24T15:16:37.354Z'}, u'statusCode': 200}\n",
      "topogram ID : Mz4zy5DaCnruPqELZ\n"
     ]
    },
    {
     "name": "stderr",
     "output_type": "stream",
     "text": [
      "ERROR:topogram-client:500 - Error : A topogram with the same name already exists\n"
     ]
    },
    {
     "name": "stdout",
     "output_type": "stream",
     "text": [
      "107 nodes created.\n",
      "121 edges created.\n",
      "done. Topogram has been updated. Check it at http://localhost:3000/topograms/Mz4zy5DaCnruPqELZ\n",
      "Creating topogram 'Kill Paris/BETA_0.4  \n",
      "Distance totale parcourue par l'artiste: 393303.576021 km  \n",
      "Distance calculee par Concorde: 206858.291996 km  \n",
      "Pourcentage d'optimisation global calcule:4740.49297775 %  \n",
      "MARGE D'OPTIMISATION IMPORTANTE'\n",
      "{u'status': u'success', 'status_code': 200, u'data': u'yG7onv7QwLzLPdNtu', u'statusCode': 201}\n",
      "Creating topogram 'Kill Paris/BETA_0.4  \n",
      "Distance totale parcourue par l'artiste: 393303.576021 km  \n",
      "Distance calculee par Concorde: 206858.291996 km  \n",
      "Pourcentage d'optimisation global calcule:4740.49297775 %  \n",
      "MARGE D'OPTIMISATION IMPORTANTE'\n",
      "> Topogram already exists\n",
      "{u'status': u'success', 'status_code': 200, u'data': {u'sharedPublic': False, u'title': u\"Kill Paris/BETA_0.4  \\nDistance totale parcourue par l'artiste: 393303.576021 km  \\nDistance calculee par Concorde: 206858.291996 km  \\nPourcentage d'optimisation global calcule:4740.49297775 %  \\nMARGE D'OPTIMISATION IMPORTANTE\", u'userId': u'BxRn4kp4WFL92jW8g', u'_id': u'yG7onv7QwLzLPdNtu', u'slug': u'kill-parisbeta_04-distance-totale-parcourue-par-lartiste-393303576021-km-distance-calculee-par-concorde-206858291996-km-pourcentage-doptimisation-global-calcule474049297775-marge-doptimisation-importante', u'createdAt': u'2018-05-24T15:16:38.080Z'}, u'statusCode': 200}\n",
      "topogram ID : yG7onv7QwLzLPdNtu\n",
      "204 nodes created.\n",
      "247 edges created.\n",
      "done. Topogram has been updated. Check it at http://localhost:3000/topograms/yG7onv7QwLzLPdNtu\n",
      "Creating topogram 'Montgomery Gentry/BETA_0.4  \n",
      "Distance totale parcourue par l'artiste: 528699.610558 km  \n",
      "Distance calculee par Concorde: 353903.625803 km  \n",
      "Pourcentage d'optimisation global calcule:3306.14930036 %  \n",
      "MARGE D'OPTIMISATION IMPORTANTE'\n"
     ]
    },
    {
     "name": "stderr",
     "output_type": "stream",
     "text": [
      "ERROR:topogram-client:500 - Error : A topogram with the same name already exists\n"
     ]
    },
    {
     "name": "stdout",
     "output_type": "stream",
     "text": [
      "{u'status': u'success', 'status_code': 200, u'data': u'bsddAWRjPz54Lp9iN', u'statusCode': 201}\n",
      "Creating topogram 'Montgomery Gentry/BETA_0.4  \n",
      "Distance totale parcourue par l'artiste: 528699.610558 km  \n",
      "Distance calculee par Concorde: 353903.625803 km  \n",
      "Pourcentage d'optimisation global calcule:3306.14930036 %  \n",
      "MARGE D'OPTIMISATION IMPORTANTE'\n",
      "> Topogram already exists\n",
      "{u'status': u'success', 'status_code': 200, u'data': {u'sharedPublic': False, u'title': u\"Montgomery Gentry/BETA_0.4  \\nDistance totale parcourue par l'artiste: 528699.610558 km  \\nDistance calculee par Concorde: 353903.625803 km  \\nPourcentage d'optimisation global calcule:3306.14930036 %  \\nMARGE D'OPTIMISATION IMPORTANTE\", u'userId': u'BxRn4kp4WFL92jW8g', u'_id': u'bsddAWRjPz54Lp9iN', u'slug': u'montgomery-gentrybeta_04-distance-totale-parcourue-par-lartiste-528699610558-km-distance-calculee-par-concorde-353903625803-km-pourcentage-doptimisation-global-calcule330614930036-marge-doptimisation-importante', u'createdAt': u'2018-05-24T15:16:38.994Z'}, u'statusCode': 200}\n",
      "topogram ID : bsddAWRjPz54Lp9iN\n",
      "503 nodes created.\n"
     ]
    },
    {
     "name": "stderr",
     "output_type": "stream",
     "text": [
      "ERROR:topogram-client:500 - Error : A topogram with the same name already exists\n"
     ]
    },
    {
     "name": "stdout",
     "output_type": "stream",
     "text": [
      "584 edges created.\n",
      "done. Topogram has been updated. Check it at http://localhost:3000/topograms/bsddAWRjPz54Lp9iN\n",
      "Creating topogram 'Ringo Starr/BETA_0.4  \n",
      "Distance totale parcourue par l'artiste: 174135.440105 km  \n",
      "Distance calculee par Concorde: 163267.332317 km  \n",
      "Pourcentage d'optimisation global calcule:624.1180877 %  \n",
      "MARGE D'OPTIMISATION IMPORTANTE'\n",
      "{u'status': u'success', 'status_code': 200, u'data': u'5ipYh76PJHWiRmJFs', u'statusCode': 201}\n",
      "Creating topogram 'Ringo Starr/BETA_0.4  \n",
      "Distance totale parcourue par l'artiste: 174135.440105 km  \n",
      "Distance calculee par Concorde: 163267.332317 km  \n",
      "Pourcentage d'optimisation global calcule:624.1180877 %  \n",
      "MARGE D'OPTIMISATION IMPORTANTE'\n",
      "> Topogram already exists\n",
      "{u'status': u'success', 'status_code': 200, u'data': {u'sharedPublic': False, u'title': u\"Ringo Starr/BETA_0.4  \\nDistance totale parcourue par l'artiste: 174135.440105 km  \\nDistance calculee par Concorde: 163267.332317 km  \\nPourcentage d'optimisation global calcule:624.1180877 %  \\nMARGE D'OPTIMISATION IMPORTANTE\", u'userId': u'BxRn4kp4WFL92jW8g', u'_id': u'5ipYh76PJHWiRmJFs', u'slug': u'ringo-starrbeta_04-distance-totale-parcourue-par-lartiste-174135440105-km-distance-calculee-par-concorde-163267332317-km-pourcentage-doptimisation-global-calcule6241180877-marge-doptimisation-importante', u'createdAt': u'2018-05-24T15:16:40.762Z'}, u'statusCode': 200}\n",
      "topogram ID : 5ipYh76PJHWiRmJFs\n",
      "206 nodes created.\n",
      "255 edges created.\n",
      "done. Topogram has been updated. Check it at http://localhost:3000/topograms/5ipYh76PJHWiRmJFs\n",
      "Creating topogram 'Michael Mayer/BETA_0.4  \n",
      "Distance totale parcourue par l'artiste: 341459.328996 km  \n",
      "Distance calculee par Concorde: 291293.054092 km  \n",
      "Pourcentage d'optimisation global calcule:1469.17277241 %  \n",
      "MARGE D'OPTIMISATION IMPORTANTE'\n"
     ]
    },
    {
     "name": "stderr",
     "output_type": "stream",
     "text": [
      "ERROR:topogram-client:500 - Error : A topogram with the same name already exists\n"
     ]
    },
    {
     "name": "stdout",
     "output_type": "stream",
     "text": [
      "{u'status': u'success', 'status_code': 200, u'data': u'ws5CxLiHctybxxtpq', u'statusCode': 201}\n",
      "Creating topogram 'Michael Mayer/BETA_0.4  \n",
      "Distance totale parcourue par l'artiste: 341459.328996 km  \n",
      "Distance calculee par Concorde: 291293.054092 km  \n",
      "Pourcentage d'optimisation global calcule:1469.17277241 %  \n",
      "MARGE D'OPTIMISATION IMPORTANTE'\n",
      "> Topogram already exists\n",
      "{u'status': u'success', 'status_code': 200, u'data': {u'sharedPublic': False, u'title': u\"Michael Mayer/BETA_0.4  \\nDistance totale parcourue par l'artiste: 341459.328996 km  \\nDistance calculee par Concorde: 291293.054092 km  \\nPourcentage d'optimisation global calcule:1469.17277241 %  \\nMARGE D'OPTIMISATION IMPORTANTE\", u'userId': u'BxRn4kp4WFL92jW8g', u'_id': u'ws5CxLiHctybxxtpq', u'slug': u'michael-mayerbeta_04-distance-totale-parcourue-par-lartiste-341459328996-km-distance-calculee-par-concorde-291293054092-km-pourcentage-doptimisation-global-calcule146917277241-marge-doptimisation-importante', u'createdAt': u'2018-05-24T15:16:41.685Z'}, u'statusCode': 200}\n",
      "topogram ID : ws5CxLiHctybxxtpq\n",
      "136 nodes created.\n",
      "164 edges created.\n",
      "done. Topogram has been updated. Check it at http://localhost:3000/topograms/ws5CxLiHctybxxtpq\n",
      "Creating topogram 'PIKA/BETA_0.4  \n",
      "Distance totale parcourue par l'artiste: 189591.986295 km  \n",
      "Distance calculee par Concorde: 148698.455364 km  \n",
      "Pourcentage d'optimisation global calcule:2156.9229655 %  \n",
      "MARGE D'OPTIMISATION IMPORTANTE'\n",
      "{u'status': u'success', 'status_code': 200, u'data': u'MFykS96n3iTokt9pm', u'statusCode': 201}\n",
      "Creating topogram 'PIKA/BETA_0.4  \n",
      "Distance totale parcourue par l'artiste: 189591.986295 km  \n",
      "Distance calculee par Concorde: 148698.455364 km  \n",
      "Pourcentage d'optimisation global calcule:2156.9229655 %  \n",
      "MARGE D'OPTIMISATION IMPORTANTE'\n"
     ]
    },
    {
     "name": "stderr",
     "output_type": "stream",
     "text": [
      "ERROR:topogram-client:500 - Error : A topogram with the same name already exists\n"
     ]
    },
    {
     "name": "stdout",
     "output_type": "stream",
     "text": [
      "> Topogram already exists\n",
      "{u'status': u'success', 'status_code': 200, u'data': {u'sharedPublic': False, u'title': u\"PIKA/BETA_0.4  \\nDistance totale parcourue par l'artiste: 189591.986295 km  \\nDistance calculee par Concorde: 148698.455364 km  \\nPourcentage d'optimisation global calcule:2156.9229655 %  \\nMARGE D'OPTIMISATION IMPORTANTE\", u'userId': u'BxRn4kp4WFL92jW8g', u'_id': u'MFykS96n3iTokt9pm', u'slug': u'pikabeta_04-distance-totale-parcourue-par-lartiste-189591986295-km-distance-calculee-par-concorde-148698455364-km-pourcentage-doptimisation-global-calcule21569229655-marge-doptimisation-importante', u'createdAt': u'2018-05-24T15:16:42.423Z'}, u'statusCode': 200}\n",
      "topogram ID : MFykS96n3iTokt9pm\n"
     ]
    },
    {
     "name": "stderr",
     "output_type": "stream",
     "text": [
      "ERROR:topogram-client:500 - Error : A topogram with the same name already exists\n"
     ]
    },
    {
     "name": "stdout",
     "output_type": "stream",
     "text": [
      "65 nodes created.\n",
      "71 edges created.\n",
      "done. Topogram has been updated. Check it at http://localhost:3000/topograms/MFykS96n3iTokt9pm\n",
      "Creating topogram 'Jaybee/BETA_0.4  \n",
      "Distance totale parcourue par l'artiste: 130382.562367 km  \n",
      "Distance calculee par Concorde: 57353.6893187 km  \n",
      "Pourcentage d'optimisation global calcule:5601.12270556 %  \n",
      "MARGE D'OPTIMISATION IMPORTANTE'\n",
      "{u'status': u'success', 'status_code': 200, u'data': u'RPgfnvCat5SSZvNsC', u'statusCode': 201}\n",
      "Creating topogram 'Jaybee/BETA_0.4  \n",
      "Distance totale parcourue par l'artiste: 130382.562367 km  \n",
      "Distance calculee par Concorde: 57353.6893187 km  \n",
      "Pourcentage d'optimisation global calcule:5601.12270556 %  \n",
      "MARGE D'OPTIMISATION IMPORTANTE'\n",
      "> Topogram already exists\n",
      "{u'status': u'success', 'status_code': 200, u'data': {u'sharedPublic': False, u'title': u\"Jaybee/BETA_0.4  \\nDistance totale parcourue par l'artiste: 130382.562367 km  \\nDistance calculee par Concorde: 57353.6893187 km  \\nPourcentage d'optimisation global calcule:5601.12270556 %  \\nMARGE D'OPTIMISATION IMPORTANTE\", u'userId': u'BxRn4kp4WFL92jW8g', u'_id': u'RPgfnvCat5SSZvNsC', u'slug': u'jaybeebeta_04-distance-totale-parcourue-par-lartiste-130382562367-km-distance-calculee-par-concorde-573536893187-km-pourcentage-doptimisation-global-calcule560112270556-marge-doptimisation-importante', u'createdAt': u'2018-05-24T15:16:42.996Z'}, u'statusCode': 200}\n",
      "topogram ID : RPgfnvCat5SSZvNsC\n",
      "11 nodes created.\n"
     ]
    },
    {
     "name": "stderr",
     "output_type": "stream",
     "text": [
      "ERROR:topogram-client:500 - Error : A topogram with the same name already exists\n"
     ]
    },
    {
     "name": "stdout",
     "output_type": "stream",
     "text": [
      "81 edges created.\n",
      "done. Topogram has been updated. Check it at http://localhost:3000/topograms/RPgfnvCat5SSZvNsC\n",
      "Creating topogram 'Billy/BETA_0.4  \n",
      "Distance totale parcourue par l'artiste: 135698.712007 km  \n",
      "Distance calculee par Concorde: 93622.4782585 km  \n",
      "Pourcentage d'optimisation global calcule:3100.70988339 %  \n",
      "MARGE D'OPTIMISATION IMPORTANTE'\n",
      "{u'status': u'success', 'status_code': 200, u'data': u'88mRp8CyyBu7NQmCc', u'statusCode': 201}\n",
      "Creating topogram 'Billy/BETA_0.4  \n",
      "Distance totale parcourue par l'artiste: 135698.712007 km  \n",
      "Distance calculee par Concorde: 93622.4782585 km  \n",
      "Pourcentage d'optimisation global calcule:3100.70988339 %  \n",
      "MARGE D'OPTIMISATION IMPORTANTE'\n",
      "> Topogram already exists\n",
      "{u'status': u'success', 'status_code': 200, u'data': {u'sharedPublic': False, u'title': u\"Billy/BETA_0.4  \\nDistance totale parcourue par l'artiste: 135698.712007 km  \\nDistance calculee par Concorde: 93622.4782585 km  \\nPourcentage d'optimisation global calcule:3100.70988339 %  \\nMARGE D'OPTIMISATION IMPORTANTE\", u'userId': u'BxRn4kp4WFL92jW8g', u'_id': u'88mRp8CyyBu7NQmCc', u'slug': u'billybeta_04-distance-totale-parcourue-par-lartiste-135698712007-km-distance-calculee-par-concorde-936224782585-km-pourcentage-doptimisation-global-calcule310070988339-marge-doptimisation-importante', u'createdAt': u'2018-05-24T15:16:43.381Z'}, u'statusCode': 200}\n",
      "topogram ID : 88mRp8CyyBu7NQmCc\n",
      "32 nodes created.\n",
      "83 edges created.\n",
      "done. Topogram has been updated. Check it at http://localhost:3000/topograms/88mRp8CyyBu7NQmCc\n",
      "Creating topogram 'Tiësto/BETA_0.4  \n",
      "Distance totale parcourue par l'artiste: 1780114.64172 km  \n",
      "Distance calculee par Concorde: 1178043.54483 km  \n",
      "Pourcentage d'optimisation global calcule:3382.20406024 %  \n",
      "MARGE D'OPTIMISATION IMPORTANTE'\n",
      "{u'status': u'success', 'status_code': 200, u'data': u'Y5MMqbfBhPfucGzEj', u'statusCode': 201}\n",
      "Creating topogram 'Tiësto/BETA_0.4  \n",
      "Distance totale parcourue par l'artiste: 1780114.64172 km  \n",
      "Distance calculee par Concorde: 1178043.54483 km  \n",
      "Pourcentage d'optimisation global calcule:3382.20406024 %  \n",
      "MARGE D'OPTIMISATION IMPORTANTE'\n"
     ]
    },
    {
     "name": "stderr",
     "output_type": "stream",
     "text": [
      "ERROR:topogram-client:500 - Error : A topogram with the same name already exists\n"
     ]
    },
    {
     "name": "stdout",
     "output_type": "stream",
     "text": [
      "> Topogram already exists\n",
      "{u'status': u'success', 'status_code': 200, u'data': {u'sharedPublic': False, u'title': u\"Ti\\xebsto/BETA_0.4  \\nDistance totale parcourue par l'artiste: 1780114.64172 km  \\nDistance calculee par Concorde: 1178043.54483 km  \\nPourcentage d'optimisation global calcule:3382.20406024 %  \\nMARGE D'OPTIMISATION IMPORTANTE\", u'userId': u'BxRn4kp4WFL92jW8g', u'_id': u'Y5MMqbfBhPfucGzEj', u'slug': u'tistobeta_04-distance-totale-parcourue-par-lartiste-178011464172-km-distance-calculee-par-concorde-117804354483-km-pourcentage-doptimisation-global-calcule338220406024-marge-doptimisation-importante', u'createdAt': u'2018-05-24T15:16:43.893Z'}, u'statusCode': 200}\n",
      "topogram ID : Y5MMqbfBhPfucGzEj\n",
      "477 nodes created.\n"
     ]
    },
    {
     "name": "stderr",
     "output_type": "stream",
     "text": [
      "ERROR:topogram-client:500 - Error : A topogram with the same name already exists\n"
     ]
    },
    {
     "name": "stdout",
     "output_type": "stream",
     "text": [
      "869 edges created.\n",
      "done. Topogram has been updated. Check it at http://localhost:3000/topograms/Y5MMqbfBhPfucGzEj\n",
      "Creating topogram 'Tiëstolive/BETA_0.4  \n",
      "Distance totale parcourue par l'artiste: 1278199.32597 km  \n",
      "Distance calculee par Concorde: 688387.401039 km  \n",
      "Pourcentage d'optimisation global calcule:4614.39708931 %  \n",
      "MARGE D'OPTIMISATION IMPORTANTE'\n",
      "{u'status': u'success', 'status_code': 200, u'data': u'rnF4zZTWZYsetWmye', u'statusCode': 201}\n",
      "Creating topogram 'Tiëstolive/BETA_0.4  \n",
      "Distance totale parcourue par l'artiste: 1278199.32597 km  \n",
      "Distance calculee par Concorde: 688387.401039 km  \n",
      "Pourcentage d'optimisation global calcule:4614.39708931 %  \n",
      "MARGE D'OPTIMISATION IMPORTANTE'\n",
      "> Topogram already exists\n",
      "{u'status': u'success', 'status_code': 200, u'data': {u'sharedPublic': False, u'title': u\"Ti\\xebstolive/BETA_0.4  \\nDistance totale parcourue par l'artiste: 1278199.32597 km  \\nDistance calculee par Concorde: 688387.401039 km  \\nPourcentage d'optimisation global calcule:4614.39708931 %  \\nMARGE D'OPTIMISATION IMPORTANTE\", u'userId': u'BxRn4kp4WFL92jW8g', u'_id': u'rnF4zZTWZYsetWmye', u'slug': u'tistolivebeta_04-distance-totale-parcourue-par-lartiste-127819932597-km-distance-calculee-par-concorde-688387401039-km-pourcentage-doptimisation-global-calcule461439708931-marge-doptimisation-importante', u'createdAt': u'2018-05-24T15:16:45.771Z'}, u'statusCode': 200}\n",
      "topogram ID : rnF4zZTWZYsetWmye\n",
      "269 nodes created.\n"
     ]
    },
    {
     "name": "stderr",
     "output_type": "stream",
     "text": [
      "ERROR:topogram-client:500 - Error : A topogram with the same name already exists\n"
     ]
    },
    {
     "name": "stdout",
     "output_type": "stream",
     "text": [
      "513 edges created.\n",
      "done. Topogram has been updated. Check it at http://localhost:3000/topograms/rnF4zZTWZYsetWmye\n",
      "Creating topogram 'Bruce Hornsby/BETA_0.4  \n",
      "Distance totale parcourue par l'artiste: 222089.782066 km  \n",
      "Distance calculee par Concorde: 197829.665697 km  \n",
      "Pourcentage d'optimisation global calcule:1092.35625983 %  \n",
      "MARGE D'OPTIMISATION IMPORTANTE'\n",
      "{u'status': u'success', 'status_code': 200, u'data': u'6Zq2vryW8gRywdztx', u'statusCode': 201}\n",
      "Creating topogram 'Bruce Hornsby/BETA_0.4  \n",
      "Distance totale parcourue par l'artiste: 222089.782066 km  \n",
      "Distance calculee par Concorde: 197829.665697 km  \n",
      "Pourcentage d'optimisation global calcule:1092.35625983 %  \n",
      "MARGE D'OPTIMISATION IMPORTANTE'\n",
      "> Topogram already exists\n",
      "{u'status': u'success', 'status_code': 200, u'data': {u'sharedPublic': False, u'title': u\"Bruce Hornsby/BETA_0.4  \\nDistance totale parcourue par l'artiste: 222089.782066 km  \\nDistance calculee par Concorde: 197829.665697 km  \\nPourcentage d'optimisation global calcule:1092.35625983 %  \\nMARGE D'OPTIMISATION IMPORTANTE\", u'userId': u'BxRn4kp4WFL92jW8g', u'_id': u'6Zq2vryW8gRywdztx', u'slug': u'bruce-hornsbybeta_04-distance-totale-parcourue-par-lartiste-222089782066-km-distance-calculee-par-concorde-197829665697-km-pourcentage-doptimisation-global-calcule109235625983-marge-doptimisation-importante', u'createdAt': u'2018-05-24T15:16:47.042Z'}, u'statusCode': 200}\n",
      "topogram ID : 6Zq2vryW8gRywdztx\n",
      "308 nodes created.\n",
      "364 edges created.\n",
      "done. Topogram has been updated. Check it at http://localhost:3000/topograms/6Zq2vryW8gRywdztx\n",
      "Creating topogram 'Wehbba/BETA_0.4  \n",
      "Distance totale parcourue par l'artiste: 239540.274821 km  \n",
      "Distance calculee par Concorde: 202385.896098 km  \n",
      "Pourcentage d'optimisation global calcule:1551.07022193 %  \n",
      "MARGE D'OPTIMISATION IMPORTANTE'\n"
     ]
    },
    {
     "name": "stderr",
     "output_type": "stream",
     "text": [
      "ERROR:topogram-client:500 - Error : A topogram with the same name already exists\n"
     ]
    },
    {
     "name": "stdout",
     "output_type": "stream",
     "text": [
      "{u'status': u'success', 'status_code': 200, u'data': u'EX5y5Mgbrj9fXS8M6', u'statusCode': 201}\n",
      "Creating topogram 'Wehbba/BETA_0.4  \n",
      "Distance totale parcourue par l'artiste: 239540.274821 km  \n",
      "Distance calculee par Concorde: 202385.896098 km  \n",
      "Pourcentage d'optimisation global calcule:1551.07022193 %  \n",
      "MARGE D'OPTIMISATION IMPORTANTE'\n",
      "> Topogram already exists\n",
      "{u'status': u'success', 'status_code': 200, u'data': {u'sharedPublic': False, u'title': u\"Wehbba/BETA_0.4  \\nDistance totale parcourue par l'artiste: 239540.274821 km  \\nDistance calculee par Concorde: 202385.896098 km  \\nPourcentage d'optimisation global calcule:1551.07022193 %  \\nMARGE D'OPTIMISATION IMPORTANTE\", u'userId': u'BxRn4kp4WFL92jW8g', u'_id': u'EX5y5Mgbrj9fXS8M6', u'slug': u'wehbbabeta_04-distance-totale-parcourue-par-lartiste-239540274821-km-distance-calculee-par-concorde-202385896098-km-pourcentage-doptimisation-global-calcule155107022193-marge-doptimisation-importante', u'createdAt': u'2018-05-24T15:16:48.221Z'}, u'statusCode': 200}\n",
      "topogram ID : EX5y5Mgbrj9fXS8M6\n"
     ]
    },
    {
     "name": "stderr",
     "output_type": "stream",
     "text": [
      "ERROR:topogram-client:500 - Error : A topogram with the same name already exists\n"
     ]
    },
    {
     "name": "stdout",
     "output_type": "stream",
     "text": [
      "74 nodes created.\n",
      "80 edges created.\n",
      "done. Topogram has been updated. Check it at http://localhost:3000/topograms/EX5y5Mgbrj9fXS8M6\n",
      "Creating topogram 'Lisa Mitchell/BETA_0.4  \n",
      "Distance totale parcourue par l'artiste: 204299.857349 km  \n",
      "Distance calculee par Concorde: 202815.11465 km  \n",
      "Pourcentage d'optimisation global calcule:72.6746811396 %  \n",
      "MARGE D'OPTIMISATION IMPORTANTE'\n",
      "{u'status': u'success', 'status_code': 200, u'data': u'g6qXzsbrt5sn2bARy', u'statusCode': 201}\n",
      "Creating topogram 'Lisa Mitchell/BETA_0.4  \n",
      "Distance totale parcourue par l'artiste: 204299.857349 km  \n",
      "Distance calculee par Concorde: 202815.11465 km  \n",
      "Pourcentage d'optimisation global calcule:72.6746811396 %  \n",
      "MARGE D'OPTIMISATION IMPORTANTE'\n",
      "> Topogram already exists\n",
      "{u'status': u'success', 'status_code': 200, u'data': {u'sharedPublic': False, u'title': u\"Lisa Mitchell/BETA_0.4  \\nDistance totale parcourue par l'artiste: 204299.857349 km  \\nDistance calculee par Concorde: 202815.11465 km  \\nPourcentage d'optimisation global calcule:72.6746811396 %  \\nMARGE D'OPTIMISATION IMPORTANTE\", u'userId': u'BxRn4kp4WFL92jW8g', u'_id': u'g6qXzsbrt5sn2bARy', u'slug': u'lisa-mitchellbeta_04-distance-totale-parcourue-par-lartiste-204299857349-km-distance-calculee-par-concorde-20281511465-km-pourcentage-doptimisation-global-calcule726746811396-marge-doptimisation-importante', u'createdAt': u'2018-05-24T15:16:48.773Z'}, u'statusCode': 200}\n",
      "topogram ID : g6qXzsbrt5sn2bARy\n"
     ]
    },
    {
     "name": "stderr",
     "output_type": "stream",
     "text": [
      "ERROR:topogram-client:500 - Error : A topogram with the same name already exists\n"
     ]
    },
    {
     "name": "stdout",
     "output_type": "stream",
     "text": [
      "128 nodes created.\n",
      "144 edges created.\n",
      "done. Topogram has been updated. Check it at http://localhost:3000/topograms/g6qXzsbrt5sn2bARy\n",
      "Creating topogram 'Julia/BETA_0.4  \n",
      "Distance totale parcourue par l'artiste: 130611.44157 km  \n",
      "Distance calculee par Concorde: 80345.2549532 km  \n",
      "Pourcentage d'optimisation global calcule:3848.52858316 %  \n",
      "MARGE D'OPTIMISATION IMPORTANTE'\n",
      "{u'status': u'success', 'status_code': 200, u'data': u'qeaCRFN5dAusQZMnQ', u'statusCode': 201}\n",
      "Creating topogram 'Julia/BETA_0.4  \n",
      "Distance totale parcourue par l'artiste: 130611.44157 km  \n",
      "Distance calculee par Concorde: 80345.2549532 km  \n",
      "Pourcentage d'optimisation global calcule:3848.52858316 %  \n",
      "MARGE D'OPTIMISATION IMPORTANTE'\n",
      "> Topogram already exists\n",
      "{u'status': u'success', 'status_code': 200, u'data': {u'sharedPublic': False, u'title': u\"Julia/BETA_0.4  \\nDistance totale parcourue par l'artiste: 130611.44157 km  \\nDistance calculee par Concorde: 80345.2549532 km  \\nPourcentage d'optimisation global calcule:3848.52858316 %  \\nMARGE D'OPTIMISATION IMPORTANTE\", u'userId': u'BxRn4kp4WFL92jW8g', u'_id': u'qeaCRFN5dAusQZMnQ', u'slug': u'juliabeta_04-distance-totale-parcourue-par-lartiste-13061144157-km-distance-calculee-par-concorde-803452549532-km-pourcentage-doptimisation-global-calcule384852858316-marge-doptimisation-importante', u'createdAt': u'2018-05-24T15:16:49.480Z'}, u'statusCode': 200}\n",
      "topogram ID : qeaCRFN5dAusQZMnQ\n"
     ]
    },
    {
     "name": "stderr",
     "output_type": "stream",
     "text": [
      "ERROR:topogram-client:500 - Error : A topogram with the same name already exists\n"
     ]
    },
    {
     "name": "stdout",
     "output_type": "stream",
     "text": [
      "34 nodes created.\n",
      "79 edges created.\n",
      "done. Topogram has been updated. Check it at http://localhost:3000/topograms/qeaCRFN5dAusQZMnQ\n",
      "Creating topogram 'RUMOURS/BETA_0.4  \n",
      "Distance totale parcourue par l'artiste: 81202.3873042 km  \n",
      "Distance calculee par Concorde: 75083.5697815 km  \n",
      "Pourcentage d'optimisation global calcule:753.526802093 %  \n",
      "MARGE D'OPTIMISATION IMPORTANTE'\n",
      "{u'status': u'success', 'status_code': 200, u'data': u'nykeZgv38GsJtbwQx', u'statusCode': 201}\n",
      "Creating topogram 'RUMOURS/BETA_0.4  \n",
      "Distance totale parcourue par l'artiste: 81202.3873042 km  \n",
      "Distance calculee par Concorde: 75083.5697815 km  \n",
      "Pourcentage d'optimisation global calcule:753.526802093 %  \n",
      "MARGE D'OPTIMISATION IMPORTANTE'\n",
      "> Topogram already exists\n",
      "{u'status': u'success', 'status_code': 200, u'data': {u'sharedPublic': False, u'title': u\"RUMOURS/BETA_0.4  \\nDistance totale parcourue par l'artiste: 81202.3873042 km  \\nDistance calculee par Concorde: 75083.5697815 km  \\nPourcentage d'optimisation global calcule:753.526802093 %  \\nMARGE D'OPTIMISATION IMPORTANTE\", u'userId': u'BxRn4kp4WFL92jW8g', u'_id': u'nykeZgv38GsJtbwQx', u'slug': u'rumoursbeta_04-distance-totale-parcourue-par-lartiste-812023873042-km-distance-calculee-par-concorde-750835697815-km-pourcentage-doptimisation-global-calcule753526802093-marge-doptimisation-importante', u'createdAt': u'2018-05-24T15:16:49.923Z'}, u'statusCode': 200}\n",
      "topogram ID : nykeZgv38GsJtbwQx\n"
     ]
    },
    {
     "name": "stderr",
     "output_type": "stream",
     "text": [
      "ERROR:topogram-client:500 - Error : A topogram with the same name already exists\n"
     ]
    },
    {
     "name": "stdout",
     "output_type": "stream",
     "text": [
      "35 nodes created.\n",
      "36 edges created.\n",
      "done. Topogram has been updated. Check it at http://localhost:3000/topograms/nykeZgv38GsJtbwQx\n",
      "Creating topogram 'DESCENDENTS/BETA_0.4  \n",
      "Distance totale parcourue par l'artiste: 65115.1088642 km  \n",
      "Distance calculee par Concorde: 60845.6204968 km  \n",
      "Pourcentage d'optimisation global calcule:655.683211146 %  \n",
      "MARGE D'OPTIMISATION IMPORTANTE'\n",
      "{u'status': u'success', 'status_code': 200, u'data': u'bdsgtJxH2ctnDBToG', u'statusCode': 201}\n",
      "Creating topogram 'DESCENDENTS/BETA_0.4  \n",
      "Distance totale parcourue par l'artiste: 65115.1088642 km  \n",
      "Distance calculee par Concorde: 60845.6204968 km  \n",
      "Pourcentage d'optimisation global calcule:655.683211146 %  \n",
      "MARGE D'OPTIMISATION IMPORTANTE'\n",
      "> Topogram already exists\n",
      "{u'status': u'success', 'status_code': 200, u'data': {u'sharedPublic': False, u'title': u\"DESCENDENTS/BETA_0.4  \\nDistance totale parcourue par l'artiste: 65115.1088642 km  \\nDistance calculee par Concorde: 60845.6204968 km  \\nPourcentage d'optimisation global calcule:655.683211146 %  \\nMARGE D'OPTIMISATION IMPORTANTE\", u'userId': u'BxRn4kp4WFL92jW8g', u'_id': u'bdsgtJxH2ctnDBToG', u'slug': u'descendentsbeta_04-distance-totale-parcourue-par-lartiste-651151088642-km-distance-calculee-par-concorde-608456204968-km-pourcentage-doptimisation-global-calcule655683211146-marge-doptimisation-importante', u'createdAt': u'2018-05-24T15:16:50.351Z'}, u'statusCode': 200}\n",
      "topogram ID : bdsgtJxH2ctnDBToG\n"
     ]
    },
    {
     "name": "stderr",
     "output_type": "stream",
     "text": [
      "ERROR:topogram-client:500 - Error : A topogram with the same name already exists\n"
     ]
    },
    {
     "name": "stdout",
     "output_type": "stream",
     "text": [
      "65 nodes created.\n",
      "76 edges created.\n",
      "done. Topogram has been updated. Check it at http://localhost:3000/topograms/bdsgtJxH2ctnDBToG\n",
      "Creating topogram 'Roxie's Rock n Roll Parking Lot/BETA_0.4  \n",
      "Distance totale parcourue par l'artiste: 322548.132148 km  \n",
      "Distance calculee par Concorde: 311969.807974 km  \n",
      "Pourcentage d'optimisation global calcule:327.961104719 %  \n",
      "MARGE D'OPTIMISATION IMPORTANTE'\n",
      "{u'status': u'success', 'status_code': 200, u'data': u'retrubtMinauZf3nK', u'statusCode': 201}\n",
      "Creating topogram 'Roxie's Rock n Roll Parking Lot/BETA_0.4  \n",
      "Distance totale parcourue par l'artiste: 322548.132148 km  \n",
      "Distance calculee par Concorde: 311969.807974 km  \n",
      "Pourcentage d'optimisation global calcule:327.961104719 %  \n",
      "MARGE D'OPTIMISATION IMPORTANTE'\n",
      "> Topogram already exists\n",
      "{u'status': u'success', 'status_code': 200, u'data': {u'sharedPublic': False, u'title': u\"Roxie's Rock n Roll Parking Lot/BETA_0.4  \\nDistance totale parcourue par l'artiste: 322548.132148 km  \\nDistance calculee par Concorde: 311969.807974 km  \\nPourcentage d'optimisation global calcule:327.961104719 %  \\nMARGE D'OPTIMISATION IMPORTANTE\", u'userId': u'BxRn4kp4WFL92jW8g', u'_id': u'retrubtMinauZf3nK', u'slug': u'roxies-rock-n-roll-parking-lotbeta_04-distance-totale-parcourue-par-lartiste-322548132148-km-distance-calculee-par-concorde-311969807974-km-pourcentage-doptimisation-global-calcule327961104719-marge-doptimisation-importante', u'createdAt': u'2018-05-24T15:16:50.877Z'}, u'statusCode': 200}\n",
      "topogram ID : retrubtMinauZf3nK\n",
      "357 nodes created.\n",
      "403 edges created.\n",
      "done. Topogram has been updated. Check it at http://localhost:3000/topograms/retrubtMinauZf3nK\n"
     ]
    },
    {
     "name": "stderr",
     "output_type": "stream",
     "text": [
      "ERROR:topogram-client:500 - Error : A topogram with the same name already exists\n"
     ]
    },
    {
     "name": "stdout",
     "output_type": "stream",
     "text": [
      "Creating topogram 'Seth Glier/BETA_0.4  \n",
      "Distance totale parcourue par l'artiste: 256739.479132 km  \n",
      "Distance calculee par Concorde: 187552.822196 km  \n",
      "Pourcentage d'optimisation global calcule:2694.81955677 %  \n",
      "MARGE D'OPTIMISATION IMPORTANTE'\n",
      "{u'status': u'success', 'status_code': 200, u'data': u'xruinf6wsycYfBg5L', u'statusCode': 201}\n",
      "Creating topogram 'Seth Glier/BETA_0.4  \n",
      "Distance totale parcourue par l'artiste: 256739.479132 km  \n",
      "Distance calculee par Concorde: 187552.822196 km  \n",
      "Pourcentage d'optimisation global calcule:2694.81955677 %  \n",
      "MARGE D'OPTIMISATION IMPORTANTE'\n",
      "> Topogram already exists\n",
      "{u'status': u'success', 'status_code': 200, u'data': {u'sharedPublic': False, u'title': u\"Seth Glier/BETA_0.4  \\nDistance totale parcourue par l'artiste: 256739.479132 km  \\nDistance calculee par Concorde: 187552.822196 km  \\nPourcentage d'optimisation global calcule:2694.81955677 %  \\nMARGE D'OPTIMISATION IMPORTANTE\", u'userId': u'BxRn4kp4WFL92jW8g', u'_id': u'xruinf6wsycYfBg5L', u'slug': u'seth-glierbeta_04-distance-totale-parcourue-par-lartiste-256739479132-km-distance-calculee-par-concorde-187552822196-km-pourcentage-doptimisation-global-calcule269481955677-marge-doptimisation-importante', u'createdAt': u'2018-05-24T15:16:52.364Z'}, u'statusCode': 200}\n",
      "topogram ID : xruinf6wsycYfBg5L\n",
      "275 nodes created.\n"
     ]
    },
    {
     "name": "stderr",
     "output_type": "stream",
     "text": [
      "ERROR:topogram-client:500 - Error : A topogram with the same name already exists\n"
     ]
    },
    {
     "name": "stdout",
     "output_type": "stream",
     "text": [
      "496 edges created.\n",
      "done. Topogram has been updated. Check it at http://localhost:3000/topograms/xruinf6wsycYfBg5L\n",
      "Creating topogram 'Mew/BETA_0.4  \n",
      "Distance totale parcourue par l'artiste: 165734.438401 km  \n",
      "Distance calculee par Concorde: 157156.642929 km  \n",
      "Pourcentage d'optimisation global calcule:517.562647526 %  \n",
      "MARGE D'OPTIMISATION IMPORTANTE'\n",
      "{u'status': u'success', 'status_code': 200, u'data': u'3ZAD2ms7MkRzEGNLh', u'statusCode': 201}\n",
      "Creating topogram 'Mew/BETA_0.4  \n",
      "Distance totale parcourue par l'artiste: 165734.438401 km  \n",
      "Distance calculee par Concorde: 157156.642929 km  \n",
      "Pourcentage d'optimisation global calcule:517.562647526 %  \n",
      "MARGE D'OPTIMISATION IMPORTANTE'\n",
      "> Topogram already exists\n",
      "{u'status': u'success', 'status_code': 200, u'data': {u'sharedPublic': False, u'title': u\"Mew/BETA_0.4  \\nDistance totale parcourue par l'artiste: 165734.438401 km  \\nDistance calculee par Concorde: 157156.642929 km  \\nPourcentage d'optimisation global calcule:517.562647526 %  \\nMARGE D'OPTIMISATION IMPORTANTE\", u'userId': u'BxRn4kp4WFL92jW8g', u'_id': u'3ZAD2ms7MkRzEGNLh', u'slug': u'mewbeta_04-distance-totale-parcourue-par-lartiste-165734438401-km-distance-calculee-par-concorde-157156642929-km-pourcentage-doptimisation-global-calcule517562647526-marge-doptimisation-importante', u'createdAt': u'2018-05-24T15:16:53.635Z'}, u'statusCode': 200}\n",
      "topogram ID : 3ZAD2ms7MkRzEGNLh\n",
      "126 nodes created.\n",
      "144 edges created.\n",
      "done. Topogram has been updated. Check it at http://localhost:3000/topograms/3ZAD2ms7MkRzEGNLh\n",
      "Creating topogram 'LABRINTH/BETA_0.4  \n",
      "Distance totale parcourue par l'artiste: 132660.446095 km  \n",
      "Distance calculee par Concorde: 139896.192597 km  \n",
      "Pourcentage d'optimisation global calcule:-545.433602522 %  \n",
      "TOURNEE DEJA OPTIMISEE'\n",
      "{u'status': u'success', 'status_code': 200, u'data': u'BmXehWEXFJr2BWNgy', u'statusCode': 201}\n",
      "Creating topogram 'LABRINTH/BETA_0.4  \n",
      "Distance totale parcourue par l'artiste: 132660.446095 km  \n",
      "Distance calculee par Concorde: 139896.192597 km  \n",
      "Pourcentage d'optimisation global calcule:-545.433602522 %  \n",
      "TOURNEE DEJA OPTIMISEE'\n"
     ]
    },
    {
     "name": "stderr",
     "output_type": "stream",
     "text": [
      "ERROR:topogram-client:500 - Error : A topogram with the same name already exists\n"
     ]
    },
    {
     "name": "stdout",
     "output_type": "stream",
     "text": [
      "> Topogram already exists\n",
      "{u'status': u'success', 'status_code': 200, u'data': {u'sharedPublic': False, u'title': u\"LABRINTH/BETA_0.4  \\nDistance totale parcourue par l'artiste: 132660.446095 km  \\nDistance calculee par Concorde: 139896.192597 km  \\nPourcentage d'optimisation global calcule:-545.433602522 %  \\nTOURNEE DEJA OPTIMISEE\", u'userId': u'BxRn4kp4WFL92jW8g', u'_id': u'BmXehWEXFJr2BWNgy', u'slug': u'labrinthbeta_04-distance-totale-parcourue-par-lartiste-132660446095-km-distance-calculee-par-concorde-139896192597-km-pourcentage-doptimisation-global-calcule-545433602522-tournee-deja-optimisee', u'createdAt': u'2018-05-24T15:16:54.289Z'}, u'statusCode': 200}\n",
      "topogram ID : BmXehWEXFJr2BWNgy\n"
     ]
    },
    {
     "name": "stderr",
     "output_type": "stream",
     "text": [
      "ERROR:topogram-client:500 - Error : A topogram with the same name already exists\n"
     ]
    },
    {
     "name": "stdout",
     "output_type": "stream",
     "text": [
      "64 nodes created.\n",
      "79 edges created.\n",
      "done. Topogram has been updated. Check it at http://localhost:3000/topograms/BmXehWEXFJr2BWNgy\n",
      "Creating topogram 'Ronnie Baker Brooks/BETA_0.4  \n",
      "Distance totale parcourue par l'artiste: 163921.815006 km  \n",
      "Distance calculee par Concorde: 142719.644716 km  \n",
      "Pourcentage d'optimisation global calcule:1293.43188942 %  \n",
      "MARGE D'OPTIMISATION IMPORTANTE'\n",
      "{u'status': u'success', 'status_code': 200, u'data': u'BcZT9oTwYCNjRtEge', u'statusCode': 201}\n",
      "Creating topogram 'Ronnie Baker Brooks/BETA_0.4  \n",
      "Distance totale parcourue par l'artiste: 163921.815006 km  \n",
      "Distance calculee par Concorde: 142719.644716 km  \n",
      "Pourcentage d'optimisation global calcule:1293.43188942 %  \n",
      "MARGE D'OPTIMISATION IMPORTANTE'\n",
      "> Topogram already exists\n",
      "{u'status': u'success', 'status_code': 200, u'data': {u'sharedPublic': False, u'title': u\"Ronnie Baker Brooks/BETA_0.4  \\nDistance totale parcourue par l'artiste: 163921.815006 km  \\nDistance calculee par Concorde: 142719.644716 km  \\nPourcentage d'optimisation global calcule:1293.43188942 %  \\nMARGE D'OPTIMISATION IMPORTANTE\", u'userId': u'BxRn4kp4WFL92jW8g', u'_id': u'BcZT9oTwYCNjRtEge', u'slug': u'ronnie-baker-brooksbeta_04-distance-totale-parcourue-par-lartiste-163921815006-km-distance-calculee-par-concorde-142719644716-km-pourcentage-doptimisation-global-calcule129343188942-marge-doptimisation-importante', u'createdAt': u'2018-05-24T15:16:54.830Z'}, u'statusCode': 200}\n",
      "topogram ID : BcZT9oTwYCNjRtEge\n",
      "180 nodes created.\n",
      "293 edges created.\n",
      "done. Topogram has been updated. Check it at http://localhost:3000/topograms/BcZT9oTwYCNjRtEge\n",
      "Creating topogram 'Lee Ritenour/BETA_0.4  \n",
      "Distance totale parcourue par l'artiste: 190081.698051 km  \n",
      "Distance calculee par Concorde: 222272.335423 km  \n",
      "Pourcentage d'optimisation global calcule:-1693.51587775 %  \n",
      "TOURNEE DEJA OPTIMISEE'\n",
      "{u'status': u'success', 'status_code': 200, u'data': u'JeXqSsxb5BrQoKeXC', u'statusCode': 201}\n",
      "Creating topogram 'Lee Ritenour/BETA_0.4  \n",
      "Distance totale parcourue par l'artiste: 190081.698051 km  \n",
      "Distance calculee par Concorde: 222272.335423 km  \n",
      "Pourcentage d'optimisation global calcule:-1693.51587775 %  \n",
      "TOURNEE DEJA OPTIMISEE'\n"
     ]
    },
    {
     "name": "stderr",
     "output_type": "stream",
     "text": [
      "ERROR:topogram-client:500 - Error : A topogram with the same name already exists\n"
     ]
    },
    {
     "name": "stdout",
     "output_type": "stream",
     "text": [
      "> Topogram already exists\n",
      "{u'status': u'success', 'status_code': 200, u'data': {u'sharedPublic': False, u'title': u\"Lee Ritenour/BETA_0.4  \\nDistance totale parcourue par l'artiste: 190081.698051 km  \\nDistance calculee par Concorde: 222272.335423 km  \\nPourcentage d'optimisation global calcule:-1693.51587775 %  \\nTOURNEE DEJA OPTIMISEE\", u'userId': u'BxRn4kp4WFL92jW8g', u'_id': u'JeXqSsxb5BrQoKeXC', u'slug': u'lee-ritenourbeta_04-distance-totale-parcourue-par-lartiste-190081698051-km-distance-calculee-par-concorde-222272335423-km-pourcentage-doptimisation-global-calcule-169351587775-tournee-deja-optimisee', u'createdAt': u'2018-05-24T15:16:55.681Z'}, u'statusCode': 200}\n",
      "topogram ID : JeXqSsxb5BrQoKeXC\n"
     ]
    },
    {
     "name": "stderr",
     "output_type": "stream",
     "text": [
      "ERROR:topogram-client:500 - Error : A topogram with the same name already exists\n"
     ]
    },
    {
     "name": "stdout",
     "output_type": "stream",
     "text": [
      "101 nodes created.\n",
      "227 edges created.\n",
      "done. Topogram has been updated. Check it at http://localhost:3000/topograms/JeXqSsxb5BrQoKeXC\n",
      "Creating topogram 'Unearth/BETA_0.4  \n",
      "Distance totale parcourue par l'artiste: 563929.180685 km  \n",
      "Distance calculee par Concorde: 529138.233919 km  \n",
      "Pourcentage d'optimisation global calcule:616.938224833 %  \n",
      "MARGE D'OPTIMISATION IMPORTANTE'\n",
      "{u'status': u'success', 'status_code': 200, u'data': u'6EEG4MGg7EYqQcWRw', u'statusCode': 201}\n",
      "Creating topogram 'Unearth/BETA_0.4  \n",
      "Distance totale parcourue par l'artiste: 563929.180685 km  \n",
      "Distance calculee par Concorde: 529138.233919 km  \n",
      "Pourcentage d'optimisation global calcule:616.938224833 %  \n",
      "MARGE D'OPTIMISATION IMPORTANTE'\n",
      "> Topogram already exists\n",
      "{u'status': u'success', 'status_code': 200, u'data': {u'sharedPublic': False, u'title': u\"Unearth/BETA_0.4  \\nDistance totale parcourue par l'artiste: 563929.180685 km  \\nDistance calculee par Concorde: 529138.233919 km  \\nPourcentage d'optimisation global calcule:616.938224833 %  \\nMARGE D'OPTIMISATION IMPORTANTE\", u'userId': u'BxRn4kp4WFL92jW8g', u'_id': u'6EEG4MGg7EYqQcWRw', u'slug': u'unearthbeta_04-distance-totale-parcourue-par-lartiste-563929180685-km-distance-calculee-par-concorde-529138233919-km-pourcentage-doptimisation-global-calcule616938224833-marge-doptimisation-importante', u'createdAt': u'2018-05-24T15:16:56.338Z'}, u'statusCode': 200}\n",
      "topogram ID : 6EEG4MGg7EYqQcWRw\n",
      "559 nodes created.\n"
     ]
    },
    {
     "name": "stderr",
     "output_type": "stream",
     "text": [
      "ERROR:topogram-client:500 - Error : A topogram with the same name already exists\n"
     ]
    },
    {
     "name": "stdout",
     "output_type": "stream",
     "text": [
      "680 edges created.\n",
      "done. Topogram has been updated. Check it at http://localhost:3000/topograms/6EEG4MGg7EYqQcWRw\n",
      "Creating topogram 'Kyle Hall/BETA_0.4  \n",
      "Distance totale parcourue par l'artiste: 140329.943117 km  \n",
      "Distance calculee par Concorde: 121403.403743 km  \n",
      "Pourcentage d'optimisation global calcule:1348.7170987 %  \n",
      "MARGE D'OPTIMISATION IMPORTANTE'\n",
      "{u'status': u'success', 'status_code': 200, u'data': u'HvtdZWw7aARq5dFQh', u'statusCode': 201}\n",
      "Creating topogram 'Kyle Hall/BETA_0.4  \n",
      "Distance totale parcourue par l'artiste: 140329.943117 km  \n",
      "Distance calculee par Concorde: 121403.403743 km  \n",
      "Pourcentage d'optimisation global calcule:1348.7170987 %  \n",
      "MARGE D'OPTIMISATION IMPORTANTE'\n",
      "> Topogram already exists\n",
      "{u'status': u'success', 'status_code': 200, u'data': {u'sharedPublic': False, u'title': u\"Kyle Hall/BETA_0.4  \\nDistance totale parcourue par l'artiste: 140329.943117 km  \\nDistance calculee par Concorde: 121403.403743 km  \\nPourcentage d'optimisation global calcule:1348.7170987 %  \\nMARGE D'OPTIMISATION IMPORTANTE\", u'userId': u'BxRn4kp4WFL92jW8g', u'_id': u'HvtdZWw7aARq5dFQh', u'slug': u'kyle-hallbeta_04-distance-totale-parcourue-par-lartiste-140329943117-km-distance-calculee-par-concorde-121403403743-km-pourcentage-doptimisation-global-calcule13487170987-marge-doptimisation-importante', u'createdAt': u'2018-05-24T15:16:58.267Z'}, u'statusCode': 200}\n",
      "topogram ID : HvtdZWw7aARq5dFQh\n"
     ]
    },
    {
     "name": "stderr",
     "output_type": "stream",
     "text": [
      "ERROR:topogram-client:500 - Error : A topogram with the same name already exists\n"
     ]
    },
    {
     "name": "stdout",
     "output_type": "stream",
     "text": [
      "59 nodes created.\n",
      "68 edges created.\n",
      "done. Topogram has been updated. Check it at http://localhost:3000/topograms/HvtdZWw7aARq5dFQh\n",
      "Creating topogram 'Kings/BETA_0.4  \n",
      "Distance totale parcourue par l'artiste: 318164.497981 km  \n",
      "Distance calculee par Concorde: 169909.811663 km  \n",
      "Pourcentage d'optimisation global calcule:4659.68664822 %  \n",
      "MARGE D'OPTIMISATION IMPORTANTE'\n",
      "{u'status': u'success', 'status_code': 200, u'data': u'gayLKHhzWNWHKu2Mh', u'statusCode': 201}\n",
      "Creating topogram 'Kings/BETA_0.4  \n",
      "Distance totale parcourue par l'artiste: 318164.497981 km  \n",
      "Distance calculee par Concorde: 169909.811663 km  \n",
      "Pourcentage d'optimisation global calcule:4659.68664822 %  \n",
      "MARGE D'OPTIMISATION IMPORTANTE'\n",
      "> Topogram already exists\n",
      "{u'status': u'success', 'status_code': 200, u'data': {u'sharedPublic': False, u'title': u\"Kings/BETA_0.4  \\nDistance totale parcourue par l'artiste: 318164.497981 km  \\nDistance calculee par Concorde: 169909.811663 km  \\nPourcentage d'optimisation global calcule:4659.68664822 %  \\nMARGE D'OPTIMISATION IMPORTANTE\", u'userId': u'BxRn4kp4WFL92jW8g', u'_id': u'gayLKHhzWNWHKu2Mh', u'slug': u'kingsbeta_04-distance-totale-parcourue-par-lartiste-318164497981-km-distance-calculee-par-concorde-169909811663-km-pourcentage-doptimisation-global-calcule465968664822-marge-doptimisation-importante', u'createdAt': u'2018-05-24T15:16:58.768Z'}, u'statusCode': 200}\n",
      "topogram ID : gayLKHhzWNWHKu2Mh\n"
     ]
    },
    {
     "name": "stderr",
     "output_type": "stream",
     "text": [
      "ERROR:topogram-client:500 - Error : A topogram with the same name already exists\n"
     ]
    },
    {
     "name": "stdout",
     "output_type": "stream",
     "text": [
      "44 nodes created.\n",
      "76 edges created.\n",
      "done. Topogram has been updated. Check it at http://localhost:3000/topograms/gayLKHhzWNWHKu2Mh\n",
      "Creating topogram 'Finnebassen/BETA_0.4  \n",
      "Distance totale parcourue par l'artiste: 236916.245173 km  \n",
      "Distance calculee par Concorde: 201715.553702 km  \n",
      "Pourcentage d'optimisation global calcule:1485.78631426 %  \n",
      "MARGE D'OPTIMISATION IMPORTANTE'\n",
      "{u'status': u'success', 'status_code': 200, u'data': u'PwLw3rST9M3sGFYKu', u'statusCode': 201}\n",
      "Creating topogram 'Finnebassen/BETA_0.4  \n",
      "Distance totale parcourue par l'artiste: 236916.245173 km  \n",
      "Distance calculee par Concorde: 201715.553702 km  \n",
      "Pourcentage d'optimisation global calcule:1485.78631426 %  \n",
      "MARGE D'OPTIMISATION IMPORTANTE'\n",
      "> Topogram already exists\n",
      "{u'status': u'success', 'status_code': 200, u'data': {u'sharedPublic': False, u'title': u\"Finnebassen/BETA_0.4  \\nDistance totale parcourue par l'artiste: 236916.245173 km  \\nDistance calculee par Concorde: 201715.553702 km  \\nPourcentage d'optimisation global calcule:1485.78631426 %  \\nMARGE D'OPTIMISATION IMPORTANTE\", u'userId': u'BxRn4kp4WFL92jW8g', u'_id': u'PwLw3rST9M3sGFYKu', u'slug': u'finnebassenbeta_04-distance-totale-parcourue-par-lartiste-236916245173-km-distance-calculee-par-concorde-201715553702-km-pourcentage-doptimisation-global-calcule148578631426-marge-doptimisation-importante', u'createdAt': u'2018-05-24T15:16:59.233Z'}, u'statusCode': 200}\n",
      "topogram ID : PwLw3rST9M3sGFYKu\n",
      "121 nodes created.\n",
      "147 edges created.\n",
      "done. Topogram has been updated. Check it at http://localhost:3000/topograms/PwLw3rST9M3sGFYKu\n",
      "Creating topogram 'Matador/BETA_0.4  \n",
      "Distance totale parcourue par l'artiste: 918836.439004 km  \n",
      "Distance calculee par Concorde: 463659.187877 km  \n",
      "Pourcentage d'optimisation global calcule:4953.84414249 %  \n",
      "MARGE D'OPTIMISATION IMPORTANTE'\n",
      "{u'status': u'success', 'status_code': 200, u'data': u'55PvdfujpBTaqni5k', u'statusCode': 201}\n",
      "Creating topogram 'Matador/BETA_0.4  \n",
      "Distance totale parcourue par l'artiste: 918836.439004 km  \n",
      "Distance calculee par Concorde: 463659.187877 km  \n",
      "Pourcentage d'optimisation global calcule:4953.84414249 %  \n",
      "MARGE D'OPTIMISATION IMPORTANTE'\n"
     ]
    },
    {
     "name": "stderr",
     "output_type": "stream",
     "text": [
      "ERROR:topogram-client:500 - Error : A topogram with the same name already exists\n"
     ]
    },
    {
     "name": "stdout",
     "output_type": "stream",
     "text": [
      "> Topogram already exists\n",
      "{u'status': u'success', 'status_code': 200, u'data': {u'sharedPublic': False, u'title': u\"Matador/BETA_0.4  \\nDistance totale parcourue par l'artiste: 918836.439004 km  \\nDistance calculee par Concorde: 463659.187877 km  \\nPourcentage d'optimisation global calcule:4953.84414249 %  \\nMARGE D'OPTIMISATION IMPORTANTE\", u'userId': u'BxRn4kp4WFL92jW8g', u'_id': u'55PvdfujpBTaqni5k', u'slug': u'matadorbeta_04-distance-totale-parcourue-par-lartiste-918836439004-km-distance-calculee-par-concorde-463659187877-km-pourcentage-doptimisation-global-calcule495384414249-marge-doptimisation-importante', u'createdAt': u'2018-05-24T15:16:59.900Z'}, u'statusCode': 200}\n",
      "topogram ID : 55PvdfujpBTaqni5k\n",
      "285 nodes created.\n",
      "331 edges created.\n",
      "done. Topogram has been updated. Check it at http://localhost:3000/topograms/55PvdfujpBTaqni5k\n",
      "Creating topogram 'Kesha/BETA_0.4  \n",
      "Distance totale parcourue par l'artiste: 224189.194952 km  \n",
      "Distance calculee par Concorde: 191253.874602 km  \n",
      "Pourcentage d'optimisation global calcule:1469.08598145 %  \n",
      "MARGE D'OPTIMISATION IMPORTANTE'\n"
     ]
    },
    {
     "name": "stderr",
     "output_type": "stream",
     "text": [
      "ERROR:topogram-client:500 - Error : A topogram with the same name already exists\n"
     ]
    },
    {
     "name": "stdout",
     "output_type": "stream",
     "text": [
      "{u'status': u'success', 'status_code': 200, u'data': u'nyknSK4isfcZoQjLn', u'statusCode': 201}\n",
      "Creating topogram 'Kesha/BETA_0.4  \n",
      "Distance totale parcourue par l'artiste: 224189.194952 km  \n",
      "Distance calculee par Concorde: 191253.874602 km  \n",
      "Pourcentage d'optimisation global calcule:1469.08598145 %  \n",
      "MARGE D'OPTIMISATION IMPORTANTE'\n",
      "> Topogram already exists\n",
      "{u'status': u'success', 'status_code': 200, u'data': {u'sharedPublic': False, u'title': u\"Kesha/BETA_0.4  \\nDistance totale parcourue par l'artiste: 224189.194952 km  \\nDistance calculee par Concorde: 191253.874602 km  \\nPourcentage d'optimisation global calcule:1469.08598145 %  \\nMARGE D'OPTIMISATION IMPORTANTE\", u'userId': u'BxRn4kp4WFL92jW8g', u'_id': u'nyknSK4isfcZoQjLn', u'slug': u'keshabeta_04-distance-totale-parcourue-par-lartiste-224189194952-km-distance-calculee-par-concorde-191253874602-km-pourcentage-doptimisation-global-calcule146908598145-marge-doptimisation-importante', u'createdAt': u'2018-05-24T15:17:01.052Z'}, u'statusCode': 200}\n",
      "topogram ID : nyknSK4isfcZoQjLn\n",
      "217 nodes created.\n",
      "243 edges created.\n",
      "done. Topogram has been updated. Check it at http://localhost:3000/topograms/nyknSK4isfcZoQjLn\n",
      "Creating topogram 'Tony Furtado/BETA_0.4  \n",
      "Distance totale parcourue par l'artiste: 335423.946843 km  \n",
      "Distance calculee par Concorde: 291645.503742 km  \n",
      "Pourcentage d'optimisation global calcule:1305.16749066 %  \n",
      "MARGE D'OPTIMISATION IMPORTANTE'\n",
      "{u'status': u'success', 'status_code': 200, u'data': u'eK4gKvJfr9xDEbDys', u'statusCode': 201}"
     ]
    },
    {
     "name": "stderr",
     "output_type": "stream",
     "text": [
      "ERROR:topogram-client:500 - Error : A topogram with the same name already exists\n"
     ]
    },
    {
     "name": "stdout",
     "output_type": "stream",
     "text": [
      "\n",
      "Creating topogram 'Tony Furtado/BETA_0.4  \n",
      "Distance totale parcourue par l'artiste: 335423.946843 km  \n",
      "Distance calculee par Concorde: 291645.503742 km  \n",
      "Pourcentage d'optimisation global calcule:1305.16749066 %  \n",
      "MARGE D'OPTIMISATION IMPORTANTE'\n",
      "> Topogram already exists\n",
      "{u'status': u'success', 'status_code': 200, u'data': {u'sharedPublic': False, u'title': u\"Tony Furtado/BETA_0.4  \\nDistance totale parcourue par l'artiste: 335423.946843 km  \\nDistance calculee par Concorde: 291645.503742 km  \\nPourcentage d'optimisation global calcule:1305.16749066 %  \\nMARGE D'OPTIMISATION IMPORTANTE\", u'userId': u'BxRn4kp4WFL92jW8g', u'_id': u'eK4gKvJfr9xDEbDys', u'slug': u'tony-furtadobeta_04-distance-totale-parcourue-par-lartiste-335423946843-km-distance-calculee-par-concorde-291645503742-km-pourcentage-doptimisation-global-calcule130516749066-marge-doptimisation-importante', u'createdAt': u'2018-05-24T15:17:01.956Z'}, u'statusCode': 200}\n",
      "topogram ID : eK4gKvJfr9xDEbDys\n",
      "390 nodes created.\n"
     ]
    },
    {
     "name": "stderr",
     "output_type": "stream",
     "text": [
      "ERROR:topogram-client:500 - Error : A topogram with the same name already exists\n"
     ]
    },
    {
     "name": "stdout",
     "output_type": "stream",
     "text": [
      "569 edges created.\n",
      "done. Topogram has been updated. Check it at http://localhost:3000/topograms/eK4gKvJfr9xDEbDys\n",
      "Creating topogram 'Pentatonix/BETA_0.4  \n",
      "Distance totale parcourue par l'artiste: 253580.000859 km  \n",
      "Distance calculee par Concorde: 241506.170585 km  \n",
      "Pourcentage d'optimisation global calcule:476.134956746 %  \n",
      "MARGE D'OPTIMISATION IMPORTANTE'\n",
      "{u'status': u'success', 'status_code': 200, u'data': u'd5og6X6KJF2MRBFvy', u'statusCode': 201}\n",
      "Creating topogram 'Pentatonix/BETA_0.4  \n",
      "Distance totale parcourue par l'artiste: 253580.000859 km  \n",
      "Distance calculee par Concorde: 241506.170585 km  \n",
      "Pourcentage d'optimisation global calcule:476.134956746 %  \n",
      "MARGE D'OPTIMISATION IMPORTANTE'\n",
      "> Topogram already exists\n",
      "{u'status': u'success', 'status_code': 200, u'data': {u'sharedPublic': False, u'title': u\"Pentatonix/BETA_0.4  \\nDistance totale parcourue par l'artiste: 253580.000859 km  \\nDistance calculee par Concorde: 241506.170585 km  \\nPourcentage d'optimisation global calcule:476.134956746 %  \\nMARGE D'OPTIMISATION IMPORTANTE\", u'userId': u'BxRn4kp4WFL92jW8g', u'_id': u'd5og6X6KJF2MRBFvy', u'slug': u'pentatonixbeta_04-distance-totale-parcourue-par-lartiste-253580000859-km-distance-calculee-par-concorde-241506170585-km-pourcentage-doptimisation-global-calcule476134956746-marge-doptimisation-importante', u'createdAt': u'2018-05-24T15:17:03.462Z'}, u'statusCode': 200}\n",
      "topogram ID : d5og6X6KJF2MRBFvy\n",
      "252 nodes created.\n",
      "282 edges created.\n",
      "done. Topogram has been updated. Check it at http://localhost:3000/topograms/d5og6X6KJF2MRBFvy\n",
      "Creating topogram 'Kill the Buzz/BETA_0.4  \n",
      "Distance totale parcourue par l'artiste: 344260.697414 km  \n",
      "Distance calculee par Concorde: 254774.476382 km  \n",
      "Pourcentage d'optimisation global calcule:2599.37372183 %  \n",
      "MARGE D'OPTIMISATION IMPORTANTE'\n",
      "{u'status': u'success', 'status_code': 200, u'data': u'Zt4zSqrF7cLiExHNw', u'statusCode': 201}\n",
      "Creating topogram 'Kill the Buzz/BETA_0.4  \n",
      "Distance totale parcourue par l'artiste: 344260.697414 km  \n",
      "Distance calculee par Concorde: 254774.476382 km  \n",
      "Pourcentage d'optimisation global calcule:2599.37372183 %  \n",
      "MARGE D'OPTIMISATION IMPORTANTE'\n"
     ]
    },
    {
     "name": "stderr",
     "output_type": "stream",
     "text": [
      "ERROR:topogram-client:500 - Error : A topogram with the same name already exists\n"
     ]
    },
    {
     "name": "stdout",
     "output_type": "stream",
     "text": [
      "> Topogram already exists\n",
      "{u'status': u'success', 'status_code': 200, u'data': {u'sharedPublic': False, u'title': u\"Kill the Buzz/BETA_0.4  \\nDistance totale parcourue par l'artiste: 344260.697414 km  \\nDistance calculee par Concorde: 254774.476382 km  \\nPourcentage d'optimisation global calcule:2599.37372183 %  \\nMARGE D'OPTIMISATION IMPORTANTE\", u'userId': u'BxRn4kp4WFL92jW8g', u'_id': u'Zt4zSqrF7cLiExHNw', u'slug': u'kill-the-buzzbeta_04-distance-totale-parcourue-par-lartiste-344260697414-km-distance-calculee-par-concorde-254774476382-km-pourcentage-doptimisation-global-calcule259937372183-marge-doptimisation-importante', u'createdAt': u'2018-05-24T15:17:04.456Z'}, u'statusCode': 200}\n",
      "topogram ID : Zt4zSqrF7cLiExHNw\n"
     ]
    },
    {
     "name": "stderr",
     "output_type": "stream",
     "text": [
      "ERROR:topogram-client:500 - Error : A topogram with the same name already exists\n"
     ]
    },
    {
     "name": "stdout",
     "output_type": "stream",
     "text": [
      "97 nodes created.\n",
      "119 edges created.\n",
      "done. Topogram has been updated. Check it at http://localhost:3000/topograms/Zt4zSqrF7cLiExHNw\n",
      "Creating topogram 'Chase & Status/BETA_0.4  \n",
      "Distance totale parcourue par l'artiste: 679896.467517 km  \n",
      "Distance calculee par Concorde: 377043.292534 km  \n",
      "Pourcentage d'optimisation global calcule:4454.40136039 %  \n",
      "MARGE D'OPTIMISATION IMPORTANTE'\n",
      "{u'status': u'success', 'status_code': 200, u'data': u'FzNAwK8BxbbCAgtFS', u'statusCode': 201}\n",
      "Creating topogram 'Chase & Status/BETA_0.4  \n",
      "Distance totale parcourue par l'artiste: 679896.467517 km  \n",
      "Distance calculee par Concorde: 377043.292534 km  \n",
      "Pourcentage d'optimisation global calcule:4454.40136039 %  \n",
      "MARGE D'OPTIMISATION IMPORTANTE'\n",
      "> Topogram already exists\n",
      "{u'status': u'success', 'status_code': 200, u'data': {u'sharedPublic': False, u'title': u\"Chase & Status/BETA_0.4  \\nDistance totale parcourue par l'artiste: 679896.467517 km  \\nDistance calculee par Concorde: 377043.292534 km  \\nPourcentage d'optimisation global calcule:4454.40136039 %  \\nMARGE D'OPTIMISATION IMPORTANTE\", u'userId': u'BxRn4kp4WFL92jW8g', u'_id': u'FzNAwK8BxbbCAgtFS', u'slug': u'chase-statusbeta_04-distance-totale-parcourue-par-lartiste-679896467517-km-distance-calculee-par-concorde-377043292534-km-pourcentage-doptimisation-global-calcule445440136039-marge-doptimisation-importante', u'createdAt': u'2018-05-24T15:17:05.085Z'}, u'statusCode': 200}\n",
      "topogram ID : FzNAwK8BxbbCAgtFS\n",
      "320 nodes created.\n",
      "490 edges created.\n",
      "done. Topogram has been updated. Check it at http://localhost:3000/topograms/FzNAwK8BxbbCAgtFS\n",
      "Creating topogram 'MOONSHINE BANDITS/BETA_0.4  \n",
      "Distance totale parcourue par l'artiste: 217712.725316 km  \n",
      "Distance calculee par Concorde: 184220.913113 km  \n",
      "Pourcentage d'optimisation global calcule:1538.34885647 %  \n",
      "MARGE D'OPTIMISATION IMPORTANTE'\n"
     ]
    },
    {
     "name": "stderr",
     "output_type": "stream",
     "text": [
      "ERROR:topogram-client:500 - Error : A topogram with the same name already exists\n"
     ]
    },
    {
     "name": "stdout",
     "output_type": "stream",
     "text": [
      "{u'status': u'success', 'status_code': 200, u'data': u'KmufucLff79jScKNJ', u'statusCode': 201}\n",
      "Creating topogram 'MOONSHINE BANDITS/BETA_0.4  \n",
      "Distance totale parcourue par l'artiste: 217712.725316 km  \n",
      "Distance calculee par Concorde: 184220.913113 km  \n",
      "Pourcentage d'optimisation global calcule:1538.34885647 %  \n",
      "MARGE D'OPTIMISATION IMPORTANTE'\n",
      "> Topogram already exists\n",
      "{u'status': u'success', 'status_code': 200, u'data': {u'sharedPublic': False, u'title': u\"MOONSHINE BANDITS/BETA_0.4  \\nDistance totale parcourue par l'artiste: 217712.725316 km  \\nDistance calculee par Concorde: 184220.913113 km  \\nPourcentage d'optimisation global calcule:1538.34885647 %  \\nMARGE D'OPTIMISATION IMPORTANTE\", u'userId': u'BxRn4kp4WFL92jW8g', u'_id': u'KmufucLff79jScKNJ', u'slug': u'moonshine-banditsbeta_04-distance-totale-parcourue-par-lartiste-217712725316-km-distance-calculee-par-concorde-184220913113-km-pourcentage-doptimisation-global-calcule153834885647-marge-doptimisation-importante', u'createdAt': u'2018-05-24T15:17:06.285Z'}, u'statusCode': 200}\n",
      "topogram ID : KmufucLff79jScKNJ\n",
      "281 nodes created.\n",
      "345 edges created.\n",
      "done. Topogram has been updated. Check it at http://localhost:3000/topograms/KmufucLff79jScKNJ\n",
      "Creating topogram 'Example/BETA_0.4  \n",
      "Distance totale parcourue par l'artiste: 359874.515627 km  \n",
      "Distance calculee par Concorde: 193064.533752 km  \n",
      "Pourcentage d'optimisation global calcule:4635.2262978 %  \n",
      "MARGE D'OPTIMISATION IMPORTANTE'\n"
     ]
    },
    {
     "name": "stderr",
     "output_type": "stream",
     "text": [
      "ERROR:topogram-client:500 - Error : A topogram with the same name already exists\n"
     ]
    },
    {
     "name": "stdout",
     "output_type": "stream",
     "text": [
      "{u'status': u'success', 'status_code': 200, u'data': u'6mDDJLwh6EW64Hk8t', u'statusCode': 201}\n",
      "Creating topogram 'Example/BETA_0.4  \n",
      "Distance totale parcourue par l'artiste: 359874.515627 km  \n",
      "Distance calculee par Concorde: 193064.533752 km  \n",
      "Pourcentage d'optimisation global calcule:4635.2262978 %  \n",
      "MARGE D'OPTIMISATION IMPORTANTE'\n",
      "> Topogram already exists\n",
      "{u'status': u'success', 'status_code': 200, u'data': {u'sharedPublic': False, u'title': u\"Example/BETA_0.4  \\nDistance totale parcourue par l'artiste: 359874.515627 km  \\nDistance calculee par Concorde: 193064.533752 km  \\nPourcentage d'optimisation global calcule:4635.2262978 %  \\nMARGE D'OPTIMISATION IMPORTANTE\", u'userId': u'BxRn4kp4WFL92jW8g', u'_id': u'6mDDJLwh6EW64Hk8t', u'slug': u'examplebeta_04-distance-totale-parcourue-par-lartiste-359874515627-km-distance-calculee-par-concorde-193064533752-km-pourcentage-doptimisation-global-calcule46352262978-marge-doptimisation-importante', u'createdAt': u'2018-05-24T15:17:07.464Z'}, u'statusCode': 200}\n",
      "topogram ID : 6mDDJLwh6EW64Hk8t\n",
      "299 nodes created.\n",
      "407 edges created.\n",
      "done. Topogram has been updated. Check it at http://localhost:3000/topograms/6mDDJLwh6EW64Hk8t\n",
      "Creating topogram 'The Bright Light Social Hour/BETA_0.4  \n",
      "Distance totale parcourue par l'artiste: 184983.19437 km  \n",
      "Distance calculee par Concorde: 172898.775379 km  \n",
      "Pourcentage d'optimisation global calcule:653.2711813 %  \n",
      "MARGE D'OPTIMISATION IMPORTANTE'\n"
     ]
    },
    {
     "name": "stderr",
     "output_type": "stream",
     "text": [
      "ERROR:topogram-client:500 - Error : A topogram with the same name already exists\n"
     ]
    },
    {
     "name": "stdout",
     "output_type": "stream",
     "text": [
      "{u'status': u'success', 'status_code': 200, u'data': u'nfDrkXhs2AthmeYFa', u'statusCode': 201}\n",
      "Creating topogram 'The Bright Light Social Hour/BETA_0.4  \n",
      "Distance totale parcourue par l'artiste: 184983.19437 km  \n",
      "Distance calculee par Concorde: 172898.775379 km  \n",
      "Pourcentage d'optimisation global calcule:653.2711813 %  \n",
      "MARGE D'OPTIMISATION IMPORTANTE'\n",
      "> Topogram already exists\n",
      "{u'status': u'success', 'status_code': 200, u'data': {u'sharedPublic': False, u'title': u\"The Bright Light Social Hour/BETA_0.4  \\nDistance totale parcourue par l'artiste: 184983.19437 km  \\nDistance calculee par Concorde: 172898.775379 km  \\nPourcentage d'optimisation global calcule:653.2711813 %  \\nMARGE D'OPTIMISATION IMPORTANTE\", u'userId': u'BxRn4kp4WFL92jW8g', u'_id': u'nfDrkXhs2AthmeYFa', u'slug': u'the-bright-light-social-hourbeta_04-distance-totale-parcourue-par-lartiste-18498319437-km-distance-calculee-par-concorde-172898775379-km-pourcentage-doptimisation-global-calcule6532711813-marge-doptimisation-importante', u'createdAt': u'2018-05-24T15:17:08.596Z'}, u'statusCode': 200}\n",
      "topogram ID : nfDrkXhs2AthmeYFa\n",
      "321 nodes created.\n",
      "408 edges created.\n",
      "done. Topogram has been updated. Check it at http://localhost:3000/topograms/nfDrkXhs2AthmeYFa\n",
      "Creating topogram 'The Travelin' McCoury's/BETA_0.4  \n",
      "Distance totale parcourue par l'artiste: 214403.244044 km  \n",
      "Distance calculee par Concorde: 186452.590952 km  \n",
      "Pourcentage d'optimisation global calcule:1303.64879586 %  \n",
      "MARGE D'OPTIMISATION IMPORTANTE'\n"
     ]
    },
    {
     "name": "stderr",
     "output_type": "stream",
     "text": [
      "ERROR:topogram-client:500 - Error : A topogram with the same name already exists\n"
     ]
    },
    {
     "name": "stdout",
     "output_type": "stream",
     "text": [
      "{u'status': u'success', 'status_code': 200, u'data': u'sdfu65Z2zLYg6G64a', u'statusCode': 201}\n",
      "Creating topogram 'The Travelin' McCoury's/BETA_0.4  \n",
      "Distance totale parcourue par l'artiste: 214403.244044 km  \n",
      "Distance calculee par Concorde: 186452.590952 km  \n",
      "Pourcentage d'optimisation global calcule:1303.64879586 %  \n",
      "MARGE D'OPTIMISATION IMPORTANTE'\n",
      "> Topogram already exists\n",
      "{u'status': u'success', 'status_code': 200, u'data': {u'sharedPublic': False, u'title': u\"The Travelin' McCoury's/BETA_0.4  \\nDistance totale parcourue par l'artiste: 214403.244044 km  \\nDistance calculee par Concorde: 186452.590952 km  \\nPourcentage d'optimisation global calcule:1303.64879586 %  \\nMARGE D'OPTIMISATION IMPORTANTE\", u'userId': u'BxRn4kp4WFL92jW8g', u'_id': u'sdfu65Z2zLYg6G64a', u'slug': u'the-travelin-mccourysbeta_04-distance-totale-parcourue-par-lartiste-214403244044-km-distance-calculee-par-concorde-186452590952-km-pourcentage-doptimisation-global-calcule130364879586-marge-doptimisation-importante', u'createdAt': u'2018-05-24T15:17:09.823Z'}, u'statusCode': 200}\n",
      "topogram ID : sdfu65Z2zLYg6G64a\n",
      "230 nodes created.\n",
      "291 edges created.\n",
      "done. Topogram has been updated. Check it at http://localhost:3000/topograms/sdfu65Z2zLYg6G64a\n",
      "Creating topogram 'Jello Biafra/BETA_0.4  \n",
      "Distance totale parcourue par l'artiste: 38205.161728 km  \n",
      "Distance calculee par Concorde: 36786.0365325 km  \n",
      "Pourcentage d'optimisation global calcule:371.44855074 %  \n",
      "MARGE D'OPTIMISATION IMPORTANTE'\n",
      "{u'status': u'success', 'status_code': 200, u'data': u'ykMiuEoQJ4jWKDCPt', u'statusCode': 201}\n",
      "Creating topogram 'Jello Biafra/BETA_0.4  \n",
      "Distance totale parcourue par l'artiste: 38205.161728 km  \n",
      "Distance calculee par Concorde: 36786.0365325 km  \n",
      "Pourcentage d'optimisation global calcule:371.44855074 %  \n",
      "MARGE D'OPTIMISATION IMPORTANTE'\n"
     ]
    },
    {
     "name": "stderr",
     "output_type": "stream",
     "text": [
      "ERROR:topogram-client:500 - Error : A topogram with the same name already exists\n"
     ]
    },
    {
     "name": "stdout",
     "output_type": "stream",
     "text": [
      "> Topogram already exists\n",
      "{u'status': u'success', 'status_code': 200, u'data': {u'sharedPublic': False, u'title': u\"Jello Biafra/BETA_0.4  \\nDistance totale parcourue par l'artiste: 38205.161728 km  \\nDistance calculee par Concorde: 36786.0365325 km  \\nPourcentage d'optimisation global calcule:371.44855074 %  \\nMARGE D'OPTIMISATION IMPORTANTE\", u'userId': u'BxRn4kp4WFL92jW8g', u'_id': u'ykMiuEoQJ4jWKDCPt', u'slug': u'jello-biafrabeta_04-distance-totale-parcourue-par-lartiste-38205161728-km-distance-calculee-par-concorde-367860365325-km-pourcentage-doptimisation-global-calcule37144855074-marge-doptimisation-importante', u'createdAt': u'2018-05-24T15:17:11.043Z'}, u'statusCode': 200}\n",
      "topogram ID : ykMiuEoQJ4jWKDCPt\n"
     ]
    },
    {
     "name": "stderr",
     "output_type": "stream",
     "text": [
      "ERROR:topogram-client:500 - Error : A topogram with the same name already exists\n"
     ]
    },
    {
     "name": "stdout",
     "output_type": "stream",
     "text": [
      "63 nodes created.\n",
      "72 edges created.\n",
      "done. Topogram has been updated. Check it at http://localhost:3000/topograms/ykMiuEoQJ4jWKDCPt\n",
      "Creating topogram 'Diego el Cigala/BETA_0.4  \n",
      "Distance totale parcourue par l'artiste: 47848.353331 km  \n",
      "Distance calculee par Concorde: 53188.4378594 km  \n",
      "Pourcentage d'optimisation global calcule:-1116.04353267 %  \n",
      "TOURNEE DEJA OPTIMISEE'\n",
      "{u'status': u'success', 'status_code': 200, u'data': u'T4aTEvHbjhuBcYqDQ', u'statusCode': 201}\n",
      "Creating topogram 'Diego el Cigala/BETA_0.4  \n",
      "Distance totale parcourue par l'artiste: 47848.353331 km  \n",
      "Distance calculee par Concorde: 53188.4378594 km  \n",
      "Pourcentage d'optimisation global calcule:-1116.04353267 %  \n",
      "TOURNEE DEJA OPTIMISEE'\n",
      "> Topogram already exists\n",
      "{u'status': u'success', 'status_code': 200, u'data': {u'sharedPublic': False, u'title': u\"Diego el Cigala/BETA_0.4  \\nDistance totale parcourue par l'artiste: 47848.353331 km  \\nDistance calculee par Concorde: 53188.4378594 km  \\nPourcentage d'optimisation global calcule:-1116.04353267 %  \\nTOURNEE DEJA OPTIMISEE\", u'userId': u'BxRn4kp4WFL92jW8g', u'_id': u'T4aTEvHbjhuBcYqDQ', u'slug': u'diego-el-cigalabeta_04-distance-totale-parcourue-par-lartiste-47848353331-km-distance-calculee-par-concorde-531884378594-km-pourcentage-doptimisation-global-calcule-111604353267-tournee-deja-optimisee', u'createdAt': u'2018-05-24T15:17:11.591Z'}, u'statusCode': 200}\n",
      "topogram ID : T4aTEvHbjhuBcYqDQ\n"
     ]
    },
    {
     "name": "stderr",
     "output_type": "stream",
     "text": [
      "ERROR:topogram-client:500 - Error : A topogram with the same name already exists\n"
     ]
    },
    {
     "name": "stdout",
     "output_type": "stream",
     "text": [
      "33 nodes created.\n",
      "40 edges created.\n",
      "done. Topogram has been updated. Check it at http://localhost:3000/topograms/T4aTEvHbjhuBcYqDQ\n",
      "Creating topogram 'Blood on the Dance Floor/BETA_0.4  \n",
      "Distance totale parcourue par l'artiste: 264892.532152 km  \n",
      "Distance calculee par Concorde: 201820.307892 km  \n",
      "Pourcentage d'optimisation global calcule:2381.0495429 %  \n",
      "MARGE D'OPTIMISATION IMPORTANTE'\n",
      "{u'status': u'success', 'status_code': 200, u'data': u'zy6PuTZ7bCMtyz3po', u'statusCode': 201}\n",
      "Creating topogram 'Blood on the Dance Floor/BETA_0.4  \n",
      "Distance totale parcourue par l'artiste: 264892.532152 km  \n",
      "Distance calculee par Concorde: 201820.307892 km  \n",
      "Pourcentage d'optimisation global calcule:2381.0495429 %  \n",
      "MARGE D'OPTIMISATION IMPORTANTE'\n",
      "> Topogram already exists\n",
      "{u'status': u'success', 'status_code': 200, u'data': {u'sharedPublic': False, u'title': u\"Blood on the Dance Floor/BETA_0.4  \\nDistance totale parcourue par l'artiste: 264892.532152 km  \\nDistance calculee par Concorde: 201820.307892 km  \\nPourcentage d'optimisation global calcule:2381.0495429 %  \\nMARGE D'OPTIMISATION IMPORTANTE\", u'userId': u'BxRn4kp4WFL92jW8g', u'_id': u'zy6PuTZ7bCMtyz3po', u'slug': u'blood-on-the-dance-floorbeta_04-distance-totale-parcourue-par-lartiste-264892532152-km-distance-calculee-par-concorde-201820307892-km-pourcentage-doptimisation-global-calcule23810495429-marge-doptimisation-importante', u'createdAt': u'2018-05-24T15:17:12.073Z'}, u'statusCode': 200}\n",
      "topogram ID : zy6PuTZ7bCMtyz3po\n",
      "337 nodes created.\n",
      "460 edges created.\n",
      "done. Topogram has been updated. Check it at http://localhost:3000/topograms/zy6PuTZ7bCMtyz3po\n"
     ]
    },
    {
     "name": "stderr",
     "output_type": "stream",
     "text": [
      "ERROR:topogram-client:500 - Error : A topogram with the same name already exists\n"
     ]
    },
    {
     "name": "stdout",
     "output_type": "stream",
     "text": [
      "Creating topogram 'Glen Hansard/BETA_0.4  \n",
      "Distance totale parcourue par l'artiste: 232758.607731 km  \n",
      "Distance calculee par Concorde: 203996.486838 km  \n",
      "Pourcentage d'optimisation global calcule:1235.70600346 %  \n",
      "MARGE D'OPTIMISATION IMPORTANTE'\n",
      "{u'status': u'success', 'status_code': 200, u'data': u'DhdGS6aAxASD4ngvC', u'statusCode': 201}\n",
      "Creating topogram 'Glen Hansard/BETA_0.4  \n",
      "Distance totale parcourue par l'artiste: 232758.607731 km  \n",
      "Distance calculee par Concorde: 203996.486838 km  \n",
      "Pourcentage d'optimisation global calcule:1235.70600346 %  \n",
      "MARGE D'OPTIMISATION IMPORTANTE'\n",
      "> Topogram already exists\n",
      "{u'status': u'success', 'status_code': 200, u'data': {u'sharedPublic': False, u'title': u\"Glen Hansard/BETA_0.4  \\nDistance totale parcourue par l'artiste: 232758.607731 km  \\nDistance calculee par Concorde: 203996.486838 km  \\nPourcentage d'optimisation global calcule:1235.70600346 %  \\nMARGE D'OPTIMISATION IMPORTANTE\", u'userId': u'BxRn4kp4WFL92jW8g', u'_id': u'DhdGS6aAxASD4ngvC', u'slug': u'glen-hansardbeta_04-distance-totale-parcourue-par-lartiste-232758607731-km-distance-calculee-par-concorde-203996486838-km-pourcentage-doptimisation-global-calcule123570600346-marge-doptimisation-importante', u'createdAt': u'2018-05-24T15:17:13.359Z'}, u'statusCode': 200}\n",
      "topogram ID : DhdGS6aAxASD4ngvC\n",
      "218 nodes created.\n",
      "268 edges created.\n",
      "done. Topogram has been updated. Check it at http://localhost:3000/topograms/DhdGS6aAxASD4ngvC\n",
      "Creating topogram 'Michael Franti & Spearhead/BETA_0.4  \n",
      "Distance totale parcourue par l'artiste: 606049.193174 km  \n",
      "Distance calculee par Concorde: 470627.534398 km  \n",
      "Pourcentage d'optimisation global calcule:2234.49944825 %  \n",
      "MARGE D'OPTIMISATION IMPORTANTE'\n"
     ]
    },
    {
     "name": "stderr",
     "output_type": "stream",
     "text": [
      "ERROR:topogram-client:500 - Error : A topogram with the same name already exists\n"
     ]
    },
    {
     "name": "stdout",
     "output_type": "stream",
     "text": [
      "{u'status': u'success', 'status_code': 200, u'data': u'dh98ckWKp5bjy3dw6', u'statusCode': 201}\n",
      "Creating topogram 'Michael Franti & Spearhead/BETA_0.4  \n",
      "Distance totale parcourue par l'artiste: 606049.193174 km  \n",
      "Distance calculee par Concorde: 470627.534398 km  \n",
      "Pourcentage d'optimisation global calcule:2234.49944825 %  \n",
      "MARGE D'OPTIMISATION IMPORTANTE'\n",
      "> Topogram already exists\n",
      "{u'status': u'success', 'status_code': 200, u'data': {u'sharedPublic': False, u'title': u\"Michael Franti & Spearhead/BETA_0.4  \\nDistance totale parcourue par l'artiste: 606049.193174 km  \\nDistance calculee par Concorde: 470627.534398 km  \\nPourcentage d'optimisation global calcule:2234.49944825 %  \\nMARGE D'OPTIMISATION IMPORTANTE\", u'userId': u'BxRn4kp4WFL92jW8g', u'_id': u'dh98ckWKp5bjy3dw6', u'slug': u'michael-franti-spearheadbeta_04-distance-totale-parcourue-par-lartiste-606049193174-km-distance-calculee-par-concorde-470627534398-km-pourcentage-doptimisation-global-calcule223449944825-marge-doptimisation-importante', u'createdAt': u'2018-05-24T15:17:14.405Z'}, u'statusCode': 200}\n",
      "topogram ID : dh98ckWKp5bjy3dw6\n",
      "469 nodes created.\n"
     ]
    },
    {
     "name": "stderr",
     "output_type": "stream",
     "text": [
      "ERROR:topogram-client:500 - Error : A topogram with the same name already exists\n"
     ]
    },
    {
     "name": "stdout",
     "output_type": "stream",
     "text": [
      "636 edges created.\n",
      "done. Topogram has been updated. Check it at http://localhost:3000/topograms/dh98ckWKp5bjy3dw6\n",
      "Creating topogram 'Caravãna sun/BETA_0.4  \n",
      "Distance totale parcourue par l'artiste: 134250.09697 km  \n",
      "Distance calculee par Concorde: 111121.710687 km  \n",
      "Pourcentage d'optimisation global calcule:1722.78358117 %  \n",
      "MARGE D'OPTIMISATION IMPORTANTE'\n",
      "{u'status': u'success', 'status_code': 200, u'data': u'qFMzGwzavbnFx5bQg', u'statusCode': 201}\n",
      "Creating topogram 'Caravãna sun/BETA_0.4  \n",
      "Distance totale parcourue par l'artiste: 134250.09697 km  \n",
      "Distance calculee par Concorde: 111121.710687 km  \n",
      "Pourcentage d'optimisation global calcule:1722.78358117 %  \n",
      "MARGE D'OPTIMISATION IMPORTANTE'\n",
      "> Topogram already exists\n",
      "{u'status': u'success', 'status_code': 200, u'data': {u'sharedPublic': False, u'title': u\"Carav\\xe3na sun/BETA_0.4  \\nDistance totale parcourue par l'artiste: 134250.09697 km  \\nDistance calculee par Concorde: 111121.710687 km  \\nPourcentage d'optimisation global calcule:1722.78358117 %  \\nMARGE D'OPTIMISATION IMPORTANTE\", u'userId': u'BxRn4kp4WFL92jW8g', u'_id': u'qFMzGwzavbnFx5bQg', u'slug': u'caravna-sunbeta_04-distance-totale-parcourue-par-lartiste-13425009697-km-distance-calculee-par-concorde-111121710687-km-pourcentage-doptimisation-global-calcule172278358117-marge-doptimisation-importante', u'createdAt': u'2018-05-24T15:17:16.173Z'}, u'statusCode': 200}\n",
      "topogram ID : qFMzGwzavbnFx5bQg\n",
      "109 nodes created.\n",
      "218 edges created.\n",
      "done. Topogram has been updated. Check it at http://localhost:3000/topograms/qFMzGwzavbnFx5bQg\n",
      "Creating topogram 'Dj Anna/BETA_0.4  \n",
      "Distance totale parcourue par l'artiste: 787234.105608 km  \n",
      "Distance calculee par Concorde: 426705.633176 km  \n",
      "Pourcentage d'optimisation global calcule:4579.68563434 %  \n",
      "MARGE D'OPTIMISATION IMPORTANTE'\n",
      "{u'status': u'success', 'status_code': 200, u'data': u'eyvt4F8YHKzaEXr2K', u'statusCode': 201}\n",
      "Creating topogram 'Dj Anna/BETA_0.4  \n",
      "Distance totale parcourue par l'artiste: 787234.105608 km  \n",
      "Distance calculee par Concorde: 426705.633176 km  \n",
      "Pourcentage d'optimisation global calcule:4579.68563434 %  \n",
      "MARGE D'OPTIMISATION IMPORTANTE'\n"
     ]
    },
    {
     "name": "stderr",
     "output_type": "stream",
     "text": [
      "ERROR:topogram-client:500 - Error : A topogram with the same name already exists\n"
     ]
    },
    {
     "name": "stdout",
     "output_type": "stream",
     "text": [
      "> Topogram already exists\n",
      "{u'status': u'success', 'status_code': 200, u'data': {u'sharedPublic': False, u'title': u\"Dj Anna/BETA_0.4  \\nDistance totale parcourue par l'artiste: 787234.105608 km  \\nDistance calculee par Concorde: 426705.633176 km  \\nPourcentage d'optimisation global calcule:4579.68563434 %  \\nMARGE D'OPTIMISATION IMPORTANTE\", u'userId': u'BxRn4kp4WFL92jW8g', u'_id': u'eyvt4F8YHKzaEXr2K', u'slug': u'dj-annabeta_04-distance-totale-parcourue-par-lartiste-787234105608-km-distance-calculee-par-concorde-426705633176-km-pourcentage-doptimisation-global-calcule457968563434-marge-doptimisation-importante', u'createdAt': u'2018-05-24T15:17:16.856Z'}, u'statusCode': 200}\n",
      "topogram ID : eyvt4F8YHKzaEXr2K\n"
     ]
    },
    {
     "name": "stderr",
     "output_type": "stream",
     "text": [
      "ERROR:topogram-client:500 - Error : A topogram with the same name already exists\n"
     ]
    },
    {
     "name": "stdout",
     "output_type": "stream",
     "text": [
      "167 nodes created.\n",
      "194 edges created.\n",
      "done. Topogram has been updated. Check it at http://localhost:3000/topograms/eyvt4F8YHKzaEXr2K\n",
      "Creating topogram 'Alan Fitzpatrick/BETA_0.4  \n",
      "Distance totale parcourue par l'artiste: 474415.488275 km  \n",
      "Distance calculee par Concorde: 323198.258931 km  \n",
      "Pourcentage d'optimisation global calcule:3187.44292886 %  \n",
      "MARGE D'OPTIMISATION IMPORTANTE'\n",
      "{u'status': u'success', 'status_code': 200, u'data': u'd2BtKHaM5P9RCEeaY', u'statusCode': 201}\n",
      "Creating topogram 'Alan Fitzpatrick/BETA_0.4  \n",
      "Distance totale parcourue par l'artiste: 474415.488275 km  \n",
      "Distance calculee par Concorde: 323198.258931 km  \n",
      "Pourcentage d'optimisation global calcule:3187.44292886 %  \n",
      "MARGE D'OPTIMISATION IMPORTANTE'\n",
      "> Topogram already exists\n",
      "{u'status': u'success', 'status_code': 200, u'data': {u'sharedPublic': False, u'title': u\"Alan Fitzpatrick/BETA_0.4  \\nDistance totale parcourue par l'artiste: 474415.488275 km  \\nDistance calculee par Concorde: 323198.258931 km  \\nPourcentage d'optimisation global calcule:3187.44292886 %  \\nMARGE D'OPTIMISATION IMPORTANTE\", u'userId': u'BxRn4kp4WFL92jW8g', u'_id': u'd2BtKHaM5P9RCEeaY', u'slug': u'alan-fitzpatrickbeta_04-distance-totale-parcourue-par-lartiste-474415488275-km-distance-calculee-par-concorde-323198258931-km-pourcentage-doptimisation-global-calcule318744292886-marge-doptimisation-importante', u'createdAt': u'2018-05-24T15:17:17.665Z'}, u'statusCode': 200}\n",
      "topogram ID : d2BtKHaM5P9RCEeaY\n",
      "173 nodes created.\n",
      "221 edges created.\n",
      "done. Topogram has been updated. Check it at http://localhost:3000/topograms/d2BtKHaM5P9RCEeaY\n",
      "Creating topogram 'Simple Plan/BETA_0.4  \n",
      "Distance totale parcourue par l'artiste: 345848.570135 km  \n",
      "Distance calculee par Concorde: 333527.404992 km  \n",
      "Pourcentage d'optimisation global calcule:356.25895859 %  \n",
      "MARGE D'OPTIMISATION IMPORTANTE'\n",
      "{u'status': u'success', 'status_code': 200, u'data': u'A3qkMjACpDoiyf2LX', u'statusCode': 201}\n",
      "Creating topogram 'Simple Plan/BETA_0.4  \n",
      "Distance totale parcourue par l'artiste: 345848.570135 km  \n",
      "Distance calculee par Concorde: 333527.404992 km  \n",
      "Pourcentage d'optimisation global calcule:356.25895859 %  \n",
      "MARGE D'OPTIMISATION IMPORTANTE'\n"
     ]
    },
    {
     "name": "stderr",
     "output_type": "stream",
     "text": [
      "ERROR:topogram-client:500 - Error : A topogram with the same name already exists\n"
     ]
    },
    {
     "name": "stdout",
     "output_type": "stream",
     "text": [
      "> Topogram already exists\n",
      "{u'status': u'success', 'status_code': 200, u'data': {u'sharedPublic': False, u'title': u\"Simple Plan/BETA_0.4  \\nDistance totale parcourue par l'artiste: 345848.570135 km  \\nDistance calculee par Concorde: 333527.404992 km  \\nPourcentage d'optimisation global calcule:356.25895859 %  \\nMARGE D'OPTIMISATION IMPORTANTE\", u'userId': u'BxRn4kp4WFL92jW8g', u'_id': u'A3qkMjACpDoiyf2LX', u'slug': u'simple-planbeta_04-distance-totale-parcourue-par-lartiste-345848570135-km-distance-calculee-par-concorde-333527404992-km-pourcentage-doptimisation-global-calcule35625895859-marge-doptimisation-importante', u'createdAt': u'2018-05-24T15:17:18.552Z'}, u'statusCode': 200}\n",
      "topogram ID : A3qkMjACpDoiyf2LX\n",
      "289 nodes created.\n",
      "311 edges created.\n",
      "done. Topogram has been updated. Check it at http://localhost:3000/topograms/A3qkMjACpDoiyf2LX\n",
      "Creating topogram 'Tonight Alive/BETA_0.4  \n",
      "Distance totale parcourue par l'artiste: 166199.162823 km  \n",
      "Distance calculee par Concorde: 172621.500827 km  \n",
      "Pourcentage d'optimisation global calcule:-386.424209053 %  \n",
      "TOURNEE DEJA OPTIMISEE'\n"
     ]
    },
    {
     "name": "stderr",
     "output_type": "stream",
     "text": [
      "ERROR:topogram-client:500 - Error : A topogram with the same name already exists\n"
     ]
    },
    {
     "name": "stdout",
     "output_type": "stream",
     "text": [
      "{u'status': u'success', 'status_code': 200, u'data': u'wcQYS4X4bkiSJSBz4', u'statusCode': 201}\n",
      "Creating topogram 'Tonight Alive/BETA_0.4  \n",
      "Distance totale parcourue par l'artiste: 166199.162823 km  \n",
      "Distance calculee par Concorde: 172621.500827 km  \n",
      "Pourcentage d'optimisation global calcule:-386.424209053 %  \n",
      "TOURNEE DEJA OPTIMISEE'\n",
      "> Topogram already exists\n",
      "{u'status': u'success', 'status_code': 200, u'data': {u'sharedPublic': False, u'title': u\"Tonight Alive/BETA_0.4  \\nDistance totale parcourue par l'artiste: 166199.162823 km  \\nDistance calculee par Concorde: 172621.500827 km  \\nPourcentage d'optimisation global calcule:-386.424209053 %  \\nTOURNEE DEJA OPTIMISEE\", u'userId': u'BxRn4kp4WFL92jW8g', u'_id': u'wcQYS4X4bkiSJSBz4', u'slug': u'tonight-alivebeta_04-distance-totale-parcourue-par-lartiste-166199162823-km-distance-calculee-par-concorde-172621500827-km-pourcentage-doptimisation-global-calcule-386424209053-tournee-deja-optimisee', u'createdAt': u'2018-05-24T15:17:19.626Z'}, u'statusCode': 200}\n",
      "topogram ID : wcQYS4X4bkiSJSBz4\n",
      "228 nodes created.\n",
      "253 edges created.\n",
      "done. Topogram has been updated. Check it at http://localhost:3000/topograms/wcQYS4X4bkiSJSBz4\n",
      "Creating topogram 'Grand Funk Railroad/BETA_0.4  \n",
      "Distance totale parcourue par l'artiste: 174263.021232 km  \n",
      "Distance calculee par Concorde: 115416.501983 km  \n",
      "Pourcentage d'optimisation global calcule:3376.87931913 %  \n",
      "MARGE D'OPTIMISATION IMPORTANTE'\n",
      "{u'status': u'success', 'status_code': 200, u'data': u'6XCSawGoXK3RmYuT9', u'statusCode': 201}\n",
      "Creating topogram 'Grand Funk Railroad/BETA_0.4  \n",
      "Distance totale parcourue par l'artiste: 174263.021232 km  \n",
      "Distance calculee par Concorde: 115416.501983 km  \n",
      "Pourcentage d'optimisation global calcule:3376.87931913 %  \n",
      "MARGE D'OPTIMISATION IMPORTANTE'\n"
     ]
    },
    {
     "name": "stderr",
     "output_type": "stream",
     "text": [
      "ERROR:topogram-client:500 - Error : A topogram with the same name already exists\n"
     ]
    },
    {
     "name": "stdout",
     "output_type": "stream",
     "text": [
      "> Topogram already exists\n",
      "{u'status': u'success', 'status_code': 200, u'data': {u'sharedPublic': False, u'title': u\"Grand Funk Railroad/BETA_0.4  \\nDistance totale parcourue par l'artiste: 174263.021232 km  \\nDistance calculee par Concorde: 115416.501983 km  \\nPourcentage d'optimisation global calcule:3376.87931913 %  \\nMARGE D'OPTIMISATION IMPORTANTE\", u'userId': u'BxRn4kp4WFL92jW8g', u'_id': u'6XCSawGoXK3RmYuT9', u'slug': u'grand-funk-railroadbeta_04-distance-totale-parcourue-par-lartiste-174263021232-km-distance-calculee-par-concorde-115416501983-km-pourcentage-doptimisation-global-calcule337687931913-marge-doptimisation-importante', u'createdAt': u'2018-05-24T15:17:20.651Z'}, u'statusCode': 200}\n",
      "topogram ID : 6XCSawGoXK3RmYuT9\n"
     ]
    },
    {
     "name": "stderr",
     "output_type": "stream",
     "text": [
      "ERROR:topogram-client:500 - Error : A topogram with the same name already exists\n"
     ]
    },
    {
     "name": "stdout",
     "output_type": "stream",
     "text": [
      "114 nodes created.\n",
      "140 edges created.\n",
      "done. Topogram has been updated. Check it at http://localhost:3000/topograms/6XCSawGoXK3RmYuT9\n",
      "Creating topogram 'Logic/BETA_0.4  \n",
      "Distance totale parcourue par l'artiste: 210886.717571 km  \n",
      "Distance calculee par Concorde: 195293.20005 km  \n",
      "Pourcentage d'optimisation global calcule:739.426252156 %  \n",
      "MARGE D'OPTIMISATION IMPORTANTE'\n",
      "{u'status': u'success', 'status_code': 200, u'data': u'vC7rtCxDd88xrLHni', u'statusCode': 201}\n",
      "Creating topogram 'Logic/BETA_0.4  \n",
      "Distance totale parcourue par l'artiste: 210886.717571 km  \n",
      "Distance calculee par Concorde: 195293.20005 km  \n",
      "Pourcentage d'optimisation global calcule:739.426252156 %  \n",
      "MARGE D'OPTIMISATION IMPORTANTE'\n",
      "> Topogram already exists\n",
      "{u'status': u'success', 'status_code': 200, u'data': {u'sharedPublic': False, u'title': u\"Logic/BETA_0.4  \\nDistance totale parcourue par l'artiste: 210886.717571 km  \\nDistance calculee par Concorde: 195293.20005 km  \\nPourcentage d'optimisation global calcule:739.426252156 %  \\nMARGE D'OPTIMISATION IMPORTANTE\", u'userId': u'BxRn4kp4WFL92jW8g', u'_id': u'vC7rtCxDd88xrLHni', u'slug': u'logicbeta_04-distance-totale-parcourue-par-lartiste-210886717571-km-distance-calculee-par-concorde-19529320005-km-pourcentage-doptimisation-global-calcule739426252156-marge-doptimisation-importante', u'createdAt': u'2018-05-24T15:17:21.310Z'}, u'statusCode': 200}\n",
      "topogram ID : vC7rtCxDd88xrLHni\n",
      "247 nodes created.\n",
      "300 edges created.\n",
      "done. Topogram has been updated. Check it at http://localhost:3000/topograms/vC7rtCxDd88xrLHni\n",
      "Creating topogram 'Lalah Hathaway/BETA_0.4  \n",
      "Distance totale parcourue par l'artiste: 198576.178092 km  \n",
      "Distance calculee par Concorde: 193096.450932 km  \n",
      "Pourcentage d'optimisation global calcule:275.950882549 %  \n",
      "MARGE D'OPTIMISATION IMPORTANTE'\n"
     ]
    },
    {
     "name": "stderr",
     "output_type": "stream",
     "text": [
      "ERROR:topogram-client:500 - Error : A topogram with the same name already exists\n"
     ]
    },
    {
     "name": "stdout",
     "output_type": "stream",
     "text": [
      "{u'status': u'success', 'status_code': 200, u'data': u'ivRcP64vF9at5GWBD', u'statusCode': 201}\n",
      "Creating topogram 'Lalah Hathaway/BETA_0.4  \n",
      "Distance totale parcourue par l'artiste: 198576.178092 km  \n",
      "Distance calculee par Concorde: 193096.450932 km  \n",
      "Pourcentage d'optimisation global calcule:275.950882549 %  \n",
      "MARGE D'OPTIMISATION IMPORTANTE'\n",
      "> Topogram already exists\n",
      "{u'status': u'success', 'status_code': 200, u'data': {u'sharedPublic': False, u'title': u\"Lalah Hathaway/BETA_0.4  \\nDistance totale parcourue par l'artiste: 198576.178092 km  \\nDistance calculee par Concorde: 193096.450932 km  \\nPourcentage d'optimisation global calcule:275.950882549 %  \\nMARGE D'OPTIMISATION IMPORTANTE\", u'userId': u'BxRn4kp4WFL92jW8g', u'_id': u'ivRcP64vF9at5GWBD', u'slug': u'lalah-hathawaybeta_04-distance-totale-parcourue-par-lartiste-198576178092-km-distance-calculee-par-concorde-193096450932-km-pourcentage-doptimisation-global-calcule275950882549-marge-doptimisation-importante', u'createdAt': u'2018-05-24T15:17:22.340Z'}, u'statusCode': 200}\n",
      "topogram ID : ivRcP64vF9at5GWBD\n",
      "132 nodes created.\n",
      "208 edges created.\n",
      "done. Topogram has been updated. Check it at http://localhost:3000/topograms/ivRcP64vF9at5GWBD\n",
      "Creating topogram 'Jay Electronica/BETA_0.4  \n",
      "Distance totale parcourue par l'artiste: 108525.159941 km  \n",
      "Distance calculee par Concorde: 94528.4316988 km  \n",
      "Pourcentage d'optimisation global calcule:1289.72196399 %  \n",
      "MARGE D'OPTIMISATION IMPORTANTE'\n",
      "{u'status': u'success', 'status_code': 200, u'data': u'oNn9ghY97rtquK3cp', u'statusCode': 201}\n",
      "Creating topogram 'Jay Electronica/BETA_0.4  \n",
      "Distance totale parcourue par l'artiste: 108525.159941 km  \n",
      "Distance calculee par Concorde: 94528.4316988 km  \n",
      "Pourcentage d'optimisation global calcule:1289.72196399 %  \n",
      "MARGE D'OPTIMISATION IMPORTANTE'\n"
     ]
    },
    {
     "name": "stderr",
     "output_type": "stream",
     "text": [
      "ERROR:topogram-client:500 - Error : A topogram with the same name already exists\n"
     ]
    },
    {
     "name": "stdout",
     "output_type": "stream",
     "text": [
      "> Topogram already exists\n",
      "{u'status': u'success', 'status_code': 200, u'data': {u'sharedPublic': False, u'title': u\"Jay Electronica/BETA_0.4  \\nDistance totale parcourue par l'artiste: 108525.159941 km  \\nDistance calculee par Concorde: 94528.4316988 km  \\nPourcentage d'optimisation global calcule:1289.72196399 %  \\nMARGE D'OPTIMISATION IMPORTANTE\", u'userId': u'BxRn4kp4WFL92jW8g', u'_id': u'oNn9ghY97rtquK3cp', u'slug': u'jay-electronicabeta_04-distance-totale-parcourue-par-lartiste-108525159941-km-distance-calculee-par-concorde-945284316988-km-pourcentage-doptimisation-global-calcule128972196399-marge-doptimisation-importante', u'createdAt': u'2018-05-24T15:17:23.070Z'}, u'statusCode': 200}\n",
      "topogram ID : oNn9ghY97rtquK3cp\n"
     ]
    },
    {
     "name": "stderr",
     "output_type": "stream",
     "text": [
      "ERROR:topogram-client:500 - Error : A topogram with the same name already exists\n"
     ]
    },
    {
     "name": "stdout",
     "output_type": "stream",
     "text": [
      "75 nodes created.\n",
      "84 edges created.\n",
      "done. Topogram has been updated. Check it at http://localhost:3000/topograms/oNn9ghY97rtquK3cp\n",
      "Creating topogram 'Sleeping With Sirens/BETA_0.4  \n",
      "Distance totale parcourue par l'artiste: 225663.252131 km  \n",
      "Distance calculee par Concorde: 198598.919833 km  \n",
      "Pourcentage d'optimisation global calcule:1199.32386162 %  \n",
      "MARGE D'OPTIMISATION IMPORTANTE'\n",
      "{u'status': u'success', 'status_code': 200, u'data': u'9dYhYZGtBWaFSeQpP', u'statusCode': 201}\n",
      "Creating topogram 'Sleeping With Sirens/BETA_0.4  \n",
      "Distance totale parcourue par l'artiste: 225663.252131 km  \n",
      "Distance calculee par Concorde: 198598.919833 km  \n",
      "Pourcentage d'optimisation global calcule:1199.32386162 %  \n",
      "MARGE D'OPTIMISATION IMPORTANTE'\n",
      "> Topogram already exists\n",
      "{u'status': u'success', 'status_code': 200, u'data': {u'sharedPublic': False, u'title': u\"Sleeping With Sirens/BETA_0.4  \\nDistance totale parcourue par l'artiste: 225663.252131 km  \\nDistance calculee par Concorde: 198598.919833 km  \\nPourcentage d'optimisation global calcule:1199.32386162 %  \\nMARGE D'OPTIMISATION IMPORTANTE\", u'userId': u'BxRn4kp4WFL92jW8g', u'_id': u'9dYhYZGtBWaFSeQpP', u'slug': u'sleeping-with-sirensbeta_04-distance-totale-parcourue-par-lartiste-225663252131-km-distance-calculee-par-concorde-198598919833-km-pourcentage-doptimisation-global-calcule119932386162-marge-doptimisation-importante', u'createdAt': u'2018-05-24T15:17:23.579Z'}, u'statusCode': 200}\n",
      "topogram ID : 9dYhYZGtBWaFSeQpP\n",
      "302 nodes created.\n",
      "345 edges created.\n",
      "done. Topogram has been updated. Check it at http://localhost:3000/topograms/9dYhYZGtBWaFSeQpP\n",
      "Creating topogram 'Jake La Botz/BETA_0.4  \n",
      "Distance totale parcourue par l'artiste: 135973.142468 km  \n",
      "Distance calculee par Concorde: 129708.014515 km  \n",
      "Pourcentage d'optimisation global calcule:460.762165217 %  \n",
      "MARGE D'OPTIMISATION IMPORTANTE'\n",
      "{u'status': u'success', 'status_code': 200, u'data': u'WWC9LbEHgpGy7nygC', u'statusCode': 201}\n",
      "Creating topogram 'Jake La Botz/BETA_0.4  \n",
      "Distance totale parcourue par l'artiste: 135973.142468 km  \n",
      "Distance calculee par Concorde: 129708.014515 km  \n",
      "Pourcentage d'optimisation global calcule:460.762165217 %  \n",
      "MARGE D'OPTIMISATION IMPORTANTE'\n"
     ]
    },
    {
     "name": "stderr",
     "output_type": "stream",
     "text": [
      "ERROR:topogram-client:500 - Error : A topogram with the same name already exists\n"
     ]
    },
    {
     "name": "stdout",
     "output_type": "stream",
     "text": [
      "> Topogram already exists\n",
      "{u'status': u'success', 'status_code': 200, u'data': {u'sharedPublic': False, u'title': u\"Jake La Botz/BETA_0.4  \\nDistance totale parcourue par l'artiste: 135973.142468 km  \\nDistance calculee par Concorde: 129708.014515 km  \\nPourcentage d'optimisation global calcule:460.762165217 %  \\nMARGE D'OPTIMISATION IMPORTANTE\", u'userId': u'BxRn4kp4WFL92jW8g', u'_id': u'WWC9LbEHgpGy7nygC', u'slug': u'jake-la-botzbeta_04-distance-totale-parcourue-par-lartiste-135973142468-km-distance-calculee-par-concorde-129708014515-km-pourcentage-doptimisation-global-calcule460762165217-marge-doptimisation-importante', u'createdAt': u'2018-05-24T15:17:24.760Z'}, u'statusCode': 200}\n",
      "topogram ID : WWC9LbEHgpGy7nygC\n",
      "162 nodes created.\n",
      "260 edges created.\n",
      "done. Topogram has been updated. Check it at http://localhost:3000/topograms/WWC9LbEHgpGy7nygC\n",
      "Creating topogram 'Michael W. Smith/BETA_0.4  \n",
      "Distance totale parcourue par l'artiste: 311622.589283 km  \n",
      "Distance calculee par Concorde: 265595.285477 km  \n",
      "Pourcentage d'optimisation global calcule:1477.02077413 %  \n",
      "MARGE D'OPTIMISATION IMPORTANTE'\n",
      "{u'status': u'success', 'status_code': 200, u'data': u'6G7FKB6PBgJTxohaW', u'statusCode': 201}\n",
      "Creating topogram 'Michael W. Smith/BETA_0.4  \n",
      "Distance totale parcourue par l'artiste: 311622.589283 km  \n",
      "Distance calculee par Concorde: 265595.285477 km  \n",
      "Pourcentage d'optimisation global calcule:1477.02077413 %  \n",
      "MARGE D'OPTIMISATION IMPORTANTE'\n"
     ]
    },
    {
     "name": "stderr",
     "output_type": "stream",
     "text": [
      "ERROR:topogram-client:500 - Error : A topogram with the same name already exists\n"
     ]
    },
    {
     "name": "stdout",
     "output_type": "stream",
     "text": [
      "> Topogram already exists\n",
      "{u'status': u'success', 'status_code': 200, u'data': {u'sharedPublic': False, u'title': u\"Michael W. Smith/BETA_0.4  \\nDistance totale parcourue par l'artiste: 311622.589283 km  \\nDistance calculee par Concorde: 265595.285477 km  \\nPourcentage d'optimisation global calcule:1477.02077413 %  \\nMARGE D'OPTIMISATION IMPORTANTE\", u'userId': u'BxRn4kp4WFL92jW8g', u'_id': u'6G7FKB6PBgJTxohaW', u'slug': u'michael-w-smithbeta_04-distance-totale-parcourue-par-lartiste-311622589283-km-distance-calculee-par-concorde-265595285477-km-pourcentage-doptimisation-global-calcule147702077413-marge-doptimisation-importante', u'createdAt': u'2018-05-24T15:17:25.569Z'}, u'statusCode': 200}\n",
      "topogram ID : 6G7FKB6PBgJTxohaW\n",
      "266 nodes created.\n",
      "332 edges created.\n",
      "done. Topogram has been updated. Check it at http://localhost:3000/topograms/6G7FKB6PBgJTxohaW\n",
      "Creating topogram 'Turisas/BETA_0.4  \n",
      "Distance totale parcourue par l'artiste: 224288.009325 km  \n",
      "Distance calculee par Concorde: 220841.548578 km  \n",
      "Pourcentage d'optimisation global calcule:153.662282597 %  \n",
      "MARGE D'OPTIMISATION IMPORTANTE'\n"
     ]
    },
    {
     "name": "stderr",
     "output_type": "stream",
     "text": [
      "ERROR:topogram-client:500 - Error : A topogram with the same name already exists\n"
     ]
    },
    {
     "name": "stdout",
     "output_type": "stream",
     "text": [
      "{u'status': u'success', 'status_code': 200, u'data': u'cfN9bqSyaBzsA4jwt', u'statusCode': 201}\n",
      "Creating topogram 'Turisas/BETA_0.4  \n",
      "Distance totale parcourue par l'artiste: 224288.009325 km  \n",
      "Distance calculee par Concorde: 220841.548578 km  \n",
      "Pourcentage d'optimisation global calcule:153.662282597 %  \n",
      "MARGE D'OPTIMISATION IMPORTANTE'\n",
      "> Topogram already exists\n",
      "{u'status': u'success', 'status_code': 200, u'data': {u'sharedPublic': False, u'title': u\"Turisas/BETA_0.4  \\nDistance totale parcourue par l'artiste: 224288.009325 km  \\nDistance calculee par Concorde: 220841.548578 km  \\nPourcentage d'optimisation global calcule:153.662282597 %  \\nMARGE D'OPTIMISATION IMPORTANTE\", u'userId': u'BxRn4kp4WFL92jW8g', u'_id': u'cfN9bqSyaBzsA4jwt', u'slug': u'turisasbeta_04-distance-totale-parcourue-par-lartiste-224288009325-km-distance-calculee-par-concorde-220841548578-km-pourcentage-doptimisation-global-calcule153662282597-marge-doptimisation-importante', u'createdAt': u'2018-05-24T15:17:26.690Z'}, u'statusCode': 200}\n",
      "topogram ID : cfN9bqSyaBzsA4jwt\n",
      "283 nodes created.\n",
      "323 edges created.\n",
      "done. Topogram has been updated. Check it at http://localhost:3000/topograms/cfN9bqSyaBzsA4jwt\n",
      "Creating topogram 'Prosumer/BETA_0.4  \n",
      "Distance totale parcourue par l'artiste: 360645.417564 km  \n",
      "Distance calculee par Concorde: 274855.340637 km  \n",
      "Pourcentage d'optimisation global calcule:2378.79292927 %  \n",
      "MARGE D'OPTIMISATION IMPORTANTE'\n",
      "{u'status': u'success', 'status_code': 200, u'data': u'7x7ZaXWK4GivaPrgT', u'statusCode': 201}\n",
      "Creating topogram 'Prosumer/BETA_0.4  \n",
      "Distance totale parcourue par l'artiste: 360645.417564 km  \n",
      "Distance calculee par Concorde: 274855.340637 km  \n",
      "Pourcentage d'optimisation global calcule:2378.79292927 %  \n",
      "MARGE D'OPTIMISATION IMPORTANTE'\n"
     ]
    },
    {
     "name": "stderr",
     "output_type": "stream",
     "text": [
      "ERROR:topogram-client:500 - Error : A topogram with the same name already exists\n"
     ]
    },
    {
     "name": "stdout",
     "output_type": "stream",
     "text": [
      "> Topogram already exists\n",
      "{u'status': u'success', 'status_code': 200, u'data': {u'sharedPublic': False, u'title': u\"Prosumer/BETA_0.4  \\nDistance totale parcourue par l'artiste: 360645.417564 km  \\nDistance calculee par Concorde: 274855.340637 km  \\nPourcentage d'optimisation global calcule:2378.79292927 %  \\nMARGE D'OPTIMISATION IMPORTANTE\", u'userId': u'BxRn4kp4WFL92jW8g', u'_id': u'7x7ZaXWK4GivaPrgT', u'slug': u'prosumerbeta_04-distance-totale-parcourue-par-lartiste-360645417564-km-distance-calculee-par-concorde-274855340637-km-pourcentage-doptimisation-global-calcule237879292927-marge-doptimisation-importante', u'createdAt': u'2018-05-24T15:17:27.721Z'}, u'statusCode': 200}\n",
      "topogram ID : 7x7ZaXWK4GivaPrgT\n",
      "161 nodes created.\n",
      "214 edges created.\n",
      "done. Topogram has been updated. Check it at http://localhost:3000/topograms/7x7ZaXWK4GivaPrgT\n",
      "Creating topogram 'Zion I Crew/BETA_0.4  \n",
      "Distance totale parcourue par l'artiste: 367902.062267 km  \n",
      "Distance calculee par Concorde: 292379.276195 km  \n",
      "Pourcentage d'optimisation global calcule:2052.79594267 %  \n",
      "MARGE D'OPTIMISATION IMPORTANTE'\n",
      "{u'status': u'success', 'status_code': 200, u'data': u'8Bu9MgKKSRpuTkWA5', u'statusCode': 201}\n",
      "Creating topogram 'Zion I Crew/BETA_0.4  \n",
      "Distance totale parcourue par l'artiste: 367902.062267 km  \n",
      "Distance calculee par Concorde: 292379.276195 km  \n",
      "Pourcentage d'optimisation global calcule:2052.79594267 %  \n",
      "MARGE D'OPTIMISATION IMPORTANTE'\n"
     ]
    },
    {
     "name": "stderr",
     "output_type": "stream",
     "text": [
      "ERROR:topogram-client:500 - Error : A topogram with the same name already exists\n"
     ]
    },
    {
     "name": "stdout",
     "output_type": "stream",
     "text": [
      "> Topogram already exists\n",
      "{u'status': u'success', 'status_code': 200, u'data': {u'sharedPublic': False, u'title': u\"Zion I Crew/BETA_0.4  \\nDistance totale parcourue par l'artiste: 367902.062267 km  \\nDistance calculee par Concorde: 292379.276195 km  \\nPourcentage d'optimisation global calcule:2052.79594267 %  \\nMARGE D'OPTIMISATION IMPORTANTE\", u'userId': u'BxRn4kp4WFL92jW8g', u'_id': u'8Bu9MgKKSRpuTkWA5', u'slug': u'zion-i-crewbeta_04-distance-totale-parcourue-par-lartiste-367902062267-km-distance-calculee-par-concorde-292379276195-km-pourcentage-doptimisation-global-calcule205279594267-marge-doptimisation-importante', u'createdAt': u'2018-05-24T15:17:28.525Z'}, u'statusCode': 200}\n",
      "topogram ID : 8Bu9MgKKSRpuTkWA5\n",
      "379 nodes created.\n"
     ]
    },
    {
     "name": "stderr",
     "output_type": "stream",
     "text": [
      "ERROR:topogram-client:500 - Error : A topogram with the same name already exists\n"
     ]
    },
    {
     "name": "stdout",
     "output_type": "stream",
     "text": [
      "478 edges created.\n",
      "done. Topogram has been updated. Check it at http://localhost:3000/topograms/8Bu9MgKKSRpuTkWA5\n",
      "Creating topogram 'Macklemore & Ryan Lewis/BETA_0.4  \n",
      "Distance totale parcourue par l'artiste: 377712.174315 km  \n",
      "Distance calculee par Concorde: 304692.899716 km  \n",
      "Pourcentage d'optimisation global calcule:1933.19886317 %  \n",
      "MARGE D'OPTIMISATION IMPORTANTE'\n",
      "{u'status': u'success', 'status_code': 200, u'data': u'FY7QMy2kRYbtsgdNP', u'statusCode': 201}\n",
      "Creating topogram 'Macklemore & Ryan Lewis/BETA_0.4  \n",
      "Distance totale parcourue par l'artiste: 377712.174315 km  \n",
      "Distance calculee par Concorde: 304692.899716 km  \n",
      "Pourcentage d'optimisation global calcule:1933.19886317 %  \n",
      "MARGE D'OPTIMISATION IMPORTANTE'\n",
      "> Topogram already exists\n",
      "{u'status': u'success', 'status_code': 200, u'data': {u'sharedPublic': False, u'title': u\"Macklemore & Ryan Lewis/BETA_0.4  \\nDistance totale parcourue par l'artiste: 377712.174315 km  \\nDistance calculee par Concorde: 304692.899716 km  \\nPourcentage d'optimisation global calcule:1933.19886317 %  \\nMARGE D'OPTIMISATION IMPORTANTE\", u'userId': u'BxRn4kp4WFL92jW8g', u'_id': u'FY7QMy2kRYbtsgdNP', u'slug': u'macklemore-ryan-lewisbeta_04-distance-totale-parcourue-par-lartiste-377712174315-km-distance-calculee-par-concorde-304692899716-km-pourcentage-doptimisation-global-calcule193319886317-marge-doptimisation-importante', u'createdAt': u'2018-05-24T15:17:29.946Z'}, u'statusCode': 200}\n",
      "topogram ID : FY7QMy2kRYbtsgdNP\n",
      "296 nodes created.\n",
      "357 edges created.\n",
      "done. Topogram has been updated. Check it at http://localhost:3000/topograms/FY7QMy2kRYbtsgdNP\n",
      "Creating topogram 'Phobia/BETA_0.4  \n",
      "Distance totale parcourue par l'artiste: 127671.045481 km  \n",
      "Distance calculee par Concorde: 117389.986486 km  \n",
      "Pourcentage d'optimisation global calcule:805.277262106 %  \n",
      "MARGE D'OPTIMISATION IMPORTANTE'\n"
     ]
    },
    {
     "name": "stderr",
     "output_type": "stream",
     "text": [
      "ERROR:topogram-client:500 - Error : A topogram with the same name already exists\n"
     ]
    },
    {
     "name": "stdout",
     "output_type": "stream",
     "text": [
      "{u'status': u'success', 'status_code': 200, u'data': u'NzvkJqoigaQjMt5E8', u'statusCode': 201}\n",
      "Creating topogram 'Phobia/BETA_0.4  \n",
      "Distance totale parcourue par l'artiste: 127671.045481 km  \n",
      "Distance calculee par Concorde: 117389.986486 km  \n",
      "Pourcentage d'optimisation global calcule:805.277262106 %  \n",
      "MARGE D'OPTIMISATION IMPORTANTE'\n",
      "> Topogram already exists\n",
      "{u'status': u'success', 'status_code': 200, u'data': {u'sharedPublic': False, u'title': u\"Phobia/BETA_0.4  \\nDistance totale parcourue par l'artiste: 127671.045481 km  \\nDistance calculee par Concorde: 117389.986486 km  \\nPourcentage d'optimisation global calcule:805.277262106 %  \\nMARGE D'OPTIMISATION IMPORTANTE\", u'userId': u'BxRn4kp4WFL92jW8g', u'_id': u'NzvkJqoigaQjMt5E8', u'slug': u'phobiabeta_04-distance-totale-parcourue-par-lartiste-127671045481-km-distance-calculee-par-concorde-117389986486-km-pourcentage-doptimisation-global-calcule805277262106-marge-doptimisation-importante', u'createdAt': u'2018-05-24T15:17:31.045Z'}, u'statusCode': 200}\n",
      "topogram ID : NzvkJqoigaQjMt5E8\n"
     ]
    },
    {
     "name": "stderr",
     "output_type": "stream",
     "text": [
      "ERROR:topogram-client:500 - Error : A topogram with the same name already exists\n"
     ]
    },
    {
     "name": "stdout",
     "output_type": "stream",
     "text": [
      "129 nodes created.\n",
      "144 edges created.\n",
      "done. Topogram has been updated. Check it at http://localhost:3000/topograms/NzvkJqoigaQjMt5E8\n",
      "Creating topogram 'Niko/BETA_0.4  \n",
      "Distance totale parcourue par l'artiste: 90508.9186388 km  \n",
      "Distance calculee par Concorde: 90508.9186388 km'\n",
      "{u'status': u'success', 'status_code': 200, u'data': u'Bx8vBg4cp42LXL3B9', u'statusCode': 201}\n",
      "Creating topogram 'Niko/BETA_0.4  \n",
      "Distance totale parcourue par l'artiste: 90508.9186388 km  \n",
      "Distance calculee par Concorde: 90508.9186388 km'\n",
      "> Topogram already exists\n",
      "{u'status': u'success', 'status_code': 200, u'data': {u'sharedPublic': False, u'title': u\"Niko/BETA_0.4  \\nDistance totale parcourue par l'artiste: 90508.9186388 km  \\nDistance calculee par Concorde: 90508.9186388 km\", u'userId': u'BxRn4kp4WFL92jW8g', u'_id': u'Bx8vBg4cp42LXL3B9', u'slug': u'nikobeta_04-distance-totale-parcourue-par-lartiste-905089186388-km-distance-calculee-par-concorde-905089186388-km', u'createdAt': u'2018-05-24T15:17:31.687Z'}, u'statusCode': 200}\n",
      "topogram ID : Bx8vBg4cp42LXL3B9\n"
     ]
    },
    {
     "name": "stderr",
     "output_type": "stream",
     "text": [
      "ERROR:topogram-client:500 - Error : A topogram with the same name already exists\n"
     ]
    },
    {
     "name": "stdout",
     "output_type": "stream",
     "text": [
      "20 nodes created.\n",
      "27 edges created.\n",
      "done. Topogram has been updated. Check it at http://localhost:3000/topograms/Bx8vBg4cp42LXL3B9\n",
      "Creating topogram 'Buzzcocks/BETA_0.4  \n",
      "Distance totale parcourue par l'artiste: 212854.243609 km  \n",
      "Distance calculee par Concorde: 217616.976227 km  \n",
      "Pourcentage d'optimisation global calcule:-223.755586816 %  \n",
      "TOURNEE DEJA OPTIMISEE'\n",
      "{u'status': u'success', 'status_code': 200, u'data': u'k5utHW2LmBFCqJBP5', u'statusCode': 201}\n",
      "Creating topogram 'Buzzcocks/BETA_0.4  \n",
      "Distance totale parcourue par l'artiste: 212854.243609 km  \n",
      "Distance calculee par Concorde: 217616.976227 km  \n",
      "Pourcentage d'optimisation global calcule:-223.755586816 %  \n",
      "TOURNEE DEJA OPTIMISEE'\n",
      "> Topogram already exists\n",
      "{u'status': u'success', 'status_code': 200, u'data': {u'sharedPublic': False, u'title': u\"Buzzcocks/BETA_0.4  \\nDistance totale parcourue par l'artiste: 212854.243609 km  \\nDistance calculee par Concorde: 217616.976227 km  \\nPourcentage d'optimisation global calcule:-223.755586816 %  \\nTOURNEE DEJA OPTIMISEE\", u'userId': u'BxRn4kp4WFL92jW8g', u'_id': u'k5utHW2LmBFCqJBP5', u'slug': u'buzzcocksbeta_04-distance-totale-parcourue-par-lartiste-212854243609-km-distance-calculee-par-concorde-217616976227-km-pourcentage-doptimisation-global-calcule-223755586816-tournee-deja-optimisee', u'createdAt': u'2018-05-24T15:17:32.129Z'}, u'statusCode': 200}\n",
      "topogram ID : k5utHW2LmBFCqJBP5\n"
     ]
    },
    {
     "name": "stderr",
     "output_type": "stream",
     "text": [
      "ERROR:topogram-client:500 - Error : A topogram with the same name already exists\n"
     ]
    },
    {
     "name": "stdout",
     "output_type": "stream",
     "text": [
      "210 nodes created.\n",
      "248 edges created.\n",
      "done. Topogram has been updated. Check it at http://localhost:3000/topograms/k5utHW2LmBFCqJBP5\n",
      "Creating topogram 'Polica/BETA_0.4  \n",
      "Distance totale parcourue par l'artiste: 233680.14993 km  \n",
      "Distance calculee par Concorde: 243311.992688 km  \n",
      "Pourcentage d'optimisation global calcule:-412.180613563 %  \n",
      "TOURNEE DEJA OPTIMISEE'\n",
      "{u'status': u'success', 'status_code': 200, u'data': u'rwqWQmZxRmCNfkKbH', u'statusCode': 201}\n",
      "Creating topogram 'Polica/BETA_0.4  \n",
      "Distance totale parcourue par l'artiste: 233680.14993 km  \n",
      "Distance calculee par Concorde: 243311.992688 km  \n",
      "Pourcentage d'optimisation global calcule:-412.180613563 %  \n",
      "TOURNEE DEJA OPTIMISEE'\n",
      "> Topogram already exists\n",
      "{u'status': u'success', 'status_code': 200, u'data': {u'sharedPublic': False, u'title': u\"Polica/BETA_0.4  \\nDistance totale parcourue par l'artiste: 233680.14993 km  \\nDistance calculee par Concorde: 243311.992688 km  \\nPourcentage d'optimisation global calcule:-412.180613563 %  \\nTOURNEE DEJA OPTIMISEE\", u'userId': u'BxRn4kp4WFL92jW8g', u'_id': u'rwqWQmZxRmCNfkKbH', u'slug': u'policabeta_04-distance-totale-parcourue-par-lartiste-23368014993-km-distance-calculee-par-concorde-243311992688-km-pourcentage-doptimisation-global-calcule-412180613563-tournee-deja-optimisee', u'createdAt': u'2018-05-24T15:17:33.132Z'}, u'statusCode': 200}\n",
      "topogram ID : rwqWQmZxRmCNfkKbH\n",
      "264 nodes created.\n",
      "308 edges created.\n",
      "done. Topogram has been updated. Check it at http://localhost:3000/topograms/rwqWQmZxRmCNfkKbH\n",
      "Creating topogram 'The Hostiles/BETA_0.4  \n",
      "Distance totale parcourue par l'artiste: 298831.236448 km  \n",
      "Distance calculee par Concorde: 169397.856503 km  \n",
      "Pourcentage d'optimisation global calcule:4331.3202958 %  \n",
      "MARGE D'OPTIMISATION IMPORTANTE'\n",
      "{u'status': u'success', 'status_code': 200, u'data': u'jcHoJCYd6LL4YkPZZ', u'statusCode': 201}\n",
      "Creating topogram 'The Hostiles/BETA_0.4  \n",
      "Distance totale parcourue par l'artiste: 298831.236448 km  \n",
      "Distance calculee par Concorde: 169397.856503 km  \n",
      "Pourcentage d'optimisation global calcule:4331.3202958 %  \n",
      "MARGE D'OPTIMISATION IMPORTANTE'\n"
     ]
    },
    {
     "name": "stderr",
     "output_type": "stream",
     "text": [
      "ERROR:topogram-client:500 - Error : A topogram with the same name already exists\n"
     ]
    },
    {
     "name": "stdout",
     "output_type": "stream",
     "text": [
      "> Topogram already exists\n",
      "{u'status': u'success', 'status_code': 200, u'data': {u'sharedPublic': False, u'title': u\"The Hostiles/BETA_0.4  \\nDistance totale parcourue par l'artiste: 298831.236448 km  \\nDistance calculee par Concorde: 169397.856503 km  \\nPourcentage d'optimisation global calcule:4331.3202958 %  \\nMARGE D'OPTIMISATION IMPORTANTE\", u'userId': u'BxRn4kp4WFL92jW8g', u'_id': u'jcHoJCYd6LL4YkPZZ', u'slug': u'the-hostilesbeta_04-distance-totale-parcourue-par-lartiste-298831236448-km-distance-calculee-par-concorde-169397856503-km-pourcentage-doptimisation-global-calcule43313202958-marge-doptimisation-importante', u'createdAt': u'2018-05-24T15:17:34.185Z'}, u'statusCode': 200}\n",
      "topogram ID : jcHoJCYd6LL4YkPZZ\n",
      "179 nodes created.\n",
      "267 edges created.\n",
      "done. Topogram has been updated. Check it at http://localhost:3000/topograms/jcHoJCYd6LL4YkPZZ\n",
      "Creating topogram 'DJ Pauly D/BETA_0.4  \n",
      "Distance totale parcourue par l'artiste: 355857.211469 km  \n",
      "Distance calculee par Concorde: 154037.558005 km  \n",
      "Pourcentage d'optimisation global calcule:5671.36612551 %  \n",
      "MARGE D'OPTIMISATION IMPORTANTE'\n",
      "{u'status': u'success', 'status_code': 200, u'data': u'SkMDstHdJpRSf3BA8', u'statusCode': 201}\n",
      "Creating topogram 'DJ Pauly D/BETA_0.4  \n",
      "Distance totale parcourue par l'artiste: 355857.211469 km  \n",
      "Distance calculee par Concorde: 154037.558005 km  \n",
      "Pourcentage d'optimisation global calcule:5671.36612551 %  \n",
      "MARGE D'OPTIMISATION IMPORTANTE'\n"
     ]
    },
    {
     "name": "stderr",
     "output_type": "stream",
     "text": [
      "ERROR:topogram-client:500 - Error : A topogram with the same name already exists\n"
     ]
    },
    {
     "name": "stdout",
     "output_type": "stream",
     "text": [
      "> Topogram already exists\n",
      "{u'status': u'success', 'status_code': 200, u'data': {u'sharedPublic': False, u'title': u\"DJ Pauly D/BETA_0.4  \\nDistance totale parcourue par l'artiste: 355857.211469 km  \\nDistance calculee par Concorde: 154037.558005 km  \\nPourcentage d'optimisation global calcule:5671.36612551 %  \\nMARGE D'OPTIMISATION IMPORTANTE\", u'userId': u'BxRn4kp4WFL92jW8g', u'_id': u'SkMDstHdJpRSf3BA8', u'slug': u'dj-pauly-dbeta_04-distance-totale-parcourue-par-lartiste-355857211469-km-distance-calculee-par-concorde-154037558005-km-pourcentage-doptimisation-global-calcule567136612551-marge-doptimisation-importante', u'createdAt': u'2018-05-24T15:17:35.020Z'}, u'statusCode': 200}\n",
      "topogram ID : SkMDstHdJpRSf3BA8\n",
      "155 nodes created.\n",
      "216 edges created.\n",
      "done. Topogram has been updated. Check it at http://localhost:3000/topograms/SkMDstHdJpRSf3BA8\n",
      "Creating topogram 'Hugh Masekela/BETA_0.4  \n",
      "Distance totale parcourue par l'artiste: 78192.0407699 km  \n",
      "Distance calculee par Concorde: 85160.2675071 km  \n",
      "Pourcentage d'optimisation global calcule:-891.16829137 %  \n",
      "TOURNEE DEJA OPTIMISEE'\n",
      "{u'status': u'success', 'status_code': 200, u'data': u'Fwo5XmgCvrxCCyb2E', u'statusCode': 201}\n",
      "Creating topogram 'Hugh Masekela/BETA_0.4  \n",
      "Distance totale parcourue par l'artiste: 78192.0407699 km  \n",
      "Distance calculee par Concorde: 85160.2675071 km  \n",
      "Pourcentage d'optimisation global calcule:-891.16829137 %  \n",
      "TOURNEE DEJA OPTIMISEE'\n"
     ]
    },
    {
     "name": "stderr",
     "output_type": "stream",
     "text": [
      "ERROR:topogram-client:500 - Error : A topogram with the same name already exists\n"
     ]
    },
    {
     "name": "stdout",
     "output_type": "stream",
     "text": [
      "> Topogram already exists\n",
      "{u'status': u'success', 'status_code': 200, u'data': {u'sharedPublic': False, u'title': u\"Hugh Masekela/BETA_0.4  \\nDistance totale parcourue par l'artiste: 78192.0407699 km  \\nDistance calculee par Concorde: 85160.2675071 km  \\nPourcentage d'optimisation global calcule:-891.16829137 %  \\nTOURNEE DEJA OPTIMISEE\", u'userId': u'BxRn4kp4WFL92jW8g', u'_id': u'Fwo5XmgCvrxCCyb2E', u'slug': u'hugh-masekelabeta_04-distance-totale-parcourue-par-lartiste-781920407699-km-distance-calculee-par-concorde-851602675071-km-pourcentage-doptimisation-global-calcule-89116829137-tournee-deja-optimisee', u'createdAt': u'2018-05-24T15:17:35.794Z'}, u'statusCode': 200}\n",
      "topogram ID : Fwo5XmgCvrxCCyb2E\n"
     ]
    },
    {
     "name": "stderr",
     "output_type": "stream",
     "text": [
      "ERROR:topogram-client:500 - Error : A topogram with the same name already exists\n"
     ]
    },
    {
     "name": "stdout",
     "output_type": "stream",
     "text": [
      "72 nodes created.\n",
      "99 edges created.\n",
      "done. Topogram has been updated. Check it at http://localhost:3000/topograms/Fwo5XmgCvrxCCyb2E\n",
      "Creating topogram 'Dwight Yoakam/BETA_0.4  \n",
      "Distance totale parcourue par l'artiste: 436660.405863 km  \n",
      "Distance calculee par Concorde: 339385.927324 km  \n",
      "Pourcentage d'optimisation global calcule:2227.6917539 %  \n",
      "MARGE D'OPTIMISATION IMPORTANTE'\n",
      "{u'status': u'success', 'status_code': 200, u'data': u'Kem5YnpjhSMhZzutr', u'statusCode': 201}\n",
      "Creating topogram 'Dwight Yoakam/BETA_0.4  \n",
      "Distance totale parcourue par l'artiste: 436660.405863 km  \n",
      "Distance calculee par Concorde: 339385.927324 km  \n",
      "Pourcentage d'optimisation global calcule:2227.6917539 %  \n",
      "MARGE D'OPTIMISATION IMPORTANTE'\n",
      "> Topogram already exists\n",
      "{u'status': u'success', 'status_code': 200, u'data': {u'sharedPublic': False, u'title': u\"Dwight Yoakam/BETA_0.4  \\nDistance totale parcourue par l'artiste: 436660.405863 km  \\nDistance calculee par Concorde: 339385.927324 km  \\nPourcentage d'optimisation global calcule:2227.6917539 %  \\nMARGE D'OPTIMISATION IMPORTANTE\", u'userId': u'BxRn4kp4WFL92jW8g', u'_id': u'Kem5YnpjhSMhZzutr', u'slug': u'dwight-yoakambeta_04-distance-totale-parcourue-par-lartiste-436660405863-km-distance-calculee-par-concorde-339385927324-km-pourcentage-doptimisation-global-calcule22276917539-marge-doptimisation-importante', u'createdAt': u'2018-05-24T15:17:36.307Z'}, u'statusCode': 200}\n",
      "topogram ID : Kem5YnpjhSMhZzutr\n",
      "375 nodes created.\n",
      "456 edges created.\n",
      "done. Topogram has been updated. Check it at http://localhost:3000/topograms/Kem5YnpjhSMhZzutr\n",
      "Creating topogram 'Margaret Dygas/BETA_0.4  \n",
      "Distance totale parcourue par l'artiste: 182571.903437 km  \n",
      "Distance calculee par Concorde: 172908.061941 km  \n",
      "Pourcentage d'optimisation global calcule:529.317015077 %  \n",
      "MARGE D'OPTIMISATION IMPORTANTE'\n"
     ]
    },
    {
     "name": "stderr",
     "output_type": "stream",
     "text": [
      "ERROR:topogram-client:500 - Error : A topogram with the same name already exists\n"
     ]
    },
    {
     "name": "stdout",
     "output_type": "stream",
     "text": [
      "{u'status': u'success', 'status_code': 200, u'data': u'KZqpPEbFvKg6Y2aYP', u'statusCode': 201}\n",
      "Creating topogram 'Margaret Dygas/BETA_0.4  \n",
      "Distance totale parcourue par l'artiste: 182571.903437 km  \n",
      "Distance calculee par Concorde: 172908.061941 km  \n",
      "Pourcentage d'optimisation global calcule:529.317015077 %  \n",
      "MARGE D'OPTIMISATION IMPORTANTE'\n",
      "> Topogram already exists\n",
      "{u'status': u'success', 'status_code': 200, u'data': {u'sharedPublic': False, u'title': u\"Margaret Dygas/BETA_0.4  \\nDistance totale parcourue par l'artiste: 182571.903437 km  \\nDistance calculee par Concorde: 172908.061941 km  \\nPourcentage d'optimisation global calcule:529.317015077 %  \\nMARGE D'OPTIMISATION IMPORTANTE\", u'userId': u'BxRn4kp4WFL92jW8g', u'_id': u'KZqpPEbFvKg6Y2aYP', u'slug': u'margaret-dygasbeta_04-distance-totale-parcourue-par-lartiste-182571903437-km-distance-calculee-par-concorde-172908061941-km-pourcentage-doptimisation-global-calcule529317015077-marge-doptimisation-importante', u'createdAt': u'2018-05-24T15:17:37.672Z'}, u'statusCode': 200}\n",
      "topogram ID : KZqpPEbFvKg6Y2aYP\n"
     ]
    },
    {
     "name": "stderr",
     "output_type": "stream",
     "text": [
      "ERROR:topogram-client:500 - Error : A topogram with the same name already exists\n"
     ]
    },
    {
     "name": "stdout",
     "output_type": "stream",
     "text": [
      "83 nodes created.\n",
      "113 edges created.\n",
      "done. Topogram has been updated. Check it at http://localhost:3000/topograms/KZqpPEbFvKg6Y2aYP\n",
      "Creating topogram 'Jimmy Thackery/BETA_0.4  \n",
      "Distance totale parcourue par l'artiste: 150584.225813 km  \n",
      "Distance calculee par Concorde: 136982.592067 km  \n",
      "Pourcentage d'optimisation global calcule:903.257540601 %  \n",
      "MARGE D'OPTIMISATION IMPORTANTE'\n",
      "{u'status': u'success', 'status_code': 200, u'data': u'F4P4kFw3iAmLgQLpj', u'statusCode': 201}\n",
      "Creating topogram 'Jimmy Thackery/BETA_0.4  \n",
      "Distance totale parcourue par l'artiste: 150584.225813 km  \n",
      "Distance calculee par Concorde: 136982.592067 km  \n",
      "Pourcentage d'optimisation global calcule:903.257540601 %  \n",
      "MARGE D'OPTIMISATION IMPORTANTE'\n",
      "> Topogram already exists\n",
      "{u'status': u'success', 'status_code': 200, u'data': {u'sharedPublic': False, u'title': u\"Jimmy Thackery/BETA_0.4  \\nDistance totale parcourue par l'artiste: 150584.225813 km  \\nDistance calculee par Concorde: 136982.592067 km  \\nPourcentage d'optimisation global calcule:903.257540601 %  \\nMARGE D'OPTIMISATION IMPORTANTE\", u'userId': u'BxRn4kp4WFL92jW8g', u'_id': u'F4P4kFw3iAmLgQLpj', u'slug': u'jimmy-thackerybeta_04-distance-totale-parcourue-par-lartiste-150584225813-km-distance-calculee-par-concorde-136982592067-km-pourcentage-doptimisation-global-calcule903257540601-marge-doptimisation-importante', u'createdAt': u'2018-05-24T15:17:38.245Z'}, u'statusCode': 200}\n",
      "topogram ID : F4P4kFw3iAmLgQLpj\n",
      "126 nodes created.\n",
      "208 edges created.\n",
      "done. Topogram has been updated. Check it at http://localhost:3000/topograms/F4P4kFw3iAmLgQLpj\n",
      "Creating topogram 'Flatbush Zombies Official/BETA_0.4  \n",
      "Distance totale parcourue par l'artiste: 157848.090335 km  \n",
      "Distance calculee par Concorde: 135378.869264 km  \n",
      "Pourcentage d'optimisation global calcule:1423.47120094 %  \n",
      "MARGE D'OPTIMISATION IMPORTANTE'\n",
      "{u'status': u'success', 'status_code': 200, u'data': u'yQGGXaqPB4aAvRkMY', u'statusCode': 201}\n",
      "Creating topogram 'Flatbush Zombies Official/BETA_0.4  \n",
      "Distance totale parcourue par l'artiste: 157848.090335 km  \n",
      "Distance calculee par Concorde: 135378.869264 km  \n",
      "Pourcentage d'optimisation global calcule:1423.47120094 %  \n",
      "MARGE D'OPTIMISATION IMPORTANTE'\n"
     ]
    },
    {
     "name": "stderr",
     "output_type": "stream",
     "text": [
      "ERROR:topogram-client:500 - Error : A topogram with the same name already exists\n"
     ]
    },
    {
     "name": "stdout",
     "output_type": "stream",
     "text": [
      "> Topogram already exists\n",
      "{u'status': u'success', 'status_code': 200, u'data': {u'sharedPublic': False, u'title': u\"Flatbush Zombies Official/BETA_0.4  \\nDistance totale parcourue par l'artiste: 157848.090335 km  \\nDistance calculee par Concorde: 135378.869264 km  \\nPourcentage d'optimisation global calcule:1423.47120094 %  \\nMARGE D'OPTIMISATION IMPORTANTE\", u'userId': u'BxRn4kp4WFL92jW8g', u'_id': u'yQGGXaqPB4aAvRkMY', u'slug': u'flatbush-zombies-officialbeta_04-distance-totale-parcourue-par-lartiste-157848090335-km-distance-calculee-par-concorde-135378869264-km-pourcentage-doptimisation-global-calcule142347120094-marge-doptimisation-importante', u'createdAt': u'2018-05-24T15:17:38.979Z'}, u'statusCode': 200}\n",
      "topogram ID : yQGGXaqPB4aAvRkMY\n",
      "155 nodes created.\n",
      "195 edges created.\n",
      "done. Topogram has been updated. Check it at http://localhost:3000/topograms/yQGGXaqPB4aAvRkMY\n",
      "Creating topogram 'Inner Circle/BETA_0.4  \n",
      "Distance totale parcourue par l'artiste: 77269.0581484 km  \n",
      "Distance calculee par Concorde: 82906.8688046 km  \n",
      "Pourcentage d'optimisation global calcule:-729.633671146 %  \n",
      "TOURNEE DEJA OPTIMISEE'\n",
      "{u'status': u'success', 'status_code': 200, u'data': u'QZsTfZAkgPtxriczT', u'statusCode': 201}\n",
      "Creating topogram 'Inner Circle/BETA_0.4  \n",
      "Distance totale parcourue par l'artiste: 77269.0581484 km  \n",
      "Distance calculee par Concorde: 82906.8688046 km  \n",
      "Pourcentage d'optimisation global calcule:-729.633671146 %  \n",
      "TOURNEE DEJA OPTIMISEE'\n"
     ]
    },
    {
     "name": "stderr",
     "output_type": "stream",
     "text": [
      "ERROR:topogram-client:500 - Error : A topogram with the same name already exists\n"
     ]
    },
    {
     "name": "stdout",
     "output_type": "stream",
     "text": [
      "> Topogram already exists\n",
      "{u'status': u'success', 'status_code': 200, u'data': {u'sharedPublic': False, u'title': u\"Inner Circle/BETA_0.4  \\nDistance totale parcourue par l'artiste: 77269.0581484 km  \\nDistance calculee par Concorde: 82906.8688046 km  \\nPourcentage d'optimisation global calcule:-729.633671146 %  \\nTOURNEE DEJA OPTIMISEE\", u'userId': u'BxRn4kp4WFL92jW8g', u'_id': u'QZsTfZAkgPtxriczT', u'slug': u'inner-circlebeta_04-distance-totale-parcourue-par-lartiste-772690581484-km-distance-calculee-par-concorde-829068688046-km-pourcentage-doptimisation-global-calcule-729633671146-tournee-deja-optimisee', u'createdAt': u'2018-05-24T15:17:39.782Z'}, u'statusCode': 200}\n",
      "topogram ID : QZsTfZAkgPtxriczT\n",
      "88 nodes created.\n"
     ]
    },
    {
     "ename": "KeyboardInterrupt",
     "evalue": "",
     "output_type": "error",
     "traceback": [
      "\u001b[0;31m---------------------------------------------------------------------------\u001b[0m",
      "\u001b[0;31mKeyboardInterrupt\u001b[0m                         Traceback (most recent call last)",
      "\u001b[0;32m<ipython-input-148-7cf5faaa2e14>\u001b[0m in \u001b[0;36m<module>\u001b[0;34m()\u001b[0m\n\u001b[1;32m     23\u001b[0m         \u001b[0;32mtry\u001b[0m\u001b[0;34m:\u001b[0m\u001b[0;34m\u001b[0m\u001b[0m\n\u001b[1;32m     24\u001b[0m             \u001b[0;31m#print\u001b[0m\u001b[0;34m\u001b[0m\u001b[0;34m\u001b[0m\u001b[0m\n\u001b[0;32m---> 25\u001b[0;31m             \u001b[0mcreate_topogram\u001b[0m\u001b[0;34m(\u001b[0m\u001b[0mtit\u001b[0m\u001b[0;34m,\u001b[0m \u001b[0mnodestop\u001b[0m\u001b[0;34m,\u001b[0m \u001b[0medgestop\u001b[0m\u001b[0;34m)\u001b[0m\u001b[0;34m\u001b[0m\u001b[0m\n\u001b[0m\u001b[1;32m     26\u001b[0m         \u001b[0;32mexcept\u001b[0m \u001b[0mTypeError\u001b[0m\u001b[0;34m:\u001b[0m\u001b[0;34m\u001b[0m\u001b[0m\n\u001b[1;32m     27\u001b[0m             \u001b[0;32mcontinue\u001b[0m\u001b[0;34m\u001b[0m\u001b[0m\n",
      "\u001b[0;32m<ipython-input-4-2d6e9028f27d>\u001b[0m in \u001b[0;36mcreate_topogram\u001b[0;34m(title, nodes, edges)\u001b[0m\n\u001b[1;32m     27\u001b[0m     \u001b[0;31m#print r\u001b[0m\u001b[0;34m\u001b[0m\u001b[0;34m\u001b[0m\u001b[0m\n\u001b[1;32m     28\u001b[0m     \u001b[0;32mprint\u001b[0m \u001b[0;34m\"%s nodes created.\"\u001b[0m\u001b[0;34m%\u001b[0m\u001b[0mlen\u001b[0m\u001b[0;34m(\u001b[0m\u001b[0mr\u001b[0m\u001b[0;34m[\u001b[0m\u001b[0;34m\"data\"\u001b[0m\u001b[0;34m]\u001b[0m\u001b[0;34m)\u001b[0m\u001b[0;34m\u001b[0m\u001b[0m\n\u001b[0;32m---> 29\u001b[0;31m     \u001b[0mr\u001b[0m \u001b[0;34m=\u001b[0m \u001b[0mtopogram\u001b[0m\u001b[0;34m.\u001b[0m\u001b[0mcreate_edges\u001b[0m\u001b[0;34m(\u001b[0m\u001b[0mtopogram_ID\u001b[0m\u001b[0;34m,\u001b[0m \u001b[0medges\u001b[0m\u001b[0;34m)\u001b[0m\u001b[0;34m\u001b[0m\u001b[0m\n\u001b[0m\u001b[1;32m     30\u001b[0m     \u001b[0;32mprint\u001b[0m \u001b[0;34m\"%s edges created.\"\u001b[0m\u001b[0;34m%\u001b[0m\u001b[0mlen\u001b[0m\u001b[0;34m(\u001b[0m\u001b[0mr\u001b[0m\u001b[0;34m[\u001b[0m\u001b[0;34m\"data\"\u001b[0m\u001b[0;34m]\u001b[0m\u001b[0;34m)\u001b[0m\u001b[0;34m\u001b[0m\u001b[0m\n\u001b[1;32m     31\u001b[0m \u001b[0;34m\u001b[0m\u001b[0m\n",
      "\u001b[0;32m/home/goonieb/anaconda2/lib/python2.7/site-packages/topogram_client/__init__.pyc\u001b[0m in \u001b[0;36mcreate_edges\u001b[0;34m(self, topogramId, edges)\u001b[0m\n\u001b[1;32m    184\u001b[0m         \u001b[0;34m\"\"\"POST Create a bunch of edges. Returns the created edges\"\"\"\u001b[0m\u001b[0;34m\u001b[0m\u001b[0m\n\u001b[1;32m    185\u001b[0m         \u001b[0;32massert\u001b[0m \u001b[0mtype\u001b[0m\u001b[0;34m(\u001b[0m\u001b[0medges\u001b[0m\u001b[0;34m)\u001b[0m \u001b[0;32mis\u001b[0m \u001b[0mlist\u001b[0m\u001b[0;34m\u001b[0m\u001b[0m\n\u001b[0;32m--> 186\u001b[0;31m         \u001b[0;32mreturn\u001b[0m \u001b[0mself\u001b[0m\u001b[0;34m.\u001b[0m\u001b[0mmake_request\u001b[0m\u001b[0;34m(\u001b[0m\u001b[0;34m\"POST\"\u001b[0m\u001b[0;34m,\u001b[0m \u001b[0;34m\"edges\"\u001b[0m\u001b[0;34m,\u001b[0m \u001b[0;34m{\u001b[0m \u001b[0;34m\"topogramId\"\u001b[0m \u001b[0;34m:\u001b[0m \u001b[0mtopogramId\u001b[0m\u001b[0;34m,\u001b[0m \u001b[0;34m\"edges\"\u001b[0m \u001b[0;34m:\u001b[0m \u001b[0medges\u001b[0m\u001b[0;34m}\u001b[0m\u001b[0;34m)\u001b[0m\u001b[0;34m\u001b[0m\u001b[0m\n\u001b[0m\u001b[1;32m    187\u001b[0m \u001b[0;34m\u001b[0m\u001b[0m\n\u001b[1;32m    188\u001b[0m \u001b[0;34m\u001b[0m\u001b[0m\n",
      "\u001b[0;32m/home/goonieb/anaconda2/lib/python2.7/site-packages/topogram_client/__init__.pyc\u001b[0m in \u001b[0;36mmake_request\u001b[0;34m(self, method, path, data)\u001b[0m\n\u001b[1;32m     42\u001b[0m \u001b[0;34m\u001b[0m\u001b[0m\n\u001b[1;32m     43\u001b[0m         \u001b[0;32mif\u001b[0m \u001b[0mmethod\u001b[0m \u001b[0;34m==\u001b[0m \u001b[0;34m\"POST\"\u001b[0m\u001b[0;34m:\u001b[0m\u001b[0;34m\u001b[0m\u001b[0m\n\u001b[0;32m---> 44\u001b[0;31m             \u001b[0mr\u001b[0m \u001b[0;34m=\u001b[0m \u001b[0mself\u001b[0m\u001b[0;34m.\u001b[0m\u001b[0msession\u001b[0m\u001b[0;34m.\u001b[0m\u001b[0mpost\u001b[0m\u001b[0;34m(\u001b[0m\u001b[0mreq_url\u001b[0m\u001b[0;34m,\u001b[0m \u001b[0mjson\u001b[0m\u001b[0;34m=\u001b[0m\u001b[0mdata\u001b[0m\u001b[0;34m)\u001b[0m\u001b[0;34m\u001b[0m\u001b[0m\n\u001b[0m\u001b[1;32m     45\u001b[0m         \u001b[0;32melif\u001b[0m \u001b[0mmethod\u001b[0m \u001b[0;34m==\u001b[0m \u001b[0;34m\"DELETE\"\u001b[0m\u001b[0;34m:\u001b[0m\u001b[0;34m\u001b[0m\u001b[0m\n\u001b[1;32m     46\u001b[0m             \u001b[0mr\u001b[0m \u001b[0;34m=\u001b[0m \u001b[0mself\u001b[0m\u001b[0;34m.\u001b[0m\u001b[0msession\u001b[0m\u001b[0;34m.\u001b[0m\u001b[0mdelete\u001b[0m\u001b[0;34m(\u001b[0m\u001b[0mreq_url\u001b[0m\u001b[0;34m,\u001b[0m \u001b[0mjson\u001b[0m\u001b[0;34m=\u001b[0m\u001b[0mdata\u001b[0m\u001b[0;34m)\u001b[0m\u001b[0;34m\u001b[0m\u001b[0m\n",
      "\u001b[0;32m/home/goonieb/anaconda2/lib/python2.7/site-packages/requests/sessions.pyc\u001b[0m in \u001b[0;36mpost\u001b[0;34m(self, url, data, json, **kwargs)\u001b[0m\n\u001b[1;32m    553\u001b[0m         \"\"\"\n\u001b[1;32m    554\u001b[0m \u001b[0;34m\u001b[0m\u001b[0m\n\u001b[0;32m--> 555\u001b[0;31m         \u001b[0;32mreturn\u001b[0m \u001b[0mself\u001b[0m\u001b[0;34m.\u001b[0m\u001b[0mrequest\u001b[0m\u001b[0;34m(\u001b[0m\u001b[0;34m'POST'\u001b[0m\u001b[0;34m,\u001b[0m \u001b[0murl\u001b[0m\u001b[0;34m,\u001b[0m \u001b[0mdata\u001b[0m\u001b[0;34m=\u001b[0m\u001b[0mdata\u001b[0m\u001b[0;34m,\u001b[0m \u001b[0mjson\u001b[0m\u001b[0;34m=\u001b[0m\u001b[0mjson\u001b[0m\u001b[0;34m,\u001b[0m \u001b[0;34m**\u001b[0m\u001b[0mkwargs\u001b[0m\u001b[0;34m)\u001b[0m\u001b[0;34m\u001b[0m\u001b[0m\n\u001b[0m\u001b[1;32m    556\u001b[0m \u001b[0;34m\u001b[0m\u001b[0m\n\u001b[1;32m    557\u001b[0m     \u001b[0;32mdef\u001b[0m \u001b[0mput\u001b[0m\u001b[0;34m(\u001b[0m\u001b[0mself\u001b[0m\u001b[0;34m,\u001b[0m \u001b[0murl\u001b[0m\u001b[0;34m,\u001b[0m \u001b[0mdata\u001b[0m\u001b[0;34m=\u001b[0m\u001b[0mNone\u001b[0m\u001b[0;34m,\u001b[0m \u001b[0;34m**\u001b[0m\u001b[0mkwargs\u001b[0m\u001b[0;34m)\u001b[0m\u001b[0;34m:\u001b[0m\u001b[0;34m\u001b[0m\u001b[0m\n",
      "\u001b[0;32m/home/goonieb/anaconda2/lib/python2.7/site-packages/requests/sessions.pyc\u001b[0m in \u001b[0;36mrequest\u001b[0;34m(self, method, url, params, data, headers, cookies, files, auth, timeout, allow_redirects, proxies, hooks, stream, verify, cert, json)\u001b[0m\n\u001b[1;32m    506\u001b[0m         }\n\u001b[1;32m    507\u001b[0m         \u001b[0msend_kwargs\u001b[0m\u001b[0;34m.\u001b[0m\u001b[0mupdate\u001b[0m\u001b[0;34m(\u001b[0m\u001b[0msettings\u001b[0m\u001b[0;34m)\u001b[0m\u001b[0;34m\u001b[0m\u001b[0m\n\u001b[0;32m--> 508\u001b[0;31m         \u001b[0mresp\u001b[0m \u001b[0;34m=\u001b[0m \u001b[0mself\u001b[0m\u001b[0;34m.\u001b[0m\u001b[0msend\u001b[0m\u001b[0;34m(\u001b[0m\u001b[0mprep\u001b[0m\u001b[0;34m,\u001b[0m \u001b[0;34m**\u001b[0m\u001b[0msend_kwargs\u001b[0m\u001b[0;34m)\u001b[0m\u001b[0;34m\u001b[0m\u001b[0m\n\u001b[0m\u001b[1;32m    509\u001b[0m \u001b[0;34m\u001b[0m\u001b[0m\n\u001b[1;32m    510\u001b[0m         \u001b[0;32mreturn\u001b[0m \u001b[0mresp\u001b[0m\u001b[0;34m\u001b[0m\u001b[0m\n",
      "\u001b[0;32m/home/goonieb/anaconda2/lib/python2.7/site-packages/requests/sessions.pyc\u001b[0m in \u001b[0;36msend\u001b[0;34m(self, request, **kwargs)\u001b[0m\n\u001b[1;32m    616\u001b[0m \u001b[0;34m\u001b[0m\u001b[0m\n\u001b[1;32m    617\u001b[0m         \u001b[0;31m# Send the request\u001b[0m\u001b[0;34m\u001b[0m\u001b[0;34m\u001b[0m\u001b[0m\n\u001b[0;32m--> 618\u001b[0;31m         \u001b[0mr\u001b[0m \u001b[0;34m=\u001b[0m \u001b[0madapter\u001b[0m\u001b[0;34m.\u001b[0m\u001b[0msend\u001b[0m\u001b[0;34m(\u001b[0m\u001b[0mrequest\u001b[0m\u001b[0;34m,\u001b[0m \u001b[0;34m**\u001b[0m\u001b[0mkwargs\u001b[0m\u001b[0;34m)\u001b[0m\u001b[0;34m\u001b[0m\u001b[0m\n\u001b[0m\u001b[1;32m    619\u001b[0m \u001b[0;34m\u001b[0m\u001b[0m\n\u001b[1;32m    620\u001b[0m         \u001b[0;31m# Total elapsed time of the request (approximately)\u001b[0m\u001b[0;34m\u001b[0m\u001b[0;34m\u001b[0m\u001b[0m\n",
      "\u001b[0;32m/home/goonieb/anaconda2/lib/python2.7/site-packages/requests/adapters.pyc\u001b[0m in \u001b[0;36msend\u001b[0;34m(self, request, stream, timeout, verify, cert, proxies)\u001b[0m\n\u001b[1;32m    438\u001b[0m                     \u001b[0mdecode_content\u001b[0m\u001b[0;34m=\u001b[0m\u001b[0mFalse\u001b[0m\u001b[0;34m,\u001b[0m\u001b[0;34m\u001b[0m\u001b[0m\n\u001b[1;32m    439\u001b[0m                     \u001b[0mretries\u001b[0m\u001b[0;34m=\u001b[0m\u001b[0mself\u001b[0m\u001b[0;34m.\u001b[0m\u001b[0mmax_retries\u001b[0m\u001b[0;34m,\u001b[0m\u001b[0;34m\u001b[0m\u001b[0m\n\u001b[0;32m--> 440\u001b[0;31m                     \u001b[0mtimeout\u001b[0m\u001b[0;34m=\u001b[0m\u001b[0mtimeout\u001b[0m\u001b[0;34m\u001b[0m\u001b[0m\n\u001b[0m\u001b[1;32m    441\u001b[0m                 )\n\u001b[1;32m    442\u001b[0m \u001b[0;34m\u001b[0m\u001b[0m\n",
      "\u001b[0;32m/home/goonieb/anaconda2/lib/python2.7/site-packages/urllib3/connectionpool.pyc\u001b[0m in \u001b[0;36murlopen\u001b[0;34m(self, method, url, body, headers, retries, redirect, assert_same_host, timeout, pool_timeout, release_conn, chunked, body_pos, **response_kw)\u001b[0m\n\u001b[1;32m    599\u001b[0m                                                   \u001b[0mtimeout\u001b[0m\u001b[0;34m=\u001b[0m\u001b[0mtimeout_obj\u001b[0m\u001b[0;34m,\u001b[0m\u001b[0;34m\u001b[0m\u001b[0m\n\u001b[1;32m    600\u001b[0m                                                   \u001b[0mbody\u001b[0m\u001b[0;34m=\u001b[0m\u001b[0mbody\u001b[0m\u001b[0;34m,\u001b[0m \u001b[0mheaders\u001b[0m\u001b[0;34m=\u001b[0m\u001b[0mheaders\u001b[0m\u001b[0;34m,\u001b[0m\u001b[0;34m\u001b[0m\u001b[0m\n\u001b[0;32m--> 601\u001b[0;31m                                                   chunked=chunked)\n\u001b[0m\u001b[1;32m    602\u001b[0m \u001b[0;34m\u001b[0m\u001b[0m\n\u001b[1;32m    603\u001b[0m             \u001b[0;31m# If we're going to release the connection in ``finally:``, then\u001b[0m\u001b[0;34m\u001b[0m\u001b[0;34m\u001b[0m\u001b[0m\n",
      "\u001b[0;32m/home/goonieb/anaconda2/lib/python2.7/site-packages/urllib3/connectionpool.pyc\u001b[0m in \u001b[0;36m_make_request\u001b[0;34m(self, conn, method, url, timeout, chunked, **httplib_request_kw)\u001b[0m\n\u001b[1;32m    378\u001b[0m         \u001b[0;32mtry\u001b[0m\u001b[0;34m:\u001b[0m\u001b[0;34m\u001b[0m\u001b[0m\n\u001b[1;32m    379\u001b[0m             \u001b[0;32mtry\u001b[0m\u001b[0;34m:\u001b[0m  \u001b[0;31m# Python 2.7, use buffering of HTTP responses\u001b[0m\u001b[0;34m\u001b[0m\u001b[0m\n\u001b[0;32m--> 380\u001b[0;31m                 \u001b[0mhttplib_response\u001b[0m \u001b[0;34m=\u001b[0m \u001b[0mconn\u001b[0m\u001b[0;34m.\u001b[0m\u001b[0mgetresponse\u001b[0m\u001b[0;34m(\u001b[0m\u001b[0mbuffering\u001b[0m\u001b[0;34m=\u001b[0m\u001b[0mTrue\u001b[0m\u001b[0;34m)\u001b[0m\u001b[0;34m\u001b[0m\u001b[0m\n\u001b[0m\u001b[1;32m    381\u001b[0m             \u001b[0;32mexcept\u001b[0m \u001b[0mTypeError\u001b[0m\u001b[0;34m:\u001b[0m  \u001b[0;31m# Python 2.6 and older, Python 3\u001b[0m\u001b[0;34m\u001b[0m\u001b[0m\n\u001b[1;32m    382\u001b[0m                 \u001b[0;32mtry\u001b[0m\u001b[0;34m:\u001b[0m\u001b[0;34m\u001b[0m\u001b[0m\n",
      "\u001b[0;32m/home/goonieb/anaconda2/lib/python2.7/httplib.pyc\u001b[0m in \u001b[0;36mgetresponse\u001b[0;34m(self, buffering)\u001b[0m\n\u001b[1;32m   1119\u001b[0m \u001b[0;34m\u001b[0m\u001b[0m\n\u001b[1;32m   1120\u001b[0m         \u001b[0;32mtry\u001b[0m\u001b[0;34m:\u001b[0m\u001b[0;34m\u001b[0m\u001b[0m\n\u001b[0;32m-> 1121\u001b[0;31m             \u001b[0mresponse\u001b[0m\u001b[0;34m.\u001b[0m\u001b[0mbegin\u001b[0m\u001b[0;34m(\u001b[0m\u001b[0;34m)\u001b[0m\u001b[0;34m\u001b[0m\u001b[0m\n\u001b[0m\u001b[1;32m   1122\u001b[0m             \u001b[0;32massert\u001b[0m \u001b[0mresponse\u001b[0m\u001b[0;34m.\u001b[0m\u001b[0mwill_close\u001b[0m \u001b[0;34m!=\u001b[0m \u001b[0m_UNKNOWN\u001b[0m\u001b[0;34m\u001b[0m\u001b[0m\n\u001b[1;32m   1123\u001b[0m             \u001b[0mself\u001b[0m\u001b[0;34m.\u001b[0m\u001b[0m__state\u001b[0m \u001b[0;34m=\u001b[0m \u001b[0m_CS_IDLE\u001b[0m\u001b[0;34m\u001b[0m\u001b[0m\n",
      "\u001b[0;32m/home/goonieb/anaconda2/lib/python2.7/httplib.pyc\u001b[0m in \u001b[0;36mbegin\u001b[0;34m(self)\u001b[0m\n\u001b[1;32m    436\u001b[0m         \u001b[0;31m# read until we get a non-100 response\u001b[0m\u001b[0;34m\u001b[0m\u001b[0;34m\u001b[0m\u001b[0m\n\u001b[1;32m    437\u001b[0m         \u001b[0;32mwhile\u001b[0m \u001b[0mTrue\u001b[0m\u001b[0;34m:\u001b[0m\u001b[0;34m\u001b[0m\u001b[0m\n\u001b[0;32m--> 438\u001b[0;31m             \u001b[0mversion\u001b[0m\u001b[0;34m,\u001b[0m \u001b[0mstatus\u001b[0m\u001b[0;34m,\u001b[0m \u001b[0mreason\u001b[0m \u001b[0;34m=\u001b[0m \u001b[0mself\u001b[0m\u001b[0;34m.\u001b[0m\u001b[0m_read_status\u001b[0m\u001b[0;34m(\u001b[0m\u001b[0;34m)\u001b[0m\u001b[0;34m\u001b[0m\u001b[0m\n\u001b[0m\u001b[1;32m    439\u001b[0m             \u001b[0;32mif\u001b[0m \u001b[0mstatus\u001b[0m \u001b[0;34m!=\u001b[0m \u001b[0mCONTINUE\u001b[0m\u001b[0;34m:\u001b[0m\u001b[0;34m\u001b[0m\u001b[0m\n\u001b[1;32m    440\u001b[0m                 \u001b[0;32mbreak\u001b[0m\u001b[0;34m\u001b[0m\u001b[0m\n",
      "\u001b[0;32m/home/goonieb/anaconda2/lib/python2.7/httplib.pyc\u001b[0m in \u001b[0;36m_read_status\u001b[0;34m(self)\u001b[0m\n\u001b[1;32m    392\u001b[0m     \u001b[0;32mdef\u001b[0m \u001b[0m_read_status\u001b[0m\u001b[0;34m(\u001b[0m\u001b[0mself\u001b[0m\u001b[0;34m)\u001b[0m\u001b[0;34m:\u001b[0m\u001b[0;34m\u001b[0m\u001b[0m\n\u001b[1;32m    393\u001b[0m         \u001b[0;31m# Initialize with Simple-Response defaults\u001b[0m\u001b[0;34m\u001b[0m\u001b[0;34m\u001b[0m\u001b[0m\n\u001b[0;32m--> 394\u001b[0;31m         \u001b[0mline\u001b[0m \u001b[0;34m=\u001b[0m \u001b[0mself\u001b[0m\u001b[0;34m.\u001b[0m\u001b[0mfp\u001b[0m\u001b[0;34m.\u001b[0m\u001b[0mreadline\u001b[0m\u001b[0;34m(\u001b[0m\u001b[0m_MAXLINE\u001b[0m \u001b[0;34m+\u001b[0m \u001b[0;36m1\u001b[0m\u001b[0;34m)\u001b[0m\u001b[0;34m\u001b[0m\u001b[0m\n\u001b[0m\u001b[1;32m    395\u001b[0m         \u001b[0;32mif\u001b[0m \u001b[0mlen\u001b[0m\u001b[0;34m(\u001b[0m\u001b[0mline\u001b[0m\u001b[0;34m)\u001b[0m \u001b[0;34m>\u001b[0m \u001b[0m_MAXLINE\u001b[0m\u001b[0;34m:\u001b[0m\u001b[0;34m\u001b[0m\u001b[0m\n\u001b[1;32m    396\u001b[0m             \u001b[0;32mraise\u001b[0m \u001b[0mLineTooLong\u001b[0m\u001b[0;34m(\u001b[0m\u001b[0;34m\"header line\"\u001b[0m\u001b[0;34m)\u001b[0m\u001b[0;34m\u001b[0m\u001b[0m\n",
      "\u001b[0;32m/home/goonieb/anaconda2/lib/python2.7/socket.pyc\u001b[0m in \u001b[0;36mreadline\u001b[0;34m(self, size)\u001b[0m\n\u001b[1;32m    478\u001b[0m             \u001b[0;32mwhile\u001b[0m \u001b[0mTrue\u001b[0m\u001b[0;34m:\u001b[0m\u001b[0;34m\u001b[0m\u001b[0m\n\u001b[1;32m    479\u001b[0m                 \u001b[0;32mtry\u001b[0m\u001b[0;34m:\u001b[0m\u001b[0;34m\u001b[0m\u001b[0m\n\u001b[0;32m--> 480\u001b[0;31m                     \u001b[0mdata\u001b[0m \u001b[0;34m=\u001b[0m \u001b[0mself\u001b[0m\u001b[0;34m.\u001b[0m\u001b[0m_sock\u001b[0m\u001b[0;34m.\u001b[0m\u001b[0mrecv\u001b[0m\u001b[0;34m(\u001b[0m\u001b[0mself\u001b[0m\u001b[0;34m.\u001b[0m\u001b[0m_rbufsize\u001b[0m\u001b[0;34m)\u001b[0m\u001b[0;34m\u001b[0m\u001b[0m\n\u001b[0m\u001b[1;32m    481\u001b[0m                 \u001b[0;32mexcept\u001b[0m \u001b[0merror\u001b[0m\u001b[0;34m,\u001b[0m \u001b[0me\u001b[0m\u001b[0;34m:\u001b[0m\u001b[0;34m\u001b[0m\u001b[0m\n\u001b[1;32m    482\u001b[0m                     \u001b[0;32mif\u001b[0m \u001b[0me\u001b[0m\u001b[0;34m.\u001b[0m\u001b[0margs\u001b[0m\u001b[0;34m[\u001b[0m\u001b[0;36m0\u001b[0m\u001b[0;34m]\u001b[0m \u001b[0;34m==\u001b[0m \u001b[0mEINTR\u001b[0m\u001b[0;34m:\u001b[0m\u001b[0;34m\u001b[0m\u001b[0m\n",
      "\u001b[0;31mKeyboardInterrupt\u001b[0m: "
     ]
    }
   ],
   "source": [
    "###IMPORT ALL THE BANDS GRAPHS\n",
    "\n",
    "nodestop=[]\n",
    "edgestop=[]\n",
    "tit=[]\n",
    "import glob, os\n",
    "\n",
    "print os.getcwd()\n",
    "\n",
    "for subdir, dirs, files in os.walk(savpath): \n",
    " for file in files:\n",
    "  if file.endswith('.obj') == True:  \n",
    "    with open(os.path.join(subdir, file), 'rb') as handle:\n",
    "          temp= pickle.load( handle)\n",
    "    #print \n",
    "    tit=temp[0].encode(\"utf-8\")\n",
    "    edgestop=temp[2]\n",
    "    nodestop=temp[1]\n",
    "    #print edgestop\n",
    "    #for edge in edgestop:\n",
    "    #    assert edge[\"data\n",
    "    while True:\n",
    "        try:\n",
    "            #print\n",
    "            create_topogram(tit, nodestop, edgestop)\n",
    "        except TypeError:\n",
    "            continue\n",
    "        break\n",
    "print 'DONE'\n",
    "        "
   ]
  },
  {
   "cell_type": "code",
   "execution_count": 50,
   "metadata": {
    "scrolled": true
   },
   "outputs": [
    {
     "name": "stderr",
     "output_type": "stream",
     "text": [
      "ERROR:topogram-client:500 - Error : A topogram with the same name already exists\n",
      "IOPub data rate exceeded.\n",
      "The notebook server will temporarily stop sending output\n",
      "to the client in order to avoid crashing it.\n",
      "To change this limit, set the config variable\n",
      "`--NotebookApp.iopub_data_rate_limit`.\n"
     ]
    },
    {
     "name": "stdout",
     "output_type": "stream",
     "text": [
      "5000 nodes deleted\n",
      "5000 nodes created.\n"
     ]
    },
    {
     "ename": "ValueError",
     "evalue": "No JSON object could be decoded",
     "output_type": "error",
     "traceback": [
      "\u001b[0;31m---------------------------------------------------------------------------\u001b[0m",
      "\u001b[0;31mValueError\u001b[0m                                Traceback (most recent call last)",
      "\u001b[0;32m<ipython-input-50-19a8f878a201>\u001b[0m in \u001b[0;36m<module>\u001b[0;34m()\u001b[0m\n\u001b[1;32m     22\u001b[0m         \u001b[0;32mtry\u001b[0m\u001b[0;34m:\u001b[0m\u001b[0;34m\u001b[0m\u001b[0m\n\u001b[1;32m     23\u001b[0m             \u001b[0;32mprint\u001b[0m \u001b[0mnodestopo\u001b[0m\u001b[0;34m\u001b[0m\u001b[0m\n\u001b[0;32m---> 24\u001b[0;31m             \u001b[0mcreate_topogram\u001b[0m\u001b[0;34m(\u001b[0m\u001b[0mtitle\u001b[0m\u001b[0;34m,\u001b[0m \u001b[0mnodestopo\u001b[0m\u001b[0;34m,\u001b[0m \u001b[0medgestopo\u001b[0m\u001b[0;34m)\u001b[0m\u001b[0;34m\u001b[0m\u001b[0m\n\u001b[0m\u001b[1;32m     25\u001b[0m \u001b[0;34m\u001b[0m\u001b[0m\n\u001b[1;32m     26\u001b[0m         \u001b[0;32mexcept\u001b[0m \u001b[0mTypeError\u001b[0m\u001b[0;34m:\u001b[0m\u001b[0;34m\u001b[0m\u001b[0m\n",
      "\u001b[0;32m<ipython-input-3-2d6e9028f27d>\u001b[0m in \u001b[0;36mcreate_topogram\u001b[0;34m(title, nodes, edges)\u001b[0m\n\u001b[1;32m     27\u001b[0m     \u001b[0;31m#print r\u001b[0m\u001b[0;34m\u001b[0m\u001b[0;34m\u001b[0m\u001b[0m\n\u001b[1;32m     28\u001b[0m     \u001b[0;32mprint\u001b[0m \u001b[0;34m\"%s nodes created.\"\u001b[0m\u001b[0;34m%\u001b[0m\u001b[0mlen\u001b[0m\u001b[0;34m(\u001b[0m\u001b[0mr\u001b[0m\u001b[0;34m[\u001b[0m\u001b[0;34m\"data\"\u001b[0m\u001b[0;34m]\u001b[0m\u001b[0;34m)\u001b[0m\u001b[0;34m\u001b[0m\u001b[0m\n\u001b[0;32m---> 29\u001b[0;31m     \u001b[0mr\u001b[0m \u001b[0;34m=\u001b[0m \u001b[0mtopogram\u001b[0m\u001b[0;34m.\u001b[0m\u001b[0mcreate_edges\u001b[0m\u001b[0;34m(\u001b[0m\u001b[0mtopogram_ID\u001b[0m\u001b[0;34m,\u001b[0m \u001b[0medges\u001b[0m\u001b[0;34m)\u001b[0m\u001b[0;34m\u001b[0m\u001b[0m\n\u001b[0m\u001b[1;32m     30\u001b[0m     \u001b[0;32mprint\u001b[0m \u001b[0;34m\"%s edges created.\"\u001b[0m\u001b[0;34m%\u001b[0m\u001b[0mlen\u001b[0m\u001b[0;34m(\u001b[0m\u001b[0mr\u001b[0m\u001b[0;34m[\u001b[0m\u001b[0;34m\"data\"\u001b[0m\u001b[0;34m]\u001b[0m\u001b[0;34m)\u001b[0m\u001b[0;34m\u001b[0m\u001b[0m\n\u001b[1;32m     31\u001b[0m \u001b[0;34m\u001b[0m\u001b[0m\n",
      "\u001b[0;32m/home/goonieb/anaconda2/lib/python2.7/site-packages/topogram_client/__init__.pyc\u001b[0m in \u001b[0;36mcreate_edges\u001b[0;34m(self, topogramId, edges)\u001b[0m\n\u001b[1;32m    184\u001b[0m         \u001b[0;34m\"\"\"POST Create a bunch of edges. Returns the created edges\"\"\"\u001b[0m\u001b[0;34m\u001b[0m\u001b[0m\n\u001b[1;32m    185\u001b[0m         \u001b[0;32massert\u001b[0m \u001b[0mtype\u001b[0m\u001b[0;34m(\u001b[0m\u001b[0medges\u001b[0m\u001b[0;34m)\u001b[0m \u001b[0;32mis\u001b[0m \u001b[0mlist\u001b[0m\u001b[0;34m\u001b[0m\u001b[0m\n\u001b[0;32m--> 186\u001b[0;31m         \u001b[0;32mreturn\u001b[0m \u001b[0mself\u001b[0m\u001b[0;34m.\u001b[0m\u001b[0mmake_request\u001b[0m\u001b[0;34m(\u001b[0m\u001b[0;34m\"POST\"\u001b[0m\u001b[0;34m,\u001b[0m \u001b[0;34m\"edges\"\u001b[0m\u001b[0;34m,\u001b[0m \u001b[0;34m{\u001b[0m \u001b[0;34m\"topogramId\"\u001b[0m \u001b[0;34m:\u001b[0m \u001b[0mtopogramId\u001b[0m\u001b[0;34m,\u001b[0m \u001b[0;34m\"edges\"\u001b[0m \u001b[0;34m:\u001b[0m \u001b[0medges\u001b[0m\u001b[0;34m}\u001b[0m\u001b[0;34m)\u001b[0m\u001b[0;34m\u001b[0m\u001b[0m\n\u001b[0m\u001b[1;32m    187\u001b[0m \u001b[0;34m\u001b[0m\u001b[0m\n\u001b[1;32m    188\u001b[0m \u001b[0;34m\u001b[0m\u001b[0m\n",
      "\u001b[0;32m/home/goonieb/anaconda2/lib/python2.7/site-packages/topogram_client/__init__.pyc\u001b[0m in \u001b[0;36mmake_request\u001b[0;34m(self, method, path, data)\u001b[0m\n\u001b[1;32m     55\u001b[0m \u001b[0;34m\u001b[0m\u001b[0m\n\u001b[1;32m     56\u001b[0m         \u001b[0;32mif\u001b[0m \u001b[0mr\u001b[0m\u001b[0;34m.\u001b[0m\u001b[0mstatus_code\u001b[0m \u001b[0;34m>=\u001b[0m \u001b[0;36m500\u001b[0m \u001b[0;34m:\u001b[0m \u001b[0;31m# handle 403 error\u001b[0m\u001b[0;34m\u001b[0m\u001b[0m\n\u001b[0;32m---> 57\u001b[0;31m             \u001b[0merr\u001b[0m \u001b[0;34m=\u001b[0m \u001b[0;34m\"%s - Error : %s\"\u001b[0m\u001b[0;34m%\u001b[0m\u001b[0;34m(\u001b[0m\u001b[0mr\u001b[0m\u001b[0;34m.\u001b[0m\u001b[0mstatus_code\u001b[0m\u001b[0;34m,\u001b[0m \u001b[0mr\u001b[0m\u001b[0;34m.\u001b[0m\u001b[0mjson\u001b[0m\u001b[0;34m(\u001b[0m\u001b[0;34m)\u001b[0m\u001b[0;34m[\u001b[0m\u001b[0;34m\"message\"\u001b[0m\u001b[0;34m]\u001b[0m\u001b[0;34m)\u001b[0m\u001b[0;34m\u001b[0m\u001b[0m\n\u001b[0m\u001b[1;32m     58\u001b[0m             \u001b[0mlog\u001b[0m\u001b[0;34m.\u001b[0m\u001b[0merror\u001b[0m\u001b[0;34m(\u001b[0m\u001b[0merr\u001b[0m\u001b[0;34m)\u001b[0m\u001b[0;34m\u001b[0m\u001b[0m\n\u001b[1;32m     59\u001b[0m             \u001b[0;32mraise\u001b[0m \u001b[0mValueError\u001b[0m\u001b[0;34m(\u001b[0m\u001b[0merr\u001b[0m\u001b[0;34m)\u001b[0m\u001b[0;34m\u001b[0m\u001b[0m\n",
      "\u001b[0;32m/home/goonieb/anaconda2/lib/python2.7/site-packages/requests/models.pyc\u001b[0m in \u001b[0;36mjson\u001b[0;34m(self, **kwargs)\u001b[0m\n\u001b[1;32m    890\u001b[0m                     \u001b[0;31m# used.\u001b[0m\u001b[0;34m\u001b[0m\u001b[0;34m\u001b[0m\u001b[0m\n\u001b[1;32m    891\u001b[0m                     \u001b[0;32mpass\u001b[0m\u001b[0;34m\u001b[0m\u001b[0m\n\u001b[0;32m--> 892\u001b[0;31m         \u001b[0;32mreturn\u001b[0m \u001b[0mcomplexjson\u001b[0m\u001b[0;34m.\u001b[0m\u001b[0mloads\u001b[0m\u001b[0;34m(\u001b[0m\u001b[0mself\u001b[0m\u001b[0;34m.\u001b[0m\u001b[0mtext\u001b[0m\u001b[0;34m,\u001b[0m \u001b[0;34m**\u001b[0m\u001b[0mkwargs\u001b[0m\u001b[0;34m)\u001b[0m\u001b[0;34m\u001b[0m\u001b[0m\n\u001b[0m\u001b[1;32m    893\u001b[0m \u001b[0;34m\u001b[0m\u001b[0m\n\u001b[1;32m    894\u001b[0m     \u001b[0;34m@\u001b[0m\u001b[0mproperty\u001b[0m\u001b[0;34m\u001b[0m\u001b[0m\n",
      "\u001b[0;32m/home/goonieb/anaconda2/lib/python2.7/json/__init__.pyc\u001b[0m in \u001b[0;36mloads\u001b[0;34m(s, encoding, cls, object_hook, parse_float, parse_int, parse_constant, object_pairs_hook, **kw)\u001b[0m\n\u001b[1;32m    337\u001b[0m             \u001b[0mparse_int\u001b[0m \u001b[0;32mis\u001b[0m \u001b[0mNone\u001b[0m \u001b[0;32mand\u001b[0m \u001b[0mparse_float\u001b[0m \u001b[0;32mis\u001b[0m \u001b[0mNone\u001b[0m \u001b[0;32mand\u001b[0m\u001b[0;34m\u001b[0m\u001b[0m\n\u001b[1;32m    338\u001b[0m             parse_constant is None and object_pairs_hook is None and not kw):\n\u001b[0;32m--> 339\u001b[0;31m         \u001b[0;32mreturn\u001b[0m \u001b[0m_default_decoder\u001b[0m\u001b[0;34m.\u001b[0m\u001b[0mdecode\u001b[0m\u001b[0;34m(\u001b[0m\u001b[0ms\u001b[0m\u001b[0;34m)\u001b[0m\u001b[0;34m\u001b[0m\u001b[0m\n\u001b[0m\u001b[1;32m    340\u001b[0m     \u001b[0;32mif\u001b[0m \u001b[0mcls\u001b[0m \u001b[0;32mis\u001b[0m \u001b[0mNone\u001b[0m\u001b[0;34m:\u001b[0m\u001b[0;34m\u001b[0m\u001b[0m\n\u001b[1;32m    341\u001b[0m         \u001b[0mcls\u001b[0m \u001b[0;34m=\u001b[0m \u001b[0mJSONDecoder\u001b[0m\u001b[0;34m\u001b[0m\u001b[0m\n",
      "\u001b[0;32m/home/goonieb/anaconda2/lib/python2.7/json/decoder.pyc\u001b[0m in \u001b[0;36mdecode\u001b[0;34m(self, s, _w)\u001b[0m\n\u001b[1;32m    362\u001b[0m \u001b[0;34m\u001b[0m\u001b[0m\n\u001b[1;32m    363\u001b[0m         \"\"\"\n\u001b[0;32m--> 364\u001b[0;31m         \u001b[0mobj\u001b[0m\u001b[0;34m,\u001b[0m \u001b[0mend\u001b[0m \u001b[0;34m=\u001b[0m \u001b[0mself\u001b[0m\u001b[0;34m.\u001b[0m\u001b[0mraw_decode\u001b[0m\u001b[0;34m(\u001b[0m\u001b[0ms\u001b[0m\u001b[0;34m,\u001b[0m \u001b[0midx\u001b[0m\u001b[0;34m=\u001b[0m\u001b[0m_w\u001b[0m\u001b[0;34m(\u001b[0m\u001b[0ms\u001b[0m\u001b[0;34m,\u001b[0m \u001b[0;36m0\u001b[0m\u001b[0;34m)\u001b[0m\u001b[0;34m.\u001b[0m\u001b[0mend\u001b[0m\u001b[0;34m(\u001b[0m\u001b[0;34m)\u001b[0m\u001b[0;34m)\u001b[0m\u001b[0;34m\u001b[0m\u001b[0m\n\u001b[0m\u001b[1;32m    365\u001b[0m         \u001b[0mend\u001b[0m \u001b[0;34m=\u001b[0m \u001b[0m_w\u001b[0m\u001b[0;34m(\u001b[0m\u001b[0ms\u001b[0m\u001b[0;34m,\u001b[0m \u001b[0mend\u001b[0m\u001b[0;34m)\u001b[0m\u001b[0;34m.\u001b[0m\u001b[0mend\u001b[0m\u001b[0;34m(\u001b[0m\u001b[0;34m)\u001b[0m\u001b[0;34m\u001b[0m\u001b[0m\n\u001b[1;32m    366\u001b[0m         \u001b[0;32mif\u001b[0m \u001b[0mend\u001b[0m \u001b[0;34m!=\u001b[0m \u001b[0mlen\u001b[0m\u001b[0;34m(\u001b[0m\u001b[0ms\u001b[0m\u001b[0;34m)\u001b[0m\u001b[0;34m:\u001b[0m\u001b[0;34m\u001b[0m\u001b[0m\n",
      "\u001b[0;32m/home/goonieb/anaconda2/lib/python2.7/json/decoder.pyc\u001b[0m in \u001b[0;36mraw_decode\u001b[0;34m(self, s, idx)\u001b[0m\n\u001b[1;32m    380\u001b[0m             \u001b[0mobj\u001b[0m\u001b[0;34m,\u001b[0m \u001b[0mend\u001b[0m \u001b[0;34m=\u001b[0m \u001b[0mself\u001b[0m\u001b[0;34m.\u001b[0m\u001b[0mscan_once\u001b[0m\u001b[0;34m(\u001b[0m\u001b[0ms\u001b[0m\u001b[0;34m,\u001b[0m \u001b[0midx\u001b[0m\u001b[0;34m)\u001b[0m\u001b[0;34m\u001b[0m\u001b[0m\n\u001b[1;32m    381\u001b[0m         \u001b[0;32mexcept\u001b[0m \u001b[0mStopIteration\u001b[0m\u001b[0;34m:\u001b[0m\u001b[0;34m\u001b[0m\u001b[0m\n\u001b[0;32m--> 382\u001b[0;31m             \u001b[0;32mraise\u001b[0m \u001b[0mValueError\u001b[0m\u001b[0;34m(\u001b[0m\u001b[0;34m\"No JSON object could be decoded\"\u001b[0m\u001b[0;34m)\u001b[0m\u001b[0;34m\u001b[0m\u001b[0m\n\u001b[0m\u001b[1;32m    383\u001b[0m         \u001b[0;32mreturn\u001b[0m \u001b[0mobj\u001b[0m\u001b[0;34m,\u001b[0m \u001b[0mend\u001b[0m\u001b[0;34m\u001b[0m\u001b[0m\n",
      "\u001b[0;31mValueError\u001b[0m: No JSON object could be decoded"
     ]
    }
   ],
   "source": [
    "###IMPORT THE GLOBAL VENUE  GRAPH\n",
    "my_nodesdictList=[]\n",
    "nodestopo=[]\n",
    "edgestopo=[]\n",
    "with open(\"./my_nodesdictGLOBAL.obj\", 'rb') as handle:\n",
    "          my_nodesdictGLOBAL= pickle.load( handle)\n",
    "        \n",
    "for key, value in my_nodesdictGLOBAL.iteritems():\n",
    "            my_nodesdictGLOBAL[key][\"data\"].pop('count')\n",
    "        \n",
    "for key, value in my_nodesdictGLOBAL.iteritems():\n",
    "            my_nodesdictList.append(value)\n",
    "        \n",
    "nodestopo=sorted(my_nodesdictList, key= lambda (v) : v['data']['weight'], reverse=True)[:5000]\n",
    "print len(nodestopo)\n",
    "\n",
    "\n",
    "\n",
    "title=\"global venue graph /BETA 0.3\"\n",
    "\n",
    "while True:\n",
    "        try:\n",
    "            print nodestopo\n",
    "            create_topogram(title, nodestopo, edgestopo)\n",
    "        \n",
    "        except TypeError:\n",
    "            continue\n",
    "        break\n",
    "        "
   ]
  },
  {
   "cell_type": "code",
   "execution_count": null,
   "metadata": {
    "collapsed": true
   },
   "outputs": [],
   "source": []
  }
 ],
 "metadata": {
  "kernelspec": {
   "display_name": "Python 2",
   "language": "python",
   "name": "python2"
  },
  "language_info": {
   "codemirror_mode": {
    "name": "ipython",
    "version": 2
   },
   "file_extension": ".py",
   "mimetype": "text/x-python",
   "name": "python",
   "nbconvert_exporter": "python",
   "pygments_lexer": "ipython2",
   "version": "2.7.14"
  }
 },
 "nbformat": 4,
 "nbformat_minor": 2
}
